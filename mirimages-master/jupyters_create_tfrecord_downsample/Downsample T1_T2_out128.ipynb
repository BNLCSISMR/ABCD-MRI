{
 "cells": [
  {
   "cell_type": "code",
   "execution_count": 1,
   "metadata": {
    "papermill": {
     "duration": 24.065711,
     "end_time": "2019-11-11T08:55:25.116355",
     "exception": false,
     "start_time": "2019-11-11T08:55:01.050644",
     "status": "completed"
    },
    "tags": []
   },
   "outputs": [],
   "source": [
    "import tensorflow as tf"
   ]
  },
  {
   "cell_type": "code",
   "execution_count": 2,
   "metadata": {
    "papermill": {
     "duration": 8.127957,
     "end_time": "2019-11-11T08:55:33.256946",
     "exception": false,
     "start_time": "2019-11-11T08:55:25.128989",
     "status": "completed"
    },
    "tags": []
   },
   "outputs": [
    {
     "name": "stderr",
     "output_type": "stream",
     "text": [
      "/home/benedikt_d_schifferer/.local/lib/python3.6/site-packages/sklearn/externals/joblib/__init__.py:15: DeprecationWarning: sklearn.externals.joblib is deprecated in 0.21 and will be removed in 0.23. Please import this functionality directly from joblib, which can be installed with: pip install joblib. If this warning is raised when loading pickled models, you may need to re-serialize those models with scikit-learn 0.21+.\n",
      "  warnings.warn(msg, category=DeprecationWarning)\n"
     ]
    }
   ],
   "source": [
    "import nibabel as nib\n",
    "import numpy as np\n",
    "import glob\n",
    "\n",
    "import os\n",
    "from tqdm.auto import tqdm\n",
    "\n",
    "from nilearn import plotting\n",
    "import nilearn\n",
    "\n",
    "import matplotlib.pyplot as plt\n",
    "%matplotlib inline"
   ]
  },
  {
   "cell_type": "code",
   "execution_count": 3,
   "metadata": {
    "papermill": {
     "duration": 0.017826,
     "end_time": "2019-11-11T08:55:33.287160",
     "exception": false,
     "start_time": "2019-11-11T08:55:33.269334",
     "status": "completed"
    },
    "tags": []
   },
   "outputs": [],
   "source": [
    "path = './data_T1_T2_201909/'\n",
    "path = './data_DTI_tensor/'"
   ]
  },
  {
   "cell_type": "code",
   "execution_count": 4,
   "metadata": {
    "papermill": {
     "duration": 2.656408,
     "end_time": "2019-11-11T08:55:35.954820",
     "exception": false,
     "start_time": "2019-11-11T08:55:33.298412",
     "status": "completed"
    },
    "tags": []
   },
   "outputs": [],
   "source": [
    "all_files = glob.glob(path + '*.gz')\n",
    "all_files = sorted(all_files)"
   ]
  },
  {
   "cell_type": "code",
   "execution_count": 5,
   "metadata": {
    "papermill": {
     "duration": 0.122308,
     "end_time": "2019-11-11T08:55:36.089272",
     "exception": false,
     "start_time": "2019-11-11T08:55:35.966964",
     "status": "completed"
    },
    "tags": []
   },
   "outputs": [
    {
     "data": {
      "text/plain": [
       "[]"
      ]
     },
     "metadata": {},
     "output_type": "display_data"
    },
    {
     "data": {
      "text/plain": [
       "[]"
      ]
     },
     "metadata": {},
     "output_type": "display_data"
    }
   ],
   "source": [
    "all_t1_files = [i for i in all_files if i.split('/')[-1].split('.')[-3].split('_')[-1] == 'T1']\n",
    "all_t2_files = [i for i in all_files if i.split('/')[-1].split('.')[-3].split('_')[-1] == 'T2']\n",
    "\n",
    "display(all_t1_files[:2])\n",
    "display(all_t2_files[:2])"
   ]
  },
  {
   "cell_type": "code",
   "execution_count": 6,
   "metadata": {
    "papermill": {
     "duration": 0.169637,
     "end_time": "2019-11-11T08:55:36.271669",
     "exception": false,
     "start_time": "2019-11-11T08:55:36.102032",
     "status": "completed"
    },
    "tags": []
   },
   "outputs": [],
   "source": [
    "all_defusion_files = glob.glob(path + '*[AD,FD,MA,RD].nii*')"
   ]
  },
  {
   "cell_type": "code",
   "execution_count": 7,
   "metadata": {
    "papermill": {
     "duration": 0.020236,
     "end_time": "2019-11-11T08:55:36.304833",
     "exception": false,
     "start_time": "2019-11-11T08:55:36.284597",
     "status": "completed"
    },
    "tags": []
   },
   "outputs": [],
   "source": [
    "def log_to_textfile(filename, text):\n",
    "    \"\"\"\n",
    "    Function log_to_textfile\n",
    "    \n",
    "    Appends a text to a file (logs)\n",
    "    \n",
    "    Args:\n",
    "        filename (str): Filename of logfile\n",
    "        text (str): New information to log (append)\n",
    "    \n",
    "    Return:\n",
    "    \n",
    "    \"\"\"\n",
    "    print(text)\n",
    "    f = open(filename, \"a\")\n",
    "    f.write(text + '\\n')\n",
    "    f.close()"
   ]
  },
  {
   "cell_type": "code",
   "execution_count": 8,
   "metadata": {
    "papermill": {
     "duration": 0.027709,
     "end_time": "2019-11-11T08:55:36.345266",
     "exception": false,
     "start_time": "2019-11-11T08:55:36.317557",
     "status": "completed"
    },
    "tags": []
   },
   "outputs": [],
   "source": [
    "import os\n",
    "\n",
    "def resample(file_list, path_to_save, logfile, factor = 4.1):\n",
    "  \"\"\"\n",
    "    Function to resample images to 64x64x64 and save it in the path\n",
    "    \n",
    "  \"\"\"\n",
    "  counter = 0\n",
    "  # Checking if the directory doesn't exist then make one\n",
    "  if not os.path.exists(path_to_save):\n",
    "    os.makedirs(path_to_save)\n",
    "  \n",
    "  for file in tqdm(file_list):\n",
    "    counter = counter + 1\n",
    "    if counter % 100 == 0:\n",
    "      log_to_textfile(logfile, str(counter) + ' processed')\n",
    "    if os.stat(file).st_size == 0:\n",
    "      log_to_textfile(logfile, file + ' is empty')\n",
    "    else:\n",
    "      file_new_path = path_to_save + file.split('/')[-1]\n",
    "      log_to_textfile(logfile, file)\n",
    "      if not(os.path.exists(file_new_path)):\n",
    "        try:\n",
    "          org = nib.load(file)\n",
    "          if org.shape==(190,190,190):\n",
    "            re = nilearn.image.resample_img(org, target_affine=np.eye(3)*factor, interpolation='continuous')\n",
    "            # If the scaling dimensions are slightly off - to compensate \n",
    "            if re.shape == (127,127,127):\n",
    "              re = nilearn.image.resample_img(org, target_affine=np.eye(3)*factor-0.1, interpolation='continuous')\n",
    "            elif re.shape == (129,129,129):\n",
    "              re = nilearn.image.resample_img(org, target_affine=np.eye(3)*factor+0.05, interpolation='continuous')\n",
    "\n",
    "            # Asserting once again the shape is right\n",
    "            #display(file, org.shape, re.shape)\n",
    "            assert re.shape==(128,128,128)\n",
    "            file_new_path = path_to_save + file.split('/')[-1]\n",
    "            nib.save(img=re,filename=file_new_path)\n",
    "          else:\n",
    "            log_to_textfile(logfile, str(org.shape))\n",
    "        except EOFError as error:\n",
    "          log_to_textfile(logfile, str(error))\n",
    "    \n",
    "    \n",
    "# For T1\n",
    "#path_to_save = \"./data_T1_lowerres/\"\n",
    "#resample(file_list=all_t1_files, path_to_save=path_to_save, logfile='T1.log')\n",
    "\n",
    "# For T2\n",
    "#path_to_save = \"./data_T2_lowerres/\"\n",
    "#resample(file_list=all_t2_files, path_to_save=path_to_save, logfile='T2.log')"
   ]
  },
  {
   "cell_type": "code",
   "execution_count": 9,
   "metadata": {
    "papermill": {
     "duration": 81437.085271,
     "end_time": "2019-11-12T07:32:53.443232",
     "exception": true,
     "start_time": "2019-11-11T08:55:36.357961",
     "status": "failed"
    },
    "tags": []
   },
   "outputs": [
    {
     "data": {
      "application/vnd.jupyter.widget-view+json": {
       "model_id": "39397b04ab6a409eb789a448a96eb9a9",
       "version_major": 2,
       "version_minor": 0
      },
      "text/plain": [
       "HBox(children=(IntProgress(value=0, max=42552), HTML(value='')))"
      ]
     },
     "metadata": {},
     "output_type": "display_data"
    },
    {
     "name": "stdout",
     "output_type": "stream",
     "text": [
      "./data_DTI_tensor/sub-NDARINVAED2T8J0_DTI_tensor_mr_DTI_AD.nii.gz\n",
      "./data_DTI_tensor/sub-NDARINVR268FVXE_DTI_tensor_mr_DTI_FA.nii.gz\n",
      "./data_DTI_tensor/sub-NDARINV8F2LUFUR_DTI_tensor_mr_DTI_RD.nii.gz\n",
      "./data_DTI_tensor/sub-NDARINVJH22CRH8_DTI_tensor_mr_DTI_FA.nii.gz\n",
      "./data_DTI_tensor/sub-NDARINV2JRRX50R_DTI_tensor_mr_DTI_RD.nii.gz\n",
      "./data_DTI_tensor/sub-NDARINVLZUEMGGJ_DTI_tensor_mr_DTI_MD.nii.gz\n"
     ]
    },
    {
     "name": "stdout",
     "output_type": "stream",
     "text": [
      "./data_DTI_tensor/sub-NDARINV1K1285TU_DTI_tensor_mr_DTI_AD.nii.gz\n"
     ]
    },
    {
     "name": "stdout",
     "output_type": "stream",
     "text": [
      "./data_DTI_tensor/sub-NDARINVE2887AGF_DTI_tensor_mr_DTI_MD.nii.gz\n"
     ]
    },
    {
     "name": "stderr",
     "output_type": "stream",
     "text": [
      "/home/benedikt_d_schifferer/.local/lib/python3.6/site-packages/nilearn/image/resampling.py:543: RuntimeWarning: NaNs or infinite values are present in the data passed to resample. This is a bad thing as they make resampling ill-defined and much slower.\n",
      "  fill_value=fill_value)\n"
     ]
    },
    {
     "name": "stdout",
     "output_type": "stream",
     "text": [
      "./data_DTI_tensor/sub-NDARINVHYGVPZZX_DTI_tensor_mr_DTI_MD.nii.gz\n"
     ]
    },
    {
     "name": "stderr",
     "output_type": "stream",
     "text": [
      "/home/benedikt_d_schifferer/.local/lib/python3.6/site-packages/nilearn/image/resampling.py:543: RuntimeWarning: NaNs or infinite values are present in the data passed to resample. This is a bad thing as they make resampling ill-defined and much slower.\n",
      "  fill_value=fill_value)\n"
     ]
    },
    {
     "name": "stdout",
     "output_type": "stream",
     "text": [
      "./data_DTI_tensor/sub-NDARINVGV7AT23A_DTI_tensor_mr_DTI_FA.nii.gz\n"
     ]
    },
    {
     "name": "stderr",
     "output_type": "stream",
     "text": [
      "/home/benedikt_d_schifferer/.local/lib/python3.6/site-packages/nilearn/image/resampling.py:543: RuntimeWarning: NaNs or infinite values are present in the data passed to resample. This is a bad thing as they make resampling ill-defined and much slower.\n",
      "  fill_value=fill_value)\n"
     ]
    },
    {
     "name": "stdout",
     "output_type": "stream",
     "text": [
      "./data_DTI_tensor/sub-NDARINV8720DP0M_DTI_tensor_mr_DTI_RD.nii.gz\n"
     ]
    },
    {
     "name": "stdout",
     "output_type": "stream",
     "text": [
      "./data_DTI_tensor/sub-NDARINVKFU5W0JJ_DTI_tensor_mr_DTI_FA.nii.gz\n"
     ]
    },
    {
     "name": "stderr",
     "output_type": "stream",
     "text": [
      "/home/benedikt_d_schifferer/.local/lib/python3.6/site-packages/nilearn/image/resampling.py:543: RuntimeWarning: NaNs or infinite values are present in the data passed to resample. This is a bad thing as they make resampling ill-defined and much slower.\n",
      "  fill_value=fill_value)\n"
     ]
    },
    {
     "name": "stdout",
     "output_type": "stream",
     "text": [
      "./data_DTI_tensor/sub-NDARINV73VBCJUJ_DTI_tensor_mr_DTI_RD.nii.gz\n"
     ]
    },
    {
     "name": "stdout",
     "output_type": "stream",
     "text": [
      "./data_DTI_tensor/sub-NDARINVN1VPLV83_DTI_tensor_mr_DTI_MD.nii.gz\n"
     ]
    },
    {
     "name": "stderr",
     "output_type": "stream",
     "text": [
      "/home/benedikt_d_schifferer/.local/lib/python3.6/site-packages/nilearn/image/resampling.py:543: RuntimeWarning: NaNs or infinite values are present in the data passed to resample. This is a bad thing as they make resampling ill-defined and much slower.\n",
      "  fill_value=fill_value)\n"
     ]
    },
    {
     "name": "stdout",
     "output_type": "stream",
     "text": [
      "./data_DTI_tensor/sub-NDARINVWRCZDDAY_DTI_tensor_mr_DTI_MD.nii.gz\n"
     ]
    },
    {
     "name": "stderr",
     "output_type": "stream",
     "text": [
      "/home/benedikt_d_schifferer/.local/lib/python3.6/site-packages/nilearn/image/resampling.py:543: RuntimeWarning: NaNs or infinite values are present in the data passed to resample. This is a bad thing as they make resampling ill-defined and much slower.\n",
      "  fill_value=fill_value)\n"
     ]
    },
    {
     "name": "stdout",
     "output_type": "stream",
     "text": [
      "./data_DTI_tensor/sub-NDARINVLRAEA45M_DTI_tensor_mr_DTI_MD.nii.gz\n"
     ]
    },
    {
     "name": "stderr",
     "output_type": "stream",
     "text": [
      "/home/benedikt_d_schifferer/.local/lib/python3.6/site-packages/nilearn/image/resampling.py:543: RuntimeWarning: NaNs or infinite values are present in the data passed to resample. This is a bad thing as they make resampling ill-defined and much slower.\n",
      "  fill_value=fill_value)\n"
     ]
    },
    {
     "name": "stdout",
     "output_type": "stream",
     "text": [
      "./data_DTI_tensor/sub-NDARINV84AEJJN9_DTI_tensor_mr_DTI_RD.nii.gz\n"
     ]
    },
    {
     "name": "stderr",
     "output_type": "stream",
     "text": [
      "/home/benedikt_d_schifferer/.local/lib/python3.6/site-packages/nilearn/image/resampling.py:543: RuntimeWarning: NaNs or infinite values are present in the data passed to resample. This is a bad thing as they make resampling ill-defined and much slower.\n",
      "  fill_value=fill_value)\n"
     ]
    },
    {
     "name": "stdout",
     "output_type": "stream",
     "text": [
      "./data_DTI_tensor/sub-NDARINV7YCFCH49_DTI_tensor_mr_DTI_RD.nii.gz\n"
     ]
    },
    {
     "name": "stdout",
     "output_type": "stream",
     "text": [
      "./data_DTI_tensor/sub-NDARINVMUJR2Y8Y_DTI_tensor_mr_DTI_MD.nii.gz\n"
     ]
    },
    {
     "name": "stdout",
     "output_type": "stream",
     "text": [
      "./data_DTI_tensor/sub-NDARINVHJDFAMYD_DTI_tensor_mr_DTI_FA.nii.gz\n"
     ]
    },
    {
     "name": "stdout",
     "output_type": "stream",
     "text": [
      "./data_DTI_tensor/sub-NDARINVWF7C1DEL_DTI_tensor_mr_DTI_AD.nii.gz\n"
     ]
    },
    {
     "name": "stderr",
     "output_type": "stream",
     "text": [
      "/home/benedikt_d_schifferer/.local/lib/python3.6/site-packages/nilearn/image/resampling.py:543: RuntimeWarning: NaNs or infinite values are present in the data passed to resample. This is a bad thing as they make resampling ill-defined and much slower.\n",
      "  fill_value=fill_value)\n"
     ]
    },
    {
     "name": "stdout",
     "output_type": "stream",
     "text": [
      "./data_DTI_tensor/sub-NDARINVPX0NC4FE_DTI_tensor_mr_DTI_FA.nii.gz\n"
     ]
    },
    {
     "name": "stdout",
     "output_type": "stream",
     "text": [
      "./data_DTI_tensor/sub-NDARINV0AZFZ65C_DTI_tensor_mr_DTI_RD.nii.gz\n"
     ]
    },
    {
     "name": "stderr",
     "output_type": "stream",
     "text": [
      "/home/benedikt_d_schifferer/.local/lib/python3.6/site-packages/nilearn/image/resampling.py:543: RuntimeWarning: NaNs or infinite values are present in the data passed to resample. This is a bad thing as they make resampling ill-defined and much slower.\n",
      "  fill_value=fill_value)\n"
     ]
    },
    {
     "name": "stdout",
     "output_type": "stream",
     "text": [
      "./data_DTI_tensor/sub-NDARINVBMKV8MN1_DTI_tensor_mr_DTI_MD.nii.gz\n"
     ]
    },
    {
     "name": "stderr",
     "output_type": "stream",
     "text": [
      "/home/benedikt_d_schifferer/.local/lib/python3.6/site-packages/nilearn/image/resampling.py:543: RuntimeWarning: NaNs or infinite values are present in the data passed to resample. This is a bad thing as they make resampling ill-defined and much slower.\n",
      "  fill_value=fill_value)\n"
     ]
    },
    {
     "name": "stdout",
     "output_type": "stream",
     "text": [
      "./data_DTI_tensor/sub-NDARINVRRUM0E9U_DTI_tensor_mr_DTI_AD.nii.gz\n"
     ]
    },
    {
     "name": "stderr",
     "output_type": "stream",
     "text": [
      "/home/benedikt_d_schifferer/.local/lib/python3.6/site-packages/nilearn/image/resampling.py:543: RuntimeWarning: NaNs or infinite values are present in the data passed to resample. This is a bad thing as they make resampling ill-defined and much slower.\n",
      "  fill_value=fill_value)\n"
     ]
    },
    {
     "name": "stdout",
     "output_type": "stream",
     "text": [
      "./data_DTI_tensor/sub-NDARINVYXVML8U8_DTI_tensor_mr_DTI_RD.nii.gz\n"
     ]
    },
    {
     "name": "stderr",
     "output_type": "stream",
     "text": [
      "/home/benedikt_d_schifferer/.local/lib/python3.6/site-packages/nilearn/image/resampling.py:543: RuntimeWarning: NaNs or infinite values are present in the data passed to resample. This is a bad thing as they make resampling ill-defined and much slower.\n",
      "  fill_value=fill_value)\n"
     ]
    },
    {
     "name": "stdout",
     "output_type": "stream",
     "text": [
      "./data_DTI_tensor/sub-NDARINV51VNYKL7_DTI_tensor_mr_DTI_FA.nii.gz\n"
     ]
    },
    {
     "name": "stderr",
     "output_type": "stream",
     "text": [
      "/home/benedikt_d_schifferer/.local/lib/python3.6/site-packages/nilearn/image/resampling.py:543: RuntimeWarning: NaNs or infinite values are present in the data passed to resample. This is a bad thing as they make resampling ill-defined and much slower.\n",
      "  fill_value=fill_value)\n"
     ]
    },
    {
     "name": "stdout",
     "output_type": "stream",
     "text": [
      "./data_DTI_tensor/sub-NDARINVDZ1H9HTE_DTI_tensor_mr_DTI_FA.nii.gz\n"
     ]
    },
    {
     "name": "stderr",
     "output_type": "stream",
     "text": [
      "/home/benedikt_d_schifferer/.local/lib/python3.6/site-packages/nilearn/image/resampling.py:543: RuntimeWarning: NaNs or infinite values are present in the data passed to resample. This is a bad thing as they make resampling ill-defined and much slower.\n",
      "  fill_value=fill_value)\n"
     ]
    },
    {
     "name": "stdout",
     "output_type": "stream",
     "text": [
      "./data_DTI_tensor/sub-NDARINVTTVYX9U5_DTI_tensor_mr_DTI_AD.nii.gz\n"
     ]
    },
    {
     "name": "stderr",
     "output_type": "stream",
     "text": [
      "/home/benedikt_d_schifferer/.local/lib/python3.6/site-packages/nilearn/image/resampling.py:543: RuntimeWarning: NaNs or infinite values are present in the data passed to resample. This is a bad thing as they make resampling ill-defined and much slower.\n",
      "  fill_value=fill_value)\n"
     ]
    },
    {
     "name": "stdout",
     "output_type": "stream",
     "text": [
      "./data_DTI_tensor/sub-NDARINVJU3HYU5L_DTI_tensor_mr_DTI_RD.nii.gz\n"
     ]
    },
    {
     "name": "stderr",
     "output_type": "stream",
     "text": [
      "/home/benedikt_d_schifferer/.local/lib/python3.6/site-packages/nilearn/image/resampling.py:543: RuntimeWarning: NaNs or infinite values are present in the data passed to resample. This is a bad thing as they make resampling ill-defined and much slower.\n",
      "  fill_value=fill_value)\n"
     ]
    },
    {
     "name": "stdout",
     "output_type": "stream",
     "text": [
      "./data_DTI_tensor/sub-NDARINV86X5Z1TX_DTI_tensor_mr_DTI_AD.nii.gz\n"
     ]
    },
    {
     "name": "stdout",
     "output_type": "stream",
     "text": [
      "./data_DTI_tensor/sub-NDARINV9Y43MGV3_DTI_tensor_mr_DTI_RD.nii.gz\n"
     ]
    },
    {
     "name": "stderr",
     "output_type": "stream",
     "text": [
      "/home/benedikt_d_schifferer/.local/lib/python3.6/site-packages/nilearn/image/resampling.py:543: RuntimeWarning: NaNs or infinite values are present in the data passed to resample. This is a bad thing as they make resampling ill-defined and much slower.\n",
      "  fill_value=fill_value)\n"
     ]
    },
    {
     "name": "stdout",
     "output_type": "stream",
     "text": [
      "./data_DTI_tensor/sub-NDARINV8TYGH2JB_DTI_tensor_mr_DTI_RD.nii.gz\n"
     ]
    },
    {
     "name": "stderr",
     "output_type": "stream",
     "text": [
      "/home/benedikt_d_schifferer/.local/lib/python3.6/site-packages/nilearn/image/resampling.py:543: RuntimeWarning: NaNs or infinite values are present in the data passed to resample. This is a bad thing as they make resampling ill-defined and much slower.\n",
      "  fill_value=fill_value)\n"
     ]
    },
    {
     "name": "stdout",
     "output_type": "stream",
     "text": [
      "./data_DTI_tensor/sub-NDARINV1PE2WZWB_DTI_tensor_mr_DTI_MD.nii.gz\n"
     ]
    },
    {
     "name": "stderr",
     