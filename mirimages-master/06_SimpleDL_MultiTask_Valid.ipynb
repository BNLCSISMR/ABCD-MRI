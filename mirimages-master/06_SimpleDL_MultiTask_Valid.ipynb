{
 "cells": [
  {
   "cell_type": "code",
   "execution_count": 1,
   "metadata": {
    "colab": {
     "base_uri": "https://localhost:8080/",
     "height": 34
    },
    "colab_type": "code",
    "executionInfo": {
     "elapsed": 48054,
     "status": "ok",
     "timestamp": 1573636583219,
     "user": {
      "displayName": "Benedikt Dietmar Schifferer",
      "photoUrl": "https://lh3.googleusercontent.com/a-/AAuE7mDViwxKXBjVKZfXMWGuXrQ48D62bye6HNutAOX0=s64",
      "userId": "06737229821528734971"
     },
     "user_tz": -60
    },
    "id": "2mU_ZLUH5jz4",
    "outputId": "c4cbc445-56dd-49df-de87-c34e18da5f6c"
   },
   "outputs": [
    {
     "data": {
      "text/plain": [
       "'2.0.0'"
      ]
     },
     "execution_count": 1,
     "metadata": {},
     "output_type": "execute_result"
    }
   ],
   "source": [
    "import tensorflow as tf\n",
    "import glob\n",
    "import nibabel as nib\n",
    "import os\n",
    "import time\n",
    "\n",
    "import pandas as pd\n",
    "import numpy as np\n",
    "\n",
    "from mricode.utils import log_textfile\n",
    "from mricode.utils import copy_colab\n",
    "\n",
    "tf.__version__"
   ]
  },
  {
   "cell_type": "code",
   "execution_count": 3,
   "metadata": {},
   "outputs": [
    {
     "data": {
      "text/plain": [
       "True"
      ]
     },
     "execution_count": 3,
     "metadata": {},
     "output_type": "execute_result"
    }
   ],
   "source": [
    "tf.test.is_gpu_available()"
   ]
  },
  {
   "cell_type": "code",
   "execution_count": 5,
   "metadata": {
    "colab": {},
    "colab_type": "code",
    "id": "nH4XzW8C5yhH"
   },
   "outputs": [],
   "source": [
    "path_output = './'\n",
    "path_tfrecords = '/data2/res64/down/'\n",
    "path_csv = '/data2/csv/'\n",
    "#path_csv = '/content/drive/My Drive/Capstone/05_Data/01_Label/'\n",
    "filename_res = {'train': 'intell_residual_train.csv', 'val': 'intell_residual_valid.csv', 'test': 'intell_residual_test.csv'}\n",
    "filename_norm = {'train': 'intell_train.csv', 'val': 'intell_valid.csv', 'test': 'intell_test.csv'}\n",
    "filename_fluid = {'train': 'training_fluid_intelligence_sri.csv', 'val': 'validation_fluid_intelligence_sri.csv', 'test': 'test_fluid_intelligence_sri.csv'}\n",
    "filename_final = filename_res\n",
    "sample_size = 'site16_allimages'\n",
    "batch_size = 8\n",
    "onlyt1 = False\n",
    "t1_mean = 0.35196779465675354 \n",
    "t2_mean = 0.5694633522033692\n",
    "t1_std = 0.8948413240464094\n",
    "t2_std = 1.2991791534423829"
   ]
  },
  {
   "cell_type": "code",
   "execution_count": 7,
   "metadata": {
    "colab": {},
    "colab_type": "code",
    "id": "ZzpJsO5Rx_LM"
   },
   "outputs": [],
   "source": []
  },
  {
   "cell_type": "code",
   "execution_count": 8,
   "metadata": {
    "colab": {},
    "colab_type": "code",
    "id": "96CI6bJ26JIo"
   },
   "outputs": [],
   "source": [
    "def return_iter(path, sample_size, batch_size=8, onlyt1=False):\n",
    "  # Some definitions\n",
    "  if onlyt1:\n",
    "    read_features = {\n",
    "      't1': tf.io.FixedLenFeature([], dtype=tf.string),\n",
    "      'subjectid': tf.io.FixedLenFeature([], dtype=tf.string)\n",
    "    }\n",
    "  else:\n",
    "    read_features = {\n",
    "      't1': tf.io.FixedLenFeature([], dtype=tf.string),\n",
    "      't2': tf.io.FixedLenFeature([], dtype=tf.string),\n",
    "      'subjectid': tf.io.FixedLenFeature([], dtype=tf.string)\n",
    "    }\n",
    "  def _parse_(serialized_example, decoder = np.vectorize(lambda x: x.decode('UTF-8')), onlyt1=False):\n",
    "    example = tf.io.parse_single_example(serialized_example, read_features)\n",
    "    subjectid = example['subjectid']\n",
    "    if not(onlyt1):\n",
    "      t1 = tf.expand_dims(tf.reshape(tf.io.decode_raw(example['t1'], tf.int8), (64,64,64)), axis=-1)\n",
    "      t2 = tf.expand_dims(tf.reshape(tf.io.decode_raw(example['t2'], tf.float32), (64,64,64)), axis=-1)\n",
    "      return ({'t1': t1, 't2': t2, 'subjectid': subjectid})\n",
    "    else:\n",
    "      t1 = tf.expand_dims(tf.reshape(tf.io.decode_raw(example['t1'], tf.int8), (256,256,256)), axis=-1)\n",
    "      return ({'t1': t1, 'subjectid': subjectid})\n",
    "  \n",
    "  train_ds = tf.data.TFRecordDataset(path +'t1t2_train_' + str(sample_size) + '_v4.tfrecords')\n",
    "  val_ds = tf.data.TFRecordDataset(path + 't1t2_val_' + str(sample_size) + '_v4.tfrecords')\n",
    "  test_ds = tf.data.TFRecordDataset(path + 't1t2_test_' + str(sample_size) + '_v4.tfrecords')\n",
    "  train_iter = train_ds.map(lambda x:_parse_(x, onlyt1=onlyt1)).shuffle(True).batch(batch_size)\n",
    "  val_iter = val_ds.map(lambda x:_parse_(x, onlyt1=onlyt1)).batch(batch_size)\n",
    "  test_iter = test_ds.map(lambda x:_parse_(x, onlyt1=onlyt1)).batch(batch_size)\n",
    "  return train_iter, val_iter, test_iter\n",
    "\n",
    "def return_csv(path, filenames={'train': 'intell_train.csv', 'val': 'intell_valid.csv', 'test': 'intell_test.csv'}, fluid = False):\n",
    "  train_df = pd.read_csv(path + filenames['train'])\n",
    "  val_df = pd.read_csv(path + filenames['val'])\n",
    "  test_df = pd.read_csv(path + filenames['test'])\n",
    "  norm = None\n",
    "  if fluid:\n",
    "    train_df.columns = ['subjectkey', 'fluid_res', 'fluid']\n",
    "    val_df.columns = ['subjectkey', 'fluid_res', 'fluid']\n",
    "    test_df.columns = ['subjectkey', 'fluid_res', 'fluid']\n",
    "  train_df['subjectkey'] = train_df['subjectkey'].str.replace('_', '')\n",
    "  val_df['subjectkey'] = val_df['subjectkey'].str.replace('_', '')\n",
    "  test_df['subjectkey'] = test_df['subjectkey'].str.replace('_', '')\n",
    "  if not(fluid):\n",
    "    for df in [train_df, val_df, test_df]:\n",
    "      df['race.ethnicity'] = df['race.ethnicity'] - 1\n",
    "      df['married'] = df['married'] - 1\n",
    "      df['high.educ_group'] = 0\n",
    "      df.loc[(train_df['high.educ']>=11) & (df['high.educ']<=12),'high.educ_group'] = 1\n",
    "      df.loc[(train_df['high.educ']>=13) & (df['high.educ']<=13),'high.educ_group'] = 2\n",
    "      counter = 3\n",
    "      for i in range(14,22):\n",
    "        df.loc[(df['high.educ']>=i) & (df['high.educ']<=i),'high.educ_group'] = counter\n",
    "      df['income_group'] = 0\n",
    "      counter = 1\n",
    "      for i in range(4,11):\n",
    "        df.loc[(df['income']>=i) & (df['income']<=i),'income_group'] = counter\n",
    "        counter += 1\n",
    "    norm = {}\n",
    "    for col in ['BMI', 'age', 'vol', 'weight', 'height', 'nihtbx_fluidcomp_uncorrected', 'nihtbx_cryst_uncorrected', \n",
    "                'nihtbx_pattern_uncorrected', 'nihtbx_picture_uncorrected', \n",
    "                'nihtbx_list_uncorrected', 'nihtbx_flanker_uncorrected',\n",
    "                'nihtbx_picvocab_uncorrected', 'nihtbx_cardsort_uncorrected',\n",
    "                'nihtbx_totalcomp_uncorrected', 'nihtbx_reading_uncorrected']:\n",
    "      mean = train_df[col].mean()\n",
    "      std = train_df[col].std()\n",
    "      train_df[col + '_norm'] = (train_df[col]-mean)/std\n",
    "      val_df[col + '_norm'] = (val_df[col]-mean)/std\n",
    "      test_df[col + '_norm'] = (test_df[col]-mean)/std\n",
    "      norm[col] = {'mean': mean, 'std': std}\n",
    "  return train_df, val_df, test_df, norm"
   ]
  },
  {
   "cell_type": "code",
   "execution_count": 9,
   "metadata": {
    "colab": {
     "base_uri": "https://localhost:8080/",
     "height": 71
    },
    "colab_type": "code",
    "executionInfo": {
     "elapsed": 4520,
     "status": "ok",
     "timestamp": 1573636640714,
     "user": {
      "displayName": "Benedikt Dietmar Schifferer",
      "photoUrl": "https://lh3.googleusercontent.com/a-/AAuE7mDViwxKXBjVKZfXMWGuXrQ48D62bye6HNutAOX0=s64",
      "userId": "06737229821528734971"
     },
     "user_tz": -60
    },
    "id": "B-rSS9vT6TuF",
    "outputId": "f5b43cbc-7d59-4c7c-b6d6-78882b1ef3e1"
   },
   "outputs": [
    {
     "name": "stdout",
     "output_type": "stream",
     "text": [
      "WARNING:tensorflow:Entity <function return_iter.<locals>._parse_ at 0x7f2e0aac3488> could not be transformed and will be executed as-is. Please report this to the AutoGraph team. When filing the bug, set the verbosity to 10 (on Linux, `export AUTOGRAPH_VERBOSITY=10`) and attach the full output. Cause: \n",
      "WARNING: Entity <function return_iter.<locals>._parse_ at 0x7f2e0aac3488> could not be transformed and will be executed as-is. Please report this to the AutoGraph team. When filing the bug, set the verbosity to 10 (on Linux, `export AUTOGRAPH_VERBOSITY=10`) and attach the full output. Cause: \n"
     ]
    }
   ],
   "source": [
    "train_iter, val_iter, test_iter = return_iter(path_tfrecords, sample_size, batch_size, onlyt1=onlyt1)"
   ]
  },
  {
   "cell_type": "code",
   "execution_count": 10,
   "metadata": {
    "colab": {},
    "colab_type": "code",
    "id": "_WxRhswDxB6a"
   },
   "outputs": [],
   "source": [
    "a = next(iter(train_iter))"
   ]
  },
  {
   "cell_type": "code",
   "execution_count": 11,
   "metadata": {
    "colab": {},
    "colab_type": "code",
    "id": "lJ0VnyEzBAes"
   },
   "outputs": [],
   "source": [
    "if False:\n",
    "  t1_mean = 0.\n",
    "  t1_std = 0.\n",
    "  t2_mean = 0.\n",
    "  t2_std = 0.\n",
    "  n = 0.\n",
    "  for b in train_iter:\n",
    "      t1_mean += np.mean(b['t1'])\n",
    "      t1_std += np.std(b['t1'])\n",
    "      t2_mean += np.mean(b['t2'])\n",
    "      t2_std += np.std(b['t2'])\n",
    "      n += np.asarray(b['t1']).shape[0]\n",
    "\n",
    "  t1_mean /= n\n",
    "  t1_std /= n\n",
    "  t2_mean /= n\n",
    "  t2_std /= n"
   ]
  },
  {
   "cell_type": "code",
   "execution_count": 12,
   "metadata": {
    "colab": {
     "base_uri": "https://localhost:8080/",
     "height": 85
    },
    "colab_type": "code",
    "executionInfo": {
     "elapsed": 2924,
     "status": "ok",
     "timestamp": 1573636640716,
     "user": {
      "displayName": "Benedikt Dietmar Schifferer",
      "photoUrl": "https://lh3.googleusercontent.com/a-/AAuE7mDViwxKXBjVKZfXMWGuXrQ48D62bye6HNutAOX0=s64",
      "userId": "06737229821528734971"
     },
     "user_tz": -60
    },
    "id": "mSwhEqDPM_r8",
    "outputId": "14a4ac0b-9587-4776-fc64-1e008f0c5c31"
   },
   "outputs": [
    {
     "data": {
      "text/plain": [
       "(0.35196779465675354,\n",
       " 0.8948413240464094,\n",
       " 0.5694633522033692,\n",
       " 1.2991791534423829)"
      ]
     },
     "execution_count": 12,
     "metadata": {},
     "output_type": "execute_result"
    }
   ],
   "source": [
    "t1_mean, t1_std, t2_mean, t2_std"
   ]
  },
  {
   "cell_type": "code",
   "execution_count": 13,
   "metadata": {
    "colab": {},
    "colab_type": "code",
    "id": "PAyV5ktlA6K1"
   },
   "outputs": [],
   "source": [
    "train_df, val_df, test_df, norm_dict = return_csv(path_csv, filename_final, False)"
   ]
  },
  {
   "cell_type": "code",
   "execution_count": 14,
   "metadata": {
    "colab": {
     "base_uri": "https://localhost:8080/",
     "height": 442
    },
    "colab_type": "code",
    "executionInfo": {
     "elapsed": 3147,
     "status": "ok",
     "timestamp": 1573636641787,
     "user": {
      "displayName": "Benedikt Dietmar Schifferer",
      "photoUrl": "https://lh3.googleusercontent.com/a-/AAuE7mDViwxKXBjVKZfXMWGuXrQ48D62bye6HNutAOX0=s64",
      "userId": "06737229821528734971"
     },
     "user_tz": -60
    },
    "id": "0xYy4XUyVBeC",
    "outputId": "a6a19d59-31ff-4064-f1dc-952befcce4b3"
   },
   "outputs": [
    {
     "data": {
      "text/plain": [
       "{'BMI': {'mean': 18.681548127052135, 'std': 4.193043131845343},\n",
       " 'age': {'mean': 119.00325844623563, 'std': 7.479129774017182},\n",
       " 'height': {'mean': 55.25173666322929, 'std': 3.152756181679028},\n",
       " 'nihtbx_cardsort_uncorrected': {'mean': 0.01902727147573316,\n",
       "  'std': 0.92710655806542},\n",
       " 'nihtbx_cryst_uncorrected': {'mean': 0.007018628014748754,\n",
       "  'std': 0.7845373584638602},\n",
       " 'nihtbx_flanker_uncorrected': {'mean': 0.02188780794049048,\n",
       "  'std': 0.9070917080607726},\n",
       " 'nihtbx_fluidcomp_uncorrected': {'mean': 0.020178243913565427,\n",
       "  'std': 0.86606123778624},\n",
       " 'nihtbx_list_uncorrected': {'mean': 0.00625176016120734,\n",
       "  'std': 0.8898550695735616},\n",
       " 'nihtbx_pattern_uncorrected': {'mean': 0.020721412569885096,\n",
       "  'std': 0.9486618556882954},\n",
       " 'nihtbx_picture_uncorrected': {'mean': 0.0005782175223803825,\n",
       "  'std': 0.9577989703304521},\n",
       " 'nihtbx_picvocab_uncorrected': {'mean': 0.0068509109986280275,\n",
       "  'std': 0.8038465951211212},\n",
       " 'nihtbx_reading_uncorrected': {'mean': 0.0027847502208883574,\n",
       "  'std': 0.8572703419965433},\n",
       " 'nihtbx_totalcomp_uncorrected': {'mean': 0.016971206631452577,\n",
       "  'std': 0.7866686549175077},\n",
       " 'vol': {'mean': 0.013939557398902416, 'std': 1.001699783217792},\n",
       " 'weight': {'mean': 81.91536668875837, 'std': 23.321845390211728}}"
      ]
     },
     "execution_count": 14,
     "metadata": {},
     "output_type": "execute_result"
    }
   ],
   "source": [
    "norm_dict"
   ]
  },
  {
   "cell_type": "code",
   "execution_count": 15,
   "metadata": {
    "colab": {
     "base_uri": "https://localhost:8080/",
     "height": 697
    },
    "colab_type": "code",
    "executionInfo": {
     "elapsed": 2660,
     "status": "ok",
     "timestamp": 1573636641788,
     "user": {
      "displayName": "Benedikt Dietmar Schifferer",
      "photoUrl": "https://lh3.googleusercontent.com/a-/AAuE7mDViwxKXBjVKZfXMWGuXrQ48D62bye6HNutAOX0=s64",
      "userId": "06737229821528734971"
     },
     "user_tz": -60
    },
    "id": "_SVRoaUTgv1O",
    "outputId": "7b86ff58-14d7-488a-9b56-4962b095211e"
   },
   "outputs": [
    {
     "data": {
      "text/plain": [
       "subjectkey                           NDARINVZZZNB0XC\n",
       "age                                              131\n",
       "female                                             1\n",
       "race.ethnicity                                     4\n",
       "high.educ                                         21\n",
       "income                                            10\n",
       "married                                            5\n",
       "abcd_site                                         22\n",
       "vol                                          3.96307\n",
       "height                                            81\n",
       "weight                                           272\n",
       "BMI                                          54.9929\n",
       "nihtbx_fluidcomp_uncorrected                 3.14844\n",
       "nihtbx_cryst_uncorrected                     3.46236\n",
       "nihtbx_pattern_uncorrected                   3.20819\n",
       "nihtbx_picture_uncorrected                   2.91261\n",
       "nihtbx_list_uncorrected                      2.87982\n",
       "nihtbx_flanker_uncorrected                   2.60289\n",
       "nihtbx_picvocab_uncorrected                  3.48154\n",
       "nihtbx_cardsort_uncorrected                  2.92297\n",
       "nihtbx_totalcomp_uncorrected                 3.04367\n",
       "nihtbx_reading_uncorrected                   3.87485\n",
       "high.educ_group                                    3\n",
       "income_group                                       7\n",
       "BMI_norm                                     8.65991\n",
       "age_norm                                     1.60403\n",
       "vol_norm                                     3.94243\n",
       "weight_norm                                   8.1505\n",
       "height_norm                                  8.16691\n",
       "nihtbx_fluidcomp_uncorrected_norm            3.61205\n",
       "nihtbx_cryst_uncorrected_norm                 4.4043\n",
       "nihtbx_pattern_uncorrected_norm              3.35996\n",
       "nihtbx_picture_uncorrected_norm              3.04033\n",
       "nihtbx_list_uncorrected_norm                 3.22926\n",
       "nihtbx_flanker_uncorrected_norm              2.84536\n",
       "nihtbx_picvocab_uncorrected_norm             4.32258\n",
       "nihtbx_cardsort_uncorrected_norm             3.13226\n",
       "nihtbx_totalcomp_uncorrected_norm            3.84749\n",
       "nihtbx_reading_uncorrected_norm              4.51674\n",
       "dtype: object"
      ]
     },
     "execution_count": 15,
     "metadata": {},
     "output_type": "execute_result"
    }
   ],
   "source": [
    "train_df.max()"
   ]
  },
  {
   "cell_type": "code",
   "execution_count": 16,
   "metadata": {
    "colab": {},
    "colab_type": "code",
    "id": "FmJMaxLJLIgE"
   },
   "outputs": [],
   "source": [
    "import tensorflow as tf\n",
    "from tensorflow.keras.layers import Conv3D\n",
    "from tensorflow import nn\n",
    "from tensorflow.python.ops import nn_ops\n",
    "from tensorflow.python.framework import tensor_shape\n",
    "from tensorflow.python.keras.engine.base_layer import InputSpec\n",
    "from tensorflow.python.keras.utils import conv_utils"
   ]
  },
  {
   "cell_type": "code",
   "execution_count": 17,
   "metadata": {
    "colab": {},
    "colab_type": "code",
    "id": "eTk95ptFV5oN"
   },
   "outputs": [],
   "source": [
    "cat_cols = {'female': 2, 'race.ethnicity': 5, 'high.educ_group': 4, 'income_group': 8, 'married': 6}\n",
    "#cat_cols = {}\n",
    "num_cols = [x for x in list(val_df.columns) if '_norm' in x]\n",
    "#num_cols = num_cols[0:3]"
   ]
  },
  {
   "cell_type": "code",
   "execution_count": 18,
   "metadata": {
    "colab": {
     "base_uri": "https://localhost:8080/",
     "height": 272
    },
    "colab_type": "code",
    "executionInfo": {
     "elapsed": 1134,
     "status": "ok",
     "timestamp": 1573636642235,
     "user": {
      "displayName": "Benedikt Dietmar Schifferer",
      "photoUrl": "https://lh3.googleusercontent.com/a-/AAuE7mDViwxKXBjVKZfXMWGuXrQ48D62bye6HNutAOX0=s64",
      "userId": "06737229821528734971"
     },
     "user_tz": -60
    },
    "id": "gSh5zfycjI7A",
    "outputId": "b7a137d4-fb48-413e-9307-fcab56fc28d8"
   },
   "outputs": [
    {
     "data": {
      "text/plain": [
       "['BMI_norm',\n",
       " 'age_norm',\n",
       " 'vol_norm',\n",
       " 'weight_norm',\n",
       " 'height_norm',\n",
       " 'nihtbx_fluidcomp_uncorrected_norm',\n",
       " 'nihtbx_cryst_uncorrected_norm',\n",
       " 'nihtbx_pattern_uncorrected_norm',\n",
       " 'nihtbx_picture_uncorrected_norm',\n",
       " 'nihtbx_list_uncorrected_norm',\n",
       " 'nihtbx_flanker_uncorrected_norm',\n",
       " 'nihtbx_picvocab_uncorrected_norm',\n",
       " 'nihtbx_cardsort_uncorrected_norm',\n",
       " 'nihtbx_totalcomp_uncorrected_norm',\n",
       " 'nihtbx_reading_uncorrected_norm']"
      ]
     },
     "execution_count": 18,
     "metadata": {},
     "output_type": "execute_result"
    }
   ],
   "source": [
    "num_cols"
   ]
  },
  {
   "cell_type": "code",
   "execution_count": 19,
   "metadata": {
    "colab": {},
    "colab_type": "code",
    "id": "1j3q7l7DDWSq"
   },
   "outputs": [],
   "source": [
    "from tensorflow.keras import Model\n",
    "\n",
    "class MyDNN(Model):\n",
    "  def __init__(self, cat_cols, num_cols):\n",
    "    super(MyDNN, self).__init__()\n",
    "    self.cat_cols = cat_cols\n",
    "    self.num_cols = num_cols\n",
    "    self.ac = tf.keras.layers.ReLU()\n",
    "    self.maxpool = tf.keras.layers.MaxPool3D(pool_size=(2, 2, 2), data_format='channels_last')\n",
    "    self.conv1 = tf.keras.layers.Conv3D(\n",
    "        filters = 1,\n",
    "        kernel_size = 3,\n",
    "        padding='valid',\n",
    "        data_format='channels_last'\n",
    "    )\n",
    "    self.bn1 = tf.keras.layers.BatchNormalization()\n",
    "    self.conv2 = tf.keras.layers.Conv3D(\n",
    "        filters = 16,\n",
    "        kernel_size = 3,\n",
    "        padding='valid',\n",
    "        data_format='channels_last'\n",
    "    )\n",
    "    self.bn2 = tf.keras.layers.BatchNormalization()\n",
    "    self.conv3 = tf.keras.layers.Conv3D(\n",
    "        filters = 32,\n",
    "        kernel_size = 3,\n",
    "        padding='valid',\n",
    "        data_format='channels_last'\n",
    "    )\n",
    "    self.bn3 = tf.keras.layers.BatchNormalization()\n",
    "    self.conv4 = tf.keras.layers.Conv3D(\n",
    "        filters = 256,\n",
    "        kernel_size = 3,\n",
    "        padding='valid',\n",
    "        data_format='channels_last'\n",
    "    )\n",
    "    self.bn4 = tf.keras.layers.BatchNormalization()\n",
    "    self.fc = {}\n",
    "    for k in list(self.cat_cols.keys()):\n",
    "      self.fc[k] = tf.keras.Sequential([\n",
    "                                        tf.keras.layers.Dense(256, activation='relu'),\n",
    "                                        tf.keras.layers.BatchNormalization(),\n",
    "                                        tf.keras.layers.Dense(self.cat_cols[k], activation='softmax')\n",
    "                                        ])\n",
    "    for i in range(len(self.num_cols)):\n",
    "      self.fc[self.num_cols[i]] = tf.keras.Sequential([\n",
    "                                        tf.keras.layers.Dense(256, activation='relu'),\n",
    "                                        tf.keras.layers.BatchNormalization(),\n",
    "                                        tf.keras.layers.Dense(1)\n",
    "                                        ])\n",
    "    #self.fc1 = tf.keras.Sequential([\n",
    "    #                                    tf.keras.layers.Dense(256, activation='relu'),\n",
    "    #                                    tf.keras.layers.BatchNormalization(),\n",
    "    #                                    tf.keras.layers.Dense(1)\n",
    "    #                                    ])\n",
    "    #self.fc2 = tf.keras.Sequential([\n",
    "    #                                tf.keras.layers.Dense(256, activation='relu'),\n",
    "    #                                tf.keras.layers.BatchNormalization(),\n",
    "    #                                tf.keras.layers.Dense(1)\n",
    "    #                                ])\n",
    "    #self.fc3 = tf.keras.Sequential([\n",
    "    #                                tf.keras.layers.Dense(256, activation='relu'),\n",
    "    #                                tf.keras.layers.BatchNormalization(),\n",
    "    #                                tf.keras.layers.Dense(1)\n",
    "    #                                ])\n",
    "\n",
    "  def call(self, x):\n",
    "    x = self.conv1(x)\n",
    "    x = self.bn1(x)\n",
    "    x = self.ac(x)\n",
    "    x = self.maxpool(x)\n",
    "    x = self.conv2(x)\n",
    "    x = self.bn2(x)\n",
    "    x = self.ac(x)\n",
    "    x = self.maxpool(x)\n",
    "    x = self.conv3(x)\n",
    "    x = self.bn3(x)\n",
    "    x = self.ac(x)\n",
    "    x = self.maxpool(x)\n",
    "    x = self.conv4(x)\n",
    "    x = self.bn4(x)\n",
    "    x = self.ac(x)\n",
    "    x = tf.keras.layers.GlobalAveragePooling3D()(x)\n",
    "    out = {}\n",
    "    for k in list(self.fc.keys()):\n",
    "      out[k] = self.fc[k](x)\n",
    "    #['age_norm', 'vol_norm', 'weight_norm']\n",
    "    #out['age_norm'] = self.fc1(x)\n",
    "    #out['vol_norm'] = self.fc2(x)\n",
    "    #out['weight_norm'] = self.fc3(x)\n",
    "    return out"
   ]
  },
  {
   "cell_type": "code",
   "execution_count": 20,
   "metadata": {
    "colab": {},
    "colab_type": "code",
    "id": "pwzdY28gkCdN"
   },
   "outputs": [],
   "source": [
    "from tensorflow.keras import Model\n",
    "\n",
    "class MyDNN(Model):\n",
    "  def __init__(self, cat_cols, num_cols):\n",
    "    super(MyDNN, self).__init__()\n",
    "    self.cat_cols = cat_cols\n",
    "    self.num_cols = num_cols\n",
    "    self.ac = tf.keras.layers.ReLU()\n",
    "    self.maxpool = tf.keras.layers.MaxPool3D(pool_size=(2, 2, 2), data_format='channels_last')\n",
    "    self.conv1 = tf.keras.layers.Conv3D(\n",
    "        filters = 32,\n",
    "        kernel_size = 3,\n",
    "        padding='valid',\n",
    "        data_format='channels_last',\n",
    "        input_shape = (64,64,64,2)\n",
    "    )\n",
    "    self.bn1 = tf.keras.layers.BatchNormalization()\n",
    "    self.conv2 = tf.keras.layers.Conv3D(\n",
    "        filters = 64,\n",
    "        kernel_size = 3,\n",
    "        padding='valid',\n",
    "        data_format='channels_last'\n",
    "    )\n",
    "    self.bn2 = tf.keras.layers.BatchNormalization()\n",
    "    self.conv3 = tf.keras.layers.Conv3D(\n",
    "        filters = 128,\n",
    "        kernel_size = 3,\n",
    "        padding='valid',\n",
    "        data_format='channels_last'\n",
    "    )\n",
    "    self.bn3 = tf.keras.layers.BatchNormalization()\n",
    "    self.conv4 = tf.keras.layers.Conv3D(\n",
    "        filters = 256,\n",
    "        kernel_size = 3,\n",
    "        padding='valid',\n",
    "        data_format='channels_last'\n",
    "    )\n",
    "    self.bn4 = tf.keras.layers.BatchNormalization()\n",
    "    self.fc = {}\n",
    "    for k in list(self.cat_cols.keys()):\n",
    "      self.fc[k] = tf.keras.Sequential([\n",
    "                                        tf.keras.layers.Dense(256, activation='relu'),\n",
    "                                        tf.keras.layers.BatchNormalization(),\n",
    "                                        tf.keras.layers.Dense(self.cat_cols[k], activation='softmax')\n",
    "                                        ])\n",
    "    for i in range(len(self.num_cols)):\n",
    "      self.fc[self.num_cols[i]] = tf.keras.Sequential([\n",
    "                                        tf.keras.layers.Dense(256, activation='relu'),\n",
    "                                        tf.keras.layers.BatchNormalization(),\n",
    "                                        tf.keras.layers.Dense(1)\n",
    "                                        ])\n",
    "\n",
    "  def call(self, x):\n",
    "    x = self.conv1(x)\n",
    "    x = self.bn1(x)\n",
    "    x = self.ac(x)\n",
    "    x = self.maxpool(x)\n",
    "    x = self.conv2(x)\n",
    "    x = self.bn2(x)\n",
    "    x = self.ac(x)\n",
    "    x = self.maxpool(x)\n",
    "    x = self.conv3(x)\n",
    "    x = self.bn3(x)\n",
    "    x = self.ac(x)\n",
    "    x = self.maxpool(x)\n",
    "    x = self.conv4(x)\n",
    "    x = self.bn4(x)\n",
    "    x = self.ac(x)\n",
    "    x = tf.keras.layers.GlobalAveragePooling3D()(x)\n",
    "    out = {}\n",
    "    for k in list(self.fc.keys()):\n",
    "      out[k] = self.fc[k](x)\n",
    "    return out"
   ]
  },
  {
   "cell_type": "code",
   "execution_count": 21,
   "metadata": {
    "colab": {},
    "colab_type": "code",
    "id": "q9PZkxi_k5b-"
   },
   "outputs": [],
   "source": [
    "from tensorflow.keras import Model\n",
    "\n",
    "class MyDNN(Model):\n",
    "  def __init__(self, cat_cols, num_cols):\n",
    "    super(MyDNN, self).__init__()\n",
    "    self.cat_cols = cat_cols\n",
    "    self.num_cols = num_cols\n",
    "    self.ac = tf.keras.layers.ReLU()\n",
    "    self.maxpool = tf.keras.layers.MaxPool3D(pool_size=(2, 2, 2), data_format='channels_last')\n",
    "    self.conv1 = tf.keras.layers.Conv3D(\n",
    "        filters = 32,\n",
    "        kernel_size = 3,\n",
    "        padding='valid',\n",
    "        data_format='channels_last',\n",
    "        input_shape = (64,64,64,2)\n",
    "    )\n",
    "    self.bn1 = tf.keras.layers.BatchNormalization()\n",
    "    self.conv2 = tf.keras.layers.Conv3D(\n",
    "        filters = 64,\n",
    "        kernel_size = 3,\n",
    "        padding='valid',\n",
    "        data_format='channels_last'\n",
    "    )\n",
    "    self.bn2 = tf.keras.layers.BatchNormalization()\n",
    "    self.conv3 = tf.keras.layers.Conv3D(\n",
    "        filters = 128,\n",
    "        kernel_size = 3,\n",
    "        padding='valid',\n",
    "        data_format='channels_last'\n",
    "    )\n",
    "    self.bn3 = tf.keras.layers.BatchNormalization()\n",
    "    self.conv4 = tf.keras.layers.Conv3D(\n",
    "        filters = 256,\n",
    "        kernel_size = 3,\n",
    "        padding='valid',\n",
    "        data_format='channels_last',\n",
    "        name='lastconv_1'\n",
    "    )\n",
    "    self.bn4 = tf.keras.layers.BatchNormalization()\n",
    "    self.fc = {}\n",
    "    for k in list(self.cat_cols.keys()):\n",
    "      self.fc[k] = tf.keras.Sequential([\n",
    "                                        tf.keras.layers.Dense(256, activation='relu'),\n",
    "                                        tf.keras.layers.BatchNormalization(),\n",
    "                                        tf.keras.layers.Dense(self.cat_cols[k], activation='softmax', name='output_' + k)\n",
    "                                        ])\n",
    "    for i in range(len(self.num_cols)):\n",
    "      self.fc[self.num_cols[i]] = tf.keras.Sequential([\n",
    "                                        tf.keras.layers.Dense(256, activation='relu'),\n",
    "                                        tf.keras.layers.BatchNormalization(),\n",
    "                                        tf.keras.layers.Dense(1)\n",
    "                                        ])\n",
    "\n",
    "  def call(self, x):\n",
    "    x = self.conv1(x)\n",
    "    x = self.bn1(x)\n",
    "    x = self.ac(x)\n",
    "    x = self.maxpool(x)\n",
    "    x = self.conv2(x)\n",
    "    x = self.bn2(x)\n",
    "    x = self.ac(x)\n",
    "    x = self.maxpool(x)\n",
    "    x = self.conv3(x)\n",
    "    x = self.bn3(x)\n",
    "    x = self.ac(x)\n",
    "    x = self.maxpool(x)\n",
    "    x = self.conv4(x)\n",
    "    x = self.bn4(x)\n",
    "    x = self.ac(x)\n",
    "    x = tf.keras.layers.GlobalAveragePooling3D()(x)\n",
    "    out = {}\n",
    "    for k in list(self.fc.keys()):\n",
    "      out[k] = self.fc[k](x)\n",
    "    return out"
   ]
  },
  {
   "cell_type": "code",
   "execution_count": 22,
   "metadata": {
    "colab": {},
    "colab_type": "code",
    "id": "tpab_A9TDYeK"
   },
   "outputs": [],
   "source": [
    "loss_object = tf.keras.losses.SparseCategoricalCrossentropy()\n",
    "optimizer = tf.keras.optimizers.Adam(lr = 0.001)"
   ]
  },
  {
   "cell_type": "code",
   "execution_count": 27,
   "metadata": {
    "colab": {},
    "colab_type": "code",
    "id": "hROMApYiDagm"
   },
   "outputs": [],
   "source": [
    "def calc_loss_acc(out_loss, out_acc, y_true, y_pred, cat_cols, num_cols, norm_dict):\n",
    "  for col in num_cols:\n",
    "    tmp_col = col\n",
    "    tmp_std = norm_dict[tmp_col.replace('_norm','')]['std']\n",
    "    tmp_y_true = tf.cast(y_true[col], tf.float32).numpy()\n",
    "    tmp_y_pred = np.squeeze(y_pred[col].numpy())\n",
    "    if not(tmp_col in out_loss):\n",
    "      out_loss[tmp_col] = np.sum(np.square(tmp_y_true-tmp_y_pred))\n",
    "    else:\n",
    "      out_loss[tmp_col] += np.sum(np.square(tmp_y_true-tmp_y_pred))\n",
    "    if not(tmp_col in out_acc):\n",
    "      out_acc[tmp_col] = np.sum(np.square((tmp_y_true-tmp_y_pred)*tmp_std))\n",
    "    else:\n",
    "      out_acc[tmp_col] += np.sum(np.square((tmp_y_true-tmp_y_pred)*tmp_std))\n",
    "  for col in list(cat_cols.keys()):\n",
    "    tmp_col = col\n",
    "    if not(tmp_col in out_loss):\n",
    "      out_loss[tmp_col] = tf.keras.losses.SparseCategoricalCrossentropy()(tf.squeeze(y_true[col]), tf.squeeze(y_pred[col])).numpy()\n",
    "    else:\n",
    "      out_loss[tmp_col] += tf.keras.losses.SparseCategoricalCrossentropy()(tf.squeeze(y_true[col]), tf.squeeze(y_pred[col])).numpy()\n",
    "    if not(tmp_col in out_acc):\n",
    "      out_acc[tmp_col] = tf.reduce_sum(tf.dtypes.cast((y_true[col] == tf.argmax(y_pred[col], axis=-1)), tf.float32)).numpy()\n",
    "    else:\n",
    "      out_acc[tmp_col] += tf.reduce_sum(tf.dtypes.cast((y_true[col] == tf.argmax(y_pred[col], axis=-1)), tf.float32)).numpy()    \n",
    "  return(out_loss, out_acc)\n",
    "\n",
    "def format_output(out_loss, out_acc, n, cols, print_bl=False):\n",
    "  loss = 0\n",
    "  acc = 0\n",
    "  output = []\n",
    "  for col in cols:\n",
    "    output.append([col, out_loss[col]/n, out_acc[col]/n])\n",
    "    loss += out_loss[col]/n\n",
    "    acc += out_acc[col]/n\n",
    "  df = pd.DataFrame(output)\n",
    "  df.columns = ['name', 'loss', 'acc']\n",
    "  if print_bl:\n",
    "    print(df)\n",
    "  return(loss, acc, df)\n",
    "\n",
    "@tf.function\n",
    "def train_step(X, y, model, optimizer, cat_cols, num_cols):\n",
    "  with tf.GradientTape() as tape:\n",
    "    predictions = model(X)\n",
    "    i = 0\n",
    "    loss = tf.keras.losses.MSE(tf.cast(y[num_cols[i]], tf.float32), tf.squeeze(predictions[num_cols[i]]))\n",
    "    for i in range(1,len(num_cols)):\n",
    "      loss += tf.keras.losses.MSE(tf.cast(y[num_cols[i]], tf.float32), tf.squeeze(predictions[num_cols[i]]))\n",
    "    for col in list(cat_cols.keys()):\n",
    "      loss += tf.keras.losses.SparseCategoricalCrossentropy()(tf.squeeze(y[col]), tf.squeeze(predictions[col]))\n",
    "  gradients = tape.gradient(loss, model.trainable_variables)\n",
    "  optimizer.apply_gradients(zip(gradients, model.trainable_variables))\n",
    "  return(y, predictions, loss)\n",
    "\n",
    "@tf.function\n",
    "def test_step(X, y, model):\n",
    "  predictions = model(X)\n",
    "  return(y, predictions)\n",
    "\n",
    "def epoch(data_iter, df, model, optimizer, cat_cols, num_cols, norm_dict):\n",
    "  out_loss = {}\n",
    "  out_acc = {}\n",
    "  n = 0.\n",
    "  n_batch = 0.\n",
    "  total_time_dataload = 0.\n",
    "  total_time_model = 0.\n",
    "  start_time = time.time()\n",
    "  for batch in data_iter:\n",
    "    total_time_dataload += time.time() - start_time\n",
    "    start_time = time.time()\n",
    "    t1 = (tf.cast(batch['t1'], tf.float32)-t1_mean)/t1_std\n",
    "    t2 = (batch['t2']-t2_mean)/t2_std\n",
    "    subjectid = decoder(batch['subjectid'])\n",
    "    y = get_labels(df, subjectid, list(cat_cols.keys())+num_cols)\n",
    "    X = tf.concat([t1, t2], axis=4)\n",
    "    if optimizer != None:\n",
    "      y_true, y_pred, loss = train_step(X, y, model, optimizer, cat_cols, num_cols)\n",
    "    else:\n",
    "      y_true, y_pred = test_step(X, y, model)\n",
    "    out_loss, out_acc = calc_loss_acc(out_loss, out_acc, y_true, y_pred, cat_cols, num_cols, norm_dict)\n",
    "    n += X.shape[0]\n",
    "    n_batch += 1\n",
    "    if (n_batch % 10) == 0:\n",
    "      print(n_batch)\n",
    "    total_time_model += time.time() - start_time\n",
    "    start_time = time.time()\n",
    "  return (out_loss, out_acc, n, total_time_model, total_time_dataload)\n",
    "\n",
    "def get_labels(df, subjectid, cols = ['nihtbx_fluidcomp_uncorrected_norm']):\n",
    "  subjects_df = pd.DataFrame(subjectid)\n",
    "  result_df = pd.merge(subjects_df, df, left_on=0, right_on='subjectkey', how='left')\n",
    "  output = {}\n",
    "  for col in cols:\n",
    "    output[col] = np.asarray(result_df[col].values)\n",
    "  return output\n",
    "\n",
    "def best_val(df_best, df_val, df_test):\n",
    "  df_best = pd.merge(df_best, df_val, how='left', left_on='name', right_on='name')\n",
    "  df_best = pd.merge(df_best, df_test, how='left', left_on='name', right_on='name')\n",
    "  df_best.loc[df_best['best_loss_val']>=df_best['cur_loss_val'], 'best_loss_test'] = df_best.loc[df_best['best_loss_val']>=df_best['cur_loss_val'], 'cur_loss_test']\n",
    "  df_best.loc[df_best['best_loss_val']>=df_best['cur_loss_val'], 'best_loss_val'] = df_best.loc[df_best['best_loss_val']>=df_best['cur_loss_val'], 'cur_loss_val']\n",
    "  df_best.loc[(df_best['best_acc_val']<=df_best['cur_acc_val'])&(df_best['name'].isin(['female', 'race.ethnicity', 'high.educ_group', 'income_group', 'married'])), 'best_acc_test'] = df_best.loc[(df_best['best_acc_val']<=df_best['cur_acc_val'])&(df_best['name'].isin(['female', 'race.ethnicity', 'high.educ_group', 'income_group', 'married'])), 'cur_acc_test']\n",
    "  df_best.loc[(df_best['best_acc_val']<=df_best['cur_acc_val'])&(df_best['name'].isin(['female', 'race.ethnicity', 'high.educ_group', 'income_group', 'married'])), 'best_acc_val'] = df_best.loc[(df_best['best_acc_val']<=df_best['cur_acc_val'])&(df_best['name'].isin(['female', 'race.ethnicity', 'high.educ_group', 'income_group', 'married'])), 'cur_acc_val']\n",
    "  df_best.loc[(df_best['best_acc_val']>=df_best['cur_acc_val'])&(~df_best['name'].isin(['female', 'race.ethnicity', 'high.educ_group', 'income_group', 'married'])), 'best_acc_test'] = df_best.loc[(df_best['best_acc_val']>=df_best['cur_acc_val'])&(~df_best['name'].isin(['female', 'race.ethnicity', 'high.educ_group', 'income_group', 'married'])), 'cur_acc_test']\n",
    "  df_best.loc[(df_best['best_acc_val']>=df_best['cur_acc_val'])&(~df_best['name'].isin(['female', 'race.ethnicity', 'high.educ_group', 'income_group', 'married'])), 'best_acc_val'] = df_best.loc[(df_best['best_acc_val']>=df_best['cur_acc_val'])&(~df_best['name'].isin(['female', 'race.ethnicity', 'high.educ_group', 'income_group', 'married'])), 'cur_acc_val']\n",
    "  df_best = df_best.drop(['cur_loss_val', 'cur_acc_val', 'cur_loss_test', 'cur_acc_test'], axis=1)\n",
    "  return(df_best)"
   ]
  },
  {
   "cell_type": "code",
   "execution_count": 28,
   "metadata": {
    "colab": {
     "base_uri": "https://localhost:8080/",
     "height": 357
    },
    "colab_type": "code",
    "executionInfo": {
     "elapsed": 415,
     "status": "ok",
     "timestamp": 1573636653401,
     "user": {
      "displayName": "Benedikt Dietmar Schifferer",
      "photoUrl": "https://lh3.googleusercontent.com/a-/AAuE7mDViwxKXBjVKZfXMWGuXrQ48D62bye6HNutAOX0=s64",
      "userId": "06737229821528734971"
     },
     "user_tz": -60
    },
    "id": "8iQKsZftjsPR",
    "outputId": "22d8df05-3f92-4c31-d831-e9308b0db4c9"
   },
   "outputs": [
    {
     "data": {
      "text/plain": [
       "({'female': 2,\n",
       "  'high.educ_group': 4,\n",
       "  'income_group': 8,\n",
       "  'married': 6,\n",
       "  'race.ethnicity': 5},\n",
       " ['BMI_norm',\n",
       "  'age_norm',\n",
       "  'vol_norm',\n",
       "  'weight_norm',\n",
       "  'height_norm',\n",
       "  'nihtbx_fluidcomp_uncorrected_norm',\n",
       "  'nihtbx_cryst_uncorrected_norm',\n",
       "  'nihtbx_pattern_uncorrected_norm',\n",
       "  'nihtbx_picture_uncorrected_norm',\n",
       "  'nihtbx_list_uncorrected_norm',\n",
       "  'nihtbx_flanker_uncorrected_norm',\n",
       "  'nihtbx_picvocab_uncorrected_norm',\n",
       "  'nihtbx_cardsort_uncorrected_norm',\n",
       "  'nihtbx_totalcomp_uncorrected_norm',\n",
       "  'nihtbx_reading_uncorrected_norm'])"
      ]
     },
     "execution_count": 28,
     "metadata": {},
     "output_type": "execute_result"
    }
   ],
   "source": [
    "cat_cols, num_cols"
   ]
  },
  {
   "cell_type": "code",
   "execution_count": 29,
   "metadata": {
    "colab": {},
    "colab_type": "code",
    "id": "XK13wNFtoIC4"
   },
   "outputs": [],
   "source": [
    "modelname = 'site16_downsample_t1t2_test_'"
   ]
  },
  {
   "cell_type": "code",
   "execution_count": 30,
   "metadata": {
    "colab": {
     "base_uri": "https://localhost:8080/",
     "height": 1000
    },
    "colab_type": "code",
    "executionInfo": {
     "elapsed": 46355,
     "status": "ok",
     "timestamp": 1573636701683,
     "user": {
      "displayName": "Benedikt Dietmar Schifferer",
      "photoUrl": "https://lh3.googleusercontent.com/a-/AAuE7mDViwxKXBjVKZfXMWGuXrQ48D62bye6HNutAOX0=s64",
      "userId": "06737229821528734971"
     },
     "user_tz": -60
    },
    "id": "RV24LE3k-00n",
    "outputId": "067125be-6ce2-40c9-998e-62f800ccb2f1"
   },
   "outputs": [
    {
     "name": "stdout",
     "output_type": "stream",
     "text": [
      "{'female': 2, 'race.ethnicity': 5, 'income_group': 8, 'married': 6, 'high.educ_group': 4}\n",
      "['BMI_norm', 'age_norm', 'vol_norm', 'weight_norm', 'height_norm', 'nihtbx_fluidcomp_uncorrected_norm', 'nihtbx_cryst_uncorrected_norm', 'nihtbx_pattern_uncorrected_norm', 'nihtbx_picture_uncorrected_norm', 'nihtbx_list_uncorrected_norm', 'nihtbx_flanker_uncorrected_norm', 'nihtbx_picvocab_uncorrected_norm', 'nihtbx_cardsort_uncorrected_norm', 'nihtbx_totalcomp_uncorrected_norm', 'nihtbx_reading_uncorrected_norm']\n",
      "Epochs: 0\n",
      "10.0\n",
      "20.0\n",
      "30.0\n",
      "40.0\n",
      "50.0\n",
      "60.0\n",
      "70.0\n",
      "10.0\n",
      "10.0\n",
      "                                 name  best_loss_test  best_acc_test\n",
      "0                              female        0.090675       0.508197\n",
      "1                      race.ethnicity        0.091352       0.778689\n",
      "2                        income_group        0.247845       0.245902\n",
      "3                             married        0.079333       0.860656\n",
      "4                     high.educ_group        0.046390       0.926230\n",
      "5                            BMI_norm        0.857164      15.070319\n",
      "6                            age_norm        1.190903      66.616019\n",
      "7                            vol_norm        0.617604       0.619705\n",
      "8                         weight_norm        1.025919     558.006148\n",
      "9                         height_norm        0.846331       8.412420\n",
      "10  nihtbx_fluidcomp_uncorrected_norm        0.770617       0.578010\n",
      "11      nihtbx_cryst_uncorrected_norm        1.013033       0.623520\n",
      "12    nihtbx_pattern_uncorrected_norm        0.741226       0.667073\n",
      "13    nihtbx_picture_uncorrected_norm        0.753861       0.691576\n",
      "14       nihtbx_list_uncorrected_norm        0.796692       0.630854\n",
      "15    nihtbx_flanker_uncorrected_norm        0.796702       0.655539\n",
      "16   nihtbx_picvocab_uncorrected_norm        1.094452       0.707202\n",
      "17   nihtbx_cardsort_uncorrected_norm        0.731622       0.628849\n",
      "18  nihtbx_totalcomp_uncorrected_norm        0.876128       0.542190\n",
      "19    nihtbx_reading_uncorrected_norm        0.806791       0.592921\n",
      "                                 name  best_loss_val  best_acc_val\n",
      "0                              female       0.084770      0.459016\n",
      "1                      race.ethnicity       0.072450      0.786885\n",
      "2                        income_group       0.216342      0.360656\n",
      "3                             married       0.070375      0.819672\n",
      "4                     high.educ_group       0.053211      0.836066\n",
      "5                            BMI_norm       0.676837     11.899880\n",
      "6                            age_norm       1.305456     73.023782\n",
      "7                            vol_norm       0.763591      0.766189\n",
      "8                         weight_norm       0.740780    402.916464\n",
      "9                         height_norm       0.784366      7.796497\n",
      "10  nihtbx_fluidcomp_uncorrected_norm       0.924374      0.693338\n",
      "11      nihtbx_cryst_uncorrected_norm       0.947528      0.583202\n",
      "12    nihtbx_pattern_uncorrected_norm       0.883631      0.795232\n",
      "13    nihtbx_picture_uncorrected_norm       1.016658      0.932660\n",
      "14       nihtbx_list_uncorrected_norm       0.762352      0.603663\n",
      "15    nihtbx_flanker_uncorrected_norm       0.953348      0.784429\n",
      "16   nihtbx_picvocab_uncorrected_norm       0.987209      0.637904\n",
      "17   nihtbx_cardsort_uncorrected_norm       0.814661      0.700223\n",
      "18  nihtbx_totalcomp_uncorrected_norm       0.847165      0.524266\n",
      "19    nihtbx_reading_uncorrected_norm       0.826567      0.607455\n",
      "Epoch 0, Loss: 1051.683, Accuracy: 13638.878, Val Loss: 13.732, Val Accuracy: 506.527, Time Model: 31.993, Time Data: 2.344\n",
      "Epochs: 1\n",
      "10.0\n",
      "20.0\n",
      "30.0\n",
      "40.0\n",
      "50.0\n",
      "60.0\n",
      "70.0\n",
      "10.0\n",
      "10.0\n",
      "                                 name  best_loss_test  best_acc_test\n",
      "0                              female        0.088393       0.549180\n",
      "1                      race.ethnicity        0.090531       0.778689\n",
      "2                        income_group        0.247845       0.245902\n",
      "3                             married        0.079333       0.860656\n",
      "4                     high.educ_group        0.046390       0.926230\n",
      "5                            BMI_norm        0.702896      12.358042\n",
      "6                            age_norm        1.190903      66.616019\n",
      "7                            vol_norm        0.477972       0.479598\n",
      "8                         weight_norm        0.876674     476.830334\n",
      "9                         height_norm        0.892654       8.872872\n",
      "10  nihtbx_fluidcomp_uncorrected_norm        0.770617       0.578010\n",
      "11      nihtbx_cryst_uncorrected_norm        1.013033       0.623520\n",
      "12    nihtbx_pattern_uncorrected_norm        0.741226       0.667073\n",
      "13    nihtbx_picture_uncorrected_norm        0.757380       0.694804\n",
      "14       nihtbx_list_uncorrected_norm        0.796692       0.630854\n",
      "15    nihtbx_flanker_uncorrected_norm        0.796702       0.655539\n",
      "16   nihtbx_picvocab_uncorrected_norm        1.094452       0.707202\n",
      "17   nihtbx_cardsort_uncorrected_norm        0.731622       0.628849\n",
      "18  nihtbx_totalcomp_uncorrected_norm        0.876128       0.542190\n",
      "19    nihtbx_reading_uncorrected_norm        0.806791       0.592921\n",
      "                                 name  best_loss_val  best_acc_val\n",
      "0                              female       0.082354      0.540984\n",
      "1                      race.ethnicity       0.069650      0.786885\n",
      "2                        income_group       0.216342      0.360656\n",
      "3                             married       0.070375      0.819672\n",
      "4                     high.educ_group       0.053211      0.836066\n",
      "5                            BMI_norm       0.470423      8.270801\n",
      "6                            age_norm       1.305456     73.023782\n",
      "7                            vol_norm       0.577195      0.579159\n",
      "8                         weight_norm       0.534579    290.761975\n",
      "9                         height_norm       0.734020      7.296063\n",
      "10  nihtbx_fluidcomp_uncorrected_norm       0.924374      0.693338\n",
      "11      nihtbx_cryst_uncorrected_norm       0.947528      0.583202\n",
      "12    nihtbx_pattern_uncorrected_norm       0.883631      0.795232\n",
      "13    nihtbx_picture_uncorrected_norm       1.016169      0.932212\n",
      "14       nihtbx_list_uncorrected_norm       0.762352      0.603663\n",
      "15    nihtbx_flanker_uncorrected_norm       0.953348      0.784429\n",
      "16   nihtbx_picvocab_uncorrected_norm       0.987209      0.637904\n",
      "17   nihtbx_cardsort_uncorrected_norm       0.814661      0.700223\n",
      "18  nihtbx_totalcomp_uncorrected_norm       0.847165      0.524266\n",
      "19    nihtbx_reading_uncorrected_norm       0.826567      0.607455\n",
      "Epoch 1, Loss: 64.670, Accuracy: 1713.961, Val Loss: 13.462, Val Accuracy: 391.433, Time Model: 20.823, Time Data: 2.381\n",
      "Epochs: 2\n",
      "10.0\n",
      "20.0\n",
      "30.0\n",
      "40.0\n",
      "50.0\n",
      "60.0\n",
      "70.0\n",
      "10.0\n",
      "10.0\n",
      "                                 name  best_loss_test  best_acc_test\n",
      "0                              female        0.082861       0.622951\n",
      "1                      race.ethnicity        0.089192       0.778689\n",
      "2                        income_group        0.247845       0.245902\n",
      "3                             married        0.079333       0.860656\n",
      "4                     high.educ_group        0.046390       0.926230\n",
      "5                            BMI_norm        0.462464       8.130863\n",
      "6                            age_norm        1.221403      68.322098\n",
      "7                            vol_norm        0.413432       0.414839\n",
      "8                         weight_norm        0.599270     325.947938\n",
      "9                         height_norm        0.783563       7.788520\n",
      "10  nihtbx_fluidcomp_uncorrected_norm        0.770617       0.578010\n",
      "11      nihtbx_cryst_uncorrected_norm        1.013033       0.623520\n",
      "12    nihtbx_pattern_uncorrected_norm        0.741226       0.667073\n",
      "13    nihtbx_picture_uncorrected_norm        0.758811       0.696117\n",
      "14       nihtbx_list_uncorrected_norm        0.796692       0.630854\n",
      "15    nihtbx_flanker_uncorrected_norm        0.796702       0.655539\n",
      "16   nihtbx_picvocab_uncorrected_norm        1.094452       0.707202\n",
      "17   nihtbx_cardsort_uncorrected_norm        0.731622       0.628849\n",
      "18  nihtbx_totalcomp_uncorrected_norm        0.876128       0.542190\n",
      "19    nihtbx_reading_uncorrected_norm        0.806791       0.592921\n",
      "                                 name  best_loss_val  best_acc_val\n",
      "0                              female       0.078373      0.565574\n",
      "1                      race.ethnicity       0.069255      0.786885\n",
      "2                        income_group       0.216342      0.360656\n",
      "3                             married       0.070375      0.819672\n",
      "4                     high.educ_group       0.053211      0.836066\n",
      "5                            BMI_norm       0.293673      5.163237\n",
      "6                            age_norm       1.292683     72.309306\n",
      "7                            vol_norm       0.390735      0.392065\n",
      "8                         weight_norm       0.322962    175.661885\n",
      "9                         height_norm       0.589577      5.860316\n",
      "10  nihtbx_fluidcomp_uncorrected_norm       0.924374      0.693338\n",
      "11      nihtbx_cryst_uncorrected_norm       0.947528      0.583202\n",
      "12    nihtbx_pattern_uncorrected_norm       0.883631      0.795232\n",
      "13    nihtbx_picture_uncorrected_norm       1.012874      0.929190\n",
      "14       nihtbx_list_uncorrected_norm       0.762352      0.603663\n",
      "15    nihtbx_flanker_uncorrected_norm       0.953348      0.784429\n",
      "16   nihtbx_picvocab_uncorrected_norm       0.987209      0.637904\n",
      "17   nihtbx_cardsort_uncorrected_norm       0.814661      0.700223\n",
      "18  nihtbx_totalcomp_uncorrected_norm       0.847165      0.524266\n",
      "19    nihtbx_reading_uncorrected_norm       0.826567      0.607455\n",
      "Epoch 2, Loss: 62.216, Accuracy: 1357.944, Val Loss: 12.699, Val Accuracy: 269.874, Time Model: 20.743, Time Data: 2.413\n",
      "Epochs: 3\n"
     ]
    },
    {
     "name": "stdout",
     "output_type": "stream",
     "text": [
      "10.0\n",
      "20.0\n",
      "30.0\n",
      "40.0\n",
      "50.0\n",
      "60.0\n",
      "70.0\n",
      "10.0\n",
      "10.0\n",
      "                                 name  best_loss_test  best_acc_test\n",
      "0                              female        0.080367       0.672131\n",
      "1                      race.ethnicity        0.089507       0.778689\n",
      "2                        income_group        0.247845       0.245902\n",
      "3                             married        0.079333       0.860656\n",
      "4                     high.educ_group        0.046390       0.926230\n",
      "5                            BMI_norm        0.356292       6.264189\n",
      "6                            age_norm        1.205179      67.414543\n",
      "7                            vol_norm        0.400940       0.402304\n",
      "8                         weight_norm        0.451367     245.502561\n",
      "9                         height_norm        0.706129       7.018833\n",
      "10  nihtbx_fluidcomp_uncorrected_norm        0.770617       0.578010\n",
      "11      nihtbx_cryst_uncorrected_norm        1.013033       0.623520\n",
      "12    nihtbx_pattern_uncorrected_norm        0.741226       0.667073\n",
      "13    nihtbx_picture_uncorrected_norm        0.763160       0.700106\n",
      "14       nihtbx_list_uncorrected_norm        0.796692       0.630854\n",
      "15    nihtbx_flanker_uncorrected_norm        0.796702       0.655539\n",
      "16   nihtbx_picvocab_uncorrected_norm        1.094452       0.707202\n",
      "17   nihtbx_cardsort_uncorrected_norm        0.731622       0.628849\n",
      "18  nihtbx_totalcomp_uncorrected_norm        0.876128       0.542190\n",
      "19    nihtbx_reading_uncorrected_norm        0.806791       0.592921\n",
      "                                 name  best_loss_val  best_acc_val\n",
      "0                              female       0.076970      0.573770\n",
      "1                      race.ethnicity       0.069179      0.786885\n",
      "2                        income_group       0.216342      0.360656\n",
      "3                             married       0.070375      0.819672\n",
      "4                     high.educ_group       0.053211      0.836066\n",
      "5                            BMI_norm       0.228529      4.017906\n",
      "6                            age_norm       1.256460     70.283059\n",
      "7                            vol_norm       0.340733      0.341893\n",
      "8                         weight_norm       0.232123    126.253650\n",
      "9                         height_norm       0.522155      5.190152\n",
      "10  nihtbx_fluidcomp_uncorrected_norm       0.924374      0.693338\n",
      "11      nihtbx_cryst_uncorrected_norm       0.947528      0.583202\n",
      "12    nihtbx_pattern_uncorrected_norm       0.883631      0.795232\n",
      "13    nihtbx_picture_uncorrected_norm       1.010687      0.927183\n",
      "14       nihtbx_list_uncorrected_norm       0.762352      0.603663\n",
      "15    nihtbx_flanker_uncorrected_norm       0.953348      0.784429\n",
      "16   nihtbx_picvocab_uncorrected_norm       0.987209      0.637904\n",
      "17   nihtbx_cardsort_uncorrected_norm       0.814661      0.700223\n",
      "18  nihtbx_totalcomp_uncorrected_norm       0.847165      0.524266\n",
      "19    nihtbx_reading_uncorrected_norm       0.826567      0.607455\n",
      "Epoch 3, Loss: 60.637, Accuracy: 1158.834, Val Loss: 12.349, Val Accuracy: 216.548, Time Model: 20.804, Time Data: 2.375\n",
      "Epochs: 4\n",
      "10.0\n",
      "20.0\n",
      "30.0\n",
      "40.0\n",
      "50.0\n",
      "60.0\n",
      "70.0\n",
      "10.0\n",
      "10.0\n",
      "                                 name  best_loss_test  best_acc_test\n",
      "0                              female        0.077233       0.680328\n",
      "1                      race.ethnicity        0.088079       0.778689\n",
      "2                        income_group        0.247845       0.245902\n",
      "3                             married        0.079333       0.860656\n",
      "4                     high.educ_group        0.046390       0.926230\n",
      "5                            BMI_norm        0.268643       4.723183\n",
      "6                            age_norm        1.177524      65.867584\n",
      "7                            vol_norm        0.289675       0.290661\n",
      "8                         weight_norm        0.339868     184.857246\n",
      "9                         height_norm        0.654858       6.509202\n",
      "10  nihtbx_fluidcomp_uncorrected_norm        0.770617       0.578010\n",
      "11      nihtbx_cryst_uncorrected_norm        1.013033       0.623520\n",
      "12    nihtbx_pattern_uncorrected_norm        0.741226       0.667073\n",
      "13    nihtbx_picture_uncorrected_norm        0.764555       0.701386\n",
      "14       nihtbx_list_uncorrected_norm        0.796692       0.630854\n",
      "15    nihtbx_flanker_uncorrected_norm        0.796702       0.655539\n",
      "16   nihtbx_picvocab_uncorrected_norm        1.094452       0.707202\n",
      "17   nihtbx_cardsort_uncorrected_norm        0.731622       0.628849\n",
      "18  nihtbx_totalcomp_uncorrected_norm        0.876128       0.542190\n",
      "19    nihtbx_reading_uncorrected_norm        0.806791       0.592921\n",
      "                                 name  best_loss_val  best_acc_val\n",
      "0                              female       0.074870      0.598361\n",
      "1                      race.ethnicity       0.068625      0.786885\n",
      "2                        income_group       0.216342      0.360656\n",
      "3                             married       0.070375      0.819672\n",
      "4                     high.educ_group       0.053211      0.836066\n",
      "5                            BMI_norm       0.175313      3.082288\n",
      "6                            age_norm       1.223547     68.442023\n",
      "7                            vol_norm       0.238628      0.239440\n",
      "8                         weight_norm       0.172071     93.590844\n",
      "9                         height_norm       0.490601      4.876514\n",
      "10  nihtbx_fluidcomp_uncorrected_norm       0.924374      0.693338\n",
      "11      nihtbx_cryst_uncorrected_norm       0.947528      0.583202\n",
      "12    nihtbx_pattern_uncorrected_norm       0.883631      0.795232\n",
      "13    nihtbx_picture_uncorrected_norm       1.004229      0.921258\n",
      "14       nihtbx_list_uncorrected_norm       0.762352      0.603663\n",
      "15    nihtbx_flanker_uncorrected_norm       0.953348      0.784429\n",
      "16   nihtbx_picvocab_uncorrected_norm       0.987209      0.637904\n",
      "17   nihtbx_cardsort_uncorrected_norm       0.814661      0.700223\n",
      "18  nihtbx_totalcomp_uncorrected_norm       0.847165      0.524266\n",
      "19    nihtbx_reading_uncorrected_norm       0.826567      0.607455\n",
      "Epoch 4, Loss: 59.421, Accuracy: 1034.104, Val Loss: 11.997, Val Accuracy: 180.674, Time Model: 20.732, Time Data: 2.339\n",
      "Epochs: 5\n",
      "10.0\n",
      "20.0\n",
      "30.0\n",
      "40.0\n",
      "50.0\n",
      "60.0\n",
      "70.0\n",
      "10.0\n",
      "10.0\n",
      "                                 name  best_loss_test  best_acc_test\n",
      "0                              female        0.075957       0.721311\n",
      "1                      race.ethnicity        0.086152       0.778689\n",
      "2                        income_group        0.247845       0.245902\n",
      "3                             married        0.080558       0.860656\n",
      "4                     high.educ_group        0.044210       0.926230\n",
      "5                            BMI_norm        0.268643       4.723183\n",
      "6                            age_norm        1.177524      65.867584\n",
      "7                            vol_norm        0.224361       0.225124\n",
      "8                         weight_norm        0.339868     184.857246\n",
      "9                         height_norm        0.645699       6.418168\n",
      "10  nihtbx_fluidcomp_uncorrected_norm        0.770617       0.578010\n",
      "11      nihtbx_cryst_uncorrected_norm        1.013033       0.623520\n",
      "12    nihtbx_pattern_uncorrected_norm        0.741226       0.667073\n",
      "13    nihtbx_picture_uncorrected_norm        0.761921       0.698970\n",
      "14       nihtbx_list_uncorrected_norm        0.796692       0.630854\n",
      "15    nihtbx_flanker_uncorrected_norm        0.796702       0.655539\n",
      "16   nihtbx_picvocab_uncorrected_norm        1.072040       0.692720\n",
      "17   nihtbx_cardsort_uncorrected_norm        0.731622       0.628849\n",
      "18  nihtbx_totalcomp_uncorrected_norm        0.876128       0.542190\n",
      "19    nihtbx_reading_uncorrected_norm        0.806791       0.592921\n",
      "                                 name  best_loss_val  best_acc_val\n",
      "0                              female       0.073239      0.639344\n",
      "1                      race.ethnicity       0.068023      0.786885\n",
      "2                        income_group       0.216342      0.360656\n",
      "3                             married       0.070364      0.819672\n",
      "4                     high.educ_group       0.050660      0.836066\n",
      "5                            BMI_norm       0.175313      3.082288\n",
      "6                            age_norm       1.223547     68.442023\n",
      "7                            vol_norm       0.195036      0.195700\n",
      "8                         weight_norm       0.172071     93.590844\n",
      "9                         height_norm       0.482809      4.799062\n",
      "10  nihtbx_fluidcomp_uncorrected_norm       0.924374      0.693338\n",
      "11      nihtbx_cryst_uncorrected_norm       0.947528      0.583202\n",
      "12    nihtbx_pattern_uncorrected_norm       0.883631      0.795232\n",
      "13    nihtbx_picture_uncorrected_norm       1.001774      0.919006\n",
      "14       nihtbx_list_uncorrected_norm       0.762352      0.603663\n",
      "15    nihtbx_flanker_uncorrected_norm       0.953348      0.784429\n",
      "16   nihtbx_picvocab_uncorrected_norm       0.981476      0.634200\n",
      "17   nihtbx_cardsort_uncorrected_norm       0.814661      0.700223\n",
      "18  nihtbx_totalcomp_uncorrected_norm       0.847165      0.524266\n",
      "19    nihtbx_reading_uncorrected_norm       0.826567      0.607455\n",
      "Epoch 5, Loss: 58.384, Accuracy: 938.181, Val Loss: 11.858, Val Accuracy: 181.708, Time Model: 20.809, Time Data: 2.390\n",
      "Epochs: 6\n"
     ]
    },
    {
     "name": "stdout",
     "output_type": "stream",
     "text": [
      "10.0\n",
      "20.0\n",
      "30.0\n",
      "40.0\n",
      "50.0\n",
      "60.0\n",
      "70.0\n",
      "10.0\n",
      "10.0\n",
      "                                 name  best_loss_test  best_acc_test\n",
      "0                              female        0.072749       0.721311\n",
      "1                      race.ethnicity        0.085731       0.778689\n",
      "2                        income_group        0.247845       0.245902\n",
      "3                             married        0.080558       0.860656\n",
      "4                     high.educ_group        0.043531       0.926230\n",
      "5                            BMI_norm        0.226856       3.988500\n",
      "6                            age_norm        1.173895      65.664631\n",
      "7                            vol_norm        0.185348       0.185979\n",
      "8                         weight_norm        0.293041     159.387583\n",
      "9                         height_norm        0.636488       6.326605\n",
      "10  nihtbx_fluidcomp_uncorrected_norm        0.770617       0.578010\n",
      "11      nihtbx_cryst_uncorrected_norm        1.013033       0.623520\n",
      "12    nihtbx_pattern_uncorrected_norm        0.732462       0.659186\n",
      "13    nihtbx_picture_uncorrected_norm        0.761629       0.698702\n",
      "14       nihtbx_list_uncorrected_norm        0.796692       0.630854\n",
      "15    nihtbx_flanker_uncorrected_norm        0.796702       0.655539\n",
      "16   nihtbx_picvocab_uncorrected_norm        1.073806       0.693860\n",
      "17   nihtbx_cardsort_uncorrected_norm        0.731622       0.628849\n",
      "18  nihtbx_totalcomp_uncorrected_norm        0.876128       0.542190\n",
      "19    nihtbx_reading_uncorrected_norm        0.806791       0.592921\n",
      "                                 name  best_loss_val  best_acc_val\n",
      "0                              female       0.070890      0.663934\n",
      "1                      race.ethnicity       0.067390      0.786885\n",
      "2                        income_group       0.216342      0.360656\n",
      "3                             married       0.070364      0.819672\n",
      "4                     high.educ_group       0.049095      0.836066\n",
      "5                            BMI_norm       0.168103      2.955526\n",
      "6                            age_norm       1.213348     67.871518\n",
      "7                            vol_norm       0.161435      0.161984\n",
      "8                         weight_norm       0.167101     90.887407\n",
      "9                         height_norm       0.474909      4.720536\n",
      "10  nihtbx_fluidcomp_uncorrected_norm       0.924374      0.693338\n",
      "11      nihtbx_cryst_uncorrected_norm       0.947528      0.583202\n",
      "12    nihtbx_pattern_uncorrected_norm       0.875696      0.788091\n",
      "13    nihtbx_picture_uncorrected_norm       0.998225      0.915751\n",
      "14       nihtbx_list_uncorrected_norm       0.762352      0.603663\n",
      "15    nihtbx_flanker_uncorrected_norm       0.953348      0.784429\n",
      "16   nihtbx_picvocab_uncorrected_norm       0.974934      0.629972\n",
      "17   nihtbx_cardsort_uncorrected_norm       0.814661      0.700223\n",
      "18  nihtbx_totalcomp_uncorrected_norm       0.847165      0.524266\n",
      "19    nihtbx_reading_uncorrected_norm       0.826567      0.607455\n",
      "Epoch 6, Loss: 57.749, Accuracy: 859.167, Val Loss: 11.745, Val Accuracy: 177.017, Time Model: 20.755, Time Data: 2.385\n",
      "Epochs: 7\n",
      "10.0\n",
      "20.0\n",
      "30.0\n",
      "40.0\n",
      "50.0\n",
      "60.0\n",
      "70.0\n",
      "10.0\n",
      "10.0\n",
      "                                 name  best_loss_test  best_acc_test\n",
      "0                              female        0.072364       0.713115\n",
      "1                      race.ethnicity        0.085053       0.778689\n",
      "2                        income_group        0.247845       0.245902\n",
      "3                             married        0.080558       0.860656\n",
      "4                     high.educ_group        0.043441       0.926230\n",
      "5                            BMI_norm        0.214943       3.779046\n",
      "6                            age_norm        1.173895      65.664631\n",
      "7                            vol_norm        0.166172       0.166737\n",
      "8                         weight_norm        0.274406     149.251633\n",
      "9                         height_norm        0.636488       6.326605\n",
      "10  nihtbx_fluidcomp_uncorrected_norm        0.770617       0.578010\n",
      "11      nihtbx_cryst_uncorrected_norm        1.013033       0.623520\n",
      "12    nihtbx_pattern_uncorrected_norm        0.729235       0.656282\n",
      "13    nihtbx_picture_uncorrected_norm        0.762203       0.699229\n",
      "14       nihtbx_list_uncorrected_norm        0.796692       0.630854\n",
      "15    nihtbx_flanker_uncorrected_norm        0.796702       0.655539\n",
      "16   nihtbx_picvocab_uncorrected_norm        1.073806       0.693860\n",
      "17   nihtbx_cardsort_uncorrected_norm        0.731622       0.628849\n",
      "18  nihtbx_totalcomp_uncorrected_norm        0.876128       0.542190\n",
      "19    nihtbx_reading_uncorrected_norm        0.806791       0.592921\n",
      "                                 name  best_loss_val  best_acc_val\n",
      "0                              female       0.070140      0.680328\n",
      "1                      race.ethnicity       0.066781      0.786885\n",
      "2                        income_group       0.216342      0.360656\n",
      "3                             married       0.070364      0.819672\n",
      "4                     high.educ_group       0.048455      0.836066\n",
      "5                            BMI_norm       0.153291      2.695101\n",
      "6                            age_norm       1.213348     67.871518\n",
      "7                            vol_norm       0.160110      0.160655\n",
      "8                         weight_norm       0.153078     83.260286\n",
      "9                         height_norm       0.474909      4.720536\n",
      "10  nihtbx_fluidcomp_uncorrected_norm       0.924374      0.693338\n",
      "11      nihtbx_cryst_uncorrected_norm       0.947528      0.583202\n",
      "12    nihtbx_pattern_uncorrected_norm       0.869854      0.782833\n",
      "13    nihtbx_picture_uncorrected_norm       0.997478      0.915065\n",
      "14       nihtbx_list_uncorrected_norm       0.762352      0.603663\n",
      "15    nihtbx_flanker_uncorrected_norm       0.953348      0.784429\n",
      "16   nihtbx_picvocab_uncorrected_norm       0.974934      0.629972\n",
      "17   nihtbx_cardsort_uncorrected_norm       0.814661      0.700223\n",
      "18  nihtbx_totalcomp_uncorrected_norm       0.847165      0.524266\n",
      "19    nihtbx_reading_uncorrected_norm       0.826567      0.607455\n",
      "Epoch 7, Loss: 57.113, Accuracy: 791.979, Val Loss: 11.794, Val Accuracy: 170.857, Time Model: 20.776, Time Data: 2.373\n",
      "Epochs: 8\n",
      "10.0\n",
      "20.0\n",
      "30.0\n",
      "40.0\n",
      "50.0\n",
      "60.0\n",
      "70.0\n",
      "10.0\n",
      "10.0\n",
      "                                 name  best_loss_test  best_acc_test\n",
      "0                              female        0.070375       0.762295\n",
      "1                      race.ethnicity        0.084930       0.778689\n",
      "2                        income_group        0.244081       0.245902\n",
      "3                             married        0.080558       0.860656\n",
      "4                     high.educ_group        0.043824       0.926230\n",
      "5                            BMI_norm        0.198922       3.497361\n",
      "6                            age_norm        1.173895      65.664631\n",
      "7                            vol_norm        0.166172       0.166737\n",
      "8                         weight_norm        0.263671     143.412942\n",
      "9                         height_norm        0.636488       6.326605\n",
      "10  nihtbx_fluidcomp_uncorrected_norm        0.770617       0.578010\n",
      "11      nihtbx_cryst_uncorrected_norm        1.013033       0.623520\n",
      "12    nihtbx_pattern_uncorrected_norm        0.729235       0.656282\n",
      "13    nihtbx_picture_uncorrected_norm        0.763574       0.700486\n",
      "14       nihtbx_list_uncorrected_norm        0.796692       0.630854\n",
      "15    nihtbx_flanker_uncorrected_norm        0.810091       0.666556\n",
      "16   nihtbx_picvocab_uncorrected_norm        1.078292       0.696759\n",
      "17   nihtbx_cardsort_uncorrected_norm        0.731622       0.628849\n",
      "18  nihtbx_totalcomp_uncorrected_norm        0.876128       0.542190\n",
      "19    nihtbx_reading_uncorrected_norm        0.806791       0.592921\n",
      "                                 name  best_loss_val  best_acc_val\n",
      "0                              female       0.068444      0.713115\n",
      "1                      race.ethnicity       0.065778      0.786885\n",
      "2                        income_group       0.215987      0.360656\n",
      "3                             married       0.070364      0.819672\n",
      "4                     high.educ_group       0.048106      0.836066\n",
      "5                            BMI_norm       0.146370      2.573429\n",
      "6                            age_norm       1.213348     67.871518\n",
      "7                            vol_norm       0.160110      0.160655\n",
      "8                         weight_norm       0.148975     81.028969\n",
      "9                         height_norm       0.474909      4.720536\n",
      "10  nihtbx_fluidcomp_uncorrected_norm       0.924374      0.693338\n",
      "11      nihtbx_cryst_uncorrected_norm       0.947528      0.583202\n",
      "12    nihtbx_pattern_uncorrected_norm       0.869854      0.782833\n",
      "13    nihtbx_picture_uncorrected_norm       0.992110      0.910141\n",
      "14       nihtbx_list_uncorrected_norm       0.762352      0.603663\n",
      "15    nihtbx_flanker_uncorrected_norm       0.949066      0.780906\n",
      "16   nihtbx_picvocab_uncorrected_norm       0.972820      0.628606\n",
      "17   nihtbx_cardsort_uncorrected_norm       0.814661      0.700223\n",
      "18  nihtbx_totalcomp_uncorrected_norm       0.847165      0.524266\n",
      "19    nihtbx_reading_uncorrected_norm       0.826567      0.607455\n",
      "Epoch 8, Loss: 56.941, Accuracy: 767.932, Val Loss: 11.811, Val Accuracy: 169.705, Time Model: 20.831, Time Data: 2.377\n",
      "Epochs: 9\n"
     ]
    },
    {
     "name": "stdout",
     "output_type": "stream",
     "text": [
      "10.0\n",
      "20.0\n",
      "30.0\n",
      "40.0\n",
      "50.0\n",
      "60.0\n",
      "70.0\n",
      "10.0\n",
      "10.0\n",
      "                                 name  best_loss_test  best_acc_test\n",
      "0                              female        0.066124       0.803279\n",
      "1                      race.ethnicity        0.084216       0.778689\n",
      "2                        income_group        0.243653       0.245902\n",
      "3                             married        0.080558       0.860656\n",
      "4                     high.educ_group        0.043824       0.926230\n",
      "5                            BMI_norm        0.190272       3.345294\n",
      "6                            age_norm        1.173895      65.664631\n",
      "7                            vol_norm        0.166172       0.166737\n",
      "8                         weight_norm        0.260217     141.534180\n",
      "9                         height_norm        0.636488       6.326605\n",
      "10  nihtbx_fluidcomp_uncorrected_norm        0.770617       0.578010\n",
      "11      nihtbx_cryst_uncorrected_norm        1.013033       0.623520\n",
      "12    nihtbx_pattern_uncorrected_norm        0.729235       0.656282\n",
      "13    nihtbx_picture_uncorrected_norm        0.761753       0.698816\n",
      "14       nihtbx_list_uncorrected_norm        0.796692       0.630854\n",
      "15    nihtbx_flanker_uncorrected_norm        0.810091       0.666556\n",
      "16   nihtbx_picvocab_uncorrected_norm        1.078292       0.696759\n",
      "17   nihtbx_cardsort_uncorrected_norm        0.731622       0.628849\n",
      "18  nihtbx_totalcomp_uncorrected_norm        0.876128       0.542190\n",
      "19    nihtbx_reading_uncorrected_norm        0.806791       0.592921\n",
      "                                 name  best_loss_val  best_acc_val\n",
      "0                              female       0.065377      0.737705\n",
      "1                      race.ethnicity       0.064617      0.786885\n",
      "2                        income_group       0.215495      0.360656\n",
      "3                             married       0.070364      0.819672\n",
      "4                     high.educ_group       0.048106      0.836066\n",
      "5                            BMI_norm       0.142792      2.510507\n",
      "6                            age_norm       1.213348     67.871518\n",
      "7                            vol_norm       0.160110      0.160655\n",
      "8                         weight_norm       0.144134     78.395708\n",
      "9                         height_norm       0.474909      4.720536\n",
      "10  nihtbx_fluidcomp_uncorrected_norm       0.924374      0.693338\n",
      "11      nihtbx_cryst_uncorrected_norm       0.947528      0.583202\n",
      "12    nihtbx_pattern_uncorrected_norm       0.869854      0.782833\n",
      "13    nihtbx_picture_uncorrected_norm       0.989367      0.907624\n",
      "14       nihtbx_list_uncorrected_norm       0.762352      0.603663\n",
      "15    nihtbx_flanker_uncorrected_norm       0.949066      0.780906\n",
      "16   nihtbx_picvocab_uncorrected_norm       0.972820      0.628606\n",
      "17   nihtbx_cardsort_uncorrected_norm       0.814661      0.700223\n",
      "18  nihtbx_totalcomp_uncorrected_norm       0.847165      0.524266\n",
      "19    nihtbx_reading_uncorrected_norm       0.826567      0.607455\n",
      "Epoch 9, Loss: 56.633, Accuracy: 745.238, Val Loss: 11.803, Val Accuracy: 166.681, Time Model: 20.752, Time Data: 2.349\n"
     ]
    }
   ],
   "source": [
    "decoder = np.vectorize(lambda x: x.decode('UTF-8'))\n",
    "template = 'Epoch {0}, Loss: {1:.3f}, Accuracy: {2:.3f}, Val Loss: {3:.3f}, Val Accuracy: {4:.3f}, Time Model: {5:.3f}, Time Data: {6:.3f}'\n",
    "for col in [0]:\n",
    "  log_textfile(path_output + modelname + 'multitask_test' + '.log', cat_cols),\n",
    "  log_textfile(path_output + modelname + 'multitask_test' + '.log', num_cols)\n",
    "  loss_object = tf.keras.losses.SparseCategoricalCrossentropy()\n",
    "  optimizer = tf.keras.optimizers.Adam(lr = 0.001)\n",
    "  model = MyDNN(cat_cols, num_cols)\n",
    "  df_best = None\n",
    "  for e in range(10):\n",
    "    log_textfile(path_output + modelname + 'multitask_test' + '.log', 'Epochs: ' + str(e))\n",
    "    loss = tf.Variable(0.)\n",
    "    acc = tf.Variable(0.) \n",
    "    val_loss = tf.Variable(0.)\n",
    "    val_acc = tf.Variable(0.)\n",
    "    test_loss = tf.Variable(0.)\n",
    "    test_acc = tf.Variable(0.)  \n",
    "    train_out_loss, train_out_acc, n, time_model, time_data = epoch(train_iter, train_df, model, optimizer, cat_cols, num_cols, norm_dict)\n",
    "    val_out_loss, val_out_acc, n, _, _ = epoch(val_iter, val_df, model, None, cat_cols, num_cols, norm_dict)\n",
    "    test_out_loss, test_out_acc, n, _, _ = epoch(test_iter, test_df, model, None, cat_cols, num_cols, norm_dict)\n",
    "    loss, acc, _ = format_output(train_out_loss, train_out_acc, n, list(cat_cols.keys())+num_cols)\n",
    "    val_loss, val_acc, df_val = format_output(val_out_loss, val_out_acc, n, list(cat_cols.keys())+num_cols, print_bl=False)\n",
    "    test_loss, test_acc, df_test = format_output(test_out_loss, test_out_acc, n, list(cat_cols.keys())+num_cols, print_bl=False)\n",
    "    df_val.columns = ['name', 'cur_loss_val', 'cur_acc_val']\n",
    "    df_test.columns = ['name', 'cur_loss_test', 'cur_acc_test']\n",
    "    if e == 0:\n",
    "      df_best = pd.merge(df_test, df_val, how='left', left_on='name', right_on='name')\n",
    "      df_best.columns = ['name', 'best_loss_test', 'best_acc_test', 'best_loss_val', 'best_acc_val']\n",
    "    df_best = best_val(df_best, df_val, df_test)\n",
    "    print(df_best[['name', 'best_loss_test', 'best_acc_test']])\n",
    "    print(df_best[['name', 'best_loss_val', 'best_acc_val']])\n",
    "    log_textfile(path_output +  modelname + 'multitask_test' + '.log', template.format(e, loss, acc, val_loss, val_acc, time_model, time_data))\n",
    "    df_best.to_csv(path_output +  modelname + 'multitask_test' + '.csv')"
   ]
  },
  {
   "cell_type": "code",
   "execution_count": 31,
   "metadata": {
    "colab": {
     "base_uri": "https://localhost:8080/",
     "height": 241
    },
    "colab_type": "code",
    "executionInfo": {
     "elapsed": 52176,
     "status": "ok",
     "timestamp": 1573636708782,
     "user": {
      "displayName": "Benedikt Dietmar Schifferer",
      "photoUrl": "https://lh3.googleusercontent.com/a-/AAuE7mDViwxKXBjVKZfXMWGuXrQ48D62bye6HNutAOX0=s64",
      "userId": "06737229821528734971"
     },
     "user_tz": -60
    },
    "id": "ENiEqcTM2o5b",
    "outputId": "7661277a-f2b1-485e-fbfb-85fc5e7d9c94"
   },
   "outputs": [
    {
     "name": "stdout",
     "output_type": "stream",
     "text": [
      "Collecting tf-explain\n",
      "  Downloading https://files.pythonhosted.org/packages/1e/1e/556ec1e91b100de61941a7c91589ce29be1afdc53d52658d2045ba84a7ab/tf_explain-0.1.0-py3-none-any.whl\n",
      "Collecting opencv-python>=4.1.0.25\n",
      "\u001b[?25l  Downloading https://files.pythonhosted.org/packages/5e/7e/bd5425f4dacb73367fddc71388a47c1ea570839197c2bcad86478e565186/opencv_python-4.1.1.26-cp36-cp36m-manylinux1_x86_64.whl (28.7MB)\n",
      "\u001b[K     |████████████████████████████████| 28.7MB 1.3MB/s \n",
      "\u001b[?25hRequirement already satisfied: numpy>=1.11.3 in /usr/local/lib/python3.6/dist-packages (from opencv-python>=4.1.0.25->tf-explain) (1.17.3)\n",
      "\u001b[31mERROR: albumentations 0.1.12 has requirement imgaug<0.2.7,>=0.2.5, but you'll have imgaug 0.2.9 which is incompatible.\u001b[0m\n",
      "Installing collected packages: opencv-python, tf-explain\n",
      "  Found existing installation: opencv-python 3.4.7.28\n",
      "    Uninstalling opencv-python-3.4.7.28:\n",
      "      Successfully uninstalled opencv-python-3.4.7.28\n",
      "Successfully installed opencv-python-4.1.1.26 tf-explain-0.1.0\n"
     ]
    }
   ],
   "source": [
    "!pip install tf-explain"
   ]
  },
  {
   "cell_type": "code",
   "execution_count": 32,
   "metadata": {
    "colab": {
     "base_uri": "https://localhost:8080/",
     "height": 190
    },
    "colab_type": "code",
    "executionInfo": {
     "elapsed": 57697,
     "status": "ok",
     "timestamp": 1573636714920,
     "user": {
      "displayName": "Benedikt Dietmar Schifferer",
      "photoUrl": "https://lh3.googleusercontent.com/a-/AAuE7mDViwxKXBjVKZfXMWGuXrQ48D62bye6HNutAOX0=s64",
      "userId": "06737229821528734971"
     },
     "user_tz": -60
    },
    "id": "je8ZbBq3tZys",
    "outputId": "3c420738-3d47-44ed-9f75-25a268651cf3"
   },
   "outputs": [
    {
     "name": "stdout",
     "output_type": "stream",
     "text": [
      "Collecting nilearn\n",
      "\u001b[?25l  Downloading https://files.pythonhosted.org/packages/6e/65/ba76e7cd544dafc28960e60b099d6f906a2096034c560158beaf2ff299bc/nilearn-0.5.2-py2.py3-none-any.whl (2.3MB)\n",
      "\r",
      "\u001b[K     |▏                               | 10kB 27.7MB/s eta 0:00:01\r",
      "\u001b[K     |▎                               | 20kB 1.1MB/s eta 0:00:03\r",
      "\u001b[K     |▍                               | 30kB 1.7MB/s eta 0:00:02\r",
      "\u001b[K     |▋                               | 40kB 1.1MB/s eta 0:00:03\r",
      "\u001b[K     |▊                               | 51kB 1.4MB/s eta 0:00:02\r",
      "\u001b[K     |▉                               | 61kB 1.6MB/s eta 0:00:02\r",
      "\u001b[K     |█                               | 71kB 1.9MB/s eta 0:00:02\r",
      "\u001b[K     |█▏                              | 81kB 2.2MB/s eta 0:00:02\r",
      "\u001b[K     |█▎                              | 92kB 2.4MB/s eta 0:00:01\r",
      "\u001b[K     |█▍                              | 102kB 1.8MB/s eta 0:00:02\r",
      "\u001b[K     |█▌                              | 112kB 1.8MB/s eta 0:00:02\r",
      "\u001b[K     |█▊                              | 122kB 1.8MB/s eta 0:00:02\r",
      "\u001b[K     |█▉                              | 133kB 1.8MB/s eta 0:00:02\r",
      "\u001b[K     |██                              | 143kB 1.8MB/s eta 0:00:02\r",
      "\u001b[K     |██                              | 153kB 1.8MB/s eta 0:00:02\r",
      "\u001b[K     |██▎                             | 163kB 1.8MB/s eta 0:00:02\r",
      "\u001b[K     |██▍                             | 174kB 1.8MB/s eta 0:00:02\r",
      "\u001b[K     |██▌                             | 184kB 1.8MB/s eta 0:00:02\r",
      "\u001b[K     |██▋                             | 194kB 1.8MB/s eta 0:00:02\r",
      "\u001b[K     |██▉                             | 204kB 1.8MB/s eta 0:00:02\r",
      "\u001b[K     |███                             | 215kB 1.8MB/s eta 0:00:02\r",
      "\u001b[K     |███                             | 225kB 1.8MB/s eta 0:00:02\r",
      "\u001b[K     |███▏                            | 235kB 1.8MB/s eta 0:00:02\r",
      "\u001b[K     |███▍                            | 245kB 1.8MB/s eta 0:00:02\r",
      "\u001b[K     |███▌                            | 256kB 1.8MB/s eta 0:00:02\r",
      "\u001b[K     |███▋                            | 266kB 1.8MB/s eta 0:00:02\r",
      "\u001b[K     |███▊                            | 276kB 1.8MB/s eta 0:00:02\r",
      "\u001b[K     |████                            | 286kB 1.8MB/s eta 0:00:02\r",
      "\u001b[K     |████                            | 296kB 1.8MB/s eta 0:00:02\r",
      "\u001b[K     |████▏                           | 307kB 1.8MB/s eta 0:00:02\r",
      "\u001b[K     |████▎                           | 317kB 1.8MB/s eta 0:00:02\r",
      "\u001b[K     |████▌                           | 327kB 1.8MB/s eta 0:00:02\r",
      "\u001b[K     |████▋                           | 337kB 1.8MB/s eta 0:00:02\r",
      "\u001b[K     |████▊                           | 348kB 1.8MB/s eta 0:00:02\r",
      "\u001b[K     |█████                           | 358kB 1.8MB/s eta 0:00:02\r",
      "\u001b[K     |█████                           | 368kB 1.8MB/s eta 0:00:02\r",
      "\u001b[K     |█████▏                          | 378kB 1.8MB/s eta 0:00:02\r",
      "\u001b[K     |█████▎                          | 389kB 1.8MB/s eta 0:00:02\r",
      "\u001b[K     |█████▌                          | 399kB 1.8MB/s eta 0:00:02\r",
      "\u001b[K     |█████▋                          | 409kB 1.8MB/s eta 0:00:02\r",
      "\u001b[K     |█████▊                          | 419kB 1.8MB/s eta 0:00:02\r",
      "\u001b[K     |█████▉                          | 430kB 1.8MB/s eta 0:00:02\r",
      "\u001b[K     |██████                          | 440kB 1.8MB/s eta 0:00:02\r",
      "\u001b[K     |██████▏                         | 450kB 1.8MB/s eta 0:00:02\r",
      "\u001b[K     |██████▎                         | 460kB 1.8MB/s eta 0:00:02\r",
      "\u001b[K     |██████▍                         | 471kB 1.8MB/s eta 0:00:02\r",
      "\u001b[K     |██████▋                         | 481kB 1.8MB/s eta 0:00:02\r",
      "\u001b[K     |██████▊                         | 491kB 1.8MB/s eta 0:00:02\r",
      "\u001b[K     |██████▉                         | 501kB 1.8MB/s eta 0:00:02\r",
      "\u001b[K     |███████                         | 512kB 1.8MB/s eta 0:00:02\r",
      "\u001b[K     |███████▏                        | 522kB 1.8MB/s eta 0:00:01\r",
      "\u001b[K     |███████▎                        | 532kB 1.8MB/s eta 0:00:01\r",
      "\u001b[K     |███████▍                        | 542kB 1.8MB/s eta 0:00:01\r",
      "\u001b[K     |███████▌                        | 552kB 1.8MB/s eta 0:00:01\r",
      "\u001b[K     |███████▊                        | 563kB 1.8MB/s eta 0:00:01\r",
      "\u001b[K     |███████▉                        | 573kB 1.8MB/s eta 0:00:01\r",
      "\u001b[K     |████████                        | 583kB 1.8MB/s eta 0:00:01\r",
      "\u001b[K     |████████                        | 593kB 1.8MB/s eta 0:00:01\r",
      "\u001b[K     |████████▎                       | 604kB 1.8MB/s eta 0:00:01\r",
      "\u001b[K     |████████▍                       | 614kB 1.8MB/s eta 0:00:01\r",
      "\u001b[K     |████████▌                       | 624kB 1.8MB/s eta 0:00:01\r",
      "\u001b[K     |████████▋                       | 634kB 1.8MB/s eta 0:00:01\r",
      "\u001b[K     |████████▉                       | 645kB 1.8MB/s eta 0:00:01\r",
      "\u001b[K     |█████████                       | 655kB 1.8MB/s eta 0:00:01\r",
      "\u001b[K     |█████████                       | 665kB 1.8MB/s eta 0:00:01\r",
      "\u001b[K     |█████████▏                      | 675kB 1.8MB/s eta 0:00:01\r",
      "\u001b[K     |█████████▍                      | 686kB 1.8MB/s eta 0:00:01\r",
      "\u001b[K     |█████████▌                      | 696kB 1.8MB/s eta 0:00:01\r",
      "\u001b[K     |█████████▋                      | 706kB 1.8MB/s eta 0:00:01\r",
      "\u001b[K     |█████████▉                      | 716kB 1.8MB/s eta 0:00:01\r",
      "\u001b[K     |██████████                      | 727kB 1.8MB/s eta 0:00:01\r",
      "\u001b[K     |██████████                      | 737kB 1.8MB/s eta 0:00:01\r",
      "\u001b[K     |██████████▏                     | 747kB 1.8MB/s eta 0:00:01\r",
      "\u001b[K     |██████████▍                     | 757kB 1.8MB/s eta 0:00:01\r",
      "\u001b[K     |██████████▌                     | 768kB 1.8MB/s eta 0:00:01\r",
      "\u001b[K     |██████████▋                     | 778kB 1.8MB/s eta 0:00:01\r",
      "\u001b[K     |██████████▊                     | 788kB 1.8MB/s eta 0:00:01\r",
      "\u001b[K     |███████████                     | 798kB 1.8MB/s eta 0:00:01\r",
      "\u001b[K     |███████████                     | 808kB 1.8MB/s eta 0:00:01\r",
      "\u001b[K     |███████████▏                    | 819kB 1.8MB/s eta 0:00:01\r",
      "\u001b[K     |███████████▎                    | 829kB 1.8MB/s eta 0:00:01\r",
      "\u001b[K     |███████████▌                    | 839kB 1.8MB/s eta 0:00:01\r",
      "\u001b[K     |███████████▋                    | 849kB 1.8MB/s eta 0:00:01\r",
      "\u001b[K     |███████████▊                    | 860kB 1.8MB/s eta 0:00:01\r",
      "\u001b[K     |███████████▉                    | 870kB 1.8MB/s eta 0:00:01\r",
      "\u001b[K     |████████████                    | 880kB 1.8MB/s eta 0:00:01\r",
      "\u001b[K     |████████████▏                   | 890kB 1.8MB/s eta 0:00:01\r",
      "\u001b[K     |████████████▎                   | 901kB 1.8MB/s eta 0:00:01\r",
      "\u001b[K     |████████████▍                   | 911kB 1.8MB/s eta 0:00:01\r",
      "\u001b[K     |████████████▋                   | 921kB 1.8MB/s eta 0:00:01\r",
      "\u001b[K     |████████████▊                   | 931kB 1.8MB/s eta 0:00:01\r",
      "\u001b[K     |████████████▉                   | 942kB 1.8MB/s eta 0:00:01\r",
      "\u001b[K     |█████████████                   | 952kB 1.8MB/s eta 0:00:01\r",
      "\u001b[K     |█████████████▏                  | 962kB 1.8MB/s eta 0:00:01\r",
      "\u001b[K     |█████████████▎                  | 972kB 1.8MB/s eta 0:00:01\r",
      "\u001b[K     |█████████████▍                  | 983kB 1.8MB/s eta 0:00:01\r",
      "\u001b[K     |█████████████▌                  | 993kB 1.8MB/s eta 0:00:01\r",
      "\u001b[K     |█████████████▊                  | 1.0MB 1.8MB/s eta 0:00:01\r",
      "\u001b[K     |█████████████▉                  | 1.0MB 1.8MB/s eta 0:00:01\r",
      "\u001b[K     |██████████████                  | 1.0MB 1.8MB/s eta 0:00:01\r",
      "\u001b[K     |██████████████                  | 1.0MB 1.8MB/s eta 0:00:01\r",
      "\u001b[K     |██████████████▎                 | 1.0MB 1.8MB/s eta 0:00:01\r",
      "\u001b[K     |██████████████▍                 | 1.1MB 1.8MB/s eta 0:00:01\r",
      "\u001b[K     |██████████████▌                 | 1.1MB 1.8MB/s eta 0:00:01\r",
      "\u001b[K     |██████████████▊                 | 1.1MB 1.8MB/s eta 0:00:01\r",
      "\u001b[K     |██████████████▉                 | 1.1MB 1.8MB/s eta 0:00:01\r",
      "\u001b[K     |███████████████                 | 1.1MB 1.8MB/s eta 0:00:01\r",
      "\u001b[K     |███████████████                 | 1.1MB 1.8MB/s eta 0:00:01\r",
      "\u001b[K     |███████████████▎                | 1.1MB 1.8MB/s eta 0:00:01\r",
      "\u001b[K     |███████████████▍                | 1.1MB 1.8MB/s eta 0:00:01\r",
      "\u001b[K     |███████████████▌                | 1.1MB 1.8MB/s eta 0:00:01\r",
      "\u001b[K     |███████████████▋                | 1.1MB 1.8MB/s eta 0:00:01\r",
      "\u001b[K     |███████████████▉                | 1.2MB 1.8MB/s eta 0:00:01\r",
      "\u001b[K     |████████████████                | 1.2MB 1.8MB/s eta 0:00:01\r",
      "\u001b[K     |████████████████                | 1.2MB 1.8MB/s eta 0:00:01\r",
      "\u001b[K     |████████████████▏               | 1.2MB 1.8MB/s eta 0:00:01\r",
      "\u001b[K     |████████████████▍               | 1.2MB 1.8MB/s eta 0:00:01\r",
      "\u001b[K     |████████████████▌               | 1.2MB 1.8MB/s eta 0:00:01\r",
      "\u001b[K     |████████████████▋               | 1.2MB 1.8MB/s eta 0:00:01\r",
      "\u001b[K     |████████████████▊               | 1.2MB 1.8MB/s eta 0:00:01\r",
      "\u001b[K     |█████████████████               | 1.2MB 1.8MB/s eta 0:00:01\r",
      "\u001b[K     |█████████████████               | 1.2MB 1.8MB/s eta 0:00:01\r",
      "\u001b[K     |█████████████████▏              | 1.3MB 1.8MB/s eta 0:00:01\r",
      "\u001b[K     |█████████████████▎              | 1.3MB 1.8MB/s eta 0:00:01\r",
      "\u001b[K     |█████████████████▌              | 1.3MB 1.8MB/s eta 0:00:01\r",
      "\u001b[K     |█████████████████▋              | 1.3MB 1.8MB/s eta 0:00:01\r",
      "\u001b[K     |█████████████████▊              | 1.3MB 1.8MB/s eta 0:00:01\r",
      "\u001b[K     |█████████████████▉              | 1.3MB 1.8MB/s eta 0:00:01\r",
      "\u001b[K     |██████████████████              | 1.3MB 1.8MB/s eta 0:00:01\r",
      "\u001b[K     |██████████████████▏             | 1.3MB 1.8MB/s eta 0:00:01\r",
      "\u001b[K     |██████████████████▎             | 1.3MB 1.8MB/s eta 0:00:01\r",
      "\u001b[K     |██████████████████▍             | 1.4MB 1.8MB/s eta 0:00:01\r",
      "\u001b[K     |██████████████████▋             | 1.4MB 1.8MB/s eta 0:00:01\r",
      "\u001b[K     |██████████████████▊             | 1.4MB 1.8MB/s eta 0:00:01\r",
      "\u001b[K     |██████████████████▉             | 1.4MB 1.8MB/s eta 0:00:01\r",
      "\u001b[K     |███████████████████             | 1.4MB 1.8MB/s eta 0:00:01\r",
      "\u001b[K     |███████████████████▏            | 1.4MB 1.8MB/s eta 0:00:01\r",
      "\u001b[K     |███████████████████▎            | 1.4MB 1.8MB/s eta 0:00:01\r",
      "\u001b[K     |███████████████████▍            | 1.4MB 1.8MB/s eta 0:00:01\r",
      "\u001b[K     |███████████████████▋            | 1.4MB 1.8MB/s eta 0:00:01\r",
      "\u001b[K     |███████████████████▊            | 1.4MB 1.8MB/s eta 0:00:01\r",
      "\u001b[K     |███████████████████▉            | 1.5MB 1.8MB/s eta 0:00:01\r",
      "\u001b[K     |████████████████████            | 1.5MB 1.8MB/s eta 0:00:01\r",
      "\u001b[K     |████████████████████▏           | 1.5MB 1.8MB/s eta 0:00:01\r",
      "\u001b[K     |████████████████████▎           | 1.5MB 1.8MB/s eta 0:00:01\r",
      "\u001b[K     |████████████████████▍           | 1.5MB 1.8MB/s eta 0:00:01\r",
      "\u001b[K     |████████████████████▌           | 1.5MB 1.8MB/s eta 0:00:01\r",
      "\u001b[K     |████████████████████▊           | 1.5MB 1.8MB/s eta 0:00:01\r",
      "\u001b[K     |████████████████████▉           | 1.5MB 1.8MB/s eta 0:00:01\r",
      "\u001b[K     |█████████████████████           | 1.5MB 1.8MB/s eta 0:00:01\r",
      "\u001b[K     |█████████████████████           | 1.5MB 1.8MB/s eta 0:00:01\r",
      "\u001b[K     |█████████████████████▎          | 1.6MB 1.8MB/s eta 0:00:01\r",
      "\u001b[K     |█████████████████████▍          | 1.6MB 1.8MB/s eta 0:00:01\r",
      "\u001b[K     |█████████████████████▌          | 1.6MB 1.8MB/s eta 0:00:01\r",
      "\u001b[K     |█████████████████████▋          | 1.6MB 1.8MB/s eta 0:00:01\r",
      "\u001b[K     |█████████████████████▉          | 1.6MB 1.8MB/s eta 0:00:01\r",
      "\u001b[K     |██████████████████████          | 1.6MB 1.8MB/s eta 0:00:01\r",
      "\u001b[K     |██████████████████████          | 1.6MB 1.8MB/s eta 0:00:01\r",
      "\u001b[K     |██████████████████████▏         | 1.6MB 1.8MB/s eta 0:00:01\r",
      "\u001b[K     |██████████████████████▍         | 1.6MB 1.8MB/s eta 0:00:01\r",
      "\u001b[K     |██████████████████████▌         | 1.6MB 1.8MB/s eta 0:00:01\r",
      "\u001b[K     |██████████████████████▋         | 1.7MB 1.8MB/s eta 0:00:01\r",
      "\u001b[K     |██████████████████████▊         | 1.7MB 1.8MB/s eta 0:00:01\r",
      "\u001b[K     |███████████████████████         | 1.7MB 1.8MB/s eta 0:00:01\r",
      "\u001b[K     |███████████████████████         | 1.7MB 1.8MB/s eta 0:00:01\r",
      "\u001b[K     |███████████████████████▏        | 1.7MB 1.8MB/s eta 0:00:01\r",
      "\u001b[K     |███████████████████████▎        | 1.7MB 1.8MB/s eta 0:00:01\r",
      "\u001b[K     |███████████████████████▌        | 1.7MB 1.8MB/s eta 0:00:01\r",
      "\u001b[K     |███████████████████████▋        | 1.7MB 1.8MB/s eta 0:00:01\r",
      "\u001b[K     |███████████████████████▊        | 1.7MB 1.8MB/s eta 0:00:01\r",
      "\u001b[K     |███████████████████████▉        | 1.8MB 1.8MB/s eta 0:00:01\r",
      "\u001b[K     |████████████████████████        | 1.8MB 1.8MB/s eta 0:00:01\r",
      "\u001b[K     |████████████████████████▏       | 1.8MB 1.8MB/s eta 0:00:01\r",
      "\u001b[K     |████████████████████████▎       | 1.8MB 1.8MB/s eta 0:00:01\r",
      "\u001b[K     |████████████████████████▌       | 1.8MB 1.8MB/s eta 0:00:01\r",
      "\u001b[K     |████████████████████████▋       | 1.8MB 1.8MB/s eta 0:00:01\r",
      "\u001b[K     |████████████████████████▊       | 1.8MB 1.8MB/s eta 0:00:01\r",
      "\u001b[K     |████████████████████████▉       | 1.8MB 1.8MB/s eta 0:00:01\r",
      "\u001b[K     |█████████████████████████       | 1.8MB 1.8MB/s eta 0:00:01\r",
      "\u001b[K     |█████████████████████████▏      | 1.8MB 1.8MB/s eta 0:00:01\r",
      "\u001b[K     |█████████████████████████▎      | 1.9MB 1.8MB/s eta 0:00:01\r",
      "\u001b[K     |█████████████████████████▍      | 1.9MB 1.8MB/s eta 0:00:01\r",
      "\u001b[K     |█████████████████████████▋      | 1.9MB 1.8MB/s eta 0:00:01\r",
      "\u001b[K     |█████████████████████████▊      | 1.9MB 1.8MB/s eta 0:00:01\r",
      "\u001b[K     |█████████████████████████▉      | 1.9MB 1.8MB/s eta 0:00:01\r",
      "\u001b[K     |██████████████████████████      | 1.9MB 1.8MB/s eta 0:00:01\r",
      "\u001b[K     |██████████████████████████▏     | 1.9MB 1.8MB/s eta 0:00:01\r",
      "\u001b[K     |██████████████████████████▎     | 1.9MB 1.8MB/s eta 0:00:01\r",
      "\u001b[K     |██████████████████████████▍     | 1.9MB 1.8MB/s eta 0:00:01\r",
      "\u001b[K     |██████████████████████████▌     | 1.9MB 112kB/s eta 0:00:04\r",
      "\u001b[K     |██████████████████████████▊     | 2.0MB 112kB/s eta 0:00:04\r",
      "\u001b[K     |██████████████████████████▉     | 2.0MB 112kB/s eta 0:00:04\r",
      "\u001b[K     |███████████████████████████     | 2.0MB 112kB/s eta 0:00:04\r",
      "\u001b[K     |███████████████████████████     | 2.0MB 112kB/s eta 0:00:04\r",
      "\u001b[K     |███████████████████████████▎    | 2.0MB 112kB/s eta 0:00:04\r",
      "\u001b[K     |███████████████████████████▍    | 2.0MB 112kB/s eta 0:00:04\r",
      "\u001b[K     |███████████████████████████▌    | 2.0MB 112kB/s eta 0:00:03\r",
      "\u001b[K     |███████████████████████████▋    | 2.0MB 112kB/s eta 0:00:03\r",
      "\u001b[K     |███████████████████████████▉    | 2.0MB 112kB/s eta 0:00:03\r",
      "\u001b[K     |████████████████████████████    | 2.0MB 112kB/s eta 0:00:03\r",
      "\u001b[K     |████████████████████████████    | 2.1MB 112kB/s eta 0:00:03\r",
      "\u001b[K     |████████████████████████████▏   | 2.1MB 112kB/s eta 0:00:03\r",
      "\u001b[K     |████████████████████████████▍   | 2.1MB 112kB/s eta 0:00:03\r",
      "\u001b[K     |████████████████████████████▌   | 2.1MB 112kB/s eta 0:00:03\r",
      "\u001b[K     |████████████████████████████▋   | 2.1MB 112kB/s eta 0:00:03\r",
      "\u001b[K     |████████████████████████████▊   | 2.1MB 112kB/s eta 0:00:03\r",
      "\u001b[K     |█████████████████████████████   | 2.1MB 112kB/s eta 0:00:03\r",
      "\u001b[K     |█████████████████████████████   | 2.1MB 112kB/s eta 0:00:02\r",
      "\u001b[K     |█████████████████████████████▏  | 2.1MB 112kB/s eta 0:00:02\r",
      "\u001b[K     |█████████████████████████████▍  | 2.2MB 112kB/s eta 0:00:02\r",
      "\u001b[K     |█████████████████████████████▌  | 2.2MB 112kB/s eta 0:00:02\r",
      "\u001b[K     |█████████████████████████████▋  | 2.2MB 112kB/s eta 0:00:02\r",
      "\u001b[K     |█████████████████████████████▊  | 2.2MB 112kB/s eta 0:00:02\r",
      "\u001b[K     |██████████████████████████████  | 2.2MB 112kB/s eta 0:00:02\r",
      "\u001b[K     |██████████████████████████████  | 2.2MB 112kB/s eta 0:00:02\r",
      "\u001b[K     |██████████████████████████████▏ | 2.2MB 112kB/s eta 0:00:02\r",
      "\u001b[K     |██████████████████████████████▎ | 2.2MB 112kB/s eta 0:00:02\r",
      "\u001b[K     |██████████████████████████████▌ | 2.2MB 112kB/s eta 0:00:02\r",
      "\u001b[K     |██████████████████████████████▋ | 2.2MB 112kB/s eta 0:00:01\r",
      "\u001b[K     |██████████████████████████████▊ | 2.3MB 112kB/s eta 0:00:01\r",
      "\u001b[K     |██████████████████████████████▉ | 2.3MB 112kB/s eta 0:00:01\r",
      "\u001b[K     |███████████████████████████████ | 2.3MB 112kB/s eta 0:00:01\r",
      "\u001b[K     |███████████████████████████████▏| 2.3MB 112kB/s eta 0:00:01\r",
      "\u001b[K     |███████████████████████████████▎| 2.3MB 112kB/s eta 0:00:01\r",
      "\u001b[K     |███████████████████████████████▍| 2.3MB 112kB/s eta 0:00:01\r",
      "\u001b[K     |███████████████████████████████▋| 2.3MB 112kB/s eta 0:00:01\r",
      "\u001b[K     |███████████████████████████████▊| 2.3MB 112kB/s eta 0:00:01\r",
      "\u001b[K     |███████████████████████████████▉| 2.3MB 112kB/s eta 0:00:01\r",
      "\u001b[K     |████████████████████████████████| 2.3MB 112kB/s eta 0:00:01\r",
      "\u001b[K     |████████████████████████████████| 2.4MB 112kB/s \n",
      "\u001b[?25hRequirement already satisfied: nibabel>=2.0.2 in /usr/local/lib/python3.6/dist-packages (from nilearn) (2.3.3)\n",
      "Requirement already satisfied: bz2file in /usr/local/lib/python3.6/dist-packages (from nibabel>=2.0.2->nilearn) (0.98)\n",
      "Requirement already satisfied: six>=1.3 in /usr/local/lib/python3.6/dist-packages (from nibabel>=2.0.2->nilearn) (1.12.0)\n",
      "Requirement already satisfied: numpy>=1.7.1 in /usr/local/lib/python3.6/dist-packages (from nibabel>=2.0.2->nilearn) (1.17.3)\n",
      "Installing collected packages: nilearn\n",
      "Successfully installed nilearn-0.5.2\n"
     ]
    }
   ],
   "source": [
    "!pip install nilearn"
   ]
  },
  {
   "cell_type": "code",
   "execution_count": 33,
   "metadata": {
    "colab": {
     "base_uri": "https://localhost:8080/",
     "height": 71
    },
    "colab_type": "code",
    "executionInfo": {
     "elapsed": 56450,
     "status": "ok",
     "timestamp": 1573636715232,
     "user": {
      "displayName": "Benedikt Dietmar Schifferer",
      "photoUrl": "https://lh3.googleusercontent.com/a-/AAuE7mDViwxKXBjVKZfXMWGuXrQ48D62bye6HNutAOX0=s64",
      "userId": "06737229821528734971"
     },
     "user_tz": -60
    },
    "id": "cv99Rx9vtUBF",
    "outputId": "ad64ddb7-7353-4df0-fe1e-f3b4ac938005"
   },
   "outputs": [
    {
     "name": "stderr",
     "output_type": "stream",
     "text": [
      "/usr/local/lib/python3.6/dist-packages/sklearn/externals/joblib/__init__.py:15: DeprecationWarning: sklearn.externals.joblib is deprecated in 0.21 and will be removed in 0.23. Please import this functionality directly from joblib, which can be installed with: pip install joblib. If this warning is raised when loading pickled models, you may need to re-serialize those models with scikit-learn 0.21+.\n",
      "  warnings.warn(msg, category=DeprecationWarning)\n"
     ]
    }
   ],
   "source": [
    "import glob\n",
    "from nilearn import plotting\n",
    "import matplotlib.pyplot as plt\n",
    "import nilearn\n",
    "import numpy as np\n",
    "import nibabel as nib\n",
    "from nilearn.image import crop_img\n",
    "import os\n",
    "import tqdm\n",
    "\n",
    "%matplotlib inline"
   ]
  },
  {
   "cell_type": "code",
   "execution_count": 0,
   "metadata": {
    "colab": {},
    "colab_type": "code",
    "id": "tyWmz3FstC8G"
   },
   "outputs": [],
   "source": [
    "a = next(iter(test_iter))\n",
    "t1 = (tf.cast(a['t1'], tf.float32)-t1_mean)/t1_std\n",
    "t2 = (a['t2']-t2_mean)/t2_std\n",
    "X = tf.concat([t1, t2], axis=4)"
   ]
  },
  {
   "cell_type": "code",
   "execution_count": 0,
   "metadata": {
    "colab": {},
    "colab_type": "code",
    "id": "k1J0Fsn1Ijr2"
   },
   "outputs": [],
   "source": [
    "inputs = tf.keras.Input(shape=(64,64,64,2), name='inputlayer123')\n",
    "a = model(inputs)['female']\n",
    "mm = Model(inputs=inputs, outputs=a)"
   ]
  },
  {
   "cell_type": "code",
   "execution_count": 36,
   "metadata": {
    "colab": {
     "base_uri": "https://localhost:8080/",
     "height": 221
    },
    "colab_type": "code",
    "executionInfo": {
     "elapsed": 54985,
     "status": "ok",
     "timestamp": 1573636716755,
     "user": {
      "displayName": "Benedikt Dietmar Schifferer",
      "photoUrl": "https://lh3.googleusercontent.com/a-/AAuE7mDViwxKXBjVKZfXMWGuXrQ48D62bye6HNutAOX0=s64",
      "userId": "06737229821528734971"
     },
     "user_tz": -60
    },
    "id": "1yvswMaT2lKD",
    "outputId": "bcc1195f-8702-4a2b-c41d-f264fb24143c"
   },
   "outputs": [
    {
     "name": "stdout",
     "output_type": "stream",
     "text": [
      "Model: \"model\"\n",
      "_________________________________________________________________\n",
      "Layer (type)                 Output Shape              Param #   \n",
      "=================================================================\n",
      "inputlayer123 (InputLayer)   [(None, 64, 64, 64, 2)]   0         \n",
      "_________________________________________________________________\n",
      "my_dnn (MyDNN)               {'female': (None, 2), 'ra 2511944   \n",
      "=================================================================\n",
      "Total params: 2,511,944\n",
      "Trainable params: 2,500,744\n",
      "Non-trainable params: 11,200\n",
      "_________________________________________________________________\n"
     ]
    }
   ],
   "source": [
    "mm.summary()"
   ]
  },
  {
   "cell_type": "code",
   "execution_count": 39,
   "metadata": {
    "colab": {
     "base_uri": "https://localhost:8080/",
     "height": 34
    },
    "colab_type": "code",
    "executionInfo": {
     "elapsed": 1327,
     "status": "ok",
     "timestamp": 1573636746552,
     "user": {
      "displayName": "Benedikt Dietmar Schifferer",
      "photoUrl": "https://lh3.googleusercontent.com/a-/AAuE7mDViwxKXBjVKZfXMWGuXrQ48D62bye6HNutAOX0=s64",
      "userId": "06737229821528734971"
     },
     "user_tz": -60
    },
    "id": "4rORUysK2cM3",
    "outputId": "03452a7a-6db7-4f87-b1be-f05fbdb00b2a"
   },
   "outputs": [
    {
     "data": {
      "text/plain": [
       "<tf.Tensor 'my_dnn/lastconv_1/Identity:0' shape=(None, 4, 4, 4, 256) dtype=float32>"
      ]
     },
     "execution_count": 39,
     "metadata": {
      "tags": []
     },
     "output_type": "execute_result"
    }
   ],
   "source": [
    "mm.get_layer('my_dnn').get_layer('lastconv_1').output"
   ]
  },
  {
   "cell_type": "code",
   "execution_count": 0,
   "metadata": {
    "colab": {},
    "colab_type": "code",
    "id": "wf3u-dJ1PIT_"
   },
   "outputs": [],
   "source": [
    "from tf_explain.core.smoothgrad import SmoothGrad\n",
    "explainer = SmoothGrad()\n",
    "grid = explainer.explain((X[0:1], _), mm, 0, 20, 1.)"
   ]
  },
  {
   "cell_type": "code",
   "execution_count": 41,
   "metadata": {
    "colab": {
     "base_uri": "https://localhost:8080/",
     "height": 218
    },
    "colab_type": "code",
    "executionInfo": {
     "elapsed": 4327,
     "status": "ok",
     "timestamp": 1573636753055,
     "user": {
      "displayName": "Benedikt Dietmar Schifferer",
      "photoUrl": "https://lh3.googleusercontent.com/a-/AAuE7mDViwxKXBjVKZfXMWGuXrQ48D62bye6HNutAOX0=s64",
      "userId": "06737229821528734971"
     },
     "user_tz": -60
    },
    "id": "SsBZysWOs34f",
    "outputId": "fe3a9a63-539e-4e88-a10b-57738791cd7f"
   },
   "outputs": [
    {
     "data": {
      "image/png": "[encoded data removed]",
      "text/plain": [
       "<Figure size 475.2x187.2 with 4 Axes>"
      ]
     },
     "metadata": {
      "tags": []
     },
     "output_type": "display_data"
    }
   ],
   "source": [
    "ppp = '/content/drive/My Drive/Capstone/05_Data/02_Sample_MRI/downsampled_resize/T2/sub-NDARINVFJJPAA2A_T2.nii.gz'\n",
    "org = nib.load(ppp)\n",
    "plotting.plot_anat(nilearn.image.new_img_like(ppp, grid, affine=None, copy_header=False))\n",
    "plotting.show()"
   ]
  },
  {
   "cell_type": "code",
   "execution_count": 0,
   "metadata": {
    "colab": {},
    "colab_type": "code",
    "id": "-G7cjveLADUG"
   },
   "outputs": [],
   "source": [
    "from tf_explain.core.occlusion_sensitivity import OcclusionSensitivity"
   ]
  },
  {
   "cell_type": "code",
   "execution_count": 0,
   "metadata": {
    "colab": {},
    "colab_type": "code",
    "id": "nhXfjGsxADeD"
   },
   "outputs": [],
   "source": [
    "explainer = OcclusionSensitivity()"
   ]
  },
  {
   "cell_type": "code",
   "execution_count": 0,
   "metadata": {
    "colab": {},
    "colab_type": "code",
    "id": "_gGRXRJSADkG"
   },
   "outputs": [],
   "source": [
    "?? OcclusionSensitivity"
   ]
  },
  {
   "cell_type": "code",
   "execution_count": 44,
   "metadata": {
    "colab": {
     "base_uri": "https://localhost:8080/",
     "height": 351
    },
    "colab_type": "code",
    "executionInfo": {
     "elapsed": 4225,
     "status": "error",
     "timestamp": 1573636765486,
     "user": {
      "displayName": "Benedikt Dietmar Schifferer",
      "photoUrl": "https://lh3.googleusercontent.com/a-/AAuE7mDViwxKXBjVKZfXMWGuXrQ48D62bye6HNutAOX0=s64",
      "userId": "06737229821528734971"
     },
     "user_tz": -60
    },
    "id": "Q1GJABrBBDOx",
    "outputId": "8b8bc278-991b-4a4a-dbb0-dea4c55ffeee"
   },
   "outputs": [
    {
     "ename": "SystemError",
     "evalue": "ignored",
     "output_type": "error",
     "traceback": [
      "\u001b[0;31m---------------------------------------------------------------------------\u001b[0m",
      "\u001b[0;31mSystemError\u001b[0m                               Traceback (most recent call last)",
      "\u001b[0;32m<ipython-input-44-bddabab988a2>\u001b[0m in \u001b[0;36m<module>\u001b[0;34m()\u001b[0m\n\u001b[1;32m      1\u001b[0m sensitivity_maps = np.array(\n\u001b[1;32m      2\u001b[0m             [\n\u001b[0;32m----> 3\u001b[0;31m                 \u001b[0mexplainer\u001b[0m\u001b[0;34m.\u001b[0m\u001b[0mget_sensitivity_map\u001b[0m\u001b[0;34m(\u001b[0m\u001b[0mmm\u001b[0m\u001b[0;34m,\u001b[0m \u001b[0mX\u001b[0m\u001b[0;34m[\u001b[0m\u001b[0;36m0\u001b[0m\u001b[0;34m]\u001b[0m\u001b[0;34m,\u001b[0m \u001b[0;36m0\u001b[0m\u001b[0;34m,\u001b[0m \u001b[0;36m4\u001b[0m\u001b[0;34m)\u001b[0m\u001b[0;34m\u001b[0m\u001b[0;34m\u001b[0m\u001b[0m\n\u001b[0m\u001b[1;32m      4\u001b[0m             ]\n\u001b[1;32m      5\u001b[0m         )\n",
      "\u001b[0;32m/usr/local/lib/python3.6/dist-packages/tf_explain/core/occlusion_sensitivity.py\u001b[0m in \u001b[0;36mget_sensitivity_map\u001b[0;34m(self, model, image, class_index, patch_size)\u001b[0m\n\u001b[1;32m    104\u001b[0m             \u001b[0msensitivity_map\u001b[0m\u001b[0;34m[\u001b[0m\u001b[0mindex_y\u001b[0m\u001b[0;34m,\u001b[0m \u001b[0mindex_x\u001b[0m\u001b[0;34m]\u001b[0m \u001b[0;34m=\u001b[0m \u001b[0;36m1\u001b[0m \u001b[0;34m-\u001b[0m \u001b[0mconfidence\u001b[0m\u001b[0;34m\u001b[0m\u001b[0;34m\u001b[0m\u001b[0m\n\u001b[1;32m    105\u001b[0m \u001b[0;34m\u001b[0m\u001b[0m\n\u001b[0;32m--> 106\u001b[0;31m         \u001b[0;32mreturn\u001b[0m \u001b[0mcv2\u001b[0m\u001b[0;34m.\u001b[0m\u001b[0mresize\u001b[0m\u001b[0;34m(\u001b[0m\u001b[0msensitivity_map\u001b[0m\u001b[0;34m,\u001b[0m \u001b[0mimage\u001b[0m\u001b[0;34m.\u001b[0m\u001b[0mshape\u001b[0m\u001b[0;34m[\u001b[0m\u001b[0;36m0\u001b[0m\u001b[0;34m:\u001b[0m\u001b[0;36m2\u001b[0m\u001b[0;34m]\u001b[0m\u001b[0;34m)\u001b[0m\u001b[0;34m\u001b[0m\u001b[0;34m\u001b[0m\u001b[0m\n\u001b[0m\u001b[1;32m    107\u001b[0m \u001b[0;34m\u001b[0m\u001b[0m\n\u001b[1;32m    108\u001b[0m     \u001b[0;32mdef\u001b[0m \u001b[0msave\u001b[0m\u001b[0;34m(\u001b[0m\u001b[0mself\u001b[0m\u001b[0;34m,\u001b[0m \u001b[0mgrid\u001b[0m\u001b[0;34m,\u001b[0m \u001b[0moutput_dir\u001b[0m\u001b[0;34m,\u001b[0m \u001b[0moutput_name\u001b[0m\u001b[0;34m)\u001b[0m\u001b[0;34m:\u001b[0m\u001b[0;34m\u001b[0m\u001b[0;34m\u001b[0m\u001b[0m\n",
      "\u001b[0;31mSystemError\u001b[0m: new style getargs format but argument is not a tuple"
     ]
    }
   ],
   "source": [
    "sensitivity_maps = np.array(\n",
    "            [\n",
    "                explainer.get_sensitivity_map(mm, X[0], 0, 4)\n",
    "            ]\n",
    "        )"
   ]
  },
  {
   "cell_type": "code",
   "execution_count": 0,
   "metadata": {
    "colab": {},
    "colab_type": "code",
    "id": "o3SM73D7BVZS"
   },
   "outputs": [],
   "source": [
    "image = X[0]\n",
    "patch_size = 4\n",
    "class_index=0"
   ]
  },
  {
   "cell_type": "code",
   "execution_count": 64,
   "metadata": {
    "colab": {
     "base_uri": "https://localhost:8080/",
     "height": 34
    },
    "colab_type": "code",
    "executionInfo": {
     "elapsed": 1766,
     "status": "ok",
     "timestamp": 1573637561679,
     "user": {
      "displayName": "Benedikt Dietmar Schifferer",
      "photoUrl": "https://lh3.googleusercontent.com/a-/AAuE7mDViwxKXBjVKZfXMWGuXrQ48D62bye6HNutAOX0=s64",
      "userId": "06737229821528734971"
     },
     "user_tz": -60
    },
    "id": "mOYf3Oh0G42B",
    "outputId": "1c2d487b-7d54-4afa-efef-9b2242d897c3"
   },
   "outputs": [
    {
     "data": {
      "text/plain": [
       "TensorShape([64, 64, 64, 2])"
      ]
     },
     "execution_count": 64,
     "metadata": {
      "tags": []
     },
     "output_type": "execute_result"
    }
   ],
   "source": [
    "image.shape"
   ]
  },
  {
   "cell_type": "code",
   "execution_count": 0,
   "metadata": {
    "colab": {},
    "colab_type": "code",
    "id": "yCP9mb_bC6SR"
   },
   "outputs": [],
   "source": [
    "def apply_grey_patch(image, top_left_x, top_left_y, top_left_z, patch_size):\n",
    "    \"\"\"\n",
    "    Replace a part of the image with a grey patch.\n",
    "    Args:\n",
    "        image (numpy.ndarray): Input image\n",
    "        top_left_x (int): Top Left X position of the applied box\n",
    "        top_left_y (int): Top Left Y position of the applied box\n",
    "        patch_size (int): Size of patch to apply\n",
    "    Returns:\n",
    "        numpy.ndarray: Patched image\n",
    "    \"\"\"\n",
    "    patched_image = np.array(image, copy=True)\n",
    "    patched_image[\n",
    "        top_left_x : top_left_x + patch_size, top_left_y : top_left_y + patch_size, top_left_z : top_left_z + patch_size, 0\n",
    "    ] = 0\n",
    "\n",
    "    return patched_image\n",
    "\n",
    "import math\n",
    "\n",
    "sensitivity_map = np.zeros((\n",
    "    math.ceil(image.shape[0] / patch_size),\n",
    "    math.ceil(image.shape[1] / patch_size),\n",
    "    math.ceil(image.shape[2] / patch_size),\n",
    "))"
   ]
  },
  {
   "cell_type": "code",
   "execution_count": 66,
   "metadata": {
    "colab": {
     "base_uri": "https://localhost:8080/",
     "height": 289
    },
    "colab_type": "code",
    "executionInfo": {
     "elapsed": 41009,
     "status": "ok",
     "timestamp": 1573637656803,
     "user": {
      "displayName": "Benedikt Dietmar Schifferer",
      "photoUrl": "https://lh3.googleusercontent.com/a-/AAuE7mDViwxKXBjVKZfXMWGuXrQ48D62bye6HNutAOX0=s64",
      "userId": "06737229821528734971"
     },
     "user_tz": -60
    },
    "id": "urOT4dZqFzvY",
    "outputId": "2476c3b8-e514-40a0-b2a7-0e70bad97ad0"
   },
   "outputs": [
    {
     "name": "stdout",
     "output_type": "stream",
     "text": [
      "0 0\n",
      "1 4\n",
      "2 8\n",
      "3 12\n",
      "4 16\n",
      "5 20\n",
      "6 24\n",
      "7 28\n",
      "8 32\n",
      "9 36\n",
      "10 40\n",
      "11 44\n",
      "12 48\n",
      "13 52\n",
      "14 56\n",
      "15 60\n"
     ]
    }
   ],
   "source": [
    "for index_z, top_left_z in enumerate(range(0, image.shape[2], patch_size)):\n",
    "  print(index_z, top_left_z)\n",
    "  patches = [\n",
    "             apply_grey_patch(image, top_left_x, top_left_y, top_left_z, patch_size)\n",
    "             for index_x, top_left_x in enumerate(range(0, image.shape[0], patch_size))\n",
    "             for index_y, top_left_y in enumerate(range(0, image.shape[1], patch_size))\n",
    "            ]\n",
    "  coordinates = [\n",
    "               (index_y, index_x)\n",
    "               for index_x, _ in enumerate(range(0, image.shape[0], patch_size))\n",
    "               for index_y, _ in enumerate(range(0, image.shape[1], patch_size))\n",
    "               ]\n",
    "  predictions = mm.predict(np.array(patches), batch_size=1)\n",
    "  target_class_predictions = [prediction[class_index] for prediction in predictions]\n",
    "  for (index_y, index_x), confidence in zip(coordinates, target_class_predictions):\n",
    "    sensitivity_map[index_y, index_x, index_z] = 1 - confidence"
   ]
  },
  {
   "cell_type": "code",
   "execution_count": 0,
   "metadata": {
    "colab": {},
    "colab_type": "code",
    "id": "TJNEmMOrG0Hi"
   },
   "outputs": [],
   "source": [
    "from skimage.transform import resize"
   ]
  },
  {
   "cell_type": "code",
   "execution_count": 0,
   "metadata": {
    "colab": {},
    "colab_type": "code",
    "id": "YnQgVHssHqWX"
   },
   "outputs": [],
   "source": [
    "sm = resize(sensitivity_map, (64,64,64))"
   ]
  },
  {
   "cell_type": "code",
   "execution_count": 0,
   "metadata": {
    "colab": {},
    "colab_type": "code",
    "id": "8dT5GWoNHvKu"
   },
   "outputs": [],
   "source": [
    "heatmap = (sm - np.min(sm)) / (sm.max() - sm.min())"
   ]
  },
  {
   "cell_type": "code",
   "execution_count": 80,
   "metadata": {
    "colab": {
     "base_uri": "https://localhost:8080/",
     "height": 103
    },
    "colab_type": "code",
    "executionInfo": {
     "elapsed": 2692,
     "status": "ok",
     "timestamp": 1573638001081,
     "user": {
      "displayName": "Benedikt Dietmar Schifferer",
      "photoUrl": "https://lh3.googleusercontent.com/a-/AAuE7mDViwxKXBjVKZfXMWGuXrQ48D62bye6HNutAOX0=s64",
      "userId": "06737229821528734971"
     },
     "user_tz": -60
    },
    "id": "J53m22tPIIe-",
    "outputId": "53c0ebad-1730-47ff-9766-17bd8a5d0034"
   },
   "outputs": [
    {
     "data": {
      "image/png": "[encoded data removed]",
      "text/plain": [
       "<Figure size 1296x86.4 with 16 Axes>"
      ]
     },
     "metadata": {
      "tags": []
     },
     "output_type": "display_data"
    }
   ],
   "source": [
    "import cv2\n",
    "\n",
    "step = 4\n",
    "n_slices = int(64/4)\n",
    "i = 0\n",
    "n = 0\n",
    "data = (heatmap * 255).astype(\"uint8\")\n",
    "slice = 0\n",
    "fig, ax = plt.subplots(1, n_slices, figsize=[18, 1.2*1])\n",
    "for _ in range(n_slices):\n",
    "  #tmp_data = cv2.applyColorMap(cv2.cvtColor(data[:,:,slice], cv2.COLOR_GRAY2BGR), colormap)\n",
    "  ax[n].imshow(data[:,:,slice])\n",
    "  ax[n].set_xticks([])\n",
    "  ax[n].set_yticks([])\n",
    "  if i == 0:\n",
    "    ax[n].set_title(str(slice), color='r')\n",
    "  else:\n",
    "    ax[n].set_title('', color='r')\n",
    "  n += 1\n",
    "  slice += step\n"
   ]
  },
  {
   "cell_type": "code",
   "execution_count": 0,
   "metadata": {
    "colab": {},
    "colab_type": "code",
    "id": "AvHj5mgfBTsU"
   },
   "outputs": [],
   "source": [
    "''def apply_grey_patch(image, top_left_x, top_left_y, top_left_z, patch_size):\n",
    "    \"\"\"\n",
    "    Replace a part of the image with a grey patch.\n",
    "    Args:\n",
    "        image (numpy.ndarray): Input image\n",
    "        top_left_x (int): Top Left X position of the applied box\n",
    "        top_left_y (int): Top Left Y position of the applied box\n",
    "        patch_size (int): Size of patch to apply\n",
    "    Returns:\n",
    "        numpy.ndarray: Patched image\n",
    "    \"\"\"\n",
    "    patched_image = np.array(image, copy=True)\n",
    "    patched_image[\n",
    "        top_left_y : top_left_y + patch_size, top_left_x : top_left_x + patch_size, top_left_z : top_left_z + patch_size, :\n",
    "    ] = 127.5\n",
    "\n",
    "    return patched_image\n",
    "\n",
    "import math\n",
    "\n",
    "sensitivity_map = np.zeros((\n",
    "    math.ceil(image.shape[0] / patch_size),\n",
    "    math.ceil(image.shape[1] / patch_size),\n",
    "    math.ceil(image.shape[2] / patch_size),\n",
    "))\n",
    "\n",
    "patches = [\n",
    "           apply_grey_patch(image, top_left_x, top_left_y, top_left_z, patch_size)\n",
    "           for index_x, top_left_x in enumerate(range(0, image.shape[0], patch_size))\n",
    "           for index_y, top_left_y in enumerate(range(0, image.shape[1], patch_size))\n",
    "           for index_z, top_left_z in enumerate(range(0, image.shape[2], patch_size))\n",
    "]\n",
    "\n",
    "coordinates = [\n",
    "               (index_y, index_x, index_z)\n",
    "               for index_x, _ in enumerate(range(0, image.shape[0], patch_size))\n",
    "               for index_y, _ in enumerate(range(0, image.shape[1], patch_size))\n",
    "]"
   ]
  },
  {
   "cell_type": "code",
   "execution_count": 0,
   "metadata": {
    "colab": {},
    "colab_type": "code",
    "id": "5tykySZbBhd6"
   },
   "outputs": [],
   "source": [
    "predictions = mm.predict(np.array(patches), batch_size=1)\n",
    "target_class_predictions = [\n",
    "                            prediction[class_index] for prediction in predictions\n",
    "]\n",
    "\n",
    "for (index_y, index_x), confidence in zip(coordinates, target_class_predictions):\n",
    "  sensitivity_map[index_y, index_x] = 1 - confidence"
   ]
  },
  {
   "cell_type": "code",
   "execution_count": 179,
   "metadata": {
    "colab": {
     "base_uri": "https://localhost:8080/",
     "height": 34
    },
    "colab_type": "code",
    "executionInfo": {
     "elapsed": 24896,
     "status": "ok",
     "timestamp": 1573636310007,
     "user": {
      "displayName": "Benedikt Dietmar Schifferer",
      "photoUrl": "https://lh3.googleusercontent.com/a-/AAuE7mDViwxKXBjVKZfXMWGuXrQ48D62bye6HNutAOX0=s64",
      "userId": "06737229821528734971"
     },
     "user_tz": -60
    },
    "id": "T7CP5XZmB5zk",
    "outputId": "51b20ba5-c4a1-437f-c380-1a091287d046"
   },
   "outputs": [
    {
     "data": {
      "text/plain": [
       "(32, 32)"
      ]
     },
     "execution_count": 179,
     "metadata": {
      "tags": []
     },
     "output_type": "execute_result"
    }
   ],
   "source": [
    "sensitivity_map.shape"
   ]
  },
  {
   "cell_type": "code",
   "execution_count": 159,
   "metadata": {
    "colab": {
     "base_uri": "https://localhost:8080/",
     "height": 307
    },
    "colab_type": "code",
    "executionInfo": {
     "elapsed": 2668,
     "status": "error",
     "timestamp": 1573635968909,
     "user": {
      "displayName": "Benedikt Dietmar Schifferer",
      "photoUrl": "https://lh3.googleusercontent.com/a-/AAuE7mDViwxKXBjVKZfXMWGuXrQ48D62bye6HNutAOX0=s64",
      "userId": "06737229821528734971"
     },
     "user_tz": -60
    },
    "id": "YSWQ9aLgADhm",
    "outputId": "2064a784-4ba7-48a1-fe7b-14423fb33eff"
   },
   "outputs": [
    {
     "ename": "SystemError",
     "evalue": "ignored",
     "output_type": "error",
     "traceback": [
      "\u001b[0;31m---------------------------------------------------------------------------\u001b[0m",
      "\u001b[0;31mSystemError\u001b[0m                               Traceback (most recent call last)",
      "\u001b[0;32m<ipython-input-159-e6650cab4f21>\u001b[0m in \u001b[0;36m<module>\u001b[0;34m()\u001b[0m\n\u001b[0;32m----> 1\u001b[0;31m \u001b[0mgrid\u001b[0m \u001b[0;34m=\u001b[0m \u001b[0mexplainer\u001b[0m\u001b[0;34m.\u001b[0m\u001b[0mexplain\u001b[0m\u001b[0;34m(\u001b[0m\u001b[0;34m(\u001b[0m\u001b[0mX\u001b[0m\u001b[0;34m[\u001b[0m\u001b[0;36m0\u001b[0m\u001b[0;34m:\u001b[0m\u001b[0;36m1\u001b[0m\u001b[0;34m]\u001b[0m\u001b[0;34m,\u001b[0m \u001b[0m_\u001b[0m\u001b[0;34m)\u001b[0m\u001b[0;34m,\u001b[0m \u001b[0mmm\u001b[0m\u001b[0;34m,\u001b[0m \u001b[0;36m0\u001b[0m\u001b[0;34m,\u001b[0m \u001b[0;36m20\u001b[0m\u001b[0;34m,\u001b[0m \u001b[0;36m1.\u001b[0m\u001b[0;34m)\u001b[0m\u001b[0;34m\u001b[0m\u001b[0;34m\u001b[0m\u001b[0m\n\u001b[0m",
      "\u001b[0;32m/usr/local/lib/python3.6/dist-packages/tf_explain/core/occlusion_sensitivity.py\u001b[0m in \u001b[0;36mexplain\u001b[0;34m(self, validation_data, model, class_index, patch_size, colormap)\u001b[0m\n\u001b[1;32m     47\u001b[0m             [\n\u001b[1;32m     48\u001b[0m                 \u001b[0mself\u001b[0m\u001b[0;34m.\u001b[0m\u001b[0mget_sensitivity_map\u001b[0m\u001b[0;34m(\u001b[0m\u001b[0mmodel\u001b[0m\u001b[0;34m,\u001b[0m \u001b[0mimage\u001b[0m\u001b[0;34m,\u001b[0m \u001b[0mclass_index\u001b[0m\u001b[0;34m,\u001b[0m \u001b[0mpatch_size\u001b[0m\u001b[0;34m)\u001b[0m\u001b[0;34m\u001b[0m\u001b[0;34m\u001b[0m\u001b[0m\n\u001b[0;32m---> 49\u001b[0;31m                 \u001b[0;32mfor\u001b[0m \u001b[0mimage\u001b[0m \u001b[0;32min\u001b[0m \u001b[0mimages\u001b[0m\u001b[0;34m\u001b[0m\u001b[0;34m\u001b[0m\u001b[0m\n\u001b[0m\u001b[1;32m     50\u001b[0m             ]\n\u001b[1;32m     51\u001b[0m         )\n",
      "\u001b[0;32m/usr/local/lib/python3.6/dist-packages/tf_explain/core/occlusion_sensitivity.py\u001b[0m in \u001b[0;36m<listcomp>\u001b[0;34m(.0)\u001b[0m\n\u001b[1;32m     47\u001b[0m             [\n\u001b[1;32m     48\u001b[0m                 \u001b[0mself\u001b[0m\u001b[0;34m.\u001b[0m\u001b[0mget_sensitivity_map\u001b[0m\u001b[0;34m(\u001b[0m\u001b[0mmodel\u001b[0m\u001b[0;34m,\u001b[0m \u001b[0mimage\u001b[0m\u001b[0;34m,\u001b[0m \u001b[0mclass_index\u001b[0m\u001b[0;34m,\u001b[0m \u001b[0mpatch_size\u001b[0m\u001b[0;34m)\u001b[0m\u001b[0;34m\u001b[0m\u001b[0;34m\u001b[0m\u001b[0m\n\u001b[0;32m---> 49\u001b[0;31m                 \u001b[0;32mfor\u001b[0m \u001b[0mimage\u001b[0m \u001b[0;32min\u001b[0m \u001b[0mimages\u001b[0m\u001b[0;34m\u001b[0m\u001b[0;34m\u001b[0m\u001b[0m\n\u001b[0m\u001b[1;32m     50\u001b[0m             ]\n\u001b[1;32m     51\u001b[0m         )\n",
      "\u001b[0;32m/usr/local/lib/python3.6/dist-packages/tf_explain/core/occlusion_sensitivity.py\u001b[0m in \u001b[0;36mget_sensitivity_map\u001b[0;34m(self, model, image, class_index, patch_size)\u001b[0m\n\u001b[1;32m    104\u001b[0m             \u001b[0msensitivity_map\u001b[0m\u001b[0;34m[\u001b[0m\u001b[0mindex_y\u001b[0m\u001b[0;34m,\u001b[0m \u001b[0mindex_x\u001b[0m\u001b[0;34m]\u001b[0m \u001b[0;34m=\u001b[0m \u001b[0;36m1\u001b[0m \u001b[0;34m-\u001b[0m \u001b[0mconfidence\u001b[0m\u001b[0;34m\u001b[0m\u001b[0;34m\u001b[0m\u001b[0m\n\u001b[1;32m    105\u001b[0m \u001b[0;34m\u001b[0m\u001b[0m\n\u001b[0;32m--> 106\u001b[0;31m         \u001b[0;32mreturn\u001b[0m \u001b[0mcv2\u001b[0m\u001b[0;34m.\u001b[0m\u001b[0mresize\u001b[0m\u001b[0;34m(\u001b[0m\u001b[0msensitivity_map\u001b[0m\u001b[0;34m,\u001b[0m \u001b[0mimage\u001b[0m\u001b[0;34m.\u001b[0m\u001b[0mshape\u001b[0m\u001b[0;34m[\u001b[0m\u001b[0;36m0\u001b[0m\u001b[0;34m:\u001b[0m\u001b[0;36m2\u001b[0m\u001b[0;34m]\u001b[0m\u001b[0;34m)\u001b[0m\u001b[0;34m\u001b[0m\u001b[0;34m\u001b[0m\u001b[0m\n\u001b[0m\u001b[1;32m    107\u001b[0m \u001b[0;34m\u001b[0m\u001b[0m\n\u001b[1;32m    108\u001b[0m     \u001b[0;32mdef\u001b[0m \u001b[0msave\u001b[0m\u001b[0;34m(\u001b[0m\u001b[0mself\u001b[0m\u001b[0;34m,\u001b[0m \u001b[0mgrid\u001b[0m\u001b[0;34m,\u001b[0m \u001b[0moutput_dir\u001b[0m\u001b[0;34m,\u001b[0m \u001b[0moutput_name\u001b[0m\u001b[0;34m)\u001b[0m\u001b[0;34m:\u001b[0m\u001b[0;34m\u001b[0m\u001b[0;34m\u001b[0m\u001b[0m\n",
      "\u001b[0;31mSystemError\u001b[0m: new style getargs format but argument is not a tuple"
     ]
    }
   ],
   "source": [
    "grid = explainer.explain((X[0:1], _), mm, 0, 20, 1.)"
   ]
  },
  {
   "cell_type": "code",
   "execution_count": 0,
   "metadata": {
    "colab": {},
    "colab_type": "code",
    "id": "GsN40IBZADbd"
   },
   "outputs": [],
   "source": []
  },
  {
   "cell_type": "code",
   "execution_count": 0,
   "metadata": {
    "colab": {},
    "colab_type": "code",
    "id": "TJi2UZxHURxr"
   },
   "outputs": [],
   "source": [
    "from tf_explain.core.grad_cam import GradCAM\n",
    "explainer = GradCAM()"
   ]
  },
  {
   "cell_type": "code",
   "execution_count": 0,
   "metadata": {
    "colab": {},
    "colab_type": "code",
    "id": "JleqbVNFt61o"
   },
   "outputs": [],
   "source": [
    "??GradCAM"
   ]
  },
  {
   "cell_type": "code",
   "execution_count": 133,
   "metadata": {
    "colab": {
     "base_uri": "https://localhost:8080/",
     "height": 1000
    },
    "colab_type": "code",
    "executionInfo": {
     "elapsed": 928,
     "status": "ok",
     "timestamp": 1573635431699,
     "user": {
      "displayName": "Benedikt Dietmar Schifferer",
      "photoUrl": "https://lh3.googleusercontent.com/a-/AAuE7mDViwxKXBjVKZfXMWGuXrQ48D62bye6HNutAOX0=s64",
      "userId": "06737229821528734971"
     },
     "user_tz": -60
    },
    "id": "y9rvvybc68Zz",
    "outputId": "d733eeb0-9623-4abe-d37c-808b55b6abf5"
   },
   "outputs": [
    {
     "name": "stdout",
     "output_type": "stream",
     "text": [
      "Model: \"my_dnn_2\"\n",
      "_________________________________________________________________\n",
      "Layer (type)                 Output Shape              Param #   \n",
      "=================================================================\n",
      "re_lu_2 (ReLU)               multiple                  0         \n",
      "_________________________________________________________________\n",
      "max_pooling3d_2 (MaxPooling3 multiple                  0         \n",
      "_________________________________________________________________\n",
      "conv3d_7 (Conv3D)            (None, 62, 62, 62, 32)    1760      \n",
      "_________________________________________________________________\n",
      "batch_normalization_48 (Batc (None, 62, 62, 62, 32)    128       \n",
      "_________________________________________________________________\n",
      "conv3d_8 (Conv3D)            (None, 29, 29, 29, 64)    55360     \n",
      "_________________________________________________________________\n",
      "batch_normalization_49 (Batc (None, 29, 29, 29, 64)    256       \n",
      "_________________________________________________________________\n",
      "conv3d_9 (Conv3D)            (None, 12, 12, 12, 128)   221312    \n",
      "_________________________________________________________________\n",
      "batch_normalization_50 (Batc (None, 12, 12, 12, 128)   512       \n",
      "_________________________________________________________________\n",
      "lastconv_1 (Conv3D)          (None, 4, 4, 4, 256)      884992    \n",
      "_________________________________________________________________\n",
      "batch_normalization_51 (Batc (None, 4, 4, 4, 256)      1024      \n",
      "_________________________________________________________________\n",
      "sequential_45 (Sequential)   (None, 1)                 67073     \n",
      "_________________________________________________________________\n",
      "sequential_46 (Sequential)   (None, 1)                 67073     \n",
      "_________________________________________________________________\n",
      "sequential_40 (Sequential)   (None, 2)                 67330     \n",
      "_________________________________________________________________\n",
      "sequential_49 (Sequential)   (None, 1)                 67073     \n",
      "_________________________________________________________________\n",
      "sequential_42 (Sequential)   (None, 4)                 67844     \n",
      "_________________________________________________________________\n",
      "sequential_43 (Sequential)   (None, 8)                 68872     \n",
      "_________________________________________________________________\n",
      "sequential_44 (Sequential)   (None, 6)                 68358     \n",
      "_________________________________________________________________\n",
      "sequential_57 (Sequential)   (None, 1)                 67073     \n",
      "_________________________________________________________________\n",
      "sequential_51 (Sequential)   (None, 1)                 67073     \n",
      "_________________________________________________________________\n",
      "sequential_55 (Sequential)   (None, 1)                 67073     \n",
      "_________________________________________________________________\n",
      "sequential_50 (Sequential)   (None, 1)                 67073     \n",
      "_________________________________________________________________\n",
      "sequential_54 (Sequential)   (None, 1)                 67073     \n",
      "_________________________________________________________________\n",
      "sequential_52 (Sequential)   (None, 1)                 67073     \n",
      "_________________________________________________________________\n",
      "sequential_53 (Sequential)   (None, 1)                 67073     \n",
      "_________________________________________________________________\n",
      "sequential_56 (Sequential)   (None, 1)                 67073     \n",
      "_________________________________________________________________\n",
      "sequential_59 (Sequential)   (None, 1)                 67073     \n",
      "_________________________________________________________________\n",
      "sequential_58 (Sequential)   (None, 1)                 67073     \n",
      "_________________________________________________________________\n",
      "sequential_41 (Sequential)   (None, 5)                 68101     \n",
      "_________________________________________________________________\n",
      "sequential_47 (Sequential)   (None, 1)                 67073     \n",
      "_________________________________________________________________\n",
      "sequential_48 (Sequential)   (None, 1)                 67073     \n",
      "=================================================================\n",
      "Total params: 2,511,944\n",
      "Trainable params: 2,500,744\n",
      "Non-trainable params: 11,200\n",
      "_________________________________________________________________\n"
     ]
    }
   ],
   "source": [
    "model.summary()"
   ]
  },
  {
   "cell_type": "code",
   "execution_count": 137,
   "metadata": {
    "colab": {
     "base_uri": "https://localhost:8080/",
     "height": 34
    },
    "colab_type": "code",
    "executionInfo": {
     "elapsed": 1155,
     "status": "ok",
     "timestamp": 1573635511676,
     "user": {
      "displayName": "Benedikt Dietmar Schifferer",
      "photoUrl": "https://lh3.googleusercontent.com/a-/AAuE7mDViwxKXBjVKZfXMWGuXrQ48D62bye6HNutAOX0=s64",
      "userId": "06737229821528734971"
     },
     "user_tz": -60
    },
    "id": "Klr1s868--Pd",
    "outputId": "91ae4930-a29b-40e7-e6ba-b54f339f9de5"
   },
   "outputs": [
    {
     "data": {
      "text/plain": [
       "<tf.Tensor 'my_dnn_2/sequential_40/Identity:0' shape=(None, 2) dtype=float32>"
      ]
     },
     "execution_count": 137,
     "metadata": {
      "tags": []
     },
     "output_type": "execute_result"
    }
   ],
   "source": [
    "mm.get_layer('my_dnn_2').get_layer('sequential_40').output"
   ]
  },
  {
   "cell_type": "code",
   "execution_count": 0,
   "metadata": {
    "colab": {},
    "colab_type": "code",
    "id": "A98V_pwSQRHe"
   },
   "outputs": [],
   "source": [
    "grad_model = tf.keras.models.Model(\n",
    "            [mm.inputs], [mm.get_layer('my_dnn_2').get_layer('lastconv_1').output, mm.get_layer('my_dnn_2').get_layer('sequential_40').output]\n",
    "        )"
   ]
  },
  {
   "cell_type": "code",
   "execution_count": 0,
   "metadata": {
    "colab": {},
    "colab_type": "code",
    "id": "ZtMPV1LRu-M9"
   },
   "outputs": [],
   "source": [
    "import cv2\n",
    "\n",
    "def image_to_uint_255(image):\n",
    "    \"\"\"\n",
    "    Convert float images to int 0-255 images.\n",
    "    Args:\n",
    "        image (numpy.ndarray): Input image. Can be either [0, 255], [0, 1], [-1, 1]\n",
    "    Returns:\n",
    "        numpy.ndarray:\n",
    "    \"\"\"\n",
    "    if image.dtype == np.uint8:\n",
    "        return image\n",
    "\n",
    "    if image.min() < 0:\n",
    "        image = (image + 1.0) / 2.0\n",
    "\n",
    "    return (image * 255).astype(\"uint8\")\n",
    "\n",
    "def heatmap_display(heatmap, original_image, colormap=cv2.COLORMAP_VIRIDIS):\n",
    "    \"\"\"\n",
    "    Apply a heatmap (as an np.ndarray) on top of an original image.\n",
    "    Args:\n",
    "        heatmap (numpy.ndarray): Array corresponding to the heatmap\n",
    "        original_image (numpy.ndarray): Image on which we apply the heatmap\n",
    "        colormap (int): OpenCV Colormap to use for heatmap visualization\n",
    "    Returns:\n",
    "        np.ndarray: Original image with heatmap applied\n",
    "    \"\"\"\n",
    "    heatmap = cv2.resize(heatmap, original_image.shape[0])\n",
    "\n",
    "    image = image_to_uint_255(original_image)\n",
    "\n",
    "    heatmap = (heatmap - np.min(heatmap)) / (heatmap.max() - heatmap.min())\n",
    "\n",
    "    heatmap = cv2.applyColorMap(\n",
    "        cv2.cvtColor((heatmap * 255).astype(\"uint8\"), cv2.COLOR_GRAY2BGR), colormap\n",
    "    )\n",
    "\n",
    "    output = cv2.addWeighted(cv2.cvtColor(image, cv2.COLOR_RGB2BGR), 0.7, heatmap, 1, 0)\n",
    "\n",
    "    return cv2.cvtColor(output, cv2.COLOR_BGR2RGB)"
   ]
  },
  {
   "cell_type": "code",
   "execution_count": 0,
   "metadata": {
    "colab": {},
    "colab_type": "code",
    "id": "0x7n6xNlVuCE"
   },
   "outputs": [],
   "source": [
    "colormap=cv2.COLORMAP_VIRIDIS\n",
    "\n",
    "with tf.GradientTape() as tape:\n",
    "  X_in = tf.cast(X[0:1], tf.float32)\n",
    "  conv_outputs, predictions = grad_model(X_in)\n",
    "  loss = predictions[:, 0]\n",
    "  tape.watch(loss)\n",
    "  tape.watch(conv_outputs)\n",
    "  grads = tape.gradient(loss, conv_outputs)"
   ]
  },
  {
   "cell_type": "code",
   "execution_count": 141,
   "metadata": {
    "colab": {
     "base_uri": "https://localhost:8080/",
     "height": 34
    },
    "colab_type": "code",
    "executionInfo": {
     "elapsed": 1109,
     "status": "ok",
     "timestamp": 1573635531488,
     "user": {
      "displayName": "Benedikt Dietmar Schifferer",
      "photoUrl": "https://lh3.googleusercontent.com/a-/AAuE7mDViwxKXBjVKZfXMWGuXrQ48D62bye6HNutAOX0=s64",
      "userId": "06737229821528734971"
     },
     "user_tz": -60
    },
    "id": "zkzfoc8651jB",
    "outputId": "57b5fff2-116a-4c75-cbf0-e4526ee4cf32"
   },
   "outputs": [
    {
     "data": {
      "text/plain": [
       "TensorShape([1, 4, 4, 4, 256])"
      ]
     },
     "execution_count": 141,
     "metadata": {
      "tags": []
     },
     "output_type": "execute_result"
    }
   ],
   "source": [
    "grads.shape"
   ]
  },
  {
   "cell_type": "code",
   "execution_count": 147,
   "metadata": {
    "colab": {
     "base_uri": "https://localhost:8080/",
     "height": 34
    },
    "colab_type": "code",
    "executionInfo": {
     "elapsed": 1231,
     "status": "ok",
     "timestamp": 1573635624114,
     "user": {
      "displayName": "Benedikt Dietmar Schifferer",
      "photoUrl": "https://lh3.googleusercontent.com/a-/AAuE7mDViwxKXBjVKZfXMWGuXrQ48D62bye6HNutAOX0=s64",
      "userId": "06737229821528734971"
     },
     "user_tz": -60
    },
    "id": "yEUMgSwp_fvl",
    "outputId": "507004b5-d2bb-4890-fcc8-1b64f6bbf34d"
   },
   "outputs": [
    {
     "data": {
      "text/plain": [
       "TensorShape([1, 4, 4, 4, 256])"
      ]
     },
     "execution_count": 147,
     "metadata": {
      "tags": []
     },
     "output_type": "execute_result"
    }
   ],
   "source": [
    "conv_outputs.shape"
   ]
  },
  {
   "cell_type": "code",
   "execution_count": 0,
   "metadata": {
    "colab": {},
    "colab_type": "code",
    "id": "NbK4gsGD5z8G"
   },
   "outputs": [],
   "source": [
    "guided_grads = (\n",
    "    tf.cast(conv_outputs > 0, \"float32\") * tf.cast(grads > 0, \"float32\") * grads\n",
    ")\n",
    "\n",
    "cams = GradCAM.generate_ponderated_output(conv_outputs, guided_grads)\n",
    "\n",
    "#heatmaps = np.array([\n",
    "#                     heatmap_display(cam.numpy(), image, colormap) \n",
    "#                     for cam, image in zip(cams, X[0:1])\n",
    "#                     ]\n",
    "#)"
   ]
  },
  {
   "cell_type": "code",
   "execution_count": 0,
   "metadata": {
    "colab": {},
    "colab_type": "code",
    "id": "GQRFygoO_lhl"
   },
   "outputs": [],
   "source": [
    "?? GradCAM"
   ]
  },
  {
   "cell_type": "code",
   "execution_count": 0,
   "metadata": {
    "colab": {},
    "colab_type": "code",
    "id": "KJQ3A6D1vOga"
   },
   "outputs": [],
   "source": [
    "cam = cams[0].numpy()\n",
    "original_image = X[0].numpy()"
   ]
  },
  {
   "cell_type": "code",
   "execution_count": 149,
   "metadata": {
    "colab": {
     "base_uri": "https://localhost:8080/",
     "height": 34
    },
    "colab_type": "code",
    "executionInfo": {
     "elapsed": 553,
     "status": "ok",
     "timestamp": 1573635677057,
     "user": {
      "displayName": "Benedikt Dietmar Schifferer",
      "photoUrl": "https://lh3.googleusercontent.com/a-/AAuE7mDViwxKXBjVKZfXMWGuXrQ48D62bye6HNutAOX0=s64",
      "userId": "06737229821528734971"
     },
     "user_tz": -60
    },
    "id": "jq6WwRHM_suQ",
    "outputId": "1260086f-78c7-4e90-83f5-29fbd499bd52"
   },
   "outputs": [
    {
     "data": {
      "text/plain": [
       "(4, 4, 4)"
      ]
     },
     "execution_count": 149,
     "metadata": {
      "tags": []
     },
     "output_type": "execute_result"
    }
   ],
   "source": [
    "cam.shape"
   ]
  },
  {
   "cell_type": "code",
   "execution_count": 150,
   "metadata": {
    "colab": {
     "base_uri": "https://localhost:8080/",
     "height": 34
    },
    "colab_type": "code",
    "executionInfo": {
     "elapsed": 994,
     "status": "ok",
     "timestamp": 1573635684025,
     "user": {
      "displayName": "Benedikt Dietmar Schifferer",
      "photoUrl": "https://lh3.googleusercontent.com/a-/AAuE7mDViwxKXBjVKZfXMWGuXrQ48D62bye6HNutAOX0=s64",
      "userId": "06737229821528734971"
     },
     "user_tz": -60
    },
    "id": "8-vBiYBL_uHv",
    "outputId": "38340d19-c523-4e35-c8a0-c02b2ed97298"
   },
   "outputs": [
    {
     "data": {
      "text/plain": [
       "(64, 64, 64, 2)"
      ]
     },
     "execution_count": 150,
     "metadata": {
      "tags": []
     },
     "output_type": "execute_result"
    }
   ],
   "source": [
    "original_image.shape"
   ]
  },
  {
   "cell_type": "code",
   "execution_count": 0,
   "metadata": {
    "colab": {},
    "colab_type": "code",
    "id": "Lf1EpM0huWkN"
   },
   "outputs": [],
   "source": [
    "image = image_to_uint_255(original_image)"
   ]
  },
  {
   "cell_type": "code",
   "execution_count": 0,
   "metadata": {
    "colab": {},
    "colab_type": "code",
    "id": "RfWTQbouwPr6"
   },
   "outputs": [],
   "source": [
    "cam = (cam - np.min(cam)) / (cam.max() - cam.min())"
   ]
  },
  {
   "cell_type": "code",
   "execution_count": 152,
   "metadata": {
    "colab": {
     "base_uri": "https://localhost:8080/",
     "height": 218
    },
    "colab_type": "code",
    "executionInfo": {
     "elapsed": 3100,
     "status": "ok",
     "timestamp": 1573635695548,
     "user": {
      "displayName": "Benedikt Dietmar Schifferer",
      "photoUrl": "https://lh3.googleusercontent.com/a-/AAuE7mDViwxKXBjVKZfXMWGuXrQ48D62bye6HNutAOX0=s64",
      "userId": "06737229821528734971"
     },
     "user_tz": -60
    },
    "id": "Vc3-eSm_Wdtp",
    "outputId": "628281a8-8722-4854-fb6f-907dea010039"
   },
   "outputs": [
    {
     "data": {
      "image/png": "[encoded data removed]",
      "text/plain": [
       "<Figure size 475.2x187.2 with 4 Axes>"
      ]
     },
     "metadata": {
      "tags": []
     },
     "output_type": "display_data"
    }
   ],
   "source": [
    "ppp = '/content/drive/My Drive/Capstone/05_Data/02_Sample_MRI/downsampled_resize/T2/sub-NDARINVFJJPAA2A_T2.nii.gz'\n",
    "org = nib.load(ppp)\n",
    "plotting.plot_anat(nilearn.image.new_img_like(ppp, cam, affine=None, copy_header=False))\n",
    "plotting.show()"
   ]
  },
  {
   "cell_type": "code",
   "execution_count": 108,
   "metadata": {
    "colab": {
     "base_uri": "https://localhost:8080/",
     "height": 103
    },
    "colab_type": "code",
    "executionInfo": {
     "elapsed": 2499,
     "status": "ok",
     "timestamp": 1573632489896,
     "user": {
      "displayName": "Benedikt Dietmar Schifferer",
      "photoUrl": "https://lh3.googleusercontent.com/a-/AAuE7mDViwxKXBjVKZfXMWGuXrQ48D62bye6HNutAOX0=s64",
      "userId": "06737229821528734971"
     },
     "user_tz": -60
    },
    "id": "Zon4lQxqxy_g",
    "outputId": "e27ca556-4b0e-419d-f080-948504cda843"
   },
   "outputs": [
    {
     "data": {
      "image/png": "[encoded data removed]",
      "text/plain": [
       "<Figure size 1296x86.4 with 16 Axes>"
      ]
     },
     "metadata": {
      "tags": []
     },
     "output_type": "display_data"
    }
   ],
   "source": [
    "step = 4\n",
    "n_slices = int(64/4)\n",
    "i = 0\n",
    "n = 0\n",
    "data = (cam * 255).astype(\"uint8\")\n",
    "slice = 0\n",
    "fig, ax = plt.subplots(1, n_slices, figsize=[18, 1.2*1])\n",
    "for _ in range(n_slices):\n",
    "  tmp_data = cv2.applyColorMap(cv2.cvtColor(data[:,:,slice], cv2.COLOR_GRAY2BGR), colormap)\n",
    "  ax[n].imshow(tmp_data)\n",
    "  ax[n].set_xticks([])\n",
    "  ax[n].set_yticks([])\n",
    "  if i == 0:\n",
    "    ax[n].set_title(str(slice), color='r')\n",
    "  else:\n",
    "    ax[n].set_title('', color='r')\n",
    "  n += 1\n",
    "  slice += step\n",
    "\n",
    "\n"
   ]
  },
  {
   "cell_type": "code",
   "execution_count": 105,
   "metadata": {
    "colab": {
     "base_uri": "https://localhost:8080/",
     "height": 850
    },
    "colab_type": "code",
    "executionInfo": {
     "elapsed": 988,
     "status": "ok",
     "timestamp": 1573632429787,
     "user": {
      "displayName": "Benedikt Dietmar Schifferer",
      "photoUrl": "https://lh3.googleusercontent.com/a-/AAuE7mDViwxKXBjVKZfXMWGuXrQ48D62bye6HNutAOX0=s64",
      "userId": "06737229821528734971"
     },
     "user_tz": -60
    },
    "id": "CswyaFSSzUT1",
    "outputId": "e23d5f93-8b96-493c-943a-220806dd2676"
   },
   "outputs": [
    {
     "data": {
      "text/plain": [
       "array([[[77, 71],\n",
       "        [77, 71],\n",
       "        [77, 71],\n",
       "        ...,\n",
       "        [77, 71],\n",
       "        [77, 71],\n",
       "        [77, 71]],\n",
       "\n",
       "       [[77, 71],\n",
       "        [77, 71],\n",
       "        [77, 71],\n",
       "        ...,\n",
       "        [77, 71],\n",
       "        [77, 71],\n",
       "        [77, 71]],\n",
       "\n",
       "       [[77, 71],\n",
       "        [77, 71],\n",
       "        [77, 71],\n",
       "        ...,\n",
       "        [77, 71],\n",
       "        [77, 71],\n",
       "        [77, 71]],\n",
       "\n",
       "       ...,\n",
       "\n",
       "       [[77, 71],\n",
       "        [77, 71],\n",
       "        [77, 71],\n",
       "        ...,\n",
       "        [77, 71],\n",
       "        [77, 71],\n",
       "        [77, 71]],\n",
       "\n",
       "       [[77, 71],\n",
       "        [77, 71],\n",
       "        [77, 71],\n",
       "        ...,\n",
       "        [77, 71],\n",
       "        [77, 71],\n",
       "        [77, 71]],\n",
       "\n",
       "       [[77, 71],\n",
       "        [77, 71],\n",
       "        [77, 71],\n",
       "        ...,\n",
       "        [77, 71],\n",
       "        [77, 71],\n",
       "        [77, 71]]], dtype=uint8)"
      ]
     },
     "execution_count": 105,
     "metadata": {
      "tags": []
     },
     "output_type": "execute_result"
    }
   ],
   "source": [
    "image[:,:,slice]"
   ]
  },
  {
   "cell_type": "code",
   "execution_count": 102,
   "metadata": {
    "colab": {
     "base_uri": "https://localhost:8080/",
     "height": 850
    },
    "colab_type": "code",
    "executionInfo": {
     "elapsed": 1103,
     "status": "ok",
     "timestamp": 1573632359963,
     "user": {
      "displayName": "Benedikt Dietmar Schifferer",
      "photoUrl": "https://lh3.googleusercontent.com/a-/AAuE7mDViwxKXBjVKZfXMWGuXrQ48D62bye6HNutAOX0=s64",
      "userId": "06737229821528734971"
     },
     "user_tz": -60
    },
    "id": "sHi5Wa4OxzHv",
    "outputId": "f75dcc53-bb56-4004-c563-0732b9b00f95"
   },
   "outputs": [
    {
     "data": {
      "text/plain": [
       "array([[[133,  63,  66],\n",
       "        [133,  63,  66],\n",
       "        [133,  63,  66],\n",
       "        ...,\n",
       "        [133,  63,  66],\n",
       "        [133,  63,  66],\n",
       "        [133,  63,  66]],\n",
       "\n",
       "       [[133,  63,  66],\n",
       "        [133,  63,  66],\n",
       "        [133,  63,  66],\n",
       "        ...,\n",
       "        [133,  63,  66],\n",
       "        [133,  63,  66],\n",
       "        [133,  63,  66]],\n",
       "\n",
       "       [[133,  63,  66],\n",
       "        [133,  63,  66],\n",
       "        [133,  63,  66],\n",
       "        ...,\n",
       "        [133,  63,  66],\n",
       "        [133,  63,  66],\n",
       "        [133,  63,  66]],\n",
       "\n",
       "       ...,\n",
       "\n",
       "       [[133,  63,  66],\n",
       "        [133,  63,  66],\n",
       "        [133,  63,  66],\n",
       "        ...,\n",
       "        [133,  63,  66],\n",
       "        [133,  63,  66],\n",
       "        [133,  63,  66]],\n",
       "\n",
       "       [[133,  63,  66],\n",
       "        [133,  63,  66],\n",
       "        [133,  63,  66],\n",
       "        ...,\n",
       "        [133,  63,  66],\n",
       "        [133,  63,  66],\n",
       "        [133,  63,  66]],\n",
       "\n",
       "       [[133,  63,  66],\n",
       "        [133,  63,  66],\n",
       "        [133,  63,  66],\n",
       "        ...,\n",
       "        [133,  63,  66],\n",
       "        [133,  63,  66],\n",
       "        [133,  63,  66]]], dtype=uint8)"
      ]
     },
     "execution_count": 102,
     "metadata": {
      "tags": []
     },
     "output_type": "execute_result"
    }
   ],
   "source": [
    "cv2.applyColorMap(cv2.cvtColor(data[:,:,slice], cv2.COLOR_GRAY2BGR), colormap)"
   ]
  },
  {
   "cell_type": "code",
   "execution_count": 0,
   "metadata": {
    "colab": {},
    "colab_type": "code",
    "id": "6j0saosJV0nl"
   },
   "outputs": [],
   "source": [
    "grads"
   ]
  },
  {
   "cell_type": "code",
   "execution_count": 0,
   "metadata": {
    "colab": {
     "base_uri": "https://localhost:8080/",
     "height": 71
    },
    "colab_type": "code",
    "executionInfo": {
     "elapsed": 1724,
     "status": "ok",
     "timestamp": 1573573601574,
     "user": {
      "displayName": "Benedikt Dietmar Schifferer",
      "photoUrl": "https://lh3.googleusercontent.com/a-/AAuE7mDViwxKXBjVKZfXMWGuXrQ48D62bye6HNutAOX0=s64",
      "userId": "06737229821528734971"
     },
     "user_tz": -60
    },
    "id": "9ll5ZhBYS0CC",
    "outputId": "da8f25d9-8618-4d94-a49c-6d12f26e452c"
   },
   "outputs": [
    {
     "name": "stderr",
     "output_type": "stream",
     "text": [
      "/usr/local/lib/python3.6/dist-packages/sklearn/externals/joblib/__init__.py:15: DeprecationWarning: sklearn.externals.joblib is deprecated in 0.21 and will be removed in 0.23. Please import this functionality directly from joblib, which can be installed with: pip install joblib. If this warning is raised when loading pickled models, you may need to re-serialize those models with scikit-learn 0.21+.\n",
      "  warnings.warn(msg, category=DeprecationWarning)\n"
     ]
    }
   ],
   "source": []
  },
  {
   "cell_type": "code",
   "execution_count": 0,
   "metadata": {
    "colab": {
     "base_uri": "https://localhost:8080/",
     "height": 190
    },
    "colab_type": "code",
    "executionInfo": {
     "elapsed": 5602,
     "status": "ok",
     "timestamp": 1573573592894,
     "user": {
      "displayName": "Benedikt Dietmar Schifferer",
      "photoUrl": "https://lh3.googleusercontent.com/a-/AAuE7mDViwxKXBjVKZfXMWGuXrQ48D62bye6HNutAOX0=s64",
      "userId": "06737229821528734971"
     },
     "user_tz": -60
    },
    "id": "2l2aRBO0S0lH",
    "outputId": "8eb4d09c-aa88-4223-dc2d-872ff68cab0b"
   },
   "outputs": [
    {
     "name": "stdout",
     "output_type": "stream",
     "text": [
      "Collecting nilearn\n",
      "\u001b[?25l  Downloading https://files.pythonhosted.org/packages/6e/65/ba76e7cd544dafc28960e60b099d6f906a2096034c560158beaf2ff299bc/nilearn-0.5.2-py2.py3-none-any.whl (2.3MB)\n",
      "\r",
      "\u001b[K     |▏                               | 10kB 27.8MB/s eta 0:00:01\r",
      "\u001b[K     |▎                               | 20kB 6.2MB/s eta 0:00:01\r",
      "\u001b[K     |▍                               | 30kB 8.9MB/s eta 0:00:01\r",
      "\u001b[K     |▋                               | 40kB 5.9MB/s eta 0:00:01\r",
      "\u001b[K     |▊                               | 51kB 7.1MB/s eta 0:00:01\r",
      "\u001b[K     |▉                               | 61kB 8.4MB/s eta 0:00:01\r",
      "\u001b[K     |█                               | 71kB 9.6MB/s eta 0:00:01\r",
      "\u001b[K     |█▏                              | 81kB 10.8MB/s eta 0:00:01\r",
      "\u001b[K     |█▎                              | 92kB 11.9MB/s eta 0:00:01\r",
      "\u001b[K     |█▍                              | 102kB 9.5MB/s eta 0:00:01\r",
      "\u001b[K     |█▌                              | 112kB 9.5MB/s eta 0:00:01\r",
      "\u001b[K     |█▊                              | 122kB 9.5MB/s eta 0:00:01\r",
      "\u001b[K     |█▉                              | 133kB 9.5MB/s eta 0:00:01\r",
      "\u001b[K     |██                              | 143kB 9.5MB/s eta 0:00:01\r",
      "\u001b[K     |██                              | 153kB 9.5MB/s eta 0:00:01\r",
      "\u001b[K     |██▎                             | 163kB 9.5MB/s eta 0:00:01\r",
      "\u001b[K     |██▍                             | 174kB 9.5MB/s eta 0:00:01\r",
      "\u001b[K     |██▌                             | 184kB 9.5MB/s eta 0:00:01\r",
      "\u001b[K     |██▋                             | 194kB 9.5MB/s eta 0:00:01\r",
      "\u001b[K     |██▉                             | 204kB 9.5MB/s eta 0:00:01\r",
      "\u001b[K     |███                             | 215kB 9.5MB/s eta 0:00:01\r",
      "\u001b[K     |███                             | 225kB 9.5MB/s eta 0:00:01\r",
      "\u001b[K     |███▏                            | 235kB 9.5MB/s eta 0:00:01\r",
      "\u001b[K     |███▍                            | 245kB 9.5MB/s eta 0:00:01\r",
      "\u001b[K     |███▌                            | 256kB 9.5MB/s eta 0:00:01\r",
      "\u001b[K     |███▋                            | 266kB 9.5MB/s eta 0:00:01\r",
      "\u001b[K     |███▊                            | 276kB 9.5MB/s eta 0:00:01\r",
      "\u001b[K     |████                            | 286kB 9.5MB/s eta 0:00:01\r",
      "\u001b[K     |████                            | 296kB 9.5MB/s eta 0:00:01\r",
      "\u001b[K     |████▏                           | 307kB 9.5MB/s eta 0:00:01\r",
      "\u001b[K     |████▎                           | 317kB 9.5MB/s eta 0:00:01\r",
      "\u001b[K     |████▌                           | 327kB 9.5MB/s eta 0:00:01\r",
      "\u001b[K     |████▋                           | 337kB 9.5MB/s eta 0:00:01\r",
      "\u001b[K     |████▊                           | 348kB 9.5MB/s eta 0:00:01\r",
      "\u001b[K     |█████                           | 358kB 9.5MB/s eta 0:00:01\r",
      "\u001b[K     |█████                           | 368kB 9.5MB/s eta 0:00:01\r",
      "\u001b[K     |█████▏                          | 378kB 9.5MB/s eta 0:00:01\r",
      "\u001b[K     |█████▎                          | 389kB 9.5MB/s eta 0:00:01\r",
      "\u001b[K     |█████▌                          | 399kB 9.5MB/s eta 0:00:01\r",
      "\u001b[K     |█████▋                          | 409kB 9.5MB/s eta 0:00:01\r",
      "\u001b[K     |█████▊                          | 419kB 9.5MB/s eta 0:00:01\r",
      "\u001b[K     |█████▉                          | 430kB 9.5MB/s eta 0:00:01\r",
      "\u001b[K     |██████                          | 440kB 9.5MB/s eta 0:00:01\r",
      "\u001b[K     |██████▏                         | 450kB 9.5MB/s eta 0:00:01\r",
      "\u001b[K     |██████▎                         | 460kB 9.5MB/s eta 0:00:01\r",
      "\u001b[K     |██████▍                         | 471kB 9.5MB/s eta 0:00:01\r",
      "\u001b[K     |██████▋                         | 481kB 9.5MB/s eta 0:00:01\r",
      "\u001b[K     |██████▊                         | 491kB 9.5MB/s eta 0:00:01\r",
      "\u001b[K     |██████▉                         | 501kB 9.5MB/s eta 0:00:01\r",
      "\u001b[K     |███████                         | 512kB 9.5MB/s eta 0:00:01\r",
      "\u001b[K     |███████▏                        | 522kB 9.5MB/s eta 0:00:01\r",
      "\u001b[K     |███████▎                        | 532kB 9.5MB/s eta 0:00:01\r",
      "\u001b[K     |███████▍                        | 542kB 9.5MB/s eta 0:00:01\r",
      "\u001b[K     |███████▌                        | 552kB 9.5MB/s eta 0:00:01\r",
      "\u001b[K     |███████▊                        | 563kB 9.5MB/s eta 0:00:01\r",
      "\u001b[K     |███████▉                        | 573kB 9.5MB/s eta 0:00:01\r",
      "\u001b[K     |████████                        | 583kB 9.5MB/s eta 0:00:01\r",
      "\u001b[K     |████████                        | 593kB 9.5MB/s eta 0:00:01\r",
      "\u001b[K     |████████▎                       | 604kB 9.5MB/s eta 0:00:01\r",
      "\u001b[K     |████████▍                       | 614kB 9.5MB/s eta 0:00:01\r",
      "\u001b[K     |████████▌                       | 624kB 9.5MB/s eta 0:00:01\r",
      "\u001b[K     |████████▋                       | 634kB 9.5MB/s eta 0:00:01\r",
      "\u001b[K     |████████▉                       | 645kB 9.5MB/s eta 0:00:01\r",
      "\u001b[K     |█████████                       | 655kB 9.5MB/s eta 0:00:01\r",
      "\u001b[K     |█████████                       | 665kB 9.5MB/s eta 0:00:01\r",
      "\u001b[K     |█████████▏                      | 675kB 9.5MB/s eta 0:00:01\r",
      "\u001b[K     |█████████▍                      | 686kB 9.5MB/s eta 0:00:01\r",
      "\u001b[K     |█████████▌                      | 696kB 9.5MB/s eta 0:00:01\r",
      "\u001b[K     |█████████▋                      | 706kB 9.5MB/s eta 0:00:01\r",
      "\u001b[K     |█████████▉                      | 716kB 9.5MB/s eta 0:00:01\r",
      "\u001b[K     |██████████                      | 727kB 9.5MB/s eta 0:00:01\r",
      "\u001b[K     |██████████                      | 737kB 9.5MB/s eta 0:00:01\r",
      "\u001b[K     |██████████▏                     | 747kB 9.5MB/s eta 0:00:01\r",
      "\u001b[K     |██████████▍                     | 757kB 9.5MB/s eta 0:00:01\r",
      "\u001b[K     |██████████▌                     | 768kB 9.5MB/s eta 0:00:01\r",
      "\u001b[K     |██████████▋                     | 778kB 9.5MB/s eta 0:00:01\r",
      "\u001b[K     |██████████▊                     | 788kB 9.5MB/s eta 0:00:01\r",
      "\u001b[K     |███████████                     | 798kB 9.5MB/s eta 0:00:01\r",
      "\u001b[K     |███████████                     | 808kB 9.5MB/s eta 0:00:01\r",
      "\u001b[K     |███████████▏                    | 819kB 9.5MB/s eta 0:00:01\r",
      "\u001b[K     |███████████▎                    | 829kB 9.5MB/s eta 0:00:01\r",
      "\u001b[K     |███████████▌                    | 839kB 9.5MB/s eta 0:00:01\r",
      "\u001b[K     |███████████▋                    | 849kB 9.5MB/s eta 0:00:01\r",
      "\u001b[K     |███████████▊                    | 860kB 9.5MB/s eta 0:00:01\r",
      "\u001b[K     |███████████▉                    | 870kB 9.5MB/s eta 0:00:01\r",
      "\u001b[K     |████████████                    | 880kB 9.5MB/s eta 0:00:01\r",
      "\u001b[K     |████████████▏                   | 890kB 9.5MB/s eta 0:00:01\r",
      "\u001b[K     |████████████▎                   | 901kB 9.5MB/s eta 0:00:01\r",
      "\u001b[K     |████████████▍                   | 911kB 9.5MB/s eta 0:00:01\r",
      "\u001b[K     |████████████▋                   | 921kB 9.5MB/s eta 0:00:01\r",
      "\u001b[K     |████████████▊                   | 931kB 9.5MB/s eta 0:00:01\r",
      "\u001b[K     |████████████▉                   | 942kB 9.5MB/s eta 0:00:01\r",
      "\u001b[K     |█████████████                   | 952kB 9.5MB/s eta 0:00:01\r",
      "\u001b[K     |█████████████▏                  | 962kB 9.5MB/s eta 0:00:01\r",
      "\u001b[K     |█████████████▎                  | 972kB 9.5MB/s eta 0:00:01\r",
      "\u001b[K     |█████████████▍                  | 983kB 9.5MB/s eta 0:00:01\r",
      "\u001b[K     |█████████████▌                  | 993kB 9.5MB/s eta 0:00:01\r",
      "\u001b[K     |█████████████▊                  | 1.0MB 9.5MB/s eta 0:00:01\r",
      "\u001b[K     |█████████████▉                  | 1.0MB 9.5MB/s eta 0:00:01\r",
      "\u001b[K     |██████████████                  | 1.0MB 9.5MB/s eta 0:00:01\r",
      "\u001b[K     |██████████████                  | 1.0MB 9.5MB/s eta 0:00:01\r",
      "\u001b[K     |██████████████▎                 | 1.0MB 9.5MB/s eta 0:00:01\r",
      "\u001b[K     |██████████████▍                 | 1.1MB 9.5MB/s eta 0:00:01\r",
      "\u001b[K     |██████████████▌                 | 1.1MB 9.5MB/s eta 0:00:01\r",
      "\u001b[K     |██████████████▊                 | 1.1MB 9.5MB/s eta 0:00:01\r",
      "\u001b[K     |██████████████▉                 | 1.1MB 9.5MB/s eta 0:00:01\r",
      "\u001b[K     |███████████████                 | 1.1MB 9.5MB/s eta 0:00:01\r",
      "\u001b[K     |███████████████                 | 1.1MB 9.5MB/s eta 0:00:01\r",
      "\u001b[K     |███████████████▎                | 1.1MB 9.5MB/s eta 0:00:01\r",
      "\u001b[K     |███████████████▍                | 1.1MB 9.5MB/s eta 0:00:01\r",
      "\u001b[K     |███████████████▌                | 1.1MB 9.5MB/s eta 0:00:01\r",
      "\u001b[K     |███████████████▋                | 1.1MB 9.5MB/s eta 0:00:01\r",
      "\u001b[K     |███████████████▉                | 1.2MB 9.5MB/s eta 0:00:01\r",
      "\u001b[K     |████████████████                | 1.2MB 9.5MB/s eta 0:00:01\r",
      "\u001b[K     |████████████████                | 1.2MB 9.5MB/s eta 0:00:01\r",
      "\u001b[K     |████████████████▏               | 1.2MB 9.5MB/s eta 0:00:01\r",
      "\u001b[K     |████████████████▍               | 1.2MB 9.5MB/s eta 0:00:01\r",
      "\u001b[K     |████████████████▌               | 1.2MB 9.5MB/s eta 0:00:01\r",
      "\u001b[K     |████████████████▋               | 1.2MB 9.5MB/s eta 0:00:01\r",
      "\u001b[K     |████████████████▊               | 1.2MB 9.5MB/s eta 0:00:01\r",
      "\u001b[K     |█████████████████               | 1.2MB 9.5MB/s eta 0:00:01\r",
      "\u001b[K     |█████████████████               | 1.2MB 9.5MB/s eta 0:00:01\r",
      "\u001b[K     |█████████████████▏              | 1.3MB 9.5MB/s eta 0:00:01\r",
      "\u001b[K     |█████████████████▎              | 1.3MB 9.5MB/s eta 0:00:01\r",
      "\u001b[K     |█████████████████▌              | 1.3MB 9.5MB/s eta 0:00:01\r",
      "\u001b[K     |█████████████████▋              | 1.3MB 9.5MB/s eta 0:00:01\r",
      "\u001b[K     |█████████████████▊              | 1.3MB 9.5MB/s eta 0:00:01\r",
      "\u001b[K     |█████████████████▉              | 1.3MB 9.5MB/s eta 0:00:01\r",
      "\u001b[K     |██████████████████              | 1.3MB 9.5MB/s eta 0:00:01\r",
      "\u001b[K     |██████████████████▏             | 1.3MB 9.5MB/s eta 0:00:01\r",
      "\u001b[K     |██████████████████▎             | 1.3MB 9.5MB/s eta 0:00:01\r",
      "\u001b[K     |██████████████████▍             | 1.4MB 9.5MB/s eta 0:00:01\r",
      "\u001b[K     |██████████████████▋             | 1.4MB 9.5MB/s eta 0:00:01\r",
      "\u001b[K     |██████████████████▊             | 1.4MB 9.5MB/s eta 0:00:01\r",
      "\u001b[K     |██████████████████▉             | 1.4MB 9.5MB/s eta 0:00:01\r",
      "\u001b[K     |███████████████████             | 1.4MB 9.5MB/s eta 0:00:01\r",
      "\u001b[K     |███████████████████▏            | 1.4MB 9.5MB/s eta 0:00:01\r",
      "\u001b[K     |███████████████████▎            | 1.4MB 9.5MB/s eta 0:00:01\r",
      "\u001b[K     |███████████████████▍            | 1.4MB 9.5MB/s eta 0:00:01\r",
      "\u001b[K     |███████████████████▋            | 1.4MB 9.5MB/s eta 0:00:01\r",
      "\u001b[K     |███████████████████▊            | 1.4MB 9.5MB/s eta 0:00:01\r",
      "\u001b[K     |███████████████████▉            | 1.5MB 9.5MB/s eta 0:00:01\r",
      "\u001b[K     |████████████████████            | 1.5MB 9.5MB/s eta 0:00:01\r",
      "\u001b[K     |████████████████████▏           | 1.5MB 9.5MB/s eta 0:00:01\r",
      "\u001b[K     |████████████████████▎           | 1.5MB 9.5MB/s eta 0:00:01\r",
      "\u001b[K     |████████████████████▍           | 1.5MB 9.5MB/s eta 0:00:01\r",
      "\u001b[K     |████████████████████▌           | 1.5MB 9.5MB/s eta 0:00:01\r",
      "\u001b[K     |████████████████████▊           | 1.5MB 9.5MB/s eta 0:00:01\r",
      "\u001b[K     |████████████████████▉           | 1.5MB 9.5MB/s eta 0:00:01\r",
      "\u001b[K     |█████████████████████           | 1.5MB 9.5MB/s eta 0:00:01\r",
      "\u001b[K     |█████████████████████           | 1.5MB 9.5MB/s eta 0:00:01\r",
      "\u001b[K     |█████████████████████▎          | 1.6MB 9.5MB/s eta 0:00:01\r",
      "\u001b[K     |█████████████████████▍          | 1.6MB 9.5MB/s eta 0:00:01\r",
      "\u001b[K     |█████████████████████▌          | 1.6MB 9.5MB/s eta 0:00:01\r",
      "\u001b[K     |█████████████████████▋          | 1.6MB 9.5MB/s eta 0:00:01\r",
      "\u001b[K     |█████████████████████▉          | 1.6MB 9.5MB/s eta 0:00:01\r",
      "\u001b[K     |██████████████████████          | 1.6MB 9.5MB/s eta 0:00:01\r",
      "\u001b[K     |██████████████████████          | 1.6MB 9.5MB/s eta 0:00:01\r",
      "\u001b[K     |██████████████████████▏         | 1.6MB 9.5MB/s eta 0:00:01\r",
      "\u001b[K     |██████████████████████▍         | 1.6MB 9.5MB/s eta 0:00:01\r",
      "\u001b[K     |██████████████████████▌         | 1.6MB 9.5MB/s eta 0:00:01\r",
      "\u001b[K     |██████████████████████▋         | 1.7MB 9.5MB/s eta 0:00:01\r",
      "\u001b[K     |██████████████████████▊         | 1.7MB 9.5MB/s eta 0:00:01\r",
      "\u001b[K     |███████████████████████         | 1.7MB 9.5MB/s eta 0:00:01\r",
      "\u001b[K     |███████████████████████         | 1.7MB 9.5MB/s eta 0:00:01\r",
      "\u001b[K     |███████████████████████▏        | 1.7MB 9.5MB/s eta 0:00:01\r",
      "\u001b[K     |███████████████████████▎        | 1.7MB 9.5MB/s eta 0:00:01\r",
      "\u001b[K     |███████████████████████▌        | 1.7MB 9.5MB/s eta 0:00:01\r",
      "\u001b[K     |███████████████████████▋        | 1.7MB 9.5MB/s eta 0:00:01\r",
      "\u001b[K     |███████████████████████▊        | 1.7MB 9.5MB/s eta 0:00:01\r",
      "\u001b[K     |███████████████████████▉        | 1.8MB 9.5MB/s eta 0:00:01\r",
      "\u001b[K     |████████████████████████        | 1.8MB 9.5MB/s eta 0:00:01\r",
      "\u001b[K     |████████████████████████▏       | 1.8MB 9.5MB/s eta 0:00:01\r",
      "\u001b[K     |████████████████████████▎       | 1.8MB 9.5MB/s eta 0:00:01\r",
      "\u001b[K     |████████████████████████▌       | 1.8MB 9.5MB/s eta 0:00:01\r",
      "\u001b[K     |████████████████████████▋       | 1.8MB 9.5MB/s eta 0:00:01\r",
      "\u001b[K     |████████████████████████▊       | 1.8MB 9.5MB/s eta 0:00:01\r",
      "\u001b[K     |████████████████████████▉       | 1.8MB 9.5MB/s eta 0:00:01\r",
      "\u001b[K     |█████████████████████████       | 1.8MB 9.5MB/s eta 0:00:01\r",
      "\u001b[K     |█████████████████████████▏      | 1.8MB 9.5MB/s eta 0:00:01\r",
      "\u001b[K     |█████████████████████████▎      | 1.9MB 9.5MB/s eta 0:00:01\r",
      "\u001b[K     |█████████████████████████▍      | 1.9MB 9.5MB/s eta 0:00:01\r",
      "\u001b[K     |█████████████████████████▋      | 1.9MB 9.5MB/s eta 0:00:01\r",
      "\u001b[K     |█████████████████████████▊      | 1.9MB 9.5MB/s eta 0:00:01\r",
      "\u001b[K     |█████████████████████████▉      | 1.9MB 9.5MB/s eta 0:00:01\r",
      "\u001b[K     |██████████████████████████      | 1.9MB 9.5MB/s eta 0:00:01\r",
      "\u001b[K     |██████████████████████████▏     | 1.9MB 9.5MB/s eta 0:00:01\r",
      "\u001b[K     |██████████████████████████▎     | 1.9MB 9.5MB/s eta 0:00:01\r",
      "\u001b[K     |██████████████████████████▍     | 1.9MB 9.5MB/s eta 0:00:01\r",
      "\u001b[K     |██████████████████████████▌     | 1.9MB 9.5MB/s eta 0:00:01\r",
      "\u001b[K     |██████████████████████████▊     | 2.0MB 9.5MB/s eta 0:00:01\r",
      "\u001b[K     |██████████████████████████▉     | 2.0MB 9.5MB/s eta 0:00:01\r",
      "\u001b[K     |███████████████████████████     | 2.0MB 9.5MB/s eta 0:00:01\r",
      "\u001b[K     |███████████████████████████     | 2.0MB 9.5MB/s eta 0:00:01\r",
      "\u001b[K     |███████████████████████████▎    | 2.0MB 9.5MB/s eta 0:00:01\r",
      "\u001b[K     |███████████████████████████▍    | 2.0MB 9.5MB/s eta 0:00:01\r",
      "\u001b[K     |███████████████████████████▌    | 2.0MB 9.5MB/s eta 0:00:01\r",
      "\u001b[K     |███████████████████████████▋    | 2.0MB 9.5MB/s eta 0:00:01\r",
      "\u001b[K     |███████████████████████████▉    | 2.0MB 9.5MB/s eta 0:00:01\r",
      "\u001b[K     |████████████████████████████    | 2.0MB 9.5MB/s eta 0:00:01\r",
      "\u001b[K     |████████████████████████████    | 2.1MB 9.5MB/s eta 0:00:01\r",
      "\u001b[K     |████████████████████████████▏   | 2.1MB 9.5MB/s eta 0:00:01\r",
      "\u001b[K     |████████████████████████████▍   | 2.1MB 9.5MB/s eta 0:00:01\r",
      "\u001b[K     |████████████████████████████▌   | 2.1MB 9.5MB/s eta 0:00:01\r",
      "\u001b[K     |████████████████████████████▋   | 2.1MB 9.5MB/s eta 0:00:01\r",
      "\u001b[K     |████████████████████████████▊   | 2.1MB 9.5MB/s eta 0:00:01\r",
      "\u001b[K     |█████████████████████████████   | 2.1MB 9.5MB/s eta 0:00:01\r",
      "\u001b[K     |█████████████████████████████   | 2.1MB 9.5MB/s eta 0:00:01\r",
      "\u001b[K     |█████████████████████████████▏  | 2.1MB 9.5MB/s eta 0:00:01\r",
      "\u001b[K     |█████████████████████████████▍  | 2.2MB 9.5MB/s eta 0:00:01\r",
      "\u001b[K     |█████████████████████████████▌  | 2.2MB 9.5MB/s eta 0:00:01\r",
      "\u001b[K     |█████████████████████████████▋  | 2.2MB 9.5MB/s eta 0:00:01\r",
      "\u001b[K     |█████████████████████████████▊  | 2.2MB 9.5MB/s eta 0:00:01\r",
      "\u001b[K     |██████████████████████████████  | 2.2MB 9.5MB/s eta 0:00:01\r",
      "\u001b[K     |██████████████████████████████  | 2.2MB 9.5MB/s eta 0:00:01\r",
      "\u001b[K     |██████████████████████████████▏ | 2.2MB 9.5MB/s eta 0:00:01\r",
      "\u001b[K     |██████████████████████████████▎ | 2.2MB 9.5MB/s eta 0:00:01\r",
      "\u001b[K     |██████████████████████████████▌ | 2.2MB 9.5MB/s eta 0:00:01\r",
      "\u001b[K     |██████████████████████████████▋ | 2.2MB 9.5MB/s eta 0:00:01\r",
      "\u001b[K     |██████████████████████████████▊ | 2.3MB 9.5MB/s eta 0:00:01\r",
      "\u001b[K     |██████████████████████████████▉ | 2.3MB 9.5MB/s eta 0:00:01\r",
      "\u001b[K     |███████████████████████████████ | 2.3MB 9.5MB/s eta 0:00:01\r",
      "\u001b[K     |███████████████████████████████▏| 2.3MB 9.5MB/s eta 0:00:01\r",
      "\u001b[K     |███████████████████████████████▎| 2.3MB 9.5MB/s eta 0:00:01\r",
      "\u001b[K     |███████████████████████████████▍| 2.3MB 9.5MB/s eta 0:00:01\r",
      "\u001b[K     |███████████████████████████████▋| 2.3MB 9.5MB/s eta 0:00:01\r",
      "\u001b[K     |███████████████████████████████▊| 2.3MB 9.5MB/s eta 0:00:01\r",
      "\u001b[K     |███████████████████████████████▉| 2.3MB 9.5MB/s eta 0:00:01\r",
      "\u001b[K     |████████████████████████████████| 2.3MB 9.5MB/s eta 0:00:01\r",
      "\u001b[K     |████████████████████████████████| 2.4MB 9.5MB/s \n",
      "\u001b[?25hRequirement already satisfied: nibabel>=2.0.2 in /usr/local/lib/python3.6/dist-packages (from nilearn) (2.3.3)\n",
      "Requirement already satisfied: numpy>=1.7.1 in /usr/local/lib/python3.6/dist-packages (from nibabel>=2.0.2->nilearn) (1.17.3)\n",
      "Requirement already satisfied: bz2file in /usr/local/lib/python3.6/dist-packages (from nibabel>=2.0.2->nilearn) (0.98)\n",
      "Requirement already satisfied: six>=1.3 in /usr/local/lib/python3.6/dist-packages (from nibabel>=2.0.2->nilearn) (1.12.0)\n",
      "Installing collected packages: nilearn\n",
      "Successfully installed nilearn-0.5.2\n"
     ]
    }
   ],
   "source": []
  },
  {
   "cell_type": "code",
   "execution_count": 0,
   "metadata": {
    "colab": {},
    "colab_type": "code",
    "id": "fmCx2QDeTgV5"
   },
   "outputs": [],
   "source": [
    "ppp = '/content/drive/My Drive/Capstone/05_Data/02_Sample_MRI/downsampled_resize/T2/sub-NDARINVFJJPAA2A_T2.nii.gz'\n",
    "org = nib.load(ppp)"
   ]
  },
  {
   "cell_type": "code",
   "execution_count": 0,
   "metadata": {
    "colab": {},
    "colab_type": "code",
    "id": "3aOZOBl7UAYf"
   },
   "outputs": [],
   "source": []
  },
  {
   "cell_type": "code",
   "execution_count": 0,
   "metadata": {
    "colab": {
     "base_uri": "https://localhost:8080/",
     "height": 218
    },
    "colab_type": "code",
    "executionInfo": {
     "elapsed": 2719,
     "status": "ok",
     "timestamp": 1573573909666,
     "user": {
      "displayName": "Benedikt Dietmar Schifferer",
      "photoUrl": "https://lh3.googleusercontent.com/a-/AAuE7mDViwxKXBjVKZfXMWGuXrQ48D62bye6HNutAOX0=s64",
      "userId": "06737229821528734971"
     },
     "user_tz": -60
    },
    "id": "x9nuB0SiS3lG",
    "outputId": "da89a83a-9b5d-4286-c265-f9b6d614177e"
   },
   "outputs": [
    {
     "data": {
      "image/png": "[encoded data removed]",
      "text/plain": [
       "<Figure size 475.2x187.2 with 4 Axes>"
      ]
     },
     "metadata": {
      "tags": []
     },
     "output_type": "display_data"
    }
   ],
   "source": []
  },
  {
   "cell_type": "code",
   "execution_count": 0,
   "metadata": {
    "colab": {},
    "colab_type": "code",
    "id": "dSeow2ZMTSM4"
   },
   "outputs": [],
   "source": [
    "nilearn.image."
   ]
  },
  {
   "cell_type": "code",
   "execution_count": 0,
   "metadata": {
    "colab": {
     "base_uri": "https://localhost:8080/",
     "height": 307
    },
    "colab_type": "code",
    "executionInfo": {
     "elapsed": 1068,
     "status": "error",
     "timestamp": 1573570989091,
     "user": {
      "displayName": "Benedikt Dietmar Schifferer",
      "photoUrl": "https://lh3.googleusercontent.com/a-/AAuE7mDViwxKXBjVKZfXMWGuXrQ48D62bye6HNutAOX0=s64",
      "userId": "06737229821528734971"
     },
     "user_tz": -60
    },
    "id": "aUUkRh73Ikou",
    "outputId": "9280f05b-2745-4b4f-eb3c-22a9bb5c2ee3"
   },
   "outputs": [
    {
     "ename": "TypeError",
     "evalue": "ignored",
     "output_type": "error",
     "traceback": [
      "\u001b[0;31m---------------------------------------------------------------------------\u001b[0m",
      "\u001b[0;31mTypeError\u001b[0m                                 Traceback (most recent call last)",
      "\u001b[0;32m<ipython-input-41-5f54dad89d21>\u001b[0m in \u001b[0;36m<module>\u001b[0;34m()\u001b[0m\n\u001b[1;32m      1\u001b[0m \u001b[0;32mimport\u001b[0m \u001b[0mtensorflow\u001b[0m \u001b[0;32mas\u001b[0m \u001b[0mtf\u001b[0m\u001b[0;34m\u001b[0m\u001b[0;34m\u001b[0m\u001b[0m\n\u001b[1;32m      2\u001b[0m \u001b[0;34m\u001b[0m\u001b[0m\n\u001b[0;32m----> 3\u001b[0;31m \u001b[0mmm\u001b[0m \u001b[0;34m=\u001b[0m \u001b[0mtf\u001b[0m\u001b[0;34m.\u001b[0m\u001b[0mkeras\u001b[0m\u001b[0;34m.\u001b[0m\u001b[0mModel\u001b[0m\u001b[0;34m(\u001b[0m\u001b[0minputs\u001b[0m\u001b[0;34m=\u001b[0m\u001b[0minputs\u001b[0m\u001b[0;34m,\u001b[0m \u001b[0moutput\u001b[0m\u001b[0;34m=\u001b[0m\u001b[0minputs\u001b[0m\u001b[0;34m)\u001b[0m\u001b[0;34m\u001b[0m\u001b[0;34m\u001b[0m\u001b[0m\n\u001b[0m",
      "\u001b[0;32m/usr/local/lib/python3.6/dist-packages/tensorflow_core/python/keras/engine/training.py\u001b[0m in \u001b[0;36m__init__\u001b[0;34m(self, *args, **kwargs)\u001b[0m\n\u001b[1;32m    144\u001b[0m \u001b[0;34m\u001b[0m\u001b[0m\n\u001b[1;32m    145\u001b[0m   \u001b[0;32mdef\u001b[0m \u001b[0m__init__\u001b[0m\u001b[0;34m(\u001b[0m\u001b[0mself\u001b[0m\u001b[0;34m,\u001b[0m \u001b[0;34m*\u001b[0m\u001b[0margs\u001b[0m\u001b[0;34m,\u001b[0m \u001b[0;34m**\u001b[0m\u001b[0mkwargs\u001b[0m\u001b[0;34m)\u001b[0m\u001b[0;34m:\u001b[0m\u001b[0;34m\u001b[0m\u001b[0;34m\u001b[0m\u001b[0m\n\u001b[0;32m--> 146\u001b[0;31m     \u001b[0msuper\u001b[0m\u001b[0;34m(\u001b[0m\u001b[0mModel\u001b[0m\u001b[0;34m,\u001b[0m \u001b[0mself\u001b[0m\u001b[0;34m)\u001b[0m\u001b[0;34m.\u001b[0m\u001b[0m__init__\u001b[0m\u001b[0;34m(\u001b[0m\u001b[0;34m*\u001b[0m\u001b[0margs\u001b[0m\u001b[0;34m,\u001b[0m \u001b[0;34m**\u001b[0m\u001b[0mkwargs\u001b[0m\u001b[0;34m)\u001b[0m\u001b[0;34m\u001b[0m\u001b[0;34m\u001b[0m\u001b[0m\n\u001b[0m\u001b[1;32m    147\u001b[0m     \u001b[0m_keras_api_gauge\u001b[0m\u001b[0;34m.\u001b[0m\u001b[0mget_cell\u001b[0m\u001b[0;34m(\u001b[0m\u001b[0;34m'model'\u001b[0m\u001b[0;34m)\u001b[0m\u001b[0;34m.\u001b[0m\u001b[0mset\u001b[0m\u001b[0;34m(\u001b[0m\u001b[0;32mTrue\u001b[0m\u001b[0;34m)\u001b[0m\u001b[0;34m\u001b[0m\u001b[0;34m\u001b[0m\u001b[0m\n\u001b[1;32m    148\u001b[0m     \u001b[0;31m# initializing _distribution_strategy here since it is possible to call\u001b[0m\u001b[0;34m\u001b[0m\u001b[0;34m\u001b[0m\u001b[0;34m\u001b[0m\u001b[0m\n",
      "\u001b[0;32m/usr/local/lib/python3.6/dist-packages/tensorflow_core/python/keras/engine/network.py\u001b[0m in \u001b[0;36m__init__\u001b[0;34m(self, *args, **kwargs)\u001b[0m\n\u001b[1;32m    168\u001b[0m     \u001b[0;32melse\u001b[0m\u001b[0;34m:\u001b[0m\u001b[0;34m\u001b[0m\u001b[0;34m\u001b[0m\u001b[0m\n\u001b[1;32m    169\u001b[0m       \u001b[0;31m# Subclassed network\u001b[0m\u001b[0;34m\u001b[0m\u001b[0;34m\u001b[0m\u001b[0;34m\u001b[0m\u001b[0m\n\u001b[0;32m--> 170\u001b[0;31m       \u001b[0mself\u001b[0m\u001b[0;34m.\u001b[0m\u001b[0m_init_subclassed_network\u001b[0m\u001b[0;34m(\u001b[0m\u001b[0;34m**\u001b[0m\u001b[0mkwargs\u001b[0m\u001b[0;34m)\u001b[0m\u001b[0;34m\u001b[0m\u001b[0;34m\u001b[0m\u001b[0m\n\u001b[0m\u001b[1;32m    171\u001b[0m \u001b[0;34m\u001b[0m\u001b[0m\n\u001b[1;32m    172\u001b[0m     \u001b[0mtf_utils\u001b[0m\u001b[0;34m.\u001b[0m\u001b[0massert_no_legacy_layers\u001b[0m\u001b[0;34m(\u001b[0m\u001b[0mself\u001b[0m\u001b[0;34m.\u001b[0m\u001b[0mlayers\u001b[0m\u001b[0;34m)\u001b[0m\u001b[0;34m\u001b[0m\u001b[0;34m\u001b[0m\u001b[0m\n",
      "\u001b[0;32m/usr/local/lib/python3.6/dist-packages/tensorflow_core/python/training/tracking/base.py\u001b[0m in \u001b[0;36m_method_wrapper\u001b[0;34m(self, *args, **kwargs)\u001b[0m\n\u001b[1;32m    455\u001b[0m     \u001b[0mself\u001b[0m\u001b[0;34m.\u001b[0m\u001b[0m_self_setattr_tracking\u001b[0m \u001b[0;34m=\u001b[0m \u001b[0;32mFalse\u001b[0m  \u001b[0;31m# pylint: disable=protected-access\u001b[0m\u001b[0;34m\u001b[0m\u001b[0;34m\u001b[0m\u001b[0m\n\u001b[1;32m    456\u001b[0m     \u001b[0;32mtry\u001b[0m\u001b[0;34m:\u001b[0m\u001b[0;34m\u001b[0m\u001b[0;34m\u001b[0m\u001b[0m\n\u001b[0;32m--> 457\u001b[0;31m       \u001b[0mresult\u001b[0m \u001b[0;34m=\u001b[0m \u001b[0mmethod\u001b[0m\u001b[0;34m(\u001b[0m\u001b[0mself\u001b[0m\u001b[0;34m,\u001b[0m \u001b[0;34m*\u001b[0m\u001b[0margs\u001b[0m\u001b[0;34m,\u001b[0m \u001b[0;34m**\u001b[0m\u001b[0mkwargs\u001b[0m\u001b[0;34m)\u001b[0m\u001b[0;34m\u001b[0m\u001b[0;34m\u001b[0m\u001b[0m\n\u001b[0m\u001b[1;32m    458\u001b[0m     \u001b[0;32mfinally\u001b[0m\u001b[0;34m:\u001b[0m\u001b[0;34m\u001b[0m\u001b[0;34m\u001b[0m\u001b[0m\n\u001b[1;32m    459\u001b[0m       \u001b[0mself\u001b[0m\u001b[0;34m.\u001b[0m\u001b[0m_self_setattr_tracking\u001b[0m \u001b[0;34m=\u001b[0m \u001b[0mprevious_value\u001b[0m  \u001b[0;31m# pylint: disable=protected-access\u001b[0m\u001b[0;34m\u001b[0m\u001b[0;34m\u001b[0m\u001b[0m\n",
      "\u001b[0;32m/usr/local/lib/python3.6/dist-packages/tensorflow_core/python/keras/engine/network.py\u001b[0m in \u001b[0;36m_init_subclassed_network\u001b[0;34m(self, name, **kwargs)\u001b[0m\n\u001b[1;32m    376\u001b[0m   \u001b[0;34m@\u001b[0m\u001b[0mtrackable\u001b[0m\u001b[0;34m.\u001b[0m\u001b[0mno_automatic_dependency_tracking\u001b[0m\u001b[0;34m\u001b[0m\u001b[0;34m\u001b[0m\u001b[0m\n\u001b[1;32m    377\u001b[0m   \u001b[0;32mdef\u001b[0m \u001b[0m_init_subclassed_network\u001b[0m\u001b[0;34m(\u001b[0m\u001b[0mself\u001b[0m\u001b[0;34m,\u001b[0m \u001b[0mname\u001b[0m\u001b[0;34m=\u001b[0m\u001b[0;32mNone\u001b[0m\u001b[0;34m,\u001b[0m \u001b[0;34m**\u001b[0m\u001b[0mkwargs\u001b[0m\u001b[0;34m)\u001b[0m\u001b[0;34m:\u001b[0m\u001b[0;34m\u001b[0m\u001b[0;34m\u001b[0m\u001b[0m\n\u001b[0;32m--> 378\u001b[0;31m     \u001b[0mself\u001b[0m\u001b[0;34m.\u001b[0m\u001b[0m_base_init\u001b[0m\u001b[0;34m(\u001b[0m\u001b[0mname\u001b[0m\u001b[0;34m=\u001b[0m\u001b[0mname\u001b[0m\u001b[0;34m,\u001b[0m \u001b[0;34m**\u001b[0m\u001b[0mkwargs\u001b[0m\u001b[0;34m)\u001b[0m\u001b[0;34m\u001b[0m\u001b[0;34m\u001b[0m\u001b[0m\n\u001b[0m\u001b[1;32m    379\u001b[0m     \u001b[0mself\u001b[0m\u001b[0;34m.\u001b[0m\u001b[0m_is_graph_network\u001b[0m \u001b[0;34m=\u001b[0m \u001b[0;32mFalse\u001b[0m\u001b[0;34m\u001b[0m\u001b[0;34m\u001b[0m\u001b[0m\n\u001b[1;32m    380\u001b[0m     \u001b[0mself\u001b[0m\u001b[0;34m.\u001b[0m\u001b[0m_init_call_fn_args\u001b[0m\u001b[0;34m(\u001b[0m\u001b[0;34m)\u001b[0m\u001b[0;34m\u001b[0m\u001b[0;34m\u001b[0m\u001b[0m\n",
      "\u001b[0;32m/usr/local/lib/python3.6/dist-packages/tensorflow_core/python/training/tracking/base.py\u001b[0m in \u001b[0;36m_method_wrapper\u001b[0;34m(self, *args, **kwargs)\u001b[0m\n\u001b[1;32m    455\u001b[0m     \u001b[0mself\u001b[0m\u001b[0;34m.\u001b[0m\u001b[0m_self_setattr_tracking\u001b[0m \u001b[0;34m=\u001b[0m \u001b[0;32mFalse\u001b[0m  \u001b[0;31m# pylint: disable=protected-access\u001b[0m\u001b[0;34m\u001b[0m\u001b[0;34m\u001b[0m\u001b[0m\n\u001b[1;32m    456\u001b[0m     \u001b[0;32mtry\u001b[0m\u001b[0;34m:\u001b[0m\u001b[0;34m\u001b[0m\u001b[0;34m\u001b[0m\u001b[0m\n\u001b[0;32m--> 457\u001b[0;31m       \u001b[0mresult\u001b[0m \u001b[0;34m=\u001b[0m \u001b[0mmethod\u001b[0m\u001b[0;34m(\u001b[0m\u001b[0mself\u001b[0m\u001b[0;34m,\u001b[0m \u001b[0;34m*\u001b[0m\u001b[0margs\u001b[0m\u001b[0;34m,\u001b[0m \u001b[0;34m**\u001b[0m\u001b[0mkwargs\u001b[0m\u001b[0;34m)\u001b[0m\u001b[0;34m\u001b[0m\u001b[0;34m\u001b[0m\u001b[0m\n\u001b[0m\u001b[1;32m    458\u001b[0m     \u001b[0;32mfinally\u001b[0m\u001b[0;34m:\u001b[0m\u001b[0;34m\u001b[0m\u001b[0;34m\u001b[0m\u001b[0m\n\u001b[1;32m    459\u001b[0m       \u001b[0mself\u001b[0m\u001b[0;34m.\u001b[0m\u001b[0m_self_setattr_tracking\u001b[0m \u001b[0;34m=\u001b[0m \u001b[0mprevious_value\u001b[0m  \u001b[0;31m# pylint: disable=protected-access\u001b[0m\u001b[0;34m\u001b[0m\u001b[0;34m\u001b[0m\u001b[0m\n",
      "\u001b[0;32m/usr/local/lib/python3.6/dist-packages/tensorflow_core/python/keras/engine/network.py\u001b[0m in \u001b[0;36m_base_init\u001b[0;34m(self, name, **kwargs)\u001b[0m\n\u001b[1;32m    195\u001b[0m \u001b[0;34m\u001b[0m\u001b[0m\n\u001b[1;32m    196\u001b[0m     generic_utils.validate_kwargs(kwargs, {'trainable', 'dtype', 'dynamic',\n\u001b[0;32m--> 197\u001b[0;31m                                            'autocast'})\n\u001b[0m\u001b[1;32m    198\u001b[0m \u001b[0;34m\u001b[0m\u001b[0m\n\u001b[1;32m    199\u001b[0m     \u001b[0;31m# Object to store all thread local layer properties.\u001b[0m\u001b[0;34m\u001b[0m\u001b[0;34m\u001b[0m\u001b[0;34m\u001b[0m\u001b[0m\n",
      "\u001b[0;32m/usr/local/lib/python3.6/dist-packages/tensorflow_core/python/keras/utils/generic_utils.py\u001b[0m in \u001b[0;36mvalidate_kwargs\u001b[0;34m(kwargs, allowed_kwargs, error_message)\u001b[0m\n\u001b[1;32m    597\u001b[0m   \u001b[0;32mfor\u001b[0m \u001b[0mkwarg\u001b[0m \u001b[0;32min\u001b[0m \u001b[0mkwargs\u001b[0m\u001b[0;34m:\u001b[0m\u001b[0;34m\u001b[0m\u001b[0;34m\u001b[0m\u001b[0m\n\u001b[1;32m    598\u001b[0m     \u001b[0;32mif\u001b[0m \u001b[0mkwarg\u001b[0m \u001b[0;32mnot\u001b[0m \u001b[0;32min\u001b[0m \u001b[0mallowed_kwargs\u001b[0m\u001b[0;34m:\u001b[0m\u001b[0;34m\u001b[0m\u001b[0;34m\u001b[0m\u001b[0m\n\u001b[0;32m--> 599\u001b[0;31m       \u001b[0;32mraise\u001b[0m \u001b[0mTypeError\u001b[0m\u001b[0;34m(\u001b[0m\u001b[0merror_message\u001b[0m\u001b[0;34m,\u001b[0m \u001b[0mkwarg\u001b[0m\u001b[0;34m)\u001b[0m\u001b[0;34m\u001b[0m\u001b[0;34m\u001b[0m\u001b[0m\n\u001b[0m",
      "\u001b[0;31mTypeError\u001b[0m: ('Keyword argument not understood:', 'inputs')"
     ]
    }
   ],
   "source": [
    "import tensorflow as tf\n",
    "\n",
    "mm = tf.keras.Model(inputs=inputs, output=inputs)"
   ]
  },
  {
   "cell_type": "code",
   "execution_count": 0,
   "metadata": {
    "colab": {},
    "colab_type": "code",
    "id": "5iG2jty7ItI6"
   },
   "outputs": [],
   "source": [
    "aaa = model.fc['female']"
   ]
  },
  {
   "cell_type": "code",
   "execution_count": 0,
   "metadata": {
    "colab": {
     "base_uri": "https://localhost:8080/",
     "height": 34
    },
    "colab_type": "code",
    "executionInfo": {
     "elapsed": 1101,
     "status": "ok",
     "timestamp": 1573572176029,
     "user": {
      "displayName": "Benedikt Dietmar Schifferer",
      "photoUrl": "https://lh3.googleusercontent.com/a-/AAuE7mDViwxKXBjVKZfXMWGuXrQ48D62bye6HNutAOX0=s64",
      "userId": "06737229821528734971"
     },
     "user_tz": -60
    },
    "id": "rBkxNGXJMm3f",
    "outputId": "8f9443a0-ce63-4b6b-cfd6-5bdcb191d7f8"
   },
   "outputs": [
    {
     "data": {
      "text/plain": [
       "<tensorflow.python.keras.layers.core.Dense at 0x7f9c981c3828>"
      ]
     },
     "execution_count": 62,
     "metadata": {
      "tags": []
     },
     "output_type": "execute_result"
    }
   ],
   "source": [
    "aaa.layers[-1]"
   ]
  },
  {
   "cell_type": "code",
   "execution_count": 0,
   "metadata": {
    "colab": {
     "base_uri": "https://localhost:8080/",
     "height": 164
    },
    "colab_type": "code",
    "executionInfo": {
     "elapsed": 1594,
     "status": "error",
     "timestamp": 1573571926766,
     "user": {
      "displayName": "Benedikt Dietmar Schifferer",
      "photoUrl": "https://lh3.googleusercontent.com/a-/AAuE7mDViwxKXBjVKZfXMWGuXrQ48D62bye6HNutAOX0=s64",
      "userId": "06737229821528734971"
     },
     "user_tz": -60
    },
    "id": "R7pvBAzEMgIb",
    "outputId": "b674a27f-9b52-49c7-d0d6-bda6bebe1508"
   },
   "outputs": [
    {
     "ename": "AttributeError",
     "evalue": "ignored",
     "output_type": "error",
     "traceback": [
      "\u001b[0;31m---------------------------------------------------------------------------\u001b[0m",
      "\u001b[0;31mAttributeError\u001b[0m                            Traceback (most recent call last)",
      "\u001b[0;32m<ipython-input-52-82b832867aa3>\u001b[0m in \u001b[0;36m<module>\u001b[0;34m()\u001b[0m\n\u001b[0;32m----> 1\u001b[0;31m \u001b[0mlist\u001b[0m\u001b[0;34m(\u001b[0m\u001b[0mmodel\u001b[0m\u001b[0;34m.\u001b[0m\u001b[0mfc\u001b[0m\u001b[0;34m[\u001b[0m\u001b[0;34m'female'\u001b[0m\u001b[0;34m]\u001b[0m\u001b[0;34m.\u001b[0m\u001b[0mchildren\u001b[0m\u001b[0;34m(\u001b[0m\u001b[0;34m)\u001b[0m\u001b[0;34m)\u001b[0m\u001b[0;34m\u001b[0m\u001b[0;34m\u001b[0m\u001b[0m\n\u001b[0m",
      "\u001b[0;31mAttributeError\u001b[0m: 'Sequential' object has no attribute 'children'"
     ]
    }
   ],
   "source": [
    "list(model.fc['female'].children())"
   ]
  },
  {
   "cell_type": "code",
   "execution_count": 0,
   "metadata": {
    "colab": {},
    "colab_type": "code",
    "id": "aQ6iuJbGEym7"
   },
   "outputs": [],
   "source": [
    "from tensorflow.keras import Model\n",
    "\n",
    "class WrapperMyDNN(Model):\n",
    "  def __init__(self, model):\n",
    "    super(WrapperMyDNN, self).__init__()\n",
    "    self.model = model\n",
    "    #self.output = self.model.fc['female'].layers[-1]\n",
    "  \n",
    "  def call(self, x):\n",
    "    x_tmp = self.model(x)\n",
    "    return(x_tmp['female'])"
   ]
  },
  {
   "cell_type": "code",
   "execution_count": 0,
   "metadata": {
    "colab": {},
    "colab_type": "code",
    "id": "S4Qim0gN0Lua"
   },
   "outputs": [],
   "source": [
    "?? Model"
   ]
  },
  {
   "cell_type": "code",
   "execution_count": 0,
   "metadata": {
    "colab": {},
    "colab_type": "code",
    "id": "IbySX5WM0F4G"
   },
   "outputs": [],
   "source": [
    "from tensorflow.keras import Model\n",
    "\n",
    "class MyDNN2(Model):\n",
    "  def __init__(self, cat_cols, num_cols, **kwargs):\n",
    "    super(MyDNN2, self).__init__(**kwargs)\n",
    "    self.cat_cols = cat_cols\n",
    "    self.num_cols = num_cols\n",
    "    self.ac = tf.keras.layers.ReLU()\n",
    "    self.maxpool = tf.keras.layers.MaxPool3D(pool_size=(2, 2, 2), data_format='channels_last')\n",
    "    self.conv1 = tf.keras.layers.Conv3D(\n",
    "        filters = 32,\n",
    "        kernel_size = 3,\n",
    "        padding='valid',\n",
    "        data_format='channels_last',\n",
    "        input_shape = (64,64,64,2)\n",
    "    )\n",
    "    self.bn1 = tf.keras.layers.BatchNormalization()\n",
    "    self.conv2 = tf.keras.layers.Conv3D(\n",
    "        filters = 64,\n",
    "        kernel_size = 3,\n",
    "        padding='valid',\n",
    "        data_format='channels_last'\n",
    "    )\n",
    "    self.bn2 = tf.keras.layers.BatchNormalization()\n",
    "    self.conv3 = tf.keras.layers.Conv3D(\n",
    "        filters = 128,\n",
    "        kernel_size = 3,\n",
    "        padding='valid',\n",
    "        data_format='channels_last'\n",
    "    )\n",
    "    self.bn3 = tf.keras.layers.BatchNormalization()\n",
    "    self.conv4 = tf.keras.layers.Conv3D(\n",
    "        filters = 256,\n",
    "        kernel_size = 3,\n",
    "        padding='valid',\n",
    "        data_format='channels_last'\n",
    "    )\n",
    "    self.bn4 = tf.keras.layers.BatchNormalization()\n",
    "    self.fc = {}\n",
    "    for k in list(self.cat_cols.keys()):\n",
    "      self.fc[k] = tf.keras.Sequential([\n",
    "                                        tf.keras.layers.Dense(256, activation='relu'),\n",
    "                                        tf.keras.layers.BatchNormalization(),\n",
    "                                        tf.keras.layers.Dense(self.cat_cols[k], activation='softmax')\n",
    "                                        ])\n",
    "    for i in range(len(self.num_cols)):\n",
    "      self.fc[self.num_cols[i]] = tf.keras.Sequential([\n",
    "                                        tf.keras.layers.Dense(256, activation='relu'),\n",
    "                                        tf.keras.layers.BatchNormalization(),\n",
    "                                        tf.keras.layers.Dense(1)\n",
    "                                        ])\n",
    "\n",
    "  def call(self, x):\n",
    "    x = self.conv1(x)\n",
    "    x = self.bn1(x)\n",
    "    x = self.ac(x)\n",
    "    x = self.maxpool(x)\n",
    "    x = self.conv2(x)\n",
    "    x = self.bn2(x)\n",
    "    x = self.ac(x)\n",
    "    x = self.maxpool(x)\n",
    "    x = self.conv3(x)\n",
    "    x = self.bn3(x)\n",
    "    x = self.ac(x)\n",
    "    x = self.maxpool(x)\n",
    "    x = self.conv4(x)\n",
    "    x = self.bn4(x)\n",
    "    x = self.ac(x)\n",
    "    x = tf.keras.layers.GlobalAveragePooling3D()(x)\n",
    "    out = {}\n",
    "    for k in list(self.fc.keys()):\n",
    "      out[k] = self.fc[k](x)\n",
    "    return out"
   ]
  },
  {
   "cell_type": "code",
   "execution_count": 0,
   "metadata": {
    "colab": {},
    "colab_type": "code",
    "id": "DytC-LQsPZSd"
   },
   "outputs": [],
   "source": [
    "model2 = WrapperMyDNN(model)\n",
    "a = next(iter(test_iter))\n",
    "t1 = (tf.cast(a['t1'], tf.float32)-t1_mean)/t1_std\n",
    "t2 = (a['t2']-t2_mean)/t2_std\n",
    "X = tf.concat([t1, t2], axis=4)"
   ]
  },
  {
   "cell_type": "code",
   "execution_count": 0,
   "metadata": {
    "colab": {
     "base_uri": "https://localhost:8080/",
     "height": 283
    },
    "colab_type": "code",
    "executionInfo": {
     "elapsed": 1130,
     "status": "error",
     "timestamp": 1573572569092,
     "user": {
      "displayName": "Benedikt Dietmar Schifferer",
      "photoUrl": "https://lh3.googleusercontent.com/a-/AAuE7mDViwxKXBjVKZfXMWGuXrQ48D62bye6HNutAOX0=s64",
      "userId": "06737229821528734971"
     },
     "user_tz": -60
    },
    "id": "-FnN0VNHOuHC",
    "outputId": "e39d17e4-1629-4f90-d4e3-e8341a78c956"
   },
   "outputs": [
    {
     "ename": "AttributeError",
     "evalue": "ignored",
     "output_type": "error",
     "traceback": [
      "\u001b[0;31m---------------------------------------------------------------------------\u001b[0m",
      "\u001b[0;31mAttributeError\u001b[0m                            Traceback (most recent call last)",
      "\u001b[0;32m<ipython-input-71-14884ea50a93>\u001b[0m in \u001b[0;36m<module>\u001b[0;34m()\u001b[0m\n\u001b[0;32m----> 1\u001b[0;31m \u001b[0mmodel2\u001b[0m\u001b[0;34m.\u001b[0m\u001b[0moutput\u001b[0m\u001b[0;34m\u001b[0m\u001b[0;34m\u001b[0m\u001b[0m\n\u001b[0m",
      "\u001b[0;32m/usr/local/lib/python3.6/dist-packages/tensorflow_core/python/keras/engine/base_layer.py\u001b[0m in \u001b[0;36moutput\u001b[0;34m(self)\u001b[0m\n\u001b[1;32m   1574\u001b[0m     \"\"\"\n\u001b[1;32m   1575\u001b[0m     \u001b[0;32mif\u001b[0m \u001b[0;32mnot\u001b[0m \u001b[0mself\u001b[0m\u001b[0;34m.\u001b[0m\u001b[0m_inbound_nodes\u001b[0m\u001b[0;34m:\u001b[0m\u001b[0;34m\u001b[0m\u001b[0;34m\u001b[0m\u001b[0m\n\u001b[0;32m-> 1576\u001b[0;31m       \u001b[0;32mraise\u001b[0m \u001b[0mAttributeError\u001b[0m\u001b[0;34m(\u001b[0m\u001b[0;34m'Layer '\u001b[0m \u001b[0;34m+\u001b[0m \u001b[0mself\u001b[0m\u001b[0;34m.\u001b[0m\u001b[0mname\u001b[0m \u001b[0;34m+\u001b[0m \u001b[0;34m' has no inbound nodes.'\u001b[0m\u001b[0;34m)\u001b[0m\u001b[0;34m\u001b[0m\u001b[0;34m\u001b[0m\u001b[0m\n\u001b[0m\u001b[1;32m   1577\u001b[0m     \u001b[0;32mreturn\u001b[0m \u001b[0mself\u001b[0m\u001b[0;34m.\u001b[0m\u001b[0m_get_node_attribute_at_index\u001b[0m\u001b[0;34m(\u001b[0m\u001b[0;36m0\u001b[0m\u001b[0;34m,\u001b[0m \u001b[0;34m'output_tensors'\u001b[0m\u001b[0;34m,\u001b[0m \u001b[0;34m'output'\u001b[0m\u001b[0;34m)\u001b[0m\u001b[0;34m\u001b[0m\u001b[0;34m\u001b[0m\u001b[0m\n\u001b[1;32m   1578\u001b[0m \u001b[0;34m\u001b[0m\u001b[0m\n",
      "\u001b[0;31mAttributeError\u001b[0m: Layer wrapper_my_dnn_2 has no inbound nodes."
     ]
    }
   ],
   "source": [
    "model2.output"
   ]
  },
  {
   "cell_type": "code",
   "execution_count": 0,
   "metadata": {
    "colab": {
     "base_uri": "https://localhost:8080/",
     "height": 477
    },
    "colab_type": "code",
    "executionInfo": {
     "elapsed": 4623,
     "status": "error",
     "timestamp": 1573572511655,
     "user": {
      "displayName": "Benedikt Dietmar Schifferer",
      "photoUrl": "https://lh3.googleusercontent.com/a-/AAuE7mDViwxKXBjVKZfXMWGuXrQ48D62bye6HNutAOX0=s64",
      "userId": "06737229821528734971"
     },
     "user_tz": -60
    },
    "id": "1HQqLXqWWxXJ",
    "outputId": "1422a528-c7a4-4e68-db58-1485075ac412"
   },
   "outputs": [
    {
     "ename": "AttributeError",
     "evalue": "ignored",
     "output_type": "error",
     "traceback": [
      "\u001b[0;31m---------------------------------------------------------------------------\u001b[0m",
      "\u001b[0;31mAttributeError\u001b[0m                            Traceback (most recent call last)",
      "\u001b[0;32m<ipython-input-67-b10e0ba2c512>\u001b[0m in \u001b[0;36m<module>\u001b[0;34m()\u001b[0m\n\u001b[1;32m      1\u001b[0m \u001b[0;32mfrom\u001b[0m \u001b[0mtf_explain\u001b[0m\u001b[0;34m.\u001b[0m\u001b[0mcore\u001b[0m\u001b[0;34m.\u001b[0m\u001b[0msmoothgrad\u001b[0m \u001b[0;32mimport\u001b[0m \u001b[0mSmoothGrad\u001b[0m\u001b[0;34m\u001b[0m\u001b[0;34m\u001b[0m\u001b[0m\n\u001b[1;32m      2\u001b[0m \u001b[0mexplainer\u001b[0m \u001b[0;34m=\u001b[0m \u001b[0mSmoothGrad\u001b[0m\u001b[0;34m(\u001b[0m\u001b[0;34m)\u001b[0m\u001b[0;34m\u001b[0m\u001b[0;34m\u001b[0m\u001b[0m\n\u001b[0;32m----> 3\u001b[0;31m \u001b[0mgrid\u001b[0m \u001b[0;34m=\u001b[0m \u001b[0mexplainer\u001b[0m\u001b[0;34m.\u001b[0m\u001b[0mexplain\u001b[0m\u001b[0;34m(\u001b[0m\u001b[0;34m(\u001b[0m\u001b[0mX\u001b[0m\u001b[0;34m,\u001b[0m \u001b[0;32mNone\u001b[0m\u001b[0;34m)\u001b[0m\u001b[0;34m,\u001b[0m \u001b[0mmodel2\u001b[0m\u001b[0;34m,\u001b[0m \u001b[0;36m1\u001b[0m\u001b[0;34m,\u001b[0m \u001b[0;36m20\u001b[0m\u001b[0;34m,\u001b[0m \u001b[0;36m1.\u001b[0m\u001b[0;34m)\u001b[0m\u001b[0;34m\u001b[0m\u001b[0;34m\u001b[0m\u001b[0m\n\u001b[0m",
      "\u001b[0;32m/usr/local/lib/python3.6/dist-packages/tf_explain/core/smoothgrad.py\u001b[0m in \u001b[0;36mexplain\u001b[0;34m(self, validation_data, model, class_index, num_samples, noise)\u001b[0m\n\u001b[1;32m     38\u001b[0m \u001b[0;34m\u001b[0m\u001b[0m\n\u001b[1;32m     39\u001b[0m         smoothed_gradients = SmoothGrad.get_averaged_gradients(\n\u001b[0;32m---> 40\u001b[0;31m             \u001b[0mnoisy_images\u001b[0m\u001b[0;34m,\u001b[0m \u001b[0mmodel\u001b[0m\u001b[0;34m,\u001b[0m \u001b[0mclass_index\u001b[0m\u001b[0;34m,\u001b[0m \u001b[0mnum_samples\u001b[0m\u001b[0;34m\u001b[0m\u001b[0;34m\u001b[0m\u001b[0m\n\u001b[0m\u001b[1;32m     41\u001b[0m         )\n\u001b[1;32m     42\u001b[0m \u001b[0;34m\u001b[0m\u001b[0m\n",
      "\u001b[0;32m/usr/local/lib/python3.6/dist-packages/tensorflow_core/python/eager/def_function.py\u001b[0m in \u001b[0;36m__call__\u001b[0;34m(self, *args, **kwds)\u001b[0m\n\u001b[1;32m    455\u001b[0m \u001b[0;34m\u001b[0m\u001b[0m\n\u001b[1;32m    456\u001b[0m     \u001b[0mtracing_count\u001b[0m \u001b[0;34m=\u001b[0m \u001b[0mself\u001b[0m\u001b[0;34m.\u001b[0m\u001b[0m_get_tracing_count\u001b[0m\u001b[0;34m(\u001b[0m\u001b[0;34m)\u001b[0m\u001b[0;34m\u001b[0m\u001b[0;34m\u001b[0m\u001b[0m\n\u001b[0;32m--> 457\u001b[0;31m     \u001b[0mresult\u001b[0m \u001b[0;34m=\u001b[0m \u001b[0mself\u001b[0m\u001b[0;34m.\u001b[0m\u001b[0m_call\u001b[0m\u001b[0;34m(\u001b[0m\u001b[0;34m*\u001b[0m\u001b[0margs\u001b[0m\u001b[0;34m,\u001b[0m \u001b[0;34m**\u001b[0m\u001b[0mkwds\u001b[0m\u001b[0;34m)\u001b[0m\u001b[0;34m\u001b[0m\u001b[0;34m\u001b[0m\u001b[0m\n\u001b[0m\u001b[1;32m    458\u001b[0m     \u001b[0;32mif\u001b[0m \u001b[0mtracing_count\u001b[0m \u001b[0;34m==\u001b[0m \u001b[0mself\u001b[0m\u001b[0;34m.\u001b[0m\u001b[0m_get_tracing_count\u001b[0m\u001b[0;34m(\u001b[0m\u001b[0;34m)\u001b[0m\u001b[0;34m:\u001b[0m\u001b[0;34m\u001b[0m\u001b[0;34m\u001b[0m\u001b[0m\n\u001b[1;32m    459\u001b[0m       \u001b[0mself\u001b[0m\u001b[0;34m.\u001b[0m\u001b[0m_call_counter\u001b[0m\u001b[0;34m.\u001b[0m\u001b[0mcalled_without_tracing\u001b[0m\u001b[0;34m(\u001b[0m\u001b[0;34m)\u001b[0m\u001b[0;34m\u001b[0m\u001b[0;34m\u001b[0m\u001b[0m\n",
      "\u001b[0;32m/usr/local/lib/python3.6/dist-packages/tensorflow_core/python/eager/def_function.py\u001b[0m in \u001b[0;36m_call\u001b[0;34m(self, *args, **kwds)\u001b[0m\n\u001b[1;32m    492\u001b[0m       \u001b[0;31m# In this case we have not created variables on the first call. So we can\u001b[0m\u001b[0;34m\u001b[0m\u001b[0;34m\u001b[0m\u001b[0;34m\u001b[0m\u001b[0m\n\u001b[1;32m    493\u001b[0m       \u001b[0;31m# run the first trace but we should fail if variables are created.\u001b[0m\u001b[0;34m\u001b[0m\u001b[0;34m\u001b[0m\u001b[0;34m\u001b[0m\u001b[0m\n\u001b[0;32m--> 494\u001b[0;31m       \u001b[0mresults\u001b[0m \u001b[0;34m=\u001b[0m \u001b[0mself\u001b[0m\u001b[0;34m.\u001b[0m\u001b[0m_stateful_fn\u001b[0m\u001b[0;34m(\u001b[0m\u001b[0;34m*\u001b[0m\u001b[0margs\u001b[0m\u001b[0;34m,\u001b[0m \u001b[0;34m**\u001b[0m\u001b[0mkwds\u001b[0m\u001b[0;34m)\u001b[0m\u001b[0;34m\u001b[0m\u001b[0;34m\u001b[0m\u001b[0m\n\u001b[0m\u001b[1;32m    495\u001b[0m       \u001b[0;32mif\u001b[0m \u001b[0mself\u001b[0m\u001b[0;34m.\u001b[0m\u001b[0m_created_variables\u001b[0m\u001b[0;34m:\u001b[0m\u001b[0;34m\u001b[0m\u001b[0;34m\u001b[0m\u001b[0m\n\u001b[1;32m    496\u001b[0m         raise ValueError(\"Creating variables on a non-first call to a function\"\n",
      "\u001b[0;32m/usr/local/lib/python3.6/dist-packages/tensorflow_core/python/eager/function.py\u001b[0m in \u001b[0;36m__call__\u001b[0;34m(self, *args, **kwargs)\u001b[0m\n\u001b[1;32m   1820\u001b[0m   \u001b[0;32mdef\u001b[0m \u001b[0m__call__\u001b[0m\u001b[0;34m(\u001b[0m\u001b[0mself\u001b[0m\u001b[0;34m,\u001b[0m \u001b[0;34m*\u001b[0m\u001b[0margs\u001b[0m\u001b[0;34m,\u001b[0m \u001b[0;34m**\u001b[0m\u001b[0mkwargs\u001b[0m\u001b[0;34m)\u001b[0m\u001b[0;34m:\u001b[0m\u001b[0;34m\u001b[0m\u001b[0;34m\u001b[0m\u001b[0m\n\u001b[1;32m   1821\u001b[0m     \u001b[0;34m\"\"\"Calls a graph function specialized to the inputs.\"\"\"\u001b[0m\u001b[0;34m\u001b[0m\u001b[0;34m\u001b[0m\u001b[0m\n\u001b[0;32m-> 1822\u001b[0;31m     \u001b[0mgraph_function\u001b[0m\u001b[0;34m,\u001b[0m \u001b[0margs\u001b[0m\u001b[0;34m,\u001b[0m \u001b[0mkwargs\u001b[0m \u001b[0;34m=\u001b[0m \u001b[0mself\u001b[0m\u001b[0;34m.\u001b[0m\u001b[0m_maybe_define_function\u001b[0m\u001b[0;34m(\u001b[0m\u001b[0margs\u001b[0m\u001b[0;34m,\u001b[0m \u001b[0mkwargs\u001b[0m\u001b[0;34m)\u001b[0m\u001b[0;34m\u001b[0m\u001b[0;34m\u001b[0m\u001b[0m\n\u001b[0m\u001b[1;32m   1823\u001b[0m     \u001b[0;32mreturn\u001b[0m \u001b[0mgraph_function\u001b[0m\u001b[0;34m.\u001b[0m\u001b[0m_filtered_call\u001b[0m\u001b[0;34m(\u001b[0m\u001b[0margs\u001b[0m\u001b[0;34m,\u001b[0m \u001b[0mkwargs\u001b[0m\u001b[0;34m)\u001b[0m  \u001b[0;31m# pylint: disable=protected-access\u001b[0m\u001b[0;34m\u001b[0m\u001b[0;34m\u001b[0m\u001b[0m\n\u001b[1;32m   1824\u001b[0m \u001b[0;34m\u001b[0m\u001b[0m\n",
      "\u001b[0;32m/usr/local/lib/python3.6/dist-packages/tensorflow_core/python/eager/function.py\u001b[0m in \u001b[0;36m_maybe_define_function\u001b[0;34m(self, args, kwargs)\u001b[0m\n\u001b[1;32m   2148\u001b[0m         \u001b[0mgraph_function\u001b[0m \u001b[0;34m=\u001b[0m \u001b[0mself\u001b[0m\u001b[0;34m.\u001b[0m\u001b[0m_function_cache\u001b[0m\u001b[0;34m.\u001b[0m\u001b[0mprimary\u001b[0m\u001b[0;34m.\u001b[0m\u001b[0mget\u001b[0m\u001b[0;34m(\u001b[0m\u001b[0mcache_key\u001b[0m\u001b[0;34m,\u001b[0m \u001b[0;32mNone\u001b[0m\u001b[0;34m)\u001b[0m\u001b[0;34m\u001b[0m\u001b[0;34m\u001b[0m\u001b[0m\n\u001b[1;32m   2149\u001b[0m         \u001b[0;32mif\u001b[0m \u001b[0mgraph_function\u001b[0m \u001b[0;32mis\u001b[0m \u001b[0;32mNone\u001b[0m\u001b[0;34m:\u001b[0m\u001b[0;34m\u001b[0m\u001b[0;34m\u001b[0m\u001b[0m\n\u001b[0;32m-> 2150\u001b[0;31m           \u001b[0mgraph_function\u001b[0m \u001b[0;34m=\u001b[0m \u001b[0mself\u001b[0m\u001b[0;34m.\u001b[0m\u001b[0m_create_graph_function\u001b[0m\u001b[0;34m(\u001b[0m\u001b[0margs\u001b[0m\u001b[0;34m,\u001b[0m \u001b[0mkwargs\u001b[0m\u001b[0;34m)\u001b[0m\u001b[0;34m\u001b[0m\u001b[0;34m\u001b[0m\u001b[0m\n\u001b[0m\u001b[1;32m   2151\u001b[0m           \u001b[0mself\u001b[0m\u001b[0;34m.\u001b[0m\u001b[0m_function_cache\u001b[0m\u001b[0;34m.\u001b[0m\u001b[0mprimary\u001b[0m\u001b[0;34m[\u001b[0m\u001b[0mcache_key\u001b[0m\u001b[0;34m]\u001b[0m \u001b[0;34m=\u001b[0m \u001b[0mgraph_function\u001b[0m\u001b[0;34m\u001b[0m\u001b[0;34m\u001b[0m\u001b[0m\n\u001b[1;32m   2152\u001b[0m         \u001b[0;32mreturn\u001b[0m \u001b[0mgraph_function\u001b[0m\u001b[0;34m,\u001b[0m \u001b[0margs\u001b[0m\u001b[0;34m,\u001b[0m \u001b[0mkwargs\u001b[0m\u001b[0;34m\u001b[0m\u001b[0;34m\u001b[0m\u001b[0m\n",
      "\u001b[0;32m/usr/local/lib/python3.6/dist-packages/tensorflow_core/python/eager/function.py\u001b[0m in \u001b[0;36m_create_graph_function\u001b[0;34m(self, args, kwargs, override_flat_arg_shapes)\u001b[0m\n\u001b[1;32m   2039\u001b[0m             \u001b[0marg_names\u001b[0m\u001b[0;34m=\u001b[0m\u001b[0marg_names\u001b[0m\u001b[0;34m,\u001b[0m\u001b[0;34m\u001b[0m\u001b[0;34m\u001b[0m\u001b[0m\n\u001b[1;32m   2040\u001b[0m             \u001b[0moverride_flat_arg_shapes\u001b[0m\u001b[0;34m=\u001b[0m\u001b[0moverride_flat_arg_shapes\u001b[0m\u001b[0;34m,\u001b[0m\u001b[0;34m\u001b[0m\u001b[0;34m\u001b[0m\u001b[0m\n\u001b[0;32m-> 2041\u001b[0;31m             capture_by_value=self._capture_by_value),\n\u001b[0m\u001b[1;32m   2042\u001b[0m         \u001b[0mself\u001b[0m\u001b[0;34m.\u001b[0m\u001b[0m_function_attributes\u001b[0m\u001b[0;34m,\u001b[0m\u001b[0;34m\u001b[0m\u001b[0;34m\u001b[0m\u001b[0m\n\u001b[1;32m   2043\u001b[0m         \u001b[0;31m# Tell the ConcreteFunction to clean up its graph once it goes out of\u001b[0m\u001b[0;34m\u001b[0m\u001b[0;34m\u001b[0m\u001b[0;34m\u001b[0m\u001b[0m\n",
      "\u001b[0;32m/usr/local/lib/python3.6/dist-packages/tensorflow_core/python/framework/func_graph.py\u001b[0m in \u001b[0;36mfunc_graph_from_py_func\u001b[0;34m(name, python_func, args, kwargs, signature, func_graph, autograph, autograph_options, add_control_dependencies, arg_names, op_return_value, collections, capture_by_value, override_flat_arg_shapes)\u001b[0m\n\u001b[1;32m    913\u001b[0m                                           converted_func)\n\u001b[1;32m    914\u001b[0m \u001b[0;34m\u001b[0m\u001b[0m\n\u001b[0;32m--> 915\u001b[0;31m       \u001b[0mfunc_outputs\u001b[0m \u001b[0;34m=\u001b[0m \u001b[0mpython_func\u001b[0m\u001b[0;34m(\u001b[0m\u001b[0;34m*\u001b[0m\u001b[0mfunc_args\u001b[0m\u001b[0;34m,\u001b[0m \u001b[0;34m**\u001b[0m\u001b[0mfunc_kwargs\u001b[0m\u001b[0;34m)\u001b[0m\u001b[0;34m\u001b[0m\u001b[0;34m\u001b[0m\u001b[0m\n\u001b[0m\u001b[1;32m    916\u001b[0m \u001b[0;34m\u001b[0m\u001b[0m\n\u001b[1;32m    917\u001b[0m       \u001b[0;31m# invariant: `func_outputs` contains only Tensors, CompositeTensors,\u001b[0m\u001b[0;34m\u001b[0m\u001b[0;34m\u001b[0m\u001b[0;34m\u001b[0m\u001b[0m\n",
      "\u001b[0;32m/usr/local/lib/python3.6/dist-packages/tensorflow_core/python/eager/def_function.py\u001b[0m in \u001b[0;36mwrapped_fn\u001b[0;34m(*args, **kwds)\u001b[0m\n\u001b[1;32m    356\u001b[0m         \u001b[0;31m# __wrapped__ allows AutoGraph to swap in a converted function. We give\u001b[0m\u001b[0;34m\u001b[0m\u001b[0;34m\u001b[0m\u001b[0;34m\u001b[0m\u001b[0m\n\u001b[1;32m    357\u001b[0m         \u001b[0;31m# the function a weak reference to itself to avoid a reference cycle.\u001b[0m\u001b[0;34m\u001b[0m\u001b[0;34m\u001b[0m\u001b[0;34m\u001b[0m\u001b[0m\n\u001b[0;32m--> 358\u001b[0;31m         \u001b[0;32mreturn\u001b[0m \u001b[0mweak_wrapped_fn\u001b[0m\u001b[0;34m(\u001b[0m\u001b[0;34m)\u001b[0m\u001b[0;34m.\u001b[0m\u001b[0m__wrapped__\u001b[0m\u001b[0;34m(\u001b[0m\u001b[0;34m*\u001b[0m\u001b[0margs\u001b[0m\u001b[0;34m,\u001b[0m \u001b[0;34m**\u001b[0m\u001b[0mkwds\u001b[0m\u001b[0;34m)\u001b[0m\u001b[0;34m\u001b[0m\u001b[0;34m\u001b[0m\u001b[0m\n\u001b[0m\u001b[1;32m    359\u001b[0m     \u001b[0mweak_wrapped_fn\u001b[0m \u001b[0;34m=\u001b[0m \u001b[0mweakref\u001b[0m\u001b[0;34m.\u001b[0m\u001b[0mref\u001b[0m\u001b[0;34m(\u001b[0m\u001b[0mwrapped_fn\u001b[0m\u001b[0;34m)\u001b[0m\u001b[0;34m\u001b[0m\u001b[0;34m\u001b[0m\u001b[0m\n\u001b[1;32m    360\u001b[0m \u001b[0;34m\u001b[0m\u001b[0m\n",
      "\u001b[0;32m/usr/local/lib/python3.6/dist-packages/tensorflow_core/python/framework/func_graph.py\u001b[0m in \u001b[0;36mwrapper\u001b[0;34m(*args, **kwargs)\u001b[0m\n\u001b[1;32m    903\u001b[0m           \u001b[0;32mexcept\u001b[0m \u001b[0mException\u001b[0m \u001b[0;32mas\u001b[0m \u001b[0me\u001b[0m\u001b[0;34m:\u001b[0m  \u001b[0;31m# pylint:disable=broad-except\u001b[0m\u001b[0;34m\u001b[0m\u001b[0;34m\u001b[0m\u001b[0m\n\u001b[1;32m    904\u001b[0m             \u001b[0;32mif\u001b[0m \u001b[0mhasattr\u001b[0m\u001b[0;34m(\u001b[0m\u001b[0me\u001b[0m\u001b[0;34m,\u001b[0m \u001b[0;34m\"ag_error_metadata\"\u001b[0m\u001b[0;34m)\u001b[0m\u001b[0;34m:\u001b[0m\u001b[0;34m\u001b[0m\u001b[0;34m\u001b[0m\u001b[0m\n\u001b[0;32m--> 905\u001b[0;31m               \u001b[0;32mraise\u001b[0m \u001b[0me\u001b[0m\u001b[0;34m.\u001b[0m\u001b[0mag_error_metadata\u001b[0m\u001b[0;34m.\u001b[0m\u001b[0mto_exception\u001b[0m\u001b[0;34m(\u001b[0m\u001b[0me\u001b[0m\u001b[0;34m)\u001b[0m\u001b[0;34m\u001b[0m\u001b[0;34m\u001b[0m\u001b[0m\n\u001b[0m\u001b[1;32m    906\u001b[0m             \u001b[0;32melse\u001b[0m\u001b[0;34m:\u001b[0m\u001b[0;34m\u001b[0m\u001b[0;34m\u001b[0m\u001b[0m\n\u001b[1;32m    907\u001b[0m               \u001b[0;32mraise\u001b[0m\u001b[0;34m\u001b[0m\u001b[0;34m\u001b[0m\u001b[0m\n",
      "\u001b[0;31mAttributeError\u001b[0m: in converted code:\n    relative to /usr/local/lib/python3.6/dist-packages:\n\n    tf_explain/core/smoothgrad.py:85 get_averaged_gradients  *\n        num_classes = model.output.shape[1]\n    tensorflow_core/python/keras/engine/base_layer.py:1576 output\n        raise AttributeError('Layer ' + self.name + ' has no inbound nodes.')\n\n    AttributeError: Layer wrapper_my_dnn_2 has no inbound nodes.\n"
     ]
    }
   ],
   "source": [
    "from tf_explain.core.smoothgrad import SmoothGrad\n",
    "explainer = SmoothGrad()\n",
    "grid = explainer.explain((X, None), model2, 1, 20, 1.)"
   ]
  },
  {
   "cell_type": "code",
   "execution_count": 0,
   "metadata": {
    "colab": {},
    "colab_type": "code",
    "id": "cP7thtjAqunC"
   },
   "outputs": [],
   "source": [
    "output = []\n",
    "output.append(['colname', 'mse'])\n",
    "for col in num_cols:\n",
    "  mean = test_df[col].mean()\n",
    "  mse_norm = np.mean(np.square(test_df[col]-mean))\n",
    "  output.append([col, mse_norm])\n",
    "\n",
    "for col in list(cat_cols.keys()):\n",
    "  mean = test_df[col].value_counts().idxmax()\n",
    "  mse_norm = np.mean(test_df[col]==mean)\n",
    "  output.append([col, mse_norm])"
   ]
  },
  {
   "cell_type": "code",
   "execution_count": 0,
   "metadata": {
    "colab": {},
    "colab_type": "code",
    "id": "Rw_KzTw6Q4wr"
   },
   "outputs": [],
   "source": [
    "a = next(iter(test_iter))"
   ]
  },
  {
   "cell_type": "code",
   "execution_count": 0,
   "metadata": {
    "colab": {},
    "colab_type": "code",
    "id": "ben3zkRr32sD"
   },
   "outputs": [],
   "source": [
    "t1 = (tf.cast(a['t1'], tf.float32)-t1_mean)/t1_std\n",
    "t2 = (a['t2']-t2_mean)/t2_std\n",
    "X = tf.concat([t1, t2], axis=4)"
   ]
  },
  {
   "cell_type": "code",
   "execution_count": 0,
   "metadata": {
    "colab": {
     "base_uri": "https://localhost:8080/",
     "height": 34
    },
    "colab_type": "code",
    "executionInfo": {
     "elapsed": 1117,
     "status": "ok",
     "timestamp": 1573490357380,
     "user": {
      "displayName": "Benedikt Dietmar Schifferer",
      "photoUrl": "https://lh3.googleusercontent.com/a-/AAuE7mDViwxKXBjVKZfXMWGuXrQ48D62bye6HNutAOX0=s64",
      "userId": "06737229821528734971"
     },
     "user_tz": -60
    },
    "id": "622IROlaVWVu",
    "outputId": "9b50cdce-6128-4fc7-9757-80d1fdce306f"
   },
   "outputs": [
    {
     "data": {
      "text/plain": [
       "TensorShape([8, 64, 64, 64, 2])"
      ]
     },
     "execution_count": 73,
     "metadata": {
      "tags": []
     },
     "output_type": "execute_result"
    }
   ],
   "source": [
    "X.shape"
   ]
  },
  {
   "cell_type": "code",
   "execution_count": 0,
   "metadata": {
    "colab": {
     "base_uri": "https://localhost:8080/",
     "height": 1000
    },
    "colab_type": "code",
    "executionInfo": {
     "elapsed": 1122,
     "status": "ok",
     "timestamp": 1573490251609,
     "user": {
      "displayName": "Benedikt Dietmar Schifferer",
      "photoUrl": "https://lh3.googleusercontent.com/a-/AAuE7mDViwxKXBjVKZfXMWGuXrQ48D62bye6HNutAOX0=s64",
      "userId": "06737229821528734971"
     },
     "user_tz": -60
    },
    "id": "ynswVv2MUwZi",
    "outputId": "276f09a5-4318-4fa2-a029-34a2a8c4dd3d"
   },
   "outputs": [
    {
     "name": "stdout",
     "output_type": "stream",
     "text": [
      "Model: \"my_dnn_2\"\n",
      "_________________________________________________________________\n",
      "Layer (type)                 Output Shape              Param #   \n",
      "=================================================================\n",
      "re_lu_2 (ReLU)               multiple                  0         \n",
      "_________________________________________________________________\n",
      "max_pooling3d_2 (MaxPooling3 multiple                  0         \n",
      "_________________________________________________________________\n",
      "conv3d_8 (Conv3D)            multiple                  1760      \n",
      "_________________________________________________________________\n",
      "batch_normalization_48 (Batc multiple                  128       \n",
      "_________________________________________________________________\n",
      "conv3d_9 (Conv3D)            multiple                  55360     \n",
      "_________________________________________________________________\n",
      "batch_normalization_49 (Batc multiple                  256       \n",
      "_________________________________________________________________\n",
      "conv3d_10 (Conv3D)           multiple                  221312    \n",
      "_________________________________________________________________\n",
      "batch_normalization_50 (Batc multiple                  512       \n",
      "_________________________________________________________________\n",
      "conv3d_11 (Conv3D)           multiple                  884992    \n",
      "_________________________________________________________________\n",
      "batch_normalization_51 (Batc multiple                  1024      \n",
      "_________________________________________________________________\n",
      "sequential_45 (Sequential)   multiple                  67073     \n",
      "_________________________________________________________________\n",
      "sequential_46 (Sequential)   multiple                  67073     \n",
      "_________________________________________________________________\n",
      "sequential_40 (Sequential)   multiple                  67330     \n",
      "_________________________________________________________________\n",
      "sequential_49 (Sequential)   multiple                  67073     \n",
      "_________________________________________________________________\n",
      "sequential_42 (Sequential)   multiple                  67844     \n",
      "_________________________________________________________________\n",
      "sequential_43 (Sequential)   multiple                  68872     \n",
      "_________________________________________________________________\n",
      "sequential_44 (Sequential)   multiple                  68358     \n",
      "_________________________________________________________________\n",
      "sequential_57 (Sequential)   multiple                  67073     \n",
      "_________________________________________________________________\n",
      "sequential_51 (Sequential)   multiple                  67073     \n",
      "_________________________________________________________________\n",
      "sequential_55 (Sequential)   multiple                  67073     \n",
      "_________________________________________________________________\n",
      "sequential_50 (Sequential)   multiple                  67073     \n",
      "_________________________________________________________________\n",
      "sequential_54 (Sequential)   multiple                  67073     \n",
      "_________________________________________________________________\n",
      "sequential_52 (Sequential)   multiple                  67073     \n",
      "_________________________________________________________________\n",
      "sequential_53 (Sequential)   multiple                  67073     \n",
      "_________________________________________________________________\n",
      "sequential_56 (Sequential)   multiple                  67073     \n",
      "_________________________________________________________________\n",
      "sequential_59 (Sequential)   multiple                  67073     \n",
      "_________________________________________________________________\n",
      "sequential_58 (Sequential)   multiple                  67073     \n",
      "_________________________________________________________________\n",
      "sequential_41 (Sequential)   multiple                  68101     \n",
      "_________________________________________________________________\n",
      "sequential_47 (Sequential)   multiple                  67073     \n",
      "_________________________________________________________________\n",
      "sequential_48 (Sequential)   multiple                  67073     \n",
      "=================================================================\n",
      "Total params: 2,511,944\n",
      "Trainable params: 2,500,744\n",
      "Non-trainable params: 11,200\n",
      "_________________________________________________________________\n"
     ]
    }
   ],
   "source": [
    "model2.model.summary()"
   ]
  },
  {
   "cell_type": "code",
   "execution_count": 0,
   "metadata": {
    "colab": {
     "base_uri": "https://localhost:8080/",
     "height": 477
    },
    "colab_type": "code",
    "executionInfo": {
     "elapsed": 5540,
     "status": "error",
     "timestamp": 1573490614301,
     "user": {
      "displayName": "Benedikt Dietmar Schifferer",
      "photoUrl": "https://lh3.googleusercontent.com/a-/AAuE7mDViwxKXBjVKZfXMWGuXrQ48D62bye6HNutAOX0=s64",
      "userId": "06737229821528734971"
     },
     "user_tz": -60
    },
    "id": "2RwCwYigS0UO",
    "outputId": "7f1ede39-9d2b-40f1-eed3-f1b72b4573f9"
   },
   "outputs": [
    {
     "ename": "AttributeError",
     "evalue": "ignored",
     "output_type": "error",
     "traceback": [
      "\u001b[0;31m---------------------------------------------------------------------------\u001b[0m",
      "\u001b[0;31mAttributeError\u001b[0m                            Traceback (most recent call last)",
      "\u001b[0;32m<ipython-input-84-b10e0ba2c512>\u001b[0m in \u001b[0;36m<module>\u001b[0;34m()\u001b[0m\n\u001b[1;32m      1\u001b[0m \u001b[0;32mfrom\u001b[0m \u001b[0mtf_explain\u001b[0m\u001b[0;34m.\u001b[0m\u001b[0mcore\u001b[0m\u001b[0;34m.\u001b[0m\u001b[0msmoothgrad\u001b[0m \u001b[0;32mimport\u001b[0m \u001b[0mSmoothGrad\u001b[0m\u001b[0;34m\u001b[0m\u001b[0;34m\u001b[0m\u001b[0m\n\u001b[1;32m      2\u001b[0m \u001b[0mexplainer\u001b[0m \u001b[0;34m=\u001b[0m \u001b[0mSmoothGrad\u001b[0m\u001b[0;34m(\u001b[0m\u001b[0;34m)\u001b[0m\u001b[0;34m\u001b[0m\u001b[0;34m\u001b[0m\u001b[0m\n\u001b[0;32m----> 3\u001b[0;31m \u001b[0mgrid\u001b[0m \u001b[0;34m=\u001b[0m \u001b[0mexplainer\u001b[0m\u001b[0;34m.\u001b[0m\u001b[0mexplain\u001b[0m\u001b[0;34m(\u001b[0m\u001b[0;34m(\u001b[0m\u001b[0mX\u001b[0m\u001b[0;34m,\u001b[0m \u001b[0;32mNone\u001b[0m\u001b[0;34m)\u001b[0m\u001b[0;34m,\u001b[0m \u001b[0mmodel2\u001b[0m\u001b[0;34m,\u001b[0m \u001b[0;36m1\u001b[0m\u001b[0;34m,\u001b[0m \u001b[0;36m20\u001b[0m\u001b[0;34m,\u001b[0m \u001b[0;36m1.\u001b[0m\u001b[0;34m)\u001b[0m\u001b[0;34m\u001b[0m\u001b[0;34m\u001b[0m\u001b[0m\n\u001b[0m",
      "\u001b[0;32m/usr/local/lib/python3.6/dist-packages/tf_explain/core/smoothgrad.py\u001b[0m in \u001b[0;36mexplain\u001b[0;34m(self, validation_data, model, class_index, num_samples, noise)\u001b[0m\n\u001b[1;32m     38\u001b[0m \u001b[0;34m\u001b[0m\u001b[0m\n\u001b[1;32m     39\u001b[0m         smoothed_gradients = SmoothGrad.get_averaged_gradients(\n\u001b[0;32m---> 40\u001b[0;31m             \u001b[0mnoisy_images\u001b[0m\u001b[0;34m,\u001b[0m \u001b[0mmodel\u001b[0m\u001b[0;34m,\u001b[0m \u001b[0mclass_index\u001b[0m\u001b[0;34m,\u001b[0m \u001b[0mnum_samples\u001b[0m\u001b[0;34m\u001b[0m\u001b[0;34m\u001b[0m\u001b[0m\n\u001b[0m\u001b[1;32m     41\u001b[0m         )\n\u001b[1;32m     42\u001b[0m \u001b[0;34m\u001b[0m\u001b[0m\n",
      "\u001b[0;32m/usr/local/lib/python3.6/dist-packages/tensorflow_core/python/eager/def_function.py\u001b[0m in \u001b[0;36m__call__\u001b[0;34m(self, *args, **kwds)\u001b[0m\n\u001b[1;32m    455\u001b[0m \u001b[0;34m\u001b[0m\u001b[0m\n\u001b[1;32m    456\u001b[0m     \u001b[0mtracing_count\u001b[0m \u001b[0;34m=\u001b[0m \u001b[0mself\u001b[0m\u001b[0;34m.\u001b[0m\u001b[0m_get_tracing_count\u001b[0m\u001b[0;34m(\u001b[0m\u001b[0;34m)\u001b[0m\u001b[0;34m\u001b[0m\u001b[0;34m\u001b[0m\u001b[0m\n\u001b[0;32m--> 457\u001b[0;31m     \u001b[0mresult\u001b[0m \u001b[0;34m=\u001b[0m \u001b[0mself\u001b[0m\u001b[0;34m.\u001b[0m\u001b[0m_call\u001b[0m\u001b[0;34m(\u001b[0m\u001b[0;34m*\u001b[0m\u001b[0margs\u001b[0m\u001b[0;34m,\u001b[0m \u001b[0;34m**\u001b[0m\u001b[0mkwds\u001b[0m\u001b[0;34m)\u001b[0m\u001b[0;34m\u001b[0m\u001b[0;34m\u001b[0m\u001b[0m\n\u001b[0m\u001b[1;32m    458\u001b[0m     \u001b[0;32mif\u001b[0m \u001b[0mtracing_count\u001b[0m \u001b[0;34m==\u001b[0m \u001b[0mself\u001b[0m\u001b[0;34m.\u001b[0m\u001b[0m_get_tracing_count\u001b[0m\u001b[0;34m(\u001b[0m\u001b[0;34m)\u001b[0m\u001b[0;34m:\u001b[0m\u001b[0;34m\u001b[0m\u001b[0;34m\u001b[0m\u001b[0m\n\u001b[1;32m    459\u001b[0m       \u001b[0mself\u001b[0m\u001b[0;34m.\u001b[0m\u001b[0m_call_counter\u001b[0m\u001b[0;34m.\u001b[0m\u001b[0mcalled_without_tracing\u001b[0m\u001b[0;34m(\u001b[0m\u001b[0;34m)\u001b[0m\u001b[0;34m\u001b[0m\u001b[0;34m\u001b[0m\u001b[0m\n",
      "\u001b[0;32m/usr/local/lib/python3.6/dist-packages/tensorflow_core/python/eager/def_function.py\u001b[0m in \u001b[0;36m_call\u001b[0;34m(self, *args, **kwds)\u001b[0m\n\u001b[1;32m    492\u001b[0m       \u001b[0;31m# In this case we have not created variables on the first call. So we can\u001b[0m\u001b[0;34m\u001b[0m\u001b[0;34m\u001b[0m\u001b[0;34m\u001b[0m\u001b[0m\n\u001b[1;32m    493\u001b[0m       \u001b[0;31m# run the first trace but we should fail if variables are created.\u001b[0m\u001b[0;34m\u001b[0m\u001b[0;34m\u001b[0m\u001b[0;34m\u001b[0m\u001b[0m\n\u001b[0;32m--> 494\u001b[0;31m       \u001b[0mresults\u001b[0m \u001b[0;34m=\u001b[0m \u001b[0mself\u001b[0m\u001b[0;34m.\u001b[0m\u001b[0m_stateful_fn\u001b[0m\u001b[0;34m(\u001b[0m\u001b[0;34m*\u001b[0m\u001b[0margs\u001b[0m\u001b[0;34m,\u001b[0m \u001b[0;34m**\u001b[0m\u001b[0mkwds\u001b[0m\u001b[0;34m)\u001b[0m\u001b[0;34m\u001b[0m\u001b[0;34m\u001b[0m\u001b[0m\n\u001b[0m\u001b[1;32m    495\u001b[0m       \u001b[0;32mif\u001b[0m \u001b[0mself\u001b[0m\u001b[0;34m.\u001b[0m\u001b[0m_created_variables\u001b[0m\u001b[0;34m:\u001b[0m\u001b[0;34m\u001b[0m\u001b[0;34m\u001b[0m\u001b[0m\n\u001b[1;32m    496\u001b[0m         raise ValueError(\"Creating variables on a non-first call to a function\"\n",
      "\u001b[0;32m/usr/local/lib/python3.6/dist-packages/tensorflow_core/python/eager/function.py\u001b[0m in \u001b[0;36m__call__\u001b[0;34m(self, *args, **kwargs)\u001b[0m\n\u001b[1;32m   1820\u001b[0m   \u001b[0;32mdef\u001b[0m \u001b[0m__call__\u001b[0m\u001b[0;34m(\u001b[0m\u001b[0mself\u001b[0m\u001b[0;34m,\u001b[0m \u001b[0;34m*\u001b[0m\u001b[0margs\u001b[0m\u001b[0;34m,\u001b[0m \u001b[0;34m**\u001b[0m\u001b[0mkwargs\u001b[0m\u001b[0;34m)\u001b[0m\u001b[0;34m:\u001b[0m\u001b[0;34m\u001b[0m\u001b[0;34m\u001b[0m\u001b[0m\n\u001b[1;32m   1821\u001b[0m     \u001b[0;34m\"\"\"Calls a graph function specialized to the inputs.\"\"\"\u001b[0m\u001b[0;34m\u001b[0m\u001b[0;34m\u001b[0m\u001b[0m\n\u001b[0;32m-> 1822\u001b[0;31m     \u001b[0mgraph_function\u001b[0m\u001b[0;34m,\u001b[0m \u001b[0margs\u001b[0m\u001b[0;34m,\u001b[0m \u001b[0mkwargs\u001b[0m \u001b[0;34m=\u001b[0m \u001b[0mself\u001b[0m\u001b[0;34m.\u001b[0m\u001b[0m_maybe_define_function\u001b[0m\u001b[0;34m(\u001b[0m\u001b[0margs\u001b[0m\u001b[0;34m,\u001b[0m \u001b[0mkwargs\u001b[0m\u001b[0;34m)\u001b[0m\u001b[0;34m\u001b[0m\u001b[0;34m\u001b[0m\u001b[0m\n\u001b[0m\u001b[1;32m   1823\u001b[0m     \u001b[0;32mreturn\u001b[0m \u001b[0mgraph_function\u001b[0m\u001b[0;34m.\u001b[0m\u001b[0m_filtered_call\u001b[0m\u001b[0;34m(\u001b[0m\u001b[0margs\u001b[0m\u001b[0;34m,\u001b[0m \u001b[0mkwargs\u001b[0m\u001b[0;34m)\u001b[0m  \u001b[0;31m# pylint: disable=protected-access\u001b[0m\u001b[0;34m\u001b[0m\u001b[0;34m\u001b[0m\u001b[0m\n\u001b[1;32m   1824\u001b[0m \u001b[0;34m\u001b[0m\u001b[0m\n",
      "\u001b[0;32m/usr/local/lib/python3.6/dist-packages/tensorflow_core/python/eager/function.py\u001b[0m in \u001b[0;36m_maybe_define_function\u001b[0;34m(self, args, kwargs)\u001b[0m\n\u001b[1;32m   2148\u001b[0m         \u001b[0mgraph_function\u001b[0m \u001b[0;34m=\u001b[0m \u001b[0mself\u001b[0m\u001b[0;34m.\u001b[0m\u001b[0m_function_cache\u001b[0m\u001b[0;34m.\u001b[0m\u001b[0mprimary\u001b[0m\u001b[0;34m.\u001b[0m\u001b[0mget\u001b[0m\u001b[0;34m(\u001b[0m\u001b[0mcache_key\u001b[0m\u001b[0;34m,\u001b[0m \u001b[0;32mNone\u001b[0m\u001b[0;34m)\u001b[0m\u001b[0;34m\u001b[0m\u001b[0;34m\u001b[0m\u001b[0m\n\u001b[1;32m   2149\u001b[0m         \u001b[0;32mif\u001b[0m \u001b[0mgraph_function\u001b[0m \u001b[0;32mis\u001b[0m \u001b[0;32mNone\u001b[0m\u001b[0;34m:\u001b[0m\u001b[0;34m\u001b[0m\u001b[0;34m\u001b[0m\u001b[0m\n\u001b[0;32m-> 2150\u001b[0;31m           \u001b[0mgraph_function\u001b[0m \u001b[0;34m=\u001b[0m \u001b[0mself\u001b[0m\u001b[0;34m.\u001b[0m\u001b[0m_create_graph_function\u001b[0m\u001b[0;34m(\u001b[0m\u001b[0margs\u001b[0m\u001b[0;34m,\u001b[0m \u001b[0mkwargs\u001b[0m\u001b[0;34m)\u001b[0m\u001b[0;34m\u001b[0m\u001b[0;34m\u001b[0m\u001b[0m\n\u001b[0m\u001b[1;32m   2151\u001b[0m           \u001b[0mself\u001b[0m\u001b[0;34m.\u001b[0m\u001b[0m_function_cache\u001b[0m\u001b[0;34m.\u001b[0m\u001b[0mprimary\u001b[0m\u001b[0;34m[\u001b[0m\u001b[0mcache_key\u001b[0m\u001b[0;34m]\u001b[0m \u001b[0;34m=\u001b[0m \u001b[0mgraph_function\u001b[0m\u001b[0;34m\u001b[0m\u001b[0;34m\u001b[0m\u001b[0m\n\u001b[1;32m   2152\u001b[0m         \u001b[0;32mreturn\u001b[0m \u001b[0mgraph_function\u001b[0m\u001b[0;34m,\u001b[0m \u001b[0margs\u001b[0m\u001b[0;34m,\u001b[0m \u001b[0mkwargs\u001b[0m\u001b[0;34m\u001b[0m\u001b[0;34m\u001b[0m\u001b[0m\n",
      "\u001b[0;32m/usr/local/lib/python3.6/dist-packages/tensorflow_core/python/eager/function.py\u001b[0m in \u001b[0;36m_create_graph_function\u001b[0;34m(self, args, kwargs, override_flat_arg_shapes)\u001b[0m\n\u001b[1;32m   2039\u001b[0m             \u001b[0marg_names\u001b[0m\u001b[0;34m=\u001b[0m\u001b[0marg_names\u001b[0m\u001b[0;34m,\u001b[0m\u001b[0;34m\u001b[0m\u001b[0;34m\u001b[0m\u001b[0m\n\u001b[1;32m   2040\u001b[0m             \u001b[0moverride_flat_arg_shapes\u001b[0m\u001b[0;34m=\u001b[0m\u001b[0moverride_flat_arg_shapes\u001b[0m\u001b[0;34m,\u001b[0m\u001b[0;34m\u001b[0m\u001b[0;34m\u001b[0m\u001b[0m\n\u001b[0;32m-> 2041\u001b[0;31m             capture_by_value=self._capture_by_value),\n\u001b[0m\u001b[1;32m   2042\u001b[0m         \u001b[0mself\u001b[0m\u001b[0;34m.\u001b[0m\u001b[0m_function_attributes\u001b[0m\u001b[0;34m,\u001b[0m\u001b[0;34m\u001b[0m\u001b[0;34m\u001b[0m\u001b[0m\n\u001b[1;32m   2043\u001b[0m         \u001b[0;31m# Tell the ConcreteFunction to clean up its graph once it goes out of\u001b[0m\u001b[0;34m\u001b[0m\u001b[0;34m\u001b[0m\u001b[0;34m\u001b[0m\u001b[0m\n",
      "\u001b[0;32m/usr/local/lib/python3.6/dist-packages/tensorflow_core/python/framework/func_graph.py\u001b[0m in \u001b[0;36mfunc_graph_from_py_func\u001b[0;34m(name, python_func, args, kwargs, signature, func_graph, autograph, autograph_options, add_control_dependencies, arg_names, op_return_value, collections, capture_by_value, override_flat_arg_shapes)\u001b[0m\n\u001b[1;32m    913\u001b[0m                                           converted_func)\n\u001b[1;32m    914\u001b[0m \u001b[0;34m\u001b[0m\u001b[0m\n\u001b[0;32m--> 915\u001b[0;31m       \u001b[0mfunc_outputs\u001b[0m \u001b[0;34m=\u001b[0m \u001b[0mpython_func\u001b[0m\u001b[0;34m(\u001b[0m\u001b[0;34m*\u001b[0m\u001b[0mfunc_args\u001b[0m\u001b[0;34m,\u001b[0m \u001b[0;34m**\u001b[0m\u001b[0mfunc_kwargs\u001b[0m\u001b[0;34m)\u001b[0m\u001b[0;34m\u001b[0m\u001b[0;34m\u001b[0m\u001b[0m\n\u001b[0m\u001b[1;32m    916\u001b[0m \u001b[0;34m\u001b[0m\u001b[0m\n\u001b[1;32m    917\u001b[0m       \u001b[0;31m# invariant: `func_outputs` contains only Tensors, CompositeTensors,\u001b[0m\u001b[0;34m\u001b[0m\u001b[0;34m\u001b[0m\u001b[0;34m\u001b[0m\u001b[0m\n",
      "\u001b[0;32m/usr/local/lib/python3.6/dist-packages/tensorflow_core/python/eager/def_function.py\u001b[0m in \u001b[0;36mwrapped_fn\u001b[0;34m(*args, **kwds)\u001b[0m\n\u001b[1;32m    356\u001b[0m         \u001b[0;31m# __wrapped__ allows AutoGraph to swap in a converted function. We give\u001b[0m\u001b[0;34m\u001b[0m\u001b[0;34m\u001b[0m\u001b[0;34m\u001b[0m\u001b[0m\n\u001b[1;32m    357\u001b[0m         \u001b[0;31m# the function a weak reference to itself to avoid a reference cycle.\u001b[0m\u001b[0;34m\u001b[0m\u001b[0;34m\u001b[0m\u001b[0;34m\u001b[0m\u001b[0m\n\u001b[0;32m--> 358\u001b[0;31m         \u001b[0;32mreturn\u001b[0m \u001b[0mweak_wrapped_fn\u001b[0m\u001b[0;34m(\u001b[0m\u001b[0;34m)\u001b[0m\u001b[0;34m.\u001b[0m\u001b[0m__wrapped__\u001b[0m\u001b[0;34m(\u001b[0m\u001b[0;34m*\u001b[0m\u001b[0margs\u001b[0m\u001b[0;34m,\u001b[0m \u001b[0;34m**\u001b[0m\u001b[0mkwds\u001b[0m\u001b[0;34m)\u001b[0m\u001b[0;34m\u001b[0m\u001b[0;34m\u001b[0m\u001b[0m\n\u001b[0m\u001b[1;32m    359\u001b[0m     \u001b[0mweak_wrapped_fn\u001b[0m \u001b[0;34m=\u001b[0m \u001b[0mweakref\u001b[0m\u001b[0;34m.\u001b[0m\u001b[0mref\u001b[0m\u001b[0;34m(\u001b[0m\u001b[0mwrapped_fn\u001b[0m\u001b[0;34m)\u001b[0m\u001b[0;34m\u001b[0m\u001b[0;34m\u001b[0m\u001b[0m\n\u001b[1;32m    360\u001b[0m \u001b[0;34m\u001b[0m\u001b[0m\n",
      "\u001b[0;32m/usr/local/lib/python3.6/dist-packages/tensorflow_core/python/framework/func_graph.py\u001b[0m in \u001b[0;36mwrapper\u001b[0;34m(*args, **kwargs)\u001b[0m\n\u001b[1;32m    903\u001b[0m           \u001b[0;32mexcept\u001b[0m \u001b[0mException\u001b[0m \u001b[0;32mas\u001b[0m \u001b[0me\u001b[0m\u001b[0;34m:\u001b[0m  \u001b[0;31m# pylint:disable=broad-except\u001b[0m\u001b[0;34m\u001b[0m\u001b[0;34m\u001b[0m\u001b[0m\n\u001b[1;32m    904\u001b[0m             \u001b[0;32mif\u001b[0m \u001b[0mhasattr\u001b[0m\u001b[0;34m(\u001b[0m\u001b[0me\u001b[0m\u001b[0;34m,\u001b[0m \u001b[0;34m\"ag_error_metadata\"\u001b[0m\u001b[0;34m)\u001b[0m\u001b[0;34m:\u001b[0m\u001b[0;34m\u001b[0m\u001b[0;34m\u001b[0m\u001b[0m\n\u001b[0;32m--> 905\u001b[0;31m               \u001b[0;32mraise\u001b[0m \u001b[0me\u001b[0m\u001b[0;34m.\u001b[0m\u001b[0mag_error_metadata\u001b[0m\u001b[0;34m.\u001b[0m\u001b[0mto_exception\u001b[0m\u001b[0;34m(\u001b[0m\u001b[0me\u001b[0m\u001b[0;34m)\u001b[0m\u001b[0;34m\u001b[0m\u001b[0;34m\u001b[0m\u001b[0m\n\u001b[0m\u001b[1;32m    906\u001b[0m             \u001b[0;32melse\u001b[0m\u001b[0;34m:\u001b[0m\u001b[0;34m\u001b[0m\u001b[0;34m\u001b[0m\u001b[0m\n\u001b[1;32m    907\u001b[0m               \u001b[0;32mraise\u001b[0m\u001b[0;34m\u001b[0m\u001b[0;34m\u001b[0m\u001b[0m\n",
      "\u001b[0;31mAttributeError\u001b[0m: in converted code:\n    relative to /usr/local/lib/python3.6/dist-packages:\n\n    tf_explain/core/smoothgrad.py:85 get_averaged_gradients  *\n        num_classes = model.output.shape[1]\n    tensorflow_core/python/keras/engine/base_layer.py:1576 output\n        raise AttributeError('Layer ' + self.name + ' has no inbound nodes.')\n\n    AttributeError: Layer wrapper_my_dnn_4 has no inbound nodes.\n"
     ]
    }
   ],
   "source": [
    "from tf_explain.core.smoothgrad import SmoothGrad\n",
    "explainer = SmoothGrad()\n",
    "grid = explainer.explain((X, None), model2, 1, 20, 1.)"
   ]
  },
  {
   "cell_type": "code",
   "execution_count": 0,
   "metadata": {
    "colab": {
     "base_uri": "https://localhost:8080/",
     "height": 85
    },
    "colab_type": "code",
    "executionInfo": {
     "elapsed": 3698,
     "status": "ok",
     "timestamp": 1573490096976,
     "user": {
      "displayName": "Benedikt Dietmar Schifferer",
      "photoUrl": "https://lh3.googleusercontent.com/a-/AAuE7mDViwxKXBjVKZfXMWGuXrQ48D62bye6HNutAOX0=s64",
      "userId": "06737229821528734971"
     },
     "user_tz": -60
    },
    "id": "b033WUfMTy_S",
    "outputId": "e71254e5-e55f-488b-a2ce-5ce5f7117b5d"
   },
   "outputs": [
    {
     "name": "stdout",
     "output_type": "stream",
     "text": [
      " 01_ProgressReport\t  05_Data\t\t     09_SimpleDLModel\n",
      " 02_Projects\t\t  06_Ideas\t\t     10_DenseNet\n",
      " 03_Background_Research   07_AutoFocusLayer\t     cat.jpg\n",
      " 04_Weekly_Meetings\t  08_TFRecords_Experiments  'Important notes.gdoc'\n"
     ]
    }
   ],
   "source": [
    "!ls /content/drive/My\\ Drive/Capstone/"
   ]
  },
  {
   "cell_type": "code",
   "execution_count": 0,
   "metadata": {
    "colab": {
     "base_uri": "https://localhost:8080/",
     "height": 935
    },
    "colab_type": "code",
    "executionInfo": {
     "elapsed": 8973,
     "status": "ok",
     "timestamp": 1573490110703,
     "user": {
      "displayName": "Benedikt Dietmar Schifferer",
      "photoUrl": "https://lh3.googleusercontent.com/a-/AAuE7mDViwxKXBjVKZfXMWGuXrQ48D62bye6HNutAOX0=s64",
      "userId": "06737229821528734971"
     },
     "user_tz": -60
    },
    "id": "-RohbTtqS4qd",
    "outputId": "497f7261-9a93-4151-a55e-d449ecfaa40b"
   },
   "outputs": [
    {
     "name": "stdout",
     "output_type": "stream",
     "text": [
      "Model: \"vgg16\"\n",
      "_________________________________________________________________\n",
      "Layer (type)                 Output Shape              Param #   \n",
      "=================================================================\n",
      "input_4 (InputLayer)         [(None, 224, 224, 3)]     0         \n",
      "_________________________________________________________________\n",
      "block1_conv1 (Conv2D)        (None, 224, 224, 64)      1792      \n",
      "_________________________________________________________________\n",
      "block1_conv2 (Conv2D)        (None, 224, 224, 64)      36928     \n",
      "_________________________________________________________________\n",
      "block1_pool (MaxPooling2D)   (None, 112, 112, 64)      0         \n",
      "_________________________________________________________________\n",
      "block2_conv1 (Conv2D)        (None, 112, 112, 128)     73856     \n",
      "_________________________________________________________________\n",
      "block2_conv2 (Conv2D)        (None, 112, 112, 128)     147584    \n",
      "_________________________________________________________________\n",
      "block2_pool (MaxPooling2D)   (None, 56, 56, 128)       0         \n",
      "_________________________________________________________________\n",
      "block3_conv1 (Conv2D)        (None, 56, 56, 256)       295168    \n",
      "_________________________________________________________________\n",
      "block3_conv2 (Conv2D)        (None, 56, 56, 256)       590080    \n",
      "_________________________________________________________________\n",
      "block3_conv3 (Conv2D)        (None, 56, 56, 256)       590080    \n",
      "_________________________________________________________________\n",
      "block3_pool (MaxPooling2D)   (None, 28, 28, 256)       0         \n",
      "_________________________________________________________________\n",
      "block4_conv1 (Conv2D)        (None, 28, 28, 512)       1180160   \n",
      "_________________________________________________________________\n",
      "block4_conv2 (Conv2D)        (None, 28, 28, 512)       2359808   \n",
      "_________________________________________________________________\n",
      "block4_conv3 (Conv2D)        (None, 28, 28, 512)       2359808   \n",
      "_________________________________________________________________\n",
      "block4_pool (MaxPooling2D)   (None, 14, 14, 512)       0         \n",
      "_________________________________________________________________\n",
      "block5_conv1 (Conv2D)        (None, 14, 14, 512)       2359808   \n",
      "_________________________________________________________________\n",
      "block5_conv2 (Conv2D)        (None, 14, 14, 512)       2359808   \n",
      "_________________________________________________________________\n",
      "block5_conv3 (Conv2D)        (None, 14, 14, 512)       2359808   \n",
      "_________________________________________________________________\n",
      "block5_pool (MaxPooling2D)   (None, 7, 7, 512)         0         \n",
      "_________________________________________________________________\n",
      "flatten (Flatten)            (None, 25088)             0         \n",
      "_________________________________________________________________\n",
      "fc1 (Dense)                  (None, 4096)              102764544 \n",
      "_________________________________________________________________\n",
      "fc2 (Dense)                  (None, 4096)              16781312  \n",
      "_________________________________________________________________\n",
      "predictions (Dense)          (None, 1000)              4097000   \n",
      "=================================================================\n",
      "Total params: 138,357,544\n",
      "Trainable params: 138,357,544\n",
      "Non-trainable params: 0\n",
      "_________________________________________________________________\n"
     ]
    }
   ],
   "source": [
    "IMAGE_PATH = '/content/drive/My Drive/Capstone/cat.jpg'\n",
    "\n",
    "model_res = tf.keras.applications.vgg16.VGG16(weights='imagenet', include_top=True)\n",
    "\n",
    "img = tf.keras.preprocessing.image.load_img(IMAGE_PATH, target_size=(224, 224))\n",
    "img = tf.keras.preprocessing.image.img_to_array(img)\n",
    "\n",
    "model_res.summary()\n",
    "data = ([img], None)\n",
    "\n",
    "tabby_cat_class_index = 281\n",
    "explainer = SmoothGrad()\n",
    "# Compute SmoothGrad on VGG16\n",
    "grid = explainer.explain(data, model_res, tabby_cat_class_index, 20, 1.)\n",
    "explainer.save(grid, '.', 'smoothgrad.png')"
   ]
  },
  {
   "cell_type": "code",
   "execution_count": 0,
   "metadata": {
    "colab": {},
    "colab_type": "code",
    "id": "8kJ4t1IgT_FF"
   },
   "outputs": [],
   "source": [
    "from google.colab import files\n",
    "\n",
    "files.download('./smoothgrad.png')"
   ]
  },
  {
   "cell_type": "code",
   "execution_count": 0,
   "metadata": {
    "colab": {},
    "colab_type": "code",
    "id": "zDC5mlR9UpWo"
   },
   "outputs": [],
   "source": []
  },
  {
   "cell_type": "code",
   "execution_count": 0,
   "metadata": {
    "colab": {
     "base_uri": "https://localhost:8080/",
     "height": 34
    },
    "colab_type": "code",
    "executionInfo": {
     "elapsed": 1594,
     "status": "ok",
     "timestamp": 1573489069509,
     "user": {
      "displayName": "Benedikt Dietmar Schifferer",
      "photoUrl": "https://lh3.googleusercontent.com/a-/AAuE7mDViwxKXBjVKZfXMWGuXrQ48D62bye6HNutAOX0=s64",
      "userId": "06737229821528734971"
     },
     "user_tz": -60
    },
    "id": "-dvYng1iQBUQ",
    "outputId": "b4ddf708-f070-43a7-938b-12bc92419372"
   },
   "outputs": [
    {
     "data": {
      "text/plain": [
       "TensorShape([8, 2])"
      ]
     },
     "execution_count": 54,
     "metadata": {
      "tags": []
     },
     "output_type": "execute_result"
    }
   ],
   "source": [
    "model2(X)"
   ]
  },
  {
   "cell_type": "code",
   "execution_count": 0,
   "metadata": {
    "colab": {
     "base_uri": "https://localhost:8080/",
     "height": 170
    },
    "colab_type": "code",
    "executionInfo": {
     "elapsed": 1585,
     "status": "ok",
     "timestamp": 1573488955519,
     "user": {
      "displayName": "Benedikt Dietmar Schifferer",
      "photoUrl": "https://lh3.googleusercontent.com/a-/AAuE7mDViwxKXBjVKZfXMWGuXrQ48D62bye6HNutAOX0=s64",
      "userId": "06737229821528734971"
     },
     "user_tz": -60
    },
    "id": "7JMy-Zmg3_8t",
    "outputId": "a0d77624-e846-451d-c8f8-84f587118f0b"
   },
   "outputs": [
    {
     "data": {
      "text/plain": [
       "<tf.Tensor: id=116151, shape=(8, 2), dtype=float32, numpy=\n",
       "array([[0.53804183, 0.46195817],\n",
       "       [0.4839683 , 0.51603174],\n",
       "       [0.7212447 , 0.2787553 ],\n",
       "       [0.5602738 , 0.43972617],\n",
       "       [0.653129  , 0.346871  ],\n",
       "       [0.5561602 , 0.44383982],\n",
       "       [0.6063691 , 0.39363095],\n",
       "       [0.7199904 , 0.2800096 ]], dtype=float32)>"
      ]
     },
     "execution_count": 48,
     "metadata": {
      "tags": []
     },
     "output_type": "execute_result"
    }
   ],
   "source": [
    "'model.call(X)['female']"
   ]
  },
  {
   "cell_type": "code",
   "execution_count": 0,
   "metadata": {
    "colab": {},
    "colab_type": "code",
    "id": "mIYd0IsfiKER"
   },
   "outputs": [],
   "source": [
    "pd.DataFrame(output).to_csv(path_output + 'baseline.csv')"
   ]
  },
  {
   "cell_type": "code",
   "execution_count": 0,
   "metadata": {
    "colab": {
     "base_uri": "https://localhost:8080/",
     "height": 286
    },
    "colab_type": "code",
    "executionInfo": {
     "elapsed": 811,
     "status": "ok",
     "timestamp": 1572985942408,
     "user": {
      "displayName": "Benedikt Dietmar Schifferer",
      "photoUrl": "https://lh3.googleusercontent.com/a-/AAuE7mDViwxKXBjVKZfXMWGuXrQ48D62bye6HNutAOX0=s64",
      "userId": "06737229821528734971"
     },
     "user_tz": 300
    },
    "id": "j3kFZEWAQ5XU",
    "outputId": "c9769171-4ee2-4e40-d803-fcde7a266188"
   },
   "outputs": [
    {
     "data": {
      "text/html": [
       "<div>\n",
       "<style scoped>\n",
       "    .dataframe tbody tr th:only-of-type {\n",
       "        vertical-align: middle;\n",
       "    }\n",
       "\n",
       "    .dataframe tbody tr th {\n",
       "        vertical-align: top;\n",
       "    }\n",
       "\n",
       "    .dataframe thead th {\n",
       "        text-align: right;\n",
       "    }\n",
       "</style>\n",
       "<table border=\"1\" class=\"dataframe\">\n",
       "  <thead>\n",
       "    <tr style=\"text-align: right;\">\n",
       "      <th></th>\n",
       "      <th>subjectkey</th>\n",
       "      <th>age</th>\n",
       "      <th>female</th>\n",
       "      <th>race.ethnicity</th>\n",
       "      <th>high.educ</th>\n",
       "      <th>income</th>\n",
       "      <th>abcd_site</th>\n",
       "      <th>vol</th>\n",
       "      <th>height</th>\n",
       "      <th>weight</th>\n",
       "      <th>BMI</th>\n",
       "      <th>nihtbx_fluidcomp_uncorrected</th>\n",
       "      <th>nihtbx_cryst_uncorrected</th>\n",
       "      <th>nihtbx_pattern_uncorrected</th>\n",
       "      <th>nihtbx_picture_uncorrected</th>\n",
       "      <th>nihtbx_list_uncorrected</th>\n",
       "      <th>nihtbx_flanker_uncorrected</th>\n",
       "      <th>nihtbx_picvocab_uncorrected</th>\n",
       "      <th>nihtbx_cardsort_uncorrected</th>\n",
       "      <th>nihtbx_totalcomp_uncorrected</th>\n",
       "      <th>nihtbx_reading_uncorrected</th>\n",
       "      <th>high.educ_group</th>\n",
       "      <th>income_group</th>\n",
       "      <th>BMI_norm</th>\n",
       "      <th>age_norm</th>\n",
       "      <th>vol_norm</th>\n",
       "      <th>weight_norm</th>\n",
       "      <th>height_norm</th>\n",
       "      <th>nihtbx_fluidcomp_uncorrected_norm</th>\n",
       "      <th>nihtbx_cryst_uncorrected_norm</th>\n",
       "      <th>nihtbx_pattern_uncorrected_norm</th>\n",
       "      <th>nihtbx_picture_uncorrected_norm</th>\n",
       "      <th>nihtbx_list_uncorrected_norm</th>\n",
       "      <th>nihtbx_flanker_uncorrected_norm</th>\n",
       "      <th>nihtbx_picvocab_uncorrected_norm</th>\n",
       "      <th>nihtbx_cardsort_uncorrected_norm</th>\n",
       "      <th>nihtbx_totalcomp_uncorrected_norm</th>\n",
       "      <th>nihtbx_reading_uncorrected_norm</th>\n",
       "    </tr>\n",
       "    <tr>\n",
       "      <th>married</th>\n",
       "      <th></th>\n",
       "      <th></th>\n",
       "      <th></th>\n",
       "      <th></th>\n",
       "      <th></th>\n",
       "      <th></th>\n",
       "      <th></th>\n",
       "      <th></th>\n",
       "      <th></th>\n",
       "      <th></th>\n",
       "      <th></th>\n",
       "      <th></th>\n",
       "      <th></th>\n",
       "      <th></th>\n",
       "      <th></th>\n",
       "      <th></th>\n",
       "      <th></th>\n",
       "      <th></th>\n",
       "      <th></th>\n",
       "      <th></th>\n",
       "      <th></th>\n",
       "      <th></th>\n",
       "      <th></th>\n",
       "      <th></th>\n",
       "      <th></th>\n",
       "      <th></th>\n",
       "      <th></th>\n",
       "      <th></th>\n",
       "      <th></th>\n",
       "      <th></th>\n",
       "      <th></th>\n",
       "      <th></th>\n",
       "      <th></th>\n",
       "      <th></th>\n",
       "      <th></th>\n",
       "      <th></th>\n",
       "      <th></th>\n",
       "      <th></th>\n",
       "    </tr>\n",
       "  </thead>\n",
       "  <tbody>\n",
       "    <tr>\n",
       "      <th>0</th>\n",
       "      <td>0.7008</td>\n",
       "      <td>0.7008</td>\n",
       "      <td>0.7008</td>\n",
       "      <td>0.7008</td>\n",
       "      <td>0.7008</td>\n",
       "      <td>0.7008</td>\n",
       "      <td>0.7008</td>\n",
       "      <td>0.7008</td>\n",
       "      <td>0.7008</td>\n",
       "      <td>0.7008</td>\n",
       "      <td>0.7008</td>\n",
       "      <td>0.7008</td>\n",
       "      <td>0.7008</td>\n",
       "      <td>0.7008</td>\n",
       "      <td>0.7008</td>\n",
       "      <td>0.7008</td>\n",
       "      <td>0.7008</td>\n",
       "      <td>0.7008</td>\n",
       "      <td>0.7008</td>\n",
       "      <td>0.7008</td>\n",
       "      <td>0.7008</td>\n",
       "      <td>0.7008</td>\n",
       "      <td>0.7008</td>\n",
       "      <td>0.7008</td>\n",
       "      <td>0.7008</td>\n",
       "      <td>0.7008</td>\n",
       "      <td>0.7008</td>\n",
       "      <td>0.7008</td>\n",
       "      <td>0.7008</td>\n",
       "      <td>0.7008</td>\n",
       "      <td>0.7008</td>\n",
       "      <td>0.7008</td>\n",
       "      <td>0.7008</td>\n",
       "      <td>0.7008</td>\n",
       "      <td>0.7008</td>\n",
       "      <td>0.7008</td>\n",
       "      <td>0.7008</td>\n",
       "      <td>0.7008</td>\n",
       "    </tr>\n",
       "    <tr>\n",
       "      <th>1</th>\n",
       "      <td>0.0056</td>\n",
       "      <td>0.0056</td>\n",
       "      <td>0.0056</td>\n",
       "      <td>0.0056</td>\n",
       "      <td>0.0056</td>\n",
       "      <td>0.0056</td>\n",
       "      <td>0.0056</td>\n",
       "      <td>0.0056</td>\n",
       "      <td>0.0056</td>\n",
       "      <td>0.0056</td>\n",
       "      <td>0.0056</td>\n",
       "      <td>0.0056</td>\n",
       "      <td>0.0056</td>\n",
       "      <td>0.0056</td>\n",
       "      <td>0.0056</td>\n",
       "      <td>0.0056</td>\n",
       "      <td>0.0056</td>\n",
       "      <td>0.0056</td>\n",
       "      <td>0.0056</td>\n",
       "      <td>0.0056</td>\n",
       "      <td>0.0056</td>\n",
       "      <td>0.0056</td>\n",
       "      <td>0.0056</td>\n",
       "      <td>0.0056</td>\n",
       "      <td>0.0056</td>\n",
       "      <td>0.0056</td>\n",
       "      <td>0.0056</td>\n",
       "      <td>0.0056</td>\n",
       "      <td>0.0056</td>\n",
       "      <td>0.0056</td>\n",
       "      <td>0.0056</td>\n",
       "      <td>0.0056</td>\n",
       "      <td>0.0056</td>\n",
       "      <td>0.0056</td>\n",
       "      <td>0.0056</td>\n",
       "      <td>0.0056</td>\n",
       "      <td>0.0056</td>\n",
       "      <td>0.0056</td>\n",
       "    </tr>\n",
       "    <tr>\n",
       "      <th>2</th>\n",
       "      <td>0.0808</td>\n",
       "      <td>0.0808</td>\n",
       "      <td>0.0808</td>\n",
       "      <td>0.0808</td>\n",
       "      <td>0.0808</td>\n",
       "      <td>0.0808</td>\n",
       "      <td>0.0808</td>\n",
       "      <td>0.0808</td>\n",
       "      <td>0.0808</td>\n",
       "      <td>0.0808</td>\n",
       "      <td>0.0808</td>\n",
       "      <td>0.0808</td>\n",
       "      <td>0.0808</td>\n",
       "      <td>0.0808</td>\n",
       "      <td>0.0808</td>\n",
       "      <td>0.0808</td>\n",
       "      <td>0.0808</td>\n",
       "      <td>0.0808</td>\n",
       "      <td>0.0808</td>\n",
       "      <td>0.0808</td>\n",
       "      <td>0.0808</td>\n",
       "      <td>0.0808</td>\n",
       "      <td>0.0808</td>\n",
       "      <td>0.0808</td>\n",
       "      <td>0.0808</td>\n",
       "      <td>0.0808</td>\n",
       "      <td>0.0808</td>\n",
       "      <td>0.0808</td>\n",
       "      <td>0.0808</td>\n",
       "      <td>0.0808</td>\n",
       "      <td>0.0808</td>\n",
       "      <td>0.0808</td>\n",
       "      <td>0.0808</td>\n",
       "      <td>0.0808</td>\n",
       "      <td>0.0808</td>\n",
       "      <td>0.0808</td>\n",
       "      <td>0.0808</td>\n",
       "      <td>0.0808</td>\n",
       "    </tr>\n",
       "    <tr>\n",
       "      <th>3</th>\n",
       "      <td>0.0336</td>\n",
       "      <td>0.0336</td>\n",
       "      <td>0.0336</td>\n",
       "      <td>0.0336</td>\n",
       "      <td>0.0336</td>\n",
       "      <td>0.0336</td>\n",
       "      <td>0.0336</td>\n",
       "      <td>0.0336</td>\n",
       "      <td>0.0336</td>\n",
       "      <td>0.0336</td>\n",
       "      <td>0.0336</td>\n",
       "      <td>0.0336</td>\n",
       "      <td>0.0336</td>\n",
       "      <td>0.0336</td>\n",
       "      <td>0.0336</td>\n",
       "      <td>0.0336</td>\n",
       "      <td>0.0336</td>\n",
       "      <td>0.0336</td>\n",
       "      <td>0.0336</td>\n",
       "      <td>0.0336</td>\n",
       "      <td>0.0336</td>\n",
       "      <td>0.0336</td>\n",
       "      <td>0.0336</td>\n",
       "      <td>0.0336</td>\n",
       "      <td>0.0336</td>\n",
       "      <td>0.0336</td>\n",
       "      <td>0.0336</td>\n",
       "      <td>0.0336</td>\n",
       "      <td>0.0336</td>\n",
       "      <td>0.0336</td>\n",
       "      <td>0.0336</td>\n",
       "      <td>0.0336</td>\n",
       "      <td>0.0336</td>\n",
       "      <td>0.0336</td>\n",
       "      <td>0.0336</td>\n",
       "      <td>0.0336</td>\n",
       "      <td>0.0336</td>\n",
       "      <td>0.0336</td>\n",
       "    </tr>\n",
       "    <tr>\n",
       "      <th>4</th>\n",
       "      <td>0.1328</td>\n",
       "      <td>0.1328</td>\n",
       "      <td>0.1328</td>\n",
       "      <td>0.1328</td>\n",
       "      <td>0.1328</td>\n",
       "      <td>0.1328</td>\n",
       "      <td>0.1328</td>\n",
       "      <td>0.1328</td>\n",
       "      <td>0.1328</td>\n",
       "      <td>0.1328</td>\n",
       "      <td>0.1328</td>\n",
       "      <td>0.1328</td>\n",
       "      <td>0.1328</td>\n",
       "      <td>0.1328</td>\n",
       "      <td>0.1328</td>\n",
       "      <td>0.1328</td>\n",
       "      <td>0.1328</td>\n",
       "      <td>0.1328</td>\n",
       "      <td>0.1328</td>\n",
       "      <td>0.1328</td>\n",
       "      <td>0.1328</td>\n",
       "      <td>0.1328</td>\n",
       "      <td>0.1328</td>\n",
       "      <td>0.1328</td>\n",
       "      <td>0.1328</td>\n",
       "      <td>0.1328</td>\n",
       "      <td>0.1328</td>\n",
       "      <td>0.1328</td>\n",
       "      <td>0.1328</td>\n",
       "      <td>0.1328</td>\n",
       "      <td>0.1328</td>\n",
       "      <td>0.1328</td>\n",
       "      <td>0.1328</td>\n",
       "      <td>0.1328</td>\n",
       "      <td>0.1328</td>\n",
       "      <td>0.1328</td>\n",
       "      <td>0.1328</td>\n",
       "      <td>0.1328</td>\n",
       "    </tr>\n",
       "    <tr>\n",
       "      <th>5</th>\n",
       "      <td>0.0464</td>\n",
       "      <td>0.0464</td>\n",
       "      <td>0.0464</td>\n",
       "      <td>0.0464</td>\n",
       "      <td>0.0464</td>\n",
       "      <td>0.0464</td>\n",
       "      <td>0.0464</td>\n",
       "      <td>0.0464</td>\n",
       "      <td>0.0464</td>\n",
       "      <td>0.0464</td>\n",
       "      <td>0.0464</td>\n",
       "      <td>0.0464</td>\n",
       "      <td>0.0464</td>\n",
       "      <td>0.0464</td>\n",
       "      <td>0.0464</td>\n",
       "      <td>0.0464</td>\n",
       "      <td>0.0464</td>\n",
       "      <td>0.0464</td>\n",
       "      <td>0.0464</td>\n",
       "      <td>0.0464</td>\n",
       "      <td>0.0464</td>\n",
       "      <td>0.0464</td>\n",
       "      <td>0.0464</td>\n",
       "      <td>0.0464</td>\n",
       "      <td>0.0464</td>\n",
       "      <td>0.0464</td>\n",
       "      <td>0.0464</td>\n",
       "      <td>0.0464</td>\n",
       "      <td>0.0464</td>\n",
       "      <td>0.0464</td>\n",
       "      <td>0.0464</td>\n",
       "      <td>0.0464</td>\n",
       "      <td>0.0464</td>\n",
       "      <td>0.0464</td>\n",
       "      <td>0.0464</td>\n",
       "      <td>0.0464</td>\n",
       "      <td>0.0464</td>\n",
       "      <td>0.0464</td>\n",
       "    </tr>\n",
       "  </tbody>\n",
       "</table>\n",
       "</div>"
      ],
      "text/plain": [
       "         subjectkey  ...  nihtbx_reading_uncorrected_norm\n",
       "married              ...                                 \n",
       "0            0.7008  ...                           0.7008\n",
       "1            0.0056  ...                           0.0056\n",
       "2            0.0808  ...                           0.0808\n",
       "3            0.0336  ...                           0.0336\n",
       "4            0.1328  ...                           0.1328\n",
       "5            0.0464  ...                           0.0464\n",
       "\n",
       "[6 rows x 38 columns]"
      ]
     },
     "execution_count": 31,
     "metadata": {
      "tags": []
     },
     "output_type": "execute_result"
    }
   ],
   "source": [
    "val_df.groupby(['married']).count() / val_df.shape[0]"
   ]
  },
  {
   "cell_type": "code",
   "execution_count": 0,
   "metadata": {
    "colab": {
     "base_uri": "https://localhost:8080/",
     "height": 514
    },
    "colab_type": "code",
    "executionInfo": {
     "elapsed": 1403,
     "status": "ok",
     "timestamp": 1572884554781,
     "user": {
      "displayName": "Benedikt Dietmar Schifferer",
      "photoUrl": "https://lh3.googleusercontent.com/a-/AAuE7mDViwxKXBjVKZfXMWGuXrQ48D62bye6HNutAOX0=s64",
      "userId": "06737229821528734971"
     },
     "user_tz": 300
    },
    "id": "6ivDV4iphO9A",
    "outputId": "43969338-33ff-44f8-e207-2b03cf78d9a2"
   },
   "outputs": [
    {
     "data": {
      "text/html": [
       "<div>\n",
       "<style scoped>\n",
       "    .dataframe tbody tr th:only-of-type {\n",
       "        vertical-align: middle;\n",
       "    }\n",
       "\n",
       "    .dataframe tbody tr th {\n",
       "        vertical-align: top;\n",
       "    }\n",
       "\n",
       "    .dataframe thead th {\n",
       "        text-align: right;\n",
       "    }\n",
       "</style>\n",
       "<table border=\"1\" class=\"dataframe\">\n",
       "  <thead>\n",
       "    <tr style=\"text-align: right;\">\n",
       "      <th></th>\n",
       "      <th>0</th>\n",
       "      <th>1</th>\n",
       "      <th>loss</th>\n",
       "    </tr>\n",
       "  </thead>\n",
       "  <tbody>\n",
       "    <tr>\n",
       "      <th>0</th>\n",
       "      <td>colname</td>\n",
       "      <td>mse</td>\n",
       "      <td>mse</td>\n",
       "    </tr>\n",
       "    <tr>\n",
       "      <th>1</th>\n",
       "      <td>age_norm</td>\n",
       "      <td>0.980777</td>\n",
       "      <td>0.980777</td>\n",
       "    </tr>\n",
       "    <tr>\n",
       "      <th>2</th>\n",
       "      <td>vol_norm</td>\n",
       "      <td>0.945484</td>\n",
       "      <td>0.945484</td>\n",
       "    </tr>\n",
       "    <tr>\n",
       "      <th>3</th>\n",
       "      <td>weight_norm</td>\n",
       "      <td>0.889882</td>\n",
       "      <td>0.889882</td>\n",
       "    </tr>\n",
       "    <tr>\n",
       "      <th>4</th>\n",
       "      <td>height_norm</td>\n",
       "      <td>1.0227</td>\n",
       "      <td>1.0227</td>\n",
       "    </tr>\n",
       "    <tr>\n",
       "      <th>5</th>\n",
       "      <td>nihtbx_fluidcomp_uncorrected_norm</td>\n",
       "      <td>0.984666</td>\n",
       "      <td>0.984666</td>\n",
       "    </tr>\n",
       "    <tr>\n",
       "      <th>6</th>\n",
       "      <td>nihtbx_cryst_uncorrected_norm</td>\n",
       "      <td>1.03023</td>\n",
       "      <td>1.03023</td>\n",
       "    </tr>\n",
       "    <tr>\n",
       "      <th>7</th>\n",
       "      <td>nihtbx_pattern_uncorrected_norm</td>\n",
       "      <td>0.969314</td>\n",
       "      <td>0.969314</td>\n",
       "    </tr>\n",
       "    <tr>\n",
       "      <th>8</th>\n",
       "      <td>nihtbx_picture_uncorrected_norm</td>\n",
       "      <td>0.95365</td>\n",
       "      <td>0.95365</td>\n",
       "    </tr>\n",
       "    <tr>\n",
       "      <th>9</th>\n",
       "      <td>nihtbx_list_uncorrected_norm</td>\n",
       "      <td>1.00613</td>\n",
       "      <td>1.00613</td>\n",
       "    </tr>\n",
       "    <tr>\n",
       "      <th>10</th>\n",
       "      <td>nihtbx_flanker_uncorrected_norm</td>\n",
       "      <td>1.01185</td>\n",
       "      <td>1.01185</td>\n",
       "    </tr>\n",
       "    <tr>\n",
       "      <th>11</th>\n",
       "      <td>nihtbx_picvocab_uncorrected_norm</td>\n",
       "      <td>1.04232</td>\n",
       "      <td>1.04232</td>\n",
       "    </tr>\n",
       "    <tr>\n",
       "      <th>12</th>\n",
       "      <td>nihtbx_cardsort_uncorrected_norm</td>\n",
       "      <td>0.97436</td>\n",
       "      <td>0.97436</td>\n",
       "    </tr>\n",
       "    <tr>\n",
       "      <th>13</th>\n",
       "      <td>nihtbx_totalcomp_uncorrected_norm</td>\n",
       "      <td>0.994743</td>\n",
       "      <td>0.994743</td>\n",
       "    </tr>\n",
       "    <tr>\n",
       "      <th>14</th>\n",
       "      <td>nihtbx_reading_uncorrected_norm</td>\n",
       "      <td>0.996083</td>\n",
       "      <td>0.996083</td>\n",
       "    </tr>\n",
       "  </tbody>\n",
       "</table>\n",
       "</div>"
      ],
      "text/plain": [
       "                                    0         1      loss\n",
       "0                             colname       mse       mse\n",
       "1                            age_norm  0.980777  0.980777\n",
       "2                            vol_norm  0.945484  0.945484\n",
       "3                         weight_norm  0.889882  0.889882\n",
       "4                         height_norm    1.0227    1.0227\n",
       "5   nihtbx_fluidcomp_uncorrected_norm  0.984666  0.984666\n",
       "6       nihtbx_cryst_uncorrected_norm   1.03023   1.03023\n",
       "7     nihtbx_pattern_uncorrected_norm  0.969314  0.969314\n",
       "8     nihtbx_picture_uncorrected_norm   0.95365   0.95365\n",
       "9        nihtbx_list_uncorrected_norm   1.00613   1.00613\n",
       "10    nihtbx_flanker_uncorrected_norm   1.01185   1.01185\n",
       "11   nihtbx_picvocab_uncorrected_norm   1.04232   1.04232\n",
       "12   nihtbx_cardsort_uncorrected_norm   0.97436   0.97436\n",
       "13  nihtbx_totalcomp_uncorrected_norm  0.994743  0.994743\n",
       "14    nihtbx_reading_uncorrected_norm  0.996083  0.996083"
      ]
     },
     "execution_count": 55,
     "metadata": {
      "tags": []
     },
     "output_type": "execute_result"
    }
   ],
   "source": [
    "pd.merge(pd.DataFrame(output), df, left_on=0, right_on=0)"
   ]
  },
  {
   "cell_type": "code",
   "execution_count": 0,
   "metadata": {
    "colab": {},
    "colab_type": "code",
    "id": "3TEP3PWnc4-g"
   },
   "outputs": [],
   "source": [
    "cols = ['nihtbx_fluidcomp_uncorrected', 'nihtbx_cryst_uncorrected', \n",
    "              'nihtbx_pattern_uncorrected', 'nihtbx_picture_uncorrected', \n",
    "              'nihtbx_list_uncorrected', 'nihtbx_flanker_uncorrected',\n",
    "              'nihtbx_picvocab_uncorrected', 'nihtbx_cardsort_uncorrected',\n",
    "              'nihtbx_totalcomp_uncorrected', 'nihtbx_reading_uncorrected']"
   ]
  },
  {
   "cell_type": "code",
   "execution_count": 0,
   "metadata": {
    "colab": {},
    "colab_type": "code",
    "id": "GG6ZMe11hqLf"
   },
   "outputs": [],
   "source": [
    "output = []\n",
    "output.append(['colname', 'mse'])\n",
    "for col in cols:\n",
    "  mean = val_df[col].mean()\n",
    "  mse_norm = np.mean(np.square(val_df[col]-mean))\n",
    "  output.append([col, mse_norm])"
   ]
  },
  {
   "cell_type": "code",
   "execution_count": 0,
   "metadata": {
    "colab": {
     "base_uri": "https://localhost:8080/",
     "height": 390
    },
    "colab_type": "code",
    "executionInfo": {
     "elapsed": 793,
     "status": "ok",
     "timestamp": 1572621420115,
     "user": {
      "displayName": "Benedikt Dietmar Schifferer",
      "photoUrl": "https://lh3.googleusercontent.com/a-/AAuE7mDViwxKXBjVKZfXMWGuXrQ48D62bye6HNutAOX0=s64",
      "userId": "06737229821528734971"
     },
     "user_tz": 240
    },
    "id": "6YJAmfWtil8q",
    "outputId": "1cf07203-3ec7-4448-e8dd-1e7be5ab8636"
   },
   "outputs": [
    {
     "data": {
      "text/html": [
       "<div>\n",
       "<style scoped>\n",
       "    .dataframe tbody tr th:only-of-type {\n",
       "        vertical-align: middle;\n",
       "    }\n",
       "\n",
       "    .dataframe tbody tr th {\n",
       "        vertical-align: top;\n",
       "    }\n",
       "\n",
       "    .dataframe thead th {\n",
       "        text-align: right;\n",
       "    }\n",
       "</style>\n",
       "<table border=\"1\" class=\"dataframe\">\n",
       "  <thead>\n",
       "    <tr style=\"text-align: right;\">\n",
       "      <th></th>\n",
       "      <th>0</th>\n",
       "      <th>1</th>\n",
       "    </tr>\n",
       "  </thead>\n",
       "  <tbody>\n",
       "    <tr>\n",
       "      <th>0</th>\n",
       "      <td>colname</td>\n",
       "      <td>mse</td>\n",
       "    </tr>\n",
       "    <tr>\n",
       "      <th>1</th>\n",
       "      <td>nihtbx_fluidcomp_uncorrected</td>\n",
       "      <td>0.738561</td>\n",
       "    </tr>\n",
       "    <tr>\n",
       "      <th>2</th>\n",
       "      <td>nihtbx_cryst_uncorrected</td>\n",
       "      <td>0.634104</td>\n",
       "    </tr>\n",
       "    <tr>\n",
       "      <th>3</th>\n",
       "      <td>nihtbx_pattern_uncorrected</td>\n",
       "      <td>0.872343</td>\n",
       "    </tr>\n",
       "    <tr>\n",
       "      <th>4</th>\n",
       "      <td>nihtbx_picture_uncorrected</td>\n",
       "      <td>0.874858</td>\n",
       "    </tr>\n",
       "    <tr>\n",
       "      <th>5</th>\n",
       "      <td>nihtbx_list_uncorrected</td>\n",
       "      <td>0.796694</td>\n",
       "    </tr>\n",
       "    <tr>\n",
       "      <th>6</th>\n",
       "      <td>nihtbx_flanker_uncorrected</td>\n",
       "      <td>0.832563</td>\n",
       "    </tr>\n",
       "    <tr>\n",
       "      <th>7</th>\n",
       "      <td>nihtbx_picvocab_uncorrected</td>\n",
       "      <td>0.673517</td>\n",
       "    </tr>\n",
       "    <tr>\n",
       "      <th>8</th>\n",
       "      <td>nihtbx_cardsort_uncorrected</td>\n",
       "      <td>0.837488</td>\n",
       "    </tr>\n",
       "    <tr>\n",
       "      <th>9</th>\n",
       "      <td>nihtbx_totalcomp_uncorrected</td>\n",
       "      <td>0.615594</td>\n",
       "    </tr>\n",
       "    <tr>\n",
       "      <th>10</th>\n",
       "      <td>nihtbx_reading_uncorrected</td>\n",
       "      <td>0.732034</td>\n",
       "    </tr>\n",
       "  </tbody>\n",
       "</table>\n",
       "</div>"
      ],
      "text/plain": [
       "                               0         1\n",
       "0                        colname       mse\n",
       "1   nihtbx_fluidcomp_uncorrected  0.738561\n",
       "2       nihtbx_cryst_uncorrected  0.634104\n",
       "3     nihtbx_pattern_uncorrected  0.872343\n",
       "4     nihtbx_picture_uncorrected  0.874858\n",
       "5        nihtbx_list_uncorrected  0.796694\n",
       "6     nihtbx_flanker_uncorrected  0.832563\n",
       "7    nihtbx_picvocab_uncorrected  0.673517\n",
       "8    nihtbx_cardsort_uncorrected  0.837488\n",
       "9   nihtbx_totalcomp_uncorrected  0.615594\n",
       "10    nihtbx_reading_uncorrected  0.732034"
      ]
     },
     "execution_count": 111,
     "metadata": {
      "tags": []
     },
     "output_type": "execute_result"
    }
   ],
   "source": [
    "pd.DataFrame(output)"
   ]
  },
  {
   "cell_type": "code",
   "execution_count": 0,
   "metadata": {
    "colab": {},
    "colab_type": "code",
    "id": "OViFTzBKioI2"
   },
   "outputs": [],
   "source": []
  },
  {
   "cell_type": "code",
   "execution_count": 0,
   "metadata": {
    "colab": {},
    "colab_type": "code",
    "id": "AExg0jq563dS"
   },
   "outputs": [],
   "source": [
    "model.get_layer('lastconv')"
   ]
  }
 ],
 "metadata": {
  "accelerator": "GPU",
  "colab": {
   "collapsed_sections": [],
   "machine_shape": "hm",
   "name": "06_SimpleDL_MultiTask_Valid.ipynb",
   "provenance": []
  },
  "kernelspec": {
   "display_name": "Python 3",
   "language": "python",
   "name": "python3"
  },
  "language_info": {
   "codemirror_mode": {
    "name": "ipython",
    "version": 3
   },
   "file_extension": ".py",
   "mimetype": "text/x-python",
   "name": "python",
   "nbconvert_exporter": "python",
   "pygments_lexer": "ipython3",
   "version": "3.5.3"
  }
 },
 "nbformat": 4,
 "nbformat_minor": 1
}
