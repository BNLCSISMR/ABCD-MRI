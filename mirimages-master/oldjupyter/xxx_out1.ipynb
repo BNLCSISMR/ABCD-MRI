{
 "cells": [
  {
   "cell_type": "code",
   "execution_count": null,
   "metadata": {
    "hide_input": true,
    "inputHidden": true
   },
   "outputs": [
    {
     "data": {
      "text/html": [
       "<span style=\"color:red; font-family:Helvetica Neue, Helvetica, Arial, sans-serif; font-size:2em;\">An Exception was encountered at 'In [24]'.</span>"
      ]
     },
     "metadata": {},
     "output_type": "display_data"
    }
   ],
   "source": [
    "%%html\n",
    "<span style=\"color:red; font-family:Helvetica Neue, Helvetica, Arial, sans-serif; font-size:2em;\">An Exception was encountered at 'In [24]'.</span>"
   ]
  },
  {
   "cell_type": "code",
   "execution_count": 1,
   "metadata": {
    "papermill": {
     "duration": 0.044063,
     "end_time": "2019-11-15T20:43:00.110576",
     "exception": false,
     "start_time": "2019-11-15T20:43:00.066513",
     "status": "completed"
    },
    "tags": []
   },
   "outputs": [],
   "source": [
    "%load_ext autoreload\n",
    "%autoreload 2"
   ]
  },
  {
   "cell_type": "code",
   "execution_count": 2,
   "metadata": {
    "colab": {
     "base_uri": "https://localhost:8080/",
     "height": 34
    },
    "colab_type": "code",
    "executionInfo": {
     "elapsed": 48054,
     "status": "ok",
     "timestamp": 1573636583219,
     "user": {
      "displayName": "Benedikt Dietmar Schifferer",
      "photoUrl": "https://lh3.googleusercontent.com/a-/AAuE7mDViwxKXBjVKZfXMWGuXrQ48D62bye6HNutAOX0=s64",
      "userId": "06737229821528734971"
     },
     "user_tz": -60
    },
    "id": "2mU_ZLUH5jz4",
    "outputId": "c4cbc445-56dd-49df-de87-c34e18da5f6c",
    "papermill": {
     "duration": 9.510251,
     "end_time": "2019-11-15T20:43:09.641501",
     "exception": false,
     "start_time": "2019-11-15T20:43:00.131250",
     "status": "completed"
    },
    "tags": []
   },
   "outputs": [
    {
     "data": {
      "text/plain": [
       "'2.0.0'"
      ]
     },
     "execution_count": 2,
     "metadata": {},
     "output_type": "execute_result"
    }
   ],
   "source": [
    "import glob\n",
    "import nibabel as nib\n",
    "import os\n",
    "import time\n",
    "\n",
    "import pandas as pd\n",
    "import numpy as np\n",
    "import cv2\n",
    "from skimage.transform import resize\n",
    "\n",
    "from mricode.utils import log_textfile\n",
    "from mricode.utils import copy_colab\n",
    "from mricode.utils import return_iter\n",
    "from mricode.utils import return_csv\n",
    "\n",
    "from mricode.models.SimpleCNN import SimpleCNN\n",
    "from mricode.models.DenseNet import MyDenseNet\n",
    "\n",
    "import tensorflow as tf\n",
    "from tensorflow.keras.layers import Conv3D\n",
    "from tensorflow import nn\n",
    "from tensorflow.python.ops import nn_ops\n",
    "from tensorflow.python.framework import tensor_shape\n",
    "from tensorflow.python.keras.engine.base_layer import InputSpec\n",
    "from tensorflow.python.keras.utils import conv_utils\n",
    "\n",
    "tf.__version__"
   ]
  },
  {
   "cell_type": "code",
   "execution_count": 3,
   "metadata": {
    "papermill": {
     "duration": 1.000308,
     "end_time": "2019-11-15T20:43:10.663046",
     "exception": false,
     "start_time": "2019-11-15T20:43:09.662738",
     "status": "completed"
    },
    "tags": []
   },
   "outputs": [
    {
     "data": {
      "text/plain": [
       "True"
      ]
     },
     "execution_count": 3,
     "metadata": {},
     "output_type": "execute_result"
    }
   ],
   "source": [
    "tf.test.is_gpu_available()"
   ]
  },
  {
   "cell_type": "code",
   "execution_count": 4,
   "metadata": {
    "colab": {},
    "colab_type": "code",
    "id": "nH4XzW8C5yhH",
    "papermill": {
     "duration": 0.069195,
     "end_time": "2019-11-15T20:43:10.754778",
     "exception": false,
     "start_time": "2019-11-15T20:43:10.685583",
     "status": "completed"
    },
    "tags": []
   },
   "outputs": [],
   "source": [
    "path_output = './output/'\n",
    "path_tfrecords = '/data2/res64/down/'\n",
    "path_csv = '/data2/csv/'\n",
    "filename_res = {'train': 'intell_residual_train.csv', 'val': 'intell_residual_valid.csv', 'test': 'intell_residual_test.csv'}\n",
    "filename_final = filename_res\n",
    "sample_size = 'site16_allimages'\n",
    "batch_size = 8\n",
    "onlyt1 = False\n",
    "modelname = 'runAllImages64_DenseNet_T1T2_site16_norm_20e_tfexplain_'\n",
    "Model = SimpleCNN\n",
    "Model = MyDenseNet\n",
    "t1_mean=1.3779395849814497\n",
    "t1_std=3.4895845243139503\n",
    "t2_mean=2.22435586968901\n",
    "t2_std=5.07708743178319\n",
    "ad_mean=1.3008901218593748e-05\n",
    "ad_std=0.009966655860940228\n",
    "fa_mean=0.0037552628409334037\n",
    "fa_std=0.012922319568740915\n",
    "md_mean=9.827903909139596e-06\n",
    "md_std=0.009956973204022659\n",
    "rd_mean=8.237404999587111e-06\n",
    "rd_std=0.009954672598675338"
   ]
  },
  {
   "cell_type": "code",
   "execution_count": 5,
   "metadata": {
    "colab": {
     "base_uri": "https://localhost:8080/",
     "height": 71
    },
    "colab_type": "code",
    "executionInfo": {
     "elapsed": 4520,
     "status": "ok",
     "timestamp": 1573636640714,
     "user": {
      "displayName": "Benedikt Dietmar Schifferer",
      "photoUrl": "https://lh3.googleusercontent.com/a-/AAuE7mDViwxKXBjVKZfXMWGuXrQ48D62bye6HNutAOX0=s64",
      "userId": "06737229821528734971"
     },
     "user_tz": -60
    },
    "id": "B-rSS9vT6TuF",
    "outputId": "f5b43cbc-7d59-4c7c-b6d6-78882b1ef3e1",
    "papermill": {
     "duration": 0.316561,
     "end_time": "2019-11-15T20:43:11.091723",
     "exception": false,
     "start_time": "2019-11-15T20:43:10.775162",
     "status": "completed"
    },
    "tags": []
   },
   "outputs": [
    {
     "name": "stdout",
     "output_type": "stream",
     "text": [
      "WARNING:tensorflow:Entity <function return_iter.<locals>._parse_ at 0x7f1a7be38d08> could not be transformed and will be executed as-is. Please report this to the AutoGraph team. When filing the bug, set the verbosity to 10 (on Linux, `export AUTOGRAPH_VERBOSITY=10`) and attach the full output. Cause: \n"
     ]
    },
    {
     "name": "stdout",
     "output_type": "stream",
     "text": [
      "WARNING: Entity <function return_iter.<locals>._parse_ at 0x7f1a7be38d08> could not be transformed and will be executed as-is. Please report this to the AutoGraph team. When filing the bug, set the verbosity to 10 (on Linux, `export AUTOGRAPH_VERBOSITY=10`) and attach the full output. Cause: \n"
     ]
    }
   ],
   "source": [
    "train_iter, val_iter, test_iter = return_iter(path_tfrecords, sample_size, batch_size, onlyt1=onlyt1)"
   ]
  },
  {
   "cell_type": "code",
   "execution_count": 6,
   "metadata": {
    "colab": {},
    "colab_type": "code",
    "id": "lJ0VnyEzBAes",
    "papermill": {
     "duration": 0.072712,
     "end_time": "2019-11-15T20:43:11.186539",
     "exception": false,
     "start_time": "2019-11-15T20:43:11.113827",
     "status": "completed"
    },
    "tags": []
   },
   "outputs": [],
   "source": [
    "if False:\n",
    "  t1_mean = 0.\n",
    "  t1_std = 0.\n",
    "  t2_mean = 0.\n",
    "  t2_std = 0.\n",
    "  ad_mean = 0.\n",
    "  ad_std = 0.\n",
    "  fa_mean = 0.\n",
    "  fa_std = 0.\n",
    "  md_mean = 0.\n",
    "  md_std = 0.\n",
    "  rd_mean = 0.\n",
    "  rd_std = 0.\n",
    "  n = 0.\n",
    "  for b in train_iter:\n",
    "      t1_mean += np.mean(b['t1'])\n",
    "      t1_std += np.std(b['t1'])\n",
    "      t2_mean += np.mean(b['t2'])\n",
    "      t2_std += np.std(b['t2'])\n",
    "      a = np.asarray(b['ad'])\n",
    "      a = a.copy()\n",
    "      a[np.isnan(a)] = 0\n",
    "      ad_mean += np.mean(a)\n",
    "      ad_std += np.std(a)\n",
    "      a = np.asarray(b['fa'])\n",
    "      a = a.copy()\n",
    "      a[np.isnan(a)] = 0\n",
    "      fa_mean += np.mean(a)\n",
    "      fa_std += np.std(a)\n",
    "      a = np.asarray(b['md'])\n",
    "      a = a.copy()\n",
    "      a[np.isnan(a)] = 0\n",
    "      md_mean += np.mean(a)\n",
    "      md_std += np.std(a)\n",
    "      a = np.asarray(b['rd'])\n",
    "      a = a.copy()\n",
    "      a[np.isnan(a)] = 0\n",
    "      rd_mean += np.mean(a)\n",
    "      rd_std += np.std(a)\n",
    "      n += np.asarray(b['t1']).shape[0]\n",
    "\n",
    "  t1_mean /= n\n",
    "  t1_std /= n\n",
    "  t2_mean /= n\n",
    "  t2_std /= n\n",
    "  ad_mean /= n\n",
    "  ad_std /= n\n",
    "  fa_mean /= n\n",
    "  fa_std /= n\n",
    "  md_mean /= n\n",
    "  md_std /= n\n",
    "  rd_mean /= n\n",
    "  rd_std /= n"
   ]
  },
  {
   "cell_type": "code",
   "execution_count": 7,
   "metadata": {
    "colab": {
     "base_uri": "https://localhost:8080/",
     "height": 85
    },
    "colab_type": "code",
    "executionInfo": {
     "elapsed": 2924,
     "status": "ok",
     "timestamp": 1573636640716,
     "user": {
      "displayName": "Benedikt Dietmar Schifferer",
      "photoUrl": "https://lh3.googleusercontent.com/a-/AAuE7mDViwxKXBjVKZfXMWGuXrQ48D62bye6HNutAOX0=s64",
      "userId": "06737229821528734971"
     },
     "user_tz": -60
    },
    "id": "mSwhEqDPM_r8",
    "outputId": "14a4ac0b-9587-4776-fc64-1e008f0c5c31",
    "papermill": {
     "duration": 0.069276,
     "end_time": "2019-11-15T20:43:11.279055",
     "exception": false,
     "start_time": "2019-11-15T20:43:11.209779",
     "status": "completed"
    },
    "tags": []
   },
   "outputs": [
    {
     "data": {
      "text/plain": [
       "(1.3779395849814497,\n",
       " 3.4895845243139503,\n",
       " 2.22435586968901,\n",
       " 5.07708743178319,\n",
       " 1.3008901218593748e-05,\n",
       " 0.009966655860940228,\n",
       " 0.0037552628409334037,\n",
       " 0.012922319568740915,\n",
       " 9.827903909139596e-06,\n",
       " 0.009956973204022659,\n",
       " 8.237404999587111e-06,\n",
       " 0.009954672598675338)"
      ]
     },
     "execution_count": 7,
     "metadata": {},
     "output_type": "execute_result"
    }
   ],
   "source": [
    "t1_mean, t1_std, t2_mean, t2_std, ad_mean, ad_std, fa_mean, fa_std, md_mean, md_std, rd_mean, rd_std"
   ]
  },
  {
   "cell_type": "code",
   "execution_count": 8,
   "metadata": {
    "colab": {},
    "colab_type": "code",
    "id": "PAyV5ktlA6K1",
    "papermill": {
     "duration": 0.348449,
     "end_time": "2019-11-15T20:43:11.649133",
     "exception": false,
     "start_time": "2019-11-15T20:43:11.300684",
     "status": "completed"
    },
    "tags": []
   },
   "outputs": [],
   "source": [
    "train_df, val_df, test_df, norm_dict = return_csv(path_csv, filename_final, False)"
   ]
  },
  {
   "cell_type": "code",
   "execution_count": 9,
   "metadata": {
    "colab": {
     "base_uri": "https://localhost:8080/",
     "height": 442
    },
    "colab_type": "code",
    "executionInfo": {
     "elapsed": 3147,
     "status": "ok",
     "timestamp": 1573636641787,
     "user": {
      "displayName": "Benedikt Dietmar Schifferer",
      "photoUrl": "https://lh3.googleusercontent.com/a-/AAuE7mDViwxKXBjVKZfXMWGuXrQ48D62bye6HNutAOX0=s64",
      "userId": "06737229821528734971"
     },
     "user_tz": -60
    },
    "id": "0xYy4XUyVBeC",
    "outputId": "a6a19d59-31ff-4064-f1dc-952befcce4b3",
    "papermill": {
     "duration": 0.069483,
     "end_time": "2019-11-15T20:43:11.741078",
     "exception": false,
     "start_time": "2019-11-15T20:43:11.671595",
     "status": "completed"
    },
    "tags": []
   },
   "outputs": [
    {
     "data": {
      "text/plain": [
       "{'BMI': {'mean': 18.681548127052135, 'std': 4.193043131845343},\n",
       " 'age': {'mean': 119.00325844623563, 'std': 7.479129774017182},\n",
       " 'height': {'mean': 55.25173666322929, 'std': 3.152756181679028},\n",
       " 'nihtbx_cardsort_uncorrected': {'mean': 0.01902727147573316,\n",
       "  'std': 0.92710655806542},\n",
       " 'nihtbx_cryst_uncorrected': {'mean': 0.007018628014748754,\n",
       "  'std': 0.7845373584638602},\n",
       " 'nihtbx_flanker_uncorrected': {'mean': 0.02188780794049048,\n",
       "  'std': 0.9070917080607726},\n",
       " 'nihtbx_fluidcomp_uncorrected': {'mean': 0.020178243913565427,\n",
       "  'std': 0.86606123778624},\n",
       " 'nihtbx_list_uncorrected': {'mean': 0.00625176016120734,\n",
       "  'std': 0.8898550695735616},\n",
       " 'nihtbx_pattern_uncorrected': {'mean': 0.020721412569885096,\n",
       "  'std': 0.9486618556882954},\n",
       " 'nihtbx_picture_uncorrected': {'mean': 0.0005782175223803825,\n",
       "  'std': 0.9577989703304521},\n",
       " 'nihtbx_picvocab_uncorrected': {'mean': 0.0068509109986280275,\n",
       "  'std': 0.8038465951211212},\n",
       " 'nihtbx_reading_uncorrected': {'mean': 0.0027847502208883574,\n",
       "  'std': 0.8572703419965433},\n",
       " 'nihtbx_totalcomp_uncorrected': {'mean': 0.016971206631452577,\n",
       "  'std': 0.7866686549175077},\n",
       " 'vol': {'mean': 0.013939557398902416, 'std': 1.001699783217792},\n",
       " 'weight': {'mean': 81.91536668875837, 'std': 23.321845390211728}}"
      ]
     },
     "execution_count": 9,
     "metadata": {},
     "output_type": "execute_result"
    }
   ],
   "source": [
    "norm_dict"
   ]
  },
  {
   "cell_type": "code",
   "execution_count": 10,
   "metadata": {
    "colab": {},
    "colab_type": "code",
    "id": "eTk95ptFV5oN",
    "papermill": {
     "duration": 0.065006,
     "end_time": "2019-11-15T20:43:11.828264",
     "exception": false,
     "start_time": "2019-11-15T20:43:11.763258",
     "status": "completed"
    },
    "tags": []
   },
   "outputs": [],
   "source": [
    "cat_cols = {'female': 2, 'race.ethnicity': 5, 'high.educ_group': 4, 'income_group': 8, 'married': 6}\n",
    "num_cols = [x for x in list(val_df.columns) if '_norm' in x]"
   ]
  },
  {
   "cell_type": "code",
   "execution_count": 11,
   "metadata": {
    "colab": {},
    "colab_type": "code",
    "id": "hROMApYiDagm",
    "papermill": {
     "duration": 0.106304,
     "end_time": "2019-11-15T20:43:11.956687",
     "exception": false,
     "start_time": "2019-11-15T20:43:11.850383",
     "status": "completed"
    },
    "tags": []
   },
   "outputs": [],
   "source": [
    "def calc_loss_acc(out_loss, out_acc, y_true, y_pred, cat_cols, num_cols, norm_dict):\n",
    "  for col in num_cols:\n",
    "    tmp_col = col\n",
    "    tmp_std = norm_dict[tmp_col.replace('_norm','')]['std']\n",
    "    tmp_y_true = tf.cast(y_true[col], tf.float32).numpy()\n",
    "    tmp_y_pred = np.squeeze(y_pred[col].numpy())\n",
    "    if not(tmp_col in out_loss):\n",
    "      out_loss[tmp_col] = np.sum(np.square(tmp_y_true-tmp_y_pred))\n",
    "    else:\n",
    "      out_loss[tmp_col] += np.sum(np.square(tmp_y_true-tmp_y_pred))\n",
    "    if not(tmp_col in out_acc):\n",
    "      out_acc[tmp_col] = np.sum(np.square((tmp_y_true-tmp_y_pred)*tmp_std))\n",
    "    else:\n",
    "      out_acc[tmp_col] += np.sum(np.square((tmp_y_true-tmp_y_pred)*tmp_std))\n",
    "  for col in list(cat_cols.keys()):\n",
    "    tmp_col = col\n",
    "    if not(tmp_col in out_loss):\n",
    "      out_loss[tmp_col] = tf.keras.losses.SparseCategoricalCrossentropy()(tf.squeeze(y_true[col]), tf.squeeze(y_pred[col])).numpy()\n",
    "    else:\n",
    "      out_loss[tmp_col] += tf.keras.losses.SparseCategoricalCrossentropy()(tf.squeeze(y_true[col]), tf.squeeze(y_pred[col])).numpy()\n",
    "    if not(tmp_col in out_acc):\n",
    "      out_acc[tmp_col] = tf.reduce_sum(tf.dtypes.cast((y_true[col] == tf.argmax(y_pred[col], axis=-1)), tf.float32)).numpy()\n",
    "    else:\n",
    "      out_acc[tmp_col] += tf.reduce_sum(tf.dtypes.cast((y_true[col] == tf.argmax(y_pred[col], axis=-1)), tf.float32)).numpy()    \n",
    "  return(out_loss, out_acc)\n",
    "\n",
    "def format_output(out_loss, out_acc, n, cols, print_bl=False):\n",
    "  loss = 0\n",
    "  acc = 0\n",
    "  output = []\n",
    "  for col in cols:\n",
    "    output.append([col, out_loss[col]/n, out_acc[col]/n])\n",
    "    loss += out_loss[col]/n\n",
    "    acc += out_acc[col]/n\n",
    "  df = pd.DataFrame(output)\n",
    "  df.columns = ['name', 'loss', 'acc']\n",
    "  if print_bl:\n",
    "    print(df)\n",
    "  return(loss, acc, df)\n",
    "\n",
    "@tf.function\n",
    "def train_step(X, y, model, optimizer, cat_cols, num_cols):\n",
    "  with tf.GradientTape() as tape:\n",
    "    predictions = model(X)\n",
    "    i = 0\n",
    "    loss = tf.keras.losses.MSE(tf.cast(y[num_cols[i]], tf.float32), tf.squeeze(predictions[num_cols[i]]))\n",
    "    for i in range(1,len(num_cols)):\n",
    "      loss += tf.keras.losses.MSE(tf.cast(y[num_cols[i]], tf.float32), tf.squeeze(predictions[num_cols[i]]))\n",
    "    for col in list(cat_cols.keys()):\n",
    "      loss += tf.keras.losses.SparseCategoricalCrossentropy()(tf.squeeze(y[col]), tf.squeeze(predictions[col]))\n",
    "  gradients = tape.gradient(loss, model.trainable_variables)\n",
    "  mean_std = [x.name for x in model.non_trainable_variables if ('batch_norm') in x.name and ('mean' in x.name or 'variance' in x.name)]\n",
    "  with tf.control_dependencies(mean_std):\n",
    "    optimizer.apply_gradients(zip(gradients, model.trainable_variables))\n",
    "  return(y, predictions, loss)\n",
    "\n",
    "@tf.function\n",
    "def test_step(X, y, model):\n",
    "  predictions = model(X)\n",
    "  return(y, predictions)\n",
    "\n",
    "def epoch(data_iter, df, model, optimizer, cat_cols, num_cols, norm_dict):\n",
    "  out_loss = {}\n",
    "  out_acc = {}\n",
    "  n = 0.\n",
    "  n_batch = 0.\n",
    "  total_time_dataload = 0.\n",
    "  total_time_model = 0.\n",
    "  start_time = time.time()\n",
    "  for batch in data_iter:\n",
    "    total_time_dataload += time.time() - start_time\n",
    "    start_time = time.time()\n",
    "    t1 = (tf.cast(batch['t1'], tf.float32)-t1_mean)/t1_std\n",
    "    t2 = (batch['t2']-t2_mean)/t2_std\n",
    "    ad = batch['ad']\n",
    "    ad = tf.where(tf.math.is_nan(ad), tf.zeros_like(ad), ad)\n",
    "    ad = (ad-ad_mean)/ad_std\n",
    "    fa = batch['fa']\n",
    "    fa = tf.where(tf.math.is_nan(fa), tf.zeros_like(fa), fa)\n",
    "    fa = (fa-fa_mean)/fa_std\n",
    "    md = batch['md']\n",
    "    md = tf.where(tf.math.is_nan(md), tf.zeros_like(md), md)\n",
    "    md = (md-md_mean)/md_std\n",
    "    rd = batch['rd']\n",
    "    rd = tf.where(tf.math.is_nan(rd), tf.zeros_like(rd), rd)\n",
    "    rd = (rd-rd_mean)/rd_std\n",
    "    subjectid = decoder(batch['subjectid'])\n",
    "    y = get_labels(df, subjectid, list(cat_cols.keys())+num_cols)\n",
    "    X = tf.concat([t1, t2], axis=4)\n",
    "    #X = tf.concat([t1, t2], axis=4)\n",
    "    if optimizer != None:\n",
    "      y_true, y_pred, loss = train_step(X, y, model, optimizer, cat_cols, num_cols)\n",
    "    else:\n",
    "      y_true, y_pred = test_step(X, y, model)\n",
    "    out_loss, out_acc = calc_loss_acc(out_loss, out_acc, y_true, y_pred, cat_cols, num_cols, norm_dict)\n",
    "    n += X.shape[0]\n",
    "    n_batch += 1\n",
    "    if (n_batch % 10) == 0:\n",
    "      print(n_batch)\n",
    "    total_time_model += time.time() - start_time\n",
    "    start_time = time.time()\n",
    "  return (out_loss, out_acc, n, total_time_model, total_time_dataload)\n",
    "\n",
    "def get_labels(df, subjectid, cols = ['nihtbx_fluidcomp_uncorrected_norm']):\n",
    "  subjects_df = pd.DataFrame(subjectid)\n",
    "  result_df = pd.merge(subjects_df, df, left_on=0, right_on='subjectkey', how='left')\n",
    "  output = {}\n",
    "  for col in cols:\n",
    "    output[col] = np.asarray(result_df[col].values)\n",
    "  return output\n",
    "\n",
    "def best_val(df_best, df_val, df_test):\n",
    "  df_best = pd.merge(df_best, df_val, how='left', left_on='name', right_on='name')\n",
    "  df_best = pd.merge(df_best, df_test, how='left', left_on='name', right_on='name')\n",
    "  df_best.loc[df_best['best_loss_val']>=df_best['cur_loss_val'], 'best_loss_test'] = df_best.loc[df_best['best_loss_val']>=df_best['cur_loss_val'], 'cur_loss_test']\n",
    "  df_best.loc[df_best['best_loss_val']>=df_best['cur_loss_val'], 'best_loss_val'] = df_best.loc[df_best['best_loss_val']>=df_best['cur_loss_val'], 'cur_loss_val']\n",
    "  df_best.loc[(df_best['best_acc_val']<=df_best['cur_acc_val'])&(df_best['name'].isin(['female', 'race.ethnicity', 'high.educ_group', 'income_group', 'married'])), 'best_acc_test'] = df_best.loc[(df_best['best_acc_val']<=df_best['cur_acc_val'])&(df_best['name'].isin(['female', 'race.ethnicity', 'high.educ_group', 'income_group', 'married'])), 'cur_acc_test']\n",
    "  df_best.loc[(df_best['best_acc_val']<=df_best['cur_acc_val'])&(df_best['name'].isin(['female', 'race.ethnicity', 'high.educ_group', 'income_group', 'married'])), 'best_acc_val'] = df_best.loc[(df_best['best_acc_val']<=df_best['cur_acc_val'])&(df_best['name'].isin(['female', 'race.ethnicity', 'high.educ_group', 'income_group', 'married'])), 'cur_acc_val']\n",
    "  df_best.loc[(df_best['best_acc_val']>=df_best['cur_acc_val'])&(~df_best['name'].isin(['female', 'race.ethnicity', 'high.educ_group', 'income_group', 'married'])), 'best_acc_test'] = df_best.loc[(df_best['best_acc_val']>=df_best['cur_acc_val'])&(~df_best['name'].isin(['female', 'race.ethnicity', 'high.educ_group', 'income_group', 'married'])), 'cur_acc_test']\n",
    "  df_best.loc[(df_best['best_acc_val']>=df_best['cur_acc_val'])&(~df_best['name'].isin(['female', 'race.ethnicity', 'high.educ_group', 'income_group', 'married'])), 'best_acc_val'] = df_best.loc[(df_best['best_acc_val']>=df_best['cur_acc_val'])&(~df_best['name'].isin(['female', 'race.ethnicity', 'high.educ_group', 'income_group', 'married'])), 'cur_acc_val']\n",
    "  df_best = df_best.drop(['cur_loss_val', 'cur_acc_val', 'cur_loss_test', 'cur_acc_test'], axis=1)\n",
    "  return(df_best)"
   ]
  },
  {
   "cell_type": "code",
   "execution_count": 12,
   "metadata": {
    "colab": {
     "base_uri": "https://localhost:8080/",
     "height": 1000
    },
    "colab_type": "code",
    "executionInfo": {
     "elapsed": 46355,
     "status": "ok",
     "timestamp": 1573636701683,
     "user": {
      "displayName": "Benedikt Dietmar Schifferer",
      "photoUrl": "https://lh3.googleusercontent.com/a-/AAuE7mDViwxKXBjVKZfXMWGuXrQ48D62bye6HNutAOX0=s64",
      "userId": "06737229821528734971"
     },
     "user_tz": -60
    },
    "id": "RV24LE3k-00n",
    "outputId": "067125be-6ce2-40c9-998e-62f800ccb2f1",
    "papermill": {
     "duration": 755.645163,
     "end_time": "2019-11-15T20:55:47.624667",
     "exception": false,
     "start_time": "2019-11-15T20:43:11.979504",
     "status": "completed"
    },
    "tags": []
   },
   "outputs": [
    {
     "name": "stdout",
     "output_type": "stream",
     "text": [
      "{'high.educ_group': 4, 'married': 6, 'race.ethnicity': 5, 'female': 2, 'income_group': 8}\n",
      "['BMI_norm', 'age_norm', 'vol_norm', 'weight_norm', 'height_norm', 'nihtbx_fluidcomp_uncorrected_norm', 'nihtbx_cryst_uncorrected_norm', 'nihtbx_pattern_uncorrected_norm', 'nihtbx_picture_uncorrected_norm', 'nihtbx_list_uncorrected_norm', 'nihtbx_flanker_uncorrected_norm', 'nihtbx_picvocab_uncorrected_norm', 'nihtbx_cardsort_uncorrected_norm', 'nihtbx_totalcomp_uncorrected_norm', 'nihtbx_reading_uncorrected_norm']\n",
      "Epochs: 0\n"
     ]
    },
    {
     "name": "stdout",
     "output_type": "stream",
     "text": [
      "10.0\n"
     ]
    },
    {
     "name": "stdout",
     "output_type": "stream",
     "text": [
      "20.0\n"
     ]
    },
    {
     "name": "stdout",
     "output_type": "stream",
     "text": [
      "30.0\n"
     ]
    },
    {
     "name": "stdout",
     "output_type": "stream",
     "text": [
      "40.0\n"
     ]
    },
    {
     "name": "stdout",
     "output_type": "stream",
     "text": [
      "50.0\n"
     ]
    },
    {
     "name": "stdout",
     "output_type": "stream",
     "text": [
      "60.0\n"
     ]
    },
    {
     "name": "stdout",
     "output_type": "stream",
     "text": [
      "70.0\n"
     ]
    },
    {
     "name": "stdout",
     "output_type": "stream",
     "text": [
      "10.0\n"
     ]
    },
    {
     "name": "stdout",
     "output_type": "stream",
     "text": [
      "10.0\n"
     ]
    },
    {
     "name": "stdout",
     "output_type": "stream",
     "text": [
      "                                 name  best_loss_test  best_acc_test\n",
      "0                      race.ethnicity        0.108170       0.778689\n",
      "1                             married        0.079889       0.860656\n",
      "2                        income_group        0.246161       0.245902\n",
      "3                              female        0.105385       0.540984\n",
      "4                     high.educ_group        0.051389       0.926230\n",
      "5                            BMI_norm        0.925145      16.265548\n",
      "6                            age_norm        1.091767      61.070593\n",
      "7                            vol_norm        1.423905       1.428750\n",
      "8                         weight_norm        1.091211     593.518827\n",
      "9                         height_norm        0.869084       8.638580\n",
      "10  nihtbx_fluidcomp_uncorrected_norm        0.765443       0.574130\n",
      "11      nihtbx_cryst_uncorrected_norm        1.079317       0.664319\n",
      "12    nihtbx_pattern_uncorrected_norm        0.719781       0.647773\n",
      "13    nihtbx_picture_uncorrected_norm        0.854791       0.784167\n",
      "14       nihtbx_list_uncorrected_norm        0.797751       0.631693\n",
      "15    nihtbx_flanker_uncorrected_norm        0.856089       0.704403\n",
      "16   nihtbx_picvocab_uncorrected_norm        1.131878       0.731385\n",
      "17   nihtbx_cardsort_uncorrected_norm        0.817365       0.702547\n",
      "18  nihtbx_totalcomp_uncorrected_norm        0.859727       0.532040\n",
      "19    nihtbx_reading_uncorrected_norm        0.796429       0.585306\n",
      "                                 name  best_loss_val  best_acc_val\n",
      "0                      race.ethnicity       0.085126      0.786885\n",
      "1                             married       0.069779      0.819672\n",
      "2                        income_group       0.216951      0.360656\n",
      "3                              female       0.102258      0.491803\n",
      "4                     high.educ_group       0.060214      0.836066\n",
      "5                            BMI_norm       0.710499     12.491721\n",
      "6                            age_norm       1.216869     68.068487\n",
      "7                            vol_norm       1.357829      1.362449\n",
      "8                         weight_norm       0.798001    434.039575\n",
      "9                         height_norm       0.882607      8.772997\n",
      "10  nihtbx_fluidcomp_uncorrected_norm       0.906406      0.679860\n",
      "11      nihtbx_cryst_uncorrected_norm       0.978281      0.602131\n",
      "12    nihtbx_pattern_uncorrected_norm       0.847939      0.763111\n",
      "13    nihtbx_picture_uncorrected_norm       1.091947      1.001729\n",
      "14       nihtbx_list_uncorrected_norm       0.729820      0.577902\n",
      "15    nihtbx_flanker_uncorrected_norm       1.030223      0.847683\n",
      "16   nihtbx_picvocab_uncorrected_norm       0.998149      0.644973\n",
      "17   nihtbx_cardsort_uncorrected_norm       0.983502      0.845346\n",
      "18  nihtbx_totalcomp_uncorrected_norm       0.819052      0.506869\n",
      "19    nihtbx_reading_uncorrected_norm       0.809246      0.594725\n",
      "Epoch 0, Loss: 61.655, Accuracy: 1134.031, Val Loss: 14.695, Val Accuracy: 535.095, Time Model: 87.174, Time Data: 1.363\n",
      "Epochs: 1\n"
     ]
    },
    {
     "name": "stdout",
     "output_type": "stream",
     "text": [
      "10.0\n"
     ]
    },
    {
     "name": "stdout",
     "output_type": "stream",
     "text": [
      "20.0\n"
     ]
    },
    {
     "name": "stdout",
     "output_type": "stream",
     "text": [
      "30.0\n"
     ]
    },
    {
     "name": "stdout",
     "output_type": "stream",
     "text": [
      "40.0\n"
     ]
    },
    {
     "name": "stdout",
     "output_type": "stream",
     "text": [
      "50.0\n"
     ]
    },
    {
     "name": "stdout",
     "output_type": "stream",
     "text": [
      "60.0\n"
     ]
    },
    {
     "name": "stdout",
     "output_type": "stream",
     "text": [
      "70.0\n"
     ]
    },
    {
     "name": "stdout",
     "output_type": "stream",
     "text": [
      "10.0\n"
     ]
    },
    {
     "name": "stdout",
     "output_type": "stream",
     "text": [
      "10.0\n"
     ]
    },
    {
     "name": "stdout",
     "output_type": "stream",
     "text": [
      "                                 name  best_loss_test  best_acc_test\n",
      "0                      race.ethnicity        0.099814       0.778689\n",
      "1                             married        0.079609       0.860656\n",
      "2                        income_group        0.247592       0.245902\n",
      "3                              female        0.089128       0.540984\n",
      "4                     high.educ_group        0.047136       0.926230\n",
      "5                            BMI_norm        0.869081      15.279846\n",
      "6                            age_norm        1.091767      61.070593\n",
      "7                            vol_norm        0.558796       0.560697\n",
      "8                         weight_norm        1.031181     560.867956\n",
      "9                         height_norm        0.828336       8.233556\n",
      "10  nihtbx_fluidcomp_uncorrected_norm        0.764957       0.573765\n",
      "11      nihtbx_cryst_uncorrected_norm        0.996238       0.613183\n",
      "12    nihtbx_pattern_uncorrected_norm        0.719781       0.647773\n",
      "13    nihtbx_picture_uncorrected_norm        0.775365       0.711304\n",
      "14       nihtbx_list_uncorrected_norm        0.797751       0.631693\n",
      "15    nihtbx_flanker_uncorrected_norm        0.794525       0.653748\n",
      "16   nihtbx_picvocab_uncorrected_norm        1.094248       0.707069\n",
      "17   nihtbx_cardsort_uncorrected_norm        0.742195       0.637936\n",
      "18  nihtbx_totalcomp_uncorrected_norm        0.841617       0.520833\n",
      "19    nihtbx_reading_uncorrected_norm        0.796429       0.585306\n",
      "                                 name  best_loss_val  best_acc_val\n",
      "0                      race.ethnicity       0.077667      0.786885\n",
      "1                             married       0.068838      0.819672\n",
      "2                        income_group       0.216811      0.360656\n",
      "3                              female       0.083958      0.491803\n",
      "4                     high.educ_group       0.056832      0.836066\n",
      "5                            BMI_norm       0.688188     12.099450\n",
      "6                            age_norm       1.216869     68.068487\n",
      "7                            vol_norm       0.651421      0.653638\n",
      "8                         weight_norm       0.797620    433.832095\n",
      "9                         height_norm       0.810991      8.061148\n",
      "10  nihtbx_fluidcomp_uncorrected_norm       0.902197      0.676703\n",
      "11      nihtbx_cryst_uncorrected_norm       0.940104      0.578633\n",
      "12    nihtbx_pattern_uncorrected_norm       0.847939      0.763111\n",
      "13    nihtbx_picture_uncorrected_norm       1.027197      0.942329\n",
      "14       nihtbx_list_uncorrected_norm       0.729820      0.577902\n",
      "15    nihtbx_flanker_uncorrected_norm       0.956723      0.787206\n",
      "16   nihtbx_picvocab_uncorrected_norm       0.983090      0.635243\n",
      "17   nihtbx_cardsort_uncorrected_norm       0.853720      0.733795\n",
      "18  nihtbx_totalcomp_uncorrected_norm       0.784257      0.485335\n",
      "19    nihtbx_reading_uncorrected_norm       0.809246      0.594725\n",
      "Epoch 1, Loss: 58.669, Accuracy: 915.991, Val Loss: 13.532, Val Accuracy: 532.896, Time Model: 52.197, Time Data: 1.361\n",
      "Epochs: 2\n"
     ]
    },
    {
     "name": "stdout",
     "output_type": "stream",
     "text": [
      "10.0\n"
     ]
    },
    {
     "name": "stdout",
     "output_type": "stream",
     "text": [
      "20.0\n"
     ]
    },
    {
     "name": "stdout",
     "output_type": "stream",
     "text": [
      "30.0\n"
     ]
    },
    {
     "name": "stdout",
     "output_type": "stream",
     "text": [
      "40.0\n"
     ]
    },
    {
     "name": "stdout",
     "output_type": "stream",
     "text": [
      "50.0\n"
     ]
    },
    {
     "name": "stdout",
     "output_type": "stream",
     "text": [
      "60.0\n"
     ]
    },
    {
     "name": "stdout",
     "output_type": "stream",
     "text": [
      "70.0\n"
     ]
    },
    {
     "name": "stdout",
     "output_type": "stream",
     "text": [
      "10.0\n"
     ]
    },
    {
     "name": "stdout",
     "output_type": "stream",
     "text": [
      "10.0\n"
     ]
    },
    {
     "name": "stdout",
     "output_type": "stream",
     "text": [
      "                                 name  best_loss_test  best_acc_test\n",
      "0                      race.ethnicity        0.098267       0.778689\n",
      "1                             married        0.080094       0.860656\n",
      "2                        income_group        0.247592       0.245902\n",
      "3                              female        0.089128       0.540984\n",
      "4                     high.educ_group        0.046456       0.926230\n",
      "5                            BMI_norm        0.834193      14.666459\n",
      "6                            age_norm        1.091767      61.070593\n",
      "7                            vol_norm        0.558796       0.560697\n",
      "8                         weight_norm        1.020384     554.995261\n",
      "9                         height_norm        0.837931       8.328931\n",
      "10  nihtbx_fluidcomp_uncorrected_norm        0.764957       0.573765\n",
      "11      nihtbx_cryst_uncorrected_norm        0.996238       0.613183\n",
      "12    nihtbx_pattern_uncorrected_norm        0.717787       0.645979\n",
      "13    nihtbx_picture_uncorrected_norm        0.755024       0.692643\n",
      "14       nihtbx_list_uncorrected_norm        0.797751       0.631693\n",
      "15    nihtbx_flanker_uncorrected_norm        0.794525       0.653748\n",
      "16   nihtbx_picvocab_uncorrected_norm        1.094248       0.707069\n",
      "17   nihtbx_cardsort_uncorrected_norm        0.742195       0.637936\n",
      "18  nihtbx_totalcomp_uncorrected_norm        0.841617       0.520833\n",
      "19    nihtbx_reading_uncorrected_norm        0.796429       0.585306\n",
      "                                 name  best_loss_val  best_acc_val\n",
      "0                      race.ethnicity       0.075916      0.786885\n",
      "1                             married       0.068698      0.819672\n",
      "2                        income_group       0.216811      0.360656\n",
      "3                              female       0.083958      0.491803\n",
      "4                     high.educ_group       0.056688      0.836066\n",
      "5                            BMI_norm       0.622151     10.938424\n",
      "6                            age_norm       1.216869     68.068487\n",
      "7                            vol_norm       0.651421      0.653638\n",
      "8                         weight_norm       0.716809    389.878682\n",
      "9                         height_norm       0.774372      7.697160\n",
      "10  nihtbx_fluidcomp_uncorrected_norm       0.902197      0.676703\n",
      "11      nihtbx_cryst_uncorrected_norm       0.940104      0.578633\n",
      "12    nihtbx_pattern_uncorrected_norm       0.837343      0.753575\n",
      "13    nihtbx_picture_uncorrected_norm       1.011417      0.927852\n",
      "14       nihtbx_list_uncorrected_norm       0.729820      0.577902\n",
      "15    nihtbx_flanker_uncorrected_norm       0.956723      0.787206\n",
      "16   nihtbx_picvocab_uncorrected_norm       0.983090      0.635243\n",
      "17   nihtbx_cardsort_uncorrected_norm       0.853720      0.733795\n",
      "18  nihtbx_totalcomp_uncorrected_norm       0.784257      0.485335\n",
      "19    nihtbx_reading_uncorrected_norm       0.809246      0.594725\n",
      "Epoch 2, Loss: 58.281, Accuracy: 914.792, Val Loss: 13.547, Val Accuracy: 490.250, Time Model: 52.123, Time Data: 1.316\n",
      "Epochs: 3\n"
     ]
    },
    {
     "name": "stdout",
     "output_type": "stream",
     "text": [
      "10.0\n"
     ]
    },
    {
     "name": "stdout",
     "output_type": "stream",
     "text": [
      "20.0\n"
     ]
    },
    {
     "name": "stdout",
     "output_type": "stream",
     "text": [
      "30.0\n"
     ]
    },
    {
     "name": "stdout",
     "output_type": "stream",
     "text": [
      "40.0\n"
     ]
    },
    {
     "name": "stdout",
     "output_type": "stream",
     "text": [
      "50.0\n"
     ]
    },
    {
     "name": "stdout",
     "output_type": "stream",
     "text": [
      "60.0\n"
     ]
    },
    {
     "name": "stdout",
     "output_type": "stream",
     "text": [
      "70.0\n"
     ]
    },
    {
     "name": "stdout",
     "output_type": "stream",
     "text": [
      "10.0\n"
     ]
    },
    {
     "name": "stdout",
     "output_type": "stream",
     "text": [
      "10.0\n"
     ]
    },
    {
     "name": "stdout",
     "output_type": "stream",
     "text": [
      "                                 name  best_loss_test  best_acc_test\n",
      "0                      race.ethnicity        0.089582       0.778689\n",
      "1                             married        0.080094       0.860656\n",
      "2                        income_group        0.245639       0.245902\n",
      "3                              female        0.089128       0.540984\n",
      "4                     high.educ_group        0.043121       0.926230\n",
      "5                            BMI_norm        0.738218      12.979070\n",
      "6                            age_norm        1.091767      61.070593\n",
      "7                            vol_norm        0.558796       0.560697\n",
      "8                         weight_norm        0.905220     492.356814\n",
      "9                         height_norm        0.787980       7.832421\n",
      "10  nihtbx_fluidcomp_uncorrected_norm        0.764376       0.573329\n",
      "11      nihtbx_cryst_uncorrected_norm        0.996238       0.613183\n",
      "12    nihtbx_pattern_uncorrected_norm        0.716238       0.644585\n",
      "13    nihtbx_picture_uncorrected_norm        0.755024       0.692643\n",
      "14       nihtbx_list_uncorrected_norm        0.797751       0.631693\n",
      "15    nihtbx_flanker_uncorrected_norm        0.790801       0.650683\n",
      "16   nihtbx_picvocab_uncorrected_norm        1.094248       0.707069\n",
      "17   nihtbx_cardsort_uncorrected_norm        0.742195       0.637936\n",
      "18  nihtbx_totalcomp_uncorrected_norm        0.841617       0.520833\n",
      "19    nihtbx_reading_uncorrected_norm        0.796429       0.585306\n",
      "                                 name  best_loss_val  best_acc_val\n",
      "0                      race.ethnicity       0.070119      0.786885\n",
      "1                             married       0.068698      0.819672\n",
      "2                        income_group       0.216593      0.360656\n",
      "3                              female       0.083958      0.491803\n",
      "4                     high.educ_group       0.050329      0.836066\n",
      "5                            BMI_norm       0.547144      9.619676\n",
      "6                            age_norm       1.216869     68.068487\n",
      "7                            vol_norm       0.651421      0.653638\n",
      "8                         weight_norm       0.642771    349.608671\n",
      "9                         height_norm       0.748106      7.436075\n",
      "10  nihtbx_fluidcomp_uncorrected_norm       0.901388      0.676097\n",
      "11      nihtbx_cryst_uncorrected_norm       0.940104      0.578633\n",
      "12    nihtbx_pattern_uncorrected_norm       0.834617      0.751121\n",
      "13    nihtbx_picture_uncorrected_norm       1.011417      0.927852\n",
      "14       nihtbx_list_uncorrected_norm       0.729820      0.577902\n",
      "15    nihtbx_flanker_uncorrected_norm       0.944529      0.777173\n",
      "16   nihtbx_picvocab_uncorrected_norm       0.983090      0.635243\n",
      "17   nihtbx_cardsort_uncorrected_norm       0.853720      0.733795\n",
      "18  nihtbx_totalcomp_uncorrected_norm       0.784257      0.485335\n",
      "19    nihtbx_reading_uncorrected_norm       0.809246      0.594725\n",
      "Epoch 3, Loss: 57.837, Accuracy: 881.095, Val Loss: 14.011, Val Accuracy: 446.386, Time Model: 52.044, Time Data: 1.342\n",
      "Epochs: 4\n"
     ]
    },
    {
     "name": "stdout",
     "output_type": "stream",
     "text": [
      "10.0\n"
     ]
    },
    {
     "name": "stdout",
     "output_type": "stream",
     "text": [
      "20.0\n"
     ]
    },
    {
     "name": "stdout",
     "output_type": "stream",
     "text": [
      "30.0\n"
     ]
    },
    {
     "name": "stdout",
     "output_type": "stream",
     "text": [
      "40.0\n"
     ]
    },
    {
     "name": "stdout",
     "output_type": "stream",
     "text": [
      "50.0\n"
     ]
    },
    {
     "name": "stdout",
     "output_type": "stream",
     "text": [
      "60.0\n"
     ]
    },
    {
     "name": "stdout",
     "output_type": "stream",
     "text": [
      "70.0\n"
     ]
    },
    {
     "name": "stdout",
     "output_type": "stream",
     "text": [
      "10.0\n"
     ]
    },
    {
     "name": "stdout",
     "output_type": "stream",
     "text": [
      "10.0\n"
     ]
    },
    {
     "name": "stdout",
     "output_type": "stream",
     "text": [
      "                                 name  best_loss_test  best_acc_test\n",
      "0                      race.ethnicity        0.089582       0.786885\n",
      "1                             married        0.080094       0.860656\n",
      "2                        income_group        0.245639       0.245902\n",
      "3                              female        0.087099       0.540984\n",
      "4                     high.educ_group        0.043121       0.926230\n",
      "5                            BMI_norm        0.738218      12.979070\n",
      "6                            age_norm        1.091767      61.070593\n",
      "7                            vol_norm        0.558796       0.560697\n",
      "8                         weight_norm        0.905220     492.356814\n",
      "9                         height_norm        0.787980       7.832421\n",
      "10  nihtbx_fluidcomp_uncorrected_norm        0.763723       0.572840\n",
      "11      nihtbx_cryst_uncorrected_norm        0.996238       0.613183\n",
      "12    nihtbx_pattern_uncorrected_norm        0.716238       0.644585\n",
      "13    nihtbx_picture_uncorrected_norm        0.755024       0.692643\n",
      "14       nihtbx_list_uncorrected_norm        0.797751       0.631693\n",
      "15    nihtbx_flanker_uncorrected_norm        0.781815       0.643290\n",
      "16   nihtbx_picvocab_uncorrected_norm        1.094248       0.707069\n",
      "17   nihtbx_cardsort_uncorrected_norm        0.775306       0.666396\n",
      "18  nihtbx_totalcomp_uncorrected_norm        0.841617       0.520833\n",
      "19    nihtbx_reading_uncorrected_norm        0.783089       0.575502\n",
      "                                 name  best_loss_val  best_acc_val\n",
      "0                      race.ethnicity       0.070119      0.803279\n",
      "1                             married       0.068698      0.819672\n",
      "2                        income_group       0.216593      0.360656\n",
      "3                              female       0.081192      0.524590\n",
      "4                     high.educ_group       0.050329      0.836066\n",
      "5                            BMI_norm       0.547144      9.619676\n",
      "6                            age_norm       1.216869     68.068487\n",
      "7                            vol_norm       0.651421      0.653638\n",
      "8                         weight_norm       0.642771    349.608671\n",
      "9                         height_norm       0.748106      7.436075\n",
      "10  nihtbx_fluidcomp_uncorrected_norm       0.897041      0.672836\n",
      "11      nihtbx_cryst_uncorrected_norm       0.940104      0.578633\n",
      "12    nihtbx_pattern_uncorrected_norm       0.834617      0.751121\n",
      "13    nihtbx_picture_uncorrected_norm       1.011417      0.927852\n",
      "14       nihtbx_list_uncorrected_norm       0.729820      0.577902\n",
      "15    nihtbx_flanker_uncorrected_norm       0.928356      0.763866\n",
      "16   nihtbx_picvocab_uncorrected_norm       0.983090      0.635243\n",
      "17   nihtbx_cardsort_uncorrected_norm       0.789080      0.678235\n",
      "18  nihtbx_totalcomp_uncorrected_norm       0.784257      0.485335\n",
      "19    nihtbx_reading_uncorrected_norm       0.807829      0.593683\n",
      "Epoch 4, Loss: 57.540, Accuracy: 875.091, Val Loss: 14.496, Val Accuracy: 540.040, Time Model: 52.058, Time Data: 1.344\n",
      "Epochs: 5\n"
     ]
    },
    {
     "name": "stdout",
     "output_type": "stream",
     "text": [
      "10.0\n"
     ]
    },
    {
     "name": "stdout",
     "output_type": "stream",
     "text": [
      "20.0\n"
     ]
    },
    {
     "name": "stdout",
     "output_type": "stream",
     "text": [
      "30.0\n"
     ]
    },
    {
     "name": "stdout",
     "output_type": "stream",
     "text": [
      "40.0\n"
     ]
    },
    {
     "name": "stdout",
     "output_type": "stream",
     "text": [
      "50.0\n"
     ]
    },
    {
     "name": "stdout",
     "output_type": "stream",
     "text": [
      "60.0\n"
     ]
    },
    {
     "name": "stdout",
     "output_type": "stream",
     "text": [
      "70.0\n"
     ]
    },
    {
     "name": "stdout",
     "output_type": "stream",
     "text": [
      "10.0\n"
     ]
    },
    {
     "name": "stdout",
     "output_type": "stream",
     "text": [
      "10.0\n"
     ]
    },
    {
     "name": "stdout",
     "output_type": "stream",
     "text": [
      "                                 name  best_loss_test  best_acc_test\n",
      "0                      race.ethnicity        0.089582       0.786885\n",
      "1                             married        0.080094       0.860656\n",
      "2                        income_group        0.245639       0.245902\n",
      "3                              female        0.087099       0.540984\n",
      "4                     high.educ_group        0.043121       0.926230\n",
      "5                            BMI_norm        0.738218      12.979070\n",
      "6                            age_norm        1.091767      61.070593\n",
      "7                            vol_norm        0.542982       0.544829\n",
      "8                         weight_norm        0.905220     492.356814\n",
      "9                         height_norm        0.787980       7.832421\n",
      "10  nihtbx_fluidcomp_uncorrected_norm        0.763723       0.572840\n",
      "11      nihtbx_cryst_uncorrected_norm        0.996238       0.613183\n",
      "12    nihtbx_pattern_uncorrected_norm        0.716238       0.644585\n",
      "13    nihtbx_picture_uncorrected_norm        0.755024       0.692643\n",
      "14       nihtbx_list_uncorrected_norm        0.818786       0.648349\n",
      "15    nihtbx_flanker_uncorrected_norm        0.781815       0.643290\n",
      "16   nihtbx_picvocab_uncorrected_norm        1.094248       0.707069\n",
      "17   nihtbx_cardsort_uncorrected_norm        0.775306       0.666396\n",
      "18  nihtbx_totalcomp_uncorrected_norm        0.841617       0.520833\n",
      "19    nihtbx_reading_uncorrected_norm        0.783089       0.575502\n",
      "                                 name  best_loss_val  best_acc_val\n",
      "0                      race.ethnicity       0.070119      0.803279\n",
      "1                             married       0.068698      0.819672\n",
      "2                        income_group       0.216593      0.360656\n",
      "3                              female       0.081192      0.524590\n",
      "4                     high.educ_group       0.050329      0.836066\n",
      "5                            BMI_norm       0.547144      9.619676\n",
      "6                            age_norm       1.216869     68.068487\n",
      "7                            vol_norm       0.548429      0.550295\n",
      "8                         weight_norm       0.642771    349.608671\n",
      "9                         height_norm       0.748106      7.436075\n",
      "10  nihtbx_fluidcomp_uncorrected_norm       0.897041      0.672836\n",
      "11      nihtbx_cryst_uncorrected_norm       0.940104      0.578633\n",
      "12    nihtbx_pattern_uncorrected_norm       0.834617      0.751121\n",
      "13    nihtbx_picture_uncorrected_norm       1.011417      0.927852\n",
      "14       nihtbx_list_uncorrected_norm       0.726054      0.574920\n",
      "15    nihtbx_flanker_uncorrected_norm       0.928356      0.763866\n",
      "16   nihtbx_picvocab_uncorrected_norm       0.983090      0.635243\n",
      "17   nihtbx_cardsort_uncorrected_norm       0.789080      0.678235\n",
      "18  nihtbx_totalcomp_uncorrected_norm       0.784257      0.485335\n",
      "19    nihtbx_reading_uncorrected_norm       0.807829      0.593683\n",
      "Epoch 5, Loss: 57.455, Accuracy: 877.204, Val Loss: 19.789, Val Accuracy: 1373.587, Time Model: 52.022, Time Data: 1.332\n",
      "Epochs: 6\n"
     ]
    },
    {
     "name": "stdout",
     "output_type": "stream",
     "text": [
      "10.0\n"
     ]
    },
    {
     "name": "stdout",
     "output_type": "stream",
     "text": [
      "20.0\n"
     ]
    },
    {
     "name": "stdout",
     "output_type": "stream",
     "text": [
      "30.0\n"
     ]
    },
    {
     "name": "stdout",
     "output_type": "stream",
     "text": [
      "40.0\n"
     ]
    },
    {
     "name": "stdout",
     "output_type": "stream",
     "text": [
      "50.0\n"
     ]
    },
    {
     "name": "stdout",
     "output_type": "stream",
     "text": [
      "60.0\n"
     ]
    },
    {
     "name": "stdout",
     "output_type": "stream",
     "text": [
      "70.0\n"
     ]
    },
    {
     "name": "stdout",
     "output_type": "stream",
     "text": [
      "10.0\n"
     ]
    },
    {
     "name": "stdout",
     "output_type": "stream",
     "text": [
      "10.0\n"
     ]
    },
    {
     "name": "stdout",
     "output_type": "stream",
     "text": [
      "                                 name  best_loss_test  best_acc_test\n",
      "0                      race.ethnicity        0.089582       0.786885\n",
      "1                             married        0.080094       0.860656\n",
      "2                        income_group        0.245639       0.245902\n",
      "3                              female        0.087099       0.540984\n",
      "4                     high.educ_group        0.043121       0.926230\n",
      "5                            BMI_norm        0.738218      12.979070\n",
      "6                            age_norm        1.091767      61.070593\n",
      "7                            vol_norm        0.329701       0.330823\n",
      "8                         weight_norm        0.905220     492.356814\n",
      "9                         height_norm        0.787980       7.832421\n",
      "10  nihtbx_fluidcomp_uncorrected_norm        0.763723       0.572840\n",
      "11      nihtbx_cryst_uncorrected_norm        0.996238       0.613183\n",
      "12    nihtbx_pattern_uncorrected_norm        0.716238       0.644585\n",
      "13    nihtbx_picture_uncorrected_norm        0.755024       0.692643\n",
      "14       nihtbx_list_uncorrected_norm        0.818786       0.648349\n",
      "15    nihtbx_flanker_uncorrected_norm        0.786879       0.647456\n",
      "16   nihtbx_picvocab_uncorrected_norm        1.094248       0.707069\n",
      "17   nihtbx_cardsort_uncorrected_norm        0.775306       0.666396\n",
      "18  nihtbx_totalcomp_uncorrected_norm        0.841617       0.520833\n",
      "19    nihtbx_reading_uncorrected_norm        0.783089       0.575502\n",
      "                                 name  best_loss_val  best_acc_val\n",
      "0                      race.ethnicity       0.070119      0.803279\n",
      "1                             married       0.068698      0.819672\n",
      "2                        income_group       0.216593      0.360656\n",
      "3                              female       0.081192      0.524590\n",
      "4                     high.educ_group       0.050329      0.836066\n",
      "5                            BMI_norm       0.547144      9.619676\n",
      "6                            age_norm       1.216869     68.068487\n",
      "7                            vol_norm       0.365675      0.366919\n",
      "8                         weight_norm       0.642771    349.608671\n",
      "9                         height_norm       0.748106      7.436075\n",
      "10  nihtbx_fluidcomp_uncorrected_norm       0.897041      0.672836\n",
      "11      nihtbx_cryst_uncorrected_norm       0.940104      0.578633\n",
      "12    nihtbx_pattern_uncorrected_norm       0.834617      0.751121\n",
      "13    nihtbx_picture_uncorrected_norm       1.011417      0.927852\n",
      "14       nihtbx_list_uncorrected_norm       0.726054      0.574920\n",
      "15    nihtbx_flanker_uncorrected_norm       0.927725      0.763346\n",
      "16   nihtbx_picvocab_uncorrected_norm       0.983090      0.635243\n",
      "17   nihtbx_cardsort_uncorrected_norm       0.789080      0.678235\n",
      "18  nihtbx_totalcomp_uncorrected_norm       0.784257      0.485335\n",
      "19    nihtbx_reading_uncorrected_norm       0.807829      0.593683\n",
      "Epoch 6, Loss: 57.142, Accuracy: 858.875, Val Loss: 61.524, Val Accuracy: 7607.169, Time Model: 52.117, Time Data: 1.299\n",
      "Epochs: 7\n"
     ]
    },
    {
     "name": "stdout",
     "output_type": "stream",
     "text": [
      "10.0\n"
     ]
    },
    {
     "name": "stdout",
     "output_type": "stream",
     "text": [
      "20.0\n"
     ]
    },
    {
     "name": "stdout",
     "output_type": "stream",
     "text": [
      "30.0\n"
     ]
    },
    {
     "name": "stdout",
     "output_type": "stream",
     "text": [
      "40.0\n"
     ]
    },
    {
     "name": "stdout",
     "output_type": "stream",
     "text": [
      "50.0\n"
     ]
    },
    {
     "name": "stdout",
     "output_type": "stream",
     "text": [
      "60.0\n"
     ]
    },
    {
     "name": "stdout",
     "output_type": "stream",
     "text": [
      "70.0\n"
     ]
    },
    {
     "name": "stdout",
     "output_type": "stream",
     "text": [
      "10.0\n"
     ]
    },
    {
     "name": "stdout",
     "output_type": "stream",
     "text": [
      "10.0\n"
     ]
    },
    {
     "name": "stdout",
     "output_type": "stream",
     "text": [
      "                                 name  best_loss_test  best_acc_test\n",
      "0                      race.ethnicity        0.089582       0.786885\n",
      "1                             married        0.080094       0.860656\n",
      "2                        income_group        0.245639       0.245902\n",
      "3                              female        0.087099       0.540984\n",
      "4                     high.educ_group        0.043121       0.926230\n",
      "5                            BMI_norm        0.738218      12.979070\n",
      "6                            age_norm        1.091767      61.070593\n",
      "7                            vol_norm        0.329701       0.330823\n",
      "8                         weight_norm        0.905220     492.356814\n",
      "9                         height_norm        0.787980       7.832421\n",
      "10  nihtbx_fluidcomp_uncorrected_norm        0.771706       0.578827\n",
      "11      nihtbx_cryst_uncorrected_norm        0.996238       0.613183\n",
      "12    nihtbx_pattern_uncorrected_norm        0.716238       0.644585\n",
      "13    nihtbx_picture_uncorrected_norm        0.755024       0.692643\n",
      "14       nihtbx_list_uncorrected_norm        0.818786       0.648349\n",
      "15    nihtbx_flanker_uncorrected_norm        0.786879       0.647456\n",
      "16   nihtbx_picvocab_uncorrected_norm        1.094248       0.707069\n",
      "17   nihtbx_cardsort_uncorrected_norm        0.775306       0.666396\n",
      "18  nihtbx_totalcomp_uncorrected_norm        0.841617       0.520833\n",
      "19    nihtbx_reading_uncorrected_norm        0.783089       0.575502\n",
      "                                 name  best_loss_val  best_acc_val\n",
      "0                      race.ethnicity       0.070119      0.803279\n",
      "1                             married       0.068698      0.819672\n",
      "2                        income_group       0.216593      0.360656\n",
      "3                              female       0.081192      0.524590\n",
      "4                     high.educ_group       0.050329      0.836066\n",
      "5                            BMI_norm       0.547144      9.619676\n",
      "6                            age_norm       1.216869     68.068487\n",
      "7                            vol_norm       0.365675      0.366919\n",
      "8                         weight_norm       0.642771    349.608671\n",
      "9                         height_norm       0.748106      7.436075\n",
      "10  nihtbx_fluidcomp_uncorrected_norm       0.872776      0.654636\n",
      "11      nihtbx_cryst_uncorrected_norm       0.940104      0.578633\n",
      "12    nihtbx_pattern_uncorrected_norm       0.834617      0.751121\n",
      "13    nihtbx_picture_uncorrected_norm       1.011417      0.927852\n",
      "14       nihtbx_list_uncorrected_norm       0.726054      0.574920\n",
      "15    nihtbx_flanker_uncorrected_norm       0.927725      0.763346\n",
      "16   nihtbx_picvocab_uncorrected_norm       0.983090      0.635243\n",
      "17   nihtbx_cardsort_uncorrected_norm       0.789080      0.678235\n",
      "18  nihtbx_totalcomp_uncorrected_norm       0.784257      0.485335\n",
      "19    nihtbx_reading_uncorrected_norm       0.807829      0.593683\n",
      "Epoch 7, Loss: 56.936, Accuracy: 865.214, Val Loss: 23.519, Val Accuracy: 1478.372, Time Model: 51.970, Time Data: 1.247\n",
      "Epochs: 8\n"
     ]
    },
    {
     "name": "stdout",
     "output_type": "stream",
     "text": [
      "10.0\n"
     ]
    },
    {
     "name": "stdout",
     "output_type": "stream",
     "text": [
      "20.0\n"
     ]
    },
    {
     "name": "stdout",
     "output_type": "stream",
     "text": [
      "30.0\n"
     ]
    },
    {
     "name": "stdout",
     "output_type": "stream",
     "text": [
      "40.0\n"
     ]
    },
    {
     "name": "stdout",
     "output_type": "stream",
     "text": [
      "50.0\n"
     ]
    },
    {
     "name": "stdout",
     "output_type": "stream",
     "text": [
      "60.0\n"
     ]
    },
    {
     "name": "stdout",
     "output_type": "stream",
     "text": [
      "70.0\n"
     ]
    },
    {
     "name": "stdout",
     "output_type": "stream",
     "text": [
      "10.0\n"
     ]
    },
    {
     "name": "stdout",
     "output_type": "stream",
     "text": [
      "10.0\n"
     ]
    },
    {
     "name": "stdout",
     "output_type": "stream",
     "text": [
      "                                 name  best_loss_test  best_acc_test\n",
      "0                      race.ethnicity        0.089582       0.786885\n",
      "1                             married        0.080094       0.860656\n",
      "2                        income_group        0.245639       0.245902\n",
      "3                              female        0.087099       0.540984\n",
      "4                     high.educ_group        0.043121       0.926230\n",
      "5                            BMI_norm        0.244044       4.290680\n",
      "6                            age_norm        1.091767      61.070593\n",
      "7                            vol_norm        0.329701       0.330823\n",
      "8                         weight_norm        0.905220     492.356814\n",
      "9                         height_norm        0.787980       7.832421\n",
      "10  nihtbx_fluidcomp_uncorrected_norm        0.771706       0.578827\n",
      "11      nihtbx_cryst_uncorrected_norm        0.996238       0.613183\n",
      "12    nihtbx_pattern_uncorrected_norm        0.716238       0.644585\n",
      "13    nihtbx_picture_uncorrected_norm        0.755024       0.692643\n",
      "14       nihtbx_list_uncorrected_norm        0.818786       0.648349\n",
      "15    nihtbx_flanker_uncorrected_norm        0.786879       0.647456\n",
      "16   nihtbx_picvocab_uncorrected_norm        1.094248       0.707069\n",
      "17   nihtbx_cardsort_uncorrected_norm        0.775306       0.666396\n",
      "18  nihtbx_totalcomp_uncorrected_norm        0.841617       0.520833\n",
      "19    nihtbx_reading_uncorrected_norm        0.783089       0.575502\n",
      "                                 name  best_loss_val  best_acc_val\n",
      "0                      race.ethnicity       0.070119      0.803279\n",
      "1                             married       0.068698      0.819672\n",
      "2                        income_group       0.216593      0.360656\n",
      "3                              female       0.081192      0.524590\n",
      "4                     high.educ_group       0.050329      0.836066\n",
      "5                            BMI_norm       0.164127      2.885609\n",
      "6                            age_norm       1.216869     68.068487\n",
      "7                            vol_norm       0.365675      0.366919\n",
      "8                         weight_norm       0.642771    349.608671\n",
      "9                         height_norm       0.748106      7.436075\n",
      "10  nihtbx_fluidcomp_uncorrected_norm       0.872776      0.654636\n",
      "11      nihtbx_cryst_uncorrected_norm       0.940104      0.578633\n",
      "12    nihtbx_pattern_uncorrected_norm       0.834617      0.751121\n",
      "13    nihtbx_picture_uncorrected_norm       1.011417      0.927852\n",
      "14       nihtbx_list_uncorrected_norm       0.726054      0.574920\n",
      "15    nihtbx_flanker_uncorrected_norm       0.927725      0.763346\n",
      "16   nihtbx_picvocab_uncorrected_norm       0.983090      0.635243\n",
      "17   nihtbx_cardsort_uncorrected_norm       0.789080      0.678235\n",
      "18  nihtbx_totalcomp_uncorrected_norm       0.784257      0.485335\n",
      "19    nihtbx_reading_uncorrected_norm       0.807829      0.593683\n",
      "Epoch 8, Loss: 56.492, Accuracy: 836.357, Val Loss: 43.329, Val Accuracy: 1865.357, Time Model: 51.915, Time Data: 1.328\n",
      "Epochs: 9\n"
     ]
    },
    {
     "name": "stdout",
     "output_type": "stream",
     "text": [
      "10.0\n"
     ]
    },
    {
     "name": "stdout",
     "output_type": "stream",
     "text": [
      "20.0\n"
     ]
    },
    {
     "name": "stdout",
     "output_type": "stream",
     "text": [
      "30.0\n"
     ]
    },
    {
     "name": "stdout",
     "output_type": "stream",
     "text": [
      "40.0\n"
     ]
    },
    {
     "name": "stdout",
     "output_type": "stream",
     "text": [
      "50.0\n"
     ]
    },
    {
     "name": "stdout",
     "output_type": "stream",
     "text": [
      "60.0\n"
     ]
    },
    {
     "name": "stdout",
     "output_type": "stream",
     "text": [
      "70.0\n"
     ]
    },
    {
     "name": "stdout",
     "output_type": "stream",
     "text": [
      "10.0\n"
     ]
    },
    {
     "name": "stdout",
     "output_type": "stream",
     "text": [
      "10.0\n"
     ]
    },
    {
     "name": "stdout",
     "output_type": "stream",
     "text": [
      "                                 name  best_loss_test  best_acc_test\n",
      "0                      race.ethnicity        0.089582       0.786885\n",
      "1                             married        0.080094       0.860656\n",
      "2                        income_group        0.245639       0.245902\n",
      "3                              female        0.087099       0.540984\n",
      "4                     high.educ_group        0.043121       0.926230\n",
      "5                            BMI_norm        0.244044       4.290680\n",
      "6                            age_norm        1.091767      61.070593\n",
      "7                            vol_norm        0.329701       0.330823\n",
      "8                         weight_norm        0.905220     492.356814\n",
      "9                         height_norm        0.787980       7.832421\n",
      "10  nihtbx_fluidcomp_uncorrected_norm        0.771706       0.578827\n",
      "11      nihtbx_cryst_uncorrected_norm        0.996238       0.613183\n",
      "12    nihtbx_pattern_uncorrected_norm        0.716238       0.644585\n",
      "13    nihtbx_picture_uncorrected_norm        0.755024       0.692643\n",
      "14       nihtbx_list_uncorrected_norm        0.818786       0.648349\n",
      "15    nihtbx_flanker_uncorrected_norm        0.786879       0.647456\n",
      "16   nihtbx_picvocab_uncorrected_norm        1.094248       0.707069\n",
      "17   nihtbx_cardsort_uncorrected_norm        0.775306       0.666396\n",
      "18  nihtbx_totalcomp_uncorrected_norm        0.841617       0.520833\n",
      "19    nihtbx_reading_uncorrected_norm        0.783089       0.575502\n",
      "                                 name  best_loss_val  best_acc_val\n",
      "0                      race.ethnicity       0.070119      0.803279\n",
      "1                             married       0.068698      0.819672\n",
      "2                        income_group       0.216593      0.360656\n",
      "3                              female       0.081192      0.524590\n",
      "4                     high.educ_group       0.050329      0.836066\n",
      "5                            BMI_norm       0.164127      2.885609\n",
      "6                            age_norm       1.216869     68.068487\n",
      "7                            vol_norm       0.365675      0.366919\n",
      "8                         weight_norm       0.642771    349.608671\n",
      "9                         height_norm       0.748106      7.436075\n",
      "10  nihtbx_fluidcomp_uncorrected_norm       0.872776      0.654636\n",
      "11      nihtbx_cryst_uncorrected_norm       0.940104      0.578633\n",
      "12    nihtbx_pattern_uncorrected_norm       0.834617      0.751121\n",
      "13    nihtbx_picture_uncorrected_norm       1.011417      0.927852\n",
      "14       nihtbx_list_uncorrected_norm       0.726054      0.574920\n",
      "15    nihtbx_flanker_uncorrected_norm       0.927725      0.763346\n",
      "16   nihtbx_picvocab_uncorrected_norm       0.983090      0.635243\n",
      "17   nihtbx_cardsort_uncorrected_norm       0.789080      0.678235\n",
      "18  nihtbx_totalcomp_uncorrected_norm       0.784257      0.485335\n",
      "19    nihtbx_reading_uncorrected_norm       0.807829      0.593683\n",
      "Epoch 9, Loss: 56.663, Accuracy: 847.794, Val Loss: 208.413, Val Accuracy: 18221.926, Time Model: 52.032, Time Data: 1.300\n",
      "Epochs: 10\n"
     ]
    },
    {
     "name": "stdout",
     "output_type": "stream",
     "text": [
      "10.0\n"
     ]
    },
    {
     "name": "stdout",
     "output_type": "stream",
     "text": [
      "20.0\n"
     ]
    },
    {
     "name": "stdout",
     "output_type": "stream",
     "text": [
      "30.0\n"
     ]
    },
    {
     "name": "stdout",
     "output_type": "stream",
     "text": [
      "40.0\n"
     ]
    },
    {
     "name": "stdout",
     "output_type": "stream",
     "text": [
      "50.0\n"
     ]
    },
    {
     "name": "stdout",
     "output_type": "stream",
     "text": [
      "60.0\n"
     ]
    },
    {
     "name": "stdout",
     "output_type": "stream",
     "text": [
      "70.0\n"
     ]
    },
    {
     "name": "stdout",
     "output_type": "stream",
     "text": [
      "10.0\n"
     ]
    },
    {
     "name": "stdout",
     "output_type": "stream",
     "text": [
      "10.0\n"
     ]
    },
    {
     "name": "stdout",
     "output_type": "stream",
     "text": [
      "                                 name  best_loss_test  best_acc_test\n",
      "0                      race.ethnicity        0.089582       0.786885\n",
      "1                             married        0.080094       0.860656\n",
      "2                        income_group        0.245639       0.245902\n",
      "3                              female        0.087099       0.540984\n",
      "4                     high.educ_group        0.043121       0.926230\n",
      "5                            BMI_norm        0.244044       4.290680\n",
      "6                            age_norm        1.091767      61.070593\n",
      "7                            vol_norm        0.329701       0.330823\n",
      "8                         weight_norm        0.905220     492.356814\n",
      "9                         height_norm        0.787980       7.832421\n",
      "10  nihtbx_fluidcomp_uncorrected_norm        0.771706       0.578827\n",
      "11      nihtbx_cryst_uncorrected_norm        0.996238       0.613183\n",
      "12    nihtbx_pattern_uncorrected_norm        0.716238       0.644585\n",
      "13    nihtbx_picture_uncorrected_norm        0.755024       0.692643\n",
      "14       nihtbx_list_uncorrected_norm        0.818786       0.648349\n",
      "15    nihtbx_flanker_uncorrected_norm        0.786879       0.647456\n",
      "16   nihtbx_picvocab_uncorrected_norm        1.094248       0.707069\n",
      "17   nihtbx_cardsort_uncorrected_norm        0.775306       0.666396\n",
      "18  nihtbx_totalcomp_uncorrected_norm        0.841617       0.520833\n",
      "19    nihtbx_reading_uncorrected_norm        0.783089       0.575502\n",
      "                                 name  best_loss_val  best_acc_val\n",
      "0                      race.ethnicity       0.070119      0.803279\n",
      "1                             married       0.068698      0.819672\n",
      "2                        income_group       0.216593      0.360656\n",
      "3                              female       0.081192      0.524590\n",
      "4                     high.educ_group       0.050329      0.836066\n",
      "5                            BMI_norm       0.164127      2.885609\n",
      "6                            age_norm       1.216869     68.068487\n",
      "7                            vol_norm       0.365675      0.366919\n",
      "8                         weight_norm       0.642771    349.608671\n",
      "9                         height_norm       0.748106      7.436075\n",
      "10  nihtbx_fluidcomp_uncorrected_norm       0.872776      0.654636\n",
      "11      nihtbx_cryst_uncorrected_norm       0.940104      0.578633\n",
      "12    nihtbx_pattern_uncorrected_norm       0.834617      0.751121\n",
      "13    nihtbx_picture_uncorrected_norm       1.011417      0.927852\n",
      "14       nihtbx_list_uncorrected_norm       0.726054      0.574920\n",
      "15    nihtbx_flanker_uncorrected_norm       0.927725      0.763346\n",
      "16   nihtbx_picvocab_uncorrected_norm       0.983090      0.635243\n",
      "17   nihtbx_cardsort_uncorrected_norm       0.789080      0.678235\n",
      "18  nihtbx_totalcomp_uncorrected_norm       0.784257      0.485335\n",
      "19    nihtbx_reading_uncorrected_norm       0.807829      0.593683\n",
      "Epoch 10, Loss: 56.338, Accuracy: 827.546, Val Loss: 41.384, Val Accuracy: 2768.817, Time Model: 52.001, Time Data: 1.302\n",
      "Learning rate: <tf.Variable 'Adam/learning_rate:0' shape=() dtype=float32, numpy=0.00033333336>\n",
      "Epochs: 11\n"
     ]
    },
    {
     "name": "stdout",
     "output_type": "stream",
     "text": [
      "10.0\n"
     ]
    },
    {
     "name": "stdout",
     "output_type": "stream",
     "text": [
      "20.0\n"
     ]
    },
    {
     "name": "stdout",
     "output_type": "stream",
     "text": [
      "30.0\n"
     ]
    },
    {
     "name": "stdout",
     "output_type": "stream",
     "text": [
      "40.0\n"
     ]
    },
    {
     "name": "stdout",
     "output_type": "stream",
     "text": [
      "50.0\n"
     ]
    },
    {
     "name": "stdout",
     "output_type": "stream",
     "text": [
      "60.0\n"
     ]
    },
    {
     "name": "stdout",
     "output_type": "stream",
     "text": [
      "70.0\n"
     ]
    },
    {
     "name": "stdout",
     "output_type": "stream",
     "text": [
      "10.0\n"
     ]
    },
    {
     "name": "stdout",
     "output_type": "stream",
     "text": [
      "10.0\n"
     ]
    },
    {
     "name": "stdout",
     "output_type": "stream",
     "text": [
      "                                 name  best_loss_test  best_acc_test\n",
      "0                      race.ethnicity        0.089582       0.786885\n",
      "1                             married        0.080094       0.860656\n",
      "2                        income_group        0.245639       0.245902\n",
      "3                              female        0.071240       0.704918\n",
      "4                     high.educ_group        0.043121       0.926230\n",
      "5                            BMI_norm        0.244044       4.290680\n",
      "6                            age_norm        1.091767      61.070593\n",
      "7                            vol_norm        0.329701       0.330823\n",
      "8                         weight_norm        0.429399     233.553887\n",
      "9                         height_norm        0.787980       7.832421\n",
      "10  nihtbx_fluidcomp_uncorrected_norm        0.771706       0.578827\n",
      "11      nihtbx_cryst_uncorrected_norm        0.996238       0.613183\n",
      "12    nihtbx_pattern_uncorrected_norm        0.716238       0.644585\n",
      "13    nihtbx_picture_uncorrected_norm        0.755024       0.692643\n",
      "14       nihtbx_list_uncorrected_norm        0.818786       0.648349\n",
      "15    nihtbx_flanker_uncorrected_norm        0.786879       0.647456\n",
      "16   nihtbx_picvocab_uncorrected_norm        1.094248       0.707069\n",
      "17   nihtbx_cardsort_uncorrected_norm        0.775306       0.666396\n",
      "18  nihtbx_totalcomp_uncorrected_norm        0.841617       0.520833\n",
      "19    nihtbx_reading_uncorrected_norm        0.783089       0.575502\n",
      "                                 name  best_loss_val  best_acc_val\n",
      "0                      race.ethnicity       0.070119      0.803279\n",
      "1                             married       0.068698      0.819672\n",
      "2                        income_group       0.216593      0.360656\n",
      "3                              female       0.063055      0.680328\n",
      "4                     high.educ_group       0.050329      0.836066\n",
      "5                            BMI_norm       0.164127      2.885609\n",
      "6                            age_norm       1.216869     68.068487\n",
      "7                            vol_norm       0.365675      0.366919\n",
      "8                         weight_norm       0.455705    247.861840\n",
      "9                         height_norm       0.748106      7.436075\n",
      "10  nihtbx_fluidcomp_uncorrected_norm       0.872776      0.654636\n",
      "11      nihtbx_cryst_uncorrected_norm       0.940104      0.578633\n",
      "12    nihtbx_pattern_uncorrected_norm       0.834617      0.751121\n",
      "13    nihtbx_picture_uncorrected_norm       1.011417      0.927852\n",
      "14       nihtbx_list_uncorrected_norm       0.726054      0.574920\n",
      "15    nihtbx_flanker_uncorrected_norm       0.927725      0.763346\n",
      "16   nihtbx_picvocab_uncorrected_norm       0.983090      0.635243\n",
      "17   nihtbx_cardsort_uncorrected_norm       0.789080      0.678235\n",
      "18  nihtbx_totalcomp_uncorrected_norm       0.784257      0.485335\n",
      "19    nihtbx_reading_uncorrected_norm       0.807829      0.593683\n",
      "Epoch 11, Loss: 55.036, Accuracy: 779.902, Val Loss: 32.082, Val Accuracy: 699.876, Time Model: 52.052, Time Data: 1.311\n"
     ]
    }
   ],
   "source": [
    "decoder = np.vectorize(lambda x: x.decode('UTF-8'))\n",
    "template = 'Epoch {0}, Loss: {1:.3f}, Accuracy: {2:.3f}, Val Loss: {3:.3f}, Val Accuracy: {4:.3f}, Time Model: {5:.3f}, Time Data: {6:.3f}'\n",
    "for col in [0]:\n",
    "  log_textfile(path_output + modelname + 'multitask_test' + '.log', cat_cols),\n",
    "  log_textfile(path_output + modelname + 'multitask_test' + '.log', num_cols)\n",
    "  loss_object = tf.keras.losses.SparseCategoricalCrossentropy()\n",
    "  optimizer = tf.keras.optimizers.Adam(lr = 0.001)\n",
    "  model = Model(cat_cols, num_cols)\n",
    "  df_best = None\n",
    "  for e in range(20):\n",
    "    log_textfile(path_output + modelname + 'multitask_test' + '.log', 'Epochs: ' + str(e))\n",
    "    loss = tf.Variable(0.)\n",
    "    acc = tf.Variable(0.) \n",
    "    val_loss = tf.Variable(0.)\n",
    "    val_acc = tf.Variable(0.)\n",
    "    test_loss = tf.Variable(0.)\n",
    "    test_acc = tf.Variable(0.)\n",
    "    tf.keras.backend.set_learning_phase(True)\n",
    "    train_out_loss, train_out_acc, n, time_model, time_data = epoch(train_iter, train_df, model, optimizer, cat_cols, num_cols, norm_dict)\n",
    "    tf.keras.backend.set_learning_phase(False)\n",
    "    val_out_loss, val_out_acc, n, _, _ = epoch(val_iter, val_df, model, None, cat_cols, num_cols, norm_dict)\n",
    "    test_out_loss, test_out_acc, n, _, _ = epoch(test_iter, test_df, model, None, cat_cols, num_cols, norm_dict)\n",
    "    loss, acc, _ = format_output(train_out_loss, train_out_acc, n, list(cat_cols.keys())+num_cols)\n",
    "    val_loss, val_acc, df_val = format_output(val_out_loss, val_out_acc, n, list(cat_cols.keys())+num_cols, print_bl=False)\n",
    "    test_loss, test_acc, df_test = format_output(test_out_loss, test_out_acc, n, list(cat_cols.keys())+num_cols, print_bl=False)\n",
    "    df_val.columns = ['name', 'cur_loss_val', 'cur_acc_val']\n",
    "    df_test.columns = ['name', 'cur_loss_test', 'cur_acc_test']\n",
    "    if e == 0:\n",
    "      df_best = pd.merge(df_test, df_val, how='left', left_on='name', right_on='name')\n",
    "      df_best.columns = ['name', 'best_loss_test', 'best_acc_test', 'best_loss_val', 'best_acc_val']\n",
    "    df_best = best_val(df_best, df_val, df_test)\n",
    "    print(df_best[['name', 'best_loss_test', 'best_acc_test']])\n",
    "    print(df_best[['name', 'best_loss_val', 'best_acc_val']])\n",
    "    log_textfile(path_output +  modelname + 'multitask_test' + '.log', template.format(e, loss, acc, val_loss, val_acc, time_model, time_data))\n",
    "    if list(np.asarray(df_test.loc[df_test['name']=='female','cur_acc_test'].values)>0.70)[0]:\n",
    "      break\n",
    "    if e in [10, 15]:\n",
    "      optimizer.lr = optimizer.lr/3\n",
    "      log_textfile(path_output +  modelname + 'multitask_test' + '.log', 'Learning rate: ' + str(optimizer.lr))\n",
    "    df_best.to_csv(path_output +  modelname + 'multitask_test' + '.csv')"
   ]
  },
  {
   "cell_type": "code",
   "execution_count": 13,
   "metadata": {
    "papermill": {
     "duration": 0.117878,
     "end_time": "2019-11-15T20:55:47.795136",
     "exception": false,
     "start_time": "2019-11-15T20:55:47.677258",
     "status": "completed"
    },
    "tags": []
   },
   "outputs": [],
   "source": [
    "test_loss, test_acc, df_test = format_output(test_out_loss, test_out_acc, n, list(cat_cols.keys())+num_cols, print_bl=False)"
   ]
  },
  {
   "cell_type": "code",
   "execution_count": 14,
   "metadata": {
    "papermill": {
     "duration": 0.09333,
     "end_time": "2019-11-15T20:55:47.941230",
     "exception": false,
     "start_time": "2019-11-15T20:55:47.847900",
     "status": "completed"
    },
    "tags": []
   },
   "outputs": [],
   "source": [
    "df_test.to_csv('final_output.csv')"
   ]
  },
  {
   "cell_type": "code",
   "execution_count": 15,
   "metadata": {
    "papermill": {
     "duration": 2.221669,
     "end_time": "2019-11-15T20:55:50.215735",
     "exception": false,
     "start_time": "2019-11-15T20:55:47.994066",
     "status": "completed"
    },
    "tags": []
   },
   "outputs": [],
   "source": [
    "inputs = tf.keras.Input(shape=(64,64,64,2), name='inputlayer123')\n",
    "a = model(inputs)['female']\n",
    "mm = tf.keras.models.Model(inputs=inputs, outputs=a)"
   ]
  },
  {
   "cell_type": "code",
   "execution_count": 16,
   "metadata": {
    "papermill": {
     "duration": 155.942347,
     "end_time": "2019-11-15T20:58:26.214441",
     "exception": false,
     "start_time": "2019-11-15T20:55:50.272094",
     "status": "completed"
    },
    "tags": []
   },
   "outputs": [
    {
     "name": "stdout",
     "output_type": "stream",
     "text": [
      "1\n"
     ]
    },
    {
     "name": "stdout",
     "output_type": "stream",
     "text": [
      "2\n"
     ]
    },
    {
     "name": "stdout",
     "output_type": "stream",
     "text": [
      "3\n"
     ]
    },
    {
     "name": "stdout",
     "output_type": "stream",
     "text": [
      "4\n"
     ]
    },
    {
     "name": "stdout",
     "output_type": "stream",
     "text": [
      "5\n"
     ]
    },
    {
     "name": "stdout",
     "output_type": "stream",
     "text": [
      "6\n"
     ]
    },
    {
     "name": "stdout",
     "output_type": "stream",
     "text": [
      "7\n"
     ]
    },
    {
     "name": "stdout",
     "output_type": "stream",
     "text": [
      "8\n"
     ]
    },
    {
     "name": "stdout",
     "output_type": "stream",
     "text": [
      "9\n"
     ]
    },
    {
     "name": "stdout",
     "output_type": "stream",
     "text": [
      "10\n"
     ]
    },
    {
     "name": "stdout",
     "output_type": "stream",
     "text": [
      "11\n"
     ]
    },
    {
     "name": "stdout",
     "output_type": "stream",
     "text": [
      "12\n"
     ]
    },
    {
     "name": "stdout",
     "output_type": "stream",
     "text": [
      "13\n"
     ]
    },
    {
     "name": "stdout",
     "output_type": "stream",
     "text": [
      "14\n"
     ]
    },
    {
     "name": "stdout",
     "output_type": "stream",
     "text": [
      "15\n"
     ]
    },
    {
     "name": "stdout",
     "output_type": "stream",
     "text": [
      "16\n"
     ]
    }
   ],
   "source": [
    "from tf_explain.core.smoothgrad import SmoothGrad\n",
    "import pickle\n",
    "\n",
    "explainer = SmoothGrad()\n",
    "output_grid = {}\n",
    "output_n = {}\n",
    "for i in range(2):\n",
    "  output_grid[i] = np.zeros((64,64,64))\n",
    "  output_n[i] = 0\n",
    "counter = 0\n",
    "for batch in test_iter:\n",
    "  counter+=1\n",
    "  print(counter)\n",
    "  t1 = (tf.cast(batch['t1'], tf.float32)-t1_mean)/t1_std\n",
    "  t2 = (batch['t2']-t2_mean)/t2_std\n",
    "  X = tf.concat([t1, t2], axis=4)\n",
    "  subjectid = decoder(batch['subjectid'])\n",
    "  y = get_labels(test_df, subjectid, list(cat_cols.keys())+num_cols)\n",
    "  y_list = list(y['female'])\n",
    "  for i in range(X.shape[0]):\n",
    "    X_i = X[i]\n",
    "    X_i = tf.expand_dims(X_i, axis=0)\n",
    "    y_i = y_list[i]\n",
    "    grid = explainer.explain((X_i, _), mm, y_i, 20, 1.)\n",
    "    output_grid[y_i] += grid\n",
    "    output_n[y_i] += 1"
   ]
  },
  {
   "cell_type": "code",
   "execution_count": 17,
   "metadata": {
    "papermill": {
     "duration": 0.133521,
     "end_time": "2019-11-15T20:58:26.409609",
     "exception": false,
     "start_time": "2019-11-15T20:58:26.276088",
     "status": "completed"
    },
    "tags": []
   },
   "outputs": [],
   "source": [
    "pickle.dump([output_grid, output_n], open( \"smoothgrad_female.p\", \"wb\" ) )"
   ]
  },
  {
   "cell_type": "code",
   "execution_count": 18,
   "metadata": {
    "papermill": {
     "duration": 0.106042,
     "end_time": "2019-11-15T20:58:26.580365",
     "exception": false,
     "start_time": "2019-11-15T20:58:26.474323",
     "status": "completed"
    },
    "tags": []
   },
   "outputs": [],
   "source": [
    "#output_grid, output_n = pickle.load(open( \"smoothgrad_female.p\", \"rb\" ))"
   ]
  },
  {
   "cell_type": "code",
   "execution_count": 19,
   "metadata": {
    "papermill": {
     "duration": 0.105101,
     "end_time": "2019-11-15T20:58:26.746150",
     "exception": false,
     "start_time": "2019-11-15T20:58:26.641049",
     "status": "completed"
    },
    "tags": []
   },
   "outputs": [],
   "source": [
    "def apply_grey_patch(image, top_left_x, top_left_y, top_left_z, patch_size):\n",
    "    \"\"\"\n",
    "    Replace a part of the image with a grey patch.\n",
    "    Args:\n",
    "        image (numpy.ndarray): Input image\n",
    "        top_left_x (int): Top Left X position of the applied box\n",
    "        top_left_y (int): Top Left Y position of the applied box\n",
    "        patch_size (int): Size of patch to apply\n",
    "    Returns:\n",
    "        numpy.ndarray: Patched image\n",
    "    \"\"\"\n",
    "    patched_image = np.array(image, copy=True)\n",
    "    patched_image[\n",
    "        top_left_x : top_left_x + patch_size, top_left_y : top_left_y + patch_size, top_left_z : top_left_z + patch_size, :\n",
    "    ] = 0\n",
    "\n",
    "    return patched_image"
   ]
  },
  {
   "cell_type": "code",
   "execution_count": 20,
   "metadata": {
    "papermill": {
     "duration": 0.105476,
     "end_time": "2019-11-15T20:58:26.915699",
     "exception": false,
     "start_time": "2019-11-15T20:58:26.810223",
     "status": "completed"
    },
    "tags": []
   },
   "outputs": [],
   "source": [
    "import math"
   ]
  },
  {
   "cell_type": "code",
   "execution_count": 21,
   "metadata": {
    "papermill": {
     "duration": 0.113084,
     "end_time": "2019-11-15T20:58:27.090193",
     "exception": false,
     "start_time": "2019-11-15T20:58:26.977109",
     "status": "completed"
    },
    "tags": []
   },
   "outputs": [],
   "source": [
    "def get_sensgrid(image, mm, class_index, patch_size):\n",
    "  sensitivity_map = np.zeros((\n",
    "    math.ceil(image.shape[0] / patch_size),\n",
    "    math.ceil(image.shape[1] / patch_size),\n",
    "    math.ceil(image.shape[2] / patch_size)\n",
    "  ))\n",
    "  for index_z, top_left_z in enumerate(range(0, image.shape[2], patch_size)):\n",
    "    patches = [\n",
    "              apply_grey_patch(image, top_left_x, top_left_y, top_left_z, patch_size)\n",
    "              for index_x, top_left_x in enumerate(range(0, image.shape[0], patch_size))\n",
    "              for index_y, top_left_y in enumerate(range(0, image.shape[1], patch_size))\n",
    "              ]\n",
    "    coordinates = [\n",
    "                (index_y, index_x)\n",
    "                for index_x, _ in enumerate(range(0, image.shape[0], patch_size))\n",
    "                for index_y, _ in enumerate(range(0, image.shape[1], patch_size))\n",
    "                ]\n",
    "    predictions = mm.predict(np.array(patches), batch_size=1)\n",
    "    target_class_predictions = [prediction[class_index] for prediction in predictions]\n",
    "    for (index_y, index_x), confidence in zip(coordinates, target_class_predictions):\n",
    "      sensitivity_map[index_y, index_x, index_z] = 1 - confidence\n",
    "  sm = resize(sensitivity_map, (64,64,64))\n",
    "  heatmap = (sm - np.min(sm)) / (sm.max() - sm.min())\n",
    "  return(heatmap)"
   ]
  },
  {
   "cell_type": "code",
   "execution_count": 22,
   "metadata": {
    "papermill": {
     "duration": 6877.881131,
     "end_time": "2019-11-15T22:53:05.030428",
     "exception": false,
     "start_time": "2019-11-15T20:58:27.149297",
     "status": "completed"
    },
    "tags": []
   },
   "outputs": [
    {
     "name": "stdout",
     "output_type": "stream",
     "text": [
      "1\n",
      "0\n"
     ]
    },
    {
     "name": "stdout",
     "output_type": "stream",
     "text": [
      "1\n"
     ]
    },
    {
     "name": "stdout",
     "output_type": "stream",
     "text": [
      "2\n"
     ]
    },
    {
     "name": "stdout",
     "output_type": "stream",
     "text": [
      "3\n"
     ]
    },
    {
     "name": "stdout",
     "output_type": "stream",
     "text": [
      "4\n"
     ]
    },
    {
     "name": "stdout",
     "output_type": "stream",
     "text": [
      "5\n"
     ]
    },
    {
     "name": "stdout",
     "output_type": "stream",
     "text": [
      "6\n"
     ]
    },
    {
     "name": "stdout",
     "output_type": "stream",
     "text": [
      "7\n"
     ]
    },
    {
     "name": "stdout",
     "output_type": "stream",
     "text": [
      "2\n",
      "0\n"
     ]
    },
    {
     "name": "stdout",
     "output_type": "stream",
     "text": [
      "1\n"
     ]
    },
    {
     "name": "stdout",
     "output_type": "stream",
     "text": [
      "2\n"
     ]
    },
    {
     "name": "stdout",
     "output_type": "stream",
     "text": [
      "3\n"
     ]
    },
    {
     "name": "stdout",
     "output_type": "stream",
     "text": [
      "4\n"
     ]
    },
    {
     "name": "stdout",
     "output_type": "stream",
     "text": [
      "5\n"
     ]
    },
    {
     "name": "stdout",
     "output_type": "stream",
     "text": [
      "6\n"
     ]
    },
    {
     "name": "stdout",
     "output_type": "stream",
     "text": [
      "7\n"
     ]
    },
    {
     "name": "stdout",
     "output_type": "stream",
     "text": [
      "3\n",
      "0\n"
     ]
    },
    {
     "name": "stdout",
     "output_type": "stream",
     "text": [
      "1\n"
     ]
    },
    {
     "name": "stdout",
     "output_type": "stream",
     "text": [
      "2\n"
     ]
    },
    {
     "name": "stdout",
     "output_type": "stream",
     "text": [
      "3\n"
     ]
    },
    {
     "name": "stdout",
     "output_type": "stream",
     "text": [
      "4\n"
     ]
    },
    {
     "name": "stdout",
     "output_type": "stream",
     "text": [
      "5\n"
     ]
    },
    {
     "name": "stdout",
     "output_type": "stream",
     "text": [
      "6\n"
     ]
    },
    {
     "name": "stdout",
     "output_type": "stream",
     "text": [
      "7\n"
     ]
    },
    {
     "name": "stdout",
     "output_type": "stream",
     "text": [
      "4\n",
      "0\n"
     ]
    },
    {
     "name": "stdout",
     "output_type": "stream",
     "text": [
      "1\n"
     ]
    },
    {
     "name": "stdout",
     "output_type": "stream",
     "text": [
      "2\n"
     ]
    },
    {
     "name": "stdout",
     "output_type": "stream",
     "text": [
      "3\n"
     ]
    },
    {
     "name": "stdout",
     "output_type": "stream",
     "text": [
      "4\n"
     ]
    },
    {
     "name": "stdout",
     "output_type": "stream",
     "text": [
      "5\n"
     ]
    },
    {
     "name": "stdout",
     "output_type": "stream",
     "text": [
      "6\n"
     ]
    },
    {
     "name": "stdout",
     "output_type": "stream",
     "text": [
      "7\n"
     ]
    },
    {
     "name": "stdout",
     "output_type": "stream",
     "text": [
      "5\n",
      "0\n"
     ]
    },
    {
     "name": "stdout",
     "output_type": "stream",
     "text": [
      "1\n"
     ]
    },
    {
     "name": "stdout",
     "output_type": "stream",
     "text": [
      "2\n"
     ]
    },
    {
     "name": "stdout",
     "output_type": "stream",
     "text": [
      "3\n"
     ]
    },
    {
     "name": "stdout",
     "output_type": "stream",
     "text": [
      "4\n"
     ]
    },
    {
     "name": "stdout",
     "output_type": "stream",
     "text": [
      "5\n"
     ]
    },
    {
     "name": "stdout",
     "output_type": "stream",
     "text": [
      "6\n"
     ]
    },
    {
     "name": "stdout",
     "output_type": "stream",
     "text": [
      "7\n"
     ]
    },
    {
     "name": "stdout",
     "output_type": "stream",
     "text": [
      "6\n",
      "0\n"
     ]
    },
    {
     "name": "stdout",
     "output_type": "stream",
     "text": [
      "1\n"
     ]
    },
    {
     "name": "stdout",
     "output_type": "stream",
     "text": [
      "2\n"
     ]
    },
    {
     "name": "stdout",
     "output_type": "stream",
     "text": [
      "3\n"
     ]
    },
    {
     "name": "stdout",
     "output_type": "stream",
     "text": [
      "4\n"
     ]
    },
    {
     "name": "stdout",
     "output_type": "stream",
     "text": [
      "5\n"
     ]
    },
    {
     "name": "stdout",
     "output_type": "stream",
     "text": [
      "6\n"
     ]
    },
    {
     "name": "stdout",
     "output_type": "stream",
     "text": [
      "7\n"
     ]
    }
   ],
   "source": [
    "output_grid = {}\n",
    "output_n = {}\n",
    "for i in range(2):\n",
    "  output_grid[i] = np.zeros((64,64,64))\n",
    "  output_n[i] = 0\n",
    "\n",
    "counter = 0\n",
    "for batch in test_iter:\n",
    "  counter+=1\n",
    "  print(counter)\n",
    "  t1 = (tf.cast(batch['t1'], tf.float32)-t1_mean)/t1_std\n",
    "  t2 = (batch['t2']-t2_mean)/t2_std\n",
    "  X = tf.concat([t1, t2], axis=4)\n",
    "  subjectid = decoder(batch['subjectid'])\n",
    "  y = get_labels(test_df, subjectid, list(cat_cols.keys())+num_cols)\n",
    "  y_list = list(y['female'])\n",
    "  for i in range(X.shape[0]):\n",
    "    print(i)\n",
    "    X_i = X[i]\n",
    "    y_i = y_list[i]\n",
    "    grid = get_sensgrid(X_i, mm, y_i, 4)\n",
    "    output_grid[y_i] += grid\n",
    "    output_n[y_i] += 1\n",
    "  if counter==6:\n",
    "    break"
   ]
  },
  {
   "cell_type": "code",
   "execution_count": 23,
   "metadata": {
    "papermill": {
     "duration": 0.142456,
     "end_time": "2019-11-15T22:53:05.248117",
     "exception": false,
     "start_time": "2019-11-15T22:53:05.105661",
     "status": "completed"
    },
    "tags": []
   },
   "outputs": [],
   "source": [
    "pickle.dump([output_grid, output_n], open( \"heatmap_female.p\", \"wb\" ) )"
   ]
  },
  {
   "cell_type": "code",
   "execution_count": 24,
   "metadata": {
    "papermill": {
     "duration": 0.40042,
     "end_time": "2019-11-15T22:53:05.724616",
     "exception": true,
     "start_time": "2019-11-15T22:53:05.324196",
     "status": "failed"
    },
    "tags": []
   },
   "outputs": [
    {
     "ename": "NameError",
     "evalue": "name 'error' is not defined",
     "output_type": "error",
     "traceback": [
      "\u001b[0;31m---------------------------------------------------------------------------\u001b[0m",
      "\u001b[0;31mNameError\u001b[0m                                 Traceback (most recent call last)",
      "\u001b[0;32m<ipython-input-24-ded28046d863>\u001b[0m in \u001b[0;36m<module>\u001b[0;34m\u001b[0m\n\u001b[0;32m----> 1\u001b[0;31m \u001b[0merror\u001b[0m\u001b[0;34m\u001b[0m\u001b[0m\n\u001b[0m",
      "\u001b[0;31mNameError\u001b[0m: name 'error' is not defined"
     ]
    }
   ],
   "source": [
    "error"
   ]
  },
  {
   "cell_type": "code",
   "execution_count": null,
   "metadata": {
    "papermill": {
     "duration": null,
     "end_time": null,
     "exception": null,
     "start_time": null,
     "status": "pending"
    },
    "tags": []
   },
   "outputs": [],
   "source": [
    "batch = next(iter(train_iter))"
   ]
  },
  {
   "cell_type": "code",
   "execution_count": null,
   "metadata": {
    "papermill": {
     "duration": null,
     "end_time": null,
     "exception": null,
     "start_time": null,
     "status": "pending"
    },
    "tags": []
   },
   "outputs": [],
   "source": [
    "t1 = (tf.cast(batch['t1'], tf.float32)-t1_mean)/t1_std\n",
    "t2 = (batch['t2']-t2_mean)/t2_std\n",
    "ad = batch['ad']\n",
    "ad = tf.where(tf.math.is_nan(ad), tf.zeros_like(ad), ad)\n",
    "ad = (ad-ad_mean)/ad_std\n",
    "fa = batch['fa']\n",
    "fa = tf.where(tf.math.is_nan(fa), tf.zeros_like(fa), fa)\n",
    "fa = (fa-fa_mean)/fa_std\n",
    "md = batch['md']\n",
    "md = tf.where(tf.math.is_nan(md), tf.zeros_like(md), md)\n",
    "md = (md-md_mean)/md_std\n",
    "rd = batch['rd']\n",
    "rd = tf.where(tf.math.is_nan(rd), tf.zeros_like(rd), rd)\n",
    "rd = (rd-rd_mean)/rd_std\n",
    "#subjectid = decoder(batch['subjectid'])\n",
    "#y = get_labels(df, subjectid, list(cat_cols.keys())+num_cols)\n",
    "#X = tf.concat([t1, t2, ad, fa, md, rd], axis=4)\n",
    "X = tf.concat([t1, t2], axis=4)    "
   ]
  },
  {
   "cell_type": "code",
   "execution_count": null,
   "metadata": {
    "papermill": {
     "duration": null,
     "end_time": null,
     "exception": null,
     "start_time": null,
     "status": "pending"
    },
    "tags": []
   },
   "outputs": [],
   "source": [
    "tf.keras.backend.set_learning_phase(True)\n",
    "model(X)['female']"
   ]
  },
  {
   "cell_type": "code",
   "execution_count": null,
   "metadata": {
    "papermill": {
     "duration": null,
     "end_time": null,
     "exception": null,
     "start_time": null,
     "status": "pending"
    },
    "tags": []
   },
   "outputs": [],
   "source": [
    "tf.keras.backend.set_learning_phase(False)\n",
    "model(X)['female']"
   ]
  },
  {
   "cell_type": "code",
   "execution_count": null,
   "metadata": {
    "papermill": {
     "duration": null,
     "end_time": null,
     "exception": null,
     "start_time": null,
     "status": "pending"
    },
    "tags": []
   },
   "outputs": [],
   "source": [
    "mean_std = [x.name for x in model.non_trainable_variables if ('batch_norm') in x.name and ('mean' in x.name or 'variance' in x.name)]"
   ]
  },
  {
   "cell_type": "code",
   "execution_count": null,
   "metadata": {
    "papermill": {
     "duration": null,
     "end_time": null,
     "exception": null,
     "start_time": null,
     "status": "pending"
    },
    "tags": []
   },
   "outputs": [],
   "source": [
    "model = Model(cat_cols, num_cols)"
   ]
  },
  {
   "cell_type": "code",
   "execution_count": null,
   "metadata": {
    "papermill": {
     "duration": null,
     "end_time": null,
     "exception": null,
     "start_time": null,
     "status": "pending"
    },
    "tags": []
   },
   "outputs": [],
   "source": [
    "model.non_trainable_variables "
   ]
  },
  {
   "cell_type": "code",
   "execution_count": null,
   "metadata": {
    "papermill": {
     "duration": null,
     "end_time": null,
     "exception": null,
     "start_time": null,
     "status": "pending"
    },
    "tags": []
   },
   "outputs": [],
   "source": []
  }
 ],
 "metadata": {
  "accelerator": "GPU",
  "colab": {
   "collapsed_sections": [],
   "machine_shape": "hm",
   "name": "06_SimpleDL_MultiTask_Valid.ipynb",
   "provenance": []
  },
  "kernelspec": {
   "display_name": "Python 3",
   "language": "python",
   "name": "python3"
  },
  "language_info": {
   "codemirror_mode": {
    "name": "ipython",
    "version": 3
   },
   "file_extension": ".py",
   "mimetype": "text/x-python",
   "name": "python",
   "nbconvert_exporter": "python",
   "pygments_lexer": "ipython3",
   "version": "3.5.3"
  },
  "papermill": {
   "duration": 7810.273594,
   "end_time": "2019-11-15T22:53:09.537554",
   "environment_variables": {},
   "exception": true,
   "input_path": "RunModels_bck_densenet_t1t2_out_site16_norm_tfexplain.ipynb",
   "output_path": "xxx_out1.ipynb",
   "parameters": {},
   "start_time": "2019-11-15T20:42:59.263960",
   "version": "1.2.1"
  }
 },
 "nbformat": 4,
 "nbformat_minor": 1
}