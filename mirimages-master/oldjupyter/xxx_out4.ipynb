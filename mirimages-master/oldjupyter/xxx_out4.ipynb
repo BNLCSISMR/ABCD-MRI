{
 "cells": [
  {
   "cell_type": "code",
   "execution_count": null,
   "metadata": {
    "hide_input": true,
    "inputHidden": true
   },
   "outputs": [
    {
     "data": {
      "text/html": [
       "<span style=\"color:red; font-family:Helvetica Neue, Helvetica, Arial, sans-serif; font-size:2em;\">An Exception was encountered at 'In [24]'.</span>"
      ]
     },
     "metadata": {},
     "output_type": "display_data"
    }
   ],
   "source": [
    "%%html\n",
    "<span style=\"color:red; font-family:Helvetica Neue, Helvetica, Arial, sans-serif; font-size:2em;\">An Exception was encountered at 'In [24]'.</span>"
   ]
  },
  {
   "cell_type": "code",
   "execution_count": 1,
   "metadata": {
    "papermill": {
     "duration": 0.049694,
     "end_time": "2019-11-16T01:43:25.393321",
     "exception": false,
     "start_time": "2019-11-16T01:43:25.343627",
     "status": "completed"
    },
    "tags": []
   },
   "outputs": [],
   "source": [
    "%load_ext autoreload\n",
    "%autoreload 2"
   ]
  },
  {
   "cell_type": "code",
   "execution_count": 2,
   "metadata": {
    "colab": {
     "base_uri": "https://localhost:8080/",
     "height": 34
    },
    "colab_type": "code",
    "executionInfo": {
     "elapsed": 48054,
     "status": "ok",
     "timestamp": 1573636583219,
     "user": {
      "displayName": "Benedikt Dietmar Schifferer",
      "photoUrl": "https://lh3.googleusercontent.com/a-/AAuE7mDViwxKXBjVKZfXMWGuXrQ48D62bye6HNutAOX0=s64",
      "userId": "06737229821528734971"
     },
     "user_tz": -60
    },
    "id": "2mU_ZLUH5jz4",
    "outputId": "c4cbc445-56dd-49df-de87-c34e18da5f6c",
    "papermill": {
     "duration": 15.78507,
     "end_time": "2019-11-16T01:43:41.197868",
     "exception": false,
     "start_time": "2019-11-16T01:43:25.412798",
     "status": "completed"
    },
    "tags": []
   },
   "outputs": [
    {
     "data": {
      "text/plain": [
       "'2.0.0'"
      ]
     },
     "execution_count": 2,
     "metadata": {},
     "output_type": "execute_result"
    }
   ],
   "source": [
    "import glob\n",
    "import nibabel as nib\n",
    "import os\n",
    "import time\n",
    "\n",
    "import pandas as pd\n",
    "import numpy as np\n",
    "import cv2\n",
    "from skimage.transform import resize\n",
    "\n",
    "from mricode.utils import log_textfile\n",
    "from mricode.utils import copy_colab\n",
    "from mricode.utils import return_iter\n",
    "from mricode.utils import return_csv\n",
    "\n",
    "from mricode.models.SimpleCNN import SimpleCNN\n",
    "from mricode.models.DenseNet import MyDenseNet\n",
    "\n",
    "import tensorflow as tf\n",
    "from tensorflow.keras.layers import Conv3D\n",
    "from tensorflow import nn\n",
    "from tensorflow.python.ops import nn_ops\n",
    "from tensorflow.python.framework import tensor_shape\n",
    "from tensorflow.python.keras.engine.base_layer import InputSpec\n",
    "from tensorflow.python.keras.utils import conv_utils\n",
    "\n",
    "tf.__version__"
   ]
  },
  {
   "cell_type": "code",
   "execution_count": 3,
   "metadata": {
    "papermill": {
     "duration": 24.150184,
     "end_time": "2019-11-16T01:44:05.389580",
     "exception": false,
     "start_time": "2019-11-16T01:43:41.239396",
     "status": "completed"
    },
    "tags": []
   },
   "outputs": [
    {
     "data": {
      "text/plain": [
       "True"
      ]
     },
     "execution_count": 3,
     "metadata": {},
     "output_type": "execute_result"
    }
   ],
   "source": [
    "tf.test.is_gpu_available()"
   ]
  },
  {
   "cell_type": "code",
   "execution_count": 4,
   "metadata": {
    "colab": {},
    "colab_type": "code",
    "id": "nH4XzW8C5yhH",
    "papermill": {
     "duration": 0.066699,
     "end_time": "2019-11-16T01:44:05.477076",
     "exception": false,
     "start_time": "2019-11-16T01:44:05.410377",
     "status": "completed"
    },
    "tags": []
   },
   "outputs": [],
   "source": [
    "path_output = './output/'\n",
    "path_tfrecords = '/data2/res64/down/'\n",
    "path_csv = '/data2/csv/'\n",
    "filename_res = {'train': 'intell_residual_train.csv', 'val': 'intell_residual_valid.csv', 'test': 'intell_residual_test.csv'}\n",
    "filename_final = filename_res\n",
    "sample_size = 'site16_allimages'\n",
    "batch_size = 8\n",
    "onlyt1 = False\n",
    "modelname = 'runAllImages64_DenseNet_T1T2_site16_norm_20e_tfexplain_simple_'\n",
    "Model = SimpleCNN\n",
    "t1_mean=1.3779395849814497\n",
    "t1_std=3.4895845243139503\n",
    "t2_mean=2.22435586968901\n",
    "t2_std=5.07708743178319\n",
    "ad_mean=1.3008901218593748e-05\n",
    "ad_std=0.009966655860940228\n",
    "fa_mean=0.0037552628409334037\n",
    "fa_std=0.012922319568740915\n",
    "md_mean=9.827903909139596e-06\n",
    "md_std=0.009956973204022659\n",
    "rd_mean=8.237404999587111e-06\n",
    "rd_std=0.009954672598675338"
   ]
  },
  {
   "cell_type": "code",
   "execution_count": 5,
   "metadata": {
    "colab": {
     "base_uri": "https://localhost:8080/",
     "height": 71
    },
    "colab_type": "code",
    "executionInfo": {
     "elapsed": 4520,
     "status": "ok",
     "timestamp": 1573636640714,
     "user": {
      "displayName": "Benedikt Dietmar Schifferer",
      "photoUrl": "https://lh3.googleusercontent.com/a-/AAuE7mDViwxKXBjVKZfXMWGuXrQ48D62bye6HNutAOX0=s64",
      "userId": "06737229821528734971"
     },
     "user_tz": -60
    },
    "id": "B-rSS9vT6TuF",
    "outputId": "f5b43cbc-7d59-4c7c-b6d6-78882b1ef3e1",
    "papermill": {
     "duration": 0.37646,
     "end_time": "2019-11-16T01:44:05.872981",
     "exception": false,
     "start_time": "2019-11-16T01:44:05.496521",
     "status": "completed"
    },
    "tags": []
   },
   "outputs": [
    {
     "name": "stdout",
     "output_type": "stream",
     "text": [
      "WARNING:tensorflow:Entity <function return_iter.<locals>._parse_ at 0x7f46d4f24d08> could not be transformed and will be executed as-is. Please report this to the AutoGraph team. When filing the bug, set the verbosity to 10 (on Linux, `export AUTOGRAPH_VERBOSITY=10`) and attach the full output. Cause: \n"
     ]
    },
    {
     "name": "stdout",
     "output_type": "stream",
     "text": [
      "WARNING: Entity <function return_iter.<locals>._parse_ at 0x7f46d4f24d08> could not be transformed and will be executed as-is. Please report this to the AutoGraph team. When filing the bug, set the verbosity to 10 (on Linux, `export AUTOGRAPH_VERBOSITY=10`) and attach the full output. Cause: \n"
     ]
    }
   ],
   "source": [
    "train_iter, val_iter, test_iter = return_iter(path_tfrecords, sample_size, batch_size, onlyt1=onlyt1)"
   ]
  },
  {
   "cell_type": "code",
   "execution_count": 6,
   "metadata": {
    "colab": {},
    "colab_type": "code",
    "id": "lJ0VnyEzBAes",
    "papermill": {
     "duration": 0.069545,
     "end_time": "2019-11-16T01:44:05.963438",
     "exception": false,
     "start_time": "2019-11-16T01:44:05.893893",
     "status": "completed"
    },
    "tags": []
   },
   "outputs": [],
   "source": [
    "if False:\n",
    "  t1_mean = 0.\n",
    "  t1_std = 0.\n",
    "  t2_mean = 0.\n",
    "  t2_std = 0.\n",
    "  ad_mean = 0.\n",
    "  ad_std = 0.\n",
    "  fa_mean = 0.\n",
    "  fa_std = 0.\n",
    "  md_mean = 0.\n",
    "  md_std = 0.\n",
    "  rd_mean = 0.\n",
    "  rd_std = 0.\n",
    "  n = 0.\n",
    "  for b in train_iter:\n",
    "      t1_mean += np.mean(b['t1'])\n",
    "      t1_std += np.std(b['t1'])\n",
    "      t2_mean += np.mean(b['t2'])\n",
    "      t2_std += np.std(b['t2'])\n",
    "      a = np.asarray(b['ad'])\n",
    "      a = a.copy()\n",
    "      a[np.isnan(a)] = 0\n",
    "      ad_mean += np.mean(a)\n",
    "      ad_std += np.std(a)\n",
    "      a = np.asarray(b['fa'])\n",
    "      a = a.copy()\n",
    "      a[np.isnan(a)] = 0\n",
    "      fa_mean += np.mean(a)\n",
    "      fa_std += np.std(a)\n",
    "      a = np.asarray(b['md'])\n",
    "      a = a.copy()\n",
    "      a[np.isnan(a)] = 0\n",
    "      md_mean += np.mean(a)\n",
    "      md_std += np.std(a)\n",
    "      a = np.asarray(b['rd'])\n",
    "      a = a.copy()\n",
    "      a[np.isnan(a)] = 0\n",
    "      rd_mean += np.mean(a)\n",
    "      rd_std += np.std(a)\n",
    "      n += np.asarray(b['t1']).shape[0]\n",
    "\n",
    "  t1_mean /= n\n",
    "  t1_std /= n\n",
    "  t2_mean /= n\n",
    "  t2_std /= n\n",
    "  ad_mean /= n\n",
    "  ad_std /= n\n",
    "  fa_mean /= n\n",
    "  fa_std /= n\n",
    "  md_mean /= n\n",
    "  md_std /= n\n",
    "  rd_mean /= n\n",
    "  rd_std /= n"
   ]
  },
  {
   "cell_type": "code",
   "execution_count": 7,
   "metadata": {
    "colab": {
     "base_uri": "https://localhost:8080/",
     "height": 85
    },
    "colab_type": "code",
    "executionInfo": {
     "elapsed": 2924,
     "status": "ok",
     "timestamp": 1573636640716,
     "user": {
      "displayName": "Benedikt Dietmar Schifferer",
      "photoUrl": "https://lh3.googleusercontent.com/a-/AAuE7mDViwxKXBjVKZfXMWGuXrQ48D62bye6HNutAOX0=s64",
      "userId": "06737229821528734971"
     },
     "user_tz": -60
    },
    "id": "mSwhEqDPM_r8",
    "outputId": "14a4ac0b-9587-4776-fc64-1e008f0c5c31",
    "papermill": {
     "duration": 0.064663,
     "end_time": "2019-11-16T01:44:06.048710",
     "exception": false,
     "start_time": "2019-11-16T01:44:05.984047",
     "status": "completed"
    },
    "tags": []
   },
   "outputs": [
    {
     "data": {
      "text/plain": [
       "(1.3779395849814497,\n",
       " 3.4895845243139503,\n",
       " 2.22435586968901,\n",
       " 5.07708743178319,\n",
       " 1.3008901218593748e-05,\n",
       " 0.009966655860940228,\n",
       " 0.0037552628409334037,\n",
       " 0.012922319568740915,\n",
       " 9.827903909139596e-06,\n",
       " 0.009956973204022659,\n",
       " 8.237404999587111e-06,\n",
       " 0.009954672598675338)"
      ]
     },
     "execution_count": 7,
     "metadata": {},
     "output_type": "execute_result"
    }
   ],
   "source": [
    "t1_mean, t1_std, t2_mean, t2_std, ad_mean, ad_std, fa_mean, fa_std, md_mean, md_std, rd_mean, rd_std"
   ]
  },
  {
   "cell_type": "code",
   "execution_count": 8,
   "metadata": {
    "colab": {},
    "colab_type": "code",
    "id": "PAyV5ktlA6K1",
    "papermill": {
     "duration": 0.457905,
     "end_time": "2019-11-16T01:44:06.527405",
     "exception": false,
     "start_time": "2019-11-16T01:44:06.069500",
     "status": "completed"
    },
    "tags": []
   },
   "outputs": [],
   "source": [
    "train_df, val_df, test_df, norm_dict = return_csv(path_csv, filename_final, False)"
   ]
  },
  {
   "cell_type": "code",
   "execution_count": 9,
   "metadata": {
    "colab": {
     "base_uri": "https://localhost:8080/",
     "height": 442
    },
    "colab_type": "code",
    "executionInfo": {
     "elapsed": 3147,
     "status": "ok",
     "timestamp": 1573636641787,
     "user": {
      "displayName": "Benedikt Dietmar Schifferer",
      "photoUrl": "https://lh3.googleusercontent.com/a-/AAuE7mDViwxKXBjVKZfXMWGuXrQ48D62bye6HNutAOX0=s64",
      "userId": "06737229821528734971"
     },
     "user_tz": -60
    },
    "id": "0xYy4XUyVBeC",
    "outputId": "a6a19d59-31ff-4064-f1dc-952befcce4b3",
    "papermill": {
     "duration": 0.066056,
     "end_time": "2019-11-16T01:44:06.613941",
     "exception": false,
     "start_time": "2019-11-16T01:44:06.547885",
     "status": "completed"
    },
    "tags": []
   },
   "outputs": [
    {
     "data": {
      "text/plain": [
       "{'BMI': {'mean': 18.681548127052135, 'std': 4.193043131845343},\n",
       " 'age': {'mean': 119.00325844623563, 'std': 7.479129774017182},\n",
       " 'height': {'mean': 55.25173666322929, 'std': 3.152756181679028},\n",
       " 'nihtbx_cardsort_uncorrected': {'mean': 0.01902727147573316,\n",
       "  'std': 0.92710655806542},\n",
       " 'nihtbx_cryst_uncorrected': {'mean': 0.007018628014748754,\n",
       "  'std': 0.7845373584638602},\n",
       " 'nihtbx_flanker_uncorrected': {'mean': 0.02188780794049048,\n",
       "  'std': 0.9070917080607726},\n",
       " 'nihtbx_fluidcomp_uncorrected': {'mean': 0.020178243913565427,\n",
       "  'std': 0.86606123778624},\n",
       " 'nihtbx_list_uncorrected': {'mean': 0.00625176016120734,\n",
       "  'std': 0.8898550695735616},\n",
       " 'nihtbx_pattern_uncorrected': {'mean': 0.020721412569885096,\n",
       "  'std': 0.9486618556882954},\n",
       " 'nihtbx_picture_uncorrected': {'mean': 0.0005782175223803825,\n",
       "  'std': 0.9577989703304521},\n",
       " 'nihtbx_picvocab_uncorrected': {'mean': 0.0068509109986280275,\n",
       "  'std': 0.8038465951211212},\n",
       " 'nihtbx_reading_uncorrected': {'mean': 0.0027847502208883574,\n",
       "  'std': 0.8572703419965433},\n",
       " 'nihtbx_totalcomp_uncorrected': {'mean': 0.016971206631452577,\n",
       "  'std': 0.7866686549175077},\n",
       " 'vol': {'mean': 0.013939557398902416, 'std': 1.001699783217792},\n",
       " 'weight': {'mean': 81.91536668875837, 'std': 23.321845390211728}}"
      ]
     },
     "execution_count": 9,
     "metadata": {},
     "output_type": "execute_result"
    }
   ],
   "source": [
    "norm_dict"
   ]
  },
  {
   "cell_type": "code",
   "execution_count": 10,
   "metadata": {
    "colab": {},
    "colab_type": "code",
    "id": "eTk95ptFV5oN",
    "papermill": {
     "duration": 0.063076,
     "end_time": "2019-11-16T01:44:06.697704",
     "exception": false,
     "start_time": "2019-11-16T01:44:06.634628",
     "status": "completed"
    },
    "tags": []
   },
   "outputs": [],
   "source": [
    "cat_cols = {'female': 2, 'race.ethnicity': 5, 'high.educ_group': 4, 'income_group': 8, 'married': 6}\n",
    "num_cols = [x for x in list(val_df.columns) if '_norm' in x]"
   ]
  },
  {
   "cell_type": "code",
   "execution_count": 11,
   "metadata": {
    "colab": {},
    "colab_type": "code",
    "id": "hROMApYiDagm",
    "papermill": {
     "duration": 0.096423,
     "end_time": "2019-11-16T01:44:06.814665",
     "exception": false,
     "start_time": "2019-11-16T01:44:06.718242",
     "status": "completed"
    },
    "tags": []
   },
   "outputs": [],
   "source": [
    "def calc_loss_acc(out_loss, out_acc, y_true, y_pred, cat_cols, num_cols, norm_dict):\n",
    "  for col in num_cols:\n",
    "    tmp_col = col\n",
    "    tmp_std = norm_dict[tmp_col.replace('_norm','')]['std']\n",
    "    tmp_y_true = tf.cast(y_true[col], tf.float32).numpy()\n",
    "    tmp_y_pred = np.squeeze(y_pred[col].numpy())\n",
    "    if not(tmp_col in out_loss):\n",
    "      out_loss[tmp_col] = np.sum(np.square(tmp_y_true-tmp_y_pred))\n",
    "    else:\n",
    "      out_loss[tmp_col] += np.sum(np.square(tmp_y_true-tmp_y_pred))\n",
    "    if not(tmp_col in out_acc):\n",
    "      out_acc[tmp_col] = np.sum(np.square((tmp_y_true-tmp_y_pred)*tmp_std))\n",
    "    else:\n",
    "      out_acc[tmp_col] += np.sum(np.square((tmp_y_true-tmp_y_pred)*tmp_std))\n",
    "  for col in list(cat_cols.keys()):\n",
    "    tmp_col = col\n",
    "    if not(tmp_col in out_loss):\n",
    "      out_loss[tmp_col] = tf.keras.losses.SparseCategoricalCrossentropy()(tf.squeeze(y_true[col]), tf.squeeze(y_pred[col])).numpy()\n",
    "    else:\n",
    "      out_loss[tmp_col] += tf.keras.losses.SparseCategoricalCrossentropy()(tf.squeeze(y_true[col]), tf.squeeze(y_pred[col])).numpy()\n",
    "    if not(tmp_col in out_acc):\n",
    "      out_acc[tmp_col] = tf.reduce_sum(tf.dtypes.cast((y_true[col] == tf.argmax(y_pred[col], axis=-1)), tf.float32)).numpy()\n",
    "    else:\n",
    "      out_acc[tmp_col] += tf.reduce_sum(tf.dtypes.cast((y_true[col] == tf.argmax(y_pred[col], axis=-1)), tf.float32)).numpy()    \n",
    "  return(out_loss, out_acc)\n",
    "\n",
    "def format_output(out_loss, out_acc, n, cols, print_bl=False):\n",
    "  loss = 0\n",
    "  acc = 0\n",
    "  output = []\n",
    "  for col in cols:\n",
    "    output.append([col, out_loss[col]/n, out_acc[col]/n])\n",
    "    loss += out_loss[col]/n\n",
    "    acc += out_acc[col]/n\n",
    "  df = pd.DataFrame(output)\n",
    "  df.columns = ['name', 'loss', 'acc']\n",
    "  if print_bl:\n",
    "    print(df)\n",
    "  return(loss, acc, df)\n",
    "\n",
    "@tf.function\n",
    "def train_step(X, y, model, optimizer, cat_cols, num_cols):\n",
    "  with tf.GradientTape() as tape:\n",
    "    predictions = model(X)\n",
    "    i = 0\n",
    "    loss = tf.keras.losses.MSE(tf.cast(y[num_cols[i]], tf.float32), tf.squeeze(predictions[num_cols[i]]))\n",
    "    for i in range(1,len(num_cols)):\n",
    "      loss += tf.keras.losses.MSE(tf.cast(y[num_cols[i]], tf.float32), tf.squeeze(predictions[num_cols[i]]))\n",
    "    for col in list(cat_cols.keys()):\n",
    "      loss += tf.keras.losses.SparseCategoricalCrossentropy()(tf.squeeze(y[col]), tf.squeeze(predictions[col]))\n",
    "  gradients = tape.gradient(loss, model.trainable_variables)\n",
    "  mean_std = [x.name for x in model.non_trainable_variables if ('batch_norm') in x.name and ('mean' in x.name or 'variance' in x.name)]\n",
    "  with tf.control_dependencies(mean_std):\n",
    "    optimizer.apply_gradients(zip(gradients, model.trainable_variables))\n",
    "  return(y, predictions, loss)\n",
    "\n",
    "@tf.function\n",
    "def test_step(X, y, model):\n",
    "  predictions = model(X)\n",
    "  return(y, predictions)\n",
    "\n",
    "def epoch(data_iter, df, model, optimizer, cat_cols, num_cols, norm_dict):\n",
    "  out_loss = {}\n",
    "  out_acc = {}\n",
    "  n = 0.\n",
    "  n_batch = 0.\n",
    "  total_time_dataload = 0.\n",
    "  total_time_model = 0.\n",
    "  start_time = time.time()\n",
    "  for batch in data_iter:\n",
    "    total_time_dataload += time.time() - start_time\n",
    "    start_time = time.time()\n",
    "    t1 = (tf.cast(batch['t1'], tf.float32)-t1_mean)/t1_std\n",
    "    t2 = (batch['t2']-t2_mean)/t2_std\n",
    "    ad = batch['ad']\n",
    "    ad = tf.where(tf.math.is_nan(ad), tf.zeros_like(ad), ad)\n",
    "    ad = (ad-ad_mean)/ad_std\n",
    "    fa = batch['fa']\n",
    "    fa = tf.where(tf.math.is_nan(fa), tf.zeros_like(fa), fa)\n",
    "    fa = (fa-fa_mean)/fa_std\n",
    "    md = batch['md']\n",
    "    md = tf.where(tf.math.is_nan(md), tf.zeros_like(md), md)\n",
    "    md = (md-md_mean)/md_std\n",
    "    rd = batch['rd']\n",
    "    rd = tf.where(tf.math.is_nan(rd), tf.zeros_like(rd), rd)\n",
    "    rd = (rd-rd_mean)/rd_std\n",
    "    subjectid = decoder(batch['subjectid'])\n",
    "    y = get_labels(df, subjectid, list(cat_cols.keys())+num_cols)\n",
    "    X = tf.concat([t1, t2], axis=4)\n",
    "    #X = tf.concat([t1, t2], axis=4)\n",
    "    if optimizer != None:\n",
    "      y_true, y_pred, loss = train_step(X, y, model, optimizer, cat_cols, num_cols)\n",
    "    else:\n",
    "      y_true, y_pred = test_step(X, y, model)\n",
    "    out_loss, out_acc = calc_loss_acc(out_loss, out_acc, y_true, y_pred, cat_cols, num_cols, norm_dict)\n",
    "    n += X.shape[0]\n",
    "    n_batch += 1\n",
    "    if (n_batch % 10) == 0:\n",
    "      print(n_batch)\n",
    "    total_time_model += time.time() - start_time\n",
    "    start_time = time.time()\n",
    "  return (out_loss, out_acc, n, total_time_model, total_time_dataload)\n",
    "\n",
    "def get_labels(df, subjectid, cols = ['nihtbx_fluidcomp_uncorrected_norm']):\n",
    "  subjects_df = pd.DataFrame(subjectid)\n",
    "  result_df = pd.merge(subjects_df, df, left_on=0, right_on='subjectkey', how='left')\n",
    "  output = {}\n",
    "  for col in cols:\n",
    "    output[col] = np.asarray(result_df[col].values)\n",
    "  return output\n",
    "\n",
    "def best_val(df_best, df_val, df_test):\n",
    "  df_best = pd.merge(df_best, df_val, how='left', left_on='name', right_on='name')\n",
    "  df_best = pd.merge(df_best, df_test, how='left', left_on='name', right_on='name')\n",
    "  df_best.loc[df_best['best_loss_val']>=df_best['cur_loss_val'], 'best_loss_test'] = df_best.loc[df_best['best_loss_val']>=df_best['cur_loss_val'], 'cur_loss_test']\n",
    "  df_best.loc[df_best['best_loss_val']>=df_best['cur_loss_val'], 'best_loss_val'] = df_best.loc[df_best['best_loss_val']>=df_best['cur_loss_val'], 'cur_loss_val']\n",
    "  df_best.loc[(df_best['best_acc_val']<=df_best['cur_acc_val'])&(df_best['name'].isin(['female', 'race.ethnicity', 'high.educ_group', 'income_group', 'married'])), 'best_acc_test'] = df_best.loc[(df_best['best_acc_val']<=df_best['cur_acc_val'])&(df_best['name'].isin(['female', 'race.ethnicity', 'high.educ_group', 'income_group', 'married'])), 'cur_acc_test']\n",
    "  df_best.loc[(df_best['best_acc_val']<=df_best['cur_acc_val'])&(df_best['name'].isin(['female', 'race.ethnicity', 'high.educ_group', 'income_group', 'married'])), 'best_acc_val'] = df_best.loc[(df_best['best_acc_val']<=df_best['cur_acc_val'])&(df_best['name'].isin(['female', 'race.ethnicity', 'high.educ_group', 'income_group', 'married'])), 'cur_acc_val']\n",
    "  df_best.loc[(df_best['best_acc_val']>=df_best['cur_acc_val'])&(~df_best['name'].isin(['female', 'race.ethnicity', 'high.educ_group', 'income_group', 'married'])), 'best_acc_test'] = df_best.loc[(df_best['best_acc_val']>=df_best['cur_acc_val'])&(~df_best['name'].isin(['female', 'race.ethnicity', 'high.educ_group', 'income_group', 'married'])), 'cur_acc_test']\n",
    "  df_best.loc[(df_best['best_acc_val']>=df_best['cur_acc_val'])&(~df_best['name'].isin(['female', 'race.ethnicity', 'high.educ_group', 'income_group', 'married'])), 'best_acc_val'] = df_best.loc[(df_best['best_acc_val']>=df_best['cur_acc_val'])&(~df_best['name'].isin(['female', 'race.ethnicity', 'high.educ_group', 'income_group', 'married'])), 'cur_acc_val']\n",
    "  df_best = df_best.drop(['cur_loss_val', 'cur_acc_val', 'cur_loss_test', 'cur_acc_test'], axis=1)\n",
    "  return(df_best)"
   ]
  },
  {
   "cell_type": "code",
   "execution_count": 12,
   "metadata": {
    "colab": {
     "base_uri": "https://localhost:8080/",
     "height": 1000
    },
    "colab_type": "code",
    "executionInfo": {
     "elapsed": 46355,
     "status": "ok",
     "timestamp": 1573636701683,
     "user": {
      "displayName": "Benedikt Dietmar Schifferer",
      "photoUrl": "https://lh3.googleusercontent.com/a-/AAuE7mDViwxKXBjVKZfXMWGuXrQ48D62bye6HNutAOX0=s64",
      "userId": "06737229821528734971"
     },
     "user_tz": -60
    },
    "id": "RV24LE3k-00n",
    "outputId": "067125be-6ce2-40c9-998e-62f800ccb2f1",
    "papermill": {
     "duration": 156.172919,
     "end_time": "2019-11-16T01:46:43.008320",
     "exception": false,
     "start_time": "2019-11-16T01:44:06.835401",
     "status": "completed"
    },
    "tags": []
   },
   "outputs": [
    {
     "name": "stdout",
     "output_type": "stream",
     "text": [
      "{'married': 6, 'income_group': 8, 'high.educ_group': 4, 'female': 2, 'race.ethnicity': 5}\n",
      "['BMI_norm', 'age_norm', 'vol_norm', 'weight_norm', 'height_norm', 'nihtbx_fluidcomp_uncorrected_norm', 'nihtbx_cryst_uncorrected_norm', 'nihtbx_pattern_uncorrected_norm', 'nihtbx_picture_uncorrected_norm', 'nihtbx_list_uncorrected_norm', 'nihtbx_flanker_uncorrected_norm', 'nihtbx_picvocab_uncorrected_norm', 'nihtbx_cardsort_uncorrected_norm', 'nihtbx_totalcomp_uncorrected_norm', 'nihtbx_reading_uncorrected_norm']\n",
      "Epochs: 0\n"
     ]
    },
    {
     "name": "stdout",
     "output_type": "stream",
     "text": [
      "10.0\n"
     ]
    },
    {
     "name": "stdout",
     "output_type": "stream",
     "text": [
      "20.0\n"
     ]
    },
    {
     "name": "stdout",
     "output_type": "stream",
     "text": [
      "30.0\n"
     ]
    },
    {
     "name": "stdout",
     "output_type": "stream",
     "text": [
      "40.0\n"
     ]
    },
    {
     "name": "stdout",
     "output_type": "stream",
     "text": [
      "50.0\n"
     ]
    },
    {
     "name": "stdout",
     "output_type": "stream",
     "text": [
      "60.0\n"
     ]
    },
    {
     "name": "stdout",
     "output_type": "stream",
     "text": [
      "70.0\n"
     ]
    },
    {
     "name": "stdout",
     "output_type": "stream",
     "text": [
      "10.0\n"
     ]
    },
    {
     "name": "stdout",
     "output_type": "stream",
     "text": [
      "10.0\n"
     ]
    },
    {
     "name": "stdout",
     "output_type": "stream",
     "text": [
      "                                 name  best_loss_test  best_acc_test\n",
      "0                             married        0.148893       0.860656\n",
      "1                        income_group        2.034468       0.016393\n",
      "2                     high.educ_group        0.797491       0.073770\n",
      "3                              female        0.723552       0.459016\n",
      "4                      race.ethnicity        0.235763       0.778689\n",
      "5                            BMI_norm      162.340036    2854.199027\n",
      "6                            age_norm        1.927012     107.792024\n",
      "7                            vol_norm       35.044462      35.163702\n",
      "8                         weight_norm        1.394215     758.325499\n",
      "9                         height_norm       22.016383     218.839988\n",
      "10  nihtbx_fluidcomp_uncorrected_norm       30.160689      22.622388\n",
      "11      nihtbx_cryst_uncorrected_norm      104.657315      64.416460\n",
      "12    nihtbx_pattern_uncorrected_norm       52.913358      47.619869\n",
      "13    nihtbx_picture_uncorrected_norm      159.359887     146.193391\n",
      "14       nihtbx_list_uncorrected_norm        4.316687       3.418135\n",
      "15    nihtbx_flanker_uncorrected_norm        3.360955       2.765445\n",
      "16   nihtbx_picvocab_uncorrected_norm       56.752529      36.671743\n",
      "17   nihtbx_cardsort_uncorrected_norm       71.860624      61.766121\n",
      "18  nihtbx_totalcomp_uncorrected_norm       92.115426      57.005411\n",
      "19    nihtbx_reading_uncorrected_norm      625.979508     460.040119\n",
      "                                 name  best_loss_val  best_acc_val\n",
      "0                             married       0.136353      0.819672\n",
      "1                        income_group       1.894343      0.024590\n",
      "2                     high.educ_group       0.730013      0.098361\n",
      "3                              female       0.652126      0.450820\n",
      "4                      race.ethnicity       0.194544      0.786885\n",
      "5                            BMI_norm     156.097752   2744.450051\n",
      "6                            age_norm       1.983887    110.973433\n",
      "7                            vol_norm      32.385134     32.495325\n",
      "8                         weight_norm       1.309423    712.206391\n",
      "9                         height_norm      20.047297    199.267546\n",
      "10  nihtbx_fluidcomp_uncorrected_norm      26.798500     20.100534\n",
      "11      nihtbx_cryst_uncorrected_norm      97.040832     59.728516\n",
      "12    nihtbx_pattern_uncorrected_norm      48.659556     43.791624\n",
      "13    nihtbx_picture_uncorrected_norm     151.337010    138.833360\n",
      "14       nihtbx_list_uncorrected_norm       4.609139      3.649711\n",
      "15    nihtbx_flanker_uncorrected_norm       3.497505      2.877801\n",
      "16   nihtbx_picvocab_uncorrected_norm      55.071997     35.585837\n",
      "17   nihtbx_cardsort_uncorrected_norm      65.032054     55.896785\n",
      "18  nihtbx_totalcomp_uncorrected_norm      85.543785     52.938565\n",
      "19    nihtbx_reading_uncorrected_norm     591.932057    435.018283\n",
      "Epoch 0, Loss: 79.804, Accuracy: 1771.918, Val Loss: 1344.953, Val Accuracy: 4649.994, Time Model: 32.101, Time Data: 5.916\n",
      "Epochs: 1\n"
     ]
    },
    {
     "name": "stdout",
     "output_type": "stream",
     "text": [
      "10.0\n"
     ]
    },
    {
     "name": "stdout",
     "output_type": "stream",
     "text": [
      "20.0\n"
     ]
    },
    {
     "name": "stdout",
     "output_type": "stream",
     "text": [
      "30.0\n"
     ]
    },
    {
     "name": "stdout",
     "output_type": "stream",
     "text": [
      "40.0\n"
     ]
    },
    {
     "name": "stdout",
     "output_type": "stream",
     "text": [
      "50.0\n"
     ]
    },
    {
     "name": "stdout",
     "output_type": "stream",
     "text": [
      "60.0\n"
     ]
    },
    {
     "name": "stdout",
     "output_type": "stream",
     "text": [
      "70.0\n"
     ]
    },
    {
     "name": "stdout",
     "output_type": "stream",
     "text": [
      "10.0\n"
     ]
    },
    {
     "name": "stdout",
     "output_type": "stream",
     "text": [
      "10.0\n"
     ]
    },
    {
     "name": "stdout",
     "output_type": "stream",
     "text": [
      "                                 name  best_loss_test  best_acc_test\n",
      "0                             married        0.148893       0.860656\n",
      "1                        income_group        0.943376       0.016393\n",
      "2                     high.educ_group        0.261609       0.073770\n",
      "3                              female        0.385423       0.459016\n",
      "4                      race.ethnicity        0.235763       0.778689\n",
      "5                            BMI_norm       19.402380     341.125128\n",
      "6                            age_norm        1.927012     107.792024\n",
      "7                            vol_norm        0.464441       0.466021\n",
      "8                         weight_norm        1.394215     758.325499\n",
      "9                         height_norm        1.050383      10.440673\n",
      "10  nihtbx_fluidcomp_uncorrected_norm        7.631862       5.724369\n",
      "11      nihtbx_cryst_uncorrected_norm        2.781861       1.712232\n",
      "12    nihtbx_pattern_uncorrected_norm        5.332404       4.798947\n",
      "13    nihtbx_picture_uncorrected_norm       17.685493      16.224297\n",
      "14       nihtbx_list_uncorrected_norm        1.638296       1.297271\n",
      "15    nihtbx_flanker_uncorrected_norm        0.943591       0.776401\n",
      "16   nihtbx_picvocab_uncorrected_norm        7.046516       4.553243\n",
      "17   nihtbx_cardsort_uncorrected_norm        6.737587       5.791136\n",
      "18  nihtbx_totalcomp_uncorrected_norm        3.138818       1.942450\n",
      "19    nihtbx_reading_uncorrected_norm       43.745994      32.149474\n",
      "                                 name  best_loss_val  best_acc_val\n",
      "0                             married       0.136353      0.819672\n",
      "1                        income_group       0.886420      0.024590\n",
      "2                     high.educ_group       0.243581      0.098361\n",
      "3                              female       0.347848      0.450820\n",
      "4                      race.ethnicity       0.194544      0.786885\n",
      "5                            BMI_norm      19.271468    338.823386\n",
      "6                            age_norm       1.983887    110.973433\n",
      "7                            vol_norm       0.469161      0.470757\n",
      "8                         weight_norm       1.309423    712.206391\n",
      "9                         height_norm       1.053014     10.466824\n",
      "10  nihtbx_fluidcomp_uncorrected_norm       6.484647      4.863888\n",
      "11      nihtbx_cryst_uncorrected_norm       2.393617      1.473269\n",
      "12    nihtbx_pattern_uncorrected_norm       4.767771      4.290799\n",
      "13    nihtbx_picture_uncorrected_norm      17.422978     15.983469\n",
      "14       nihtbx_list_uncorrected_norm       1.818638      1.440075\n",
      "15    nihtbx_flanker_uncorrected_norm       1.047798      0.862144\n",
      "16   nihtbx_picvocab_uncorrected_norm       7.168459      4.632038\n",
      "17   nihtbx_cardsort_uncorrected_norm       5.629059      4.838326\n",
      "18  nihtbx_totalcomp_uncorrected_norm       2.717695      1.681839\n",
      "19    nihtbx_reading_uncorrected_norm      41.960501     30.837292\n",
      "Epoch 1, Loss: 61.290, Accuracy: 1176.086, Val Loss: 127.505, Val Accuracy: 5030.509, Time Model: 12.334, Time Data: 6.511\n",
      "Epochs: 2\n"
     ]
    },
    {
     "name": "stdout",
     "output_type": "stream",
     "text": [
      "10.0\n"
     ]
    },
    {
     "name": "stdout",
     "output_type": "stream",
     "text": [
      "20.0\n"
     ]
    },
    {
     "name": "stdout",
     "output_type": "stream",
     "text": [
      "30.0\n"
     ]
    },
    {
     "name": "stdout",
     "output_type": "stream",
     "text": [
      "40.0\n"
     ]
    },
    {
     "name": "stdout",
     "output_type": "stream",
     "text": [
      "50.0\n"
     ]
    },
    {
     "name": "stdout",
     "output_type": "stream",
     "text": [
      "60.0\n"
     ]
    },
    {
     "name": "stdout",
     "output_type": "stream",
     "text": [
      "70.0\n"
     ]
    },
    {
     "name": "stdout",
     "output_type": "stream",
     "text": [
      "10.0\n"
     ]
    },
    {
     "name": "stdout",
     "output_type": "stream",
     "text": [
      "10.0\n"
     ]
    },
    {
     "name": "stdout",
     "output_type": "stream",
     "text": [
      "                                 name  best_loss_test  best_acc_test\n",
      "0                             married        0.148893       0.860656\n",
      "1                        income_group        0.301429       0.196721\n",
      "2                     high.educ_group        0.054400       0.909836\n",
      "3                              female        0.151168       0.459016\n",
      "4                      race.ethnicity        0.096345       0.778689\n",
      "5                            BMI_norm        0.721905      12.692251\n",
      "6                            age_norm        1.927012     107.792024\n",
      "7                            vol_norm        0.315511       0.316584\n",
      "8                         weight_norm        0.794705     432.247118\n",
      "9                         height_norm        1.050383      10.440673\n",
      "10  nihtbx_fluidcomp_uncorrected_norm        1.321403       0.991134\n",
      "11      nihtbx_cryst_uncorrected_norm        1.016574       0.625700\n",
      "12    nihtbx_pattern_uncorrected_norm        3.242746       2.918339\n",
      "13    nihtbx_picture_uncorrected_norm        6.985593       6.408435\n",
      "14       nihtbx_list_uncorrected_norm        0.789502       0.625161\n",
      "15    nihtbx_flanker_uncorrected_norm        0.943591       0.776401\n",
      "16   nihtbx_picvocab_uncorrected_norm        3.815833       2.465674\n",
      "17   nihtbx_cardsort_uncorrected_norm        1.521626       1.307878\n",
      "18  nihtbx_totalcomp_uncorrected_norm        0.995666       0.616165\n",
      "19    nihtbx_reading_uncorrected_norm       13.126537       9.646855\n",
      "                                 name  best_loss_val  best_acc_val\n",
      "0                             married       0.136353      0.819672\n",
      "1                        income_group       0.275292      0.270492\n",
      "2                     high.educ_group       0.058346      0.827869\n",
      "3                              female       0.132957      0.450820\n",
      "4                      race.ethnicity       0.083836      0.786885\n",
      "5                            BMI_norm       0.651211     11.449338\n",
      "6                            age_norm       1.983887    110.973433\n",
      "7                            vol_norm       0.323059      0.324158\n",
      "8                         weight_norm       0.606090    329.657307\n",
      "9                         height_norm       1.053014     10.466824\n",
      "10  nihtbx_fluidcomp_uncorrected_norm       1.160869      0.870723\n",
      "11      nihtbx_cryst_uncorrected_norm       0.960980      0.591482\n",
      "12    nihtbx_pattern_uncorrected_norm       2.963470      2.667002\n",
      "13    nihtbx_picture_uncorrected_norm       7.448861      6.833427\n",
      "14       nihtbx_list_uncorrected_norm       0.789153      0.624885\n",
      "15    nihtbx_flanker_uncorrected_norm       1.047798      0.862144\n",
      "16   nihtbx_picvocab_uncorrected_norm       3.921437      2.533913\n",
      "17   nihtbx_cardsort_uncorrected_norm       1.296577      1.114442\n",
      "18  nihtbx_totalcomp_uncorrected_norm       0.876842      0.542632\n",
      "19    nihtbx_reading_uncorrected_norm      13.129445      9.648993\n",
      "Epoch 2, Loss: 59.447, Accuracy: 1079.036, Val Loss: 42.940, Val Accuracy: 666.933, Time Model: 12.039, Time Data: 1.348\n",
      "Epochs: 3\n"
     ]
    },
    {
     "name": "stdout",
     "output_type": "stream",
     "text": [
      "10.0\n"
     ]
    },
    {
     "name": "stdout",
     "output_type": "stream",
     "text": [
      "20.0\n"
     ]
    },
    {
     "name": "stdout",
     "output_type": "stream",
     "text": [
      "30.0\n"
     ]
    },
    {
     "name": "stdout",
     "output_type": "stream",
     "text": [
      "40.0\n"
     ]
    },
    {
     "name": "stdout",
     "output_type": "stream",
     "text": [
      "50.0\n"
     ]
    },
    {
     "name": "stdout",
     "output_type": "stream",
     "text": [
      "60.0\n"
     ]
    },
    {
     "name": "stdout",
     "output_type": "stream",
     "text": [
      "70.0\n"
     ]
    },
    {
     "name": "stdout",
     "output_type": "stream",
     "text": [
      "10.0\n"
     ]
    },
    {
     "name": "stdout",
     "output_type": "stream",
     "text": [
      "10.0\n"
     ]
    },
    {
     "name": "stdout",
     "output_type": "stream",
     "text": [
      "                                 name  best_loss_test  best_acc_test\n",
      "0                             married        0.148893       0.860656\n",
      "1                        income_group        0.273140       0.245902\n",
      "2                     high.educ_group        0.054400       0.909836\n",
      "3                              female        0.096886       0.475410\n",
      "4                      race.ethnicity        0.096345       0.778689\n",
      "5                            BMI_norm        0.616649      10.841689\n",
      "6                            age_norm        1.927012     107.792024\n",
      "7                            vol_norm        0.315511       0.316584\n",
      "8                         weight_norm        0.794705     432.247118\n",
      "9                         height_norm        1.050383      10.440673\n",
      "10  nihtbx_fluidcomp_uncorrected_norm        0.954381       0.715845\n",
      "11      nihtbx_cryst_uncorrected_norm        1.016574       0.625700\n",
      "12    nihtbx_pattern_uncorrected_norm        3.242746       2.918339\n",
      "13    nihtbx_picture_uncorrected_norm        3.804578       3.490239\n",
      "14       nihtbx_list_uncorrected_norm        0.789502       0.625161\n",
      "15    nihtbx_flanker_uncorrected_norm        0.943591       0.776401\n",
      "16   nihtbx_picvocab_uncorrected_norm        1.073035       0.693362\n",
      "17   nihtbx_cardsort_uncorrected_norm        1.521626       1.307878\n",
      "18  nihtbx_totalcomp_uncorrected_norm        0.995666       0.616165\n",
      "19    nihtbx_reading_uncorrected_norm        1.334912       0.981043\n",
      "                                 name  best_loss_val  best_acc_val\n",
      "0                             married       0.136353      0.819672\n",
      "1                        income_group       0.231082      0.352459\n",
      "2                     high.educ_group       0.058346      0.827869\n",
      "3                              female       0.089281      0.459016\n",
      "4                      race.ethnicity       0.083836      0.786885\n",
      "5                            BMI_norm       0.586618     10.313692\n",
      "6                            age_norm       1.983887    110.973433\n",
      "7                            vol_norm       0.323059      0.324158\n",
      "8                         weight_norm       0.606090    329.657307\n",
      "9                         height_norm       1.053014     10.466824\n",
      "10  nihtbx_fluidcomp_uncorrected_norm       0.941569      0.706235\n",
      "11      nihtbx_cryst_uncorrected_norm       0.960980      0.591482\n",
      "12    nihtbx_pattern_uncorrected_norm       2.963470      2.667002\n",
      "13    nihtbx_picture_uncorrected_norm       3.730423      3.422211\n",
      "14       nihtbx_list_uncorrected_norm       0.789153      0.624885\n",
      "15    nihtbx_flanker_uncorrected_norm       1.047798      0.862144\n",
      "16   nihtbx_picvocab_uncorrected_norm       1.026646      0.663387\n",
      "17   nihtbx_cardsort_uncorrected_norm       1.296577      1.114442\n",
      "18  nihtbx_totalcomp_uncorrected_norm       0.876842      0.542632\n",
      "19    nihtbx_reading_uncorrected_norm       1.460242      1.073150\n",
      "Epoch 3, Loss: 57.612, Accuracy: 987.529, Val Loss: 31.599, Val Accuracy: 829.227, Time Model: 12.120, Time Data: 1.258\n",
      "Epochs: 4\n"
     ]
    },
    {
     "name": "stdout",
     "output_type": "stream",
     "text": [
      "10.0\n"
     ]
    },
    {
     "name": "stdout",
     "output_type": "stream",
     "text": [
      "20.0\n"
     ]
    },
    {
     "name": "stdout",
     "output_type": "stream",
     "text": [
      "30.0\n"
     ]
    },
    {
     "name": "stdout",
     "output_type": "stream",
     "text": [
      "40.0\n"
     ]
    },
    {
     "name": "stdout",
     "output_type": "stream",
     "text": [
      "50.0\n"
     ]
    },
    {
     "name": "stdout",
     "output_type": "stream",
     "text": [
      "60.0\n"
     ]
    },
    {
     "name": "stdout",
     "output_type": "stream",
     "text": [
      "70.0\n"
     ]
    },
    {
     "name": "stdout",
     "output_type": "stream",
     "text": [
      "10.0\n"
     ]
    },
    {
     "name": "stdout",
     "output_type": "stream",
     "text": [
      "10.0\n"
     ]
    },
    {
     "name": "stdout",
     "output_type": "stream",
     "text": [
      "                                 name  best_loss_test  best_acc_test\n",
      "0                             married        0.148893       0.860656\n",
      "1                        income_group        0.273140       0.245902\n",
      "2                     high.educ_group        0.054400       0.909836\n",
      "3                              female        0.096886       0.540984\n",
      "4                      race.ethnicity        0.096345       0.778689\n",
      "5                            BMI_norm        0.616649      10.841689\n",
      "6                            age_norm        1.699827      95.083888\n",
      "7                            vol_norm        0.315511       0.316584\n",
      "8                         weight_norm        0.794705     432.247118\n",
      "9                         height_norm        1.050383      10.440673\n",
      "10  nihtbx_fluidcomp_uncorrected_norm        0.954381       0.715845\n",
      "11      nihtbx_cryst_uncorrected_norm        1.016574       0.625700\n",
      "12    nihtbx_pattern_uncorrected_norm        3.242746       2.918339\n",
      "13    nihtbx_picture_uncorrected_norm        1.446249       1.326758\n",
      "14       nihtbx_list_uncorrected_norm        0.789502       0.625161\n",
      "15    nihtbx_flanker_uncorrected_norm        0.943591       0.776401\n",
      "16   nihtbx_picvocab_uncorrected_norm        1.073035       0.693362\n",
      "17   nihtbx_cardsort_uncorrected_norm        1.521626       1.307878\n",
      "18  nihtbx_totalcomp_uncorrected_norm        0.995666       0.616165\n",
      "19    nihtbx_reading_uncorrected_norm        1.334912       0.981043\n",
      "                                 name  best_loss_val  best_acc_val\n",
      "0                             married       0.136353      0.819672\n",
      "1                        income_group       0.231082      0.352459\n",
      "2                     high.educ_group       0.058346      0.827869\n",
      "3                              female       0.089281      0.491803\n",
      "4                      race.ethnicity       0.083836      0.786885\n",
      "5                            BMI_norm       0.586618     10.313692\n",
      "6                            age_norm       1.741745     97.428679\n",
      "7                            vol_norm       0.323059      0.324158\n",
      "8                         weight_norm       0.606090    329.657307\n",
      "9                         height_norm       1.053014     10.466824\n",
      "10  nihtbx_fluidcomp_uncorrected_norm       0.941569      0.706235\n",
      "11      nihtbx_cryst_uncorrected_norm       0.960980      0.591482\n",
      "12    nihtbx_pattern_uncorrected_norm       2.963470      2.667002\n",
      "13    nihtbx_picture_uncorrected_norm       1.767498      1.621465\n",
      "14       nihtbx_list_uncorrected_norm       0.789153      0.624885\n",
      "15    nihtbx_flanker_uncorrected_norm       1.047798      0.862144\n",
      "16   nihtbx_picvocab_uncorrected_norm       1.026646      0.663387\n",
      "17   nihtbx_cardsort_uncorrected_norm       1.296577      1.114442\n",
      "18  nihtbx_totalcomp_uncorrected_norm       0.876842      0.542632\n",
      "19    nihtbx_reading_uncorrected_norm       1.460242      1.073150\n",
      "Epoch 4, Loss: 58.403, Accuracy: 1025.921, Val Loss: 157.759, Val Accuracy: 2057.319, Time Model: 12.097, Time Data: 1.311\n",
      "Epochs: 5\n"
     ]
    },
    {
     "name": "stdout",
     "output_type": "stream",
     "text": [
      "10.0\n"
     ]
    },
    {
     "name": "stdout",
     "output_type": "stream",
     "text": [
      "20.0\n"
     ]
    },
    {
     "name": "stdout",
     "output_type": "stream",
     "text": [
      "30.0\n"
     ]
    },
    {
     "name": "stdout",
     "output_type": "stream",
     "text": [
      "40.0\n"
     ]
    },
    {
     "name": "stdout",
     "output_type": "stream",
     "text": [
      "50.0\n"
     ]
    },
    {
     "name": "stdout",
     "output_type": "stream",
     "text": [
      "60.0\n"
     ]
    },
    {
     "name": "stdout",
     "output_type": "stream",
     "text": [
      "70.0\n"
     ]
    },
    {
     "name": "stdout",
     "output_type": "stream",
     "text": [
      "10.0\n"
     ]
    },
    {
     "name": "stdout",
     "output_type": "stream",
     "text": [
      "10.0\n"
     ]
    },
    {
     "name": "stdout",
     "output_type": "stream",
     "text": [
      "                                 name  best_loss_test  best_acc_test\n",
      "0                             married        0.124573       0.860656\n",
      "1                        income_group        0.273140       0.245902\n",
      "2                     high.educ_group        0.054400       0.909836\n",
      "3                              female        0.096886       0.540984\n",
      "4                      race.ethnicity        0.096345       0.778689\n",
      "5                            BMI_norm        0.616649      10.841689\n",
      "6                            age_norm        1.699827      95.083888\n",
      "7                            vol_norm        0.315511       0.316584\n",
      "8                         weight_norm        0.794705     432.247118\n",
      "9                         height_norm        0.710839       7.065649\n",
      "10  nihtbx_fluidcomp_uncorrected_norm        0.954381       0.715845\n",
      "11      nihtbx_cryst_uncorrected_norm        1.016574       0.625700\n",
      "12    nihtbx_pattern_uncorrected_norm        3.242746       2.918339\n",
      "13    nihtbx_picture_uncorrected_norm        0.981435       0.900347\n",
      "14       nihtbx_list_uncorrected_norm        0.789502       0.625161\n",
      "15    nihtbx_flanker_uncorrected_norm        0.943591       0.776401\n",
      "16   nihtbx_picvocab_uncorrected_norm        1.073035       0.693362\n",
      "17   nihtbx_cardsort_uncorrected_norm        1.521626       1.307878\n",
      "18  nihtbx_totalcomp_uncorrected_norm        0.995666       0.616165\n",
      "19    nihtbx_reading_uncorrected_norm        1.334912       0.981043\n",
      "                                 name  best_loss_val  best_acc_val\n",
      "0                             married       0.097276      0.819672\n",
      "1                        income_group       0.231082      0.360656\n",
      "2                     high.educ_group       0.058346      0.827869\n",
      "3                              female       0.089281      0.491803\n",
      "4                      race.ethnicity       0.083836      0.786885\n",
      "5                            BMI_norm       0.586618     10.313692\n",
      "6                            age_norm       1.741745     97.428679\n",
      "7                            vol_norm       0.323059      0.324158\n",
      "8                         weight_norm       0.606090    329.657307\n",
      "9                         height_norm       0.608682      6.050217\n",
      "10  nihtbx_fluidcomp_uncorrected_norm       0.941569      0.706235\n",
      "11      nihtbx_cryst_uncorrected_norm       0.960980      0.591482\n",
      "12    nihtbx_pattern_uncorrected_norm       2.963470      2.667002\n",
      "13    nihtbx_picture_uncorrected_norm       1.170151      1.073472\n",
      "14       nihtbx_list_uncorrected_norm       0.789153      0.624885\n",
      "15    nihtbx_flanker_uncorrected_norm       1.047798      0.862144\n",
      "16   nihtbx_picvocab_uncorrected_norm       1.026646      0.663387\n",
      "17   nihtbx_cardsort_uncorrected_norm       1.296577      1.114442\n",
      "18  nihtbx_totalcomp_uncorrected_norm       0.876842      0.542632\n",
      "19    nihtbx_reading_uncorrected_norm       1.460242      1.073150\n",
      "Epoch 5, Loss: 58.606, Accuracy: 1002.085, Val Loss: 83.407, Val Accuracy: 1091.240, Time Model: 12.141, Time Data: 1.285\n",
      "Epochs: 6\n"
     ]
    },
    {
     "name": "stdout",
     "output_type": "stream",
     "text": [
      "10.0\n"
     ]
    },
    {
     "name": "stdout",
     "output_type": "stream",
     "text": [
      "20.0\n"
     ]
    },
    {
     "name": "stdout",
     "output_type": "stream",
     "text": [
      "30.0\n"
     ]
    },
    {
     "name": "stdout",
     "output_type": "stream",
     "text": [
      "40.0\n"
     ]
    },
    {
     "name": "stdout",
     "output_type": "stream",
     "text": [
      "50.0\n"
     ]
    },
    {
     "name": "stdout",
     "output_type": "stream",
     "text": [
      "60.0\n"
     ]
    },
    {
     "name": "stdout",
     "output_type": "stream",
     "text": [
      "70.0\n"
     ]
    },
    {
     "name": "stdout",
     "output_type": "stream",
     "text": [
      "10.0\n"
     ]
    },
    {
     "name": "stdout",
     "output_type": "stream",
     "text": [
      "10.0\n"
     ]
    },
    {
     "name": "stdout",
     "output_type": "stream",
     "text": [
      "                                 name  best_loss_test  best_acc_test\n",
      "0                             married        0.124573       0.860656\n",
      "1                        income_group        0.273140       0.245902\n",
      "2                     high.educ_group        0.054400       0.909836\n",
      "3                              female        0.075567       0.795082\n",
      "4                      race.ethnicity        0.096345       0.778689\n",
      "5                            BMI_norm        0.668438      11.752220\n",
      "6                            age_norm        1.699827      95.083888\n",
      "7                            vol_norm        0.315511       0.316584\n",
      "8                         weight_norm        0.794705     432.247118\n",
      "9                         height_norm        0.710839       7.065649\n",
      "10  nihtbx_fluidcomp_uncorrected_norm        0.954381       0.715845\n",
      "11      nihtbx_cryst_uncorrected_norm        1.016574       0.625700\n",
      "12    nihtbx_pattern_uncorrected_norm        3.242746       2.918339\n",
      "13    nihtbx_picture_uncorrected_norm        0.831418       0.762725\n",
      "14       nihtbx_list_uncorrected_norm        0.789502       0.625161\n",
      "15    nihtbx_flanker_uncorrected_norm        0.943591       0.776401\n",
      "16   nihtbx_picvocab_uncorrected_norm        1.073035       0.693362\n",
      "17   nihtbx_cardsort_uncorrected_norm        1.521626       1.307878\n",
      "18  nihtbx_totalcomp_uncorrected_norm        0.995666       0.616165\n",
      "19    nihtbx_reading_uncorrected_norm        1.334912       0.981043\n",
      "                                 name  best_loss_val  best_acc_val\n",
      "0                             married       0.097276      0.819672\n",
      "1                        income_group       0.231082      0.360656\n",
      "2                     high.educ_group       0.058346      0.827869\n",
      "3                              female       0.072858      0.737705\n",
      "4                      race.ethnicity       0.083836      0.786885\n",
      "5                            BMI_norm       0.515193      9.057914\n",
      "6                            age_norm       1.741745     97.428679\n",
      "7                            vol_norm       0.323059      0.324158\n",
      "8                         weight_norm       0.606090    329.657307\n",
      "9                         height_norm       0.608682      6.050217\n",
      "10  nihtbx_fluidcomp_uncorrected_norm       0.941569      0.706235\n",
      "11      nihtbx_cryst_uncorrected_norm       0.960980      0.591482\n",
      "12    nihtbx_pattern_uncorrected_norm       2.963470      2.667002\n",
      "13    nihtbx_picture_uncorrected_norm       1.117684      1.025339\n",
      "14       nihtbx_list_uncorrected_norm       0.789153      0.624885\n",
      "15    nihtbx_flanker_uncorrected_norm       1.047798      0.862144\n",
      "16   nihtbx_picvocab_uncorrected_norm       1.026646      0.663387\n",
      "17   nihtbx_cardsort_uncorrected_norm       1.296577      1.114442\n",
      "18  nihtbx_totalcomp_uncorrected_norm       0.876842      0.542632\n",
      "19    nihtbx_reading_uncorrected_norm       1.460242      1.073150\n",
      "Epoch 6, Loss: 57.463, Accuracy: 972.422, Val Loss: 132.563, Val Accuracy: 7420.619, Time Model: 12.167, Time Data: 1.265\n"
     ]
    }
   ],
   "source": [
    "decoder = np.vectorize(lambda x: x.decode('UTF-8'))\n",
    "template = 'Epoch {0}, Loss: {1:.3f}, Accuracy: {2:.3f}, Val Loss: {3:.3f}, Val Accuracy: {4:.3f}, Time Model: {5:.3f}, Time Data: {6:.3f}'\n",
    "for col in [0]:\n",
    "  log_textfile(path_output + modelname + 'multitask_test' + '.log', cat_cols),\n",
    "  log_textfile(path_output + modelname + 'multitask_test' + '.log', num_cols)\n",
    "  loss_object = tf.keras.losses.SparseCategoricalCrossentropy()\n",
    "  optimizer = tf.keras.optimizers.Adam(lr = 0.001)\n",
    "  model = Model(cat_cols, num_cols)\n",
    "  df_best = None\n",
    "  for e in range(20):\n",
    "    log_textfile(path_output + modelname + 'multitask_test' + '.log', 'Epochs: ' + str(e))\n",
    "    loss = tf.Variable(0.)\n",
    "    acc = tf.Variable(0.) \n",
    "    val_loss = tf.Variable(0.)\n",
    "    val_acc = tf.Variable(0.)\n",
    "    test_loss = tf.Variable(0.)\n",
    "    test_acc = tf.Variable(0.)\n",
    "    tf.keras.backend.set_learning_phase(True)\n",
    "    train_out_loss, train_out_acc, n, time_model, time_data = epoch(train_iter, train_df, model, optimizer, cat_cols, num_cols, norm_dict)\n",
    "    tf.keras.backend.set_learning_phase(False)\n",
    "    val_out_loss, val_out_acc, n, _, _ = epoch(val_iter, val_df, model, None, cat_cols, num_cols, norm_dict)\n",
    "    test_out_loss, test_out_acc, n, _, _ = epoch(test_iter, test_df, model, None, cat_cols, num_cols, norm_dict)\n",
    "    loss, acc, _ = format_output(train_out_loss, train_out_acc, n, list(cat_cols.keys())+num_cols)\n",
    "    val_loss, val_acc, df_val = format_output(val_out_loss, val_out_acc, n, list(cat_cols.keys())+num_cols, print_bl=False)\n",
    "    test_loss, test_acc, df_test = format_output(test_out_loss, test_out_acc, n, list(cat_cols.keys())+num_cols, print_bl=False)\n",
    "    df_val.columns = ['name', 'cur_loss_val', 'cur_acc_val']\n",
    "    df_test.columns = ['name', 'cur_loss_test', 'cur_acc_test']\n",
    "    if e == 0:\n",
    "      df_best = pd.merge(df_test, df_val, how='left', left_on='name', right_on='name')\n",
    "      df_best.columns = ['name', 'best_loss_test', 'best_acc_test', 'best_loss_val', 'best_acc_val']\n",
    "    df_best = best_val(df_best, df_val, df_test)\n",
    "    print(df_best[['name', 'best_loss_test', 'best_acc_test']])\n",
    "    print(df_best[['name', 'best_loss_val', 'best_acc_val']])\n",
    "    log_textfile(path_output +  modelname + 'multitask_test' + '.log', template.format(e, loss, acc, val_loss, val_acc, time_model, time_data))\n",
    "    if list(np.asarray(df_test.loc[df_test['name']=='female','cur_acc_test'].values)>0.70)[0]:\n",
    "      break\n",
    "    if e in [10, 15]:\n",
    "      optimizer.lr = optimizer.lr/3\n",
    "      log_textfile(path_output +  modelname + 'multitask_test' + '.log', 'Learning rate: ' + str(optimizer.lr))\n",
    "    df_best.to_csv(path_output +  modelname + 'multitask_test' + '.csv')"
   ]
  },
  {
   "cell_type": "code",
   "execution_count": 13,
   "metadata": {
    "papermill": {
     "duration": 0.110374,
     "end_time": "2019-11-16T01:46:43.160434",
     "exception": false,
     "start_time": "2019-11-16T01:46:43.050060",
     "status": "completed"
    },
    "tags": []
   },
   "outputs": [],
   "source": [
    "test_loss, test_acc, df_test = format_output(test_out_loss, test_out_acc, n, list(cat_cols.keys())+num_cols, print_bl=False)"
   ]
  },
  {
   "cell_type": "code",
   "execution_count": 14,
   "metadata": {
    "papermill": {
     "duration": 0.08685,
     "end_time": "2019-11-16T01:46:43.289155",
     "exception": false,
     "start_time": "2019-11-16T01:46:43.202305",
     "status": "completed"
    },
    "tags": []
   },
   "outputs": [],
   "source": [
    "df_test.to_csv('final_output_simple.csv')"
   ]
  },
  {
   "cell_type": "code",
   "execution_count": 15,
   "metadata": {
    "papermill": {
     "duration": 1.224639,
     "end_time": "2019-11-16T01:46:44.556894",
     "exception": false,
     "start_time": "2019-11-16T01:46:43.332255",
     "status": "completed"
    },
    "tags": []
   },
   "outputs": [],
   "source": [
    "inputs = tf.keras.Input(shape=(64,64,64,2), name='inputlayer123')\n",
    "a = model(inputs)['female']\n",
    "mm = tf.keras.models.Model(inputs=inputs, outputs=a)"
   ]
  },
  {
   "cell_type": "code",
   "execution_count": 16,
   "metadata": {
    "papermill": {
     "duration": 76.141107,
     "end_time": "2019-11-16T01:48:00.740409",
     "exception": false,
     "start_time": "2019-11-16T01:46:44.599302",
     "status": "completed"
    },
    "tags": []
   },
   "outputs": [
    {
     "name": "stdout",
     "output_type": "stream",
     "text": [
      "1\n"
     ]
    },
    {
     "name": "stdout",
     "output_type": "stream",
     "text": [
      "2\n"
     ]
    },
    {
     "name": "stdout",
     "output_type": "stream",
     "text": [
      "3\n"
     ]
    },
    {
     "name": "stdout",
     "output_type": "stream",
     "text": [
      "4\n"
     ]
    },
    {
     "name": "stdout",
     "output_type": "stream",
     "text": [
      "5\n"
     ]
    },
    {
     "name": "stdout",
     "output_type": "stream",
     "text": [
      "6\n"
     ]
    },
    {
     "name": "stdout",
     "output_type": "stream",
     "text": [
      "7\n"
     ]
    },
    {
     "name": "stdout",
     "output_type": "stream",
     "text": [
      "8\n"
     ]
    },
    {
     "name": "stdout",
     "output_type": "stream",
     "text": [
      "9\n"
     ]
    },
    {
     "name": "stdout",
     "output_type": "stream",
     "text": [
      "10\n"
     ]
    },
    {
     "name": "stdout",
     "output_type": "stream",
     "text": [
      "11\n"
     ]
    },
    {
     "name": "stdout",
     "output_type": "stream",
     "text": [
      "12\n"
     ]
    },
    {
     "name": "stdout",
     "output_type": "stream",
     "text": [
      "13\n"
     ]
    },
    {
     "name": "stdout",
     "output_type": "stream",
     "text": [
      "14\n"
     ]
    },
    {
     "name": "stdout",
     "output_type": "stream",
     "text": [
      "15\n"
     ]
    },
    {
     "name": "stdout",
     "output_type": "stream",
     "text": [
      "16\n"
     ]
    }
   ],
   "source": [
    "from tf_explain.core.smoothgrad import SmoothGrad\n",
    "import pickle\n",
    "\n",
    "explainer = SmoothGrad()\n",
    "output_grid = {}\n",
    "output_n = {}\n",
    "for i in range(2):\n",
    "  output_grid[i] = np.zeros((64,64,64))\n",
    "  output_n[i] = 0\n",
    "counter = 0\n",
    "for batch in test_iter:\n",
    "  counter+=1\n",
    "  print(counter)\n",
    "  t1 = (tf.cast(batch['t1'], tf.float32)-t1_mean)/t1_std\n",
    "  t2 = (batch['t2']-t2_mean)/t2_std\n",
    "  X = tf.concat([t1, t2], axis=4)\n",
    "  subjectid = decoder(batch['subjectid'])\n",
    "  y = get_labels(test_df, subjectid, list(cat_cols.keys())+num_cols)\n",
    "  y_list = list(y['female'])\n",
    "  for i in range(X.shape[0]):\n",
    "    X_i = X[i]\n",
    "    X_i = tf.expand_dims(X_i, axis=0)\n",
    "    y_i = y_list[i]\n",
    "    grid = explainer.explain((X_i, _), mm, y_i, 20, 1.)\n",
    "    output_grid[y_i] += grid\n",
    "    output_n[y_i] += 1"
   ]
  },
  {
   "cell_type": "code",
   "execution_count": 17,
   "metadata": {
    "papermill": {
     "duration": 0.115999,
     "end_time": "2019-11-16T01:48:00.901661",
     "exception": false,
     "start_time": "2019-11-16T01:48:00.785662",
     "status": "completed"
    },
    "tags": []
   },
   "outputs": [],
   "source": [
    "pickle.dump([output_grid, output_n], open( \"smoothgrad_female_simple.p\", \"wb\" ) )"
   ]
  },
  {
   "cell_type": "code",
   "execution_count": 18,
   "metadata": {
    "papermill": {
     "duration": 0.090402,
     "end_time": "2019-11-16T01:48:01.036473",
     "exception": false,
     "start_time": "2019-11-16T01:48:00.946071",
     "status": "completed"
    },
    "tags": []
   },
   "outputs": [],
   "source": [
    "#output_grid, output_n = pickle.load(open( \"smoothgrad_female.p\", \"rb\" ))"
   ]
  },
  {
   "cell_type": "code",
   "execution_count": 19,
   "metadata": {
    "papermill": {
     "duration": 0.088046,
     "end_time": "2019-11-16T01:48:01.169706",
     "exception": false,
     "start_time": "2019-11-16T01:48:01.081660",
     "status": "completed"
    },
    "tags": []
   },
   "outputs": [],
   "source": [
    "def apply_grey_patch(image, top_left_x, top_left_y, top_left_z, patch_size):\n",
    "    \"\"\"\n",
    "    Replace a part of the image with a grey patch.\n",
    "    Args:\n",
    "        image (numpy.ndarray): Input image\n",
    "        top_left_x (int): Top Left X position of the applied box\n",
    "        top_left_y (int): Top Left Y position of the applied box\n",
    "        patch_size (int): Size of patch to apply\n",
    "    Returns:\n",
    "        numpy.ndarray: Patched image\n",
    "    \"\"\"\n",
    "    patched_image = np.array(image, copy=True)\n",
    "    patched_image[\n",
    "        top_left_x : top_left_x + patch_size, top_left_y : top_left_y + patch_size, top_left_z : top_left_z + patch_size, :\n",
    "    ] = 0\n",
    "\n",
    "    return patched_image"
   ]
  },
  {
   "cell_type": "code",
   "execution_count": 20,
   "metadata": {
    "papermill": {
     "duration": 0.083552,
     "end_time": "2019-11-16T01:48:01.299054",
     "exception": false,
     "start_time": "2019-11-16T01:48:01.215502",
     "status": "completed"
    },
    "tags": []
   },
   "outputs": [],
   "source": [
    "import math"
   ]
  },
  {
   "cell_type": "code",
   "execution_count": 21,
   "metadata": {
    "papermill": {
     "duration": 0.093256,
     "end_time": "2019-11-16T01:48:01.439150",
     "exception": false,
     "start_time": "2019-11-16T01:48:01.345894",
     "status": "completed"
    },
    "tags": []
   },
   "outputs": [],
   "source": [
    "def get_sensgrid(image, mm, class_index, patch_size):\n",
    "  sensitivity_map = np.zeros((\n",
    "    math.ceil(image.shape[0] / patch_size),\n",
    "    math.ceil(image.shape[1] / patch_size),\n",
    "    math.ceil(image.shape[2] / patch_size)\n",
    "  ))\n",
    "  for index_z, top_left_z in enumerate(range(0, image.shape[2], patch_size)):\n",
    "    patches = [\n",
    "              apply_grey_patch(image, top_left_x, top_left_y, top_left_z, patch_size)\n",
    "              for index_x, top_left_x in enumerate(range(0, image.shape[0], patch_size))\n",
    "              for index_y, top_left_y in enumerate(range(0, image.shape[1], patch_size))\n",
    "              ]\n",
    "    coordinates = [\n",
    "                (index_y, index_x)\n",
    "                for index_x, _ in enumerate(range(0, image.shape[0], patch_size))\n",
    "                for index_y, _ in enumerate(range(0, image.shape[1], patch_size))\n",
    "                ]\n",
    "    predictions = mm.predict(np.array(patches), batch_size=1)\n",
    "    target_class_predictions = [prediction[class_index] for prediction in predictions]\n",
    "    for (index_y, index_x), confidence in zip(coordinates, target_class_predictions):\n",
    "      sensitivity_map[index_y, index_x, index_z] = 1 - confidence\n",
    "  sm = resize(sensitivity_map, (64,64,64))\n",
    "  heatmap = (sm - np.min(sm)) / (sm.max() - sm.min())\n",
    "  return(heatmap)"
   ]
  },
  {
   "cell_type": "code",
   "execution_count": 22,
   "metadata": {
    "papermill": {
     "duration": 2408.914919,
     "end_time": "2019-11-16T02:28:10.398894",
     "exception": false,
     "start_time": "2019-11-16T01:48:01.483975",
     "status": "completed"
    },
    "tags": []
   },
   "outputs": [
    {
     "name": "stdout",
     "output_type": "stream",
     "text": [
      "1\n",
      "0\n"
     ]
    },
    {
     "name": "stdout",
     "output_type": "stream",
     "text": [
      "1\n"
     ]
    },
    {
     "name": "stdout",
     "output_type": "stream",
     "text": [
      "2\n"
     ]
    },
    {
     "name": "stdout",
     "output_type": "stream",
     "text": [
      "3\n"
     ]
    },
    {
     "name": "stdout",
     "output_type": "stream",
     "text": [
      "4\n"
     ]
    },
    {
     "name": "stdout",
     "output_type": "stream",
     "text": [
      "5\n"
     ]
    },
    {
     "name": "stdout",
     "output_type": "stream",
     "text": [
      "6\n"
     ]
    },
    {
     "name": "stdout",
     "output_type": "stream",
     "text": [
      "7\n"
     ]
    },
    {
     "name": "stdout",
     "output_type": "stream",
     "text": [
      "2\n",
      "0\n"
     ]
    },
    {
     "name": "stdout",
     "output_type": "stream",
     "text": [
      "1\n"
     ]
    },
    {
     "name": "stdout",
     "output_type": "stream",
     "text": [
      "2\n"
     ]
    },
    {
     "name": "stdout",
     "output_type": "stream",
     "text": [
      "3\n"
     ]
    },
    {
     "name": "stdout",
     "output_type": "stream",
     "text": [
      "4\n"
     ]
    },
    {
     "name": "stdout",
     "output_type": "stream",
     "text": [
      "5\n"
     ]
    },
    {
     "name": "stdout",
     "output_type": "stream",
     "text": [
      "6\n"
     ]
    },
    {
     "name": "stdout",
     "output_type": "stream",
     "text": [
      "7\n"
     ]
    },
    {
     "name": "stdout",
     "output_type": "stream",
     "text": [
      "3\n",
      "0\n"
     ]
    },
    {
     "name": "stdout",
     "output_type": "stream",
     "text": [
      "1\n"
     ]
    },
    {
     "name": "stdout",
     "output_type": "stream",
     "text": [
      "2\n"
     ]
    },
    {
     "name": "stdout",
     "output_type": "stream",
     "text": [
      "3\n"
     ]
    },
    {
     "name": "stdout",
     "output_type": "stream",
     "text": [
      "4\n"
     ]
    },
    {
     "name": "stdout",
     "output_type": "stream",
     "text": [
      "5\n"
     ]
    },
    {
     "name": "stdout",
     "output_type": "stream",
     "text": [
      "6\n"
     ]
    },
    {
     "name": "stdout",
     "output_type": "stream",
     "text": [
      "7\n"
     ]
    },
    {
     "name": "stdout",
     "output_type": "stream",
     "text": [
      "4\n",
      "0\n"
     ]
    },
    {
     "name": "stdout",
     "output_type": "stream",
     "text": [
      "1\n"
     ]
    },
    {
     "name": "stdout",
     "output_type": "stream",
     "text": [
      "2\n"
     ]
    },
    {
     "name": "stdout",
     "output_type": "stream",
     "text": [
      "3\n"
     ]
    },
    {
     "name": "stdout",
     "output_type": "stream",
     "text": [
      "4\n"
     ]
    },
    {
     "name": "stdout",
     "output_type": "stream",
     "text": [
      "5\n"
     ]
    },
    {
     "name": "stdout",
     "output_type": "stream",
     "text": [
      "6\n"
     ]
    },
    {
     "name": "stdout",
     "output_type": "stream",
     "text": [
      "7\n"
     ]
    },
    {
     "name": "stdout",
     "output_type": "stream",
     "text": [
      "5\n",
      "0\n"
     ]
    },
    {
     "name": "stdout",
     "output_type": "stream",
     "text": [
      "1\n"
     ]
    },
    {
     "name": "stdout",
     "output_type": "stream",
     "text": [
      "2\n"
     ]
    },
    {
     "name": "stdout",
     "output_type": "stream",
     "text": [
      "3\n"
     ]
    },
    {
     "name": "stdout",
     "output_type": "stream",
     "text": [
      "4\n"
     ]
    },
    {
     "name": "stdout",
     "output_type": "stream",
     "text": [
      "5\n"
     ]
    },
    {
     "name": "stdout",
     "output_type": "stream",
     "text": [
      "6\n"
     ]
    },
    {
     "name": "stdout",
     "output_type": "stream",
     "text": [
      "7\n"
     ]
    },
    {
     "name": "stdout",
     "output_type": "stream",
     "text": [
      "6\n",
      "0\n"
     ]
    },
    {
     "name": "stdout",
     "output_type": "stream",
     "text": [
      "1\n"
     ]
    },
    {
     "name": "stdout",
     "output_type": "stream",
     "text": [
      "2\n"
     ]
    },
    {
     "name": "stdout",
     "output_type": "stream",
     "text": [
      "3\n"
     ]
    },
    {
     "name": "stdout",
     "output_type": "stream",
     "text": [
      "4\n"
     ]
    },
    {
     "name": "stdout",
     "output_type": "stream",
     "text": [
      "5\n"
     ]
    },
    {
     "name": "stdout",
     "output_type": "stream",
     "text": [
      "6\n"
     ]
    },
    {
     "name": "stdout",
     "output_type": "stream",
     "text": [
      "7\n"
     ]
    }
   ],
   "source": [
    "output_grid = {}\n",
    "output_n = {}\n",
    "for i in range(2):\n",
    "  output_grid[i] = np.zeros((64,64,64))\n",
    "  output_n[i] = 0\n",
    "\n",
    "counter = 0\n",
    "for batch in test_iter:\n",
    "  counter+=1\n",
    "  print(counter)\n",
    "  t1 = (tf.cast(batch['t1'], tf.float32)-t1_mean)/t1_std\n",
    "  t2 = (batch['t2']-t2_mean)/t2_std\n",
    "  X = tf.concat([t1, t2], axis=4)\n",
    "  subjectid = decoder(batch['subjectid'])\n",
    "  y = get_labels(test_df, subjectid, list(cat_cols.keys())+num_cols)\n",
    "  y_list = list(y['female'])\n",
    "  for i in range(X.shape[0]):\n",
    "    print(i)\n",
    "    X_i = X[i]\n",
    "    y_i = y_list[i]\n",
    "    grid = get_sensgrid(X_i, mm, y_i, 4)\n",
    "    output_grid[y_i] += grid\n",
    "    output_n[y_i] += 1\n",
    "  if counter==6:\n",
    "    break"
   ]
  },
  {
   "cell_type": "code",
   "execution_count": 23,
   "metadata": {
    "papermill": {
     "duration": 0.128523,
     "end_time": "2019-11-16T02:28:10.586958",
     "exception": false,
     "start_time": "2019-11-16T02:28:10.458435",
     "status": "completed"
    },
    "tags": []
   },
   "outputs": [],
   "source": [
    "pickle.dump([output_grid, output_n], open( \"heatmap_female_simple.p\", \"wb\" ) )"
   ]
  },
  {
   "cell_type": "code",
   "execution_count": 24,
   "metadata": {
    "papermill": {
     "duration": 0.382905,
     "end_time": "2019-11-16T02:28:11.029216",
     "exception": true,
     "start_time": "2019-11-16T02:28:10.646311",
     "status": "failed"
    },
    "tags": []
   },
   "outputs": [
    {
     "ename": "NameError",
     "evalue": "name 'error' is not defined",
     "output_type": "error",
     "traceback": [
      "\u001b[0;31m---------------------------------------------------------------------------\u001b[0m",
      "\u001b[0;31mNameError\u001b[0m                                 Traceback (most recent call last)",
      "\u001b[0;32m<ipython-input-24-ded28046d863>\u001b[0m in \u001b[0;36m<module>\u001b[0;34m\u001b[0m\n\u001b[0;32m----> 1\u001b[0;31m \u001b[0merror\u001b[0m\u001b[0;34m\u001b[0m\u001b[0m\n\u001b[0m",
      "\u001b[0;31mNameError\u001b[0m: name 'error' is not defined"
     ]
    }
   ],
   "source": [
    "error"
   ]
  },
  {
   "cell_type": "code",
   "execution_count": null,
   "metadata": {
    "papermill": {
     "duration": null,
     "end_time": null,
     "exception": null,
     "start_time": null,
     "status": "pending"
    },
    "tags": []
   },
   "outputs": [],
   "source": [
    "batch = next(iter(train_iter))"
   ]
  },
  {
   "cell_type": "code",
   "execution_count": null,
   "metadata": {
    "papermill": {
     "duration": null,
     "end_time": null,
     "exception": null,
     "start_time": null,
     "status": "pending"
    },
    "tags": []
   },
   "outputs": [],
   "source": [
    "t1 = (tf.cast(batch['t1'], tf.float32)-t1_mean)/t1_std\n",
    "t2 = (batch['t2']-t2_mean)/t2_std\n",
    "ad = batch['ad']\n",
    "ad = tf.where(tf.math.is_nan(ad), tf.zeros_like(ad), ad)\n",
    "ad = (ad-ad_mean)/ad_std\n",
    "fa = batch['fa']\n",
    "fa = tf.where(tf.math.is_nan(fa), tf.zeros_like(fa), fa)\n",
    "fa = (fa-fa_mean)/fa_std\n",
    "md = batch['md']\n",
    "md = tf.where(tf.math.is_nan(md), tf.zeros_like(md), md)\n",
    "md = (md-md_mean)/md_std\n",
    "rd = batch['rd']\n",
    "rd = tf.where(tf.math.is_nan(rd), tf.zeros_like(rd), rd)\n",
    "rd = (rd-rd_mean)/rd_std\n",
    "#subjectid = decoder(batch['subjectid'])\n",
    "#y = get_labels(df, subjectid, list(cat_cols.keys())+num_cols)\n",
    "#X = tf.concat([t1, t2, ad, fa, md, rd], axis=4)\n",
    "X = tf.concat([t1, t2], axis=4)    "
   ]
  },
  {
   "cell_type": "code",
   "execution_count": null,
   "metadata": {
    "papermill": {
     "duration": null,
     "end_time": null,
     "exception": null,
     "start_time": null,
     "status": "pending"
    },
    "tags": []
   },
   "outputs": [],
   "source": [
    "tf.keras.backend.set_learning_phase(True)\n",
    "model(X)['female']"
   ]
  },
  {
   "cell_type": "code",
   "execution_count": null,
   "metadata": {
    "papermill": {
     "duration": null,
     "end_time": null,
     "exception": null,
     "start_time": null,
     "status": "pending"
    },
    "tags": []
   },
   "outputs": [],
   "source": [
    "tf.keras.backend.set_learning_phase(False)\n",
    "model(X)['female']"
   ]
  },
  {
   "cell_type": "code",
   "execution_count": null,
   "metadata": {
    "papermill": {
     "duration": null,
     "end_time": null,
     "exception": null,
     "start_time": null,
     "status": "pending"
    },
    "tags": []
   },
   "outputs": [],
   "source": [
    "mean_std = [x.name for x in model.non_trainable_variables if ('batch_norm') in x.name and ('mean' in x.name or 'variance' in x.name)]"
   ]
  },
  {
   "cell_type": "code",
   "execution_count": null,
   "metadata": {
    "papermill": {
     "duration": null,
     "end_time": null,
     "exception": null,
     "start_time": null,
     "status": "pending"
    },
    "tags": []
   },
   "outputs": [],
   "source": [
    "model = Model(cat_cols, num_cols)"
   ]
  },
  {
   "cell_type": "code",
   "execution_count": null,
   "metadata": {
    "papermill": {
     "duration": null,
     "end_time": null,
     "exception": null,
     "start_time": null,
     "status": "pending"
    },
    "tags": []
   },
   "outputs": [],
   "source": [
    "model.non_trainable_variables "
   ]
  },
  {
   "cell_type": "code",
   "execution_count": null,
   "metadata": {
    "papermill": {
     "duration": null,
     "end_time": null,
     "exception": null,
     "start_time": null,
     "status": "pending"
    },
    "tags": []
   },
   "outputs": [],
   "source": []
  }
 ],
 "metadata": {
  "accelerator": "GPU",
  "colab": {
   "collapsed_sections": [],
   "machine_shape": "hm",
   "name": "06_SimpleDL_MultiTask_Valid.ipynb",
   "provenance": []
  },
  "kernelspec": {
   "display_name": "Python 3",
   "language": "python",
   "name": "python3"
  },
  "language_info": {
   "codemirror_mode": {
    "name": "ipython",
    "version": 3
   },
   "file_extension": ".py",
   "mimetype": "text/x-python",
   "name": "python",
   "nbconvert_exporter": "python",
   "pygments_lexer": "ipython3",
   "version": "3.5.3"
  },
  "papermill": {
   "duration": 2692.056232,
   "end_time": "2019-11-16T02:28:16.484215",
   "environment_variables": {},
   "exception": true,
   "input_path": "RunModels_bck_densenet_t1t2_out_site16_norm_tfexplain_simple.ipynb",
   "output_path": "xxx_out4.ipynb",
   "parameters": {},
   "start_time": "2019-11-16T01:43:24.427983",
   "version": "1.2.1"
  }
 },
 "nbformat": 4,
 "nbformat_minor": 1
}