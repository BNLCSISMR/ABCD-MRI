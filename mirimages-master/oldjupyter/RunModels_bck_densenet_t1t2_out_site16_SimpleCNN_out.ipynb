{
 "cells": [
  {
   "cell_type": "code",
   "execution_count": null,
   "metadata": {
    "hide_input": true,
    "inputHidden": true
   },
   "outputs": [
    {
     "data": {
      "text/html": [
       "<span style=\"color:red; font-family:Helvetica Neue, Helvetica, Arial, sans-serif; font-size:2em;\">An Exception was encountered at 'In [13]'.</span>"
      ]
     },
     "metadata": {},
     "output_type": "display_data"
    }
   ],
   "source": [
    "%%html\n",
    "<span style=\"color:red; font-family:Helvetica Neue, Helvetica, Arial, sans-serif; font-size:2em;\">An Exception was encountered at 'In [13]'.</span>"
   ]
  },
  {
   "cell_type": "code",
   "execution_count": 1,
   "metadata": {
    "papermill": {
     "duration": 0.037879,
     "end_time": "2019-11-15T14:16:57.155729",
     "exception": false,
     "start_time": "2019-11-15T14:16:57.117850",
     "status": "completed"
    },
    "tags": []
   },
   "outputs": [],
   "source": [
    "%load_ext autoreload\n",
    "%autoreload 2"
   ]
  },
  {
   "cell_type": "code",
   "execution_count": 2,
   "metadata": {
    "colab": {
     "base_uri": "https://localhost:8080/",
     "height": 34
    },
    "colab_type": "code",
    "executionInfo": {
     "elapsed": 48054,
     "status": "ok",
     "timestamp": 1573636583219,
     "user": {
      "displayName": "Benedikt Dietmar Schifferer",
      "photoUrl": "https://lh3.googleusercontent.com/a-/AAuE7mDViwxKXBjVKZfXMWGuXrQ48D62bye6HNutAOX0=s64",
      "userId": "06737229821528734971"
     },
     "user_tz": -60
    },
    "id": "2mU_ZLUH5jz4",
    "outputId": "c4cbc445-56dd-49df-de87-c34e18da5f6c",
    "papermill": {
     "duration": 2.469264,
     "end_time": "2019-11-15T14:16:59.639002",
     "exception": false,
     "start_time": "2019-11-15T14:16:57.169738",
     "status": "completed"
    },
    "tags": []
   },
   "outputs": [
    {
     "data": {
      "text/plain": [
       "'2.0.0'"
      ]
     },
     "execution_count": 2,
     "metadata": {},
     "output_type": "execute_result"
    }
   ],
   "source": [
    "import glob\n",
    "import nibabel as nib\n",
    "import os\n",
    "import time\n",
    "\n",
    "import pandas as pd\n",
    "import numpy as np\n",
    "\n",
    "from mricode.utils import log_textfile\n",
    "from mricode.utils import copy_colab\n",
    "from mricode.utils import return_iter\n",
    "from mricode.utils import return_csv\n",
    "\n",
    "from mricode.models.SimpleCNN import SimpleCNN\n",
    "from mricode.models.DenseNet import MyDenseNet\n",
    "\n",
    "import tensorflow as tf\n",
    "from tensorflow.keras.layers import Conv3D\n",
    "from tensorflow import nn\n",
    "from tensorflow.python.ops import nn_ops\n",
    "from tensorflow.python.framework import tensor_shape\n",
    "from tensorflow.python.keras.engine.base_layer import InputSpec\n",
    "from tensorflow.python.keras.utils import conv_utils\n",
    "\n",
    "tf.__version__"
   ]
  },
  {
   "cell_type": "code",
   "execution_count": 3,
   "metadata": {
    "papermill": {
     "duration": 0.962791,
     "end_time": "2019-11-15T14:17:00.615843",
     "exception": false,
     "start_time": "2019-11-15T14:16:59.653052",
     "status": "completed"
    },
    "tags": []
   },
   "outputs": [
    {
     "data": {
      "text/plain": [
       "True"
      ]
     },
     "execution_count": 3,
     "metadata": {},
     "output_type": "execute_result"
    }
   ],
   "source": [
    "tf.test.is_gpu_available()"
   ]
  },
  {
   "cell_type": "code",
   "execution_count": 4,
   "metadata": {
    "colab": {},
    "colab_type": "code",
    "id": "nH4XzW8C5yhH",
    "papermill": {
     "duration": 0.05975,
     "end_time": "2019-11-15T14:17:00.689943",
     "exception": false,
     "start_time": "2019-11-15T14:17:00.630193",
     "status": "completed"
    },
    "tags": []
   },
   "outputs": [],
   "source": [
    "path_saved = './modelssaved/DenseNet_T1T2_site16_onlyIntel_20e_SimpleCNN/'\n",
    "path_output = './output/'\n",
    "path_tfrecords = '/data2/res64/down/'\n",
    "path_csv = '/data2/csv/'\n",
    "filename_res = {'train': 'intell_residual_train.csv', 'val': 'intell_residual_valid.csv', 'test': 'intell_residual_test.csv'}\n",
    "filename_final = filename_res\n",
    "sample_size = 'site16_allimages'\n",
    "batch_size = 8\n",
    "onlyt1 = False\n",
    "modelname = 'runAllImages64_DenseNet_T1T2_site16_onlyIntel_20e_SimpleCNN_'\n",
    "Model = SimpleCNN\n",
    "t1_mean=1.3779395849814497\n",
    "t1_std=3.4895845243139503\n",
    "t2_mean=2.22435586968901\n",
    "t2_std=5.07708743178319\n",
    "ad_mean=1.3008901218593748e-05\n",
    "ad_std=0.009966655860940228\n",
    "fa_mean=0.0037552628409334037\n",
    "fa_std=0.012922319568740915\n",
    "md_mean=9.827903909139596e-06\n",
    "md_std=0.009956973204022659\n",
    "rd_mean=8.237404999587111e-06\n",
    "rd_std=0.009954672598675338"
   ]
  },
  {
   "cell_type": "code",
   "execution_count": 5,
   "metadata": {
    "colab": {
     "base_uri": "https://localhost:8080/",
     "height": 71
    },
    "colab_type": "code",
    "executionInfo": {
     "elapsed": 4520,
     "status": "ok",
     "timestamp": 1573636640714,
     "user": {
      "displayName": "Benedikt Dietmar Schifferer",
      "photoUrl": "https://lh3.googleusercontent.com/a-/AAuE7mDViwxKXBjVKZfXMWGuXrQ48D62bye6HNutAOX0=s64",
      "userId": "06737229821528734971"
     },
     "user_tz": -60
    },
    "id": "B-rSS9vT6TuF",
    "outputId": "f5b43cbc-7d59-4c7c-b6d6-78882b1ef3e1",
    "papermill": {
     "duration": 0.293969,
     "end_time": "2019-11-15T14:17:00.998719",
     "exception": false,
     "start_time": "2019-11-15T14:17:00.704750",
     "status": "completed"
    },
    "tags": []
   },
   "outputs": [
    {
     "name": "stdout",
     "output_type": "stream",
     "text": [
      "WARNING:tensorflow:Entity <function return_iter.<locals>._parse_ at 0x7f4d70e29400> could not be transformed and will be executed as-is. Please report this to the AutoGraph team. When filing the bug, set the verbosity to 10 (on Linux, `export AUTOGRAPH_VERBOSITY=10`) and attach the full output. Cause: \n"
     ]
    },
    {
     "name": "stdout",
     "output_type": "stream",
     "text": [
      "WARNING: Entity <function return_iter.<locals>._parse_ at 0x7f4d70e29400> could not be transformed and will be executed as-is. Please report this to the AutoGraph team. When filing the bug, set the verbosity to 10 (on Linux, `export AUTOGRAPH_VERBOSITY=10`) and attach the full output. Cause: \n"
     ]
    }
   ],
   "source": [
    "train_iter, val_iter, test_iter = return_iter(path_tfrecords, sample_size, batch_size, onlyt1=onlyt1)"
   ]
  },
  {
   "cell_type": "code",
   "execution_count": 6,
   "metadata": {
    "colab": {},
    "colab_type": "code",
    "id": "lJ0VnyEzBAes",
    "papermill": {
     "duration": 0.066028,
     "end_time": "2019-11-15T14:17:01.080011",
     "exception": false,
     "start_time": "2019-11-15T14:17:01.013983",
     "status": "completed"
    },
    "tags": []
   },
   "outputs": [],
   "source": [
    "if False:\n",
    "  t1_mean = 0.\n",
    "  t1_std = 0.\n",
    "  t2_mean = 0.\n",
    "  t2_std = 0.\n",
    "  ad_mean = 0.\n",
    "  ad_std = 0.\n",
    "  fa_mean = 0.\n",
    "  fa_std = 0.\n",
    "  md_mean = 0.\n",
    "  md_std = 0.\n",
    "  rd_mean = 0.\n",
    "  rd_std = 0.\n",
    "  n = 0.\n",
    "  for b in train_iter:\n",
    "      t1_mean += np.mean(b['t1'])\n",
    "      t1_std += np.std(b['t1'])\n",
    "      t2_mean += np.mean(b['t2'])\n",
    "      t2_std += np.std(b['t2'])\n",
    "      a = np.asarray(b['ad'])\n",
    "      a = a.copy()\n",
    "      a[np.isnan(a)] = 0\n",
    "      ad_mean += np.mean(a)\n",
    "      ad_std += np.std(a)\n",
    "      a = np.asarray(b['fa'])\n",
    "      a = a.copy()\n",
    "      a[np.isnan(a)] = 0\n",
    "      fa_mean += np.mean(a)\n",
    "      fa_std += np.std(a)\n",
    "      a = np.asarray(b['md'])\n",
    "      a = a.copy()\n",
    "      a[np.isnan(a)] = 0\n",
    "      md_mean += np.mean(a)\n",
    "      md_std += np.std(a)\n",
    "      a = np.asarray(b['rd'])\n",
    "      a = a.copy()\n",
    "      a[np.isnan(a)] = 0\n",
    "      rd_mean += np.mean(a)\n",
    "      rd_std += np.std(a)\n",
    "      n += np.asarray(b['t1']).shape[0]\n",
    "\n",
    "  t1_mean /= n\n",
    "  t1_std /= n\n",
    "  t2_mean /= n\n",
    "  t2_std /= n\n",
    "  ad_mean /= n\n",
    "  ad_std /= n\n",
    "  fa_mean /= n\n",
    "  fa_std /= n\n",
    "  md_mean /= n\n",
    "  md_std /= n\n",
    "  rd_mean /= n\n",
    "  rd_std /= n"
   ]
  },
  {
   "cell_type": "code",
   "execution_count": 7,
   "metadata": {
    "colab": {
     "base_uri": "https://localhost:8080/",
     "height": 85
    },
    "colab_type": "code",
    "executionInfo": {
     "elapsed": 2924,
     "status": "ok",
     "timestamp": 1573636640716,
     "user": {
      "displayName": "Benedikt Dietmar Schifferer",
      "photoUrl": "https://lh3.googleusercontent.com/a-/AAuE7mDViwxKXBjVKZfXMWGuXrQ48D62bye6HNutAOX0=s64",
      "userId": "06737229821528734971"
     },
     "user_tz": -60
    },
    "id": "mSwhEqDPM_r8",
    "outputId": "14a4ac0b-9587-4776-fc64-1e008f0c5c31",
    "papermill": {
     "duration": 0.062296,
     "end_time": "2019-11-15T14:17:01.156512",
     "exception": false,
     "start_time": "2019-11-15T14:17:01.094216",
     "status": "completed"
    },
    "tags": []
   },
   "outputs": [
    {
     "data": {
      "text/plain": [
       "(1.3779395849814497,\n",
       " 3.4895845243139503,\n",
       " 2.22435586968901,\n",
       " 5.07708743178319,\n",
       " 1.3008901218593748e-05,\n",
       " 0.009966655860940228,\n",
       " 0.0037552628409334037,\n",
       " 0.012922319568740915,\n",
       " 9.827903909139596e-06,\n",
       " 0.009956973204022659,\n",
       " 8.237404999587111e-06,\n",
       " 0.009954672598675338)"
      ]
     },
     "execution_count": 7,
     "metadata": {},
     "output_type": "execute_result"
    }
   ],
   "source": [
    "t1_mean, t1_std, t2_mean, t2_std, ad_mean, ad_std, fa_mean, fa_std, md_mean, md_std, rd_mean, rd_std"
   ]
  },
  {
   "cell_type": "code",
   "execution_count": 8,
   "metadata": {
    "colab": {},
    "colab_type": "code",
    "id": "PAyV5ktlA6K1",
    "papermill": {
     "duration": 0.330136,
     "end_time": "2019-11-15T14:17:01.502509",
     "exception": false,
     "start_time": "2019-11-15T14:17:01.172373",
     "status": "completed"
    },
    "tags": []
   },
   "outputs": [],
   "source": [
    "train_df, val_df, test_df, norm_dict = return_csv(path_csv, filename_final, False)"
   ]
  },
  {
   "cell_type": "code",
   "execution_count": 9,
   "metadata": {
    "colab": {
     "base_uri": "https://localhost:8080/",
     "height": 442
    },
    "colab_type": "code",
    "executionInfo": {
     "elapsed": 3147,
     "status": "ok",
     "timestamp": 1573636641787,
     "user": {
      "displayName": "Benedikt Dietmar Schifferer",
      "photoUrl": "https://lh3.googleusercontent.com/a-/AAuE7mDViwxKXBjVKZfXMWGuXrQ48D62bye6HNutAOX0=s64",
      "userId": "06737229821528734971"
     },
     "user_tz": -60
    },
    "id": "0xYy4XUyVBeC",
    "outputId": "a6a19d59-31ff-4064-f1dc-952befcce4b3",
    "papermill": {
     "duration": 0.062158,
     "end_time": "2019-11-15T14:17:01.580159",
     "exception": false,
     "start_time": "2019-11-15T14:17:01.518001",
     "status": "completed"
    },
    "tags": []
   },
   "outputs": [
    {
     "data": {
      "text/plain": [
       "{'BMI': {'mean': 18.681548127052135, 'std': 4.193043131845343},\n",
       " 'age': {'mean': 119.00325844623563, 'std': 7.479129774017182},\n",
       " 'height': {'mean': 55.25173666322929, 'std': 3.152756181679028},\n",
       " 'nihtbx_cardsort_uncorrected': {'mean': 0.01902727147573316,\n",
       "  'std': 0.92710655806542},\n",
       " 'nihtbx_cryst_uncorrected': {'mean': 0.007018628014748754,\n",
       "  'std': 0.7845373584638602},\n",
       " 'nihtbx_flanker_uncorrected': {'mean': 0.02188780794049048,\n",
       "  'std': 0.9070917080607726},\n",
       " 'nihtbx_fluidcomp_uncorrected': {'mean': 0.020178243913565427,\n",
       "  'std': 0.86606123778624},\n",
       " 'nihtbx_list_uncorrected': {'mean': 0.00625176016120734,\n",
       "  'std': 0.8898550695735616},\n",
       " 'nihtbx_pattern_uncorrected': {'mean': 0.020721412569885096,\n",
       "  'std': 0.9486618556882954},\n",
       " 'nihtbx_picture_uncorrected': {'mean': 0.0005782175223803825,\n",
       "  'std': 0.9577989703304521},\n",
       " 'nihtbx_picvocab_uncorrected': {'mean': 0.0068509109986280275,\n",
       "  'std': 0.8038465951211212},\n",
       " 'nihtbx_reading_uncorrected': {'mean': 0.0027847502208883574,\n",
       "  'std': 0.8572703419965433},\n",
       " 'nihtbx_totalcomp_uncorrected': {'mean': 0.016971206631452577,\n",
       "  'std': 0.7866686549175077},\n",
       " 'vol': {'mean': 0.013939557398902416, 'std': 1.001699783217792},\n",
       " 'weight': {'mean': 81.91536668875837, 'std': 23.321845390211728}}"
      ]
     },
     "execution_count": 9,
     "metadata": {},
     "output_type": "execute_result"
    }
   ],
   "source": [
    "norm_dict"
   ]
  },
  {
   "cell_type": "code",
   "execution_count": 10,
   "metadata": {
    "colab": {},
    "colab_type": "code",
    "id": "eTk95ptFV5oN",
    "papermill": {
     "duration": 0.058365,
     "end_time": "2019-11-15T14:17:01.653937",
     "exception": false,
     "start_time": "2019-11-15T14:17:01.595572",
     "status": "completed"
    },
    "tags": []
   },
   "outputs": [],
   "source": [
    "cat_cols = {'female': 2, 'race.ethnicity': 5, 'high.educ_group': 4, 'income_group': 8, 'married': 6}\n",
    "num_cols = [x for x in list(val_df.columns) if '_norm' in x]\n",
    "num_cols = sorted(num_cols)[3:13]"
   ]
  },
  {
   "cell_type": "code",
   "execution_count": 11,
   "metadata": {
    "colab": {},
    "colab_type": "code",
    "id": "hROMApYiDagm",
    "papermill": {
     "duration": 0.096466,
     "end_time": "2019-11-15T14:17:01.766750",
     "exception": false,
     "start_time": "2019-11-15T14:17:01.670284",
     "status": "completed"
    },
    "tags": []
   },
   "outputs": [],
   "source": [
    "def calc_loss_acc(out_loss, out_acc, y_true, y_pred, cat_cols, num_cols, norm_dict):\n",
    "  for col in num_cols:\n",
    "    tmp_col = col\n",
    "    tmp_std = norm_dict[tmp_col.replace('_norm','')]['std']\n",
    "    tmp_y_true = tf.cast(y_true[col], tf.float32).numpy()\n",
    "    tmp_y_pred = np.squeeze(y_pred[col].numpy())\n",
    "    if not(tmp_col in out_loss):\n",
    "      out_loss[tmp_col] = np.sum(np.square(tmp_y_true-tmp_y_pred))\n",
    "    else:\n",
    "      out_loss[tmp_col] += np.sum(np.square(tmp_y_true-tmp_y_pred))\n",
    "    if not(tmp_col in out_acc):\n",
    "      out_acc[tmp_col] = np.sum(np.square((tmp_y_true-tmp_y_pred)*tmp_std))\n",
    "    else:\n",
    "      out_acc[tmp_col] += np.sum(np.square((tmp_y_true-tmp_y_pred)*tmp_std))\n",
    "  for col in list(cat_cols.keys()):\n",
    "    tmp_col = col\n",
    "    if not(tmp_col in out_loss):\n",
    "      out_loss[tmp_col] = tf.keras.losses.SparseCategoricalCrossentropy()(tf.squeeze(y_true[col]), tf.squeeze(y_pred[col])).numpy()\n",
    "    else:\n",
    "      out_loss[tmp_col] += tf.keras.losses.SparseCategoricalCrossentropy()(tf.squeeze(y_true[col]), tf.squeeze(y_pred[col])).numpy()\n",
    "    if not(tmp_col in out_acc):\n",
    "      out_acc[tmp_col] = tf.reduce_sum(tf.dtypes.cast((y_true[col] == tf.argmax(y_pred[col], axis=-1)), tf.float32)).numpy()\n",
    "    else:\n",
    "      out_acc[tmp_col] += tf.reduce_sum(tf.dtypes.cast((y_true[col] == tf.argmax(y_pred[col], axis=-1)), tf.float32)).numpy()    \n",
    "  return(out_loss, out_acc)\n",
    "\n",
    "def format_output(out_loss, out_acc, n, cols, print_bl=False):\n",
    "  loss = 0\n",
    "  acc = 0\n",
    "  output = []\n",
    "  for col in cols:\n",
    "    output.append([col, out_loss[col]/n, out_acc[col]/n])\n",
    "    loss += out_loss[col]/n\n",
    "    acc += out_acc[col]/n\n",
    "  df = pd.DataFrame(output)\n",
    "  df.columns = ['name', 'loss', 'acc']\n",
    "  if print_bl:\n",
    "    print(df)\n",
    "  return(loss, acc, df)\n",
    "\n",
    "@tf.function\n",
    "def train_step(X, y, model, optimizer, cat_cols, num_cols):\n",
    "  with tf.GradientTape() as tape:\n",
    "    predictions = model(X)\n",
    "    i = 0\n",
    "    loss = tf.keras.losses.MSE(tf.cast(y[num_cols[i]], tf.float32), tf.squeeze(predictions[num_cols[i]]))\n",
    "    for i in range(1,len(num_cols)):\n",
    "      loss += tf.keras.losses.MSE(tf.cast(y[num_cols[i]], tf.float32), tf.squeeze(predictions[num_cols[i]]))\n",
    "    for col in list(cat_cols.keys()):\n",
    "      loss += tf.keras.losses.SparseCategoricalCrossentropy()(tf.squeeze(y[col]), tf.squeeze(predictions[col]))\n",
    "  gradients = tape.gradient(loss, model.trainable_variables)\n",
    "  mean_std = [x.name for x in model.non_trainable_variables if ('batch_norm') in x.name and ('mean' in x.name or 'variance' in x.name)]\n",
    "  with tf.control_dependencies(mean_std):\n",
    "    optimizer.apply_gradients(zip(gradients, model.trainable_variables))\n",
    "  return(y, predictions, loss)\n",
    "\n",
    "@tf.function\n",
    "def test_step(X, y, model):\n",
    "  predictions = model(X)\n",
    "  return(y, predictions)\n",
    "\n",
    "def epoch(data_iter, df, model, optimizer, cat_cols, num_cols, norm_dict):\n",
    "  out_loss = {}\n",
    "  out_acc = {}\n",
    "  n = 0.\n",
    "  n_batch = 0.\n",
    "  total_time_dataload = 0.\n",
    "  total_time_model = 0.\n",
    "  start_time = time.time()\n",
    "  for batch in data_iter:\n",
    "    total_time_dataload += time.time() - start_time\n",
    "    start_time = time.time()\n",
    "    t1 = (tf.cast(batch['t1'], tf.float32)-t1_mean)/t1_std\n",
    "    t2 = (batch['t2']-t2_mean)/t2_std\n",
    "    ad = batch['ad']\n",
    "    ad = tf.where(tf.math.is_nan(ad), tf.zeros_like(ad), ad)\n",
    "    ad = (ad-ad_mean)/ad_std\n",
    "    fa = batch['fa']\n",
    "    fa = tf.where(tf.math.is_nan(fa), tf.zeros_like(fa), fa)\n",
    "    fa = (fa-fa_mean)/fa_std\n",
    "    md = batch['md']\n",
    "    md = tf.where(tf.math.is_nan(md), tf.zeros_like(md), md)\n",
    "    md = (md-md_mean)/md_std\n",
    "    rd = batch['rd']\n",
    "    rd = tf.where(tf.math.is_nan(rd), tf.zeros_like(rd), rd)\n",
    "    rd = (rd-rd_mean)/rd_std\n",
    "    subjectid = decoder(batch['subjectid'])\n",
    "    y = get_labels(df, subjectid, list(cat_cols.keys())+num_cols)\n",
    "    X = tf.concat([t1, t2], axis=4)\n",
    "    #X = tf.concat([t1, t2], axis=4)\n",
    "    if optimizer != None:\n",
    "      y_true, y_pred, loss = train_step(X, y, model, optimizer, cat_cols, num_cols)\n",
    "    else:\n",
    "      y_true, y_pred = test_step(X, y, model)\n",
    "    out_loss, out_acc = calc_loss_acc(out_loss, out_acc, y_true, y_pred, cat_cols, num_cols, norm_dict)\n",
    "    n += X.shape[0]\n",
    "    n_batch += 1\n",
    "    if (n_batch % 10) == 0:\n",
    "      print(n_batch)\n",
    "    total_time_model += time.time() - start_time\n",
    "    start_time = time.time()\n",
    "  return (out_loss, out_acc, n, total_time_model, total_time_dataload)\n",
    "\n",
    "def get_labels(df, subjectid, cols = ['nihtbx_fluidcomp_uncorrected_norm']):\n",
    "  subjects_df = pd.DataFrame(subjectid)\n",
    "  result_df = pd.merge(subjects_df, df, left_on=0, right_on='subjectkey', how='left')\n",
    "  output = {}\n",
    "  for col in cols:\n",
    "    output[col] = np.asarray(result_df[col].values)\n",
    "  return output\n",
    "\n",
    "def best_val(df_best, df_val, df_test):\n",
    "  df_best = pd.merge(df_best, df_val, how='left', left_on='name', right_on='name')\n",
    "  df_best = pd.merge(df_best, df_test, how='left', left_on='name', right_on='name')\n",
    "  df_best.loc[df_best['best_loss_val']>=df_best['cur_loss_val'], 'best_loss_test'] = df_best.loc[df_best['best_loss_val']>=df_best['cur_loss_val'], 'cur_loss_test']\n",
    "  df_best.loc[df_best['best_loss_val']>=df_best['cur_loss_val'], 'best_loss_val'] = df_best.loc[df_best['best_loss_val']>=df_best['cur_loss_val'], 'cur_loss_val']\n",
    "  df_best.loc[(df_best['best_acc_val']<=df_best['cur_acc_val'])&(df_best['name'].isin(['female', 'race.ethnicity', 'high.educ_group', 'income_group', 'married'])), 'best_acc_test'] = df_best.loc[(df_best['best_acc_val']<=df_best['cur_acc_val'])&(df_best['name'].isin(['female', 'race.ethnicity', 'high.educ_group', 'income_group', 'married'])), 'cur_acc_test']\n",
    "  df_best.loc[(df_best['best_acc_val']<=df_best['cur_acc_val'])&(df_best['name'].isin(['female', 'race.ethnicity', 'high.educ_group', 'income_group', 'married'])), 'best_acc_val'] = df_best.loc[(df_best['best_acc_val']<=df_best['cur_acc_val'])&(df_best['name'].isin(['female', 'race.ethnicity', 'high.educ_group', 'income_group', 'married'])), 'cur_acc_val']\n",
    "  df_best.loc[(df_best['best_acc_val']>=df_best['cur_acc_val'])&(~df_best['name'].isin(['female', 'race.ethnicity', 'high.educ_group', 'income_group', 'married'])), 'best_acc_test'] = df_best.loc[(df_best['best_acc_val']>=df_best['cur_acc_val'])&(~df_best['name'].isin(['female', 'race.ethnicity', 'high.educ_group', 'income_group', 'married'])), 'cur_acc_test']\n",
    "  df_best.loc[(df_best['best_acc_val']>=df_best['cur_acc_val'])&(~df_best['name'].isin(['female', 'race.ethnicity', 'high.educ_group', 'income_group', 'married'])), 'best_acc_val'] = df_best.loc[(df_best['best_acc_val']>=df_best['cur_acc_val'])&(~df_best['name'].isin(['female', 'race.ethnicity', 'high.educ_group', 'income_group', 'married'])), 'cur_acc_val']\n",
    "  df_best = df_best.drop(['cur_loss_val', 'cur_acc_val', 'cur_loss_test', 'cur_acc_test'], axis=1)\n",
    "  return(df_best)"
   ]
  },
  {
   "cell_type": "code",
   "execution_count": 12,
   "metadata": {
    "colab": {
     "base_uri": "https://localhost:8080/",
     "height": 1000
    },
    "colab_type": "code",
    "executionInfo": {
     "elapsed": 46355,
     "status": "ok",
     "timestamp": 1573636701683,
     "user": {
      "displayName": "Benedikt Dietmar Schifferer",
      "photoUrl": "https://lh3.googleusercontent.com/a-/AAuE7mDViwxKXBjVKZfXMWGuXrQ48D62bye6HNutAOX0=s64",
      "userId": "06737229821528734971"
     },
     "user_tz": -60
    },
    "id": "RV24LE3k-00n",
    "outputId": "067125be-6ce2-40c9-998e-62f800ccb2f1",
    "papermill": {
     "duration": 332.086223,
     "end_time": "2019-11-15T14:22:33.868700",
     "exception": false,
     "start_time": "2019-11-15T14:17:01.782477",
     "status": "completed"
    },
    "tags": []
   },
   "outputs": [
    {
     "name": "stdout",
     "output_type": "stream",
     "text": [
      "{'race.ethnicity': 5, 'married': 6, 'income_group': 8, 'female': 2, 'high.educ_group': 4}\n",
      "['nihtbx_cardsort_uncorrected_norm', 'nihtbx_cryst_uncorrected_norm', 'nihtbx_flanker_uncorrected_norm', 'nihtbx_fluidcomp_uncorrected_norm', 'nihtbx_list_uncorrected_norm', 'nihtbx_pattern_uncorrected_norm', 'nihtbx_picture_uncorrected_norm', 'nihtbx_picvocab_uncorrected_norm', 'nihtbx_reading_uncorrected_norm', 'nihtbx_totalcomp_uncorrected_norm']\n",
      "Epochs: 0\n"
     ]
    },
    {
     "name": "stdout",
     "output_type": "stream",
     "text": [
      "10.0\n"
     ]
    },
    {
     "name": "stdout",
     "output_type": "stream",
     "text": [
      "20.0\n"
     ]
    },
    {
     "name": "stdout",
     "output_type": "stream",
     "text": [
      "30.0\n"
     ]
    },
    {
     "name": "stdout",
     "output_type": "stream",
     "text": [
      "40.0\n"
     ]
    },
    {
     "name": "stdout",
     "output_type": "stream",
     "text": [
      "50.0\n"
     ]
    },
    {
     "name": "stdout",
     "output_type": "stream",
     "text": [
      "60.0\n"
     ]
    },
    {
     "name": "stdout",
     "output_type": "stream",
     "text": [
      "70.0\n"
     ]
    },
    {
     "name": "stdout",
     "output_type": "stream",
     "text": [
      "10.0\n"
     ]
    },
    {
     "name": "stdout",
     "output_type": "stream",
     "text": [
      "10.0\n"
     ]
    },
    {
     "name": "stdout",
     "output_type": "stream",
     "text": [
      "                                 name  best_loss_test  best_acc_test\n",
      "0                        income_group        1.987917       0.057377\n",
      "1                     high.educ_group        0.200844       0.926230\n",
      "2                             married        1.045420       0.008197\n",
      "3                              female        0.630695       0.459016\n",
      "4                      race.ethnicity        0.351226       0.778689\n",
      "5    nihtbx_cardsort_uncorrected_norm        5.347598       4.596402\n",
      "6       nihtbx_cryst_uncorrected_norm       56.582343      34.826372\n",
      "7     nihtbx_flanker_uncorrected_norm        4.326298       3.559745\n",
      "8   nihtbx_fluidcomp_uncorrected_norm       35.251177      26.440568\n",
      "9        nihtbx_list_uncorrected_norm      294.636687     233.305712\n",
      "10    nihtbx_pattern_uncorrected_norm      160.589155     144.523710\n",
      "11    nihtbx_picture_uncorrected_norm       22.051083      20.229196\n",
      "12   nihtbx_picvocab_uncorrected_norm       58.858615      38.032639\n",
      "13    nihtbx_reading_uncorrected_norm      588.290023     432.341669\n",
      "14  nihtbx_totalcomp_uncorrected_norm       56.574183      35.010790\n",
      "                                 name  best_loss_val  best_acc_val\n",
      "0                        income_group       1.855282      0.057377\n",
      "1                     high.educ_group       0.231892      0.836066\n",
      "2                             married       0.986509      0.000000\n",
      "3                              female       0.565640      0.450820\n",
      "4                      race.ethnicity       0.276640      0.786885\n",
      "5    nihtbx_cardsort_uncorrected_norm       4.450348      3.825193\n",
      "6       nihtbx_cryst_uncorrected_norm      52.002233     32.007318\n",
      "7     nihtbx_flanker_uncorrected_norm       4.111813      3.383263\n",
      "8   nihtbx_fluidcomp_uncorrected_norm      35.411753     26.561009\n",
      "9        nihtbx_list_uncorrected_norm     282.866035    223.985239\n",
      "10    nihtbx_pattern_uncorrected_norm     149.299485    134.363457\n",
      "11    nihtbx_picture_uncorrected_norm      21.353304     19.589069\n",
      "12   nihtbx_picvocab_uncorrected_norm      56.801378     36.703309\n",
      "13    nihtbx_reading_uncorrected_norm     554.500768    407.509574\n",
      "14  nihtbx_totalcomp_uncorrected_norm      52.303647     32.367986\n",
      "Epoch 0, Loss: 62.507, Accuracy: 59.566, Val Loss: 1217.017, Val Accuracy: 922.427, Time Model: 25.670, Time Data: 1.329\n",
      "Epochs: 1\n"
     ]
    },
    {
     "name": "stdout",
     "output_type": "stream",
     "text": [
      "10.0\n"
     ]
    },
    {
     "name": "stdout",
     "output_type": "stream",
     "text": [
      "20.0\n"
     ]
    },
    {
     "name": "stdout",
     "output_type": "stream",
     "text": [
      "30.0\n"
     ]
    },
    {
     "name": "stdout",
     "output_type": "stream",
     "text": [
      "40.0\n"
     ]
    },
    {
     "name": "stdout",
     "output_type": "stream",
     "text": [
      "50.0\n"
     ]
    },
    {
     "name": "stdout",
     "output_type": "stream",
     "text": [
      "60.0\n"
     ]
    },
    {
     "name": "stdout",
     "output_type": "stream",
     "text": [
      "70.0\n"
     ]
    },
    {
     "name": "stdout",
     "output_type": "stream",
     "text": [
      "10.0\n"
     ]
    },
    {
     "name": "stdout",
     "output_type": "stream",
     "text": [
      "10.0\n"
     ]
    },
    {
     "name": "stdout",
     "output_type": "stream",
     "text": [
      "                                 name  best_loss_test  best_acc_test\n",
      "0                        income_group        1.041895       0.057377\n",
      "1                     high.educ_group        0.085187       0.926230\n",
      "2                             married        0.232149       0.049180\n",
      "3                              female        0.165918       0.459016\n",
      "4                      race.ethnicity        0.171441       0.778689\n",
      "5    nihtbx_cardsort_uncorrected_norm        5.347598       4.596402\n",
      "6       nihtbx_cryst_uncorrected_norm        7.116849       4.380413\n",
      "7     nihtbx_flanker_uncorrected_norm        1.160680       0.955025\n",
      "8   nihtbx_fluidcomp_uncorrected_norm       32.272509      24.206383\n",
      "9        nihtbx_list_uncorrected_norm       14.913304      11.808983\n",
      "10    nihtbx_pattern_uncorrected_norm       24.484377      22.034946\n",
      "11    nihtbx_picture_uncorrected_norm       10.406647       9.546836\n",
      "12   nihtbx_picvocab_uncorrected_norm        3.447792       2.227857\n",
      "13    nihtbx_reading_uncorrected_norm       35.636218      26.189505\n",
      "14  nihtbx_totalcomp_uncorrected_norm        1.081142       0.669062\n",
      "                                 name  best_loss_val  best_acc_val\n",
      "0                        income_group       1.039515      0.057377\n",
      "1                     high.educ_group       0.101772      0.836066\n",
      "2                             married       0.216267      0.065574\n",
      "3                              female       0.150522      0.450820\n",
      "4                      race.ethnicity       0.131706      0.786885\n",
      "5    nihtbx_cardsort_uncorrected_norm       4.450348      3.825193\n",
      "6       nihtbx_cryst_uncorrected_norm       6.245838      3.844306\n",
      "7     nihtbx_flanker_uncorrected_norm       1.377537      1.133458\n",
      "8   nihtbx_fluidcomp_uncorrected_norm      32.615054     24.463311\n",
      "9        nihtbx_list_uncorrected_norm      15.150448     11.996764\n",
      "10    nihtbx_pattern_uncorrected_norm      22.335940     20.101438\n",
      "11    nihtbx_picture_uncorrected_norm      10.322168      9.469337\n",
      "12   nihtbx_picvocab_uncorrected_norm       3.529960      2.280952\n",
      "13    nihtbx_reading_uncorrected_norm      33.685175     24.755653\n",
      "14  nihtbx_totalcomp_uncorrected_norm       0.957654      0.592642\n",
      "Epoch 1, Loss: 48.721, Accuracy: 53.036, Val Loss: 133.381, Val Accuracy: 105.580, Time Model: 11.750, Time Data: 1.301\n",
      "Epochs: 2\n"
     ]
    },
    {
     "name": "stdout",
     "output_type": "stream",
     "text": [
      "10.0\n"
     ]
    },
    {
     "name": "stdout",
     "output_type": "stream",
     "text": [
      "20.0\n"
     ]
    },
    {
     "name": "stdout",
     "output_type": "stream",
     "text": [
      "30.0\n"
     ]
    },
    {
     "name": "stdout",
     "output_type": "stream",
     "text": [
      "40.0\n"
     ]
    },
    {
     "name": "stdout",
     "output_type": "stream",
     "text": [
      "50.0\n"
     ]
    },
    {
     "name": "stdout",
     "output_type": "stream",
     "text": [
      "60.0\n"
     ]
    },
    {
     "name": "stdout",
     "output_type": "stream",
     "text": [
      "70.0\n"
     ]
    },
    {
     "name": "stdout",
     "output_type": "stream",
     "text": [
      "10.0\n"
     ]
    },
    {
     "name": "stdout",
     "output_type": "stream",
     "text": [
      "10.0\n"
     ]
    },
    {
     "name": "stdout",
     "output_type": "stream",
     "text": [
      "                                 name  best_loss_test  best_acc_test\n",
      "0                        income_group        0.323265       0.188525\n",
      "1                     high.educ_group        0.085187       0.926230\n",
      "2                             married        0.092327       0.860656\n",
      "3                              female        0.160800       0.459016\n",
      "4                      race.ethnicity        0.147311       0.778689\n",
      "5    nihtbx_cardsort_uncorrected_norm        1.122136       0.964506\n",
      "6       nihtbx_cryst_uncorrected_norm        2.831617       1.742857\n",
      "7     nihtbx_flanker_uncorrected_norm        1.160680       0.955025\n",
      "8   nihtbx_fluidcomp_uncorrected_norm        1.184383       0.888361\n",
      "9        nihtbx_list_uncorrected_norm        0.904618       0.716315\n",
      "10    nihtbx_pattern_uncorrected_norm        3.817268       3.435386\n",
      "11    nihtbx_picture_uncorrected_norm        0.895017       0.821070\n",
      "12   nihtbx_picvocab_uncorrected_norm        3.447792       2.227857\n",
      "13    nihtbx_reading_uncorrected_norm        0.962262       0.707178\n",
      "14  nihtbx_totalcomp_uncorrected_norm        0.856213       0.529866\n",
      "                                 name  best_loss_val  best_acc_val\n",
      "0                        income_group       0.276405      0.237705\n",
      "1                     high.educ_group       0.101772      0.836066\n",
      "2                             married       0.091020      0.819672\n",
      "3                              female       0.147866      0.450820\n",
      "4                      race.ethnicity       0.113984      0.786885\n",
      "5    nihtbx_cardsort_uncorrected_norm       0.992730      0.853278\n",
      "6       nihtbx_cryst_uncorrected_norm       2.917071      1.795454\n",
      "7     nihtbx_flanker_uncorrected_norm       1.377537      1.133458\n",
      "8   nihtbx_fluidcomp_uncorrected_norm       1.557290      1.168064\n",
      "9        nihtbx_list_uncorrected_norm       0.866876      0.686429\n",
      "10    nihtbx_pattern_uncorrected_norm       3.441802      3.097482\n",
      "11    nihtbx_picture_uncorrected_norm       1.246205      1.143243\n",
      "12   nihtbx_picvocab_uncorrected_norm       3.529960      2.280952\n",
      "13    nihtbx_reading_uncorrected_norm       1.122958      0.825276\n",
      "14  nihtbx_totalcomp_uncorrected_norm       0.812605      0.502879\n",
      "Epoch 2, Loss: 48.025, Accuracy: 52.578, Val Loss: 24.066, Val Accuracy: 20.197, Time Model: 11.724, Time Data: 1.354\n",
      "Epochs: 3\n"
     ]
    },
    {
     "name": "stdout",
     "output_type": "stream",
     "text": [
      "10.0\n"
     ]
    },
    {
     "name": "stdout",
     "output_type": "stream",
     "text": [
      "20.0\n"
     ]
    },
    {
     "name": "stdout",
     "output_type": "stream",
     "text": [
      "30.0\n"
     ]
    },
    {
     "name": "stdout",
     "output_type": "stream",
     "text": [
      "40.0\n"
     ]
    },
    {
     "name": "stdout",
     "output_type": "stream",
     "text": [
      "50.0\n"
     ]
    },
    {
     "name": "stdout",
     "output_type": "stream",
     "text": [
      "60.0\n"
     ]
    },
    {
     "name": "stdout",
     "output_type": "stream",
     "text": [
      "70.0\n"
     ]
    },
    {
     "name": "stdout",
     "output_type": "stream",
     "text": [
      "10.0\n"
     ]
    },
    {
     "name": "stdout",
     "output_type": "stream",
     "text": [
      "10.0\n"
     ]
    },
    {
     "name": "stdout",
     "output_type": "stream",
     "text": [
      "                                 name  best_loss_test  best_acc_test\n",
      "0                        income_group        0.294910       0.245902\n",
      "1                     high.educ_group        0.062840       0.926230\n",
      "2                             married        0.092327       0.860656\n",
      "3                              female        0.136855       0.459016\n",
      "4                      race.ethnicity        0.147311       0.778689\n",
      "5    nihtbx_cardsort_uncorrected_norm        1.122136       0.964506\n",
      "6       nihtbx_cryst_uncorrected_norm        1.771225       1.090187\n",
      "7     nihtbx_flanker_uncorrected_norm        1.160680       0.955025\n",
      "8   nihtbx_fluidcomp_uncorrected_norm        1.234380       0.925862\n",
      "9        nihtbx_list_uncorrected_norm        0.863653       0.683876\n",
      "10    nihtbx_pattern_uncorrected_norm        2.184780       1.966213\n",
      "11    nihtbx_picture_uncorrected_norm        0.895017       0.821070\n",
      "12   nihtbx_picvocab_uncorrected_norm        3.447792       2.227857\n",
      "13    nihtbx_reading_uncorrected_norm        0.962262       0.707178\n",
      "14  nihtbx_totalcomp_uncorrected_norm        0.856213       0.529866\n",
      "                                 name  best_loss_val  best_acc_val\n",
      "0                        income_group       0.245147      0.336066\n",
      "1                     high.educ_group       0.081259      0.836066\n",
      "2                             married       0.091020      0.819672\n",
      "3                              female       0.129102      0.450820\n",
      "4                      race.ethnicity       0.113984      0.786885\n",
      "5    nihtbx_cardsort_uncorrected_norm       0.992730      0.853278\n",
      "6       nihtbx_cryst_uncorrected_norm       1.778872      1.094894\n",
      "7     nihtbx_flanker_uncorrected_norm       1.377537      1.133458\n",
      "8   nihtbx_fluidcomp_uncorrected_norm       1.073003      0.804819\n",
      "9        nihtbx_list_uncorrected_norm       0.792692      0.627687\n",
      "10    nihtbx_pattern_uncorrected_norm       2.107413      1.896586\n",
      "11    nihtbx_picture_uncorrected_norm       1.246205      1.143243\n",
      "12   nihtbx_picvocab_uncorrected_norm       3.529960      2.280952\n",
      "13    nihtbx_reading_uncorrected_norm       1.122958      0.825276\n",
      "14  nihtbx_totalcomp_uncorrected_norm       0.812605      0.502879\n",
      "Epoch 3, Loss: 47.797, Accuracy: 52.386, Val Loss: 19.884, Val Accuracy: 16.931, Time Model: 11.781, Time Data: 1.287\n",
      "Epochs: 4\n"
     ]
    },
    {
     "name": "stdout",
     "output_type": "stream",
     "text": [
      "10.0\n"
     ]
    },
    {
     "name": "stdout",
     "output_type": "stream",
     "text": [
      "20.0\n"
     ]
    },
    {
     "name": "stdout",
     "output_type": "stream",
     "text": [
      "30.0\n"
     ]
    },
    {
     "name": "stdout",
     "output_type": "stream",
     "text": [
      "40.0\n"
     ]
    },
    {
     "name": "stdout",
     "output_type": "stream",
     "text": [
      "50.0\n"
     ]
    },
    {
     "name": "stdout",
     "output_type": "stream",
     "text": [
      "60.0\n"
     ]
    },
    {
     "name": "stdout",
     "output_type": "stream",
     "text": [
      "70.0\n"
     ]
    },
    {
     "name": "stdout",
     "output_type": "stream",
     "text": [
      "10.0\n"
     ]
    },
    {
     "name": "stdout",
     "output_type": "stream",
     "text": [
      "10.0\n"
     ]
    },
    {
     "name": "stdout",
     "output_type": "stream",
     "text": [
      "                                 name  best_loss_test  best_acc_test\n",
      "0                        income_group        0.294910       0.245902\n",
      "1                     high.educ_group        0.062840       0.926230\n",
      "2                             married        0.092327       0.860656\n",
      "3                              female        0.136855       0.540984\n",
      "4                      race.ethnicity        0.147311       0.778689\n",
      "5    nihtbx_cardsort_uncorrected_norm        1.122136       0.964506\n",
      "6       nihtbx_cryst_uncorrected_norm        1.771225       1.090187\n",
      "7     nihtbx_flanker_uncorrected_norm        1.134650       0.933607\n",
      "8   nihtbx_fluidcomp_uncorrected_norm        1.234380       0.925862\n",
      "9        nihtbx_list_uncorrected_norm        0.863653       0.683876\n",
      "10    nihtbx_pattern_uncorrected_norm        2.184780       1.966213\n",
      "11    nihtbx_picture_uncorrected_norm        0.895017       0.821070\n",
      "12   nihtbx_picvocab_uncorrected_norm        3.447792       2.227857\n",
      "13    nihtbx_reading_uncorrected_norm        0.962262       0.707178\n",
      "14  nihtbx_totalcomp_uncorrected_norm        0.856213       0.529866\n",
      "                                 name  best_loss_val  best_acc_val\n",
      "0                        income_group       0.245147      0.336066\n",
      "1                     high.educ_group       0.081259      0.836066\n",
      "2                             married       0.091020      0.819672\n",
      "3                              female       0.129102      0.491803\n",
      "4                      race.ethnicity       0.113984      0.786885\n",
      "5    nihtbx_cardsort_uncorrected_norm       0.992730      0.853278\n",
      "6       nihtbx_cryst_uncorrected_norm       1.778872      1.094894\n",
      "7     nihtbx_flanker_uncorrected_norm       1.256897      1.034194\n",
      "8   nihtbx_fluidcomp_uncorrected_norm       1.073003      0.804819\n",
      "9        nihtbx_list_uncorrected_norm       0.792692      0.627687\n",
      "10    nihtbx_pattern_uncorrected_norm       2.107413      1.896586\n",
      "11    nihtbx_picture_uncorrected_norm       1.246205      1.143243\n",
      "12   nihtbx_picvocab_uncorrected_norm       3.529960      2.280952\n",
      "13    nihtbx_reading_uncorrected_norm       1.122958      0.825276\n",
      "14  nihtbx_totalcomp_uncorrected_norm       0.812605      0.502879\n",
      "Epoch 4, Loss: 47.343, Accuracy: 52.251, Val Loss: 32.471, Val Accuracy: 26.969, Time Model: 11.774, Time Data: 1.349\n",
      "Epochs: 5\n"
     ]
    },
    {
     "name": "stdout",
     "output_type": "stream",
     "text": [
      "10.0\n"
     ]
    },
    {
     "name": "stdout",
     "output_type": "stream",
     "text": [
      "20.0\n"
     ]
    },
    {
     "name": "stdout",
     "output_type": "stream",
     "text": [
      "30.0\n"
     ]
    },
    {
     "name": "stdout",
     "output_type": "stream",
     "text": [
      "40.0\n"
     ]
    },
    {
     "name": "stdout",
     "output_type": "stream",
     "text": [
      "50.0\n"
     ]
    },
    {
     "name": "stdout",
     "output_type": "stream",
     "text": [
      "60.0\n"
     ]
    },
    {
     "name": "stdout",
     "output_type": "stream",
     "text": [
      "70.0\n"
     ]
    },
    {
     "name": "stdout",
     "output_type": "stream",
     "text": [
      "10.0\n"
     ]
    },
    {
     "name": "stdout",
     "output_type": "stream",
     "text": [
      "10.0\n"
     ]
    },
    {
     "name": "stdout",
     "output_type": "stream",
     "text": [
      "                                 name  best_loss_test  best_acc_test\n",
      "0                        income_group        0.294910       0.245902\n",
      "1                     high.educ_group        0.066110       0.926230\n",
      "2                             married        0.100865       0.860656\n",
      "3                              female        0.136855       0.540984\n",
      "4                      race.ethnicity        0.145281       0.778689\n",
      "5    nihtbx_cardsort_uncorrected_norm        1.122136       0.964506\n",
      "6       nihtbx_cryst_uncorrected_norm        1.771225       1.090187\n",
      "7     nihtbx_flanker_uncorrected_norm        1.134650       0.933607\n",
      "8   nihtbx_fluidcomp_uncorrected_norm        1.234380       0.925862\n",
      "9        nihtbx_list_uncorrected_norm        0.863653       0.683876\n",
      "10    nihtbx_pattern_uncorrected_norm        2.184780       1.966213\n",
      "11    nihtbx_picture_uncorrected_norm        0.895017       0.821070\n",
      "12   nihtbx_picvocab_uncorrected_norm        3.447792       2.227857\n",
      "13    nihtbx_reading_uncorrected_norm        0.929518       0.683114\n",
      "14  nihtbx_totalcomp_uncorrected_norm        0.856213       0.529866\n",
      "                                 name  best_loss_val  best_acc_val\n",
      "0                        income_group       0.245147      0.360656\n",
      "1                     high.educ_group       0.079082      0.836066\n",
      "2                             married       0.083791      0.819672\n",
      "3                              female       0.129102      0.491803\n",
      "4                      race.ethnicity       0.109550      0.786885\n",
      "5    nihtbx_cardsort_uncorrected_norm       0.992730      0.853278\n",
      "6       nihtbx_cryst_uncorrected_norm       1.778872      1.094894\n",
      "7     nihtbx_flanker_uncorrected_norm       1.256897      1.034194\n",
      "8   nihtbx_fluidcomp_uncorrected_norm       1.073003      0.804819\n",
      "9        nihtbx_list_uncorrected_norm       0.792692      0.627687\n",
      "10    nihtbx_pattern_uncorrected_norm       2.107413      1.896586\n",
      "11    nihtbx_picture_uncorrected_norm       1.246205      1.143243\n",
      "12   nihtbx_picvocab_uncorrected_norm       3.529960      2.280952\n",
      "13    nihtbx_reading_uncorrected_norm       0.908509      0.667675\n",
      "14  nihtbx_totalcomp_uncorrected_norm       0.812605      0.502879\n",
      "Epoch 5, Loss: 46.858, Accuracy: 51.883, Val Loss: 82.842, Val Accuracy: 63.602, Time Model: 11.800, Time Data: 1.355\n",
      "Epochs: 6\n"
     ]
    },
    {
     "name": "stdout",
     "output_type": "stream",
     "text": [
      "10.0\n"
     ]
    },
    {
     "name": "stdout",
     "output_type": "stream",
     "text": [
      "20.0\n"
     ]
    },
    {
     "name": "stdout",
     "output_type": "stream",
     "text": [
      "30.0\n"
     ]
    },
    {
     "name": "stdout",
     "output_type": "stream",
     "text": [
      "40.0\n"
     ]
    },
    {
     "name": "stdout",
     "output_type": "stream",
     "text": [
      "50.0\n"
     ]
    },
    {
     "name": "stdout",
     "output_type": "stream",
     "text": [
      "60.0\n"
     ]
    },
    {
     "name": "stdout",
     "output_type": "stream",
     "text": [
      "70.0\n"
     ]
    },
    {
     "name": "stdout",
     "output_type": "stream",
     "text": [
      "10.0\n"
     ]
    },
    {
     "name": "stdout",
     "output_type": "stream",
     "text": [
      "10.0\n"
     ]
    },
    {
     "name": "stdout",
     "output_type": "stream",
     "text": [
      "                                 name  best_loss_test  best_acc_test\n",
      "0                        income_group        0.294910       0.245902\n",
      "1                     high.educ_group        0.066110       0.926230\n",
      "2                             married        0.100865       0.860656\n",
      "3                              female        0.136855       0.540984\n",
      "4                      race.ethnicity        0.145281       0.778689\n",
      "5    nihtbx_cardsort_uncorrected_norm        1.122136       0.964506\n",
      "6       nihtbx_cryst_uncorrected_norm        1.771225       1.090187\n",
      "7     nihtbx_flanker_uncorrected_norm        1.134650       0.933607\n",
      "8   nihtbx_fluidcomp_uncorrected_norm        1.234380       0.925862\n",
      "9        nihtbx_list_uncorrected_norm        0.863653       0.683876\n",
      "10    nihtbx_pattern_uncorrected_norm        2.184780       1.966213\n",
      "11    nihtbx_picture_uncorrected_norm        0.895017       0.821070\n",
      "12   nihtbx_picvocab_uncorrected_norm        3.447792       2.227857\n",
      "13    nihtbx_reading_uncorrected_norm        0.929518       0.683114\n",
      "14  nihtbx_totalcomp_uncorrected_norm        0.856213       0.529866\n",
      "                                 name  best_loss_val  best_acc_val\n",
      "0                        income_group       0.245147      0.360656\n",
      "1                     high.educ_group       0.079082      0.836066\n",
      "2                             married       0.083791      0.819672\n",
      "3                              female       0.129102      0.491803\n",
      "4                      race.ethnicity       0.109550      0.786885\n",
      "5    nihtbx_cardsort_uncorrected_norm       0.992730      0.853278\n",
      "6       nihtbx_cryst_uncorrected_norm       1.778872      1.094894\n",
      "7     nihtbx_flanker_uncorrected_norm       1.256897      1.034194\n",
      "8   nihtbx_fluidcomp_uncorrected_norm       1.073003      0.804819\n",
      "9        nihtbx_list_uncorrected_norm       0.792692      0.627687\n",
      "10    nihtbx_pattern_uncorrected_norm       2.107413      1.896586\n",
      "11    nihtbx_picture_uncorrected_norm       1.246205      1.143243\n",
      "12   nihtbx_picvocab_uncorrected_norm       3.529960      2.280952\n",
      "13    nihtbx_reading_uncorrected_norm       0.908509      0.667675\n",
      "14  nihtbx_totalcomp_uncorrected_norm       0.812605      0.502879\n",
      "Epoch 6, Loss: 46.438, Accuracy: 51.638, Val Loss: 191.967, Val Accuracy: 147.025, Time Model: 11.773, Time Data: 1.377\n",
      "Epochs: 7\n"
     ]
    },
    {
     "name": "stdout",
     "output_type": "stream",
     "text": [
      "10.0\n"
     ]
    },
    {
     "name": "stdout",
     "output_type": "stream",
     "text": [
      "20.0\n"
     ]
    },
    {
     "name": "stdout",
     "output_type": "stream",
     "text": [
      "30.0\n"
     ]
    },
    {
     "name": "stdout",
     "output_type": "stream",
     "text": [
      "40.0\n"
     ]
    },
    {
     "name": "stdout",
     "output_type": "stream",
     "text": [
      "50.0\n"
     ]
    },
    {
     "name": "stdout",
     "output_type": "stream",
     "text": [
      "60.0\n"
     ]
    },
    {
     "name": "stdout",
     "output_type": "stream",
     "text": [
      "70.0\n"
     ]
    },
    {
     "name": "stdout",
     "output_type": "stream",
     "text": [
      "10.0\n"
     ]
    },
    {
     "name": "stdout",
     "output_type": "stream",
     "text": [
      "10.0\n"
     ]
    },
    {
     "name": "stdout",
     "output_type": "stream",
     "text": [
      "                                 name  best_loss_test  best_acc_test\n",
      "0                        income_group        0.294910       0.245902\n",
      "1                     high.educ_group        0.066110       0.926230\n",
      "2                             married        0.100865       0.860656\n",
      "3                              female        0.102521       0.524590\n",
      "4                      race.ethnicity        0.145281       0.778689\n",
      "5    nihtbx_cardsort_uncorrected_norm        1.122136       0.964506\n",
      "6       nihtbx_cryst_uncorrected_norm        1.719647       1.058440\n",
      "7     nihtbx_flanker_uncorrected_norm        1.134650       0.933607\n",
      "8   nihtbx_fluidcomp_uncorrected_norm        0.853804       0.640406\n",
      "9        nihtbx_list_uncorrected_norm        0.863653       0.683876\n",
      "10    nihtbx_pattern_uncorrected_norm        2.184780       1.966213\n",
      "11    nihtbx_picture_uncorrected_norm        0.895017       0.821070\n",
      "12   nihtbx_picvocab_uncorrected_norm        3.209676       2.073994\n",
      "13    nihtbx_reading_uncorrected_norm        0.929518       0.683114\n",
      "14  nihtbx_totalcomp_uncorrected_norm        0.856213       0.529866\n",
      "                                 name  best_loss_val  best_acc_val\n",
      "0                        income_group       0.245147      0.360656\n",
      "1                     high.educ_group       0.079082      0.836066\n",
      "2                             married       0.083791      0.819672\n",
      "3                              female       0.092059      0.500000\n",
      "4                      race.ethnicity       0.109550      0.786885\n",
      "5    nihtbx_cardsort_uncorrected_norm       0.992730      0.853278\n",
      "6       nihtbx_cryst_uncorrected_norm       1.543473      0.950006\n",
      "7     nihtbx_flanker_uncorrected_norm       1.256897      1.034194\n",
      "8   nihtbx_fluidcomp_uncorrected_norm       1.065261      0.799012\n",
      "9        nihtbx_list_uncorrected_norm       0.792692      0.627687\n",
      "10    nihtbx_pattern_uncorrected_norm       2.107413      1.896586\n",
      "11    nihtbx_picture_uncorrected_norm       1.246205      1.143243\n",
      "12   nihtbx_picvocab_uncorrected_norm       3.312618      2.140512\n",
      "13    nihtbx_reading_uncorrected_norm       0.908509      0.667675\n",
      "14  nihtbx_totalcomp_uncorrected_norm       0.812605      0.502879\n",
      "Epoch 7, Loss: 46.142, Accuracy: 51.686, Val Loss: 29.758, Val Accuracy: 23.821, Time Model: 11.771, Time Data: 1.319\n",
      "Epochs: 8\n"
     ]
    },
    {
     "name": "stdout",
     "output_type": "stream",
     "text": [
      "10.0\n"
     ]
    },
    {
     "name": "stdout",
     "output_type": "stream",
     "text": [
      "20.0\n"
     ]
    },
    {
     "name": "stdout",
     "output_type": "stream",
     "text": [
      "30.0\n"
     ]
    },
    {
     "name": "stdout",
     "output_type": "stream",
     "text": [
      "40.0\n"
     ]
    },
    {
     "name": "stdout",
     "output_type": "stream",
     "text": [
      "50.0\n"
     ]
    },
    {
     "name": "stdout",
     "output_type": "stream",
     "text": [
      "60.0\n"
     ]
    },
    {
     "name": "stdout",
     "output_type": "stream",
     "text": [
      "70.0\n"
     ]
    },
    {
     "name": "stdout",
     "output_type": "stream",
     "text": [
      "10.0\n"
     ]
    },
    {
     "name": "stdout",
     "output_type": "stream",
     "text": [
      "10.0\n"
     ]
    },
    {
     "name": "stdout",
     "output_type": "stream",
     "text": [
      "                                 name  best_loss_test  best_acc_test\n",
      "0                        income_group        0.294910       0.245902\n",
      "1                     high.educ_group        0.066110       0.926230\n",
      "2                             married        0.100865       0.860656\n",
      "3                              female        0.102521       0.524590\n",
      "4                      race.ethnicity        0.145281       0.778689\n",
      "5    nihtbx_cardsort_uncorrected_norm        1.122136       0.964506\n",
      "6       nihtbx_cryst_uncorrected_norm        1.719647       1.058440\n",
      "7     nihtbx_flanker_uncorrected_norm        1.134650       0.933607\n",
      "8   nihtbx_fluidcomp_uncorrected_norm        0.853804       0.640406\n",
      "9        nihtbx_list_uncorrected_norm        0.863653       0.683876\n",
      "10    nihtbx_pattern_uncorrected_norm        2.184780       1.966213\n",
      "11    nihtbx_picture_uncorrected_norm        0.895017       0.821070\n",
      "12   nihtbx_picvocab_uncorrected_norm        3.209676       2.073994\n",
      "13    nihtbx_reading_uncorrected_norm        0.929518       0.683114\n",
      "14  nihtbx_totalcomp_uncorrected_norm        0.856213       0.529866\n",
      "                                 name  best_loss_val  best_acc_val\n",
      "0                        income_group       0.245147      0.360656\n",
      "1                     high.educ_group       0.079082      0.836066\n",
      "2                             married       0.083791      0.819672\n",
      "3                              female       0.092059      0.500000\n",
      "4                      race.ethnicity       0.109550      0.786885\n",
      "5    nihtbx_cardsort_uncorrected_norm       0.992730      0.853278\n",
      "6       nihtbx_cryst_uncorrected_norm       1.543473      0.950006\n",
      "7     nihtbx_flanker_uncorrected_norm       1.256897      1.034194\n",
      "8   nihtbx_fluidcomp_uncorrected_norm       1.065261      0.799012\n",
      "9        nihtbx_list_uncorrected_norm       0.792692      0.627687\n",
      "10    nihtbx_pattern_uncorrected_norm       2.107413      1.896586\n",
      "11    nihtbx_picture_uncorrected_norm       1.246205      1.143243\n",
      "12   nihtbx_picvocab_uncorrected_norm       3.312618      2.140512\n",
      "13    nihtbx_reading_uncorrected_norm       0.908509      0.667675\n",
      "14  nihtbx_totalcomp_uncorrected_norm       0.812605      0.502879\n",
      "Epoch 8, Loss: 45.819, Accuracy: 51.337, Val Loss: 122.436, Val Accuracy: 96.748, Time Model: 11.798, Time Data: 1.286\n",
      "Epochs: 9\n"
     ]
    },
    {
     "name": "stdout",
     "output_type": "stream",
     "text": [
      "10.0\n"
     ]
    },
    {
     "name": "stdout",
     "output_type": "stream",
     "text": [
      "20.0\n"
     ]
    },
    {
     "name": "stdout",
     "output_type": "stream",
     "text": [
      "30.0\n"
     ]
    },
    {
     "name": "stdout",
     "output_type": "stream",
     "text": [
      "40.0\n"
     ]
    },
    {
     "name": "stdout",
     "output_type": "stream",
     "text": [
      "50.0\n"
     ]
    },
    {
     "name": "stdout",
     "output_type": "stream",
     "text": [
      "60.0\n"
     ]
    },
    {
     "name": "stdout",
     "output_type": "stream",
     "text": [
      "70.0\n"
     ]
    },
    {
     "name": "stdout",
     "output_type": "stream",
     "text": [
      "10.0\n"
     ]
    },
    {
     "name": "stdout",
     "output_type": "stream",
     "text": [
      "10.0\n"
     ]
    },
    {
     "name": "stdout",
     "output_type": "stream",
     "text": [
      "                                 name  best_loss_test  best_acc_test\n",
      "0                        income_group        0.294910       0.245902\n",
      "1                     high.educ_group        0.066110       0.926230\n",
      "2                             married        0.100865       0.860656\n",
      "3                              female        0.102521       0.524590\n",
      "4                      race.ethnicity        0.145281       0.778689\n",
      "5    nihtbx_cardsort_uncorrected_norm        1.122136       0.964506\n",
      "6       nihtbx_cryst_uncorrected_norm        1.719647       1.058440\n",
      "7     nihtbx_flanker_uncorrected_norm        1.134650       0.933607\n",
      "8   nihtbx_fluidcomp_uncorrected_norm        0.853804       0.640406\n",
      "9        nihtbx_list_uncorrected_norm        0.863653       0.683876\n",
      "10    nihtbx_pattern_uncorrected_norm        2.184780       1.966213\n",
      "11    nihtbx_picture_uncorrected_norm        0.895017       0.821070\n",
      "12   nihtbx_picvocab_uncorrected_norm        1.108192       0.716080\n",
      "13    nihtbx_reading_uncorrected_norm        0.929518       0.683114\n",
      "14  nihtbx_totalcomp_uncorrected_norm        0.856213       0.529866\n",
      "                                 name  best_loss_val  best_acc_val\n",
      "0                        income_group       0.245147      0.360656\n",
      "1                     high.educ_group       0.079082      0.836066\n",
      "2                             married       0.083791      0.819672\n",
      "3                              female       0.092059      0.500000\n",
      "4                      race.ethnicity       0.109550      0.786885\n",
      "5    nihtbx_cardsort_uncorrected_norm       0.992730      0.853278\n",
      "6       nihtbx_cryst_uncorrected_norm       1.543473      0.950006\n",
      "7     nihtbx_flanker_uncorrected_norm       1.256897      1.034194\n",
      "8   nihtbx_fluidcomp_uncorrected_norm       1.065261      0.799012\n",
      "9        nihtbx_list_uncorrected_norm       0.792692      0.627687\n",
      "10    nihtbx_pattern_uncorrected_norm       2.107413      1.896586\n",
      "11    nihtbx_picture_uncorrected_norm       1.246205      1.143243\n",
      "12   nihtbx_picvocab_uncorrected_norm       1.042642      0.673723\n",
      "13    nihtbx_reading_uncorrected_norm       0.908509      0.667675\n",
      "14  nihtbx_totalcomp_uncorrected_norm       0.812605      0.502879\n",
      "Epoch 9, Loss: 46.580, Accuracy: 51.821, Val Loss: 159.012, Val Accuracy: 124.007, Time Model: 11.739, Time Data: 1.288\n",
      "Epochs: 10\n"
     ]
    },
    {
     "name": "stdout",
     "output_type": "stream",
     "text": [
      "10.0\n"
     ]
    },
    {
     "name": "stdout",
     "output_type": "stream",
     "text": [
      "20.0\n"
     ]
    },
    {
     "name": "stdout",
     "output_type": "stream",
     "text": [
      "30.0\n"
     ]
    },
    {
     "name": "stdout",
     "output_type": "stream",
     "text": [
      "40.0\n"
     ]
    },
    {
     "name": "stdout",
     "output_type": "stream",
     "text": [
      "50.0\n"
     ]
    },
    {
     "name": "stdout",
     "output_type": "stream",
     "text": [
      "60.0\n"
     ]
    },
    {
     "name": "stdout",
     "output_type": "stream",
     "text": [
      "70.0\n"
     ]
    },
    {
     "name": "stdout",
     "output_type": "stream",
     "text": [
      "10.0\n"
     ]
    },
    {
     "name": "stdout",
     "output_type": "stream",
     "text": [
      "10.0\n"
     ]
    },
    {
     "name": "stdout",
     "output_type": "stream",
     "text": [
      "                                 name  best_loss_test  best_acc_test\n",
      "0                        income_group        0.294910       0.245902\n",
      "1                     high.educ_group        0.066110       0.926230\n",
      "2                             married        0.100865       0.860656\n",
      "3                              female        0.102521       0.524590\n",
      "4                      race.ethnicity        0.145281       0.778689\n",
      "5    nihtbx_cardsort_uncorrected_norm        1.122136       0.964506\n",
      "6       nihtbx_cryst_uncorrected_norm        1.115573       0.686634\n",
      "7     nihtbx_flanker_uncorrected_norm        0.887930       0.730603\n",
      "8   nihtbx_fluidcomp_uncorrected_norm        0.853804       0.640406\n",
      "9        nihtbx_list_uncorrected_norm        0.863653       0.683876\n",
      "10    nihtbx_pattern_uncorrected_norm        2.184780       1.966213\n",
      "11    nihtbx_picture_uncorrected_norm        0.895017       0.821070\n",
      "12   nihtbx_picvocab_uncorrected_norm        1.108192       0.716080\n",
      "13    nihtbx_reading_uncorrected_norm        0.929518       0.683114\n",
      "14  nihtbx_totalcomp_uncorrected_norm        0.856213       0.529866\n",
      "                                 name  best_loss_val  best_acc_val\n",
      "0                        income_group       0.245147      0.360656\n",
      "1                     high.educ_group       0.079082      0.836066\n",
      "2                             married       0.083791      0.819672\n",
      "3                              female       0.092059      0.500000\n",
      "4                      race.ethnicity       0.109550      0.786885\n",
      "5    nihtbx_cardsort_uncorrected_norm       0.992730      0.853278\n",
      "6       nihtbx_cryst_uncorrected_norm       1.077654      0.663295\n",
      "7     nihtbx_flanker_uncorrected_norm       1.012902      0.833432\n",
      "8   nihtbx_fluidcomp_uncorrected_norm       1.065261      0.799012\n",
      "9        nihtbx_list_uncorrected_norm       0.792692      0.627687\n",
      "10    nihtbx_pattern_uncorrected_norm       2.107413      1.896586\n",
      "11    nihtbx_picture_uncorrected_norm       1.246205      1.143243\n",
      "12   nihtbx_picvocab_uncorrected_norm       1.042642      0.673723\n",
      "13    nihtbx_reading_uncorrected_norm       0.908509      0.667675\n",
      "14  nihtbx_totalcomp_uncorrected_norm       0.812605      0.502879\n",
      "Epoch 10, Loss: 45.892, Accuracy: 51.500, Val Loss: 99.975, Val Accuracy: 83.264, Time Model: 11.773, Time Data: 1.349\n",
      "Learning rate: <tf.Variable 'Adam/learning_rate:0' shape=() dtype=float32, numpy=0.00033333336>\n",
      "Epochs: 11\n"
     ]
    },
    {
     "name": "stdout",
     "output_type": "stream",
     "text": [
      "10.0\n"
     ]
    },
    {
     "name": "stdout",
     "output_type": "stream",
     "text": [
      "20.0\n"
     ]
    },
    {
     "name": "stdout",
     "output_type": "stream",
     "text": [
      "30.0\n"
     ]
    },
    {
     "name": "stdout",
     "output_type": "stream",
     "text": [
      "40.0\n"
     ]
    },
    {
     "name": "stdout",
     "output_type": "stream",
     "text": [
      "50.0\n"
     ]
    },
    {
     "name": "stdout",
     "output_type": "stream",
     "text": [
      "60.0\n"
     ]
    },
    {
     "name": "stdout",
     "output_type": "stream",
     "text": [
      "70.0\n"
     ]
    },
    {
     "name": "stdout",
     "output_type": "stream",
     "text": [
      "10.0\n"
     ]
    },
    {
     "name": "stdout",
     "output_type": "stream",
     "text": [
      "10.0\n"
     ]
    },
    {
     "name": "stdout",
     "output_type": "stream",
     "text": [
      "                                 name  best_loss_test  best_acc_test\n",
      "0                        income_group        0.294910       0.245902\n",
      "1                     high.educ_group        0.066110       0.926230\n",
      "2                             married        0.100865       0.860656\n",
      "3                              female        0.102521       0.557377\n",
      "4                      race.ethnicity        0.145281       0.778689\n",
      "5    nihtbx_cardsort_uncorrected_norm        0.804260       0.691283\n",
      "6       nihtbx_cryst_uncorrected_norm        1.115573       0.686634\n",
      "7     nihtbx_flanker_uncorrected_norm        0.887930       0.730603\n",
      "8   nihtbx_fluidcomp_uncorrected_norm        0.853804       0.640406\n",
      "9        nihtbx_list_uncorrected_norm        0.863653       0.683876\n",
      "10    nihtbx_pattern_uncorrected_norm        2.184780       1.966213\n",
      "11    nihtbx_picture_uncorrected_norm        0.895017       0.821070\n",
      "12   nihtbx_picvocab_uncorrected_norm        1.108192       0.716080\n",
      "13    nihtbx_reading_uncorrected_norm        0.929518       0.683114\n",
      "14  nihtbx_totalcomp_uncorrected_norm        0.856213       0.529866\n",
      "                                 name  best_loss_val  best_acc_val\n",
      "0                        income_group       0.245147      0.360656\n",
      "1                     high.educ_group       0.079082      0.836066\n",
      "2                             married       0.083791      0.819672\n",
      "3                              female       0.092059      0.516393\n",
      "4                      race.ethnicity       0.109550      0.786885\n",
      "5    nihtbx_cardsort_uncorrected_norm       0.855301      0.735154\n",
      "6       nihtbx_cryst_uncorrected_norm       1.077654      0.663295\n",
      "7     nihtbx_flanker_uncorrected_norm       1.012902      0.833432\n",
      "8   nihtbx_fluidcomp_uncorrected_norm       1.065261      0.799012\n",
      "9        nihtbx_list_uncorrected_norm       0.792692      0.627687\n",
      "10    nihtbx_pattern_uncorrected_norm       2.107413      1.896586\n",
      "11    nihtbx_picture_uncorrected_norm       1.246205      1.143243\n",
      "12   nihtbx_picvocab_uncorrected_norm       1.042642      0.673723\n",
      "13    nihtbx_reading_uncorrected_norm       0.908509      0.667675\n",
      "14  nihtbx_totalcomp_uncorrected_norm       0.812605      0.502879\n",
      "Epoch 11, Loss: 42.457, Accuracy: 49.387, Val Loss: 140.820, Val Accuracy: 111.414, Time Model: 11.780, Time Data: 1.272\n",
      "Epochs: 12\n"
     ]
    },
    {
     "name": "stdout",
     "output_type": "stream",
     "text": [
      "10.0\n"
     ]
    },
    {
     "name": "stdout",
     "output_type": "stream",
     "text": [
      "20.0\n"
     ]
    },
    {
     "name": "stdout",
     "output_type": "stream",
     "text": [
      "30.0\n"
     ]
    },
    {
     "name": "stdout",
     "output_type": "stream",
     "text": [
      "40.0\n"
     ]
    },
    {
     "name": "stdout",
     "output_type": "stream",
     "text": [
      "50.0\n"
     ]
    },
    {
     "name": "stdout",
     "output_type": "stream",
     "text": [
      "60.0\n"
     ]
    },
    {
     "name": "stdout",
     "output_type": "stream",
     "text": [
      "70.0\n"
     ]
    },
    {
     "name": "stdout",
     "output_type": "stream",
     "text": [
      "10.0\n"
     ]
    },
    {
     "name": "stdout",
     "output_type": "stream",
     "text": [
      "10.0\n"
     ]
    },
    {
     "name": "stdout",
     "output_type": "stream",
     "text": [
      "                                 name  best_loss_test  best_acc_test\n",
      "0                        income_group        0.294910       0.245902\n",
      "1                     high.educ_group        0.050788       0.926230\n",
      "2                             married        0.100865       0.860656\n",
      "3                              female        0.102521       0.557377\n",
      "4                      race.ethnicity        0.145281       0.778689\n",
      "5    nihtbx_cardsort_uncorrected_norm        0.804260       0.691283\n",
      "6       nihtbx_cryst_uncorrected_norm        1.115573       0.686634\n",
      "7     nihtbx_flanker_uncorrected_norm        0.887930       0.730603\n",
      "8   nihtbx_fluidcomp_uncorrected_norm        0.853804       0.640406\n",
      "9        nihtbx_list_uncorrected_norm        0.863653       0.683876\n",
      "10    nihtbx_pattern_uncorrected_norm        0.754431       0.678957\n",
      "11    nihtbx_picture_uncorrected_norm        0.895017       0.821070\n",
      "12   nihtbx_picvocab_uncorrected_norm        1.108192       0.716080\n",
      "13    nihtbx_reading_uncorrected_norm        0.929518       0.683114\n",
      "14  nihtbx_totalcomp_uncorrected_norm        0.856213       0.529866\n",
      "                                 name  best_loss_val  best_acc_val\n",
      "0                        income_group       0.245147      0.360656\n",
      "1                     high.educ_group       0.070103      0.836066\n",
      "2                             married       0.083791      0.819672\n",
      "3                              female       0.092059      0.516393\n",
      "4                      race.ethnicity       0.109550      0.786885\n",
      "5    nihtbx_cardsort_uncorrected_norm       0.855301      0.735154\n",
      "6       nihtbx_cryst_uncorrected_norm       1.077654      0.663295\n",
      "7     nihtbx_flanker_uncorrected_norm       1.012902      0.833432\n",
      "8   nihtbx_fluidcomp_uncorrected_norm       1.065261      0.799012\n",
      "9        nihtbx_list_uncorrected_norm       0.792692      0.627687\n",
      "10    nihtbx_pattern_uncorrected_norm       0.939464      0.845479\n",
      "11    nihtbx_picture_uncorrected_norm       1.246205      1.143243\n",
      "12   nihtbx_picvocab_uncorrected_norm       1.042642      0.673723\n",
      "13    nihtbx_reading_uncorrected_norm       0.908509      0.667675\n",
      "14  nihtbx_totalcomp_uncorrected_norm       0.812605      0.502879\n",
      "Epoch 12, Loss: 39.787, Accuracy: 47.640, Val Loss: 369.928, Val Accuracy: 286.054, Time Model: 11.782, Time Data: 1.316\n",
      "Epochs: 13\n"
     ]
    },
    {
     "name": "stdout",
     "output_type": "stream",
     "text": [
      "10.0\n"
     ]
    },
    {
     "name": "stdout",
     "output_type": "stream",
     "text": [
      "20.0\n"
     ]
    },
    {
     "name": "stdout",
     "output_type": "stream",
     "text": [
      "30.0\n"
     ]
    },
    {
     "name": "stdout",
     "output_type": "stream",
     "text": [
      "40.0\n"
     ]
    },
    {
     "name": "stdout",
     "output_type": "stream",
     "text": [
      "50.0\n"
     ]
    },
    {
     "name": "stdout",
     "output_type": "stream",
     "text": [
      "60.0\n"
     ]
    },
    {
     "name": "stdout",
     "output_type": "stream",
     "text": [
      "70.0\n"
     ]
    },
    {
     "name": "stdout",
     "output_type": "stream",
     "text": [
      "10.0\n"
     ]
    },
    {
     "name": "stdout",
     "output_type": "stream",
     "text": [
      "10.0\n"
     ]
    },
    {
     "name": "stdout",
     "output_type": "stream",
     "text": [
      "                                 name  best_loss_test  best_acc_test\n",
      "0                        income_group        0.294910       0.245902\n",
      "1                     high.educ_group        0.050788       0.926230\n",
      "2                             married        0.100865       0.860656\n",
      "3                              female        0.102521       0.573770\n",
      "4                      race.ethnicity        0.145281       0.778689\n",
      "5    nihtbx_cardsort_uncorrected_norm        0.807841       0.694361\n",
      "6       nihtbx_cryst_uncorrected_norm        1.115573       0.686634\n",
      "7     nihtbx_flanker_uncorrected_norm        0.887930       0.730603\n",
      "8   nihtbx_fluidcomp_uncorrected_norm        0.853804       0.640406\n",
      "9        nihtbx_list_uncorrected_norm        0.863653       0.683876\n",
      "10    nihtbx_pattern_uncorrected_norm        0.754431       0.678957\n",
      "11    nihtbx_picture_uncorrected_norm        0.895017       0.821070\n",
      "12   nihtbx_picvocab_uncorrected_norm        1.108192       0.716080\n",
      "13    nihtbx_reading_uncorrected_norm        0.929518       0.683114\n",
      "14  nihtbx_totalcomp_uncorrected_norm        0.856213       0.529866\n",
      "                                 name  best_loss_val  best_acc_val\n",
      "0                        income_group       0.245147      0.360656\n",
      "1                     high.educ_group       0.070103      0.836066\n",
      "2                             married       0.083791      0.819672\n",
      "3                              female       0.092059      0.524590\n",
      "4                      race.ethnicity       0.109550      0.786885\n",
      "5    nihtbx_cardsort_uncorrected_norm       0.841506      0.723297\n",
      "6       nihtbx_cryst_uncorrected_norm       1.077654      0.663295\n",
      "7     nihtbx_flanker_uncorrected_norm       1.012902      0.833432\n",
      "8   nihtbx_fluidcomp_uncorrected_norm       1.065261      0.799012\n",
      "9        nihtbx_list_uncorrected_norm       0.792692      0.627687\n",
      "10    nihtbx_pattern_uncorrected_norm       0.939464      0.845479\n",
      "11    nihtbx_picture_uncorrected_norm       1.246205      1.143243\n",
      "12   nihtbx_picvocab_uncorrected_norm       1.042642      0.673723\n",
      "13    nihtbx_reading_uncorrected_norm       0.908509      0.667675\n",
      "14  nihtbx_totalcomp_uncorrected_norm       0.812605      0.502879\n",
      "Epoch 13, Loss: 36.064, Accuracy: 45.120, Val Loss: 222.760, Val Accuracy: 166.815, Time Model: 11.778, Time Data: 1.309\n",
      "Epochs: 14\n"
     ]
    },
    {
     "name": "stdout",
     "output_type": "stream",
     "text": [
      "10.0\n"
     ]
    },
    {
     "name": "stdout",
     "output_type": "stream",
     "text": [
      "20.0\n"
     ]
    },
    {
     "name": "stdout",
     "output_type": "stream",
     "text": [
      "30.0\n"
     ]
    },
    {
     "name": "stdout",
     "output_type": "stream",
     "text": [
      "40.0\n"
     ]
    },
    {
     "name": "stdout",
     "output_type": "stream",
     "text": [
      "50.0\n"
     ]
    },
    {
     "name": "stdout",
     "output_type": "stream",
     "text": [
      "60.0\n"
     ]
    },
    {
     "name": "stdout",
     "output_type": "stream",
     "text": [
      "70.0\n"
     ]
    },
    {
     "name": "stdout",
     "output_type": "stream",
     "text": [
      "10.0\n"
     ]
    },
    {
     "name": "stdout",
     "output_type": "stream",
     "text": [
      "10.0\n"
     ]
    },
    {
     "name": "stdout",
     "output_type": "stream",
     "text": [
      "                                 name  best_loss_test  best_acc_test\n",
      "0                        income_group        0.294910       0.245902\n",
      "1                     high.educ_group        0.050788       0.926230\n",
      "2                             married        0.100865       0.860656\n",
      "3                              female        0.102521       0.573770\n",
      "4                      race.ethnicity        0.145281       0.778689\n",
      "5    nihtbx_cardsort_uncorrected_norm        0.807841       0.694361\n",
      "6       nihtbx_cryst_uncorrected_norm        1.115573       0.686634\n",
      "7     nihtbx_flanker_uncorrected_norm        0.887930       0.730603\n",
      "8   nihtbx_fluidcomp_uncorrected_norm        0.853804       0.640406\n",
      "9        nihtbx_list_uncorrected_norm        0.863653       0.683876\n",
      "10    nihtbx_pattern_uncorrected_norm        0.754431       0.678957\n",
      "11    nihtbx_picture_uncorrected_norm        0.895017       0.821070\n",
      "12   nihtbx_picvocab_uncorrected_norm        1.108192       0.716080\n",
      "13    nihtbx_reading_uncorrected_norm        0.929518       0.683114\n",
      "14  nihtbx_totalcomp_uncorrected_norm        0.856213       0.529866\n",
      "                                 name  best_loss_val  best_acc_val\n",
      "0                        income_group       0.245147      0.360656\n",
      "1                     high.educ_group       0.070103      0.836066\n",
      "2                             married       0.083791      0.819672\n",
      "3                              female       0.092059      0.524590\n",
      "4                      race.ethnicity       0.109550      0.786885\n",
      "5    nihtbx_cardsort_uncorrected_norm       0.841506      0.723297\n",
      "6       nihtbx_cryst_uncorrected_norm       1.077654      0.663295\n",
      "7     nihtbx_flanker_uncorrected_norm       1.012902      0.833432\n",
      "8   nihtbx_fluidcomp_uncorrected_norm       1.065261      0.799012\n",
      "9        nihtbx_list_uncorrected_norm       0.792692      0.627687\n",
      "10    nihtbx_pattern_uncorrected_norm       0.939464      0.845479\n",
      "11    nihtbx_picture_uncorrected_norm       1.246205      1.143243\n",
      "12   nihtbx_picvocab_uncorrected_norm       1.042642      0.673723\n",
      "13    nihtbx_reading_uncorrected_norm       0.908509      0.667675\n",
      "14  nihtbx_totalcomp_uncorrected_norm       0.812605      0.502879\n",
      "Epoch 14, Loss: 33.666, Accuracy: 43.429, Val Loss: 162.447, Val Accuracy: 125.728, Time Model: 11.749, Time Data: 1.374\n",
      "Epochs: 15\n"
     ]
    },
    {
     "name": "stdout",
     "output_type": "stream",
     "text": [
      "10.0\n"
     ]
    },
    {
     "name": "stdout",
     "output_type": "stream",
     "text": [
      "20.0\n"
     ]
    },
    {
     "name": "stdout",
     "output_type": "stream",
     "text": [
      "30.0\n"
     ]
    },
    {
     "name": "stdout",
     "output_type": "stream",
     "text": [
      "40.0\n"
     ]
    },
    {
     "name": "stdout",
     "output_type": "stream",
     "text": [
      "50.0\n"
     ]
    },
    {
     "name": "stdout",
     "output_type": "stream",
     "text": [
      "60.0\n"
     ]
    },
    {
     "name": "stdout",
     "output_type": "stream",
     "text": [
      "70.0\n"
     ]
    },
    {
     "name": "stdout",
     "output_type": "stream",
     "text": [
      "10.0\n"
     ]
    },
    {
     "name": "stdout",
     "output_type": "stream",
     "text": [
      "10.0\n"
     ]
    },
    {
     "name": "stdout",
     "output_type": "stream",
     "text": [
      "                                 name  best_loss_test  best_acc_test\n",
      "0                        income_group        0.294910       0.245902\n",
      "1                     high.educ_group        0.050788       0.926230\n",
      "2                             married        0.100865       0.860656\n",
      "3                              female        0.079938       0.672131\n",
      "4                      race.ethnicity        0.145281       0.778689\n",
      "5    nihtbx_cardsort_uncorrected_norm        0.807841       0.694361\n",
      "6       nihtbx_cryst_uncorrected_norm        1.115573       0.686634\n",
      "7     nihtbx_flanker_uncorrected_norm        0.887930       0.730603\n",
      "8   nihtbx_fluidcomp_uncorrected_norm        0.853804       0.640406\n",
      "9        nihtbx_list_uncorrected_norm        0.863653       0.683876\n",
      "10    nihtbx_pattern_uncorrected_norm        0.754431       0.678957\n",
      "11    nihtbx_picture_uncorrected_norm        0.895017       0.821070\n",
      "12   nihtbx_picvocab_uncorrected_norm        1.108192       0.716080\n",
      "13    nihtbx_reading_uncorrected_norm        0.929518       0.683114\n",
      "14  nihtbx_totalcomp_uncorrected_norm        0.856213       0.529866\n",
      "                                 name  best_loss_val  best_acc_val\n",
      "0                        income_group       0.245147      0.360656\n",
      "1                     high.educ_group       0.070103      0.836066\n",
      "2                             married       0.083791      0.819672\n",
      "3                              female       0.073428      0.680328\n",
      "4                      race.ethnicity       0.109550      0.786885\n",
      "5    nihtbx_cardsort_uncorrected_norm       0.841506      0.723297\n",
      "6       nihtbx_cryst_uncorrected_norm       1.077654      0.663295\n",
      "7     nihtbx_flanker_uncorrected_norm       1.012902      0.833432\n",
      "8   nihtbx_fluidcomp_uncorrected_norm       1.065261      0.799012\n",
      "9        nihtbx_list_uncorrected_norm       0.792692      0.627687\n",
      "10    nihtbx_pattern_uncorrected_norm       0.939464      0.845479\n",
      "11    nihtbx_picture_uncorrected_norm       1.246205      1.143243\n",
      "12   nihtbx_picvocab_uncorrected_norm       1.042642      0.673723\n",
      "13    nihtbx_reading_uncorrected_norm       0.908509      0.667675\n",
      "14  nihtbx_totalcomp_uncorrected_norm       0.812605      0.502879\n",
      "Epoch 15, Loss: 32.225, Accuracy: 42.542, Val Loss: 112.420, Val Accuracy: 80.466, Time Model: 11.927, Time Data: 1.334\n",
      "Learning rate: <tf.Variable 'Adam/learning_rate:0' shape=() dtype=float32, numpy=0.00011111112>\n",
      "Epochs: 16\n"
     ]
    },
    {
     "name": "stdout",
     "output_type": "stream",
     "text": [
      "10.0\n"
     ]
    },
    {
     "name": "stdout",
     "output_type": "stream",
     "text": [
      "20.0\n"
     ]
    },
    {
     "name": "stdout",
     "output_type": "stream",
     "text": [
      "30.0\n"
     ]
    },
    {
     "name": "stdout",
     "output_type": "stream",
     "text": [
      "40.0\n"
     ]
    },
    {
     "name": "stdout",
     "output_type": "stream",
     "text": [
      "50.0\n"
     ]
    },
    {
     "name": "stdout",
     "output_type": "stream",
     "text": [
      "60.0\n"
     ]
    },
    {
     "name": "stdout",
     "output_type": "stream",
     "text": [
      "70.0\n"
     ]
    },
    {
     "name": "stdout",
     "output_type": "stream",
     "text": [
      "10.0\n"
     ]
    },
    {
     "name": "stdout",
     "output_type": "stream",
     "text": [
      "10.0\n"
     ]
    },
    {
     "name": "stdout",
     "output_type": "stream",
     "text": [
      "                                 name  best_loss_test  best_acc_test\n",
      "0                        income_group        0.294910       0.245902\n",
      "1                     high.educ_group        0.050788       0.926230\n",
      "2                             married        0.100865       0.860656\n",
      "3                              female        0.079938       0.672131\n",
      "4                      race.ethnicity        0.145281       0.778689\n",
      "5    nihtbx_cardsort_uncorrected_norm        0.807841       0.694361\n",
      "6       nihtbx_cryst_uncorrected_norm        1.115573       0.686634\n",
      "7     nihtbx_flanker_uncorrected_norm        0.887930       0.730603\n",
      "8   nihtbx_fluidcomp_uncorrected_norm        0.853804       0.640406\n",
      "9        nihtbx_list_uncorrected_norm        0.863653       0.683876\n",
      "10    nihtbx_pattern_uncorrected_norm        0.754431       0.678957\n",
      "11    nihtbx_picture_uncorrected_norm        0.895017       0.821070\n",
      "12   nihtbx_picvocab_uncorrected_norm        1.108192       0.716080\n",
      "13    nihtbx_reading_uncorrected_norm        0.929518       0.683114\n",
      "14  nihtbx_totalcomp_uncorrected_norm        0.856213       0.529866\n",
      "                                 name  best_loss_val  best_acc_val\n",
      "0                        income_group       0.245147      0.360656\n",
      "1                     high.educ_group       0.070103      0.836066\n",
      "2                             married       0.083791      0.819672\n",
      "3                              female       0.073428      0.680328\n",
      "4                      race.ethnicity       0.109550      0.786885\n",
      "5    nihtbx_cardsort_uncorrected_norm       0.841506      0.723297\n",
      "6       nihtbx_cryst_uncorrected_norm       1.077654      0.663295\n",
      "7     nihtbx_flanker_uncorrected_norm       1.012902      0.833432\n",
      "8   nihtbx_fluidcomp_uncorrected_norm       1.065261      0.799012\n",
      "9        nihtbx_list_uncorrected_norm       0.792692      0.627687\n",
      "10    nihtbx_pattern_uncorrected_norm       0.939464      0.845479\n",
      "11    nihtbx_picture_uncorrected_norm       1.246205      1.143243\n",
      "12   nihtbx_picvocab_uncorrected_norm       1.042642      0.673723\n",
      "13    nihtbx_reading_uncorrected_norm       0.908509      0.667675\n",
      "14  nihtbx_totalcomp_uncorrected_norm       0.812605      0.502879\n",
      "Epoch 16, Loss: 28.925, Accuracy: 40.516, Val Loss: 259.144, Val Accuracy: 197.028, Time Model: 11.761, Time Data: 1.322\n",
      "Epochs: 17\n"
     ]
    },
    {
     "name": "stdout",
     "output_type": "stream",
     "text": [
      "10.0\n"
     ]
    },
    {
     "name": "stdout",
     "output_type": "stream",
     "text": [
      "20.0\n"
     ]
    },
    {
     "name": "stdout",
     "output_type": "stream",
     "text": [
      "30.0\n"
     ]
    },
    {
     "name": "stdout",
     "output_type": "stream",
     "text": [
      "40.0\n"
     ]
    },
    {
     "name": "stdout",
     "output_type": "stream",
     "text": [
      "50.0\n"
     ]
    },
    {
     "name": "stdout",
     "output_type": "stream",
     "text": [
      "60.0\n"
     ]
    },
    {
     "name": "stdout",
     "output_type": "stream",
     "text": [
      "70.0\n"
     ]
    },
    {
     "name": "stdout",
     "output_type": "stream",
     "text": [
      "10.0\n"
     ]
    },
    {
     "name": "stdout",
     "output_type": "stream",
     "text": [
      "10.0\n"
     ]
    },
    {
     "name": "stdout",
     "output_type": "stream",
     "text": [
      "                                 name  best_loss_test  best_acc_test\n",
      "0                        income_group        0.294910       0.245902\n",
      "1                     high.educ_group        0.050788       0.926230\n",
      "2                             married        0.100865       0.860656\n",
      "3                              female        0.079938       0.672131\n",
      "4                      race.ethnicity        0.145281       0.778689\n",
      "5    nihtbx_cardsort_uncorrected_norm        0.807841       0.694361\n",
      "6       nihtbx_cryst_uncorrected_norm        1.115573       0.686634\n",
      "7     nihtbx_flanker_uncorrected_norm        0.887930       0.730603\n",
      "8   nihtbx_fluidcomp_uncorrected_norm        0.853804       0.640406\n",
      "9        nihtbx_list_uncorrected_norm        0.863653       0.683876\n",
      "10    nihtbx_pattern_uncorrected_norm        0.754431       0.678957\n",
      "11    nihtbx_picture_uncorrected_norm        0.895017       0.821070\n",
      "12   nihtbx_picvocab_uncorrected_norm        1.108192       0.716080\n",
      "13    nihtbx_reading_uncorrected_norm        0.929518       0.683114\n",
      "14  nihtbx_totalcomp_uncorrected_norm        0.856213       0.529866\n",
      "                                 name  best_loss_val  best_acc_val\n",
      "0                        income_group       0.245147      0.360656\n",
      "1                     high.educ_group       0.070103      0.836066\n",
      "2                             married       0.083791      0.819672\n",
      "3                              female       0.073428      0.680328\n",
      "4                      race.ethnicity       0.109550      0.786885\n",
      "5    nihtbx_cardsort_uncorrected_norm       0.841506      0.723297\n",
      "6       nihtbx_cryst_uncorrected_norm       1.077654      0.663295\n",
      "7     nihtbx_flanker_uncorrected_norm       1.012902      0.833432\n",
      "8   nihtbx_fluidcomp_uncorrected_norm       1.065261      0.799012\n",
      "9        nihtbx_list_uncorrected_norm       0.792692      0.627687\n",
      "10    nihtbx_pattern_uncorrected_norm       0.939464      0.845479\n",
      "11    nihtbx_picture_uncorrected_norm       1.246205      1.143243\n",
      "12   nihtbx_picvocab_uncorrected_norm       1.042642      0.673723\n",
      "13    nihtbx_reading_uncorrected_norm       0.908509      0.667675\n",
      "14  nihtbx_totalcomp_uncorrected_norm       0.812605      0.502879\n",
      "Epoch 17, Loss: 26.112, Accuracy: 39.019, Val Loss: 396.399, Val Accuracy: 304.411, Time Model: 12.081, Time Data: 1.343\n",
      "Epochs: 18\n"
     ]
    },
    {
     "name": "stdout",
     "output_type": "stream",
     "text": [
      "10.0\n"
     ]
    },
    {
     "name": "stdout",
     "output_type": "stream",
     "text": [
      "20.0\n"
     ]
    },
    {
     "name": "stdout",
     "output_type": "stream",
     "text": [
      "30.0\n"
     ]
    },
    {
     "name": "stdout",
     "output_type": "stream",
     "text": [
      "40.0\n"
     ]
    },
    {
     "name": "stdout",
     "output_type": "stream",
     "text": [
      "50.0\n"
     ]
    },
    {
     "name": "stdout",
     "output_type": "stream",
     "text": [
      "60.0\n"
     ]
    },
    {
     "name": "stdout",
     "output_type": "stream",
     "text": [
      "70.0\n"
     ]
    },
    {
     "name": "stdout",
     "output_type": "stream",
     "text": [
      "10.0\n"
     ]
    },
    {
     "name": "stdout",
     "output_type": "stream",
     "text": [
      "10.0\n"
     ]
    },
    {
     "name": "stdout",
     "output_type": "stream",
     "text": [
      "                                 name  best_loss_test  best_acc_test\n",
      "0                        income_group        0.294910       0.245902\n",
      "1                     high.educ_group        0.050788       0.926230\n",
      "2                             married        0.100865       0.860656\n",
      "3                              female        0.079938       0.672131\n",
      "4                      race.ethnicity        0.145281       0.778689\n",
      "5    nihtbx_cardsort_uncorrected_norm        0.807841       0.694361\n",
      "6       nihtbx_cryst_uncorrected_norm        1.115573       0.686634\n",
      "7     nihtbx_flanker_uncorrected_norm        0.887930       0.730603\n",
      "8   nihtbx_fluidcomp_uncorrected_norm        0.853804       0.640406\n",
      "9        nihtbx_list_uncorrected_norm        0.863653       0.683876\n",
      "10    nihtbx_pattern_uncorrected_norm        0.754431       0.678957\n",
      "11    nihtbx_picture_uncorrected_norm        0.895017       0.821070\n",
      "12   nihtbx_picvocab_uncorrected_norm        1.108192       0.716080\n",
      "13    nihtbx_reading_uncorrected_norm        0.929518       0.683114\n",
      "14  nihtbx_totalcomp_uncorrected_norm        0.856213       0.529866\n",
      "                                 name  best_loss_val  best_acc_val\n",
      "0                        income_group       0.245147      0.360656\n",
      "1                     high.educ_group       0.070103      0.836066\n",
      "2                             married       0.083791      0.819672\n",
      "3                              female       0.073428      0.680328\n",
      "4                      race.ethnicity       0.109550      0.786885\n",
      "5    nihtbx_cardsort_uncorrected_norm       0.841506      0.723297\n",
      "6       nihtbx_cryst_uncorrected_norm       1.077654      0.663295\n",
      "7     nihtbx_flanker_uncorrected_norm       1.012902      0.833432\n",
      "8   nihtbx_fluidcomp_uncorrected_norm       1.065261      0.799012\n",
      "9        nihtbx_list_uncorrected_norm       0.792692      0.627687\n",
      "10    nihtbx_pattern_uncorrected_norm       0.939464      0.845479\n",
      "11    nihtbx_picture_uncorrected_norm       1.246205      1.143243\n",
      "12   nihtbx_picvocab_uncorrected_norm       1.042642      0.673723\n",
      "13    nihtbx_reading_uncorrected_norm       0.908509      0.667675\n",
      "14  nihtbx_totalcomp_uncorrected_norm       0.812605      0.502879\n",
      "Epoch 18, Loss: 23.576, Accuracy: 37.330, Val Loss: 561.036, Val Accuracy: 435.004, Time Model: 11.744, Time Data: 1.337\n",
      "Epochs: 19\n"
     ]
    },
    {
     "name": "stdout",
     "output_type": "stream",
     "text": [
      "10.0\n"
     ]
    },
    {
     "name": "stdout",
     "output_type": "stream",
     "text": [
      "20.0\n"
     ]
    },
    {
     "name": "stdout",
     "output_type": "stream",
     "text": [
      "30.0\n"
     ]
    },
    {
     "name": "stdout",
     "output_type": "stream",
     "text": [
      "40.0\n"
     ]
    },
    {
     "name": "stdout",
     "output_type": "stream",
     "text": [
      "50.0\n"
     ]
    },
    {
     "name": "stdout",
     "output_type": "stream",
     "text": [
      "60.0\n"
     ]
    },
    {
     "name": "stdout",
     "output_type": "stream",
     "text": [
      "70.0\n"
     ]
    },
    {
     "name": "stdout",
     "output_type": "stream",
     "text": [
      "10.0\n"
     ]
    },
    {
     "name": "stdout",
     "output_type": "stream",
     "text": [
      "10.0\n"
     ]
    },
    {
     "name": "stdout",
     "output_type": "stream",
     "text": [
      "                                 name  best_loss_test  best_acc_test\n",
      "0                        income_group        0.294910       0.245902\n",
      "1                     high.educ_group        0.050788       0.926230\n",
      "2                             married        0.100865       0.860656\n",
      "3                              female        0.079938       0.672131\n",
      "4                      race.ethnicity        0.145281       0.778689\n",
      "5    nihtbx_cardsort_uncorrected_norm        0.807841       0.694361\n",
      "6       nihtbx_cryst_uncorrected_norm        1.115573       0.686634\n",
      "7     nihtbx_flanker_uncorrected_norm        0.887930       0.730603\n",
      "8   nihtbx_fluidcomp_uncorrected_norm        0.853804       0.640406\n",
      "9        nihtbx_list_uncorrected_norm        0.863653       0.683876\n",
      "10    nihtbx_pattern_uncorrected_norm        0.754431       0.678957\n",
      "11    nihtbx_picture_uncorrected_norm        0.895017       0.821070\n",
      "12   nihtbx_picvocab_uncorrected_norm        1.108192       0.716080\n",
      "13    nihtbx_reading_uncorrected_norm        0.929518       0.683114\n",
      "14  nihtbx_totalcomp_uncorrected_norm        0.856213       0.529866\n",
      "                                 name  best_loss_val  best_acc_val\n",
      "0                        income_group       0.245147      0.360656\n",
      "1                     high.educ_group       0.070103      0.836066\n",
      "2                             married       0.083791      0.819672\n",
      "3                              female       0.073428      0.680328\n",
      "4                      race.ethnicity       0.109550      0.786885\n",
      "5    nihtbx_cardsort_uncorrected_norm       0.841506      0.723297\n",
      "6       nihtbx_cryst_uncorrected_norm       1.077654      0.663295\n",
      "7     nihtbx_flanker_uncorrected_norm       1.012902      0.833432\n",
      "8   nihtbx_fluidcomp_uncorrected_norm       1.065261      0.799012\n",
      "9        nihtbx_list_uncorrected_norm       0.792692      0.627687\n",
      "10    nihtbx_pattern_uncorrected_norm       0.939464      0.845479\n",
      "11    nihtbx_picture_uncorrected_norm       1.246205      1.143243\n",
      "12   nihtbx_picvocab_uncorrected_norm       1.042642      0.673723\n",
      "13    nihtbx_reading_uncorrected_norm       0.908509      0.667675\n",
      "14  nihtbx_totalcomp_uncorrected_norm       0.812605      0.502879\n",
      "Epoch 19, Loss: 21.571, Accuracy: 36.205, Val Loss: 665.037, Val Accuracy: 523.923, Time Model: 11.782, Time Data: 1.347\n"
     ]
    }
   ],
   "source": [
    "decoder = np.vectorize(lambda x: x.decode('UTF-8'))\n",
    "template = 'Epoch {0}, Loss: {1:.3f}, Accuracy: {2:.3f}, Val Loss: {3:.3f}, Val Accuracy: {4:.3f}, Time Model: {5:.3f}, Time Data: {6:.3f}'\n",
    "for col in [0]:\n",
    "  log_textfile(path_output + modelname + 'multitask_test' + '.log', cat_cols),\n",
    "  log_textfile(path_output + modelname + 'multitask_test' + '.log', num_cols)\n",
    "  loss_object = tf.keras.losses.SparseCategoricalCrossentropy()\n",
    "  optimizer = tf.keras.optimizers.Adam(lr = 0.001)\n",
    "  model = Model(cat_cols, num_cols)\n",
    "  df_best = None\n",
    "  for e in range(20):\n",
    "    log_textfile(path_output + modelname + 'multitask_test' + '.log', 'Epochs: ' + str(e))\n",
    "    loss = tf.Variable(0.)\n",
    "    acc = tf.Variable(0.) \n",
    "    val_loss = tf.Variable(0.)\n",
    "    val_acc = tf.Variable(0.)\n",
    "    test_loss = tf.Variable(0.)\n",
    "    test_acc = tf.Variable(0.)\n",
    "    tf.keras.backend.set_learning_phase(True)\n",
    "    train_out_loss, train_out_acc, n, time_model, time_data = epoch(train_iter, train_df, model, optimizer, cat_cols, num_cols, norm_dict)\n",
    "    tf.keras.backend.set_learning_phase(False)\n",
    "    val_out_loss, val_out_acc, n, _, _ = epoch(val_iter, val_df, model, None, cat_cols, num_cols, norm_dict)\n",
    "    test_out_loss, test_out_acc, n, _, _ = epoch(test_iter, test_df, model, None, cat_cols, num_cols, norm_dict)\n",
    "    loss, acc, _ = format_output(train_out_loss, train_out_acc, n, list(cat_cols.keys())+num_cols)\n",
    "    val_loss, val_acc, df_val = format_output(val_out_loss, val_out_acc, n, list(cat_cols.keys())+num_cols, print_bl=False)\n",
    "    test_loss, test_acc, df_test = format_output(test_out_loss, test_out_acc, n, list(cat_cols.keys())+num_cols, print_bl=False)\n",
    "    df_val.columns = ['name', 'cur_loss_val', 'cur_acc_val']\n",
    "    df_test.columns = ['name', 'cur_loss_test', 'cur_acc_test']\n",
    "    if e == 0:\n",
    "      df_best = pd.merge(df_test, df_val, how='left', left_on='name', right_on='name')\n",
    "      df_best.columns = ['name', 'best_loss_test', 'best_acc_test', 'best_loss_val', 'best_acc_val']\n",
    "    df_best = best_val(df_best, df_val, df_test)\n",
    "    print(df_best[['name', 'best_loss_test', 'best_acc_test']])\n",
    "    print(df_best[['name', 'best_loss_val', 'best_acc_val']])\n",
    "    log_textfile(path_output +  modelname + 'multitask_test' + '.log', template.format(e, loss, acc, val_loss, val_acc, time_model, time_data))\n",
    "    if e in [10, 15]:\n",
    "      optimizer.lr = optimizer.lr/3\n",
    "      log_textfile(path_output +  modelname + 'multitask_test' + '.log', 'Learning rate: ' + str(optimizer.lr))\n",
    "    df_best.to_csv(path_output +  modelname + 'multitask_test' + '.csv')\n",
    "    model.save_weights(path_saved + str(e) + \"/checkpoint\")"
   ]
  },
  {
   "cell_type": "code",
   "execution_count": 13,
   "metadata": {
    "papermill": {
     "duration": 0.379556,
     "end_time": "2019-11-15T14:22:34.328185",
     "exception": true,
     "start_time": "2019-11-15T14:22:33.948629",
     "status": "failed"
    },
    "tags": []
   },
   "outputs": [
    {
     "ename": "NameError",
     "evalue": "name 'error' is not defined",
     "output_type": "error",
     "traceback": [
      "\u001b[0;31m---------------------------------------------------------------------------\u001b[0m",
      "\u001b[0;31mNameError\u001b[0m                                 Traceback (most recent call last)",
      "\u001b[0;32m<ipython-input-13-ded28046d863>\u001b[0m in \u001b[0;36m<module>\u001b[0;34m\u001b[0m\n\u001b[0;32m----> 1\u001b[0;31m \u001b[0merror\u001b[0m\u001b[0;34m\u001b[0m\u001b[0m\n\u001b[0m",
      "\u001b[0;31mNameError\u001b[0m: name 'error' is not defined"
     ]
    }
   ],
   "source": [
    "error"
   ]
  },
  {
   "cell_type": "code",
   "execution_count": null,
   "metadata": {
    "papermill": {
     "duration": null,
     "end_time": null,
     "exception": null,
     "start_time": null,
     "status": "pending"
    },
    "tags": []
   },
   "outputs": [],
   "source": [
    "batch = next(iter(train_iter))"
   ]
  },
  {
   "cell_type": "code",
   "execution_count": null,
   "metadata": {
    "papermill": {
     "duration": null,
     "end_time": null,
     "exception": null,
     "start_time": null,
     "status": "pending"
    },
    "tags": []
   },
   "outputs": [],
   "source": [
    "t1 = (tf.cast(batch['t1'], tf.float32)-t1_mean)/t1_std\n",
    "t2 = (batch['t2']-t2_mean)/t2_std\n",
    "ad = batch['ad']\n",
    "ad = tf.where(tf.math.is_nan(ad), tf.zeros_like(ad), ad)\n",
    "ad = (ad-ad_mean)/ad_std\n",
    "fa = batch['fa']\n",
    "fa = tf.where(tf.math.is_nan(fa), tf.zeros_like(fa), fa)\n",
    "fa = (fa-fa_mean)/fa_std\n",
    "md = batch['md']\n",
    "md = tf.where(tf.math.is_nan(md), tf.zeros_like(md), md)\n",
    "md = (md-md_mean)/md_std\n",
    "rd = batch['rd']\n",
    "rd = tf.where(tf.math.is_nan(rd), tf.zeros_like(rd), rd)\n",
    "rd = (rd-rd_mean)/rd_std\n",
    "#subjectid = decoder(batch['subjectid'])\n",
    "#y = get_labels(df, subjectid, list(cat_cols.keys())+num_cols)\n",
    "#X = tf.concat([t1, t2, ad, fa, md, rd], axis=4)\n",
    "X = tf.concat([t1, t2], axis=4)    "
   ]
  },
  {
   "cell_type": "code",
   "execution_count": null,
   "metadata": {
    "papermill": {
     "duration": null,
     "end_time": null,
     "exception": null,
     "start_time": null,
     "status": "pending"
    },
    "tags": []
   },
   "outputs": [],
   "source": [
    "tf.keras.backend.set_learning_phase(True)\n",
    "model(X)['female']"
   ]
  },
  {
   "cell_type": "code",
   "execution_count": null,
   "metadata": {
    "papermill": {
     "duration": null,
     "end_time": null,
     "exception": null,
     "start_time": null,
     "status": "pending"
    },
    "tags": []
   },
   "outputs": [],
   "source": [
    "tf.keras.backend.set_learning_phase(False)\n",
    "model(X)['female']"
   ]
  },
  {
   "cell_type": "code",
   "execution_count": null,
   "metadata": {
    "papermill": {
     "duration": null,
     "end_time": null,
     "exception": null,
     "start_time": null,
     "status": "pending"
    },
    "tags": []
   },
   "outputs": [],
   "source": [
    "mean_std = [x.name for x in model.non_trainable_variables if ('batch_norm') in x.name and ('mean' in x.name or 'variance' in x.name)]"
   ]
  },
  {
   "cell_type": "code",
   "execution_count": null,
   "metadata": {
    "papermill": {
     "duration": null,
     "end_time": null,
     "exception": null,
     "start_time": null,
     "status": "pending"
    },
    "tags": []
   },
   "outputs": [],
   "source": [
    "model = Model(cat_cols, num_cols)"
   ]
  },
  {
   "cell_type": "code",
   "execution_count": null,
   "metadata": {
    "papermill": {
     "duration": null,
     "end_time": null,
     "exception": null,
     "start_time": null,
     "status": "pending"
    },
    "tags": []
   },
   "outputs": [],
   "source": [
    "model.non_trainable_variables "
   ]
  },
  {
   "cell_type": "code",
   "execution_count": null,
   "metadata": {
    "papermill": {
     "duration": null,
     "end_time": null,
     "exception": null,
     "start_time": null,
     "status": "pending"
    },
    "tags": []
   },
   "outputs": [],
   "source": []
  }
 ],
 "metadata": {
  "accelerator": "GPU",
  "colab": {
   "collapsed_sections": [],
   "machine_shape": "hm",
   "name": "06_SimpleDL_MultiTask_Valid.ipynb",
   "provenance": []
  },
  "kernelspec": {
   "display_name": "Python 3",
   "language": "python",
   "name": "python3"
  },
  "language_info": {
   "codemirror_mode": {
    "name": "ipython",
    "version": 3
   },
   "file_extension": ".py",
   "mimetype": "text/x-python",
   "name": "python",
   "nbconvert_exporter": "python",
   "pygments_lexer": "ipython3",
   "version": "3.5.3"
  },
  "papermill": {
   "duration": 340.411567,
   "end_time": "2019-11-15T14:22:36.738298",
   "environment_variables": {},
   "exception": true,
   "input_path": "RunModels_bck_densenet_t1t2_out_site16_SimpleCNN_.ipynb",
   "output_path": "RunModels_bck_densenet_t1t2_out_site16_SimpleCNN_out.ipynb",
   "parameters": {},
   "start_time": "2019-11-15T14:16:56.326731",
   "version": "1.2.1"
  }
 },
 "nbformat": 4,
 "nbformat_minor": 1
}