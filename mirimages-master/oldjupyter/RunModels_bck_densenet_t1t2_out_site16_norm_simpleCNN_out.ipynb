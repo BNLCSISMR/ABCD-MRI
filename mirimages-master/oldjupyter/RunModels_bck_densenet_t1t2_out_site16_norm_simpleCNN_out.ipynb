{
 "cells": [
  {
   "cell_type": "code",
   "execution_count": null,
   "metadata": {
    "hide_input": true,
    "inputHidden": true
   },
   "outputs": [
    {
     "data": {
      "text/html": [
       "<span style=\"color:red; font-family:Helvetica Neue, Helvetica, Arial, sans-serif; font-size:2em;\">An Exception was encountered at 'In [13]'.</span>"
      ]
     },
     "metadata": {},
     "output_type": "display_data"
    }
   ],
   "source": [
    "%%html\n",
    "<span style=\"color:red; font-family:Helvetica Neue, Helvetica, Arial, sans-serif; font-size:2em;\">An Exception was encountered at 'In [13]'.</span>"
   ]
  },
  {
   "cell_type": "code",
   "execution_count": 1,
   "metadata": {
    "papermill": {
     "duration": 0.040619,
     "end_time": "2019-11-15T14:27:35.406255",
     "exception": false,
     "start_time": "2019-11-15T14:27:35.365636",
     "status": "completed"
    },
    "tags": []
   },
   "outputs": [],
   "source": [
    "%load_ext autoreload\n",
    "%autoreload 2"
   ]
  },
  {
   "cell_type": "code",
   "execution_count": 2,
   "metadata": {
    "colab": {
     "base_uri": "https://localhost:8080/",
     "height": 34
    },
    "colab_type": "code",
    "executionInfo": {
     "elapsed": 48054,
     "status": "ok",
     "timestamp": 1573636583219,
     "user": {
      "displayName": "Benedikt Dietmar Schifferer",
      "photoUrl": "https://lh3.googleusercontent.com/a-/AAuE7mDViwxKXBjVKZfXMWGuXrQ48D62bye6HNutAOX0=s64",
      "userId": "06737229821528734971"
     },
     "user_tz": -60
    },
    "id": "2mU_ZLUH5jz4",
    "outputId": "c4cbc445-56dd-49df-de87-c34e18da5f6c",
    "papermill": {
     "duration": 2.489218,
     "end_time": "2019-11-15T14:27:37.909405",
     "exception": false,
     "start_time": "2019-11-15T14:27:35.420187",
     "status": "completed"
    },
    "tags": []
   },
   "outputs": [
    {
     "data": {
      "text/plain": [
       "'2.0.0'"
      ]
     },
     "execution_count": 2,
     "metadata": {},
     "output_type": "execute_result"
    }
   ],
   "source": [
    "import glob\n",
    "import nibabel as nib\n",
    "import os\n",
    "import time\n",
    "\n",
    "import pandas as pd\n",
    "import numpy as np\n",
    "\n",
    "from mricode.utils import log_textfile\n",
    "from mricode.utils import copy_colab\n",
    "from mricode.utils import return_iter\n",
    "from mricode.utils import return_csv\n",
    "\n",
    "from mricode.models.SimpleCNN import SimpleCNN\n",
    "from mricode.models.DenseNet import MyDenseNet\n",
    "\n",
    "import tensorflow as tf\n",
    "from tensorflow.keras.layers import Conv3D\n",
    "from tensorflow import nn\n",
    "from tensorflow.python.ops import nn_ops\n",
    "from tensorflow.python.framework import tensor_shape\n",
    "from tensorflow.python.keras.engine.base_layer import InputSpec\n",
    "from tensorflow.python.keras.utils import conv_utils\n",
    "\n",
    "tf.__version__"
   ]
  },
  {
   "cell_type": "code",
   "execution_count": 3,
   "metadata": {
    "papermill": {
     "duration": 0.957001,
     "end_time": "2019-11-15T14:27:38.880274",
     "exception": false,
     "start_time": "2019-11-15T14:27:37.923273",
     "status": "completed"
    },
    "tags": []
   },
   "outputs": [
    {
     "data": {
      "text/plain": [
       "True"
      ]
     },
     "execution_count": 3,
     "metadata": {},
     "output_type": "execute_result"
    }
   ],
   "source": [
    "tf.test.is_gpu_available()"
   ]
  },
  {
   "cell_type": "code",
   "execution_count": 4,
   "metadata": {
    "colab": {},
    "colab_type": "code",
    "id": "nH4XzW8C5yhH",
    "papermill": {
     "duration": 0.061207,
     "end_time": "2019-11-15T14:27:38.955231",
     "exception": false,
     "start_time": "2019-11-15T14:27:38.894024",
     "status": "completed"
    },
    "tags": []
   },
   "outputs": [],
   "source": [
    "path_saved = './modelssaved/DenseNet_T1T2_site16_norm_20e_SimpleCNN/'\n",
    "path_output = './output/'\n",
    "path_tfrecords = '/data2/res64/down/'\n",
    "path_csv = '/data2/csv/'\n",
    "filename_res = {'train': 'intell_residual_train.csv', 'val': 'intell_residual_valid.csv', 'test': 'intell_residual_test.csv'}\n",
    "filename_final = filename_res\n",
    "sample_size = 'site16_allimages'\n",
    "batch_size = 8\n",
    "onlyt1 = False\n",
    "modelname = 'runAllImages64_DenseNet_T1T2_site16_norm_20e_SimpleCNN_'\n",
    "Model = SimpleCNN\n",
    "t1_mean=1.3779395849814497\n",
    "t1_std=3.4895845243139503\n",
    "t2_mean=2.22435586968901\n",
    "t2_std=5.07708743178319\n",
    "ad_mean=1.3008901218593748e-05\n",
    "ad_std=0.009966655860940228\n",
    "fa_mean=0.0037552628409334037\n",
    "fa_std=0.012922319568740915\n",
    "md_mean=9.827903909139596e-06\n",
    "md_std=0.009956973204022659\n",
    "rd_mean=8.237404999587111e-06\n",
    "rd_std=0.009954672598675338"
   ]
  },
  {
   "cell_type": "code",
   "execution_count": 5,
   "metadata": {
    "colab": {
     "base_uri": "https://localhost:8080/",
     "height": 71
    },
    "colab_type": "code",
    "executionInfo": {
     "elapsed": 4520,
     "status": "ok",
     "timestamp": 1573636640714,
     "user": {
      "displayName": "Benedikt Dietmar Schifferer",
      "photoUrl": "https://lh3.googleusercontent.com/a-/AAuE7mDViwxKXBjVKZfXMWGuXrQ48D62bye6HNutAOX0=s64",
      "userId": "06737229821528734971"
     },
     "user_tz": -60
    },
    "id": "B-rSS9vT6TuF",
    "outputId": "f5b43cbc-7d59-4c7c-b6d6-78882b1ef3e1",
    "papermill": {
     "duration": 0.298966,
     "end_time": "2019-11-15T14:27:39.269095",
     "exception": false,
     "start_time": "2019-11-15T14:27:38.970129",
     "status": "completed"
    },
    "tags": []
   },
   "outputs": [
    {
     "name": "stdout",
     "output_type": "stream",
     "text": [
      "WARNING:tensorflow:Entity <function return_iter.<locals>._parse_ at 0x7f801dcc8488> could not be transformed and will be executed as-is. Please report this to the AutoGraph team. When filing the bug, set the verbosity to 10 (on Linux, `export AUTOGRAPH_VERBOSITY=10`) and attach the full output. Cause: \n"
     ]
    },
    {
     "name": "stdout",
     "output_type": "stream",
     "text": [
      "WARNING: Entity <function return_iter.<locals>._parse_ at 0x7f801dcc8488> could not be transformed and will be executed as-is. Please report this to the AutoGraph team. When filing the bug, set the verbosity to 10 (on Linux, `export AUTOGRAPH_VERBOSITY=10`) and attach the full output. Cause: \n"
     ]
    }
   ],
   "source": [
    "train_iter, val_iter, test_iter = return_iter(path_tfrecords, sample_size, batch_size, onlyt1=onlyt1)"
   ]
  },
  {
   "cell_type": "code",
   "execution_count": 6,
   "metadata": {
    "colab": {},
    "colab_type": "code",
    "id": "lJ0VnyEzBAes",
    "papermill": {
     "duration": 0.065212,
     "end_time": "2019-11-15T14:27:39.349979",
     "exception": false,
     "start_time": "2019-11-15T14:27:39.284767",
     "status": "completed"
    },
    "tags": []
   },
   "outputs": [],
   "source": [
    "if False:\n",
    "  t1_mean = 0.\n",
    "  t1_std = 0.\n",
    "  t2_mean = 0.\n",
    "  t2_std = 0.\n",
    "  ad_mean = 0.\n",
    "  ad_std = 0.\n",
    "  fa_mean = 0.\n",
    "  fa_std = 0.\n",
    "  md_mean = 0.\n",
    "  md_std = 0.\n",
    "  rd_mean = 0.\n",
    "  rd_std = 0.\n",
    "  n = 0.\n",
    "  for b in train_iter:\n",
    "      t1_mean += np.mean(b['t1'])\n",
    "      t1_std += np.std(b['t1'])\n",
    "      t2_mean += np.mean(b['t2'])\n",
    "      t2_std += np.std(b['t2'])\n",
    "      a = np.asarray(b['ad'])\n",
    "      a = a.copy()\n",
    "      a[np.isnan(a)] = 0\n",
    "      ad_mean += np.mean(a)\n",
    "      ad_std += np.std(a)\n",
    "      a = np.asarray(b['fa'])\n",
    "      a = a.copy()\n",
    "      a[np.isnan(a)] = 0\n",
    "      fa_mean += np.mean(a)\n",
    "      fa_std += np.std(a)\n",
    "      a = np.asarray(b['md'])\n",
    "      a = a.copy()\n",
    "      a[np.isnan(a)] = 0\n",
    "      md_mean += np.mean(a)\n",
    "      md_std += np.std(a)\n",
    "      a = np.asarray(b['rd'])\n",
    "      a = a.copy()\n",
    "      a[np.isnan(a)] = 0\n",
    "      rd_mean += np.mean(a)\n",
    "      rd_std += np.std(a)\n",
    "      n += np.asarray(b['t1']).shape[0]\n",
    "\n",
    "  t1_mean /= n\n",
    "  t1_std /= n\n",
    "  t2_mean /= n\n",
    "  t2_std /= n\n",
    "  ad_mean /= n\n",
    "  ad_std /= n\n",
    "  fa_mean /= n\n",
    "  fa_std /= n\n",
    "  md_mean /= n\n",
    "  md_std /= n\n",
    "  rd_mean /= n\n",
    "  rd_std /= n"
   ]
  },
  {
   "cell_type": "code",
   "execution_count": 7,
   "metadata": {
    "colab": {
     "base_uri": "https://localhost:8080/",
     "height": 85
    },
    "colab_type": "code",
    "executionInfo": {
     "elapsed": 2924,
     "status": "ok",
     "timestamp": 1573636640716,
     "user": {
      "displayName": "Benedikt Dietmar Schifferer",
      "photoUrl": "https://lh3.googleusercontent.com/a-/AAuE7mDViwxKXBjVKZfXMWGuXrQ48D62bye6HNutAOX0=s64",
      "userId": "06737229821528734971"
     },
     "user_tz": -60
    },
    "id": "mSwhEqDPM_r8",
    "outputId": "14a4ac0b-9587-4776-fc64-1e008f0c5c31",
    "papermill": {
     "duration": 0.062661,
     "end_time": "2019-11-15T14:27:39.427717",
     "exception": false,
     "start_time": "2019-11-15T14:27:39.365056",
     "status": "completed"
    },
    "tags": []
   },
   "outputs": [
    {
     "data": {
      "text/plain": [
       "(1.3779395849814497,\n",
       " 3.4895845243139503,\n",
       " 2.22435586968901,\n",
       " 5.07708743178319,\n",
       " 1.3008901218593748e-05,\n",
       " 0.009966655860940228,\n",
       " 0.0037552628409334037,\n",
       " 0.012922319568740915,\n",
       " 9.827903909139596e-06,\n",
       " 0.009956973204022659,\n",
       " 8.237404999587111e-06,\n",
       " 0.009954672598675338)"
      ]
     },
     "execution_count": 7,
     "metadata": {},
     "output_type": "execute_result"
    }
   ],
   "source": [
    "t1_mean, t1_std, t2_mean, t2_std, ad_mean, ad_std, fa_mean, fa_std, md_mean, md_std, rd_mean, rd_std"
   ]
  },
  {
   "cell_type": "code",
   "execution_count": 8,
   "metadata": {
    "colab": {},
    "colab_type": "code",
    "id": "PAyV5ktlA6K1",
    "papermill": {
     "duration": 0.319149,
     "end_time": "2019-11-15T14:27:39.762094",
     "exception": false,
     "start_time": "2019-11-15T14:27:39.442945",
     "status": "completed"
    },
    "tags": []
   },
   "outputs": [],
   "source": [
    "train_df, val_df, test_df, norm_dict = return_csv(path_csv, filename_final, False)"
   ]
  },
  {
   "cell_type": "code",
   "execution_count": 9,
   "metadata": {
    "colab": {
     "base_uri": "https://localhost:8080/",
     "height": 442
    },
    "colab_type": "code",
    "executionInfo": {
     "elapsed": 3147,
     "status": "ok",
     "timestamp": 1573636641787,
     "user": {
      "displayName": "Benedikt Dietmar Schifferer",
      "photoUrl": "https://lh3.googleusercontent.com/a-/AAuE7mDViwxKXBjVKZfXMWGuXrQ48D62bye6HNutAOX0=s64",
      "userId": "06737229821528734971"
     },
     "user_tz": -60
    },
    "id": "0xYy4XUyVBeC",
    "outputId": "a6a19d59-31ff-4064-f1dc-952befcce4b3",
    "papermill": {
     "duration": 0.063996,
     "end_time": "2019-11-15T14:27:39.841722",
     "exception": false,
     "start_time": "2019-11-15T14:27:39.777726",
     "status": "completed"
    },
    "tags": []
   },
   "outputs": [
    {
     "data": {
      "text/plain": [
       "{'BMI': {'mean': 18.681548127052135, 'std': 4.193043131845343},\n",
       " 'age': {'mean': 119.00325844623563, 'std': 7.479129774017182},\n",
       " 'height': {'mean': 55.25173666322929, 'std': 3.152756181679028},\n",
       " 'nihtbx_cardsort_uncorrected': {'mean': 0.01902727147573316,\n",
       "  'std': 0.92710655806542},\n",
       " 'nihtbx_cryst_uncorrected': {'mean': 0.007018628014748754,\n",
       "  'std': 0.7845373584638602},\n",
       " 'nihtbx_flanker_uncorrected': {'mean': 0.02188780794049048,\n",
       "  'std': 0.9070917080607726},\n",
       " 'nihtbx_fluidcomp_uncorrected': {'mean': 0.020178243913565427,\n",
       "  'std': 0.86606123778624},\n",
       " 'nihtbx_list_uncorrected': {'mean': 0.00625176016120734,\n",
       "  'std': 0.8898550695735616},\n",
       " 'nihtbx_pattern_uncorrected': {'mean': 0.020721412569885096,\n",
       "  'std': 0.9486618556882954},\n",
       " 'nihtbx_picture_uncorrected': {'mean': 0.0005782175223803825,\n",
       "  'std': 0.9577989703304521},\n",
       " 'nihtbx_picvocab_uncorrected': {'mean': 0.0068509109986280275,\n",
       "  'std': 0.8038465951211212},\n",
       " 'nihtbx_reading_uncorrected': {'mean': 0.0027847502208883574,\n",
       "  'std': 0.8572703419965433},\n",
       " 'nihtbx_totalcomp_uncorrected': {'mean': 0.016971206631452577,\n",
       "  'std': 0.7866686549175077},\n",
       " 'vol': {'mean': 0.013939557398902416, 'std': 1.001699783217792},\n",
       " 'weight': {'mean': 81.91536668875837, 'std': 23.321845390211728}}"
      ]
     },
     "execution_count": 9,
     "metadata": {},
     "output_type": "execute_result"
    }
   ],
   "source": [
    "norm_dict"
   ]
  },
  {
   "cell_type": "code",
   "execution_count": 10,
   "metadata": {
    "colab": {},
    "colab_type": "code",
    "id": "eTk95ptFV5oN",
    "papermill": {
     "duration": 0.057115,
     "end_time": "2019-11-15T14:27:39.914386",
     "exception": false,
     "start_time": "2019-11-15T14:27:39.857271",
     "status": "completed"
    },
    "tags": []
   },
   "outputs": [],
   "source": [
    "cat_cols = {'female': 2, 'race.ethnicity': 5, 'high.educ_group': 4, 'income_group': 8, 'married': 6}\n",
    "num_cols = [x for x in list(val_df.columns) if '_norm' in x]"
   ]
  },
  {
   "cell_type": "code",
   "execution_count": 11,
   "metadata": {
    "colab": {},
    "colab_type": "code",
    "id": "hROMApYiDagm",
    "papermill": {
     "duration": 0.097482,
     "end_time": "2019-11-15T14:27:40.028015",
     "exception": false,
     "start_time": "2019-11-15T14:27:39.930533",
     "status": "completed"
    },
    "tags": []
   },
   "outputs": [],
   "source": [
    "def calc_loss_acc(out_loss, out_acc, y_true, y_pred, cat_cols, num_cols, norm_dict):\n",
    "  for col in num_cols:\n",
    "    tmp_col = col\n",
    "    tmp_std = norm_dict[tmp_col.replace('_norm','')]['std']\n",
    "    tmp_y_true = tf.cast(y_true[col], tf.float32).numpy()\n",
    "    tmp_y_pred = np.squeeze(y_pred[col].numpy())\n",
    "    if not(tmp_col in out_loss):\n",
    "      out_loss[tmp_col] = np.sum(np.square(tmp_y_true-tmp_y_pred))\n",
    "    else:\n",
    "      out_loss[tmp_col] += np.sum(np.square(tmp_y_true-tmp_y_pred))\n",
    "    if not(tmp_col in out_acc):\n",
    "      out_acc[tmp_col] = np.sum(np.square((tmp_y_true-tmp_y_pred)*tmp_std))\n",
    "    else:\n",
    "      out_acc[tmp_col] += np.sum(np.square((tmp_y_true-tmp_y_pred)*tmp_std))\n",
    "  for col in list(cat_cols.keys()):\n",
    "    tmp_col = col\n",
    "    if not(tmp_col in out_loss):\n",
    "      out_loss[tmp_col] = tf.keras.losses.SparseCategoricalCrossentropy()(tf.squeeze(y_true[col]), tf.squeeze(y_pred[col])).numpy()\n",
    "    else:\n",
    "      out_loss[tmp_col] += tf.keras.losses.SparseCategoricalCrossentropy()(tf.squeeze(y_true[col]), tf.squeeze(y_pred[col])).numpy()\n",
    "    if not(tmp_col in out_acc):\n",
    "      out_acc[tmp_col] = tf.reduce_sum(tf.dtypes.cast((y_true[col] == tf.argmax(y_pred[col], axis=-1)), tf.float32)).numpy()\n",
    "    else:\n",
    "      out_acc[tmp_col] += tf.reduce_sum(tf.dtypes.cast((y_true[col] == tf.argmax(y_pred[col], axis=-1)), tf.float32)).numpy()    \n",
    "  return(out_loss, out_acc)\n",
    "\n",
    "def format_output(out_loss, out_acc, n, cols, print_bl=False):\n",
    "  loss = 0\n",
    "  acc = 0\n",
    "  output = []\n",
    "  for col in cols:\n",
    "    output.append([col, out_loss[col]/n, out_acc[col]/n])\n",
    "    loss += out_loss[col]/n\n",
    "    acc += out_acc[col]/n\n",
    "  df = pd.DataFrame(output)\n",
    "  df.columns = ['name', 'loss', 'acc']\n",
    "  if print_bl:\n",
    "    print(df)\n",
    "  return(loss, acc, df)\n",
    "\n",
    "@tf.function\n",
    "def train_step(X, y, model, optimizer, cat_cols, num_cols):\n",
    "  with tf.GradientTape() as tape:\n",
    "    predictions = model(X)\n",
    "    i = 0\n",
    "    loss = tf.keras.losses.MSE(tf.cast(y[num_cols[i]], tf.float32), tf.squeeze(predictions[num_cols[i]]))\n",
    "    for i in range(1,len(num_cols)):\n",
    "      loss += tf.keras.losses.MSE(tf.cast(y[num_cols[i]], tf.float32), tf.squeeze(predictions[num_cols[i]]))\n",
    "    for col in list(cat_cols.keys()):\n",
    "      loss += tf.keras.losses.SparseCategoricalCrossentropy()(tf.squeeze(y[col]), tf.squeeze(predictions[col]))\n",
    "  gradients = tape.gradient(loss, model.trainable_variables)\n",
    "  mean_std = [x.name for x in model.non_trainable_variables if ('batch_norm') in x.name and ('mean' in x.name or 'variance' in x.name)]\n",
    "  with tf.control_dependencies(mean_std):\n",
    "    optimizer.apply_gradients(zip(gradients, model.trainable_variables))\n",
    "  return(y, predictions, loss)\n",
    "\n",
    "@tf.function\n",
    "def test_step(X, y, model):\n",
    "  predictions = model(X)\n",
    "  return(y, predictions)\n",
    "\n",
    "def epoch(data_iter, df, model, optimizer, cat_cols, num_cols, norm_dict):\n",
    "  out_loss = {}\n",
    "  out_acc = {}\n",
    "  n = 0.\n",
    "  n_batch = 0.\n",
    "  total_time_dataload = 0.\n",
    "  total_time_model = 0.\n",
    "  start_time = time.time()\n",
    "  for batch in data_iter:\n",
    "    total_time_dataload += time.time() - start_time\n",
    "    start_time = time.time()\n",
    "    t1 = (tf.cast(batch['t1'], tf.float32)-t1_mean)/t1_std\n",
    "    t2 = (batch['t2']-t2_mean)/t2_std\n",
    "    ad = batch['ad']\n",
    "    ad = tf.where(tf.math.is_nan(ad), tf.zeros_like(ad), ad)\n",
    "    ad = (ad-ad_mean)/ad_std\n",
    "    fa = batch['fa']\n",
    "    fa = tf.where(tf.math.is_nan(fa), tf.zeros_like(fa), fa)\n",
    "    fa = (fa-fa_mean)/fa_std\n",
    "    md = batch['md']\n",
    "    md = tf.where(tf.math.is_nan(md), tf.zeros_like(md), md)\n",
    "    md = (md-md_mean)/md_std\n",
    "    rd = batch['rd']\n",
    "    rd = tf.where(tf.math.is_nan(rd), tf.zeros_like(rd), rd)\n",
    "    rd = (rd-rd_mean)/rd_std\n",
    "    subjectid = decoder(batch['subjectid'])\n",
    "    y = get_labels(df, subjectid, list(cat_cols.keys())+num_cols)\n",
    "    X = tf.concat([t1, t2], axis=4)\n",
    "    #X = tf.concat([t1, t2], axis=4)\n",
    "    if optimizer != None:\n",
    "      y_true, y_pred, loss = train_step(X, y, model, optimizer, cat_cols, num_cols)\n",
    "    else:\n",
    "      y_true, y_pred = test_step(X, y, model)\n",
    "    out_loss, out_acc = calc_loss_acc(out_loss, out_acc, y_true, y_pred, cat_cols, num_cols, norm_dict)\n",
    "    n += X.shape[0]\n",
    "    n_batch += 1\n",
    "    if (n_batch % 10) == 0:\n",
    "      print(n_batch)\n",
    "    total_time_model += time.time() - start_time\n",
    "    start_time = time.time()\n",
    "  return (out_loss, out_acc, n, total_time_model, total_time_dataload)\n",
    "\n",
    "def get_labels(df, subjectid, cols = ['nihtbx_fluidcomp_uncorrected_norm']):\n",
    "  subjects_df = pd.DataFrame(subjectid)\n",
    "  result_df = pd.merge(subjects_df, df, left_on=0, right_on='subjectkey', how='left')\n",
    "  output = {}\n",
    "  for col in cols:\n",
    "    output[col] = np.asarray(result_df[col].values)\n",
    "  return output\n",
    "\n",
    "def best_val(df_best, df_val, df_test):\n",
    "  df_best = pd.merge(df_best, df_val, how='left', left_on='name', right_on='name')\n",
    "  df_best = pd.merge(df_best, df_test, how='left', left_on='name', right_on='name')\n",
    "  df_best.loc[df_best['best_loss_val']>=df_best['cur_loss_val'], 'best_loss_test'] = df_best.loc[df_best['best_loss_val']>=df_best['cur_loss_val'], 'cur_loss_test']\n",
    "  df_best.loc[df_best['best_loss_val']>=df_best['cur_loss_val'], 'best_loss_val'] = df_best.loc[df_best['best_loss_val']>=df_best['cur_loss_val'], 'cur_loss_val']\n",
    "  df_best.loc[(df_best['best_acc_val']<=df_best['cur_acc_val'])&(df_best['name'].isin(['female', 'race.ethnicity', 'high.educ_group', 'income_group', 'married'])), 'best_acc_test'] = df_best.loc[(df_best['best_acc_val']<=df_best['cur_acc_val'])&(df_best['name'].isin(['female', 'race.ethnicity', 'high.educ_group', 'income_group', 'married'])), 'cur_acc_test']\n",
    "  df_best.loc[(df_best['best_acc_val']<=df_best['cur_acc_val'])&(df_best['name'].isin(['female', 'race.ethnicity', 'high.educ_group', 'income_group', 'married'])), 'best_acc_val'] = df_best.loc[(df_best['best_acc_val']<=df_best['cur_acc_val'])&(df_best['name'].isin(['female', 'race.ethnicity', 'high.educ_group', 'income_group', 'married'])), 'cur_acc_val']\n",
    "  df_best.loc[(df_best['best_acc_val']>=df_best['cur_acc_val'])&(~df_best['name'].isin(['female', 'race.ethnicity', 'high.educ_group', 'income_group', 'married'])), 'best_acc_test'] = df_best.loc[(df_best['best_acc_val']>=df_best['cur_acc_val'])&(~df_best['name'].isin(['female', 'race.ethnicity', 'high.educ_group', 'income_group', 'married'])), 'cur_acc_test']\n",
    "  df_best.loc[(df_best['best_acc_val']>=df_best['cur_acc_val'])&(~df_best['name'].isin(['female', 'race.ethnicity', 'high.educ_group', 'income_group', 'married'])), 'best_acc_val'] = df_best.loc[(df_best['best_acc_val']>=df_best['cur_acc_val'])&(~df_best['name'].isin(['female', 'race.ethnicity', 'high.educ_group', 'income_group', 'married'])), 'cur_acc_val']\n",
    "  df_best = df_best.drop(['cur_loss_val', 'cur_acc_val', 'cur_loss_test', 'cur_acc_test'], axis=1)\n",
    "  return(df_best)"
   ]
  },
  {
   "cell_type": "code",
   "execution_count": 12,
   "metadata": {
    "colab": {
     "base_uri": "https://localhost:8080/",
     "height": 1000
    },
    "colab_type": "code",
    "executionInfo": {
     "elapsed": 46355,
     "status": "ok",
     "timestamp": 1573636701683,
     "user": {
      "displayName": "Benedikt Dietmar Schifferer",
      "photoUrl": "https://lh3.googleusercontent.com/a-/AAuE7mDViwxKXBjVKZfXMWGuXrQ48D62bye6HNutAOX0=s64",
      "userId": "06737229821528734971"
     },
     "user_tz": -60
    },
    "id": "RV24LE3k-00n",
    "outputId": "067125be-6ce2-40c9-998e-62f800ccb2f1",
    "papermill": {
     "duration": 347.140716,
     "end_time": "2019-11-15T14:33:27.183779",
     "exception": false,
     "start_time": "2019-11-15T14:27:40.043063",
     "status": "completed"
    },
    "tags": []
   },
   "outputs": [
    {
     "name": "stdout",
     "output_type": "stream",
     "text": [
      "{'race.ethnicity': 5, 'married': 6, 'high.educ_group': 4, 'female': 2, 'income_group': 8}\n",
      "['BMI_norm', 'age_norm', 'vol_norm', 'weight_norm', 'height_norm', 'nihtbx_fluidcomp_uncorrected_norm', 'nihtbx_cryst_uncorrected_norm', 'nihtbx_pattern_uncorrected_norm', 'nihtbx_picture_uncorrected_norm', 'nihtbx_list_uncorrected_norm', 'nihtbx_flanker_uncorrected_norm', 'nihtbx_picvocab_uncorrected_norm', 'nihtbx_cardsort_uncorrected_norm', 'nihtbx_totalcomp_uncorrected_norm', 'nihtbx_reading_uncorrected_norm']\n",
      "Epochs: 0\n"
     ]
    },
    {
     "name": "stdout",
     "output_type": "stream",
     "text": [
      "10.0\n"
     ]
    },
    {
     "name": "stdout",
     "output_type": "stream",
     "text": [
      "20.0\n"
     ]
    },
    {
     "name": "stdout",
     "output_type": "stream",
     "text": [
      "30.0\n"
     ]
    },
    {
     "name": "stdout",
     "output_type": "stream",
     "text": [
      "40.0\n"
     ]
    },
    {
     "name": "stdout",
     "output_type": "stream",
     "text": [
      "50.0\n"
     ]
    },
    {
     "name": "stdout",
     "output_type": "stream",
     "text": [
      "60.0\n"
     ]
    },
    {
     "name": "stdout",
     "output_type": "stream",
     "text": [
      "70.0\n"
     ]
    },
    {
     "name": "stdout",
     "output_type": "stream",
     "text": [
      "10.0\n"
     ]
    },
    {
     "name": "stdout",
     "output_type": "stream",
     "text": [
      "10.0\n"
     ]
    },
    {
     "name": "stdout",
     "output_type": "stream",
     "text": [
      "                                 name  best_loss_test  best_acc_test\n",
      "0                             married        0.641397       0.040984\n",
      "1                              female        0.599093       0.540984\n",
      "2                     high.educ_group        0.198174       0.926230\n",
      "3                        income_group        1.365103       0.114754\n",
      "4                      race.ethnicity        0.445890       0.778689\n",
      "5                            BMI_norm       43.851014     770.971632\n",
      "6                            age_norm      474.216893   26526.450820\n",
      "7                            vol_norm        0.449513       0.451043\n",
      "8                         weight_norm       71.806953   39056.418033\n",
      "9                         height_norm       36.787261     365.660669\n",
      "10  nihtbx_fluidcomp_uncorrected_norm        1.720004       1.290110\n",
      "11      nihtbx_cryst_uncorrected_norm       18.011024      11.085765\n",
      "12    nihtbx_pattern_uncorrected_norm      130.710289     117.633949\n",
      "13    nihtbx_picture_uncorrected_norm        5.586536       5.124970\n",
      "14       nihtbx_list_uncorrected_norm       33.633581      26.632488\n",
      "15    nihtbx_flanker_uncorrected_norm      202.959993     166.998607\n",
      "16   nihtbx_picvocab_uncorrected_norm       73.187564      47.291552\n",
      "17   nihtbx_cardsort_uncorrected_norm       16.228391      13.948734\n",
      "18  nihtbx_totalcomp_uncorrected_norm       70.247214      43.472312\n",
      "19    nihtbx_reading_uncorrected_norm       33.201730      24.400363\n",
      "                                 name  best_loss_val  best_acc_val\n",
      "0                             married       0.608440      0.024590\n",
      "1                              female       0.594192      0.491803\n",
      "2                     high.educ_group       0.237880      0.836066\n",
      "3                        income_group       1.447835      0.057377\n",
      "4                      race.ethnicity       0.341298      0.786885\n",
      "5                            BMI_norm      42.961438    755.331263\n",
      "6                            age_norm     446.148181  24956.358607\n",
      "7                            vol_norm       0.556156      0.558048\n",
      "8                         weight_norm      70.006900  38077.356557\n",
      "9                         height_norm      35.734715    355.198482\n",
      "10  nihtbx_fluidcomp_uncorrected_norm       2.136671      1.602636\n",
      "11      nihtbx_cryst_uncorrected_norm      17.856906     10.990906\n",
      "12    nihtbx_pattern_uncorrected_norm     121.394811    109.250400\n",
      "13    nihtbx_picture_uncorrected_norm       5.481480      5.028592\n",
      "14       nihtbx_list_uncorrected_norm      29.982912     23.741733\n",
      "15    nihtbx_flanker_uncorrected_norm     190.550397    156.787798\n",
      "16   nihtbx_picvocab_uncorrected_norm      70.528833     45.573574\n",
      "17   nihtbx_cardsort_uncorrected_norm      14.144774     12.157808\n",
      "18  nihtbx_totalcomp_uncorrected_norm      65.048964     40.255395\n",
      "19    nihtbx_reading_uncorrected_norm      31.563503     23.196409\n",
      "Epoch 0, Loss: 81.353, Accuracy: 1942.489, Val Loss: 1147.326, Val Accuracy: 64575.585, Time Model: 29.561, Time Data: 1.366\n",
      "Epochs: 1\n"
     ]
    },
    {
     "name": "stdout",
     "output_type": "stream",
     "text": [
      "10.0\n"
     ]
    },
    {
     "name": "stdout",
     "output_type": "stream",
     "text": [
      "20.0\n"
     ]
    },
    {
     "name": "stdout",
     "output_type": "stream",
     "text": [
      "30.0\n"
     ]
    },
    {
     "name": "stdout",
     "output_type": "stream",
     "text": [
      "40.0\n"
     ]
    },
    {
     "name": "stdout",
     "output_type": "stream",
     "text": [
      "50.0\n"
     ]
    },
    {
     "name": "stdout",
     "output_type": "stream",
     "text": [
      "60.0\n"
     ]
    },
    {
     "name": "stdout",
     "output_type": "stream",
     "text": [
      "70.0\n"
     ]
    },
    {
     "name": "stdout",
     "output_type": "stream",
     "text": [
      "10.0\n"
     ]
    },
    {
     "name": "stdout",
     "output_type": "stream",
     "text": [
      "10.0\n"
     ]
    },
    {
     "name": "stdout",
     "output_type": "stream",
     "text": [
      "                                 name  best_loss_test  best_acc_test\n",
      "0                             married        0.220898       0.057377\n",
      "1                              female        0.135437       0.540984\n",
      "2                     high.educ_group        0.059459       0.926230\n",
      "3                        income_group        0.388858       0.114754\n",
      "4                      race.ethnicity        0.194098       0.778689\n",
      "5                            BMI_norm        1.382966      24.314765\n",
      "6                            age_norm       44.382540    2482.643443\n",
      "7                            vol_norm        0.449513       0.451043\n",
      "8                         weight_norm        6.420271    3492.039191\n",
      "9                         height_norm        5.784350      57.495698\n",
      "10  nihtbx_fluidcomp_uncorrected_norm        1.720004       1.290110\n",
      "11      nihtbx_cryst_uncorrected_norm        2.570173       1.581938\n",
      "12    nihtbx_pattern_uncorrected_norm        4.011043       3.609776\n",
      "13    nihtbx_picture_uncorrected_norm        0.807313       0.740612\n",
      "14       nihtbx_list_uncorrected_norm        1.872415       1.482657\n",
      "15    nihtbx_flanker_uncorrected_norm       17.975036      14.790134\n",
      "16   nihtbx_picvocab_uncorrected_norm        6.948268       4.489758\n",
      "17   nihtbx_cardsort_uncorrected_norm        1.655899       1.423289\n",
      "18  nihtbx_totalcomp_uncorrected_norm        7.590874       4.697594\n",
      "19    nihtbx_reading_uncorrected_norm       17.080903      12.552968\n",
      "                                 name  best_loss_val  best_acc_val\n",
      "0                             married       0.217657      0.024590\n",
      "1                              female       0.133619      0.491803\n",
      "2                     high.educ_group       0.067660      0.836066\n",
      "3                        income_group       0.363377      0.057377\n",
      "4                      race.ethnicity       0.144792      0.786885\n",
      "5                            BMI_norm       1.381109     24.282123\n",
      "6                            age_norm      41.954890   2346.847080\n",
      "7                            vol_norm       0.556156      0.558048\n",
      "8                         weight_norm       6.533653   3553.709529\n",
      "9                         height_norm       5.824811     57.897873\n",
      "10  nihtbx_fluidcomp_uncorrected_norm       2.136671      1.602636\n",
      "11      nihtbx_cryst_uncorrected_norm       2.750889      1.693169\n",
      "12    nihtbx_pattern_uncorrected_norm       3.640703      3.276485\n",
      "13    nihtbx_picture_uncorrected_norm       1.096289      1.005712\n",
      "14       nihtbx_list_uncorrected_norm       2.093253      1.657526\n",
      "15    nihtbx_flanker_uncorrected_norm      16.898361     13.904233\n",
      "16   nihtbx_picvocab_uncorrected_norm       6.998959      4.522512\n",
      "17   nihtbx_cardsort_uncorrected_norm       1.350078      1.160428\n",
      "18  nihtbx_totalcomp_uncorrected_norm       6.786922      4.200071\n",
      "19    nihtbx_reading_uncorrected_norm      16.348745     12.014896\n",
      "Epoch 1, Loss: 61.770, Accuracy: 1207.953, Val Loss: 120.964, Val Accuracy: 6033.459, Time Model: 12.264, Time Data: 1.355\n",
      "Epochs: 2\n"
     ]
    },
    {
     "name": "stdout",
     "output_type": "stream",
     "text": [
      "10.0\n"
     ]
    },
    {
     "name": "stdout",
     "output_type": "stream",
     "text": [
      "20.0\n"
     ]
    },
    {
     "name": "stdout",
     "output_type": "stream",
     "text": [
      "30.0\n"
     ]
    },
    {
     "name": "stdout",
     "output_type": "stream",
     "text": [
      "40.0\n"
     ]
    },
    {
     "name": "stdout",
     "output_type": "stream",
     "text": [
      "50.0\n"
     ]
    },
    {
     "name": "stdout",
     "output_type": "stream",
     "text": [
      "60.0\n"
     ]
    },
    {
     "name": "stdout",
     "output_type": "stream",
     "text": [
      "70.0\n"
     ]
    },
    {
     "name": "stdout",
     "output_type": "stream",
     "text": [
      "10.0\n"
     ]
    },
    {
     "name": "stdout",
     "output_type": "stream",
     "text": [
      "10.0\n"
     ]
    },
    {
     "name": "stdout",
     "output_type": "stream",
     "text": [
      "                                 name  best_loss_test  best_acc_test\n",
      "0                             married        0.118595       0.737705\n",
      "1                              female        0.128370       0.540984\n",
      "2                     high.educ_group        0.049467       0.926230\n",
      "3                        income_group        0.269769       0.237705\n",
      "4                      race.ethnicity        0.086604       0.778689\n",
      "5                            BMI_norm        0.668484      11.753029\n",
      "6                            age_norm        1.617035      90.452701\n",
      "7                            vol_norm        0.449513       0.451043\n",
      "8                         weight_norm        0.892836     485.621158\n",
      "9                         height_norm        2.562539      25.471305\n",
      "10  nihtbx_fluidcomp_uncorrected_norm        1.119787       0.839910\n",
      "11      nihtbx_cryst_uncorrected_norm        2.570173       1.581938\n",
      "12    nihtbx_pattern_uncorrected_norm        1.866299       1.679593\n",
      "13    nihtbx_picture_uncorrected_norm        0.807313       0.740612\n",
      "14       nihtbx_list_uncorrected_norm        1.526484       1.208734\n",
      "15    nihtbx_flanker_uncorrected_norm        1.997564       1.643626\n",
      "16   nihtbx_picvocab_uncorrected_norm        6.511780       4.207712\n",
      "17   nihtbx_cardsort_uncorrected_norm        1.188295       1.021371\n",
      "18  nihtbx_totalcomp_uncorrected_norm        2.504489       1.549897\n",
      "19    nihtbx_reading_uncorrected_norm        1.339201       0.984195\n",
      "                                 name  best_loss_val  best_acc_val\n",
      "0                             married       0.114612      0.729508\n",
      "1                              female       0.112785      0.491803\n",
      "2                     high.educ_group       0.059030      0.836066\n",
      "3                        income_group       0.227827      0.352459\n",
      "4                      race.ethnicity       0.068917      0.786885\n",
      "5                            BMI_norm       0.592862     10.423471\n",
      "6                            age_norm       1.860082    104.048132\n",
      "7                            vol_norm       0.556156      0.558048\n",
      "8                         weight_norm       0.835773    454.583792\n",
      "9                         height_norm       2.695492     26.792843\n",
      "10  nihtbx_fluidcomp_uncorrected_norm       1.003023      0.752329\n",
      "11      nihtbx_cryst_uncorrected_norm       2.750889      1.693169\n",
      "12    nihtbx_pattern_uncorrected_norm       1.725358      1.552752\n",
      "13    nihtbx_picture_uncorrected_norm       1.096289      1.005712\n",
      "14       nihtbx_list_uncorrected_norm       1.153739      0.913579\n",
      "15    nihtbx_flanker_uncorrected_norm       2.024846      1.666075\n",
      "16   nihtbx_picvocab_uncorrected_norm       6.470560      4.181078\n",
      "17   nihtbx_cardsort_uncorrected_norm       0.998375      0.858130\n",
      "18  nihtbx_totalcomp_uncorrected_norm       2.159180      1.336203\n",
      "19    nihtbx_reading_uncorrected_norm       1.393567      1.024150\n",
      "Epoch 2, Loss: 60.528, Accuracy: 1179.283, Val Loss: 31.888, Val Accuracy: 618.082, Time Model: 12.202, Time Data: 1.328\n",
      "Epochs: 3\n"
     ]
    },
    {
     "name": "stdout",
     "output_type": "stream",
     "text": [
      "10.0\n"
     ]
    },
    {
     "name": "stdout",
     "output_type": "stream",
     "text": [
      "20.0\n"
     ]
    },
    {
     "name": "stdout",
     "output_type": "stream",
     "text": [
      "30.0\n"
     ]
    },
    {
     "name": "stdout",
     "output_type": "stream",
     "text": [
      "40.0\n"
     ]
    },
    {
     "name": "stdout",
     "output_type": "stream",
     "text": [
      "50.0\n"
     ]
    },
    {
     "name": "stdout",
     "output_type": "stream",
     "text": [
      "60.0\n"
     ]
    },
    {
     "name": "stdout",
     "output_type": "stream",
     "text": [
      "70.0\n"
     ]
    },
    {
     "name": "stdout",
     "output_type": "stream",
     "text": [
      "10.0\n"
     ]
    },
    {
     "name": "stdout",
     "output_type": "stream",
     "text": [
      "10.0\n"
     ]
    },
    {
     "name": "stdout",
     "output_type": "stream",
     "text": [
      "                                 name  best_loss_test  best_acc_test\n",
      "0                             married        0.116645       0.852459\n",
      "1                              female        0.105709       0.540984\n",
      "2                     high.educ_group        0.049467       0.926230\n",
      "3                        income_group        0.269769       0.237705\n",
      "4                      race.ethnicity        0.086604       0.778689\n",
      "5                            BMI_norm        0.638393      11.223982\n",
      "6                            age_norm        1.617035      90.452701\n",
      "7                            vol_norm        0.449513       0.451043\n",
      "8                         weight_norm        0.892836     485.621158\n",
      "9                         height_norm        1.225225      12.178583\n",
      "10  nihtbx_fluidcomp_uncorrected_norm        1.077066       0.807866\n",
      "11      nihtbx_cryst_uncorrected_norm        1.537990       0.946631\n",
      "12    nihtbx_pattern_uncorrected_norm        1.866299       1.679593\n",
      "13    nihtbx_picture_uncorrected_norm        0.807313       0.740612\n",
      "14       nihtbx_list_uncorrected_norm        1.096526       0.868275\n",
      "15    nihtbx_flanker_uncorrected_norm        0.839808       0.691007\n",
      "16   nihtbx_picvocab_uncorrected_norm        1.254143       0.810389\n",
      "17   nihtbx_cardsort_uncorrected_norm        1.188295       1.021371\n",
      "18  nihtbx_totalcomp_uncorrected_norm        0.840352       0.520050\n",
      "19    nihtbx_reading_uncorrected_norm        1.258342       0.924771\n",
      "                                 name  best_loss_val  best_acc_val\n",
      "0                             married       0.100883      0.811475\n",
      "1                              female       0.100107      0.491803\n",
      "2                     high.educ_group       0.059030      0.836066\n",
      "3                        income_group       0.227827      0.352459\n",
      "4                      race.ethnicity       0.068917      0.786885\n",
      "5                            BMI_norm       0.467802      8.224707\n",
      "6                            age_norm       1.860082    104.048132\n",
      "7                            vol_norm       0.556156      0.558048\n",
      "8                         weight_norm       0.835773    454.583792\n",
      "9                         height_norm       0.999808      9.937961\n",
      "10  nihtbx_fluidcomp_uncorrected_norm       0.975233      0.731485\n",
      "11      nihtbx_cryst_uncorrected_norm       1.592839      0.980391\n",
      "12    nihtbx_pattern_uncorrected_norm       1.725358      1.552752\n",
      "13    nihtbx_picture_uncorrected_norm       1.096289      1.005712\n",
      "14       nihtbx_list_uncorrected_norm       1.126487      0.891999\n",
      "15    nihtbx_flanker_uncorrected_norm       1.000922      0.823574\n",
      "16   nihtbx_picvocab_uncorrected_norm       1.249538      0.807413\n",
      "17   nihtbx_cardsort_uncorrected_norm       0.998375      0.858130\n",
      "18  nihtbx_totalcomp_uncorrected_norm       0.804930      0.498129\n",
      "19    nihtbx_reading_uncorrected_norm       1.197370      0.879962\n",
      "Epoch 3, Loss: 59.391, Accuracy: 1085.250, Val Loss: 35.251, Val Accuracy: 2047.209, Time Model: 12.235, Time Data: 1.275\n",
      "Epochs: 4\n"
     ]
    },
    {
     "name": "stdout",
     "output_type": "stream",
     "text": [
      "10.0\n"
     ]
    },
    {
     "name": "stdout",
     "output_type": "stream",
     "text": [
      "20.0\n"
     ]
    },
    {
     "name": "stdout",
     "output_type": "stream",
     "text": [
      "30.0\n"
     ]
    },
    {
     "name": "stdout",
     "output_type": "stream",
     "text": [
      "40.0\n"
     ]
    },
    {
     "name": "stdout",
     "output_type": "stream",
     "text": [
      "50.0\n"
     ]
    },
    {
     "name": "stdout",
     "output_type": "stream",
     "text": [
      "60.0\n"
     ]
    },
    {
     "name": "stdout",
     "output_type": "stream",
     "text": [
      "70.0\n"
     ]
    },
    {
     "name": "stdout",
     "output_type": "stream",
     "text": [
      "10.0\n"
     ]
    },
    {
     "name": "stdout",
     "output_type": "stream",
     "text": [
      "10.0\n"
     ]
    },
    {
     "name": "stdout",
     "output_type": "stream",
     "text": [
      "                                 name  best_loss_test  best_acc_test\n",
      "0                             married        0.116645       0.852459\n",
      "1                              female        0.105709       0.540984\n",
      "2                     high.educ_group        0.049467       0.926230\n",
      "3                        income_group        0.269769       0.237705\n",
      "4                      race.ethnicity        0.086604       0.778689\n",
      "5                            BMI_norm        0.638393      11.223982\n",
      "6                            age_norm        1.569162      87.774814\n",
      "7                            vol_norm        0.449513       0.451043\n",
      "8                         weight_norm        0.892836     485.621158\n",
      "9                         height_norm        1.225225      12.178583\n",
      "10  nihtbx_fluidcomp_uncorrected_norm        0.868677       0.651561\n",
      "11      nihtbx_cryst_uncorrected_norm        1.537990       0.946631\n",
      "12    nihtbx_pattern_uncorrected_norm        1.866299       1.679593\n",
      "13    nihtbx_picture_uncorrected_norm        0.807313       0.740612\n",
      "14       nihtbx_list_uncorrected_norm        1.096526       0.868275\n",
      "15    nihtbx_flanker_uncorrected_norm        0.839808       0.691007\n",
      "16   nihtbx_picvocab_uncorrected_norm        1.254143       0.810389\n",
      "17   nihtbx_cardsort_uncorrected_norm        1.188295       1.021371\n",
      "18  nihtbx_totalcomp_uncorrected_norm        0.840352       0.520050\n",
      "19    nihtbx_reading_uncorrected_norm        1.258342       0.924771\n",
      "                                 name  best_loss_val  best_acc_val\n",
      "0                             married       0.100883      0.811475\n",
      "1                              female       0.100107      0.491803\n",
      "2                     high.educ_group       0.059030      0.836066\n",
      "3                        income_group       0.227827      0.352459\n",
      "4                      race.ethnicity       0.068917      0.786885\n",
      "5                            BMI_norm       0.467802      8.224707\n",
      "6                            age_norm       1.641623     91.828125\n",
      "7                            vol_norm       0.556156      0.558048\n",
      "8                         weight_norm       0.835773    454.583792\n",
      "9                         height_norm       0.999808      9.937961\n",
      "10  nihtbx_fluidcomp_uncorrected_norm       0.901123      0.675898\n",
      "11      nihtbx_cryst_uncorrected_norm       1.592839      0.980391\n",
      "12    nihtbx_pattern_uncorrected_norm       1.725358      1.552752\n",
      "13    nihtbx_picture_uncorrected_norm       1.096289      1.005712\n",
      "14       nihtbx_list_uncorrected_norm       1.126487      0.891999\n",
      "15    nihtbx_flanker_uncorrected_norm       1.000922      0.823574\n",
      "16   nihtbx_picvocab_uncorrected_norm       1.249538      0.807413\n",
      "17   nihtbx_cardsort_uncorrected_norm       0.998375      0.858130\n",
      "18  nihtbx_totalcomp_uncorrected_norm       0.804930      0.498129\n",
      "19    nihtbx_reading_uncorrected_norm       1.197370      0.879962\n",
      "Epoch 4, Loss: 59.049, Accuracy: 1046.902, Val Loss: 157.580, Val Accuracy: 14097.686, Time Model: 12.232, Time Data: 1.380\n",
      "Epochs: 5\n"
     ]
    },
    {
     "name": "stdout",
     "output_type": "stream",
     "text": [
      "10.0\n"
     ]
    },
    {
     "name": "stdout",
     "output_type": "stream",
     "text": [
      "20.0\n"
     ]
    },
    {
     "name": "stdout",
     "output_type": "stream",
     "text": [
      "30.0\n"
     ]
    },
    {
     "name": "stdout",
     "output_type": "stream",
     "text": [
      "40.0\n"
     ]
    },
    {
     "name": "stdout",
     "output_type": "stream",
     "text": [
      "50.0\n"
     ]
    },
    {
     "name": "stdout",
     "output_type": "stream",
     "text": [
      "60.0\n"
     ]
    },
    {
     "name": "stdout",
     "output_type": "stream",
     "text": [
      "70.0\n"
     ]
    },
    {
     "name": "stdout",
     "output_type": "stream",
     "text": [
      "10.0\n"
     ]
    },
    {
     "name": "stdout",
     "output_type": "stream",
     "text": [
      "10.0\n"
     ]
    },
    {
     "name": "stdout",
     "output_type": "stream",
     "text": [
      "                                 name  best_loss_test  best_acc_test\n",
      "0                             married        0.116645       0.852459\n",
      "1                              female        0.105709       0.540984\n",
      "2                     high.educ_group        0.049467       0.926230\n",
      "3                        income_group        0.269769       0.237705\n",
      "4                      race.ethnicity        0.086604       0.778689\n",
      "5                            BMI_norm        0.638393      11.223982\n",
      "6                            age_norm        1.569162      87.774814\n",
      "7                            vol_norm        0.449513       0.451043\n",
      "8                         weight_norm        0.892836     485.621158\n",
      "9                         height_norm        1.225225      12.178583\n",
      "10  nihtbx_fluidcomp_uncorrected_norm        0.868677       0.651561\n",
      "11      nihtbx_cryst_uncorrected_norm        1.537990       0.946631\n",
      "12    nihtbx_pattern_uncorrected_norm        1.342412       1.208116\n",
      "13    nihtbx_picture_uncorrected_norm        0.807313       0.740612\n",
      "14       nihtbx_list_uncorrected_norm        1.096526       0.868275\n",
      "15    nihtbx_flanker_uncorrected_norm        0.839808       0.691007\n",
      "16   nihtbx_picvocab_uncorrected_norm        1.254143       0.810389\n",
      "17   nihtbx_cardsort_uncorrected_norm        0.885507       0.761117\n",
      "18  nihtbx_totalcomp_uncorrected_norm        0.840352       0.520050\n",
      "19    nihtbx_reading_uncorrected_norm        1.258342       0.924771\n",
      "                                 name  best_loss_val  best_acc_val\n",
      "0                             married       0.100883      0.811475\n",
      "1                              female       0.100107      0.491803\n",
      "2                     high.educ_group       0.059030      0.836066\n",
      "3                        income_group       0.227827      0.352459\n",
      "4                      race.ethnicity       0.068917      0.786885\n",
      "5                            BMI_norm       0.467802      8.224707\n",
      "6                            age_norm       1.641623     91.828125\n",
      "7                            vol_norm       0.556156      0.558048\n",
      "8                         weight_norm       0.835773    454.583792\n",
      "9                         height_norm       0.999808      9.937961\n",
      "10  nihtbx_fluidcomp_uncorrected_norm       0.901123      0.675898\n",
      "11      nihtbx_cryst_uncorrected_norm       1.592839      0.980391\n",
      "12    nihtbx_pattern_uncorrected_norm       1.296485      1.166784\n",
      "13    nihtbx_picture_uncorrected_norm       1.096289      1.005712\n",
      "14       nihtbx_list_uncorrected_norm       1.126487      0.891999\n",
      "15    nihtbx_flanker_uncorrected_norm       1.000922      0.823574\n",
      "16   nihtbx_picvocab_uncorrected_norm       1.249538      0.807413\n",
      "17   nihtbx_cardsort_uncorrected_norm       0.901679      0.775017\n",
      "18  nihtbx_totalcomp_uncorrected_norm       0.804930      0.498129\n",
      "19    nihtbx_reading_uncorrected_norm       1.197370      0.879962\n",
      "Epoch 5, Loss: 58.595, Accuracy: 1078.263, Val Loss: 95.682, Val Accuracy: 1972.747, Time Model: 12.225, Time Data: 1.335\n",
      "Epochs: 6\n"
     ]
    },
    {
     "name": "stdout",
     "output_type": "stream",
     "text": [
      "10.0\n"
     ]
    },
    {
     "name": "stdout",
     "output_type": "stream",
     "text": [
      "20.0\n"
     ]
    },
    {
     "name": "stdout",
     "output_type": "stream",
     "text": [
      "30.0\n"
     ]
    },
    {
     "name": "stdout",
     "output_type": "stream",
     "text": [
      "40.0\n"
     ]
    },
    {
     "name": "stdout",
     "output_type": "stream",
     "text": [
      "50.0\n"
     ]
    },
    {
     "name": "stdout",
     "output_type": "stream",
     "text": [
      "60.0\n"
     ]
    },
    {
     "name": "stdout",
     "output_type": "stream",
     "text": [
      "70.0\n"
     ]
    },
    {
     "name": "stdout",
     "output_type": "stream",
     "text": [
      "10.0\n"
     ]
    },
    {
     "name": "stdout",
     "output_type": "stream",
     "text": [
      "10.0\n"
     ]
    },
    {
     "name": "stdout",
     "output_type": "stream",
     "text": [
      "                                 name  best_loss_test  best_acc_test\n",
      "0                             married        0.116645       0.852459\n",
      "1                              female        0.105709       0.540984\n",
      "2                     high.educ_group        0.049467       0.926230\n",
      "3                        income_group        0.269769       0.237705\n",
      "4                      race.ethnicity        0.086604       0.778689\n",
      "5                            BMI_norm        0.638393      11.223982\n",
      "6                            age_norm        1.569162      87.774814\n",
      "7                            vol_norm        0.449513       0.451043\n",
      "8                         weight_norm        0.892836     485.621158\n",
      "9                         height_norm        1.225225      12.178583\n",
      "10  nihtbx_fluidcomp_uncorrected_norm        0.868677       0.651561\n",
      "11      nihtbx_cryst_uncorrected_norm        1.537990       0.946631\n",
      "12    nihtbx_pattern_uncorrected_norm        1.342412       1.208116\n",
      "13    nihtbx_picture_uncorrected_norm        0.807313       0.740612\n",
      "14       nihtbx_list_uncorrected_norm        1.096526       0.868275\n",
      "15    nihtbx_flanker_uncorrected_norm        0.839808       0.691007\n",
      "16   nihtbx_picvocab_uncorrected_norm        1.254143       0.810389\n",
      "17   nihtbx_cardsort_uncorrected_norm        0.885507       0.761117\n",
      "18  nihtbx_totalcomp_uncorrected_norm        0.840352       0.520050\n",
      "19    nihtbx_reading_uncorrected_norm        0.850301       0.624897\n",
      "                                 name  best_loss_val  best_acc_val\n",
      "0                             married       0.100883      0.811475\n",
      "1                              female       0.100107      0.491803\n",
      "2                     high.educ_group       0.059030      0.836066\n",
      "3                        income_group       0.227827      0.352459\n",
      "4                      race.ethnicity       0.068917      0.786885\n",
      "5                            BMI_norm       0.467802      8.224707\n",
      "6                            age_norm       1.641623     91.828125\n",
      "7                            vol_norm       0.556156      0.558048\n",
      "8                         weight_norm       0.835773    454.583792\n",
      "9                         height_norm       0.999808      9.937961\n",
      "10  nihtbx_fluidcomp_uncorrected_norm       0.901123      0.675898\n",
      "11      nihtbx_cryst_uncorrected_norm       1.592839      0.980391\n",
      "12    nihtbx_pattern_uncorrected_norm       1.296485      1.166784\n",
      "13    nihtbx_picture_uncorrected_norm       1.096289      1.005712\n",
      "14       nihtbx_list_uncorrected_norm       1.126487      0.891999\n",
      "15    nihtbx_flanker_uncorrected_norm       1.000922      0.823574\n",
      "16   nihtbx_picvocab_uncorrected_norm       1.249538      0.807413\n",
      "17   nihtbx_cardsort_uncorrected_norm       0.901679      0.775017\n",
      "18  nihtbx_totalcomp_uncorrected_norm       0.804930      0.498129\n",
      "19    nihtbx_reading_uncorrected_norm       0.917516      0.674294\n",
      "Epoch 6, Loss: 57.203, Accuracy: 982.109, Val Loss: 248.096, Val Accuracy: 16805.298, Time Model: 12.242, Time Data: 1.334\n",
      "Epochs: 7\n"
     ]
    },
    {
     "name": "stdout",
     "output_type": "stream",
     "text": [
      "10.0\n"
     ]
    },
    {
     "name": "stdout",
     "output_type": "stream",
     "text": [
      "20.0\n"
     ]
    },
    {
     "name": "stdout",
     "output_type": "stream",
     "text": [
      "30.0\n"
     ]
    },
    {
     "name": "stdout",
     "output_type": "stream",
     "text": [
      "40.0\n"
     ]
    },
    {
     "name": "stdout",
     "output_type": "stream",
     "text": [
      "50.0\n"
     ]
    },
    {
     "name": "stdout",
     "output_type": "stream",
     "text": [
      "60.0\n"
     ]
    },
    {
     "name": "stdout",
     "output_type": "stream",
     "text": [
      "70.0\n"
     ]
    },
    {
     "name": "stdout",
     "output_type": "stream",
     "text": [
      "10.0\n"
     ]
    },
    {
     "name": "stdout",
     "output_type": "stream",
     "text": [
      "10.0\n"
     ]
    },
    {
     "name": "stdout",
     "output_type": "stream",
     "text": [
      "                                 name  best_loss_test  best_acc_test\n",
      "0                             married        0.116645       0.852459\n",
      "1                              female        0.105709       0.540984\n",
      "2                     high.educ_group        0.049467       0.926230\n",
      "3                        income_group        0.269769       0.237705\n",
      "4                      race.ethnicity        0.086604       0.778689\n",
      "5                            BMI_norm        0.638393      11.223982\n",
      "6                            age_norm        1.569162      87.774814\n",
      "7                            vol_norm        0.449513       0.451043\n",
      "8                         weight_norm        0.892836     485.621158\n",
      "9                         height_norm        1.225225      12.178583\n",
      "10  nihtbx_fluidcomp_uncorrected_norm        0.868677       0.651561\n",
      "11      nihtbx_cryst_uncorrected_norm        1.537990       0.946631\n",
      "12    nihtbx_pattern_uncorrected_norm        1.342412       1.208116\n",
      "13    nihtbx_picture_uncorrected_norm        0.807313       0.740612\n",
      "14       nihtbx_list_uncorrected_norm        1.132506       0.896766\n",
      "15    nihtbx_flanker_uncorrected_norm        0.839808       0.691007\n",
      "16   nihtbx_picvocab_uncorrected_norm        1.254143       0.810389\n",
      "17   nihtbx_cardsort_uncorrected_norm        0.885507       0.761117\n",
      "18  nihtbx_totalcomp_uncorrected_norm        0.840352       0.520050\n",
      "19    nihtbx_reading_uncorrected_norm        0.850301       0.624897\n",
      "                                 name  best_loss_val  best_acc_val\n",
      "0                             married       0.100883      0.811475\n",
      "1                              female       0.100107      0.508197\n",
      "2                     high.educ_group       0.059030      0.836066\n",
      "3                        income_group       0.227827      0.352459\n",
      "4                      race.ethnicity       0.068917      0.786885\n",
      "5                            BMI_norm       0.467802      8.224707\n",
      "6                            age_norm       1.641623     91.828125\n",
      "7                            vol_norm       0.556156      0.558048\n",
      "8                         weight_norm       0.835773    454.583792\n",
      "9                         height_norm       0.999808      9.937961\n",
      "10  nihtbx_fluidcomp_uncorrected_norm       0.901123      0.675898\n",
      "11      nihtbx_cryst_uncorrected_norm       1.592839      0.980391\n",
      "12    nihtbx_pattern_uncorrected_norm       1.296485      1.166784\n",
      "13    nihtbx_picture_uncorrected_norm       1.096289      1.005712\n",
      "14       nihtbx_list_uncorrected_norm       0.988009      0.782347\n",
      "15    nihtbx_flanker_uncorrected_norm       1.000922      0.823574\n",
      "16   nihtbx_picvocab_uncorrected_norm       1.249538      0.807413\n",
      "17   nihtbx_cardsort_uncorrected_norm       0.901679      0.775017\n",
      "18  nihtbx_totalcomp_uncorrected_norm       0.804930      0.498129\n",
      "19    nihtbx_reading_uncorrected_norm       0.917516      0.674294\n",
      "Epoch 7, Loss: 58.014, Accuracy: 1006.017, Val Loss: 72.050, Val Accuracy: 1645.546, Time Model: 12.249, Time Data: 1.309\n",
      "Epochs: 8\n"
     ]
    },
    {
     "name": "stdout",
     "output_type": "stream",
     "text": [
      "10.0\n"
     ]
    },
    {
     "name": "stdout",
     "output_type": "stream",
     "text": [
      "20.0\n"
     ]
    },
    {
     "name": "stdout",
     "output_type": "stream",
     "text": [
      "30.0\n"
     ]
    },
    {
     "name": "stdout",
     "output_type": "stream",
     "text": [
      "40.0\n"
     ]
    },
    {
     "name": "stdout",
     "output_type": "stream",
     "text": [
      "50.0\n"
     ]
    },
    {
     "name": "stdout",
     "output_type": "stream",
     "text": [
      "60.0\n"
     ]
    },
    {
     "name": "stdout",
     "output_type": "stream",
     "text": [
      "70.0\n"
     ]
    },
    {
     "name": "stdout",
     "output_type": "stream",
     "text": [
      "10.0\n"
     ]
    },
    {
     "name": "stdout",
     "output_type": "stream",
     "text": [
      "10.0\n"
     ]
    },
    {
     "name": "stdout",
     "output_type": "stream",
     "text": [
      "                                 name  best_loss_test  best_acc_test\n",
      "0                             married        0.116645       0.852459\n",
      "1                              female        0.105709       0.540984\n",
      "2                     high.educ_group        0.049467       0.926230\n",
      "3                        income_group        0.269769       0.237705\n",
      "4                      race.ethnicity        0.086604       0.778689\n",
      "5                            BMI_norm        0.638393      11.223982\n",
      "6                            age_norm        1.569162      87.774814\n",
      "7                            vol_norm        0.449513       0.451043\n",
      "8                         weight_norm        0.892836     485.621158\n",
      "9                         height_norm        1.225225      12.178583\n",
      "10  nihtbx_fluidcomp_uncorrected_norm        0.868677       0.651561\n",
      "11      nihtbx_cryst_uncorrected_norm        1.537990       0.946631\n",
      "12    nihtbx_pattern_uncorrected_norm        1.342412       1.208116\n",
      "13    nihtbx_picture_uncorrected_norm        0.807313       0.740612\n",
      "14       nihtbx_list_uncorrected_norm        1.132506       0.896766\n",
      "15    nihtbx_flanker_uncorrected_norm        0.839808       0.691007\n",
      "16   nihtbx_picvocab_uncorrected_norm        1.254143       0.810389\n",
      "17   nihtbx_cardsort_uncorrected_norm        0.885507       0.761117\n",
      "18  nihtbx_totalcomp_uncorrected_norm        0.840352       0.520050\n",
      "19    nihtbx_reading_uncorrected_norm        0.850301       0.624897\n",
      "                                 name  best_loss_val  best_acc_val\n",
      "0                             married       0.100883      0.811475\n",
      "1                              female       0.100107      0.508197\n",
      "2                     high.educ_group       0.059030      0.836066\n",
      "3                        income_group       0.227827      0.352459\n",
      "4                      race.ethnicity       0.068917      0.786885\n",
      "5                            BMI_norm       0.467802      8.224707\n",
      "6                            age_norm       1.641623     91.828125\n",
      "7                            vol_norm       0.556156      0.558048\n",
      "8                         weight_norm       0.835773    454.583792\n",
      "9                         height_norm       0.999808      9.937961\n",
      "10  nihtbx_fluidcomp_uncorrected_norm       0.901123      0.675898\n",
      "11      nihtbx_cryst_uncorrected_norm       1.592839      0.980391\n",
      "12    nihtbx_pattern_uncorrected_norm       1.296485      1.166784\n",
      "13    nihtbx_picture_uncorrected_norm       1.096289      1.005712\n",
      "14       nihtbx_list_uncorrected_norm       0.988009      0.782347\n",
      "15    nihtbx_flanker_uncorrected_norm       1.000922      0.823574\n",
      "16   nihtbx_picvocab_uncorrected_norm       1.249538      0.807413\n",
      "17   nihtbx_cardsort_uncorrected_norm       0.901679      0.775017\n",
      "18  nihtbx_totalcomp_uncorrected_norm       0.804930      0.498129\n",
      "19    nihtbx_reading_uncorrected_norm       0.917516      0.674294\n",
      "Epoch 8, Loss: 57.817, Accuracy: 988.408, Val Loss: 252.615, Val Accuracy: 8656.260, Time Model: 12.313, Time Data: 1.328\n",
      "Epochs: 9\n"
     ]
    },
    {
     "name": "stdout",
     "output_type": "stream",
     "text": [
      "10.0\n"
     ]
    },
    {
     "name": "stdout",
     "output_type": "stream",
     "text": [
      "20.0\n"
     ]
    },
    {
     "name": "stdout",
     "output_type": "stream",
     "text": [
      "30.0\n"
     ]
    },
    {
     "name": "stdout",
     "output_type": "stream",
     "text": [
      "40.0\n"
     ]
    },
    {
     "name": "stdout",
     "output_type": "stream",
     "text": [
      "50.0\n"
     ]
    },
    {
     "name": "stdout",
     "output_type": "stream",
     "text": [
      "60.0\n"
     ]
    },
    {
     "name": "stdout",
     "output_type": "stream",
     "text": [
      "70.0\n"
     ]
    },
    {
     "name": "stdout",
     "output_type": "stream",
     "text": [
      "10.0\n"
     ]
    },
    {
     "name": "stdout",
     "output_type": "stream",
     "text": [
      "10.0\n"
     ]
    },
    {
     "name": "stdout",
     "output_type": "stream",
     "text": [
      "                                 name  best_loss_test  best_acc_test\n",
      "0                             married        0.116645       0.852459\n",
      "1                              female        0.105709       0.540984\n",
      "2                     high.educ_group        0.049467       0.926230\n",
      "3                        income_group        0.269769       0.237705\n",
      "4                      race.ethnicity        0.086604       0.778689\n",
      "5                            BMI_norm        0.638393      11.223982\n",
      "6                            age_norm        1.394315      77.994365\n",
      "7                            vol_norm        0.449513       0.451043\n",
      "8                         weight_norm        0.892836     485.621158\n",
      "9                         height_norm        1.225225      12.178583\n",
      "10  nihtbx_fluidcomp_uncorrected_norm        0.868677       0.651561\n",
      "11      nihtbx_cryst_uncorrected_norm        0.984982       0.606255\n",
      "12    nihtbx_pattern_uncorrected_norm        1.342412       1.208116\n",
      "13    nihtbx_picture_uncorrected_norm        0.807313       0.740612\n",
      "14       nihtbx_list_uncorrected_norm        1.132506       0.896766\n",
      "15    nihtbx_flanker_uncorrected_norm        0.839808       0.691007\n",
      "16   nihtbx_picvocab_uncorrected_norm        1.254143       0.810389\n",
      "17   nihtbx_cardsort_uncorrected_norm        0.885507       0.761117\n",
      "18  nihtbx_totalcomp_uncorrected_norm        0.840352       0.520050\n",
      "19    nihtbx_reading_uncorrected_norm        0.850301       0.624897\n",
      "                                 name  best_loss_val  best_acc_val\n",
      "0                             married       0.100883      0.811475\n",
      "1                              female       0.100107      0.508197\n",
      "2                     high.educ_group       0.059030      0.836066\n",
      "3                        income_group       0.227827      0.352459\n",
      "4                      race.ethnicity       0.068917      0.786885\n",
      "5                            BMI_norm       0.467802      8.224707\n",
      "6                            age_norm       1.429101     79.940182\n",
      "7                            vol_norm       0.556156      0.558048\n",
      "8                         weight_norm       0.835773    454.583792\n",
      "9                         height_norm       0.999808      9.937961\n",
      "10  nihtbx_fluidcomp_uncorrected_norm       0.901123      0.675898\n",
      "11      nihtbx_cryst_uncorrected_norm       1.098198      0.675940\n",
      "12    nihtbx_pattern_uncorrected_norm       1.296485      1.166784\n",
      "13    nihtbx_picture_uncorrected_norm       1.096289      1.005712\n",
      "14       nihtbx_list_uncorrected_norm       0.988009      0.782347\n",
      "15    nihtbx_flanker_uncorrected_norm       1.000922      0.823574\n",
      "16   nihtbx_picvocab_uncorrected_norm       1.249538      0.807413\n",
      "17   nihtbx_cardsort_uncorrected_norm       0.901679      0.775017\n",
      "18  nihtbx_totalcomp_uncorrected_norm       0.804930      0.498129\n",
      "19    nihtbx_reading_uncorrected_norm       0.917516      0.674294\n",
      "Epoch 9, Loss: 56.948, Accuracy: 985.505, Val Loss: 58.233, Val Accuracy: 5442.697, Time Model: 12.260, Time Data: 1.330\n",
      "Epochs: 10\n"
     ]
    },
    {
     "name": "stdout",
     "output_type": "stream",
     "text": [
      "10.0\n"
     ]
    },
    {
     "name": "stdout",
     "output_type": "stream",
     "text": [
      "20.0\n"
     ]
    },
    {
     "name": "stdout",
     "output_type": "stream",
     "text": [
      "30.0\n"
     ]
    },
    {
     "name": "stdout",
     "output_type": "stream",
     "text": [
      "40.0\n"
     ]
    },
    {
     "name": "stdout",
     "output_type": "stream",
     "text": [
      "50.0\n"
     ]
    },
    {
     "name": "stdout",
     "output_type": "stream",
     "text": [
      "60.0\n"
     ]
    },
    {
     "name": "stdout",
     "output_type": "stream",
     "text": [
      "70.0\n"
     ]
    },
    {
     "name": "stdout",
     "output_type": "stream",
     "text": [
      "10.0\n"
     ]
    },
    {
     "name": "stdout",
     "output_type": "stream",
     "text": [
      "10.0\n"
     ]
    },
    {
     "name": "stdout",
     "output_type": "stream",
     "text": [
      "                                 name  best_loss_test  best_acc_test\n",
      "0                             married        0.116645       0.852459\n",
      "1                              female        0.105709       0.540984\n",
      "2                     high.educ_group        0.049467       0.926230\n",
      "3                        income_group        0.269769       0.237705\n",
      "4                      race.ethnicity        0.086604       0.778689\n",
      "5                            BMI_norm        0.638393      11.223982\n",
      "6                            age_norm        1.394315      77.994365\n",
      "7                            vol_norm        0.449513       0.451043\n",
      "8                         weight_norm        0.938622     510.524430\n",
      "9                         height_norm        1.225225      12.178583\n",
      "10  nihtbx_fluidcomp_uncorrected_norm        0.868677       0.651561\n",
      "11      nihtbx_cryst_uncorrected_norm        0.984982       0.606255\n",
      "12    nihtbx_pattern_uncorrected_norm        1.342412       1.208116\n",
      "13    nihtbx_picture_uncorrected_norm        0.807313       0.740612\n",
      "14       nihtbx_list_uncorrected_norm        1.132506       0.896766\n",
      "15    nihtbx_flanker_uncorrected_norm        0.839808       0.691007\n",
      "16   nihtbx_picvocab_uncorrected_norm        1.254143       0.810389\n",
      "17   nihtbx_cardsort_uncorrected_norm        0.885507       0.761117\n",
      "18  nihtbx_totalcomp_uncorrected_norm        0.840352       0.520050\n",
      "19    nihtbx_reading_uncorrected_norm        0.850301       0.624897\n",
      "                                 name  best_loss_val  best_acc_val\n",
      "0                             married       0.100883      0.811475\n",
      "1                              female       0.100107      0.508197\n",
      "2                     high.educ_group       0.059030      0.836066\n",
      "3                        income_group       0.227827      0.352459\n",
      "4                      race.ethnicity       0.068917      0.786885\n",
      "5                            BMI_norm       0.467802      8.224707\n",
      "6                            age_norm       1.429101     79.940182\n",
      "7                            vol_norm       0.556156      0.558048\n",
      "8                         weight_norm       0.713083    387.851755\n",
      "9                         height_norm       0.999808      9.937961\n",
      "10  nihtbx_fluidcomp_uncorrected_norm       0.901123      0.675898\n",
      "11      nihtbx_cryst_uncorrected_norm       1.098198      0.675940\n",
      "12    nihtbx_pattern_uncorrected_norm       1.296485      1.166784\n",
      "13    nihtbx_picture_uncorrected_norm       1.096289      1.005712\n",
      "14       nihtbx_list_uncorrected_norm       0.988009      0.782347\n",
      "15    nihtbx_flanker_uncorrected_norm       1.000922      0.823574\n",
      "16   nihtbx_picvocab_uncorrected_norm       1.249538      0.807413\n",
      "17   nihtbx_cardsort_uncorrected_norm       0.901679      0.775017\n",
      "18  nihtbx_totalcomp_uncorrected_norm       0.804930      0.498129\n",
      "19    nihtbx_reading_uncorrected_norm       0.917516      0.674294\n",
      "Epoch 10, Loss: 55.150, Accuracy: 956.898, Val Loss: 107.095, Val Accuracy: 1141.539, Time Model: 12.247, Time Data: 1.285\n",
      "Learning rate: <tf.Variable 'Adam/learning_rate:0' shape=() dtype=float32, numpy=0.00033333336>\n",
      "Epochs: 11\n"
     ]
    },
    {
     "name": "stdout",
     "output_type": "stream",
     "text": [
      "10.0\n"
     ]
    },
    {
     "name": "stdout",
     "output_type": "stream",
     "text": [
      "20.0\n"
     ]
    },
    {
     "name": "stdout",
     "output_type": "stream",
     "text": [
      "30.0\n"
     ]
    },
    {
     "name": "stdout",
     "output_type": "stream",
     "text": [
      "40.0\n"
     ]
    },
    {
     "name": "stdout",
     "output_type": "stream",
     "text": [
      "50.0\n"
     ]
    },
    {
     "name": "stdout",
     "output_type": "stream",
     "text": [
      "60.0\n"
     ]
    },
    {
     "name": "stdout",
     "output_type": "stream",
     "text": [
      "70.0\n"
     ]
    },
    {
     "name": "stdout",
     "output_type": "stream",
     "text": [
      "10.0\n"
     ]
    },
    {
     "name": "stdout",
     "output_type": "stream",
     "text": [
      "10.0\n"
     ]
    },
    {
     "name": "stdout",
     "output_type": "stream",
     "text": [
      "                                 name  best_loss_test  best_acc_test\n",
      "0                             married        0.116645       0.852459\n",
      "1                              female        0.105709       0.540984\n",
      "2                     high.educ_group        0.049467       0.926230\n",
      "3                        income_group        0.269769       0.237705\n",
      "4                      race.ethnicity        0.086604       0.778689\n",
      "5                            BMI_norm        0.638393      11.223982\n",
      "6                            age_norm        1.394315      77.994365\n",
      "7                            vol_norm        0.449513       0.451043\n",
      "8                         weight_norm        0.938622     510.524430\n",
      "9                         height_norm        1.225225      12.178583\n",
      "10  nihtbx_fluidcomp_uncorrected_norm        0.868677       0.651561\n",
      "11      nihtbx_cryst_uncorrected_norm        0.984982       0.606255\n",
      "12    nihtbx_pattern_uncorrected_norm        1.342412       1.208116\n",
      "13    nihtbx_picture_uncorrected_norm        0.807313       0.740612\n",
      "14       nihtbx_list_uncorrected_norm        1.132506       0.896766\n",
      "15    nihtbx_flanker_uncorrected_norm        0.839808       0.691007\n",
      "16   nihtbx_picvocab_uncorrected_norm        1.275036       0.823889\n",
      "17   nihtbx_cardsort_uncorrected_norm        0.885507       0.761117\n",
      "18  nihtbx_totalcomp_uncorrected_norm        0.840352       0.520050\n",
      "19    nihtbx_reading_uncorrected_norm        0.850301       0.624897\n",
      "                                 name  best_loss_val  best_acc_val\n",
      "0                             married       0.100883      0.811475\n",
      "1                              female       0.100107      0.508197\n",
      "2                     high.educ_group       0.059030      0.836066\n",
      "3                        income_group       0.227827      0.352459\n",
      "4                      race.ethnicity       0.068917      0.786885\n",
      "5                            BMI_norm       0.467802      8.224707\n",
      "6                            age_norm       1.429101     79.940182\n",
      "7                            vol_norm       0.556156      0.558048\n",
      "8                         weight_norm       0.713083    387.851755\n",
      "9                         height_norm       0.999808      9.937961\n",
      "10  nihtbx_fluidcomp_uncorrected_norm       0.901123      0.675898\n",
      "11      nihtbx_cryst_uncorrected_norm       1.098198      0.675940\n",
      "12    nihtbx_pattern_uncorrected_norm       1.296485      1.166784\n",
      "13    nihtbx_picture_uncorrected_norm       1.096289      1.005712\n",
      "14       nihtbx_list_uncorrected_norm       0.988009      0.782347\n",
      "15    nihtbx_flanker_uncorrected_norm       1.000922      0.823574\n",
      "16   nihtbx_picvocab_uncorrected_norm       1.149724      0.742916\n",
      "17   nihtbx_cardsort_uncorrected_norm       0.901679      0.775017\n",
      "18  nihtbx_totalcomp_uncorrected_norm       0.804930      0.498129\n",
      "19    nihtbx_reading_uncorrected_norm       0.917516      0.674294\n",
      "Epoch 11, Loss: 49.690, Accuracy: 810.498, Val Loss: 89.501, Val Accuracy: 2630.132, Time Model: 12.157, Time Data: 1.366\n",
      "Epochs: 12\n"
     ]
    },
    {
     "name": "stdout",
     "output_type": "stream",
     "text": [
      "10.0\n"
     ]
    },
    {
     "name": "stdout",
     "output_type": "stream",
     "text": [
      "20.0\n"
     ]
    },
    {
     "name": "stdout",
     "output_type": "stream",
     "text": [
      "30.0\n"
     ]
    },
    {
     "name": "stdout",
     "output_type": "stream",
     "text": [
      "40.0\n"
     ]
    },
    {
     "name": "stdout",
     "output_type": "stream",
     "text": [
      "50.0\n"
     ]
    },
    {
     "name": "stdout",
     "output_type": "stream",
     "text": [
      "60.0\n"
     ]
    },
    {
     "name": "stdout",
     "output_type": "stream",
     "text": [
      "70.0\n"
     ]
    },
    {
     "name": "stdout",
     "output_type": "stream",
     "text": [
      "10.0\n"
     ]
    },
    {
     "name": "stdout",
     "output_type": "stream",
     "text": [
      "10.0\n"
     ]
    },
    {
     "name": "stdout",
     "output_type": "stream",
     "text": [
      "                                 name  best_loss_test  best_acc_test\n",
      "0                             married        0.116645       0.852459\n",
      "1                              female        0.105709       0.540984\n",
      "2                     high.educ_group        0.049467       0.926230\n",
      "3                        income_group        0.269769       0.237705\n",
      "4                      race.ethnicity        0.086604       0.778689\n",
      "5                            BMI_norm        0.638393      11.223982\n",
      "6                            age_norm        1.394315      77.994365\n",
      "7                            vol_norm        0.417436       0.418856\n",
      "8                         weight_norm        0.938622     510.524430\n",
      "9                         height_norm        1.225225      12.178583\n",
      "10  nihtbx_fluidcomp_uncorrected_norm        0.868677       0.651561\n",
      "11      nihtbx_cryst_uncorrected_norm        0.984982       0.606255\n",
      "12    nihtbx_pattern_uncorrected_norm        1.342412       1.208116\n",
      "13    nihtbx_picture_uncorrected_norm        0.807313       0.740612\n",
      "14       nihtbx_list_uncorrected_norm        1.132506       0.896766\n",
      "15    nihtbx_flanker_uncorrected_norm        0.839808       0.691007\n",
      "16   nihtbx_picvocab_uncorrected_norm        1.275036       0.823889\n",
      "17   nihtbx_cardsort_uncorrected_norm        0.885507       0.761117\n",
      "18  nihtbx_totalcomp_uncorrected_norm        0.840352       0.520050\n",
      "19    nihtbx_reading_uncorrected_norm        0.850301       0.624897\n",
      "                                 name  best_loss_val  best_acc_val\n",
      "0                             married       0.100883      0.811475\n",
      "1                              female       0.100107      0.508197\n",
      "2                     high.educ_group       0.059030      0.836066\n",
      "3                        income_group       0.227827      0.352459\n",
      "4                      race.ethnicity       0.068917      0.786885\n",
      "5                            BMI_norm       0.467802      8.224707\n",
      "6                            age_norm       1.429101     79.940182\n",
      "7                            vol_norm       0.476996      0.478619\n",
      "8                         weight_norm       0.713083    387.851755\n",
      "9                         height_norm       0.999808      9.937961\n",
      "10  nihtbx_fluidcomp_uncorrected_norm       0.901123      0.675898\n",
      "11      nihtbx_cryst_uncorrected_norm       1.098198      0.675940\n",
      "12    nihtbx_pattern_uncorrected_norm       1.296485      1.166784\n",
      "13    nihtbx_picture_uncorrected_norm       1.096289      1.005712\n",
      "14       nihtbx_list_uncorrected_norm       0.988009      0.782347\n",
      "15    nihtbx_flanker_uncorrected_norm       1.000922      0.823574\n",
      "16   nihtbx_picvocab_uncorrected_norm       1.149724      0.742916\n",
      "17   nihtbx_cardsort_uncorrected_norm       0.901679      0.775017\n",
      "18  nihtbx_totalcomp_uncorrected_norm       0.804930      0.498129\n",
      "19    nihtbx_reading_uncorrected_norm       0.917516      0.674294\n",
      "Epoch 12, Loss: 44.922, Accuracy: 696.792, Val Loss: 87.128, Val Accuracy: 1309.634, Time Model: 12.145, Time Data: 1.363\n",
      "Epochs: 13\n"
     ]
    },
    {
     "name": "stdout",
     "output_type": "stream",
     "text": [
      "10.0\n"
     ]
    },
    {
     "name": "stdout",
     "output_type": "stream",
     "text": [
      "20.0\n"
     ]
    },
    {
     "name": "stdout",
     "output_type": "stream",
     "text": [
      "30.0\n"
     ]
    },
    {
     "name": "stdout",
     "output_type": "stream",
     "text": [
      "40.0\n"
     ]
    },
    {
     "name": "stdout",
     "output_type": "stream",
     "text": [
      "50.0\n"
     ]
    },
    {
     "name": "stdout",
     "output_type": "stream",
     "text": [
      "60.0\n"
     ]
    },
    {
     "name": "stdout",
     "output_type": "stream",
     "text": [
      "70.0\n"
     ]
    },
    {
     "name": "stdout",
     "output_type": "stream",
     "text": [
      "10.0\n"
     ]
    },
    {
     "name": "stdout",
     "output_type": "stream",
     "text": [
      "10.0\n"
     ]
    },
    {
     "name": "stdout",
     "output_type": "stream",
     "text": [
      "                                 name  best_loss_test  best_acc_test\n",
      "0                             married        0.116645       0.852459\n",
      "1                              female        0.105709       0.540984\n",
      "2                     high.educ_group        0.049467       0.926230\n",
      "3                        income_group        0.269769       0.237705\n",
      "4                      race.ethnicity        0.086604       0.778689\n",
      "5                            BMI_norm        0.638393      11.223982\n",
      "6                            age_norm        1.394315      77.994365\n",
      "7                            vol_norm        0.417436       0.418856\n",
      "8                         weight_norm        0.938622     510.524430\n",
      "9                         height_norm        1.225225      12.178583\n",
      "10  nihtbx_fluidcomp_uncorrected_norm        0.868677       0.651561\n",
      "11      nihtbx_cryst_uncorrected_norm        1.061623       0.653428\n",
      "12    nihtbx_pattern_uncorrected_norm        1.342412       1.208116\n",
      "13    nihtbx_picture_uncorrected_norm        0.807313       0.740612\n",
      "14       nihtbx_list_uncorrected_norm        1.132506       0.896766\n",
      "15    nihtbx_flanker_uncorrected_norm        0.839808       0.691007\n",
      "16   nihtbx_picvocab_uncorrected_norm        1.275036       0.823889\n",
      "17   nihtbx_cardsort_uncorrected_norm        0.885507       0.761117\n",
      "18  nihtbx_totalcomp_uncorrected_norm        0.840352       0.520050\n",
      "19    nihtbx_reading_uncorrected_norm        0.850301       0.624897\n",
      "                                 name  best_loss_val  best_acc_val\n",
      "0                             married       0.100883      0.811475\n",
      "1                              female       0.100107      0.508197\n",
      "2                     high.educ_group       0.059030      0.836066\n",
      "3                        income_group       0.227827      0.352459\n",
      "4                      race.ethnicity       0.068917      0.786885\n",
      "5                            BMI_norm       0.467802      8.224707\n",
      "6                            age_norm       1.429101     79.940182\n",
      "7                            vol_norm       0.476996      0.478619\n",
      "8                         weight_norm       0.713083    387.851755\n",
      "9                         height_norm       0.999808      9.937961\n",
      "10  nihtbx_fluidcomp_uncorrected_norm       0.901123      0.675898\n",
      "11      nihtbx_cryst_uncorrected_norm       1.038982      0.639492\n",
      "12    nihtbx_pattern_uncorrected_norm       1.296485      1.166784\n",
      "13    nihtbx_picture_uncorrected_norm       1.096289      1.005712\n",
      "14       nihtbx_list_uncorrected_norm       0.988009      0.782347\n",
      "15    nihtbx_flanker_uncorrected_norm       1.000922      0.823574\n",
      "16   nihtbx_picvocab_uncorrected_norm       1.149724      0.742916\n",
      "17   nihtbx_cardsort_uncorrected_norm       0.901679      0.775017\n",
      "18  nihtbx_totalcomp_uncorrected_norm       0.804930      0.498129\n",
      "19    nihtbx_reading_uncorrected_norm       0.917516      0.674294\n",
      "Epoch 13, Loss: 39.776, Accuracy: 651.304, Val Loss: 147.829, Val Accuracy: 2302.753, Time Model: 12.291, Time Data: 1.379\n",
      "Epochs: 14\n"
     ]
    },
    {
     "name": "stdout",
     "output_type": "stream",
     "text": [
      "10.0\n"
     ]
    },
    {
     "name": "stdout",
     "output_type": "stream",
     "text": [
      "20.0\n"
     ]
    },
    {
     "name": "stdout",
     "output_type": "stream",
     "text": [
      "30.0\n"
     ]
    },
    {
     "name": "stdout",
     "output_type": "stream",
     "text": [
      "40.0\n"
     ]
    },
    {
     "name": "stdout",
     "output_type": "stream",
     "text": [
      "50.0\n"
     ]
    },
    {
     "name": "stdout",
     "output_type": "stream",
     "text": [
      "60.0\n"
     ]
    },
    {
     "name": "stdout",
     "output_type": "stream",
     "text": [
      "70.0\n"
     ]
    },
    {
     "name": "stdout",
     "output_type": "stream",
     "text": [
      "10.0\n"
     ]
    },
    {
     "name": "stdout",
     "output_type": "stream",
     "text": [
      "10.0\n"
     ]
    },
    {
     "name": "stdout",
     "output_type": "stream",
     "text": [
      "                                 name  best_loss_test  best_acc_test\n",
      "0                             married        0.116645       0.852459\n",
      "1                              female        0.105709       0.540984\n",
      "2                     high.educ_group        0.049467       0.926230\n",
      "3                        income_group        0.269769       0.237705\n",
      "4                      race.ethnicity        0.086604       0.778689\n",
      "5                            BMI_norm        0.638393      11.223982\n",
      "6                            age_norm        1.394315      77.994365\n",
      "7                            vol_norm        0.417436       0.418856\n",
      "8                         weight_norm        0.426314     231.875768\n",
      "9                         height_norm        1.225225      12.178583\n",
      "10  nihtbx_fluidcomp_uncorrected_norm        0.868677       0.651561\n",
      "11      nihtbx_cryst_uncorrected_norm        1.061623       0.653428\n",
      "12    nihtbx_pattern_uncorrected_norm        1.342412       1.208116\n",
      "13    nihtbx_picture_uncorrected_norm        0.807313       0.740612\n",
      "14       nihtbx_list_uncorrected_norm        1.132506       0.896766\n",
      "15    nihtbx_flanker_uncorrected_norm        0.839808       0.691007\n",
      "16   nihtbx_picvocab_uncorrected_norm        1.128318       0.729085\n",
      "17   nihtbx_cardsort_uncorrected_norm        0.885507       0.761117\n",
      "18  nihtbx_totalcomp_uncorrected_norm        0.840352       0.520050\n",
      "19    nihtbx_reading_uncorrected_norm        0.850301       0.624897\n",
      "                                 name  best_loss_val  best_acc_val\n",
      "0                             married       0.100883      0.811475\n",
      "1                              female       0.100107      0.508197\n",
      "2                     high.educ_group       0.059030      0.836066\n",
      "3                        income_group       0.227827      0.352459\n",
      "4                      race.ethnicity       0.068917      0.786885\n",
      "5                            BMI_norm       0.467802      8.224707\n",
      "6                            age_norm       1.429101     79.940182\n",
      "7                            vol_norm       0.476996      0.478619\n",
      "8                         weight_norm       0.552525    300.522957\n",
      "9                         height_norm       0.999808      9.937961\n",
      "10  nihtbx_fluidcomp_uncorrected_norm       0.901123      0.675898\n",
      "11      nihtbx_cryst_uncorrected_norm       1.038982      0.639492\n",
      "12    nihtbx_pattern_uncorrected_norm       1.296485      1.166784\n",
      "13    nihtbx_picture_uncorrected_norm       1.096289      1.005712\n",
      "14       nihtbx_list_uncorrected_norm       0.988009      0.782347\n",
      "15    nihtbx_flanker_uncorrected_norm       1.000922      0.823574\n",
      "16   nihtbx_picvocab_uncorrected_norm       1.089117      0.703754\n",
      "17   nihtbx_cardsort_uncorrected_norm       0.901679      0.775017\n",
      "18  nihtbx_totalcomp_uncorrected_norm       0.804930      0.498129\n",
      "19    nihtbx_reading_uncorrected_norm       0.917516      0.674294\n",
      "Epoch 14, Loss: 36.392, Accuracy: 622.756, Val Loss: 117.468, Val Accuracy: 730.804, Time Model: 12.200, Time Data: 1.366\n",
      "Epochs: 15\n"
     ]
    },
    {
     "name": "stdout",
     "output_type": "stream",
     "text": [
      "10.0\n"
     ]
    },
    {
     "name": "stdout",
     "output_type": "stream",
     "text": [
      "20.0\n"
     ]
    },
    {
     "name": "stdout",
     "output_type": "stream",
     "text": [
      "30.0\n"
     ]
    },
    {
     "name": "stdout",
     "output_type": "stream",
     "text": [
      "40.0\n"
     ]
    },
    {
     "name": "stdout",
     "output_type": "stream",
     "text": [
      "50.0\n"
     ]
    },
    {
     "name": "stdout",
     "output_type": "stream",
     "text": [
      "60.0\n"
     ]
    },
    {
     "name": "stdout",
     "output_type": "stream",
     "text": [
      "70.0\n"
     ]
    },
    {
     "name": "stdout",
     "output_type": "stream",
     "text": [
      "10.0\n"
     ]
    },
    {
     "name": "stdout",
     "output_type": "stream",
     "text": [
      "10.0\n"
     ]
    },
    {
     "name": "stdout",
     "output_type": "stream",
     "text": [
      "                                 name  best_loss_test  best_acc_test\n",
      "0                             married        0.116645       0.852459\n",
      "1                              female        0.105709       0.540984\n",
      "2                     high.educ_group        0.049467       0.926230\n",
      "3                        income_group        0.269769       0.237705\n",
      "4                      race.ethnicity        0.086604       0.778689\n",
      "5                            BMI_norm        0.284011       4.993375\n",
      "6                            age_norm        1.394315      77.994365\n",
      "7                            vol_norm        0.417436       0.418856\n",
      "8                         weight_norm        0.426314     231.875768\n",
      "9                         height_norm        1.225225      12.178583\n",
      "10  nihtbx_fluidcomp_uncorrected_norm        0.868677       0.651561\n",
      "11      nihtbx_cryst_uncorrected_norm        1.061623       0.653428\n",
      "12    nihtbx_pattern_uncorrected_norm        0.995997       0.896357\n",
      "13    nihtbx_picture_uncorrected_norm        0.807313       0.740612\n",
      "14       nihtbx_list_uncorrected_norm        1.132506       0.896766\n",
      "15    nihtbx_flanker_uncorrected_norm        0.839808       0.691007\n",
      "16   nihtbx_picvocab_uncorrected_norm        1.128318       0.729085\n",
      "17   nihtbx_cardsort_uncorrected_norm        0.885507       0.761117\n",
      "18  nihtbx_totalcomp_uncorrected_norm        0.840352       0.520050\n",
      "19    nihtbx_reading_uncorrected_norm        0.850301       0.624897\n",
      "                                 name  best_loss_val  best_acc_val\n",
      "0                             married       0.100883      0.811475\n",
      "1                              female       0.100107      0.508197\n",
      "2                     high.educ_group       0.059030      0.836066\n",
      "3                        income_group       0.227827      0.352459\n",
      "4                      race.ethnicity       0.068917      0.786885\n",
      "5                            BMI_norm       0.310536      5.459721\n",
      "6                            age_norm       1.429101     79.940182\n",
      "7                            vol_norm       0.476996      0.478619\n",
      "8                         weight_norm       0.552525    300.522957\n",
      "9                         height_norm       0.999808      9.937961\n",
      "10  nihtbx_fluidcomp_uncorrected_norm       0.901123      0.675898\n",
      "11      nihtbx_cryst_uncorrected_norm       1.038982      0.639492\n",
      "12    nihtbx_pattern_uncorrected_norm       1.214140      1.092676\n",
      "13    nihtbx_picture_uncorrected_norm       1.096289      1.005712\n",
      "14       nihtbx_list_uncorrected_norm       0.988009      0.782347\n",
      "15    nihtbx_flanker_uncorrected_norm       1.000922      0.823574\n",
      "16   nihtbx_picvocab_uncorrected_norm       1.089117      0.703754\n",
      "17   nihtbx_cardsort_uncorrected_norm       0.901679      0.775017\n",
      "18  nihtbx_totalcomp_uncorrected_norm       0.804930      0.498129\n",
      "19    nihtbx_reading_uncorrected_norm       0.917516      0.674294\n",
      "Epoch 15, Loss: 35.912, Accuracy: 629.902, Val Loss: 121.643, Val Accuracy: 1587.352, Time Model: 12.565, Time Data: 1.326\n",
      "Learning rate: <tf.Variable 'Adam/learning_rate:0' shape=() dtype=float32, numpy=0.00011111112>\n",
      "Epochs: 16\n"
     ]
    },
    {
     "name": "stdout",
     "output_type": "stream",
     "text": [
      "10.0\n"
     ]
    },
    {
     "name": "stdout",
     "output_type": "stream",
     "text": [
      "20.0\n"
     ]
    },
    {
     "name": "stdout",
     "output_type": "stream",
     "text": [
      "30.0\n"
     ]
    },
    {
     "name": "stdout",
     "output_type": "stream",
     "text": [
      "40.0\n"
     ]
    },
    {
     "name": "stdout",
     "output_type": "stream",
     "text": [
      "50.0\n"
     ]
    },
    {
     "name": "stdout",
     "output_type": "stream",
     "text": [
      "60.0\n"
     ]
    },
    {
     "name": "stdout",
     "output_type": "stream",
     "text": [
      "70.0\n"
     ]
    },
    {
     "name": "stdout",
     "output_type": "stream",
     "text": [
      "10.0\n"
     ]
    },
    {
     "name": "stdout",
     "output_type": "stream",
     "text": [
      "10.0\n"
     ]
    },
    {
     "name": "stdout",
     "output_type": "stream",
     "text": [
      "                                 name  best_loss_test  best_acc_test\n",
      "0                             married        0.116645       0.852459\n",
      "1                              female        0.105709       0.614754\n",
      "2                     high.educ_group        0.049467       0.926230\n",
      "3                        income_group        0.269769       0.245902\n",
      "4                      race.ethnicity        0.086604       0.778689\n",
      "5                            BMI_norm        0.284011       4.993375\n",
      "6                            age_norm        1.394315      77.994365\n",
      "7                            vol_norm        0.417436       0.418856\n",
      "8                         weight_norm        0.333624     181.460970\n",
      "9                         height_norm        1.225225      12.178583\n",
      "10  nihtbx_fluidcomp_uncorrected_norm        0.868677       0.651561\n",
      "11      nihtbx_cryst_uncorrected_norm        1.061623       0.653428\n",
      "12    nihtbx_pattern_uncorrected_norm        0.995997       0.896357\n",
      "13    nihtbx_picture_uncorrected_norm        0.807313       0.740612\n",
      "14       nihtbx_list_uncorrected_norm        1.132506       0.896766\n",
      "15    nihtbx_flanker_uncorrected_norm        0.839808       0.691007\n",
      "16   nihtbx_picvocab_uncorrected_norm        1.128318       0.729085\n",
      "17   nihtbx_cardsort_uncorrected_norm        0.885507       0.761117\n",
      "18  nihtbx_totalcomp_uncorrected_norm        0.840352       0.520050\n",
      "19    nihtbx_reading_uncorrected_norm        0.965248       0.709373\n",
      "                                 name  best_loss_val  best_acc_val\n",
      "0                             married       0.100883      0.811475\n",
      "1                              female       0.100107      0.540984\n",
      "2                     high.educ_group       0.059030      0.836066\n",
      "3                        income_group       0.227827      0.360656\n",
      "4                      race.ethnicity       0.068917      0.786885\n",
      "5                            BMI_norm       0.310536      5.459721\n",
      "6                            age_norm       1.429101     79.940182\n",
      "7                            vol_norm       0.476996      0.478619\n",
      "8                         weight_norm       0.300554    163.473761\n",
      "9                         height_norm       0.999808      9.937961\n",
      "10  nihtbx_fluidcomp_uncorrected_norm       0.901123      0.675898\n",
      "11      nihtbx_cryst_uncorrected_norm       1.038982      0.639492\n",
      "12    nihtbx_pattern_uncorrected_norm       1.214140      1.092676\n",
      "13    nihtbx_picture_uncorrected_norm       1.096289      1.005712\n",
      "14       nihtbx_list_uncorrected_norm       0.988009      0.782347\n",
      "15    nihtbx_flanker_uncorrected_norm       1.000922      0.823574\n",
      "16   nihtbx_picvocab_uncorrected_norm       1.089117      0.703754\n",
      "17   nihtbx_cardsort_uncorrected_norm       0.901679      0.775017\n",
      "18  nihtbx_totalcomp_uncorrected_norm       0.804930      0.498129\n",
      "19    nihtbx_reading_uncorrected_norm       0.839559      0.617002\n",
      "Epoch 16, Loss: 32.052, Accuracy: 561.966, Val Loss: 212.566, Val Accuracy: 1458.924, Time Model: 12.236, Time Data: 1.309\n",
      "Epochs: 17\n"
     ]
    },
    {
     "name": "stdout",
     "output_type": "stream",
     "text": [
      "10.0\n"
     ]
    },
    {
     "name": "stdout",
     "output_type": "stream",
     "text": [
      "20.0\n"
     ]
    },
    {
     "name": "stdout",
     "output_type": "stream",
     "text": [
      "30.0\n"
     ]
    },
    {
     "name": "stdout",
     "output_type": "stream",
     "text": [
      "40.0\n"
     ]
    },
    {
     "name": "stdout",
     "output_type": "stream",
     "text": [
      "50.0\n"
     ]
    },
    {
     "name": "stdout",
     "output_type": "stream",
     "text": [
      "60.0\n"
     ]
    },
    {
     "name": "stdout",
     "output_type": "stream",
     "text": [
      "70.0\n"
     ]
    },
    {
     "name": "stdout",
     "output_type": "stream",
     "text": [
      "10.0\n"
     ]
    },
    {
     "name": "stdout",
     "output_type": "stream",
     "text": [
      "10.0\n"
     ]
    },
    {
     "name": "stdout",
     "output_type": "stream",
     "text": [
      "                                 name  best_loss_test  best_acc_test\n",
      "0                             married        0.116645       0.852459\n",
      "1                              female        0.054127       0.836066\n",
      "2                     high.educ_group        0.049467       0.926230\n",
      "3                        income_group        0.269769       0.237705\n",
      "4                      race.ethnicity        0.086604       0.778689\n",
      "5                            BMI_norm        0.284011       4.993375\n",
      "6                            age_norm        1.394315      77.994365\n",
      "7                            vol_norm        0.417436       0.418856\n",
      "8                         weight_norm        0.333624     181.460970\n",
      "9                         height_norm        1.225225      12.178583\n",
      "10  nihtbx_fluidcomp_uncorrected_norm        0.868677       0.651561\n",
      "11      nihtbx_cryst_uncorrected_norm        1.061623       0.653428\n",
      "12    nihtbx_pattern_uncorrected_norm        0.995997       0.896357\n",
      "13    nihtbx_picture_uncorrected_norm        0.807313       0.740612\n",
      "14       nihtbx_list_uncorrected_norm        1.132506       0.896766\n",
      "15    nihtbx_flanker_uncorrected_norm        0.839808       0.691007\n",
      "16   nihtbx_picvocab_uncorrected_norm        1.128318       0.729085\n",
      "17   nihtbx_cardsort_uncorrected_norm        0.885507       0.761117\n",
      "18  nihtbx_totalcomp_uncorrected_norm        0.840352       0.520050\n",
      "19    nihtbx_reading_uncorrected_norm        0.965248       0.709373\n",
      "                                 name  best_loss_val  best_acc_val\n",
      "0                             married       0.100883      0.811475\n",
      "1                              female       0.048249      0.827869\n",
      "2                     high.educ_group       0.059030      0.836066\n",
      "3                        income_group       0.227827      0.368852\n",
      "4                      race.ethnicity       0.068917      0.786885\n",
      "5                            BMI_norm       0.310536      5.459721\n",
      "6                            age_norm       1.429101     79.940182\n",
      "7                            vol_norm       0.476996      0.478619\n",
      "8                         weight_norm       0.300554    163.473761\n",
      "9                         height_norm       0.999808      9.937961\n",
      "10  nihtbx_fluidcomp_uncorrected_norm       0.901123      0.675898\n",
      "11      nihtbx_cryst_uncorrected_norm       1.038982      0.639492\n",
      "12    nihtbx_pattern_uncorrected_norm       1.214140      1.092676\n",
      "13    nihtbx_picture_uncorrected_norm       1.096289      1.005712\n",
      "14       nihtbx_list_uncorrected_norm       0.988009      0.782347\n",
      "15    nihtbx_flanker_uncorrected_norm       1.000922      0.823574\n",
      "16   nihtbx_picvocab_uncorrected_norm       1.089117      0.703754\n",
      "17   nihtbx_cardsort_uncorrected_norm       0.901679      0.775017\n",
      "18  nihtbx_totalcomp_uncorrected_norm       0.804930      0.498129\n",
      "19    nihtbx_reading_uncorrected_norm       0.839559      0.617002\n",
      "Epoch 17, Loss: 27.768, Accuracy: 528.071, Val Loss: 160.270, Val Accuracy: 1232.402, Time Model: 12.221, Time Data: 1.321\n",
      "Epochs: 18\n"
     ]
    },
    {
     "name": "stdout",
     "output_type": "stream",
     "text": [
      "10.0\n"
     ]
    },
    {
     "name": "stdout",
     "output_type": "stream",
     "text": [
      "20.0\n"
     ]
    },
    {
     "name": "stdout",
     "output_type": "stream",
     "text": [
      "30.0\n"
     ]
    },
    {
     "name": "stdout",
     "output_type": "stream",
     "text": [
      "40.0\n"
     ]
    },
    {
     "name": "stdout",
     "output_type": "stream",
     "text": [
      "50.0\n"
     ]
    },
    {
     "name": "stdout",
     "output_type": "stream",
     "text": [
      "60.0\n"
     ]
    },
    {
     "name": "stdout",
     "output_type": "stream",
     "text": [
      "70.0\n"
     ]
    },
    {
     "name": "stdout",
     "output_type": "stream",
     "text": [
      "10.0\n"
     ]
    },
    {
     "name": "stdout",
     "output_type": "stream",
     "text": [
      "10.0\n"
     ]
    },
    {
     "name": "stdout",
     "output_type": "stream",
     "text": [
      "                                 name  best_loss_test  best_acc_test\n",
      "0                             married        0.116645       0.860656\n",
      "1                              female        0.054127       0.836066\n",
      "2                     high.educ_group        0.049467       0.926230\n",
      "3                        income_group        0.269769       0.237705\n",
      "4                      race.ethnicity        0.086604       0.778689\n",
      "5                            BMI_norm        0.284011       4.993375\n",
      "6                            age_norm        1.394315      77.994365\n",
      "7                            vol_norm        0.417436       0.418856\n",
      "8                         weight_norm        0.284414     154.695232\n",
      "9                         height_norm        1.225225      12.178583\n",
      "10  nihtbx_fluidcomp_uncorrected_norm        0.868677       0.651561\n",
      "11      nihtbx_cryst_uncorrected_norm        1.061623       0.653428\n",
      "12    nihtbx_pattern_uncorrected_norm        0.995997       0.896357\n",
      "13    nihtbx_picture_uncorrected_norm        0.807313       0.740612\n",
      "14       nihtbx_list_uncorrected_norm        1.132506       0.896766\n",
      "15    nihtbx_flanker_uncorrected_norm        0.839808       0.691007\n",
      "16   nihtbx_picvocab_uncorrected_norm        1.128318       0.729085\n",
      "17   nihtbx_cardsort_uncorrected_norm        0.885507       0.761117\n",
      "18  nihtbx_totalcomp_uncorrected_norm        0.840352       0.520050\n",
      "19    nihtbx_reading_uncorrected_norm        0.965248       0.709373\n",
      "                                 name  best_loss_val  best_acc_val\n",
      "0                             married       0.100883      0.819672\n",
      "1                              female       0.048249      0.827869\n",
      "2                     high.educ_group       0.059030      0.836066\n",
      "3                        income_group       0.227827      0.368852\n",
      "4                      race.ethnicity       0.068917      0.786885\n",
      "5                            BMI_norm       0.310536      5.459721\n",
      "6                            age_norm       1.429101     79.940182\n",
      "7                            vol_norm       0.476996      0.478619\n",
      "8                         weight_norm       0.297562    161.846728\n",
      "9                         height_norm       0.999808      9.937961\n",
      "10  nihtbx_fluidcomp_uncorrected_norm       0.901123      0.675898\n",
      "11      nihtbx_cryst_uncorrected_norm       1.038982      0.639492\n",
      "12    nihtbx_pattern_uncorrected_norm       1.214140      1.092676\n",
      "13    nihtbx_picture_uncorrected_norm       1.096289      1.005712\n",
      "14       nihtbx_list_uncorrected_norm       0.988009      0.782347\n",
      "15    nihtbx_flanker_uncorrected_norm       1.000922      0.823574\n",
      "16   nihtbx_picvocab_uncorrected_norm       1.089117      0.703754\n",
      "17   nihtbx_cardsort_uncorrected_norm       0.901679      0.775017\n",
      "18  nihtbx_totalcomp_uncorrected_norm       0.804930      0.498129\n",
      "19    nihtbx_reading_uncorrected_norm       0.839559      0.617002\n",
      "Epoch 18, Loss: 25.336, Accuracy: 509.647, Val Loss: 205.909, Val Accuracy: 790.686, Time Model: 12.165, Time Data: 1.298\n",
      "Epochs: 19\n"
     ]
    },
    {
     "name": "stdout",
     "output_type": "stream",
     "text": [
      "10.0\n"
     ]
    },
    {
     "name": "stdout",
     "output_type": "stream",
     "text": [
      "20.0\n"
     ]
    },
    {
     "name": "stdout",
     "output_type": "stream",
     "text": [
      "30.0\n"
     ]
    },
    {
     "name": "stdout",
     "output_type": "stream",
     "text": [
      "40.0\n"
     ]
    },
    {
     "name": "stdout",
     "output_type": "stream",
     "text": [
      "50.0\n"
     ]
    },
    {
     "name": "stdout",
     "output_type": "stream",
     "text": [
      "60.0\n"
     ]
    },
    {
     "name": "stdout",
     "output_type": "stream",
     "text": [
      "70.0\n"
     ]
    },
    {
     "name": "stdout",
     "output_type": "stream",
     "text": [
      "10.0\n"
     ]
    },
    {
     "name": "stdout",
     "output_type": "stream",
     "text": [
      "10.0\n"
     ]
    },
    {
     "name": "stdout",
     "output_type": "stream",
     "text": [
      "                                 name  best_loss_test  best_acc_test\n",
      "0                             married        0.116645       0.860656\n",
      "1                              female        0.054127       0.836066\n",
      "2                     high.educ_group        0.049467       0.926230\n",
      "3                        income_group        0.269769       0.237705\n",
      "4                      race.ethnicity        0.086604       0.778689\n",
      "5                            BMI_norm        0.284011       4.993375\n",
      "6                            age_norm        1.394315      77.994365\n",
      "7                            vol_norm        0.417436       0.418856\n",
      "8                         weight_norm        0.265595     144.459289\n",
      "9                         height_norm        1.225225      12.178583\n",
      "10  nihtbx_fluidcomp_uncorrected_norm        0.868677       0.651561\n",
      "11      nihtbx_cryst_uncorrected_norm        1.061623       0.653428\n",
      "12    nihtbx_pattern_uncorrected_norm        0.931524       0.838334\n",
      "13    nihtbx_picture_uncorrected_norm        0.807313       0.740612\n",
      "14       nihtbx_list_uncorrected_norm        1.132506       0.896766\n",
      "15    nihtbx_flanker_uncorrected_norm        0.839808       0.691007\n",
      "16   nihtbx_picvocab_uncorrected_norm        1.128318       0.729085\n",
      "17   nihtbx_cardsort_uncorrected_norm        0.885507       0.761117\n",
      "18  nihtbx_totalcomp_uncorrected_norm        0.840352       0.520050\n",
      "19    nihtbx_reading_uncorrected_norm        0.965248       0.709373\n",
      "                                 name  best_loss_val  best_acc_val\n",
      "0                             married       0.100883      0.819672\n",
      "1                              female       0.048249      0.827869\n",
      "2                     high.educ_group       0.059030      0.836066\n",
      "3                        income_group       0.227827      0.368852\n",
      "4                      race.ethnicity       0.068917      0.786885\n",
      "5                            BMI_norm       0.310536      5.459721\n",
      "6                            age_norm       1.429101     79.940182\n",
      "7                            vol_norm       0.476996      0.478619\n",
      "8                         weight_norm       0.251171    136.614114\n",
      "9                         height_norm       0.999808      9.937961\n",
      "10  nihtbx_fluidcomp_uncorrected_norm       0.901123      0.675898\n",
      "11      nihtbx_cryst_uncorrected_norm       1.038982      0.639492\n",
      "12    nihtbx_pattern_uncorrected_norm       1.063160      0.956801\n",
      "13    nihtbx_picture_uncorrected_norm       1.096289      1.005712\n",
      "14       nihtbx_list_uncorrected_norm       0.988009      0.782347\n",
      "15    nihtbx_flanker_uncorrected_norm       1.000922      0.823574\n",
      "16   nihtbx_picvocab_uncorrected_norm       1.089117      0.703754\n",
      "17   nihtbx_cardsort_uncorrected_norm       0.901679      0.775017\n",
      "18  nihtbx_totalcomp_uncorrected_norm       0.804930      0.498129\n",
      "19    nihtbx_reading_uncorrected_norm       0.839559      0.617002\n",
      "Epoch 19, Loss: 23.218, Accuracy: 491.430, Val Loss: 228.837, Val Accuracy: 1373.906, Time Model: 12.229, Time Data: 1.306\n"
     ]
    }
   ],
   "source": [
    "decoder = np.vectorize(lambda x: x.decode('UTF-8'))\n",
    "template = 'Epoch {0}, Loss: {1:.3f}, Accuracy: {2:.3f}, Val Loss: {3:.3f}, Val Accuracy: {4:.3f}, Time Model: {5:.3f}, Time Data: {6:.3f}'\n",
    "for col in [0]:\n",
    "  log_textfile(path_output + modelname + 'multitask_test' + '.log', cat_cols),\n",
    "  log_textfile(path_output + modelname + 'multitask_test' + '.log', num_cols)\n",
    "  loss_object = tf.keras.losses.SparseCategoricalCrossentropy()\n",
    "  optimizer = tf.keras.optimizers.Adam(lr = 0.001)\n",
    "  model = Model(cat_cols, num_cols)\n",
    "  df_best = None\n",
    "  for e in range(20):\n",
    "    log_textfile(path_output + modelname + 'multitask_test' + '.log', 'Epochs: ' + str(e))\n",
    "    loss = tf.Variable(0.)\n",
    "    acc = tf.Variable(0.) \n",
    "    val_loss = tf.Variable(0.)\n",
    "    val_acc = tf.Variable(0.)\n",
    "    test_loss = tf.Variable(0.)\n",
    "    test_acc = tf.Variable(0.)\n",
    "    tf.keras.backend.set_learning_phase(True)\n",
    "    train_out_loss, train_out_acc, n, time_model, time_data = epoch(train_iter, train_df, model, optimizer, cat_cols, num_cols, norm_dict)\n",
    "    tf.keras.backend.set_learning_phase(False)\n",
    "    val_out_loss, val_out_acc, n, _, _ = epoch(val_iter, val_df, model, None, cat_cols, num_cols, norm_dict)\n",
    "    test_out_loss, test_out_acc, n, _, _ = epoch(test_iter, test_df, model, None, cat_cols, num_cols, norm_dict)\n",
    "    loss, acc, _ = format_output(train_out_loss, train_out_acc, n, list(cat_cols.keys())+num_cols)\n",
    "    val_loss, val_acc, df_val = format_output(val_out_loss, val_out_acc, n, list(cat_cols.keys())+num_cols, print_bl=False)\n",
    "    test_loss, test_acc, df_test = format_output(test_out_loss, test_out_acc, n, list(cat_cols.keys())+num_cols, print_bl=False)\n",
    "    df_val.columns = ['name', 'cur_loss_val', 'cur_acc_val']\n",
    "    df_test.columns = ['name', 'cur_loss_test', 'cur_acc_test']\n",
    "    if e == 0:\n",
    "      df_best = pd.merge(df_test, df_val, how='left', left_on='name', right_on='name')\n",
    "      df_best.columns = ['name', 'best_loss_test', 'best_acc_test', 'best_loss_val', 'best_acc_val']\n",
    "    df_best = best_val(df_best, df_val, df_test)\n",
    "    print(df_best[['name', 'best_loss_test', 'best_acc_test']])\n",
    "    print(df_best[['name', 'best_loss_val', 'best_acc_val']])\n",
    "    log_textfile(path_output +  modelname + 'multitask_test' + '.log', template.format(e, loss, acc, val_loss, val_acc, time_model, time_data))\n",
    "    if e in [10, 15]:\n",
    "      optimizer.lr = optimizer.lr/3\n",
    "      log_textfile(path_output +  modelname + 'multitask_test' + '.log', 'Learning rate: ' + str(optimizer.lr))\n",
    "    df_best.to_csv(path_output +  modelname + 'multitask_test' + '.csv')\n",
    "    #model.save_weights(path_saved + str(e) + \"/checkpoint\")"
   ]
  },
  {
   "cell_type": "code",
   "execution_count": 13,
   "metadata": {
    "papermill": {
     "duration": 0.374883,
     "end_time": "2019-11-15T14:33:27.632544",
     "exception": true,
     "start_time": "2019-11-15T14:33:27.257661",
     "status": "failed"
    },
    "tags": []
   },
   "outputs": [
    {
     "ename": "NameError",
     "evalue": "name 'error' is not defined",
     "output_type": "error",
     "traceback": [
      "\u001b[0;31m---------------------------------------------------------------------------\u001b[0m",
      "\u001b[0;31mNameError\u001b[0m                                 Traceback (most recent call last)",
      "\u001b[0;32m<ipython-input-13-ded28046d863>\u001b[0m in \u001b[0;36m<module>\u001b[0;34m\u001b[0m\n\u001b[0;32m----> 1\u001b[0;31m \u001b[0merror\u001b[0m\u001b[0;34m\u001b[0m\u001b[0m\n\u001b[0m",
      "\u001b[0;31mNameError\u001b[0m: name 'error' is not defined"
     ]
    }
   ],
   "source": [
    "error"
   ]
  },
  {
   "cell_type": "code",
   "execution_count": null,
   "metadata": {
    "papermill": {
     "duration": null,
     "end_time": null,
     "exception": null,
     "start_time": null,
     "status": "pending"
    },
    "tags": []
   },
   "outputs": [],
   "source": [
    "batch = next(iter(train_iter))"
   ]
  },
  {
   "cell_type": "code",
   "execution_count": null,
   "metadata": {
    "papermill": {
     "duration": null,
     "end_time": null,
     "exception": null,
     "start_time": null,
     "status": "pending"
    },
    "tags": []
   },
   "outputs": [],
   "source": [
    "t1 = (tf.cast(batch['t1'], tf.float32)-t1_mean)/t1_std\n",
    "t2 = (batch['t2']-t2_mean)/t2_std\n",
    "ad = batch['ad']\n",
    "ad = tf.where(tf.math.is_nan(ad), tf.zeros_like(ad), ad)\n",
    "ad = (ad-ad_mean)/ad_std\n",
    "fa = batch['fa']\n",
    "fa = tf.where(tf.math.is_nan(fa), tf.zeros_like(fa), fa)\n",
    "fa = (fa-fa_mean)/fa_std\n",
    "md = batch['md']\n",
    "md = tf.where(tf.math.is_nan(md), tf.zeros_like(md), md)\n",
    "md = (md-md_mean)/md_std\n",
    "rd = batch['rd']\n",
    "rd = tf.where(tf.math.is_nan(rd), tf.zeros_like(rd), rd)\n",
    "rd = (rd-rd_mean)/rd_std\n",
    "#subjectid = decoder(batch['subjectid'])\n",
    "#y = get_labels(df, subjectid, list(cat_cols.keys())+num_cols)\n",
    "#X = tf.concat([t1, t2, ad, fa, md, rd], axis=4)\n",
    "X = tf.concat([t1, t2], axis=4)    "
   ]
  },
  {
   "cell_type": "code",
   "execution_count": null,
   "metadata": {
    "papermill": {
     "duration": null,
     "end_time": null,
     "exception": null,
     "start_time": null,
     "status": "pending"
    },
    "tags": []
   },
   "outputs": [],
   "source": [
    "tf.keras.backend.set_learning_phase(True)\n",
    "model(X)['female']"
   ]
  },
  {
   "cell_type": "code",
   "execution_count": null,
   "metadata": {
    "papermill": {
     "duration": null,
     "end_time": null,
     "exception": null,
     "start_time": null,
     "status": "pending"
    },
    "tags": []
   },
   "outputs": [],
   "source": [
    "tf.keras.backend.set_learning_phase(False)\n",
    "model(X)['female']"
   ]
  },
  {
   "cell_type": "code",
   "execution_count": null,
   "metadata": {
    "papermill": {
     "duration": null,
     "end_time": null,
     "exception": null,
     "start_time": null,
     "status": "pending"
    },
    "tags": []
   },
   "outputs": [],
   "source": [
    "mean_std = [x.name for x in model.non_trainable_variables if ('batch_norm') in x.name and ('mean' in x.name or 'variance' in x.name)]"
   ]
  },
  {
   "cell_type": "code",
   "execution_count": null,
   "metadata": {
    "papermill": {
     "duration": null,
     "end_time": null,
     "exception": null,
     "start_time": null,
     "status": "pending"
    },
    "tags": []
   },
   "outputs": [],
   "source": [
    "model = Model(cat_cols, num_cols)"
   ]
  },
  {
   "cell_type": "code",
   "execution_count": null,
   "metadata": {
    "papermill": {
     "duration": null,
     "end_time": null,
     "exception": null,
     "start_time": null,
     "status": "pending"
    },
    "tags": []
   },
   "outputs": [],
   "source": [
    "model.non_trainable_variables "
   ]
  },
  {
   "cell_type": "code",
   "execution_count": null,
   "metadata": {
    "papermill": {
     "duration": null,
     "end_time": null,
     "exception": null,
     "start_time": null,
     "status": "pending"
    },
    "tags": []
   },
   "outputs": [],
   "source": []
  }
 ],
 "metadata": {
  "accelerator": "GPU",
  "colab": {
   "collapsed_sections": [],
   "machine_shape": "hm",
   "name": "06_SimpleDL_MultiTask_Valid.ipynb",
   "provenance": []
  },
  "kernelspec": {
   "display_name": "Python 3",
   "language": "python",
   "name": "python3"
  },
  "language_info": {
   "codemirror_mode": {
    "name": "ipython",
    "version": 3
   },
   "file_extension": ".py",
   "mimetype": "text/x-python",
   "name": "python",
   "nbconvert_exporter": "python",
   "pygments_lexer": "ipython3",
   "version": "3.5.3"
  },
  "papermill": {
   "duration": 355.863056,
   "end_time": "2019-11-15T14:33:30.443055",
   "environment_variables": {},
   "exception": true,
   "input_path": "RunModels_bck_densenet_t1t2_out_site16_norm_simpleCNN.ipynb",
   "output_path": "RunModels_bck_densenet_t1t2_out_site16_norm_simpleCNN_out.ipynb",
   "parameters": {},
   "start_time": "2019-11-15T14:27:34.579999",
   "version": "1.2.1"
  }
 },
 "nbformat": 4,
 "nbformat_minor": 1
}