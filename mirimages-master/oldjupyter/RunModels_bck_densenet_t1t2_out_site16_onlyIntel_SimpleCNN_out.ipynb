{
 "cells": [
  {
   "cell_type": "code",
   "execution_count": null,
   "metadata": {
    "hide_input": true,
    "inputHidden": true
   },
   "outputs": [
    {
     "data": {
      "text/html": [
       "<span style=\"color:red; font-family:Helvetica Neue, Helvetica, Arial, sans-serif; font-size:2em;\">An Exception was encountered at 'In [13]'.</span>"
      ]
     },
     "metadata": {},
     "output_type": "display_data"
    }
   ],
   "source": [
    "%%html\n",
    "<span style=\"color:red; font-family:Helvetica Neue, Helvetica, Arial, sans-serif; font-size:2em;\">An Exception was encountered at 'In [13]'.</span>"
   ]
  },
  {
   "cell_type": "code",
   "execution_count": 1,
   "metadata": {
    "papermill": {
     "duration": 0.035515,
     "end_time": "2019-11-15T14:22:38.952727",
     "exception": false,
     "start_time": "2019-11-15T14:22:38.917212",
     "status": "completed"
    },
    "tags": []
   },
   "outputs": [],
   "source": [
    "%load_ext autoreload\n",
    "%autoreload 2"
   ]
  },
  {
   "cell_type": "code",
   "execution_count": 2,
   "metadata": {
    "colab": {
     "base_uri": "https://localhost:8080/",
     "height": 34
    },
    "colab_type": "code",
    "executionInfo": {
     "elapsed": 48054,
     "status": "ok",
     "timestamp": 1573636583219,
     "user": {
      "displayName": "Benedikt Dietmar Schifferer",
      "photoUrl": "https://lh3.googleusercontent.com/a-/AAuE7mDViwxKXBjVKZfXMWGuXrQ48D62bye6HNutAOX0=s64",
      "userId": "06737229821528734971"
     },
     "user_tz": -60
    },
    "id": "2mU_ZLUH5jz4",
    "outputId": "c4cbc445-56dd-49df-de87-c34e18da5f6c",
    "papermill": {
     "duration": 2.426438,
     "end_time": "2019-11-15T14:22:41.393873",
     "exception": false,
     "start_time": "2019-11-15T14:22:38.967435",
     "status": "completed"
    },
    "tags": []
   },
   "outputs": [
    {
     "data": {
      "text/plain": [
       "'2.0.0'"
      ]
     },
     "execution_count": 2,
     "metadata": {},
     "output_type": "execute_result"
    }
   ],
   "source": [
    "import glob\n",
    "import nibabel as nib\n",
    "import os\n",
    "import time\n",
    "\n",
    "import pandas as pd\n",
    "import numpy as np\n",
    "\n",
    "from mricode.utils import log_textfile\n",
    "from mricode.utils import copy_colab\n",
    "from mricode.utils import return_iter\n",
    "from mricode.utils import return_csv\n",
    "\n",
    "from mricode.models.SimpleCNN import SimpleCNN\n",
    "from mricode.models.DenseNet import MyDenseNet\n",
    "\n",
    "import tensorflow as tf\n",
    "from tensorflow.keras.layers import Conv3D\n",
    "from tensorflow import nn\n",
    "from tensorflow.python.ops import nn_ops\n",
    "from tensorflow.python.framework import tensor_shape\n",
    "from tensorflow.python.keras.engine.base_layer import InputSpec\n",
    "from tensorflow.python.keras.utils import conv_utils\n",
    "\n",
    "tf.__version__"
   ]
  },
  {
   "cell_type": "code",
   "execution_count": 3,
   "metadata": {
    "papermill": {
     "duration": 0.953958,
     "end_time": "2019-11-15T14:22:42.361378",
     "exception": false,
     "start_time": "2019-11-15T14:22:41.407420",
     "status": "completed"
    },
    "tags": []
   },
   "outputs": [
    {
     "data": {
      "text/plain": [
       "True"
      ]
     },
     "execution_count": 3,
     "metadata": {},
     "output_type": "execute_result"
    }
   ],
   "source": [
    "tf.test.is_gpu_available()"
   ]
  },
  {
   "cell_type": "code",
   "execution_count": 4,
   "metadata": {
    "colab": {},
    "colab_type": "code",
    "id": "nH4XzW8C5yhH",
    "papermill": {
     "duration": 0.060931,
     "end_time": "2019-11-15T14:22:42.437463",
     "exception": false,
     "start_time": "2019-11-15T14:22:42.376532",
     "status": "completed"
    },
    "tags": []
   },
   "outputs": [],
   "source": [
    "path_saved = './modelssaved/DenseNet_T1T2_site16_onlyIntel_20e_onlyIntel_SimpleCNN/'\n",
    "path_output = './output/'\n",
    "path_tfrecords = '/data2/res64/down/'\n",
    "path_csv = '/data2/csv/'\n",
    "filename_res = {'train': 'intell_residual_train.csv', 'val': 'intell_residual_valid.csv', 'test': 'intell_residual_test.csv'}\n",
    "filename_final = filename_res\n",
    "sample_size = 'site16_allimages'\n",
    "batch_size = 8\n",
    "onlyt1 = False\n",
    "modelname = 'runAllImages64_DenseNet_T1T2_site16_onlyIntel_20e_onlyIntel_SimpleCNN_'\n",
    "Model = SimpleCNN\n",
    "t1_mean=1.3779395849814497\n",
    "t1_std=3.4895845243139503\n",
    "t2_mean=2.22435586968901\n",
    "t2_std=5.07708743178319\n",
    "ad_mean=1.3008901218593748e-05\n",
    "ad_std=0.009966655860940228\n",
    "fa_mean=0.0037552628409334037\n",
    "fa_std=0.012922319568740915\n",
    "md_mean=9.827903909139596e-06\n",
    "md_std=0.009956973204022659\n",
    "rd_mean=8.237404999587111e-06\n",
    "rd_std=0.009954672598675338"
   ]
  },
  {
   "cell_type": "code",
   "execution_count": 5,
   "metadata": {
    "colab": {
     "base_uri": "https://localhost:8080/",
     "height": 71
    },
    "colab_type": "code",
    "executionInfo": {
     "elapsed": 4520,
     "status": "ok",
     "timestamp": 1573636640714,
     "user": {
      "displayName": "Benedikt Dietmar Schifferer",
      "photoUrl": "https://lh3.googleusercontent.com/a-/AAuE7mDViwxKXBjVKZfXMWGuXrQ48D62bye6HNutAOX0=s64",
      "userId": "06737229821528734971"
     },
     "user_tz": -60
    },
    "id": "B-rSS9vT6TuF",
    "outputId": "f5b43cbc-7d59-4c7c-b6d6-78882b1ef3e1",
    "papermill": {
     "duration": 0.29359,
     "end_time": "2019-11-15T14:22:42.746047",
     "exception": false,
     "start_time": "2019-11-15T14:22:42.452457",
     "status": "completed"
    },
    "tags": []
   },
   "outputs": [
    {
     "name": "stdout",
     "output_type": "stream",
     "text": [
      "WARNING:tensorflow:Entity <function return_iter.<locals>._parse_ at 0x7f835a653400> could not be transformed and will be executed as-is. Please report this to the AutoGraph team. When filing the bug, set the verbosity to 10 (on Linux, `export AUTOGRAPH_VERBOSITY=10`) and attach the full output. Cause: \n"
     ]
    },
    {
     "name": "stdout",
     "output_type": "stream",
     "text": [
      "WARNING: Entity <function return_iter.<locals>._parse_ at 0x7f835a653400> could not be transformed and will be executed as-is. Please report this to the AutoGraph team. When filing the bug, set the verbosity to 10 (on Linux, `export AUTOGRAPH_VERBOSITY=10`) and attach the full output. Cause: \n"
     ]
    }
   ],
   "source": [
    "train_iter, val_iter, test_iter = return_iter(path_tfrecords, sample_size, batch_size, onlyt1=onlyt1)"
   ]
  },
  {
   "cell_type": "code",
   "execution_count": 6,
   "metadata": {
    "colab": {},
    "colab_type": "code",
    "id": "lJ0VnyEzBAes",
    "papermill": {
     "duration": 0.065848,
     "end_time": "2019-11-15T14:22:42.827153",
     "exception": false,
     "start_time": "2019-11-15T14:22:42.761305",
     "status": "completed"
    },
    "tags": []
   },
   "outputs": [],
   "source": [
    "if False:\n",
    "  t1_mean = 0.\n",
    "  t1_std = 0.\n",
    "  t2_mean = 0.\n",
    "  t2_std = 0.\n",
    "  ad_mean = 0.\n",
    "  ad_std = 0.\n",
    "  fa_mean = 0.\n",
    "  fa_std = 0.\n",
    "  md_mean = 0.\n",
    "  md_std = 0.\n",
    "  rd_mean = 0.\n",
    "  rd_std = 0.\n",
    "  n = 0.\n",
    "  for b in train_iter:\n",
    "      t1_mean += np.mean(b['t1'])\n",
    "      t1_std += np.std(b['t1'])\n",
    "      t2_mean += np.mean(b['t2'])\n",
    "      t2_std += np.std(b['t2'])\n",
    "      a = np.asarray(b['ad'])\n",
    "      a = a.copy()\n",
    "      a[np.isnan(a)] = 0\n",
    "      ad_mean += np.mean(a)\n",
    "      ad_std += np.std(a)\n",
    "      a = np.asarray(b['fa'])\n",
    "      a = a.copy()\n",
    "      a[np.isnan(a)] = 0\n",
    "      fa_mean += np.mean(a)\n",
    "      fa_std += np.std(a)\n",
    "      a = np.asarray(b['md'])\n",
    "      a = a.copy()\n",
    "      a[np.isnan(a)] = 0\n",
    "      md_mean += np.mean(a)\n",
    "      md_std += np.std(a)\n",
    "      a = np.asarray(b['rd'])\n",
    "      a = a.copy()\n",
    "      a[np.isnan(a)] = 0\n",
    "      rd_mean += np.mean(a)\n",
    "      rd_std += np.std(a)\n",
    "      n += np.asarray(b['t1']).shape[0]\n",
    "\n",
    "  t1_mean /= n\n",
    "  t1_std /= n\n",
    "  t2_mean /= n\n",
    "  t2_std /= n\n",
    "  ad_mean /= n\n",
    "  ad_std /= n\n",
    "  fa_mean /= n\n",
    "  fa_std /= n\n",
    "  md_mean /= n\n",
    "  md_std /= n\n",
    "  rd_mean /= n\n",
    "  rd_std /= n"
   ]
  },
  {
   "cell_type": "code",
   "execution_count": 7,
   "metadata": {
    "colab": {
     "base_uri": "https://localhost:8080/",
     "height": 85
    },
    "colab_type": "code",
    "executionInfo": {
     "elapsed": 2924,
     "status": "ok",
     "timestamp": 1573636640716,
     "user": {
      "displayName": "Benedikt Dietmar Schifferer",
      "photoUrl": "https://lh3.googleusercontent.com/a-/AAuE7mDViwxKXBjVKZfXMWGuXrQ48D62bye6HNutAOX0=s64",
      "userId": "06737229821528734971"
     },
     "user_tz": -60
    },
    "id": "mSwhEqDPM_r8",
    "outputId": "14a4ac0b-9587-4776-fc64-1e008f0c5c31",
    "papermill": {
     "duration": 0.061694,
     "end_time": "2019-11-15T14:22:42.903309",
     "exception": false,
     "start_time": "2019-11-15T14:22:42.841615",
     "status": "completed"
    },
    "tags": []
   },
   "outputs": [
    {
     "data": {
      "text/plain": [
       "(1.3779395849814497,\n",
       " 3.4895845243139503,\n",
       " 2.22435586968901,\n",
       " 5.07708743178319,\n",
       " 1.3008901218593748e-05,\n",
       " 0.009966655860940228,\n",
       " 0.0037552628409334037,\n",
       " 0.012922319568740915,\n",
       " 9.827903909139596e-06,\n",
       " 0.009956973204022659,\n",
       " 8.237404999587111e-06,\n",
       " 0.009954672598675338)"
      ]
     },
     "execution_count": 7,
     "metadata": {},
     "output_type": "execute_result"
    }
   ],
   "source": [
    "t1_mean, t1_std, t2_mean, t2_std, ad_mean, ad_std, fa_mean, fa_std, md_mean, md_std, rd_mean, rd_std"
   ]
  },
  {
   "cell_type": "code",
   "execution_count": 8,
   "metadata": {
    "colab": {},
    "colab_type": "code",
    "id": "PAyV5ktlA6K1",
    "papermill": {
     "duration": 0.323305,
     "end_time": "2019-11-15T14:22:43.241991",
     "exception": false,
     "start_time": "2019-11-15T14:22:42.918686",
     "status": "completed"
    },
    "tags": []
   },
   "outputs": [],
   "source": [
    "train_df, val_df, test_df, norm_dict = return_csv(path_csv, filename_final, False)"
   ]
  },
  {
   "cell_type": "code",
   "execution_count": 9,
   "metadata": {
    "colab": {
     "base_uri": "https://localhost:8080/",
     "height": 442
    },
    "colab_type": "code",
    "executionInfo": {
     "elapsed": 3147,
     "status": "ok",
     "timestamp": 1573636641787,
     "user": {
      "displayName": "Benedikt Dietmar Schifferer",
      "photoUrl": "https://lh3.googleusercontent.com/a-/AAuE7mDViwxKXBjVKZfXMWGuXrQ48D62bye6HNutAOX0=s64",
      "userId": "06737229821528734971"
     },
     "user_tz": -60
    },
    "id": "0xYy4XUyVBeC",
    "outputId": "a6a19d59-31ff-4064-f1dc-952befcce4b3",
    "papermill": {
     "duration": 0.062521,
     "end_time": "2019-11-15T14:22:43.320122",
     "exception": false,
     "start_time": "2019-11-15T14:22:43.257601",
     "status": "completed"
    },
    "tags": []
   },
   "outputs": [
    {
     "data": {
      "text/plain": [
       "{'BMI': {'mean': 18.681548127052135, 'std': 4.193043131845343},\n",
       " 'age': {'mean': 119.00325844623563, 'std': 7.479129774017182},\n",
       " 'height': {'mean': 55.25173666322929, 'std': 3.152756181679028},\n",
       " 'nihtbx_cardsort_uncorrected': {'mean': 0.01902727147573316,\n",
       "  'std': 0.92710655806542},\n",
       " 'nihtbx_cryst_uncorrected': {'mean': 0.007018628014748754,\n",
       "  'std': 0.7845373584638602},\n",
       " 'nihtbx_flanker_uncorrected': {'mean': 0.02188780794049048,\n",
       "  'std': 0.9070917080607726},\n",
       " 'nihtbx_fluidcomp_uncorrected': {'mean': 0.020178243913565427,\n",
       "  'std': 0.86606123778624},\n",
       " 'nihtbx_list_uncorrected': {'mean': 0.00625176016120734,\n",
       "  'std': 0.8898550695735616},\n",
       " 'nihtbx_pattern_uncorrected': {'mean': 0.020721412569885096,\n",
       "  'std': 0.9486618556882954},\n",
       " 'nihtbx_picture_uncorrected': {'mean': 0.0005782175223803825,\n",
       "  'std': 0.9577989703304521},\n",
       " 'nihtbx_picvocab_uncorrected': {'mean': 0.0068509109986280275,\n",
       "  'std': 0.8038465951211212},\n",
       " 'nihtbx_reading_uncorrected': {'mean': 0.0027847502208883574,\n",
       "  'std': 0.8572703419965433},\n",
       " 'nihtbx_totalcomp_uncorrected': {'mean': 0.016971206631452577,\n",
       "  'std': 0.7866686549175077},\n",
       " 'vol': {'mean': 0.013939557398902416, 'std': 1.001699783217792},\n",
       " 'weight': {'mean': 81.91536668875837, 'std': 23.321845390211728}}"
      ]
     },
     "execution_count": 9,
     "metadata": {},
     "output_type": "execute_result"
    }
   ],
   "source": [
    "norm_dict"
   ]
  },
  {
   "cell_type": "code",
   "execution_count": 10,
   "metadata": {
    "colab": {},
    "colab_type": "code",
    "id": "eTk95ptFV5oN",
    "papermill": {
     "duration": 0.058571,
     "end_time": "2019-11-15T14:22:43.394532",
     "exception": false,
     "start_time": "2019-11-15T14:22:43.335961",
     "status": "completed"
    },
    "tags": []
   },
   "outputs": [],
   "source": [
    "cat_cols = {'female': 2, 'race.ethnicity': 5, 'high.educ_group': 4, 'income_group': 8, 'married': 6}\n",
    "cat_cols = {}\n",
    "num_cols = [x for x in list(val_df.columns) if '_norm' in x]\n",
    "num_cols = sorted(num_cols)[3:13]"
   ]
  },
  {
   "cell_type": "code",
   "execution_count": 11,
   "metadata": {
    "colab": {},
    "colab_type": "code",
    "id": "hROMApYiDagm",
    "papermill": {
     "duration": 0.097816,
     "end_time": "2019-11-15T14:22:43.507811",
     "exception": false,
     "start_time": "2019-11-15T14:22:43.409995",
     "status": "completed"
    },
    "tags": []
   },
   "outputs": [],
   "source": [
    "def calc_loss_acc(out_loss, out_acc, y_true, y_pred, cat_cols, num_cols, norm_dict):\n",
    "  for col in num_cols:\n",
    "    tmp_col = col\n",
    "    tmp_std = norm_dict[tmp_col.replace('_norm','')]['std']\n",
    "    tmp_y_true = tf.cast(y_true[col], tf.float32).numpy()\n",
    "    tmp_y_pred = np.squeeze(y_pred[col].numpy())\n",
    "    if not(tmp_col in out_loss):\n",
    "      out_loss[tmp_col] = np.sum(np.square(tmp_y_true-tmp_y_pred))\n",
    "    else:\n",
    "      out_loss[tmp_col] += np.sum(np.square(tmp_y_true-tmp_y_pred))\n",
    "    if not(tmp_col in out_acc):\n",
    "      out_acc[tmp_col] = np.sum(np.square((tmp_y_true-tmp_y_pred)*tmp_std))\n",
    "    else:\n",
    "      out_acc[tmp_col] += np.sum(np.square((tmp_y_true-tmp_y_pred)*tmp_std))\n",
    "  for col in list(cat_cols.keys()):\n",
    "    tmp_col = col\n",
    "    if not(tmp_col in out_loss):\n",
    "      out_loss[tmp_col] = tf.keras.losses.SparseCategoricalCrossentropy()(tf.squeeze(y_true[col]), tf.squeeze(y_pred[col])).numpy()\n",
    "    else:\n",
    "      out_loss[tmp_col] += tf.keras.losses.SparseCategoricalCrossentropy()(tf.squeeze(y_true[col]), tf.squeeze(y_pred[col])).numpy()\n",
    "    if not(tmp_col in out_acc):\n",
    "      out_acc[tmp_col] = tf.reduce_sum(tf.dtypes.cast((y_true[col] == tf.argmax(y_pred[col], axis=-1)), tf.float32)).numpy()\n",
    "    else:\n",
    "      out_acc[tmp_col] += tf.reduce_sum(tf.dtypes.cast((y_true[col] == tf.argmax(y_pred[col], axis=-1)), tf.float32)).numpy()    \n",
    "  return(out_loss, out_acc)\n",
    "\n",
    "def format_output(out_loss, out_acc, n, cols, print_bl=False):\n",
    "  loss = 0\n",
    "  acc = 0\n",
    "  output = []\n",
    "  for col in cols:\n",
    "    output.append([col, out_loss[col]/n, out_acc[col]/n])\n",
    "    loss += out_loss[col]/n\n",
    "    acc += out_acc[col]/n\n",
    "  df = pd.DataFrame(output)\n",
    "  df.columns = ['name', 'loss', 'acc']\n",
    "  if print_bl:\n",
    "    print(df)\n",
    "  return(loss, acc, df)\n",
    "\n",
    "@tf.function\n",
    "def train_step(X, y, model, optimizer, cat_cols, num_cols):\n",
    "  with tf.GradientTape() as tape:\n",
    "    predictions = model(X)\n",
    "    i = 0\n",
    "    loss = tf.keras.losses.MSE(tf.cast(y[num_cols[i]], tf.float32), tf.squeeze(predictions[num_cols[i]]))\n",
    "    for i in range(1,len(num_cols)):\n",
    "      loss += tf.keras.losses.MSE(tf.cast(y[num_cols[i]], tf.float32), tf.squeeze(predictions[num_cols[i]]))\n",
    "    for col in list(cat_cols.keys()):\n",
    "      loss += tf.keras.losses.SparseCategoricalCrossentropy()(tf.squeeze(y[col]), tf.squeeze(predictions[col]))\n",
    "  gradients = tape.gradient(loss, model.trainable_variables)\n",
    "  mean_std = [x.name for x in model.non_trainable_variables if ('batch_norm') in x.name and ('mean' in x.name or 'variance' in x.name)]\n",
    "  with tf.control_dependencies(mean_std):\n",
    "    optimizer.apply_gradients(zip(gradients, model.trainable_variables))\n",
    "  return(y, predictions, loss)\n",
    "\n",
    "@tf.function\n",
    "def test_step(X, y, model):\n",
    "  predictions = model(X)\n",
    "  return(y, predictions)\n",
    "\n",
    "def epoch(data_iter, df, model, optimizer, cat_cols, num_cols, norm_dict):\n",
    "  out_loss = {}\n",
    "  out_acc = {}\n",
    "  n = 0.\n",
    "  n_batch = 0.\n",
    "  total_time_dataload = 0.\n",
    "  total_time_model = 0.\n",
    "  start_time = time.time()\n",
    "  for batch in data_iter:\n",
    "    total_time_dataload += time.time() - start_time\n",
    "    start_time = time.time()\n",
    "    t1 = (tf.cast(batch['t1'], tf.float32)-t1_mean)/t1_std\n",
    "    t2 = (batch['t2']-t2_mean)/t2_std\n",
    "    ad = batch['ad']\n",
    "    ad = tf.where(tf.math.is_nan(ad), tf.zeros_like(ad), ad)\n",
    "    ad = (ad-ad_mean)/ad_std\n",
    "    fa = batch['fa']\n",
    "    fa = tf.where(tf.math.is_nan(fa), tf.zeros_like(fa), fa)\n",
    "    fa = (fa-fa_mean)/fa_std\n",
    "    md = batch['md']\n",
    "    md = tf.where(tf.math.is_nan(md), tf.zeros_like(md), md)\n",
    "    md = (md-md_mean)/md_std\n",
    "    rd = batch['rd']\n",
    "    rd = tf.where(tf.math.is_nan(rd), tf.zeros_like(rd), rd)\n",
    "    rd = (rd-rd_mean)/rd_std\n",
    "    subjectid = decoder(batch['subjectid'])\n",
    "    y = get_labels(df, subjectid, list(cat_cols.keys())+num_cols)\n",
    "    X = tf.concat([t1, t2], axis=4)\n",
    "    #X = tf.concat([t1, t2], axis=4)\n",
    "    if optimizer != None:\n",
    "      y_true, y_pred, loss = train_step(X, y, model, optimizer, cat_cols, num_cols)\n",
    "    else:\n",
    "      y_true, y_pred = test_step(X, y, model)\n",
    "    out_loss, out_acc = calc_loss_acc(out_loss, out_acc, y_true, y_pred, cat_cols, num_cols, norm_dict)\n",
    "    n += X.shape[0]\n",
    "    n_batch += 1\n",
    "    if (n_batch % 10) == 0:\n",
    "      print(n_batch)\n",
    "    total_time_model += time.time() - start_time\n",
    "    start_time = time.time()\n",
    "  return (out_loss, out_acc, n, total_time_model, total_time_dataload)\n",
    "\n",
    "def get_labels(df, subjectid, cols = ['nihtbx_fluidcomp_uncorrected_norm']):\n",
    "  subjects_df = pd.DataFrame(subjectid)\n",
    "  result_df = pd.merge(subjects_df, df, left_on=0, right_on='subjectkey', how='left')\n",
    "  output = {}\n",
    "  for col in cols:\n",
    "    output[col] = np.asarray(result_df[col].values)\n",
    "  return output\n",
    "\n",
    "def best_val(df_best, df_val, df_test):\n",
    "  df_best = pd.merge(df_best, df_val, how='left', left_on='name', right_on='name')\n",
    "  df_best = pd.merge(df_best, df_test, how='left', left_on='name', right_on='name')\n",
    "  df_best.loc[df_best['best_loss_val']>=df_best['cur_loss_val'], 'best_loss_test'] = df_best.loc[df_best['best_loss_val']>=df_best['cur_loss_val'], 'cur_loss_test']\n",
    "  df_best.loc[df_best['best_loss_val']>=df_best['cur_loss_val'], 'best_loss_val'] = df_best.loc[df_best['best_loss_val']>=df_best['cur_loss_val'], 'cur_loss_val']\n",
    "  df_best.loc[(df_best['best_acc_val']<=df_best['cur_acc_val'])&(df_best['name'].isin(['female', 'race.ethnicity', 'high.educ_group', 'income_group', 'married'])), 'best_acc_test'] = df_best.loc[(df_best['best_acc_val']<=df_best['cur_acc_val'])&(df_best['name'].isin(['female', 'race.ethnicity', 'high.educ_group', 'income_group', 'married'])), 'cur_acc_test']\n",
    "  df_best.loc[(df_best['best_acc_val']<=df_best['cur_acc_val'])&(df_best['name'].isin(['female', 'race.ethnicity', 'high.educ_group', 'income_group', 'married'])), 'best_acc_val'] = df_best.loc[(df_best['best_acc_val']<=df_best['cur_acc_val'])&(df_best['name'].isin(['female', 'race.ethnicity', 'high.educ_group', 'income_group', 'married'])), 'cur_acc_val']\n",
    "  df_best.loc[(df_best['best_acc_val']>=df_best['cur_acc_val'])&(~df_best['name'].isin(['female', 'race.ethnicity', 'high.educ_group', 'income_group', 'married'])), 'best_acc_test'] = df_best.loc[(df_best['best_acc_val']>=df_best['cur_acc_val'])&(~df_best['name'].isin(['female', 'race.ethnicity', 'high.educ_group', 'income_group', 'married'])), 'cur_acc_test']\n",
    "  df_best.loc[(df_best['best_acc_val']>=df_best['cur_acc_val'])&(~df_best['name'].isin(['female', 'race.ethnicity', 'high.educ_group', 'income_group', 'married'])), 'best_acc_val'] = df_best.loc[(df_best['best_acc_val']>=df_best['cur_acc_val'])&(~df_best['name'].isin(['female', 'race.ethnicity', 'high.educ_group', 'income_group', 'married'])), 'cur_acc_val']\n",
    "  df_best = df_best.drop(['cur_loss_val', 'cur_acc_val', 'cur_loss_test', 'cur_acc_test'], axis=1)\n",
    "  return(df_best)"
   ]
  },
  {
   "cell_type": "code",
   "execution_count": 12,
   "metadata": {
    "colab": {
     "base_uri": "https://localhost:8080/",
     "height": 1000
    },
    "colab_type": "code",
    "executionInfo": {
     "elapsed": 46355,
     "status": "ok",
     "timestamp": 1573636701683,
     "user": {
      "displayName": "Benedikt Dietmar Schifferer",
      "photoUrl": "https://lh3.googleusercontent.com/a-/AAuE7mDViwxKXBjVKZfXMWGuXrQ48D62bye6HNutAOX0=s64",
      "userId": "06737229821528734971"
     },
     "user_tz": -60
    },
    "id": "RV24LE3k-00n",
    "outputId": "067125be-6ce2-40c9-998e-62f800ccb2f1",
    "papermill": {
     "duration": 286.885955,
     "end_time": "2019-11-15T14:27:30.409303",
     "exception": false,
     "start_time": "2019-11-15T14:22:43.523348",
     "status": "completed"
    },
    "tags": []
   },
   "outputs": [
    {
     "name": "stdout",
     "output_type": "stream",
     "text": [
      "{}\n",
      "['nihtbx_cardsort_uncorrected_norm', 'nihtbx_cryst_uncorrected_norm', 'nihtbx_flanker_uncorrected_norm', 'nihtbx_fluidcomp_uncorrected_norm', 'nihtbx_list_uncorrected_norm', 'nihtbx_pattern_uncorrected_norm', 'nihtbx_picture_uncorrected_norm', 'nihtbx_picvocab_uncorrected_norm', 'nihtbx_reading_uncorrected_norm', 'nihtbx_totalcomp_uncorrected_norm']\n",
      "Epochs: 0\n"
     ]
    },
    {
     "name": "stdout",
     "output_type": "stream",
     "text": [
      "10.0\n"
     ]
    },
    {
     "name": "stdout",
     "output_type": "stream",
     "text": [
      "20.0\n"
     ]
    },
    {
     "name": "stdout",
     "output_type": "stream",
     "text": [
      "30.0\n"
     ]
    },
    {
     "name": "stdout",
     "output_type": "stream",
     "text": [
      "40.0\n"
     ]
    },
    {
     "name": "stdout",
     "output_type": "stream",
     "text": [
      "50.0\n"
     ]
    },
    {
     "name": "stdout",
     "output_type": "stream",
     "text": [
      "60.0\n"
     ]
    },
    {
     "name": "stdout",
     "output_type": "stream",
     "text": [
      "70.0\n"
     ]
    },
    {
     "name": "stdout",
     "output_type": "stream",
     "text": [
      "10.0\n"
     ]
    },
    {
     "name": "stdout",
     "output_type": "stream",
     "text": [
      "10.0\n"
     ]
    },
    {
     "name": "stdout",
     "output_type": "stream",
     "text": [
      "                                name  best_loss_test  best_acc_test\n",
      "0   nihtbx_cardsort_uncorrected_norm        4.109863       3.532536\n",
      "1      nihtbx_cryst_uncorrected_norm       11.553956       7.111448\n",
      "2    nihtbx_flanker_uncorrected_norm       90.130619      74.160861\n",
      "3  nihtbx_fluidcomp_uncorrected_norm       42.445381      31.836670\n",
      "4       nihtbx_list_uncorrected_norm      145.848297     115.488818\n",
      "5    nihtbx_pattern_uncorrected_norm       34.947626      31.451434\n",
      "6    nihtbx_picture_uncorrected_norm       31.162183      28.587530\n",
      "7   nihtbx_picvocab_uncorrected_norm        2.224812       1.437605\n",
      "8    nihtbx_reading_uncorrected_norm       11.255644       8.271913\n",
      "9  nihtbx_totalcomp_uncorrected_norm        1.427099       0.883157\n",
      "                                name  best_loss_val  best_acc_val\n",
      "0   nihtbx_cardsort_uncorrected_norm       4.622015      3.972745\n",
      "1      nihtbx_cryst_uncorrected_norm      10.357940      6.375300\n",
      "2    nihtbx_flanker_uncorrected_norm      86.114762     70.856557\n",
      "3  nihtbx_fluidcomp_uncorrected_norm      38.202813     28.654475\n",
      "4       nihtbx_list_uncorrected_norm     141.149174    111.767858\n",
      "5    nihtbx_pattern_uncorrected_norm      31.967960     28.769861\n",
      "6    nihtbx_picture_uncorrected_norm      29.499558     27.062270\n",
      "7   nihtbx_picvocab_uncorrected_norm       1.887616      1.219720\n",
      "8    nihtbx_reading_uncorrected_norm      10.564709      7.764137\n",
      "9  nihtbx_totalcomp_uncorrected_norm       1.261236      0.780513\n",
      "Epoch 0, Loss: 59.906, Accuracy: 45.376, Val Loss: 355.628, Val Accuracy: 287.223, Time Model: 20.385, Time Data: 1.378\n",
      "Epochs: 1\n"
     ]
    },
    {
     "name": "stdout",
     "output_type": "stream",
     "text": [
      "10.0\n"
     ]
    },
    {
     "name": "stdout",
     "output_type": "stream",
     "text": [
      "20.0\n"
     ]
    },
    {
     "name": "stdout",
     "output_type": "stream",
     "text": [
      "30.0\n"
     ]
    },
    {
     "name": "stdout",
     "output_type": "stream",
     "text": [
      "40.0\n"
     ]
    },
    {
     "name": "stdout",
     "output_type": "stream",
     "text": [
      "50.0\n"
     ]
    },
    {
     "name": "stdout",
     "output_type": "stream",
     "text": [
      "60.0\n"
     ]
    },
    {
     "name": "stdout",
     "output_type": "stream",
     "text": [
      "70.0\n"
     ]
    },
    {
     "name": "stdout",
     "output_type": "stream",
     "text": [
      "10.0\n"
     ]
    },
    {
     "name": "stdout",
     "output_type": "stream",
     "text": [
      "10.0\n"
     ]
    },
    {
     "name": "stdout",
     "output_type": "stream",
     "text": [
      "                                name  best_loss_test  best_acc_test\n",
      "0   nihtbx_cardsort_uncorrected_norm        2.529454       2.174133\n",
      "1      nihtbx_cryst_uncorrected_norm       11.553956       7.111448\n",
      "2    nihtbx_flanker_uncorrected_norm        5.430320       4.468151\n",
      "3  nihtbx_fluidcomp_uncorrected_norm        0.995926       0.747006\n",
      "4       nihtbx_list_uncorrected_norm       11.485308       9.094549\n",
      "5    nihtbx_pattern_uncorrected_norm        6.749326       6.074119\n",
      "6    nihtbx_picture_uncorrected_norm       18.423870      16.901669\n",
      "7   nihtbx_picvocab_uncorrected_norm        2.224812       1.437605\n",
      "8    nihtbx_reading_uncorrected_norm        1.246842       0.916320\n",
      "9  nihtbx_totalcomp_uncorrected_norm        1.427099       0.883157\n",
      "                                name  best_loss_val  best_acc_val\n",
      "0   nihtbx_cardsort_uncorrected_norm       2.966005      2.549360\n",
      "1      nihtbx_cryst_uncorrected_norm      10.357940      6.375300\n",
      "2    nihtbx_flanker_uncorrected_norm       5.572741      4.585338\n",
      "3  nihtbx_fluidcomp_uncorrected_norm       1.267422      0.950645\n",
      "4       nihtbx_list_uncorrected_norm      11.748541      9.302989\n",
      "5    nihtbx_pattern_uncorrected_norm       6.057776      5.451753\n",
      "6    nihtbx_picture_uncorrected_norm      17.987181     16.501062\n",
      "7   nihtbx_picvocab_uncorrected_norm       1.887616      1.219720\n",
      "8    nihtbx_reading_uncorrected_norm       1.242817      0.913362\n",
      "9  nihtbx_totalcomp_uncorrected_norm       1.261236      0.780513\n",
      "Epoch 1, Loss: 46.388, Accuracy: 35.246, Val Loss: 118.459, Val Accuracy: 85.280, Time Model: 10.331, Time Data: 1.306\n",
      "Epochs: 2\n"
     ]
    },
    {
     "name": "stdout",
     "output_type": "stream",
     "text": [
      "10.0\n"
     ]
    },
    {
     "name": "stdout",
     "output_type": "stream",
     "text": [
      "20.0\n"
     ]
    },
    {
     "name": "stdout",
     "output_type": "stream",
     "text": [
      "30.0\n"
     ]
    },
    {
     "name": "stdout",
     "output_type": "stream",
     "text": [
      "40.0\n"
     ]
    },
    {
     "name": "stdout",
     "output_type": "stream",
     "text": [
      "50.0\n"
     ]
    },
    {
     "name": "stdout",
     "output_type": "stream",
     "text": [
      "60.0\n"
     ]
    },
    {
     "name": "stdout",
     "output_type": "stream",
     "text": [
      "70.0\n"
     ]
    },
    {
     "name": "stdout",
     "output_type": "stream",
     "text": [
      "10.0\n"
     ]
    },
    {
     "name": "stdout",
     "output_type": "stream",
     "text": [
      "10.0\n"
     ]
    },
    {
     "name": "stdout",
     "output_type": "stream",
     "text": [
      "                                name  best_loss_test  best_acc_test\n",
      "0   nihtbx_cardsort_uncorrected_norm        0.745077       0.640414\n",
      "1      nihtbx_cryst_uncorrected_norm        1.620503       0.997418\n",
      "2    nihtbx_flanker_uncorrected_norm        0.909380       0.748252\n",
      "3  nihtbx_fluidcomp_uncorrected_norm        0.995926       0.747006\n",
      "4       nihtbx_list_uncorrected_norm        3.142000       2.487968\n",
      "5    nihtbx_pattern_uncorrected_norm        2.522486       2.270135\n",
      "6    nihtbx_picture_uncorrected_norm        1.188000       1.089846\n",
      "7   nihtbx_picvocab_uncorrected_norm        1.715835       1.108720\n",
      "8    nihtbx_reading_uncorrected_norm        0.911081       0.669565\n",
      "9  nihtbx_totalcomp_uncorrected_norm        1.124392       0.695827\n",
      "                                name  best_loss_val  best_acc_val\n",
      "0   nihtbx_cardsort_uncorrected_norm       0.811341      0.697369\n",
      "1      nihtbx_cryst_uncorrected_norm       1.432427      0.881657\n",
      "2    nihtbx_flanker_uncorrected_norm       1.110380      0.913638\n",
      "3  nihtbx_fluidcomp_uncorrected_norm       1.267422      0.950645\n",
      "4       nihtbx_list_uncorrected_norm       3.393655      2.687239\n",
      "5    nihtbx_pattern_uncorrected_norm       2.310537      2.079389\n",
      "6    nihtbx_picture_uncorrected_norm       1.568806      1.439189\n",
      "7   nihtbx_picvocab_uncorrected_norm       1.680160      1.085668\n",
      "8    nihtbx_reading_uncorrected_norm       0.931315      0.684435\n",
      "9  nihtbx_totalcomp_uncorrected_norm       1.023679      0.633501\n",
      "Epoch 2, Loss: 45.541, Accuracy: 34.570, Val Loss: 15.681, Val Accuracy: 12.166, Time Model: 10.375, Time Data: 1.295\n",
      "Epochs: 3\n"
     ]
    },
    {
     "name": "stdout",
     "output_type": "stream",
     "text": [
      "10.0\n"
     ]
    },
    {
     "name": "stdout",
     "output_type": "stream",
     "text": [
      "20.0\n"
     ]
    },
    {
     "name": "stdout",
     "output_type": "stream",
     "text": [
      "30.0\n"
     ]
    },
    {
     "name": "stdout",
     "output_type": "stream",
     "text": [
      "40.0\n"
     ]
    },
    {
     "name": "stdout",
     "output_type": "stream",
     "text": [
      "50.0\n"
     ]
    },
    {
     "name": "stdout",
     "output_type": "stream",
     "text": [
      "60.0\n"
     ]
    },
    {
     "name": "stdout",
     "output_type": "stream",
     "text": [
      "70.0\n"
     ]
    },
    {
     "name": "stdout",
     "output_type": "stream",
     "text": [
      "10.0\n"
     ]
    },
    {
     "name": "stdout",
     "output_type": "stream",
     "text": [
      "10.0\n"
     ]
    },
    {
     "name": "stdout",
     "output_type": "stream",
     "text": [
      "                                name  best_loss_test  best_acc_test\n",
      "0   nihtbx_cardsort_uncorrected_norm        0.750627       0.645184\n",
      "1      nihtbx_cryst_uncorrected_norm        1.000791       0.615986\n",
      "2    nihtbx_flanker_uncorrected_norm        0.909380       0.748252\n",
      "3  nihtbx_fluidcomp_uncorrected_norm        0.995926       0.747006\n",
      "4       nihtbx_list_uncorrected_norm        0.978841       0.775087\n",
      "5    nihtbx_pattern_uncorrected_norm        2.237591       2.013741\n",
      "6    nihtbx_picture_uncorrected_norm        0.787608       0.722535\n",
      "7   nihtbx_picvocab_uncorrected_norm        1.110049       0.717280\n",
      "8    nihtbx_reading_uncorrected_norm        0.911081       0.669565\n",
      "9  nihtbx_totalcomp_uncorrected_norm        1.124392       0.695827\n",
      "                                name  best_loss_val  best_acc_val\n",
      "0   nihtbx_cardsort_uncorrected_norm       0.801191      0.688645\n",
      "1      nihtbx_cryst_uncorrected_norm       0.935216      0.575624\n",
      "2    nihtbx_flanker_uncorrected_norm       1.110380      0.913638\n",
      "3  nihtbx_fluidcomp_uncorrected_norm       1.267422      0.950645\n",
      "4       nihtbx_list_uncorrected_norm       1.050723      0.832006\n",
      "5    nihtbx_pattern_uncorrected_norm       2.107372      1.896549\n",
      "6    nihtbx_picture_uncorrected_norm       1.059629      0.972081\n",
      "7   nihtbx_picvocab_uncorrected_norm       0.980155      0.633346\n",
      "8    nihtbx_reading_uncorrected_norm       0.931315      0.684435\n",
      "9  nihtbx_totalcomp_uncorrected_norm       1.023679      0.633501\n",
      "Epoch 3, Loss: 44.601, Accuracy: 33.877, Val Loss: 16.899, Val Accuracy: 12.881, Time Model: 10.300, Time Data: 1.329\n",
      "Epochs: 4\n"
     ]
    },
    {
     "name": "stdout",
     "output_type": "stream",
     "text": [
      "10.0\n"
     ]
    },
    {
     "name": "stdout",
     "output_type": "stream",
     "text": [
      "20.0\n"
     ]
    },
    {
     "name": "stdout",
     "output_type": "stream",
     "text": [
      "30.0\n"
     ]
    },
    {
     "name": "stdout",
     "output_type": "stream",
     "text": [
      "40.0\n"
     ]
    },
    {
     "name": "stdout",
     "output_type": "stream",
     "text": [
      "50.0\n"
     ]
    },
    {
     "name": "stdout",
     "output_type": "stream",
     "text": [
      "60.0\n"
     ]
    },
    {
     "name": "stdout",
     "output_type": "stream",
     "text": [
      "70.0\n"
     ]
    },
    {
     "name": "stdout",
     "output_type": "stream",
     "text": [
      "10.0\n"
     ]
    },
    {
     "name": "stdout",
     "output_type": "stream",
     "text": [
      "10.0\n"
     ]
    },
    {
     "name": "stdout",
     "output_type": "stream",
     "text": [
      "                                name  best_loss_test  best_acc_test\n",
      "0   nihtbx_cardsort_uncorrected_norm        0.750627       0.645184\n",
      "1      nihtbx_cryst_uncorrected_norm        1.000791       0.615986\n",
      "2    nihtbx_flanker_uncorrected_norm        0.909380       0.748252\n",
      "3  nihtbx_fluidcomp_uncorrected_norm        0.995926       0.747006\n",
      "4       nihtbx_list_uncorrected_norm        0.978841       0.775087\n",
      "5    nihtbx_pattern_uncorrected_norm        2.237591       2.013741\n",
      "6    nihtbx_picture_uncorrected_norm        0.787608       0.722535\n",
      "7   nihtbx_picvocab_uncorrected_norm        1.110049       0.717280\n",
      "8    nihtbx_reading_uncorrected_norm        0.911081       0.669565\n",
      "9  nihtbx_totalcomp_uncorrected_norm        0.985388       0.609805\n",
      "                                name  best_loss_val  best_acc_val\n",
      "0   nihtbx_cardsort_uncorrected_norm       0.801191      0.688645\n",
      "1      nihtbx_cryst_uncorrected_norm       0.935216      0.575624\n",
      "2    nihtbx_flanker_uncorrected_norm       1.110380      0.913638\n",
      "3  nihtbx_fluidcomp_uncorrected_norm       1.267422      0.950645\n",
      "4       nihtbx_list_uncorrected_norm       1.050723      0.832006\n",
      "5    nihtbx_pattern_uncorrected_norm       2.107372      1.896549\n",
      "6    nihtbx_picture_uncorrected_norm       1.059629      0.972081\n",
      "7   nihtbx_picvocab_uncorrected_norm       0.980155      0.633346\n",
      "8    nihtbx_reading_uncorrected_norm       0.931315      0.684435\n",
      "9  nihtbx_totalcomp_uncorrected_norm       0.865629      0.535692\n",
      "Epoch 4, Loss: 44.186, Accuracy: 33.552, Val Loss: 21.512, Val Accuracy: 16.976, Time Model: 10.326, Time Data: 1.336\n",
      "Epochs: 5\n"
     ]
    },
    {
     "name": "stdout",
     "output_type": "stream",
     "text": [
      "10.0\n"
     ]
    },
    {
     "name": "stdout",
     "output_type": "stream",
     "text": [
      "20.0\n"
     ]
    },
    {
     "name": "stdout",
     "output_type": "stream",
     "text": [
      "30.0\n"
     ]
    },
    {
     "name": "stdout",
     "output_type": "stream",
     "text": [
      "40.0\n"
     ]
    },
    {
     "name": "stdout",
     "output_type": "stream",
     "text": [
      "50.0\n"
     ]
    },
    {
     "name": "stdout",
     "output_type": "stream",
     "text": [
      "60.0\n"
     ]
    },
    {
     "name": "stdout",
     "output_type": "stream",
     "text": [
      "70.0\n"
     ]
    },
    {
     "name": "stdout",
     "output_type": "stream",
     "text": [
      "10.0\n"
     ]
    },
    {
     "name": "stdout",
     "output_type": "stream",
     "text": [
      "10.0\n"
     ]
    },
    {
     "name": "stdout",
     "output_type": "stream",
     "text": [
      "                                name  best_loss_test  best_acc_test\n",
      "0   nihtbx_cardsort_uncorrected_norm        0.750627       0.645184\n",
      "1      nihtbx_cryst_uncorrected_norm        1.000791       0.615986\n",
      "2    nihtbx_flanker_uncorrected_norm        0.909380       0.748252\n",
      "3  nihtbx_fluidcomp_uncorrected_norm        0.995926       0.747006\n",
      "4       nihtbx_list_uncorrected_norm        0.978841       0.775087\n",
      "5    nihtbx_pattern_uncorrected_norm        2.237591       2.013741\n",
      "6    nihtbx_picture_uncorrected_norm        0.787608       0.722535\n",
      "7   nihtbx_picvocab_uncorrected_norm        1.110049       0.717280\n",
      "8    nihtbx_reading_uncorrected_norm        0.911081       0.669565\n",
      "9  nihtbx_totalcomp_uncorrected_norm        0.985388       0.609805\n",
      "                                name  best_loss_val  best_acc_val\n",
      "0   nihtbx_cardsort_uncorrected_norm       0.801191      0.688645\n",
      "1      nihtbx_cryst_uncorrected_norm       0.935216      0.575624\n",
      "2    nihtbx_flanker_uncorrected_norm       1.110380      0.913638\n",
      "3  nihtbx_fluidcomp_uncorrected_norm       1.267422      0.950645\n",
      "4       nihtbx_list_uncorrected_norm       1.050723      0.832006\n",
      "5    nihtbx_pattern_uncorrected_norm       2.107372      1.896549\n",
      "6    nihtbx_picture_uncorrected_norm       1.059629      0.972081\n",
      "7   nihtbx_picvocab_uncorrected_norm       0.980155      0.633346\n",
      "8    nihtbx_reading_uncorrected_norm       0.931315      0.684435\n",
      "9  nihtbx_totalcomp_uncorrected_norm       0.865629      0.535692\n",
      "Epoch 5, Loss: 44.205, Accuracy: 33.563, Val Loss: 141.600, Val Accuracy: 97.764, Time Model: 10.349, Time Data: 1.335\n",
      "Epochs: 6\n"
     ]
    },
    {
     "name": "stdout",
     "output_type": "stream",
     "text": [
      "10.0\n"
     ]
    },
    {
     "name": "stdout",
     "output_type": "stream",
     "text": [
      "20.0\n"
     ]
    },
    {
     "name": "stdout",
     "output_type": "stream",
     "text": [
      "30.0\n"
     ]
    },
    {
     "name": "stdout",
     "output_type": "stream",
     "text": [
      "40.0\n"
     ]
    },
    {
     "name": "stdout",
     "output_type": "stream",
     "text": [
      "50.0\n"
     ]
    },
    {
     "name": "stdout",
     "output_type": "stream",
     "text": [
      "60.0\n"
     ]
    },
    {
     "name": "stdout",
     "output_type": "stream",
     "text": [
      "70.0\n"
     ]
    },
    {
     "name": "stdout",
     "output_type": "stream",
     "text": [
      "10.0\n"
     ]
    },
    {
     "name": "stdout",
     "output_type": "stream",
     "text": [
      "10.0\n"
     ]
    },
    {
     "name": "stdout",
     "output_type": "stream",
     "text": [
      "                                name  best_loss_test  best_acc_test\n",
      "0   nihtbx_cardsort_uncorrected_norm        0.750627       0.645184\n",
      "1      nihtbx_cryst_uncorrected_norm        1.000791       0.615986\n",
      "2    nihtbx_flanker_uncorrected_norm        0.837435       0.689055\n",
      "3  nihtbx_fluidcomp_uncorrected_norm        0.995926       0.747006\n",
      "4       nihtbx_list_uncorrected_norm        0.978841       0.775087\n",
      "5    nihtbx_pattern_uncorrected_norm        2.237591       2.013741\n",
      "6    nihtbx_picture_uncorrected_norm        0.787608       0.722535\n",
      "7   nihtbx_picvocab_uncorrected_norm        1.110049       0.717280\n",
      "8    nihtbx_reading_uncorrected_norm        0.911081       0.669565\n",
      "9  nihtbx_totalcomp_uncorrected_norm        0.985388       0.609805\n",
      "                                name  best_loss_val  best_acc_val\n",
      "0   nihtbx_cardsort_uncorrected_norm       0.801191      0.688645\n",
      "1      nihtbx_cryst_uncorrected_norm       0.935216      0.575624\n",
      "2    nihtbx_flanker_uncorrected_norm       0.976674      0.803622\n",
      "3  nihtbx_fluidcomp_uncorrected_norm       1.267422      0.950645\n",
      "4       nihtbx_list_uncorrected_norm       1.050723      0.832006\n",
      "5    nihtbx_pattern_uncorrected_norm       2.107372      1.896549\n",
      "6    nihtbx_picture_uncorrected_norm       1.059629      0.972081\n",
      "7   nihtbx_picvocab_uncorrected_norm       0.980155      0.633346\n",
      "8    nihtbx_reading_uncorrected_norm       0.931315      0.684435\n",
      "9  nihtbx_totalcomp_uncorrected_norm       0.865629      0.535692\n",
      "Epoch 6, Loss: 44.049, Accuracy: 33.485, Val Loss: 86.284, Val Accuracy: 63.470, Time Model: 10.319, Time Data: 1.371\n",
      "Epochs: 7\n"
     ]
    },
    {
     "name": "stdout",
     "output_type": "stream",
     "text": [
      "10.0\n"
     ]
    },
    {
     "name": "stdout",
     "output_type": "stream",
     "text": [
      "20.0\n"
     ]
    },
    {
     "name": "stdout",
     "output_type": "stream",
     "text": [
      "30.0\n"
     ]
    },
    {
     "name": "stdout",
     "output_type": "stream",
     "text": [
      "40.0\n"
     ]
    },
    {
     "name": "stdout",
     "output_type": "stream",
     "text": [
      "50.0\n"
     ]
    },
    {
     "name": "stdout",
     "output_type": "stream",
     "text": [
      "60.0\n"
     ]
    },
    {
     "name": "stdout",
     "output_type": "stream",
     "text": [
      "70.0\n"
     ]
    },
    {
     "name": "stdout",
     "output_type": "stream",
     "text": [
      "10.0\n"
     ]
    },
    {
     "name": "stdout",
     "output_type": "stream",
     "text": [
      "10.0\n"
     ]
    },
    {
     "name": "stdout",
     "output_type": "stream",
     "text": [
      "                                name  best_loss_test  best_acc_test\n",
      "0   nihtbx_cardsort_uncorrected_norm        0.750627       0.645184\n",
      "1      nihtbx_cryst_uncorrected_norm        1.000791       0.615986\n",
      "2    nihtbx_flanker_uncorrected_norm        0.837435       0.689055\n",
      "3  nihtbx_fluidcomp_uncorrected_norm        0.995926       0.747006\n",
      "4       nihtbx_list_uncorrected_norm        0.978841       0.775087\n",
      "5    nihtbx_pattern_uncorrected_norm        1.387748       1.248917\n",
      "6    nihtbx_picture_uncorrected_norm        0.787608       0.722535\n",
      "7   nihtbx_picvocab_uncorrected_norm        1.110049       0.717280\n",
      "8    nihtbx_reading_uncorrected_norm        0.911081       0.669565\n",
      "9  nihtbx_totalcomp_uncorrected_norm        0.985388       0.609805\n",
      "                                name  best_loss_val  best_acc_val\n",
      "0   nihtbx_cardsort_uncorrected_norm       0.801191      0.688645\n",
      "1      nihtbx_cryst_uncorrected_norm       0.935216      0.575624\n",
      "2    nihtbx_flanker_uncorrected_norm       0.976674      0.803622\n",
      "3  nihtbx_fluidcomp_uncorrected_norm       1.267422      0.950645\n",
      "4       nihtbx_list_uncorrected_norm       1.050723      0.832006\n",
      "5    nihtbx_pattern_uncorrected_norm       1.401983      1.261728\n",
      "6    nihtbx_picture_uncorrected_norm       1.059629      0.972081\n",
      "7   nihtbx_picvocab_uncorrected_norm       0.980155      0.633346\n",
      "8    nihtbx_reading_uncorrected_norm       0.931315      0.684435\n",
      "9  nihtbx_totalcomp_uncorrected_norm       0.865629      0.535692\n",
      "Epoch 7, Loss: 45.729, Accuracy: 34.736, Val Loss: 95.521, Val Accuracy: 72.417, Time Model: 10.316, Time Data: 1.352\n",
      "Epochs: 8\n"
     ]
    },
    {
     "name": "stdout",
     "output_type": "stream",
     "text": [
      "10.0\n"
     ]
    },
    {
     "name": "stdout",
     "output_type": "stream",
     "text": [
      "20.0\n"
     ]
    },
    {
     "name": "stdout",
     "output_type": "stream",
     "text": [
      "30.0\n"
     ]
    },
    {
     "name": "stdout",
     "output_type": "stream",
     "text": [
      "40.0\n"
     ]
    },
    {
     "name": "stdout",
     "output_type": "stream",
     "text": [
      "50.0\n"
     ]
    },
    {
     "name": "stdout",
     "output_type": "stream",
     "text": [
      "60.0\n"
     ]
    },
    {
     "name": "stdout",
     "output_type": "stream",
     "text": [
      "70.0\n"
     ]
    },
    {
     "name": "stdout",
     "output_type": "stream",
     "text": [
      "10.0\n"
     ]
    },
    {
     "name": "stdout",
     "output_type": "stream",
     "text": [
      "10.0\n"
     ]
    },
    {
     "name": "stdout",
     "output_type": "stream",
     "text": [
      "                                name  best_loss_test  best_acc_test\n",
      "0   nihtbx_cardsort_uncorrected_norm        0.750627       0.645184\n",
      "1      nihtbx_cryst_uncorrected_norm        1.000791       0.615986\n",
      "2    nihtbx_flanker_uncorrected_norm        0.837435       0.689055\n",
      "3  nihtbx_fluidcomp_uncorrected_norm        0.995926       0.747006\n",
      "4       nihtbx_list_uncorrected_norm        0.978841       0.775087\n",
      "5    nihtbx_pattern_uncorrected_norm        1.387748       1.248917\n",
      "6    nihtbx_picture_uncorrected_norm        0.787608       0.722535\n",
      "7   nihtbx_picvocab_uncorrected_norm        1.110049       0.717280\n",
      "8    nihtbx_reading_uncorrected_norm        0.911081       0.669565\n",
      "9  nihtbx_totalcomp_uncorrected_norm        0.985388       0.609805\n",
      "                                name  best_loss_val  best_acc_val\n",
      "0   nihtbx_cardsort_uncorrected_norm       0.801191      0.688645\n",
      "1      nihtbx_cryst_uncorrected_norm       0.935216      0.575624\n",
      "2    nihtbx_flanker_uncorrected_norm       0.976674      0.803622\n",
      "3  nihtbx_fluidcomp_uncorrected_norm       1.267422      0.950645\n",
      "4       nihtbx_list_uncorrected_norm       1.050723      0.832006\n",
      "5    nihtbx_pattern_uncorrected_norm       1.401983      1.261728\n",
      "6    nihtbx_picture_uncorrected_norm       1.059629      0.972081\n",
      "7   nihtbx_picvocab_uncorrected_norm       0.980155      0.633346\n",
      "8    nihtbx_reading_uncorrected_norm       0.931315      0.684435\n",
      "9  nihtbx_totalcomp_uncorrected_norm       0.865629      0.535692\n",
      "Epoch 8, Loss: 45.899, Accuracy: 34.872, Val Loss: 41.269, Val Accuracy: 30.553, Time Model: 10.327, Time Data: 1.379\n",
      "Epochs: 9\n"
     ]
    },
    {
     "name": "stdout",
     "output_type": "stream",
     "text": [
      "10.0\n"
     ]
    },
    {
     "name": "stdout",
     "output_type": "stream",
     "text": [
      "20.0\n"
     ]
    },
    {
     "name": "stdout",
     "output_type": "stream",
     "text": [
      "30.0\n"
     ]
    },
    {
     "name": "stdout",
     "output_type": "stream",
     "text": [
      "40.0\n"
     ]
    },
    {
     "name": "stdout",
     "output_type": "stream",
     "text": [
      "50.0\n"
     ]
    },
    {
     "name": "stdout",
     "output_type": "stream",
     "text": [
      "60.0\n"
     ]
    },
    {
     "name": "stdout",
     "output_type": "stream",
     "text": [
      "70.0\n"
     ]
    },
    {
     "name": "stdout",
     "output_type": "stream",
     "text": [
      "10.0\n"
     ]
    },
    {
     "name": "stdout",
     "output_type": "stream",
     "text": [
      "10.0\n"
     ]
    },
    {
     "name": "stdout",
     "output_type": "stream",
     "text": [
      "                                name  best_loss_test  best_acc_test\n",
      "0   nihtbx_cardsort_uncorrected_norm        0.750627       0.645184\n",
      "1      nihtbx_cryst_uncorrected_norm        1.000791       0.615986\n",
      "2    nihtbx_flanker_uncorrected_norm        0.837435       0.689055\n",
      "3  nihtbx_fluidcomp_uncorrected_norm        0.995926       0.747006\n",
      "4       nihtbx_list_uncorrected_norm        0.978841       0.775087\n",
      "5    nihtbx_pattern_uncorrected_norm        1.387748       1.248917\n",
      "6    nihtbx_picture_uncorrected_norm        0.787608       0.722535\n",
      "7   nihtbx_picvocab_uncorrected_norm        1.110049       0.717280\n",
      "8    nihtbx_reading_uncorrected_norm        0.911081       0.669565\n",
      "9  nihtbx_totalcomp_uncorrected_norm        0.985388       0.609805\n",
      "                                name  best_loss_val  best_acc_val\n",
      "0   nihtbx_cardsort_uncorrected_norm       0.801191      0.688645\n",
      "1      nihtbx_cryst_uncorrected_norm       0.935216      0.575624\n",
      "2    nihtbx_flanker_uncorrected_norm       0.976674      0.803622\n",
      "3  nihtbx_fluidcomp_uncorrected_norm       1.267422      0.950645\n",
      "4       nihtbx_list_uncorrected_norm       1.050723      0.832006\n",
      "5    nihtbx_pattern_uncorrected_norm       1.401983      1.261728\n",
      "6    nihtbx_picture_uncorrected_norm       1.059629      0.972081\n",
      "7   nihtbx_picvocab_uncorrected_norm       0.980155      0.633346\n",
      "8    nihtbx_reading_uncorrected_norm       0.931315      0.684435\n",
      "9  nihtbx_totalcomp_uncorrected_norm       0.865629      0.535692\n",
      "Epoch 9, Loss: 45.174, Accuracy: 34.320, Val Loss: 75.222, Val Accuracy: 51.736, Time Model: 10.335, Time Data: 1.322\n",
      "Epochs: 10\n"
     ]
    },
    {
     "name": "stdout",
     "output_type": "stream",
     "text": [
      "10.0\n"
     ]
    },
    {
     "name": "stdout",
     "output_type": "stream",
     "text": [
      "20.0\n"
     ]
    },
    {
     "name": "stdout",
     "output_type": "stream",
     "text": [
      "30.0\n"
     ]
    },
    {
     "name": "stdout",
     "output_type": "stream",
     "text": [
      "40.0\n"
     ]
    },
    {
     "name": "stdout",
     "output_type": "stream",
     "text": [
      "50.0\n"
     ]
    },
    {
     "name": "stdout",
     "output_type": "stream",
     "text": [
      "60.0\n"
     ]
    },
    {
     "name": "stdout",
     "output_type": "stream",
     "text": [
      "70.0\n"
     ]
    },
    {
     "name": "stdout",
     "output_type": "stream",
     "text": [
      "10.0\n"
     ]
    },
    {
     "name": "stdout",
     "output_type": "stream",
     "text": [
      "10.0\n"
     ]
    },
    {
     "name": "stdout",
     "output_type": "stream",
     "text": [
      "                                name  best_loss_test  best_acc_test\n",
      "0   nihtbx_cardsort_uncorrected_norm        0.750627       0.645184\n",
      "1      nihtbx_cryst_uncorrected_norm        1.000791       0.615986\n",
      "2    nihtbx_flanker_uncorrected_norm        0.837435       0.689055\n",
      "3  nihtbx_fluidcomp_uncorrected_norm        0.913983       0.685544\n",
      "4       nihtbx_list_uncorrected_norm        0.978841       0.775087\n",
      "5    nihtbx_pattern_uncorrected_norm        1.387748       1.248917\n",
      "6    nihtbx_picture_uncorrected_norm        0.787608       0.722535\n",
      "7   nihtbx_picvocab_uncorrected_norm        1.110049       0.717280\n",
      "8    nihtbx_reading_uncorrected_norm        0.911081       0.669565\n",
      "9  nihtbx_totalcomp_uncorrected_norm        0.985388       0.609805\n",
      "                                name  best_loss_val  best_acc_val\n",
      "0   nihtbx_cardsort_uncorrected_norm       0.801191      0.688645\n",
      "1      nihtbx_cryst_uncorrected_norm       0.935216      0.575624\n",
      "2    nihtbx_flanker_uncorrected_norm       0.976674      0.803622\n",
      "3  nihtbx_fluidcomp_uncorrected_norm       0.906637      0.680034\n",
      "4       nihtbx_list_uncorrected_norm       1.050723      0.832006\n",
      "5    nihtbx_pattern_uncorrected_norm       1.401983      1.261728\n",
      "6    nihtbx_picture_uncorrected_norm       1.059629      0.972081\n",
      "7   nihtbx_picvocab_uncorrected_norm       0.980155      0.633346\n",
      "8    nihtbx_reading_uncorrected_norm       0.931315      0.684435\n",
      "9  nihtbx_totalcomp_uncorrected_norm       0.865629      0.535692\n",
      "Epoch 10, Loss: 44.204, Accuracy: 33.599, Val Loss: 26.550, Val Accuracy: 19.576, Time Model: 10.339, Time Data: 1.314\n",
      "Learning rate: <tf.Variable 'Adam/learning_rate:0' shape=() dtype=float32, numpy=0.00033333336>\n",
      "Epochs: 11\n"
     ]
    },
    {
     "name": "stdout",
     "output_type": "stream",
     "text": [
      "10.0\n"
     ]
    },
    {
     "name": "stdout",
     "output_type": "stream",
     "text": [
      "20.0\n"
     ]
    },
    {
     "name": "stdout",
     "output_type": "stream",
     "text": [
      "30.0\n"
     ]
    },
    {
     "name": "stdout",
     "output_type": "stream",
     "text": [
      "40.0\n"
     ]
    },
    {
     "name": "stdout",
     "output_type": "stream",
     "text": [
      "50.0\n"
     ]
    },
    {
     "name": "stdout",
     "output_type": "stream",
     "text": [
      "60.0\n"
     ]
    },
    {
     "name": "stdout",
     "output_type": "stream",
     "text": [
      "70.0\n"
     ]
    },
    {
     "name": "stdout",
     "output_type": "stream",
     "text": [
      "10.0\n"
     ]
    },
    {
     "name": "stdout",
     "output_type": "stream",
     "text": [
      "10.0\n"
     ]
    },
    {
     "name": "stdout",
     "output_type": "stream",
     "text": [
      "                                name  best_loss_test  best_acc_test\n",
      "0   nihtbx_cardsort_uncorrected_norm        0.750627       0.645184\n",
      "1      nihtbx_cryst_uncorrected_norm        1.000791       0.615986\n",
      "2    nihtbx_flanker_uncorrected_norm        0.837435       0.689055\n",
      "3  nihtbx_fluidcomp_uncorrected_norm        0.913983       0.685544\n",
      "4       nihtbx_list_uncorrected_norm        0.978841       0.775087\n",
      "5    nihtbx_pattern_uncorrected_norm        1.387748       1.248917\n",
      "6    nihtbx_picture_uncorrected_norm        0.787608       0.722535\n",
      "7   nihtbx_picvocab_uncorrected_norm        1.110049       0.717280\n",
      "8    nihtbx_reading_uncorrected_norm        0.911081       0.669565\n",
      "9  nihtbx_totalcomp_uncorrected_norm        0.985388       0.609805\n",
      "                                name  best_loss_val  best_acc_val\n",
      "0   nihtbx_cardsort_uncorrected_norm       0.801191      0.688645\n",
      "1      nihtbx_cryst_uncorrected_norm       0.935216      0.575624\n",
      "2    nihtbx_flanker_uncorrected_norm       0.976674      0.803622\n",
      "3  nihtbx_fluidcomp_uncorrected_norm       0.906637      0.680034\n",
      "4       nihtbx_list_uncorrected_norm       1.050723      0.832006\n",
      "5    nihtbx_pattern_uncorrected_norm       1.401983      1.261728\n",
      "6    nihtbx_picture_uncorrected_norm       1.059629      0.972081\n",
      "7   nihtbx_picvocab_uncorrected_norm       0.980155      0.633346\n",
      "8    nihtbx_reading_uncorrected_norm       0.931315      0.684435\n",
      "9  nihtbx_totalcomp_uncorrected_norm       0.865629      0.535692\n",
      "Epoch 11, Loss: 41.228, Accuracy: 31.389, Val Loss: 27.858, Val Accuracy: 20.659, Time Model: 10.337, Time Data: 1.268\n",
      "Epochs: 12\n"
     ]
    },
    {
     "name": "stdout",
     "output_type": "stream",
     "text": [
      "10.0\n"
     ]
    },
    {
     "name": "stdout",
     "output_type": "stream",
     "text": [
      "20.0\n"
     ]
    },
    {
     "name": "stdout",
     "output_type": "stream",
     "text": [
      "30.0\n"
     ]
    },
    {
     "name": "stdout",
     "output_type": "stream",
     "text": [
      "40.0\n"
     ]
    },
    {
     "name": "stdout",
     "output_type": "stream",
     "text": [
      "50.0\n"
     ]
    },
    {
     "name": "stdout",
     "output_type": "stream",
     "text": [
      "60.0\n"
     ]
    },
    {
     "name": "stdout",
     "output_type": "stream",
     "text": [
      "70.0\n"
     ]
    },
    {
     "name": "stdout",
     "output_type": "stream",
     "text": [
      "10.0\n"
     ]
    },
    {
     "name": "stdout",
     "output_type": "stream",
     "text": [
      "10.0\n"
     ]
    },
    {
     "name": "stdout",
     "output_type": "stream",
     "text": [
      "                                name  best_loss_test  best_acc_test\n",
      "0   nihtbx_cardsort_uncorrected_norm        0.750627       0.645184\n",
      "1      nihtbx_cryst_uncorrected_norm        1.000791       0.615986\n",
      "2    nihtbx_flanker_uncorrected_norm        0.837435       0.689055\n",
      "3  nihtbx_fluidcomp_uncorrected_norm        0.913983       0.685544\n",
      "4       nihtbx_list_uncorrected_norm        0.978841       0.775087\n",
      "5    nihtbx_pattern_uncorrected_norm        1.387748       1.248917\n",
      "6    nihtbx_picture_uncorrected_norm        0.787608       0.722535\n",
      "7   nihtbx_picvocab_uncorrected_norm        1.110049       0.717280\n",
      "8    nihtbx_reading_uncorrected_norm        0.923394       0.678614\n",
      "9  nihtbx_totalcomp_uncorrected_norm        0.985388       0.609805\n",
      "                                name  best_loss_val  best_acc_val\n",
      "0   nihtbx_cardsort_uncorrected_norm       0.801191      0.688645\n",
      "1      nihtbx_cryst_uncorrected_norm       0.935216      0.575624\n",
      "2    nihtbx_flanker_uncorrected_norm       0.976674      0.803622\n",
      "3  nihtbx_fluidcomp_uncorrected_norm       0.906637      0.680034\n",
      "4       nihtbx_list_uncorrected_norm       1.050723      0.832006\n",
      "5    nihtbx_pattern_uncorrected_norm       1.401983      1.261728\n",
      "6    nihtbx_picture_uncorrected_norm       1.059629      0.972081\n",
      "7   nihtbx_picvocab_uncorrected_norm       0.980155      0.633346\n",
      "8    nihtbx_reading_uncorrected_norm       0.927866      0.681900\n",
      "9  nihtbx_totalcomp_uncorrected_norm       0.865629      0.535692\n",
      "Epoch 12, Loss: 38.792, Accuracy: 29.605, Val Loss: 87.288, Val Accuracy: 61.218, Time Model: 10.358, Time Data: 1.313\n",
      "Epochs: 13\n"
     ]
    },
    {
     "name": "stdout",
     "output_type": "stream",
     "text": [
      "10.0\n"
     ]
    },
    {
     "name": "stdout",
     "output_type": "stream",
     "text": [
      "20.0\n"
     ]
    },
    {
     "name": "stdout",
     "output_type": "stream",
     "text": [
      "30.0\n"
     ]
    },
    {
     "name": "stdout",
     "output_type": "stream",
     "text": [
      "40.0\n"
     ]
    },
    {
     "name": "stdout",
     "output_type": "stream",
     "text": [
      "50.0\n"
     ]
    },
    {
     "name": "stdout",
     "output_type": "stream",
     "text": [
      "60.0\n"
     ]
    },
    {
     "name": "stdout",
     "output_type": "stream",
     "text": [
      "70.0\n"
     ]
    },
    {
     "name": "stdout",
     "output_type": "stream",
     "text": [
      "10.0\n"
     ]
    },
    {
     "name": "stdout",
     "output_type": "stream",
     "text": [
      "10.0\n"
     ]
    },
    {
     "name": "stdout",
     "output_type": "stream",
     "text": [
      "                                name  best_loss_test  best_acc_test\n",
      "0   nihtbx_cardsort_uncorrected_norm        0.750627       0.645184\n",
      "1      nihtbx_cryst_uncorrected_norm        1.000791       0.615986\n",
      "2    nihtbx_flanker_uncorrected_norm        0.837435       0.689055\n",
      "3  nihtbx_fluidcomp_uncorrected_norm        0.913983       0.685544\n",
      "4       nihtbx_list_uncorrected_norm        0.992377       0.785806\n",
      "5    nihtbx_pattern_uncorrected_norm        1.387748       1.248917\n",
      "6    nihtbx_picture_uncorrected_norm        0.787608       0.722535\n",
      "7   nihtbx_picvocab_uncorrected_norm        1.110049       0.717280\n",
      "8    nihtbx_reading_uncorrected_norm        0.923394       0.678614\n",
      "9  nihtbx_totalcomp_uncorrected_norm        0.985388       0.609805\n",
      "                                name  best_loss_val  best_acc_val\n",
      "0   nihtbx_cardsort_uncorrected_norm       0.801191      0.688645\n",
      "1      nihtbx_cryst_uncorrected_norm       0.935216      0.575624\n",
      "2    nihtbx_flanker_uncorrected_norm       0.976674      0.803622\n",
      "3  nihtbx_fluidcomp_uncorrected_norm       0.906637      0.680034\n",
      "4       nihtbx_list_uncorrected_norm       0.924137      0.731770\n",
      "5    nihtbx_pattern_uncorrected_norm       1.401983      1.261728\n",
      "6    nihtbx_picture_uncorrected_norm       1.059629      0.972081\n",
      "7   nihtbx_picvocab_uncorrected_norm       0.980155      0.633346\n",
      "8    nihtbx_reading_uncorrected_norm       0.927866      0.681900\n",
      "9  nihtbx_totalcomp_uncorrected_norm       0.865629      0.535692\n",
      "Epoch 13, Loss: 35.597, Accuracy: 27.325, Val Loss: 28.753, Val Accuracy: 22.410, Time Model: 10.369, Time Data: 1.292\n",
      "Epochs: 14\n"
     ]
    },
    {
     "name": "stdout",
     "output_type": "stream",
     "text": [
      "10.0\n"
     ]
    },
    {
     "name": "stdout",
     "output_type": "stream",
     "text": [
      "20.0\n"
     ]
    },
    {
     "name": "stdout",
     "output_type": "stream",
     "text": [
      "30.0\n"
     ]
    },
    {
     "name": "stdout",
     "output_type": "stream",
     "text": [
      "40.0\n"
     ]
    },
    {
     "name": "stdout",
     "output_type": "stream",
     "text": [
      "50.0\n"
     ]
    },
    {
     "name": "stdout",
     "output_type": "stream",
     "text": [
      "60.0\n"
     ]
    },
    {
     "name": "stdout",
     "output_type": "stream",
     "text": [
      "70.0\n"
     ]
    },
    {
     "name": "stdout",
     "output_type": "stream",
     "text": [
      "10.0\n"
     ]
    },
    {
     "name": "stdout",
     "output_type": "stream",
     "text": [
      "10.0\n"
     ]
    },
    {
     "name": "stdout",
     "output_type": "stream",
     "text": [
      "                                name  best_loss_test  best_acc_test\n",
      "0   nihtbx_cardsort_uncorrected_norm        0.750627       0.645184\n",
      "1      nihtbx_cryst_uncorrected_norm        1.000791       0.615986\n",
      "2    nihtbx_flanker_uncorrected_norm        0.837435       0.689055\n",
      "3  nihtbx_fluidcomp_uncorrected_norm        0.913983       0.685544\n",
      "4       nihtbx_list_uncorrected_norm        0.992377       0.785806\n",
      "5    nihtbx_pattern_uncorrected_norm        1.387748       1.248917\n",
      "6    nihtbx_picture_uncorrected_norm        0.787608       0.722535\n",
      "7   nihtbx_picvocab_uncorrected_norm        1.110049       0.717280\n",
      "8    nihtbx_reading_uncorrected_norm        0.923394       0.678614\n",
      "9  nihtbx_totalcomp_uncorrected_norm        0.985388       0.609805\n",
      "                                name  best_loss_val  best_acc_val\n",
      "0   nihtbx_cardsort_uncorrected_norm       0.801191      0.688645\n",
      "1      nihtbx_cryst_uncorrected_norm       0.935216      0.575624\n",
      "2    nihtbx_flanker_uncorrected_norm       0.976674      0.803622\n",
      "3  nihtbx_fluidcomp_uncorrected_norm       0.906637      0.680034\n",
      "4       nihtbx_list_uncorrected_norm       0.924137      0.731770\n",
      "5    nihtbx_pattern_uncorrected_norm       1.401983      1.261728\n",
      "6    nihtbx_picture_uncorrected_norm       1.059629      0.972081\n",
      "7   nihtbx_picvocab_uncorrected_norm       0.980155      0.633346\n",
      "8    nihtbx_reading_uncorrected_norm       0.927866      0.681900\n",
      "9  nihtbx_totalcomp_uncorrected_norm       0.865629      0.535692\n",
      "Epoch 14, Loss: 32.326, Accuracy: 24.951, Val Loss: 68.957, Val Accuracy: 49.936, Time Model: 10.318, Time Data: 1.303\n",
      "Epochs: 15\n"
     ]
    },
    {
     "name": "stdout",
     "output_type": "stream",
     "text": [
      "10.0\n"
     ]
    },
    {
     "name": "stdout",
     "output_type": "stream",
     "text": [
      "20.0\n"
     ]
    },
    {
     "name": "stdout",
     "output_type": "stream",
     "text": [
      "30.0\n"
     ]
    },
    {
     "name": "stdout",
     "output_type": "stream",
     "text": [
      "40.0\n"
     ]
    },
    {
     "name": "stdout",
     "output_type": "stream",
     "text": [
      "50.0\n"
     ]
    },
    {
     "name": "stdout",
     "output_type": "stream",
     "text": [
      "60.0\n"
     ]
    },
    {
     "name": "stdout",
     "output_type": "stream",
     "text": [
      "70.0\n"
     ]
    },
    {
     "name": "stdout",
     "output_type": "stream",
     "text": [
      "10.0\n"
     ]
    },
    {
     "name": "stdout",
     "output_type": "stream",
     "text": [
      "10.0\n"
     ]
    },
    {
     "name": "stdout",
     "output_type": "stream",
     "text": [
      "                                name  best_loss_test  best_acc_test\n",
      "0   nihtbx_cardsort_uncorrected_norm        0.750627       0.645184\n",
      "1      nihtbx_cryst_uncorrected_norm        1.000791       0.615986\n",
      "2    nihtbx_flanker_uncorrected_norm        0.837435       0.689055\n",
      "3  nihtbx_fluidcomp_uncorrected_norm        0.913983       0.685544\n",
      "4       nihtbx_list_uncorrected_norm        0.992377       0.785806\n",
      "5    nihtbx_pattern_uncorrected_norm        1.387748       1.248917\n",
      "6    nihtbx_picture_uncorrected_norm        0.787608       0.722535\n",
      "7   nihtbx_picvocab_uncorrected_norm        1.110049       0.717280\n",
      "8    nihtbx_reading_uncorrected_norm        0.923394       0.678614\n",
      "9  nihtbx_totalcomp_uncorrected_norm        0.985388       0.609805\n",
      "                                name  best_loss_val  best_acc_val\n",
      "0   nihtbx_cardsort_uncorrected_norm       0.801191      0.688645\n",
      "1      nihtbx_cryst_uncorrected_norm       0.935216      0.575624\n",
      "2    nihtbx_flanker_uncorrected_norm       0.976674      0.803622\n",
      "3  nihtbx_fluidcomp_uncorrected_norm       0.906637      0.680034\n",
      "4       nihtbx_list_uncorrected_norm       0.924137      0.731770\n",
      "5    nihtbx_pattern_uncorrected_norm       1.401983      1.261728\n",
      "6    nihtbx_picture_uncorrected_norm       1.059629      0.972081\n",
      "7   nihtbx_picvocab_uncorrected_norm       0.980155      0.633346\n",
      "8    nihtbx_reading_uncorrected_norm       0.927866      0.681900\n",
      "9  nihtbx_totalcomp_uncorrected_norm       0.865629      0.535692\n",
      "Epoch 15, Loss: 32.278, Accuracy: 24.897, Val Loss: 227.168, Val Accuracy: 177.619, Time Model: 10.450, Time Data: 1.270\n",
      "Learning rate: <tf.Variable 'Adam/learning_rate:0' shape=() dtype=float32, numpy=0.00011111112>\n",
      "Epochs: 16\n"
     ]
    },
    {
     "name": "stdout",
     "output_type": "stream",
     "text": [
      "10.0\n"
     ]
    },
    {
     "name": "stdout",
     "output_type": "stream",
     "text": [
      "20.0\n"
     ]
    },
    {
     "name": "stdout",
     "output_type": "stream",
     "text": [
      "30.0\n"
     ]
    },
    {
     "name": "stdout",
     "output_type": "stream",
     "text": [
      "40.0\n"
     ]
    },
    {
     "name": "stdout",
     "output_type": "stream",
     "text": [
      "50.0\n"
     ]
    },
    {
     "name": "stdout",
     "output_type": "stream",
     "text": [
      "60.0\n"
     ]
    },
    {
     "name": "stdout",
     "output_type": "stream",
     "text": [
      "70.0\n"
     ]
    },
    {
     "name": "stdout",
     "output_type": "stream",
     "text": [
      "10.0\n"
     ]
    },
    {
     "name": "stdout",
     "output_type": "stream",
     "text": [
      "10.0\n"
     ]
    },
    {
     "name": "stdout",
     "output_type": "stream",
     "text": [
      "                                name  best_loss_test  best_acc_test\n",
      "0   nihtbx_cardsort_uncorrected_norm        0.750627       0.645184\n",
      "1      nihtbx_cryst_uncorrected_norm        1.000791       0.615986\n",
      "2    nihtbx_flanker_uncorrected_norm        0.837435       0.689055\n",
      "3  nihtbx_fluidcomp_uncorrected_norm        0.913983       0.685544\n",
      "4       nihtbx_list_uncorrected_norm        0.992377       0.785806\n",
      "5    nihtbx_pattern_uncorrected_norm        1.387748       1.248917\n",
      "6    nihtbx_picture_uncorrected_norm        0.787608       0.722535\n",
      "7   nihtbx_picvocab_uncorrected_norm        1.110049       0.717280\n",
      "8    nihtbx_reading_uncorrected_norm        0.923394       0.678614\n",
      "9  nihtbx_totalcomp_uncorrected_norm        0.985388       0.609805\n",
      "                                name  best_loss_val  best_acc_val\n",
      "0   nihtbx_cardsort_uncorrected_norm       0.801191      0.688645\n",
      "1      nihtbx_cryst_uncorrected_norm       0.935216      0.575624\n",
      "2    nihtbx_flanker_uncorrected_norm       0.976674      0.803622\n",
      "3  nihtbx_fluidcomp_uncorrected_norm       0.906637      0.680034\n",
      "4       nihtbx_list_uncorrected_norm       0.924137      0.731770\n",
      "5    nihtbx_pattern_uncorrected_norm       1.401983      1.261728\n",
      "6    nihtbx_picture_uncorrected_norm       1.059629      0.972081\n",
      "7   nihtbx_picvocab_uncorrected_norm       0.980155      0.633346\n",
      "8    nihtbx_reading_uncorrected_norm       0.927866      0.681900\n",
      "9  nihtbx_totalcomp_uncorrected_norm       0.865629      0.535692\n",
      "Epoch 16, Loss: 29.776, Accuracy: 23.028, Val Loss: 42.021, Val Accuracy: 34.363, Time Model: 10.360, Time Data: 1.306\n",
      "Epochs: 17\n"
     ]
    },
    {
     "name": "stdout",
     "output_type": "stream",
     "text": [
      "10.0\n"
     ]
    },
    {
     "name": "stdout",
     "output_type": "stream",
     "text": [
      "20.0\n"
     ]
    },
    {
     "name": "stdout",
     "output_type": "stream",
     "text": [
      "30.0\n"
     ]
    },
    {
     "name": "stdout",
     "output_type": "stream",
     "text": [
      "40.0\n"
     ]
    },
    {
     "name": "stdout",
     "output_type": "stream",
     "text": [
      "50.0\n"
     ]
    },
    {
     "name": "stdout",
     "output_type": "stream",
     "text": [
      "60.0\n"
     ]
    },
    {
     "name": "stdout",
     "output_type": "stream",
     "text": [
      "70.0\n"
     ]
    },
    {
     "name": "stdout",
     "output_type": "stream",
     "text": [
      "10.0\n"
     ]
    },
    {
     "name": "stdout",
     "output_type": "stream",
     "text": [
      "10.0\n"
     ]
    },
    {
     "name": "stdout",
     "output_type": "stream",
     "text": [
      "                                name  best_loss_test  best_acc_test\n",
      "0   nihtbx_cardsort_uncorrected_norm        0.750627       0.645184\n",
      "1      nihtbx_cryst_uncorrected_norm        1.000791       0.615986\n",
      "2    nihtbx_flanker_uncorrected_norm        0.837435       0.689055\n",
      "3  nihtbx_fluidcomp_uncorrected_norm        0.913983       0.685544\n",
      "4       nihtbx_list_uncorrected_norm        0.992377       0.785806\n",
      "5    nihtbx_pattern_uncorrected_norm        1.387748       1.248917\n",
      "6    nihtbx_picture_uncorrected_norm        0.787608       0.722535\n",
      "7   nihtbx_picvocab_uncorrected_norm        1.110049       0.717280\n",
      "8    nihtbx_reading_uncorrected_norm        0.923394       0.678614\n",
      "9  nihtbx_totalcomp_uncorrected_norm        0.985388       0.609805\n",
      "                                name  best_loss_val  best_acc_val\n",
      "0   nihtbx_cardsort_uncorrected_norm       0.801191      0.688645\n",
      "1      nihtbx_cryst_uncorrected_norm       0.935216      0.575624\n",
      "2    nihtbx_flanker_uncorrected_norm       0.976674      0.803622\n",
      "3  nihtbx_fluidcomp_uncorrected_norm       0.906637      0.680034\n",
      "4       nihtbx_list_uncorrected_norm       0.924137      0.731770\n",
      "5    nihtbx_pattern_uncorrected_norm       1.401983      1.261728\n",
      "6    nihtbx_picture_uncorrected_norm       1.059629      0.972081\n",
      "7   nihtbx_picvocab_uncorrected_norm       0.980155      0.633346\n",
      "8    nihtbx_reading_uncorrected_norm       0.927866      0.681900\n",
      "9  nihtbx_totalcomp_uncorrected_norm       0.865629      0.535692\n",
      "Epoch 17, Loss: 25.589, Accuracy: 19.926, Val Loss: 52.391, Val Accuracy: 41.427, Time Model: 10.316, Time Data: 1.375\n",
      "Epochs: 18\n"
     ]
    },
    {
     "name": "stdout",
     "output_type": "stream",
     "text": [
      "10.0\n"
     ]
    },
    {
     "name": "stdout",
     "output_type": "stream",
     "text": [
      "20.0\n"
     ]
    },
    {
     "name": "stdout",
     "output_type": "stream",
     "text": [
      "30.0\n"
     ]
    },
    {
     "name": "stdout",
     "output_type": "stream",
     "text": [
      "40.0\n"
     ]
    },
    {
     "name": "stdout",
     "output_type": "stream",
     "text": [
      "50.0\n"
     ]
    },
    {
     "name": "stdout",
     "output_type": "stream",
     "text": [
      "60.0\n"
     ]
    },
    {
     "name": "stdout",
     "output_type": "stream",
     "text": [
      "70.0\n"
     ]
    },
    {
     "name": "stdout",
     "output_type": "stream",
     "text": [
      "10.0\n"
     ]
    },
    {
     "name": "stdout",
     "output_type": "stream",
     "text": [
      "10.0\n"
     ]
    },
    {
     "name": "stdout",
     "output_type": "stream",
     "text": [
      "                                name  best_loss_test  best_acc_test\n",
      "0   nihtbx_cardsort_uncorrected_norm        0.750627       0.645184\n",
      "1      nihtbx_cryst_uncorrected_norm        1.000791       0.615986\n",
      "2    nihtbx_flanker_uncorrected_norm        0.837435       0.689055\n",
      "3  nihtbx_fluidcomp_uncorrected_norm        0.913983       0.685544\n",
      "4       nihtbx_list_uncorrected_norm        0.992377       0.785806\n",
      "5    nihtbx_pattern_uncorrected_norm        1.387748       1.248917\n",
      "6    nihtbx_picture_uncorrected_norm        0.787608       0.722535\n",
      "7   nihtbx_picvocab_uncorrected_norm        1.110049       0.717280\n",
      "8    nihtbx_reading_uncorrected_norm        0.923394       0.678614\n",
      "9  nihtbx_totalcomp_uncorrected_norm        0.985388       0.609805\n",
      "                                name  best_loss_val  best_acc_val\n",
      "0   nihtbx_cardsort_uncorrected_norm       0.801191      0.688645\n",
      "1      nihtbx_cryst_uncorrected_norm       0.935216      0.575624\n",
      "2    nihtbx_flanker_uncorrected_norm       0.976674      0.803622\n",
      "3  nihtbx_fluidcomp_uncorrected_norm       0.906637      0.680034\n",
      "4       nihtbx_list_uncorrected_norm       0.924137      0.731770\n",
      "5    nihtbx_pattern_uncorrected_norm       1.401983      1.261728\n",
      "6    nihtbx_picture_uncorrected_norm       1.059629      0.972081\n",
      "7   nihtbx_picvocab_uncorrected_norm       0.980155      0.633346\n",
      "8    nihtbx_reading_uncorrected_norm       0.927866      0.681900\n",
      "9  nihtbx_totalcomp_uncorrected_norm       0.865629      0.535692\n",
      "Epoch 18, Loss: 22.700, Accuracy: 17.748, Val Loss: 88.571, Val Accuracy: 64.087, Time Model: 10.514, Time Data: 1.372\n",
      "Epochs: 19\n"
     ]
    },
    {
     "name": "stdout",
     "output_type": "stream",
     "text": [
      "10.0\n"
     ]
    },
    {
     "name": "stdout",
     "output_type": "stream",
     "text": [
      "20.0\n"
     ]
    },
    {
     "name": "stdout",
     "output_type": "stream",
     "text": [
      "30.0\n"
     ]
    },
    {
     "name": "stdout",
     "output_type": "stream",
     "text": [
      "40.0\n"
     ]
    },
    {
     "name": "stdout",
     "output_type": "stream",
     "text": [
      "50.0\n"
     ]
    },
    {
     "name": "stdout",
     "output_type": "stream",
     "text": [
      "60.0\n"
     ]
    },
    {
     "name": "stdout",
     "output_type": "stream",
     "text": [
      "70.0\n"
     ]
    },
    {
     "name": "stdout",
     "output_type": "stream",
     "text": [
      "10.0\n"
     ]
    },
    {
     "name": "stdout",
     "output_type": "stream",
     "text": [
      "10.0\n"
     ]
    },
    {
     "name": "stdout",
     "output_type": "stream",
     "text": [
      "                                name  best_loss_test  best_acc_test\n",
      "0   nihtbx_cardsort_uncorrected_norm        0.750627       0.645184\n",
      "1      nihtbx_cryst_uncorrected_norm        1.000791       0.615986\n",
      "2    nihtbx_flanker_uncorrected_norm        0.837435       0.689055\n",
      "3  nihtbx_fluidcomp_uncorrected_norm        0.913983       0.685544\n",
      "4       nihtbx_list_uncorrected_norm        0.992377       0.785806\n",
      "5    nihtbx_pattern_uncorrected_norm        1.387748       1.248917\n",
      "6    nihtbx_picture_uncorrected_norm        0.787608       0.722535\n",
      "7   nihtbx_picvocab_uncorrected_norm        1.110049       0.717280\n",
      "8    nihtbx_reading_uncorrected_norm        0.923394       0.678614\n",
      "9  nihtbx_totalcomp_uncorrected_norm        0.985388       0.609805\n",
      "                                name  best_loss_val  best_acc_val\n",
      "0   nihtbx_cardsort_uncorrected_norm       0.801191      0.688645\n",
      "1      nihtbx_cryst_uncorrected_norm       0.935216      0.575624\n",
      "2    nihtbx_flanker_uncorrected_norm       0.976674      0.803622\n",
      "3  nihtbx_fluidcomp_uncorrected_norm       0.906637      0.680034\n",
      "4       nihtbx_list_uncorrected_norm       0.924137      0.731770\n",
      "5    nihtbx_pattern_uncorrected_norm       1.401983      1.261728\n",
      "6    nihtbx_picture_uncorrected_norm       1.059629      0.972081\n",
      "7   nihtbx_picvocab_uncorrected_norm       0.980155      0.633346\n",
      "8    nihtbx_reading_uncorrected_norm       0.927866      0.681900\n",
      "9  nihtbx_totalcomp_uncorrected_norm       0.865629      0.535692\n",
      "Epoch 19, Loss: 20.539, Accuracy: 16.086, Val Loss: 287.713, Val Accuracy: 207.022, Time Model: 10.298, Time Data: 1.392\n"
     ]
    }
   ],
   "source": [
    "decoder = np.vectorize(lambda x: x.decode('UTF-8'))\n",
    "template = 'Epoch {0}, Loss: {1:.3f}, Accuracy: {2:.3f}, Val Loss: {3:.3f}, Val Accuracy: {4:.3f}, Time Model: {5:.3f}, Time Data: {6:.3f}'\n",
    "for col in [0]:\n",
    "  log_textfile(path_output + modelname + 'multitask_test' + '.log', cat_cols),\n",
    "  log_textfile(path_output + modelname + 'multitask_test' + '.log', num_cols)\n",
    "  loss_object = tf.keras.losses.SparseCategoricalCrossentropy()\n",
    "  optimizer = tf.keras.optimizers.Adam(lr = 0.001)\n",
    "  model = Model(cat_cols, num_cols)\n",
    "  df_best = None\n",
    "  for e in range(20):\n",
    "    log_textfile(path_output + modelname + 'multitask_test' + '.log', 'Epochs: ' + str(e))\n",
    "    loss = tf.Variable(0.)\n",
    "    acc = tf.Variable(0.) \n",
    "    val_loss = tf.Variable(0.)\n",
    "    val_acc = tf.Variable(0.)\n",
    "    test_loss = tf.Variable(0.)\n",
    "    test_acc = tf.Variable(0.)\n",
    "    tf.keras.backend.set_learning_phase(True)\n",
    "    train_out_loss, train_out_acc, n, time_model, time_data = epoch(train_iter, train_df, model, optimizer, cat_cols, num_cols, norm_dict)\n",
    "    tf.keras.backend.set_learning_phase(False)\n",
    "    val_out_loss, val_out_acc, n, _, _ = epoch(val_iter, val_df, model, None, cat_cols, num_cols, norm_dict)\n",
    "    test_out_loss, test_out_acc, n, _, _ = epoch(test_iter, test_df, model, None, cat_cols, num_cols, norm_dict)\n",
    "    loss, acc, _ = format_output(train_out_loss, train_out_acc, n, list(cat_cols.keys())+num_cols)\n",
    "    val_loss, val_acc, df_val = format_output(val_out_loss, val_out_acc, n, list(cat_cols.keys())+num_cols, print_bl=False)\n",
    "    test_loss, test_acc, df_test = format_output(test_out_loss, test_out_acc, n, list(cat_cols.keys())+num_cols, print_bl=False)\n",
    "    df_val.columns = ['name', 'cur_loss_val', 'cur_acc_val']\n",
    "    df_test.columns = ['name', 'cur_loss_test', 'cur_acc_test']\n",
    "    if e == 0:\n",
    "      df_best = pd.merge(df_test, df_val, how='left', left_on='name', right_on='name')\n",
    "      df_best.columns = ['name', 'best_loss_test', 'best_acc_test', 'best_loss_val', 'best_acc_val']\n",
    "    df_best = best_val(df_best, df_val, df_test)\n",
    "    print(df_best[['name', 'best_loss_test', 'best_acc_test']])\n",
    "    print(df_best[['name', 'best_loss_val', 'best_acc_val']])\n",
    "    log_textfile(path_output +  modelname + 'multitask_test' + '.log', template.format(e, loss, acc, val_loss, val_acc, time_model, time_data))\n",
    "    if e in [10, 15]:\n",
    "      optimizer.lr = optimizer.lr/3\n",
    "      log_textfile(path_output +  modelname + 'multitask_test' + '.log', 'Learning rate: ' + str(optimizer.lr))\n",
    "    df_best.to_csv(path_output +  modelname + 'multitask_test' + '.csv')\n",
    "    model.save_weights(path_saved + str(e) + \"/checkpoint\")"
   ]
  },
  {
   "cell_type": "code",
   "execution_count": 13,
   "metadata": {
    "papermill": {
     "duration": 0.369051,
     "end_time": "2019-11-15T14:27:30.850876",
     "exception": true,
     "start_time": "2019-11-15T14:27:30.481825",
     "status": "failed"
    },
    "tags": []
   },
   "outputs": [
    {
     "ename": "NameError",
     "evalue": "name 'error' is not defined",
     "output_type": "error",
     "traceback": [
      "\u001b[0;31m---------------------------------------------------------------------------\u001b[0m",
      "\u001b[0;31mNameError\u001b[0m                                 Traceback (most recent call last)",
      "\u001b[0;32m<ipython-input-13-ded28046d863>\u001b[0m in \u001b[0;36m<module>\u001b[0;34m\u001b[0m\n\u001b[0;32m----> 1\u001b[0;31m \u001b[0merror\u001b[0m\u001b[0;34m\u001b[0m\u001b[0m\n\u001b[0m",
      "\u001b[0;31mNameError\u001b[0m: name 'error' is not defined"
     ]
    }
   ],
   "source": [
    "error"
   ]
  },
  {
   "cell_type": "code",
   "execution_count": null,
   "metadata": {
    "papermill": {
     "duration": null,
     "end_time": null,
     "exception": null,
     "start_time": null,
     "status": "pending"
    },
    "tags": []
   },
   "outputs": [],
   "source": [
    "batch = next(iter(train_iter))"
   ]
  },
  {
   "cell_type": "code",
   "execution_count": null,
   "metadata": {
    "papermill": {
     "duration": null,
     "end_time": null,
     "exception": null,
     "start_time": null,
     "status": "pending"
    },
    "tags": []
   },
   "outputs": [],
   "source": [
    "t1 = (tf.cast(batch['t1'], tf.float32)-t1_mean)/t1_std\n",
    "t2 = (batch['t2']-t2_mean)/t2_std\n",
    "ad = batch['ad']\n",
    "ad = tf.where(tf.math.is_nan(ad), tf.zeros_like(ad), ad)\n",
    "ad = (ad-ad_mean)/ad_std\n",
    "fa = batch['fa']\n",
    "fa = tf.where(tf.math.is_nan(fa), tf.zeros_like(fa), fa)\n",
    "fa = (fa-fa_mean)/fa_std\n",
    "md = batch['md']\n",
    "md = tf.where(tf.math.is_nan(md), tf.zeros_like(md), md)\n",
    "md = (md-md_mean)/md_std\n",
    "rd = batch['rd']\n",
    "rd = tf.where(tf.math.is_nan(rd), tf.zeros_like(rd), rd)\n",
    "rd = (rd-rd_mean)/rd_std\n",
    "#subjectid = decoder(batch['subjectid'])\n",
    "#y = get_labels(df, subjectid, list(cat_cols.keys())+num_cols)\n",
    "#X = tf.concat([t1, t2, ad, fa, md, rd], axis=4)\n",
    "X = tf.concat([t1, t2], axis=4)    "
   ]
  },
  {
   "cell_type": "code",
   "execution_count": null,
   "metadata": {
    "papermill": {
     "duration": null,
     "end_time": null,
     "exception": null,
     "start_time": null,
     "status": "pending"
    },
    "tags": []
   },
   "outputs": [],
   "source": [
    "tf.keras.backend.set_learning_phase(True)\n",
    "model(X)['female']"
   ]
  },
  {
   "cell_type": "code",
   "execution_count": null,
   "metadata": {
    "papermill": {
     "duration": null,
     "end_time": null,
     "exception": null,
     "start_time": null,
     "status": "pending"
    },
    "tags": []
   },
   "outputs": [],
   "source": [
    "tf.keras.backend.set_learning_phase(False)\n",
    "model(X)['female']"
   ]
  },
  {
   "cell_type": "code",
   "execution_count": null,
   "metadata": {
    "papermill": {
     "duration": null,
     "end_time": null,
     "exception": null,
     "start_time": null,
     "status": "pending"
    },
    "tags": []
   },
   "outputs": [],
   "source": [
    "mean_std = [x.name for x in model.non_trainable_variables if ('batch_norm') in x.name and ('mean' in x.name or 'variance' in x.name)]"
   ]
  },
  {
   "cell_type": "code",
   "execution_count": null,
   "metadata": {
    "papermill": {
     "duration": null,
     "end_time": null,
     "exception": null,
     "start_time": null,
     "status": "pending"
    },
    "tags": []
   },
   "outputs": [],
   "source": [
    "model = Model(cat_cols, num_cols)"
   ]
  },
  {
   "cell_type": "code",
   "execution_count": null,
   "metadata": {
    "papermill": {
     "duration": null,
     "end_time": null,
     "exception": null,
     "start_time": null,
     "status": "pending"
    },
    "tags": []
   },
   "outputs": [],
   "source": [
    "model.non_trainable_variables "
   ]
  },
  {
   "cell_type": "code",
   "execution_count": null,
   "metadata": {
    "papermill": {
     "duration": null,
     "end_time": null,
     "exception": null,
     "start_time": null,
     "status": "pending"
    },
    "tags": []
   },
   "outputs": [],
   "source": []
  }
 ],
 "metadata": {
  "accelerator": "GPU",
  "colab": {
   "collapsed_sections": [],
   "machine_shape": "hm",
   "name": "06_SimpleDL_MultiTask_Valid.ipynb",
   "provenance": []
  },
  "kernelspec": {
   "display_name": "Python 3",
   "language": "python",
   "name": "python3"
  },
  "language_info": {
   "codemirror_mode": {
    "name": "ipython",
    "version": 3
   },
   "file_extension": ".py",
   "mimetype": "text/x-python",
   "name": "python",
   "nbconvert_exporter": "python",
   "pygments_lexer": "ipython3",
   "version": "3.5.3"
  },
  "papermill": {
   "duration": 295.133362,
   "end_time": "2019-11-15T14:27:33.260771",
   "environment_variables": {},
   "exception": true,
   "input_path": "RunModels_bck_densenet_t1t2_out_site16_onlyIntel_SimpleCNN.ipynb",
   "output_path": "RunModels_bck_densenet_t1t2_out_site16_onlyIntel_SimpleCNN_out.ipynb",
   "parameters": {},
   "start_time": "2019-11-15T14:22:38.127409",
   "version": "1.2.1"
  }
 },
 "nbformat": 4,
 "nbformat_minor": 1
}