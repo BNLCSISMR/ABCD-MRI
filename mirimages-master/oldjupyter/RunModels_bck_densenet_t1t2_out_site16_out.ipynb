{
 "cells": [
  {
   "cell_type": "code",
   "execution_count": null,
   "metadata": {
    "hide_input": true,
    "inputHidden": true
   },
   "outputs": [
    {
     "data": {
      "text/html": [
       "<span style=\"color:red; font-family:Helvetica Neue, Helvetica, Arial, sans-serif; font-size:2em;\">An Exception was encountered at 'In [13]'.</span>"
      ]
     },
     "metadata": {},
     "output_type": "display_data"
    }
   ],
   "source": [
    "%%html\n",
    "<span style=\"color:red; font-family:Helvetica Neue, Helvetica, Arial, sans-serif; font-size:2em;\">An Exception was encountered at 'In [13]'.</span>"
   ]
  },
  {
   "cell_type": "code",
   "execution_count": 1,
   "metadata": {
    "papermill": {
     "duration": 0.032156,
     "end_time": "2019-11-15T12:11:40.540776",
     "exception": false,
     "start_time": "2019-11-15T12:11:40.508620",
     "status": "completed"
    },
    "tags": []
   },
   "outputs": [],
   "source": [
    "%load_ext autoreload\n",
    "%autoreload 2"
   ]
  },
  {
   "cell_type": "code",
   "execution_count": 2,
   "metadata": {
    "colab": {
     "base_uri": "https://localhost:8080/",
     "height": 34
    },
    "colab_type": "code",
    "executionInfo": {
     "elapsed": 48054,
     "status": "ok",
     "timestamp": 1573636583219,
     "user": {
      "displayName": "Benedikt Dietmar Schifferer",
      "photoUrl": "https://lh3.googleusercontent.com/a-/AAuE7mDViwxKXBjVKZfXMWGuXrQ48D62bye6HNutAOX0=s64",
      "userId": "06737229821528734971"
     },
     "user_tz": -60
    },
    "id": "2mU_ZLUH5jz4",
    "outputId": "c4cbc445-56dd-49df-de87-c34e18da5f6c",
    "papermill": {
     "duration": 2.363076,
     "end_time": "2019-11-15T12:11:42.918009",
     "exception": false,
     "start_time": "2019-11-15T12:11:40.554933",
     "status": "completed"
    },
    "tags": []
   },
   "outputs": [
    {
     "data": {
      "text/plain": [
       "'2.0.0'"
      ]
     },
     "execution_count": 2,
     "metadata": {},
     "output_type": "execute_result"
    }
   ],
   "source": [
    "import glob\n",
    "import nibabel as nib\n",
    "import os\n",
    "import time\n",
    "\n",
    "import pandas as pd\n",
    "import numpy as np\n",
    "\n",
    "from mricode.utils import log_textfile\n",
    "from mricode.utils import copy_colab\n",
    "from mricode.utils import return_iter\n",
    "from mricode.utils import return_csv\n",
    "\n",
    "from mricode.models.SimpleCNN import SimpleCNN\n",
    "from mricode.models.DenseNet import MyDenseNet\n",
    "\n",
    "import tensorflow as tf\n",
    "from tensorflow.keras.layers import Conv3D\n",
    "from tensorflow import nn\n",
    "from tensorflow.python.ops import nn_ops\n",
    "from tensorflow.python.framework import tensor_shape\n",
    "from tensorflow.python.keras.engine.base_layer import InputSpec\n",
    "from tensorflow.python.keras.utils import conv_utils\n",
    "\n",
    "tf.__version__"
   ]
  },
  {
   "cell_type": "code",
   "execution_count": 3,
   "metadata": {
    "papermill": {
     "duration": 2.572718,
     "end_time": "2019-11-15T12:11:45.504913",
     "exception": false,
     "start_time": "2019-11-15T12:11:42.932195",
     "status": "completed"
    },
    "tags": []
   },
   "outputs": [
    {
     "data": {
      "text/plain": [
       "True"
      ]
     },
     "execution_count": 3,
     "metadata": {},
     "output_type": "execute_result"
    }
   ],
   "source": [
    "tf.test.is_gpu_available()"
   ]
  },
  {
   "cell_type": "code",
   "execution_count": 4,
   "metadata": {
    "colab": {},
    "colab_type": "code",
    "id": "nH4XzW8C5yhH",
    "papermill": {
     "duration": 0.05459,
     "end_time": "2019-11-15T12:11:45.575485",
     "exception": false,
     "start_time": "2019-11-15T12:11:45.520895",
     "status": "completed"
    },
    "tags": []
   },
   "outputs": [],
   "source": [
    "path_output = './output/'\n",
    "path_tfrecords = '/data2/res64/down/'\n",
    "path_csv = '/data2/csv/'\n",
    "filename_res = {'train': 'intell_residual_train.csv', 'val': 'intell_residual_valid.csv', 'test': 'intell_residual_test.csv'}\n",
    "filename_final = filename_res\n",
    "sample_size = 'site16_allimages'\n",
    "batch_size = 8\n",
    "onlyt1 = False\n",
    "modelname = 'runAllImages64_DenseNet_T1T2_site16_onlyIntel_20e'\n",
    "Model = SimpleCNN\n",
    "Model = MyDenseNet\n",
    "t1_mean=1.3779395849814497\n",
    "t1_std=3.4895845243139503\n",
    "t2_mean=2.22435586968901\n",
    "t2_std=5.07708743178319\n",
    "ad_mean=1.3008901218593748e-05\n",
    "ad_std=0.009966655860940228\n",
    "fa_mean=0.0037552628409334037\n",
    "fa_std=0.012922319568740915\n",
    "md_mean=9.827903909139596e-06\n",
    "md_std=0.009956973204022659\n",
    "rd_mean=8.237404999587111e-06\n",
    "rd_std=0.009954672598675338"
   ]
  },
  {
   "cell_type": "code",
   "execution_count": 5,
   "metadata": {
    "colab": {
     "base_uri": "https://localhost:8080/",
     "height": 71
    },
    "colab_type": "code",
    "executionInfo": {
     "elapsed": 4520,
     "status": "ok",
     "timestamp": 1573636640714,
     "user": {
      "displayName": "Benedikt Dietmar Schifferer",
      "photoUrl": "https://lh3.googleusercontent.com/a-/AAuE7mDViwxKXBjVKZfXMWGuXrQ48D62bye6HNutAOX0=s64",
      "userId": "06737229821528734971"
     },
     "user_tz": -60
    },
    "id": "B-rSS9vT6TuF",
    "outputId": "f5b43cbc-7d59-4c7c-b6d6-78882b1ef3e1",
    "papermill": {
     "duration": 0.267984,
     "end_time": "2019-11-15T12:11:45.857160",
     "exception": false,
     "start_time": "2019-11-15T12:11:45.589176",
     "status": "completed"
    },
    "tags": []
   },
   "outputs": [
    {
     "name": "stdout",
     "output_type": "stream",
     "text": [
      "WARNING:tensorflow:Entity <function return_iter.<locals>._parse_ at 0x7f0e7e166488> could not be transformed and will be executed as-is. Please report this to the AutoGraph team. When filing the bug, set the verbosity to 10 (on Linux, `export AUTOGRAPH_VERBOSITY=10`) and attach the full output. Cause: \n"
     ]
    },
    {
     "name": "stdout",
     "output_type": "stream",
     "text": [
      "WARNING: Entity <function return_iter.<locals>._parse_ at 0x7f0e7e166488> could not be transformed and will be executed as-is. Please report this to the AutoGraph team. When filing the bug, set the verbosity to 10 (on Linux, `export AUTOGRAPH_VERBOSITY=10`) and attach the full output. Cause: \n"
     ]
    }
   ],
   "source": [
    "train_iter, val_iter, test_iter = return_iter(path_tfrecords, sample_size, batch_size, onlyt1=onlyt1)"
   ]
  },
  {
   "cell_type": "code",
   "execution_count": 6,
   "metadata": {
    "colab": {},
    "colab_type": "code",
    "id": "lJ0VnyEzBAes",
    "papermill": {
     "duration": 0.060481,
     "end_time": "2019-11-15T12:11:45.931922",
     "exception": false,
     "start_time": "2019-11-15T12:11:45.871441",
     "status": "completed"
    },
    "tags": []
   },
   "outputs": [],
   "source": [
    "if False:\n",
    "  t1_mean = 0.\n",
    "  t1_std = 0.\n",
    "  t2_mean = 0.\n",
    "  t2_std = 0.\n",
    "  ad_mean = 0.\n",
    "  ad_std = 0.\n",
    "  fa_mean = 0.\n",
    "  fa_std = 0.\n",
    "  md_mean = 0.\n",
    "  md_std = 0.\n",
    "  rd_mean = 0.\n",
    "  rd_std = 0.\n",
    "  n = 0.\n",
    "  for b in train_iter:\n",
    "      t1_mean += np.mean(b['t1'])\n",
    "      t1_std += np.std(b['t1'])\n",
    "      t2_mean += np.mean(b['t2'])\n",
    "      t2_std += np.std(b['t2'])\n",
    "      a = np.asarray(b['ad'])\n",
    "      a = a.copy()\n",
    "      a[np.isnan(a)] = 0\n",
    "      ad_mean += np.mean(a)\n",
    "      ad_std += np.std(a)\n",
    "      a = np.asarray(b['fa'])\n",
    "      a = a.copy()\n",
    "      a[np.isnan(a)] = 0\n",
    "      fa_mean += np.mean(a)\n",
    "      fa_std += np.std(a)\n",
    "      a = np.asarray(b['md'])\n",
    "      a = a.copy()\n",
    "      a[np.isnan(a)] = 0\n",
    "      md_mean += np.mean(a)\n",
    "      md_std += np.std(a)\n",
    "      a = np.asarray(b['rd'])\n",
    "      a = a.copy()\n",
    "      a[np.isnan(a)] = 0\n",
    "      rd_mean += np.mean(a)\n",
    "      rd_std += np.std(a)\n",
    "      n += np.asarray(b['t1']).shape[0]\n",
    "\n",
    "  t1_mean /= n\n",
    "  t1_std /= n\n",
    "  t2_mean /= n\n",
    "  t2_std /= n\n",
    "  ad_mean /= n\n",
    "  ad_std /= n\n",
    "  fa_mean /= n\n",
    "  fa_std /= n\n",
    "  md_mean /= n\n",
    "  md_std /= n\n",
    "  rd_mean /= n\n",
    "  rd_std /= n"
   ]
  },
  {
   "cell_type": "code",
   "execution_count": 7,
   "metadata": {
    "colab": {
     "base_uri": "https://localhost:8080/",
     "height": 85
    },
    "colab_type": "code",
    "executionInfo": {
     "elapsed": 2924,
     "status": "ok",
     "timestamp": 1573636640716,
     "user": {
      "displayName": "Benedikt Dietmar Schifferer",
      "photoUrl": "https://lh3.googleusercontent.com/a-/AAuE7mDViwxKXBjVKZfXMWGuXrQ48D62bye6HNutAOX0=s64",
      "userId": "06737229821528734971"
     },
     "user_tz": -60
    },
    "id": "mSwhEqDPM_r8",
    "outputId": "14a4ac0b-9587-4776-fc64-1e008f0c5c31",
    "papermill": {
     "duration": 0.056396,
     "end_time": "2019-11-15T12:11:46.002847",
     "exception": false,
     "start_time": "2019-11-15T12:11:45.946451",
     "status": "completed"
    },
    "tags": []
   },
   "outputs": [
    {
     "data": {
      "text/plain": [
       "(1.3779395849814497,\n",
       " 3.4895845243139503,\n",
       " 2.22435586968901,\n",
       " 5.07708743178319,\n",
       " 1.3008901218593748e-05,\n",
       " 0.009966655860940228,\n",
       " 0.0037552628409334037,\n",
       " 0.012922319568740915,\n",
       " 9.827903909139596e-06,\n",
       " 0.009956973204022659,\n",
       " 8.237404999587111e-06,\n",
       " 0.009954672598675338)"
      ]
     },
     "execution_count": 7,
     "metadata": {},
     "output_type": "execute_result"
    }
   ],
   "source": [
    "t1_mean, t1_std, t2_mean, t2_std, ad_mean, ad_std, fa_mean, fa_std, md_mean, md_std, rd_mean, rd_std"
   ]
  },
  {
   "cell_type": "code",
   "execution_count": 8,
   "metadata": {
    "colab": {},
    "colab_type": "code",
    "id": "PAyV5ktlA6K1",
    "papermill": {
     "duration": 0.308678,
     "end_time": "2019-11-15T12:11:46.326156",
     "exception": false,
     "start_time": "2019-11-15T12:11:46.017478",
     "status": "completed"
    },
    "tags": []
   },
   "outputs": [],
   "source": [
    "train_df, val_df, test_df, norm_dict = return_csv(path_csv, filename_final, False)"
   ]
  },
  {
   "cell_type": "code",
   "execution_count": 9,
   "metadata": {
    "colab": {
     "base_uri": "https://localhost:8080/",
     "height": 442
    },
    "colab_type": "code",
    "executionInfo": {
     "elapsed": 3147,
     "status": "ok",
     "timestamp": 1573636641787,
     "user": {
      "displayName": "Benedikt Dietmar Schifferer",
      "photoUrl": "https://lh3.googleusercontent.com/a-/AAuE7mDViwxKXBjVKZfXMWGuXrQ48D62bye6HNutAOX0=s64",
      "userId": "06737229821528734971"
     },
     "user_tz": -60
    },
    "id": "0xYy4XUyVBeC",
    "outputId": "a6a19d59-31ff-4064-f1dc-952befcce4b3",
    "papermill": {
     "duration": 0.053077,
     "end_time": "2019-11-15T12:11:46.393630",
     "exception": false,
     "start_time": "2019-11-15T12:11:46.340553",
     "status": "completed"
    },
    "tags": []
   },
   "outputs": [
    {
     "data": {
      "text/plain": [
       "{'BMI': {'mean': 18.681548127052135, 'std': 4.193043131845343},\n",
       " 'age': {'mean': 119.00325844623563, 'std': 7.479129774017182},\n",
       " 'height': {'mean': 55.25173666322929, 'std': 3.152756181679028},\n",
       " 'nihtbx_cardsort_uncorrected': {'mean': 0.01902727147573316,\n",
       "  'std': 0.92710655806542},\n",
       " 'nihtbx_cryst_uncorrected': {'mean': 0.007018628014748754,\n",
       "  'std': 0.7845373584638602},\n",
       " 'nihtbx_flanker_uncorrected': {'mean': 0.02188780794049048,\n",
       "  'std': 0.9070917080607726},\n",
       " 'nihtbx_fluidcomp_uncorrected': {'mean': 0.020178243913565427,\n",
       "  'std': 0.86606123778624},\n",
       " 'nihtbx_list_uncorrected': {'mean': 0.00625176016120734,\n",
       "  'std': 0.8898550695735616},\n",
       " 'nihtbx_pattern_uncorrected': {'mean': 0.020721412569885096,\n",
       "  'std': 0.9486618556882954},\n",
       " 'nihtbx_picture_uncorrected': {'mean': 0.0005782175223803825,\n",
       "  'std': 0.9577989703304521},\n",
       " 'nihtbx_picvocab_uncorrected': {'mean': 0.0068509109986280275,\n",
       "  'std': 0.8038465951211212},\n",
       " 'nihtbx_reading_uncorrected': {'mean': 0.0027847502208883574,\n",
       "  'std': 0.8572703419965433},\n",
       " 'nihtbx_totalcomp_uncorrected': {'mean': 0.016971206631452577,\n",
       "  'std': 0.7866686549175077},\n",
       " 'vol': {'mean': 0.013939557398902416, 'std': 1.001699783217792},\n",
       " 'weight': {'mean': 81.91536668875837, 'std': 23.321845390211728}}"
      ]
     },
     "execution_count": 9,
     "metadata": {},
     "output_type": "execute_result"
    }
   ],
   "source": [
    "norm_dict"
   ]
  },
  {
   "cell_type": "code",
   "execution_count": 10,
   "metadata": {
    "colab": {},
    "colab_type": "code",
    "id": "eTk95ptFV5oN",
    "papermill": {
     "duration": 0.049384,
     "end_time": "2019-11-15T12:11:46.457016",
     "exception": false,
     "start_time": "2019-11-15T12:11:46.407632",
     "status": "completed"
    },
    "tags": []
   },
   "outputs": [],
   "source": [
    "cat_cols = {'female': 2, 'race.ethnicity': 5, 'high.educ_group': 4, 'income_group': 8, 'married': 6}\n",
    "num_cols = [x for x in list(val_df.columns) if '_norm' in x]\n",
    "num_cols = sorted(num_cols)[3:13]"
   ]
  },
  {
   "cell_type": "code",
   "execution_count": 11,
   "metadata": {
    "colab": {},
    "colab_type": "code",
    "id": "hROMApYiDagm",
    "papermill": {
     "duration": 0.085145,
     "end_time": "2019-11-15T12:11:46.556207",
     "exception": false,
     "start_time": "2019-11-15T12:11:46.471062",
     "status": "completed"
    },
    "tags": []
   },
   "outputs": [],
   "source": [
    "def calc_loss_acc(out_loss, out_acc, y_true, y_pred, cat_cols, num_cols, norm_dict):\n",
    "  for col in num_cols:\n",
    "    tmp_col = col\n",
    "    tmp_std = norm_dict[tmp_col.replace('_norm','')]['std']\n",
    "    tmp_y_true = tf.cast(y_true[col], tf.float32).numpy()\n",
    "    tmp_y_pred = np.squeeze(y_pred[col].numpy())\n",
    "    if not(tmp_col in out_loss):\n",
    "      out_loss[tmp_col] = np.sum(np.square(tmp_y_true-tmp_y_pred))\n",
    "    else:\n",
    "      out_loss[tmp_col] += np.sum(np.square(tmp_y_true-tmp_y_pred))\n",
    "    if not(tmp_col in out_acc):\n",
    "      out_acc[tmp_col] = np.sum(np.square((tmp_y_true-tmp_y_pred)*tmp_std))\n",
    "    else:\n",
    "      out_acc[tmp_col] += np.sum(np.square((tmp_y_true-tmp_y_pred)*tmp_std))\n",
    "  for col in list(cat_cols.keys()):\n",
    "    tmp_col = col\n",
    "    if not(tmp_col in out_loss):\n",
    "      out_loss[tmp_col] = tf.keras.losses.SparseCategoricalCrossentropy()(tf.squeeze(y_true[col]), tf.squeeze(y_pred[col])).numpy()\n",
    "    else:\n",
    "      out_loss[tmp_col] += tf.keras.losses.SparseCategoricalCrossentropy()(tf.squeeze(y_true[col]), tf.squeeze(y_pred[col])).numpy()\n",
    "    if not(tmp_col in out_acc):\n",
    "      out_acc[tmp_col] = tf.reduce_sum(tf.dtypes.cast((y_true[col] == tf.argmax(y_pred[col], axis=-1)), tf.float32)).numpy()\n",
    "    else:\n",
    "      out_acc[tmp_col] += tf.reduce_sum(tf.dtypes.cast((y_true[col] == tf.argmax(y_pred[col], axis=-1)), tf.float32)).numpy()    \n",
    "  return(out_loss, out_acc)\n",
    "\n",
    "def format_output(out_loss, out_acc, n, cols, print_bl=False):\n",
    "  loss = 0\n",
    "  acc = 0\n",
    "  output = []\n",
    "  for col in cols:\n",
    "    output.append([col, out_loss[col]/n, out_acc[col]/n])\n",
    "    loss += out_loss[col]/n\n",
    "    acc += out_acc[col]/n\n",
    "  df = pd.DataFrame(output)\n",
    "  df.columns = ['name', 'loss', 'acc']\n",
    "  if print_bl:\n",
    "    print(df)\n",
    "  return(loss, acc, df)\n",
    "\n",
    "@tf.function\n",
    "def train_step(X, y, model, optimizer, cat_cols, num_cols):\n",
    "  with tf.GradientTape() as tape:\n",
    "    predictions = model(X)\n",
    "    i = 0\n",
    "    loss = tf.keras.losses.MSE(tf.cast(y[num_cols[i]], tf.float32), tf.squeeze(predictions[num_cols[i]]))\n",
    "    for i in range(1,len(num_cols)):\n",
    "      loss += tf.keras.losses.MSE(tf.cast(y[num_cols[i]], tf.float32), tf.squeeze(predictions[num_cols[i]]))\n",
    "    for col in list(cat_cols.keys()):\n",
    "      loss += tf.keras.losses.SparseCategoricalCrossentropy()(tf.squeeze(y[col]), tf.squeeze(predictions[col]))\n",
    "  gradients = tape.gradient(loss, model.trainable_variables)\n",
    "  mean_std = [x.name for x in model.non_trainable_variables if ('batch_norm') in x.name and ('mean' in x.name or 'variance' in x.name)]\n",
    "  with tf.control_dependencies(mean_std):\n",
    "    optimizer.apply_gradients(zip(gradients, model.trainable_variables))\n",
    "  return(y, predictions, loss)\n",
    "\n",
    "@tf.function\n",
    "def test_step(X, y, model):\n",
    "  predictions = model(X)\n",
    "  return(y, predictions)\n",
    "\n",
    "def epoch(data_iter, df, model, optimizer, cat_cols, num_cols, norm_dict):\n",
    "  out_loss = {}\n",
    "  out_acc = {}\n",
    "  n = 0.\n",
    "  n_batch = 0.\n",
    "  total_time_dataload = 0.\n",
    "  total_time_model = 0.\n",
    "  start_time = time.time()\n",
    "  for batch in data_iter:\n",
    "    total_time_dataload += time.time() - start_time\n",
    "    start_time = time.time()\n",
    "    t1 = (tf.cast(batch['t1'], tf.float32)-t1_mean)/t1_std\n",
    "    t2 = (batch['t2']-t2_mean)/t2_std\n",
    "    ad = batch['ad']\n",
    "    ad = tf.where(tf.math.is_nan(ad), tf.zeros_like(ad), ad)\n",
    "    ad = (ad-ad_mean)/ad_std\n",
    "    fa = batch['fa']\n",
    "    fa = tf.where(tf.math.is_nan(fa), tf.zeros_like(fa), fa)\n",
    "    fa = (fa-fa_mean)/fa_std\n",
    "    md = batch['md']\n",
    "    md = tf.where(tf.math.is_nan(md), tf.zeros_like(md), md)\n",
    "    md = (md-md_mean)/md_std\n",
    "    rd = batch['rd']\n",
    "    rd = tf.where(tf.math.is_nan(rd), tf.zeros_like(rd), rd)\n",
    "    rd = (rd-rd_mean)/rd_std\n",
    "    subjectid = decoder(batch['subjectid'])\n",
    "    y = get_labels(df, subjectid, list(cat_cols.keys())+num_cols)\n",
    "    X = tf.concat([t1, t2], axis=4)\n",
    "    #X = tf.concat([t1, t2], axis=4)\n",
    "    if optimizer != None:\n",
    "      y_true, y_pred, loss = train_step(X, y, model, optimizer, cat_cols, num_cols)\n",
    "    else:\n",
    "      y_true, y_pred = test_step(X, y, model)\n",
    "    out_loss, out_acc = calc_loss_acc(out_loss, out_acc, y_true, y_pred, cat_cols, num_cols, norm_dict)\n",
    "    n += X.shape[0]\n",
    "    n_batch += 1\n",
    "    if (n_batch % 10) == 0:\n",
    "      print(n_batch)\n",
    "    total_time_model += time.time() - start_time\n",
    "    start_time = time.time()\n",
    "  return (out_loss, out_acc, n, total_time_model, total_time_dataload)\n",
    "\n",
    "def get_labels(df, subjectid, cols = ['nihtbx_fluidcomp_uncorrected_norm']):\n",
    "  subjects_df = pd.DataFrame(subjectid)\n",
    "  result_df = pd.merge(subjects_df, df, left_on=0, right_on='subjectkey', how='left')\n",
    "  output = {}\n",
    "  for col in cols:\n",
    "    output[col] = np.asarray(result_df[col].values)\n",
    "  return output\n",
    "\n",
    "def best_val(df_best, df_val, df_test):\n",
    "  df_best = pd.merge(df_best, df_val, how='left', left_on='name', right_on='name')\n",
    "  df_best = pd.merge(df_best, df_test, how='left', left_on='name', right_on='name')\n",
    "  df_best.loc[df_best['best_loss_val']>=df_best['cur_loss_val'], 'best_loss_test'] = df_best.loc[df_best['best_loss_val']>=df_best['cur_loss_val'], 'cur_loss_test']\n",
    "  df_best.loc[df_best['best_loss_val']>=df_best['cur_loss_val'], 'best_loss_val'] = df_best.loc[df_best['best_loss_val']>=df_best['cur_loss_val'], 'cur_loss_val']\n",
    "  df_best.loc[(df_best['best_acc_val']<=df_best['cur_acc_val'])&(df_best['name'].isin(['female', 'race.ethnicity', 'high.educ_group', 'income_group', 'married'])), 'best_acc_test'] = df_best.loc[(df_best['best_acc_val']<=df_best['cur_acc_val'])&(df_best['name'].isin(['female', 'race.ethnicity', 'high.educ_group', 'income_group', 'married'])), 'cur_acc_test']\n",
    "  df_best.loc[(df_best['best_acc_val']<=df_best['cur_acc_val'])&(df_best['name'].isin(['female', 'race.ethnicity', 'high.educ_group', 'income_group', 'married'])), 'best_acc_val'] = df_best.loc[(df_best['best_acc_val']<=df_best['cur_acc_val'])&(df_best['name'].isin(['female', 'race.ethnicity', 'high.educ_group', 'income_group', 'married'])), 'cur_acc_val']\n",
    "  df_best.loc[(df_best['best_acc_val']>=df_best['cur_acc_val'])&(~df_best['name'].isin(['female', 'race.ethnicity', 'high.educ_group', 'income_group', 'married'])), 'best_acc_test'] = df_best.loc[(df_best['best_acc_val']>=df_best['cur_acc_val'])&(~df_best['name'].isin(['female', 'race.ethnicity', 'high.educ_group', 'income_group', 'married'])), 'cur_acc_test']\n",
    "  df_best.loc[(df_best['best_acc_val']>=df_best['cur_acc_val'])&(~df_best['name'].isin(['female', 'race.ethnicity', 'high.educ_group', 'income_group', 'married'])), 'best_acc_val'] = df_best.loc[(df_best['best_acc_val']>=df_best['cur_acc_val'])&(~df_best['name'].isin(['female', 'race.ethnicity', 'high.educ_group', 'income_group', 'married'])), 'cur_acc_val']\n",
    "  df_best = df_best.drop(['cur_loss_val', 'cur_acc_val', 'cur_loss_test', 'cur_acc_test'], axis=1)\n",
    "  return(df_best)"
   ]
  },
  {
   "cell_type": "code",
   "execution_count": 12,
   "metadata": {
    "colab": {
     "base_uri": "https://localhost:8080/",
     "height": 1000
    },
    "colab_type": "code",
    "executionInfo": {
     "elapsed": 46355,
     "status": "ok",
     "timestamp": 1573636701683,
     "user": {
      "displayName": "Benedikt Dietmar Schifferer",
      "photoUrl": "https://lh3.googleusercontent.com/a-/AAuE7mDViwxKXBjVKZfXMWGuXrQ48D62bye6HNutAOX0=s64",
      "userId": "06737229821528734971"
     },
     "user_tz": -60
    },
    "id": "RV24LE3k-00n",
    "outputId": "067125be-6ce2-40c9-998e-62f800ccb2f1",
    "papermill": {
     "duration": 4409.246622,
     "end_time": "2019-11-15T13:25:15.817796",
     "exception": false,
     "start_time": "2019-11-15T12:11:46.571174",
     "status": "completed"
    },
    "tags": []
   },
   "outputs": [
    {
     "name": "stdout",
     "output_type": "stream",
     "text": [
      "{'married': 6, 'high.educ_group': 4, 'race.ethnicity': 5, 'female': 2, 'income_group': 8}\n",
      "['nihtbx_cardsort_uncorrected_norm', 'nihtbx_cryst_uncorrected_norm', 'nihtbx_flanker_uncorrected_norm', 'nihtbx_fluidcomp_uncorrected_norm', 'nihtbx_list_uncorrected_norm', 'nihtbx_pattern_uncorrected_norm', 'nihtbx_picture_uncorrected_norm', 'nihtbx_picvocab_uncorrected_norm', 'nihtbx_reading_uncorrected_norm', 'nihtbx_totalcomp_uncorrected_norm']\n"
     ]
    },
    {
     "name": "stdout",
     "output_type": "stream",
     "text": [
      "Epochs: 0\n"
     ]
    },
    {
     "name": "stdout",
     "output_type": "stream",
     "text": [
      "10.0\n"
     ]
    },
    {
     "name": "stdout",
     "output_type": "stream",
     "text": [
      "20.0\n"
     ]
    },
    {
     "name": "stdout",
     "output_type": "stream",
     "text": [
      "30.0\n"
     ]
    },
    {
     "name": "stdout",
     "output_type": "stream",
     "text": [
      "40.0\n"
     ]
    },
    {
     "name": "stdout",
     "output_type": "stream",
     "text": [
      "50.0\n"
     ]
    },
    {
     "name": "stdout",
     "output_type": "stream",
     "text": [
      "60.0\n"
     ]
    },
    {
     "name": "stdout",
     "output_type": "stream",
     "text": [
      "70.0\n"
     ]
    },
    {
     "name": "stdout",
     "output_type": "stream",
     "text": [
      "10.0\n"
     ]
    },
    {
     "name": "stdout",
     "output_type": "stream",
     "text": [
      "10.0\n"
     ]
    },
    {
     "name": "stdout",
     "output_type": "stream",
     "text": [
      "                                 name  best_loss_test  best_acc_test\n",
      "0                     high.educ_group        0.051685       0.926230\n",
      "1                             married        0.080453       0.860656\n",
      "2                              female        0.090859       0.540984\n",
      "3                        income_group        0.247659       0.245902\n",
      "4                      race.ethnicity        0.098571       0.778689\n",
      "5    nihtbx_cardsort_uncorrected_norm        0.733885       0.630793\n",
      "6       nihtbx_cryst_uncorrected_norm        0.995625       0.612806\n",
      "7     nihtbx_flanker_uncorrected_norm        0.798861       0.657315\n",
      "8   nihtbx_fluidcomp_uncorrected_norm        0.769605       0.577252\n",
      "9        nihtbx_list_uncorrected_norm        0.794931       0.629460\n",
      "10    nihtbx_pattern_uncorrected_norm        0.728807       0.655897\n",
      "11    nihtbx_picture_uncorrected_norm        0.777899       0.713629\n",
      "12   nihtbx_picvocab_uncorrected_norm        1.104372       0.713611\n",
      "13    nihtbx_reading_uncorrected_norm        0.799974       0.587911\n",
      "14  nihtbx_totalcomp_uncorrected_norm        0.858930       0.531547\n",
      "                                 name  best_loss_val  best_acc_val\n",
      "0                     high.educ_group       0.059065      0.836066\n",
      "1                             married       0.071381      0.819672\n",
      "2                              female       0.086419      0.491803\n",
      "3                        income_group       0.217107      0.360656\n",
      "4                      race.ethnicity       0.080116      0.786885\n",
      "5    nihtbx_cardsort_uncorrected_norm       0.805833      0.692635\n",
      "6       nihtbx_cryst_uncorrected_norm       0.940235      0.578714\n",
      "7     nihtbx_flanker_uncorrected_norm       0.963838      0.793061\n",
      "8   nihtbx_fluidcomp_uncorrected_norm       0.922436      0.691884\n",
      "9        nihtbx_list_uncorrected_norm       0.740534      0.586386\n",
      "10    nihtbx_pattern_uncorrected_norm       0.868649      0.781749\n",
      "11    nihtbx_picture_uncorrected_norm       1.029808      0.944724\n",
      "12   nihtbx_picvocab_uncorrected_norm       0.986564      0.637487\n",
      "13    nihtbx_reading_uncorrected_norm       0.812907      0.597415\n",
      "14  nihtbx_totalcomp_uncorrected_norm       0.817554      0.505942\n",
      "Epoch 0, Loss: 48.924, Accuracy: 51.025, Val Loss: 9.402, Val Accuracy: 10.105, Time Model: 232.426, Time Data: 1.311\n",
      "Epochs: 1\n"
     ]
    },
    {
     "name": "stdout",
     "output_type": "stream",
     "text": [
      "10.0\n"
     ]
    },
    {
     "name": "stdout",
     "output_type": "stream",
     "text": [
      "20.0\n"
     ]
    },
    {
     "name": "stdout",
     "output_type": "stream",
     "text": [
      "30.0\n"
     ]
    },
    {
     "name": "stdout",
     "output_type": "stream",
     "text": [
      "40.0\n"
     ]
    },
    {
     "name": "stdout",
     "output_type": "stream",
     "text": [
      "50.0\n"
     ]
    },
    {
     "name": "stdout",
     "output_type": "stream",
     "text": [
      "60.0\n"
     ]
    },
    {
     "name": "stdout",
     "output_type": "stream",
     "text": [
      "70.0\n"
     ]
    },
    {
     "name": "stdout",
     "output_type": "stream",
     "text": [
      "10.0\n"
     ]
    },
    {
     "name": "stdout",
     "output_type": "stream",
     "text": [
      "10.0\n"
     ]
    },
    {
     "name": "stdout",
     "output_type": "stream",
     "text": [
      "                                 name  best_loss_test  best_acc_test\n",
      "0                     high.educ_group        0.045206       0.926230\n",
      "1                             married        0.080453       0.860656\n",
      "2                              female        0.089146       0.540984\n",
      "3                        income_group        0.247186       0.245902\n",
      "4                      race.ethnicity        0.093227       0.778689\n",
      "5    nihtbx_cardsort_uncorrected_norm        0.738855       0.635066\n",
      "6       nihtbx_cryst_uncorrected_norm        0.995625       0.612806\n",
      "7     nihtbx_flanker_uncorrected_norm        0.780069       0.641853\n",
      "8   nihtbx_fluidcomp_uncorrected_norm        0.765530       0.574195\n",
      "9        nihtbx_list_uncorrected_norm        0.804919       0.637369\n",
      "10    nihtbx_pattern_uncorrected_norm        0.725844       0.653231\n",
      "11    nihtbx_picture_uncorrected_norm        0.753900       0.691612\n",
      "12   nihtbx_picvocab_uncorrected_norm        1.104372       0.713611\n",
      "13    nihtbx_reading_uncorrected_norm        0.793564       0.583200\n",
      "14  nihtbx_totalcomp_uncorrected_norm        0.850288       0.526198\n",
      "                                 name  best_loss_val  best_acc_val\n",
      "0                     high.educ_group       0.053590      0.836066\n",
      "1                             married       0.071381      0.819672\n",
      "2                              female       0.083769      0.491803\n",
      "3                        income_group       0.215296      0.360656\n",
      "4                      race.ethnicity       0.076366      0.786885\n",
      "5    nihtbx_cardsort_uncorrected_norm       0.794669      0.683039\n",
      "6       nihtbx_cryst_uncorrected_norm       0.940235      0.578714\n",
      "7     nihtbx_flanker_uncorrected_norm       0.935872      0.770050\n",
      "8   nihtbx_fluidcomp_uncorrected_norm       0.906446      0.679890\n",
      "9        nihtbx_list_uncorrected_norm       0.723271      0.572716\n",
      "10    nihtbx_pattern_uncorrected_norm       0.862841      0.776521\n",
      "11    nihtbx_picture_uncorrected_norm       1.015430      0.931534\n",
      "12   nihtbx_picvocab_uncorrected_norm       0.986564      0.637487\n",
      "13    nihtbx_reading_uncorrected_norm       0.803396      0.590426\n",
      "14  nihtbx_totalcomp_uncorrected_norm       0.802723      0.496763\n",
      "Epoch 1, Loss: 47.314, Accuracy: 52.131, Val Loss: 9.277, Val Accuracy: 10.015, Time Model: 197.127, Time Data: 1.293\n",
      "Epochs: 2\n"
     ]
    },
    {
     "name": "stdout",
     "output_type": "stream",
     "text": [
      "10.0\n"
     ]
    },
    {
     "name": "stdout",
     "output_type": "stream",
     "text": [
      "20.0\n"
     ]
    },
    {
     "name": "stdout",
     "output_type": "stream",
     "text": [
      "30.0\n"
     ]
    },
    {
     "name": "stdout",
     "output_type": "stream",
     "text": [
      "40.0\n"
     ]
    },
    {
     "name": "stdout",
     "output_type": "stream",
     "text": [
      "50.0\n"
     ]
    },
    {
     "name": "stdout",
     "output_type": "stream",
     "text": [
      "60.0\n"
     ]
    },
    {
     "name": "stdout",
     "output_type": "stream",
     "text": [
      "70.0\n"
     ]
    },
    {
     "name": "stdout",
     "output_type": "stream",
     "text": [
      "10.0\n"
     ]
    },
    {
     "name": "stdout",
     "output_type": "stream",
     "text": [
      "10.0\n"
     ]
    },
    {
     "name": "stdout",
     "output_type": "stream",
     "text": [
      "                                 name  best_loss_test  best_acc_test\n",
      "0                     high.educ_group        0.043764       0.926230\n",
      "1                             married        0.080874       0.860656\n",
      "2                              female        0.089146       0.540984\n",
      "3                        income_group        0.247186       0.245902\n",
      "4                      race.ethnicity        0.093598       0.778689\n",
      "5    nihtbx_cardsort_uncorrected_norm        0.738855       0.635066\n",
      "6       nihtbx_cryst_uncorrected_norm        0.995625       0.612806\n",
      "7     nihtbx_flanker_uncorrected_norm        0.780069       0.641853\n",
      "8   nihtbx_fluidcomp_uncorrected_norm        0.765530       0.574195\n",
      "9        nihtbx_list_uncorrected_norm        0.804919       0.637369\n",
      "10    nihtbx_pattern_uncorrected_norm        0.725844       0.653231\n",
      "11    nihtbx_picture_uncorrected_norm        0.754831       0.692466\n",
      "12   nihtbx_picvocab_uncorrected_norm        1.104372       0.713611\n",
      "13    nihtbx_reading_uncorrected_norm        0.793564       0.583200\n",
      "14  nihtbx_totalcomp_uncorrected_norm        0.850288       0.526198\n",
      "                                 name  best_loss_val  best_acc_val\n",
      "0                     high.educ_group       0.052473      0.836066\n",
      "1                             married       0.068791      0.819672\n",
      "2                              female       0.083769      0.491803\n",
      "3                        income_group       0.215296      0.360656\n",
      "4                      race.ethnicity       0.073015      0.786885\n",
      "5    nihtbx_cardsort_uncorrected_norm       0.794669      0.683039\n",
      "6       nihtbx_cryst_uncorrected_norm       0.940235      0.578714\n",
      "7     nihtbx_flanker_uncorrected_norm       0.935872      0.770050\n",
      "8   nihtbx_fluidcomp_uncorrected_norm       0.906446      0.679890\n",
      "9        nihtbx_list_uncorrected_norm       0.723271      0.572716\n",
      "10    nihtbx_pattern_uncorrected_norm       0.862841      0.776521\n",
      "11    nihtbx_picture_uncorrected_norm       1.014618      0.930789\n",
      "12   nihtbx_picvocab_uncorrected_norm       0.986564      0.637487\n",
      "13    nihtbx_reading_uncorrected_norm       0.803396      0.590426\n",
      "14  nihtbx_totalcomp_uncorrected_norm       0.802723      0.496763\n",
      "Epoch 2, Loss: 47.171, Accuracy: 52.003, Val Loss: 9.528, Val Accuracy: 10.172, Time Model: 196.948, Time Data: 1.342\n",
      "Epochs: 3\n"
     ]
    },
    {
     "name": "stdout",
     "output_type": "stream",
     "text": [
      "10.0\n"
     ]
    },
    {
     "name": "stdout",
     "output_type": "stream",
     "text": [
      "20.0\n"
     ]
    },
    {
     "name": "stdout",
     "output_type": "stream",
     "text": [
      "30.0\n"
     ]
    },
    {
     "name": "stdout",
     "output_type": "stream",
     "text": [
      "40.0\n"
     ]
    },
    {
     "name": "stdout",
     "output_type": "stream",
     "text": [
      "50.0\n"
     ]
    },
    {
     "name": "stdout",
     "output_type": "stream",
     "text": [
      "60.0\n"
     ]
    },
    {
     "name": "stdout",
     "output_type": "stream",
     "text": [
      "70.0\n"
     ]
    },
    {
     "name": "stdout",
     "output_type": "stream",
     "text": [
      "10.0\n"
     ]
    },
    {
     "name": "stdout",
     "output_type": "stream",
     "text": [
      "10.0\n"
     ]
    },
    {
     "name": "stdout",
     "output_type": "stream",
     "text": [
      "                                 name  best_loss_test  best_acc_test\n",
      "0                     high.educ_group        0.042631       0.926230\n",
      "1                             married        0.080874       0.860656\n",
      "2                              female        0.089146       0.540984\n",
      "3                        income_group        0.247186       0.245902\n",
      "4                      race.ethnicity        0.093598       0.778689\n",
      "5    nihtbx_cardsort_uncorrected_norm        0.738855       0.635066\n",
      "6       nihtbx_cryst_uncorrected_norm        0.995625       0.612806\n",
      "7     nihtbx_flanker_uncorrected_norm        0.780794       0.642449\n",
      "8   nihtbx_fluidcomp_uncorrected_norm        0.765139       0.573902\n",
      "9        nihtbx_list_uncorrected_norm        0.804919       0.637369\n",
      "10    nihtbx_pattern_uncorrected_norm        0.725844       0.653231\n",
      "11    nihtbx_picture_uncorrected_norm        0.754831       0.692466\n",
      "12   nihtbx_picvocab_uncorrected_norm        1.104372       0.713611\n",
      "13    nihtbx_reading_uncorrected_norm        0.793564       0.583200\n",
      "14  nihtbx_totalcomp_uncorrected_norm        0.850288       0.526198\n",
      "                                 name  best_loss_val  best_acc_val\n",
      "0                     high.educ_group       0.050292      0.836066\n",
      "1                             married       0.068791      0.819672\n",
      "2                              female       0.083769      0.491803\n",
      "3                        income_group       0.215296      0.360656\n",
      "4                      race.ethnicity       0.073015      0.786885\n",
      "5    nihtbx_cardsort_uncorrected_norm       0.794669      0.683039\n",
      "6       nihtbx_cryst_uncorrected_norm       0.940235      0.578714\n",
      "7     nihtbx_flanker_uncorrected_norm       0.929080      0.764461\n",
      "8   nihtbx_fluidcomp_uncorrected_norm       0.888547      0.666465\n",
      "9        nihtbx_list_uncorrected_norm       0.723271      0.572716\n",
      "10    nihtbx_pattern_uncorrected_norm       0.862841      0.776521\n",
      "11    nihtbx_picture_uncorrected_norm       1.014618      0.930789\n",
      "12   nihtbx_picvocab_uncorrected_norm       0.986564      0.637487\n",
      "13    nihtbx_reading_uncorrected_norm       0.803396      0.590426\n",
      "14  nihtbx_totalcomp_uncorrected_norm       0.802723      0.496763\n",
      "Epoch 3, Loss: 47.076, Accuracy: 51.985, Val Loss: 9.405, Val Accuracy: 10.081, Time Model: 197.119, Time Data: 1.346\n",
      "Epochs: 4\n"
     ]
    },
    {
     "name": "stdout",
     "output_type": "stream",
     "text": [
      "10.0\n"
     ]
    },
    {
     "name": "stdout",
     "output_type": "stream",
     "text": [
      "20.0\n"
     ]
    },
    {
     "name": "stdout",
     "output_type": "stream",
     "text": [
      "30.0\n"
     ]
    },
    {
     "name": "stdout",
     "output_type": "stream",
     "text": [
      "40.0\n"
     ]
    },
    {
     "name": "stdout",
     "output_type": "stream",
     "text": [
      "50.0\n"
     ]
    },
    {
     "name": "stdout",
     "output_type": "stream",
     "text": [
      "60.0\n"
     ]
    },
    {
     "name": "stdout",
     "output_type": "stream",
     "text": [
      "70.0\n"
     ]
    },
    {
     "name": "stdout",
     "output_type": "stream",
     "text": [
      "10.0\n"
     ]
    },
    {
     "name": "stdout",
     "output_type": "stream",
     "text": [
      "10.0\n"
     ]
    },
    {
     "name": "stdout",
     "output_type": "stream",
     "text": [
      "                                 name  best_loss_test  best_acc_test\n",
      "0                     high.educ_group        0.042631       0.926230\n",
      "1                             married        0.080874       0.860656\n",
      "2                              female        0.089146       0.540984\n",
      "3                        income_group        0.247186       0.245902\n",
      "4                      race.ethnicity        0.093598       0.778689\n",
      "5    nihtbx_cardsort_uncorrected_norm        0.738855       0.635066\n",
      "6       nihtbx_cryst_uncorrected_norm        0.995625       0.612806\n",
      "7     nihtbx_flanker_uncorrected_norm        0.780794       0.642449\n",
      "8   nihtbx_fluidcomp_uncorrected_norm        0.765139       0.573902\n",
      "9        nihtbx_list_uncorrected_norm        0.804919       0.637369\n",
      "10    nihtbx_pattern_uncorrected_norm        0.715504       0.643924\n",
      "11    nihtbx_picture_uncorrected_norm        0.754831       0.692466\n",
      "12   nihtbx_picvocab_uncorrected_norm        1.104372       0.713611\n",
      "13    nihtbx_reading_uncorrected_norm        0.793564       0.583200\n",
      "14  nihtbx_totalcomp_uncorrected_norm        0.850288       0.526198\n",
      "                                 name  best_loss_val  best_acc_val\n",
      "0                     high.educ_group       0.050292      0.836066\n",
      "1                             married       0.068791      0.819672\n",
      "2                              female       0.083769      0.491803\n",
      "3                        income_group       0.215296      0.360656\n",
      "4                      race.ethnicity       0.073015      0.786885\n",
      "5    nihtbx_cardsort_uncorrected_norm       0.794669      0.683039\n",
      "6       nihtbx_cryst_uncorrected_norm       0.940235      0.578714\n",
      "7     nihtbx_flanker_uncorrected_norm       0.929080      0.764461\n",
      "8   nihtbx_fluidcomp_uncorrected_norm       0.888547      0.666465\n",
      "9        nihtbx_list_uncorrected_norm       0.723271      0.572716\n",
      "10    nihtbx_pattern_uncorrected_norm       0.834944      0.751415\n",
      "11    nihtbx_picture_uncorrected_norm       1.014618      0.930789\n",
      "12   nihtbx_picvocab_uncorrected_norm       0.986564      0.637487\n",
      "13    nihtbx_reading_uncorrected_norm       0.803396      0.590426\n",
      "14  nihtbx_totalcomp_uncorrected_norm       0.802723      0.496763\n",
      "Epoch 4, Loss: 46.835, Accuracy: 51.886, Val Loss: 14.330, Val Accuracy: 13.950, Time Model: 196.903, Time Data: 1.394\n",
      "Epochs: 5\n"
     ]
    },
    {
     "name": "stdout",
     "output_type": "stream",
     "text": [
      "10.0\n"
     ]
    },
    {
     "name": "stdout",
     "output_type": "stream",
     "text": [
      "20.0\n"
     ]
    },
    {
     "name": "stdout",
     "output_type": "stream",
     "text": [
      "30.0\n"
     ]
    },
    {
     "name": "stdout",
     "output_type": "stream",
     "text": [
      "40.0\n"
     ]
    },
    {
     "name": "stdout",
     "output_type": "stream",
     "text": [
      "50.0\n"
     ]
    },
    {
     "name": "stdout",
     "output_type": "stream",
     "text": [
      "60.0\n"
     ]
    },
    {
     "name": "stdout",
     "output_type": "stream",
     "text": [
      "70.0\n"
     ]
    },
    {
     "name": "stdout",
     "output_type": "stream",
     "text": [
      "10.0\n"
     ]
    },
    {
     "name": "stdout",
     "output_type": "stream",
     "text": [
      "10.0\n"
     ]
    },
    {
     "name": "stdout",
     "output_type": "stream",
     "text": [
      "                                 name  best_loss_test  best_acc_test\n",
      "0                     high.educ_group        0.042631       0.926230\n",
      "1                             married        0.080874       0.860656\n",
      "2                              female        0.089146       0.540984\n",
      "3                        income_group        0.247186       0.245902\n",
      "4                      race.ethnicity        0.093598       0.778689\n",
      "5    nihtbx_cardsort_uncorrected_norm        0.738855       0.635066\n",
      "6       nihtbx_cryst_uncorrected_norm        0.995625       0.612806\n",
      "7     nihtbx_flanker_uncorrected_norm        0.780794       0.642449\n",
      "8   nihtbx_fluidcomp_uncorrected_norm        0.765139       0.573902\n",
      "9        nihtbx_list_uncorrected_norm        0.804919       0.637369\n",
      "10    nihtbx_pattern_uncorrected_norm        0.715504       0.643924\n",
      "11    nihtbx_picture_uncorrected_norm        0.754831       0.692466\n",
      "12   nihtbx_picvocab_uncorrected_norm        1.104372       0.713611\n",
      "13    nihtbx_reading_uncorrected_norm        0.793564       0.583200\n",
      "14  nihtbx_totalcomp_uncorrected_norm        0.850288       0.526198\n",
      "                                 name  best_loss_val  best_acc_val\n",
      "0                     high.educ_group       0.050292      0.836066\n",
      "1                             married       0.068791      0.819672\n",
      "2                              female       0.083769      0.491803\n",
      "3                        income_group       0.215296      0.360656\n",
      "4                      race.ethnicity       0.073015      0.786885\n",
      "5    nihtbx_cardsort_uncorrected_norm       0.794669      0.683039\n",
      "6       nihtbx_cryst_uncorrected_norm       0.940235      0.578714\n",
      "7     nihtbx_flanker_uncorrected_norm       0.929080      0.764461\n",
      "8   nihtbx_fluidcomp_uncorrected_norm       0.888547      0.666465\n",
      "9        nihtbx_list_uncorrected_norm       0.723271      0.572716\n",
      "10    nihtbx_pattern_uncorrected_norm       0.834944      0.751415\n",
      "11    nihtbx_picture_uncorrected_norm       1.014618      0.930789\n",
      "12   nihtbx_picvocab_uncorrected_norm       0.986564      0.637487\n",
      "13    nihtbx_reading_uncorrected_norm       0.803396      0.590426\n",
      "14  nihtbx_totalcomp_uncorrected_norm       0.802723      0.496763\n",
      "Epoch 5, Loss: 46.710, Accuracy: 51.819, Val Loss: 10.907, Val Accuracy: 11.194, Time Model: 196.793, Time Data: 1.302\n",
      "Epochs: 6\n"
     ]
    },
    {
     "name": "stdout",
     "output_type": "stream",
     "text": [
      "10.0\n"
     ]
    },
    {
     "name": "stdout",
     "output_type": "stream",
     "text": [
      "20.0\n"
     ]
    },
    {
     "name": "stdout",
     "output_type": "stream",
     "text": [
      "30.0\n"
     ]
    },
    {
     "name": "stdout",
     "output_type": "stream",
     "text": [
      "40.0\n"
     ]
    },
    {
     "name": "stdout",
     "output_type": "stream",
     "text": [
      "50.0\n"
     ]
    },
    {
     "name": "stdout",
     "output_type": "stream",
     "text": [
      "60.0\n"
     ]
    },
    {
     "name": "stdout",
     "output_type": "stream",
     "text": [
      "70.0\n"
     ]
    },
    {
     "name": "stdout",
     "output_type": "stream",
     "text": [
      "10.0\n"
     ]
    },
    {
     "name": "stdout",
     "output_type": "stream",
     "text": [
      "10.0\n"
     ]
    },
    {
     "name": "stdout",
     "output_type": "stream",
     "text": [
      "                                 name  best_loss_test  best_acc_test\n",
      "0                     high.educ_group        0.042631       0.926230\n",
      "1                             married        0.080874       0.860656\n",
      "2                              female        0.089146       0.540984\n",
      "3                        income_group        0.247186       0.245902\n",
      "4                      race.ethnicity        0.093598       0.778689\n",
      "5    nihtbx_cardsort_uncorrected_norm        0.738855       0.635066\n",
      "6       nihtbx_cryst_uncorrected_norm        0.995625       0.612806\n",
      "7     nihtbx_flanker_uncorrected_norm        0.780794       0.642449\n",
      "8   nihtbx_fluidcomp_uncorrected_norm        0.765139       0.573902\n",
      "9        nihtbx_list_uncorrected_norm        0.804919       0.637369\n",
      "10    nihtbx_pattern_uncorrected_norm        0.715504       0.643924\n",
      "11    nihtbx_picture_uncorrected_norm        0.754831       0.692466\n",
      "12   nihtbx_picvocab_uncorrected_norm        1.104372       0.713611\n",
      "13    nihtbx_reading_uncorrected_norm        0.793564       0.583200\n",
      "14  nihtbx_totalcomp_uncorrected_norm        0.850288       0.526198\n",
      "                                 name  best_loss_val  best_acc_val\n",
      "0                     high.educ_group       0.050292      0.836066\n",
      "1                             married       0.068791      0.819672\n",
      "2                              female       0.083769      0.491803\n",
      "3                        income_group       0.215296      0.360656\n",
      "4                      race.ethnicity       0.073015      0.786885\n",
      "5    nihtbx_cardsort_uncorrected_norm       0.794669      0.683039\n",
      "6       nihtbx_cryst_uncorrected_norm       0.940235      0.578714\n",
      "7     nihtbx_flanker_uncorrected_norm       0.929080      0.764461\n",
      "8   nihtbx_fluidcomp_uncorrected_norm       0.888547      0.666465\n",
      "9        nihtbx_list_uncorrected_norm       0.723271      0.572716\n",
      "10    nihtbx_pattern_uncorrected_norm       0.834944      0.751415\n",
      "11    nihtbx_picture_uncorrected_norm       1.014618      0.930789\n",
      "12   nihtbx_picvocab_uncorrected_norm       0.986564      0.637487\n",
      "13    nihtbx_reading_uncorrected_norm       0.803396      0.590426\n",
      "14  nihtbx_totalcomp_uncorrected_norm       0.802723      0.496763\n",
      "Epoch 6, Loss: 46.679, Accuracy: 51.897, Val Loss: 12.972, Val Accuracy: 11.278, Time Model: 196.850, Time Data: 1.345\n",
      "Epochs: 7\n"
     ]
    },
    {
     "name": "stdout",
     "output_type": "stream",
     "text": [
      "10.0\n"
     ]
    },
    {
     "name": "stdout",
     "output_type": "stream",
     "text": [
      "20.0\n"
     ]
    },
    {
     "name": "stdout",
     "output_type": "stream",
     "text": [
      "30.0\n"
     ]
    },
    {
     "name": "stdout",
     "output_type": "stream",
     "text": [
      "40.0\n"
     ]
    },
    {
     "name": "stdout",
     "output_type": "stream",
     "text": [
      "50.0\n"
     ]
    },
    {
     "name": "stdout",
     "output_type": "stream",
     "text": [
      "60.0\n"
     ]
    },
    {
     "name": "stdout",
     "output_type": "stream",
     "text": [
      "70.0\n"
     ]
    },
    {
     "name": "stdout",
     "output_type": "stream",
     "text": [
      "10.0\n"
     ]
    },
    {
     "name": "stdout",
     "output_type": "stream",
     "text": [
      "10.0\n"
     ]
    },
    {
     "name": "stdout",
     "output_type": "stream",
     "text": [
      "                                 name  best_loss_test  best_acc_test\n",
      "0                     high.educ_group        0.043125       0.926230\n",
      "1                             married        0.080874       0.860656\n",
      "2                              female        0.089146       0.540984\n",
      "3                        income_group        0.247186       0.245902\n",
      "4                      race.ethnicity        0.093598       0.778689\n",
      "5    nihtbx_cardsort_uncorrected_norm        0.738855       0.635066\n",
      "6       nihtbx_cryst_uncorrected_norm        0.995625       0.612806\n",
      "7     nihtbx_flanker_uncorrected_norm        0.780794       0.642449\n",
      "8   nihtbx_fluidcomp_uncorrected_norm        0.765139       0.573902\n",
      "9        nihtbx_list_uncorrected_norm        0.804919       0.637369\n",
      "10    nihtbx_pattern_uncorrected_norm        0.715504       0.643924\n",
      "11    nihtbx_picture_uncorrected_norm        0.754831       0.692466\n",
      "12   nihtbx_picvocab_uncorrected_norm        1.104372       0.713611\n",
      "13    nihtbx_reading_uncorrected_norm        0.793564       0.583200\n",
      "14  nihtbx_totalcomp_uncorrected_norm        0.850288       0.526198\n",
      "                                 name  best_loss_val  best_acc_val\n",
      "0                     high.educ_group       0.048048      0.836066\n",
      "1                             married       0.068791      0.819672\n",
      "2                              female       0.083769      0.491803\n",
      "3                        income_group       0.215296      0.360656\n",
      "4                      race.ethnicity       0.073015      0.786885\n",
      "5    nihtbx_cardsort_uncorrected_norm       0.794669      0.683039\n",
      "6       nihtbx_cryst_uncorrected_norm       0.940235      0.578714\n",
      "7     nihtbx_flanker_uncorrected_norm       0.929080      0.764461\n",
      "8   nihtbx_fluidcomp_uncorrected_norm       0.888547      0.666465\n",
      "9        nihtbx_list_uncorrected_norm       0.723271      0.572716\n",
      "10    nihtbx_pattern_uncorrected_norm       0.834944      0.751415\n",
      "11    nihtbx_picture_uncorrected_norm       1.014618      0.930789\n",
      "12   nihtbx_picvocab_uncorrected_norm       0.986564      0.637487\n",
      "13    nihtbx_reading_uncorrected_norm       0.803396      0.590426\n",
      "14  nihtbx_totalcomp_uncorrected_norm       0.802723      0.496763\n",
      "Epoch 7, Loss: 46.687, Accuracy: 51.753, Val Loss: 12.774, Val Accuracy: 12.317, Time Model: 196.846, Time Data: 1.342\n",
      "Epochs: 8\n"
     ]
    },
    {
     "name": "stdout",
     "output_type": "stream",
     "text": [
      "10.0\n"
     ]
    },
    {
     "name": "stdout",
     "output_type": "stream",
     "text": [
      "20.0\n"
     ]
    },
    {
     "name": "stdout",
     "output_type": "stream",
     "text": [
      "30.0\n"
     ]
    },
    {
     "name": "stdout",
     "output_type": "stream",
     "text": [
      "40.0\n"
     ]
    },
    {
     "name": "stdout",
     "output_type": "stream",
     "text": [
      "50.0\n"
     ]
    },
    {
     "name": "stdout",
     "output_type": "stream",
     "text": [
      "60.0\n"
     ]
    },
    {
     "name": "stdout",
     "output_type": "stream",
     "text": [
      "70.0\n"
     ]
    },
    {
     "name": "stdout",
     "output_type": "stream",
     "text": [
      "10.0\n"
     ]
    },
    {
     "name": "stdout",
     "output_type": "stream",
     "text": [
      "10.0\n"
     ]
    },
    {
     "name": "stdout",
     "output_type": "stream",
     "text": [
      "                                 name  best_loss_test  best_acc_test\n",
      "0                     high.educ_group        0.043125       0.926230\n",
      "1                             married        0.080874       0.860656\n",
      "2                              female        0.089146       0.540984\n",
      "3                        income_group        0.247186       0.245902\n",
      "4                      race.ethnicity        0.093598       0.778689\n",
      "5    nihtbx_cardsort_uncorrected_norm        0.738855       0.635066\n",
      "6       nihtbx_cryst_uncorrected_norm        0.995625       0.612806\n",
      "7     nihtbx_flanker_uncorrected_norm        0.780794       0.642449\n",
      "8   nihtbx_fluidcomp_uncorrected_norm        0.828637       0.621529\n",
      "9        nihtbx_list_uncorrected_norm        0.804919       0.637369\n",
      "10    nihtbx_pattern_uncorrected_norm        0.715504       0.643924\n",
      "11    nihtbx_picture_uncorrected_norm        0.754831       0.692466\n",
      "12   nihtbx_picvocab_uncorrected_norm        1.104372       0.713611\n",
      "13    nihtbx_reading_uncorrected_norm        0.793564       0.583200\n",
      "14  nihtbx_totalcomp_uncorrected_norm        0.857278       0.530525\n",
      "                                 name  best_loss_val  best_acc_val\n",
      "0                     high.educ_group       0.048048      0.836066\n",
      "1                             married       0.068791      0.819672\n",
      "2                              female       0.083769      0.491803\n",
      "3                        income_group       0.215296      0.360656\n",
      "4                      race.ethnicity       0.073015      0.786885\n",
      "5    nihtbx_cardsort_uncorrected_norm       0.794669      0.683039\n",
      "6       nihtbx_cryst_uncorrected_norm       0.940235      0.578714\n",
      "7     nihtbx_flanker_uncorrected_norm       0.929080      0.764461\n",
      "8   nihtbx_fluidcomp_uncorrected_norm       0.880329      0.660301\n",
      "9        nihtbx_list_uncorrected_norm       0.723271      0.572716\n",
      "10    nihtbx_pattern_uncorrected_norm       0.834944      0.751415\n",
      "11    nihtbx_picture_uncorrected_norm       1.014618      0.930789\n",
      "12   nihtbx_picvocab_uncorrected_norm       0.986564      0.637487\n",
      "13    nihtbx_reading_uncorrected_norm       0.803396      0.590426\n",
      "14  nihtbx_totalcomp_uncorrected_norm       0.792509      0.490442\n",
      "Epoch 8, Loss: 46.646, Accuracy: 51.902, Val Loss: 11.299, Val Accuracy: 10.996, Time Model: 196.817, Time Data: 1.308\n",
      "Epochs: 9\n"
     ]
    },
    {
     "name": "stdout",
     "output_type": "stream",
     "text": [
      "10.0\n"
     ]
    },
    {
     "name": "stdout",
     "output_type": "stream",
     "text": [
      "20.0\n"
     ]
    },
    {
     "name": "stdout",
     "output_type": "stream",
     "text": [
      "30.0\n"
     ]
    },
    {
     "name": "stdout",
     "output_type": "stream",
     "text": [
      "40.0\n"
     ]
    },
    {
     "name": "stdout",
     "output_type": "stream",
     "text": [
      "50.0\n"
     ]
    },
    {
     "name": "stdout",
     "output_type": "stream",
     "text": [
      "60.0\n"
     ]
    },
    {
     "name": "stdout",
     "output_type": "stream",
     "text": [
      "70.0\n"
     ]
    },
    {
     "name": "stdout",
     "output_type": "stream",
     "text": [
      "10.0\n"
     ]
    },
    {
     "name": "stdout",
     "output_type": "stream",
     "text": [
      "10.0\n"
     ]
    },
    {
     "name": "stdout",
     "output_type": "stream",
     "text": [
      "                                 name  best_loss_test  best_acc_test\n",
      "0                     high.educ_group        0.043125       0.926230\n",
      "1                             married        0.080874       0.860656\n",
      "2                              female        0.089146       0.540984\n",
      "3                        income_group        0.247186       0.245902\n",
      "4                      race.ethnicity        0.093598       0.778689\n",
      "5    nihtbx_cardsort_uncorrected_norm        0.738855       0.635066\n",
      "6       nihtbx_cryst_uncorrected_norm        0.995625       0.612806\n",
      "7     nihtbx_flanker_uncorrected_norm        0.780794       0.642449\n",
      "8   nihtbx_fluidcomp_uncorrected_norm        0.828637       0.621529\n",
      "9        nihtbx_list_uncorrected_norm        0.804919       0.637369\n",
      "10    nihtbx_pattern_uncorrected_norm        0.715504       0.643924\n",
      "11    nihtbx_picture_uncorrected_norm        0.754831       0.692466\n",
      "12   nihtbx_picvocab_uncorrected_norm        1.104372       0.713611\n",
      "13    nihtbx_reading_uncorrected_norm        0.793564       0.583200\n",
      "14  nihtbx_totalcomp_uncorrected_norm        0.857278       0.530525\n",
      "                                 name  best_loss_val  best_acc_val\n",
      "0                     high.educ_group       0.048048      0.836066\n",
      "1                             married       0.068791      0.819672\n",
      "2                              female       0.083769      0.491803\n",
      "3                        income_group       0.215296      0.360656\n",
      "4                      race.ethnicity       0.073015      0.786885\n",
      "5    nihtbx_cardsort_uncorrected_norm       0.794669      0.683039\n",
      "6       nihtbx_cryst_uncorrected_norm       0.940235      0.578714\n",
      "7     nihtbx_flanker_uncorrected_norm       0.929080      0.764461\n",
      "8   nihtbx_fluidcomp_uncorrected_norm       0.880329      0.660301\n",
      "9        nihtbx_list_uncorrected_norm       0.723271      0.572716\n",
      "10    nihtbx_pattern_uncorrected_norm       0.834944      0.751415\n",
      "11    nihtbx_picture_uncorrected_norm       1.014618      0.930789\n",
      "12   nihtbx_picvocab_uncorrected_norm       0.986564      0.637487\n",
      "13    nihtbx_reading_uncorrected_norm       0.803396      0.590426\n",
      "14  nihtbx_totalcomp_uncorrected_norm       0.792509      0.490442\n",
      "Epoch 9, Loss: 46.450, Accuracy: 51.738, Val Loss: 30.398, Val Accuracy: 25.518, Time Model: 196.892, Time Data: 1.356\n",
      "Epochs: 10\n"
     ]
    },
    {
     "name": "stdout",
     "output_type": "stream",
     "text": [
      "10.0\n"
     ]
    },
    {
     "name": "stdout",
     "output_type": "stream",
     "text": [
      "20.0\n"
     ]
    },
    {
     "name": "stdout",
     "output_type": "stream",
     "text": [
      "30.0\n"
     ]
    },
    {
     "name": "stdout",
     "output_type": "stream",
     "text": [
      "40.0\n"
     ]
    },
    {
     "name": "stdout",
     "output_type": "stream",
     "text": [
      "50.0\n"
     ]
    },
    {
     "name": "stdout",
     "output_type": "stream",
     "text": [
      "60.0\n"
     ]
    },
    {
     "name": "stdout",
     "output_type": "stream",
     "text": [
      "70.0\n"
     ]
    },
    {
     "name": "stdout",
     "output_type": "stream",
     "text": [
      "10.0\n"
     ]
    },
    {
     "name": "stdout",
     "output_type": "stream",
     "text": [
      "10.0\n"
     ]
    },
    {
     "name": "stdout",
     "output_type": "stream",
     "text": [
      "                                 name  best_loss_test  best_acc_test\n",
      "0                     high.educ_group        0.043125       0.926230\n",
      "1                             married        0.080874       0.860656\n",
      "2                              female        0.089146       0.540984\n",
      "3                        income_group        0.247186       0.245902\n",
      "4                      race.ethnicity        0.091712       0.778689\n",
      "5    nihtbx_cardsort_uncorrected_norm        0.738855       0.635066\n",
      "6       nihtbx_cryst_uncorrected_norm        0.995625       0.612806\n",
      "7     nihtbx_flanker_uncorrected_norm        0.780794       0.642449\n",
      "8   nihtbx_fluidcomp_uncorrected_norm        0.828637       0.621529\n",
      "9        nihtbx_list_uncorrected_norm        0.804919       0.637369\n",
      "10    nihtbx_pattern_uncorrected_norm        0.715504       0.643924\n",
      "11    nihtbx_picture_uncorrected_norm        0.754831       0.692466\n",
      "12   nihtbx_picvocab_uncorrected_norm        1.104372       0.713611\n",
      "13    nihtbx_reading_uncorrected_norm        0.793564       0.583200\n",
      "14  nihtbx_totalcomp_uncorrected_norm        0.857278       0.530525\n",
      "                                 name  best_loss_val  best_acc_val\n",
      "0                     high.educ_group       0.048048      0.836066\n",
      "1                             married       0.068791      0.819672\n",
      "2                              female       0.083769      0.500000\n",
      "3                        income_group       0.215296      0.360656\n",
      "4                      race.ethnicity       0.063437      0.786885\n",
      "5    nihtbx_cardsort_uncorrected_norm       0.794669      0.683039\n",
      "6       nihtbx_cryst_uncorrected_norm       0.940235      0.578714\n",
      "7     nihtbx_flanker_uncorrected_norm       0.929080      0.764461\n",
      "8   nihtbx_fluidcomp_uncorrected_norm       0.880329      0.660301\n",
      "9        nihtbx_list_uncorrected_norm       0.723271      0.572716\n",
      "10    nihtbx_pattern_uncorrected_norm       0.834944      0.751415\n",
      "11    nihtbx_picture_uncorrected_norm       1.014618      0.930789\n",
      "12   nihtbx_picvocab_uncorrected_norm       0.986564      0.637487\n",
      "13    nihtbx_reading_uncorrected_norm       0.803396      0.590426\n",
      "14  nihtbx_totalcomp_uncorrected_norm       0.792509      0.490442\n",
      "Epoch 10, Loss: 46.399, Accuracy: 51.728, Val Loss: 13.294, Val Accuracy: 12.940, Time Model: 196.864, Time Data: 1.318\n",
      "Learning rate: <tf.Variable 'Adam/learning_rate:0' shape=() dtype=float32, numpy=0.00033333336>\n",
      "Epochs: 11\n"
     ]
    },
    {
     "name": "stdout",
     "output_type": "stream",
     "text": [
      "10.0\n"
     ]
    },
    {
     "name": "stdout",
     "output_type": "stream",
     "text": [
      "20.0\n"
     ]
    },
    {
     "name": "stdout",
     "output_type": "stream",
     "text": [
      "30.0\n"
     ]
    },
    {
     "name": "stdout",
     "output_type": "stream",
     "text": [
      "40.0\n"
     ]
    },
    {
     "name": "stdout",
     "output_type": "stream",
     "text": [
      "50.0\n"
     ]
    },
    {
     "name": "stdout",
     "output_type": "stream",
     "text": [
      "60.0\n"
     ]
    },
    {
     "name": "stdout",
     "output_type": "stream",
     "text": [
      "70.0\n"
     ]
    },
    {
     "name": "stdout",
     "output_type": "stream",
     "text": [
      "10.0\n"
     ]
    },
    {
     "name": "stdout",
     "output_type": "stream",
     "text": [
      "10.0\n"
     ]
    },
    {
     "name": "stdout",
     "output_type": "stream",
     "text": [
      "                                 name  best_loss_test  best_acc_test\n",
      "0                     high.educ_group        0.043125       0.926230\n",
      "1                             married        0.080874       0.860656\n",
      "2                              female        0.089146       0.540984\n",
      "3                        income_group        0.247186       0.245902\n",
      "4                      race.ethnicity        0.086895       0.795082\n",
      "5    nihtbx_cardsort_uncorrected_norm        0.738855       0.635066\n",
      "6       nihtbx_cryst_uncorrected_norm        0.995625       0.612806\n",
      "7     nihtbx_flanker_uncorrected_norm        0.780794       0.642449\n",
      "8   nihtbx_fluidcomp_uncorrected_norm        0.828637       0.621529\n",
      "9        nihtbx_list_uncorrected_norm        0.804919       0.637369\n",
      "10    nihtbx_pattern_uncorrected_norm        0.715504       0.643924\n",
      "11    nihtbx_picture_uncorrected_norm        0.754831       0.692466\n",
      "12   nihtbx_picvocab_uncorrected_norm        1.104372       0.713611\n",
      "13    nihtbx_reading_uncorrected_norm        0.793564       0.583200\n",
      "14  nihtbx_totalcomp_uncorrected_norm        0.857278       0.530525\n",
      "                                 name  best_loss_val  best_acc_val\n",
      "0                     high.educ_group       0.048048      0.836066\n",
      "1                             married       0.068791      0.819672\n",
      "2                              female       0.083769      0.500000\n",
      "3                        income_group       0.215296      0.360656\n",
      "4                      race.ethnicity       0.060365      0.786885\n",
      "5    nihtbx_cardsort_uncorrected_norm       0.794669      0.683039\n",
      "6       nihtbx_cryst_uncorrected_norm       0.940235      0.578714\n",
      "7     nihtbx_flanker_uncorrected_norm       0.929080      0.764461\n",
      "8   nihtbx_fluidcomp_uncorrected_norm       0.880329      0.660301\n",
      "9        nihtbx_list_uncorrected_norm       0.723271      0.572716\n",
      "10    nihtbx_pattern_uncorrected_norm       0.834944      0.751415\n",
      "11    nihtbx_picture_uncorrected_norm       1.014618      0.930789\n",
      "12   nihtbx_picvocab_uncorrected_norm       0.986564      0.637487\n",
      "13    nihtbx_reading_uncorrected_norm       0.803396      0.590426\n",
      "14  nihtbx_totalcomp_uncorrected_norm       0.792509      0.490442\n",
      "Epoch 11, Loss: 45.608, Accuracy: 51.325, Val Loss: 11.892, Val Accuracy: 11.827, Time Model: 196.851, Time Data: 1.311\n",
      "Epochs: 12\n"
     ]
    },
    {
     "name": "stdout",
     "output_type": "stream",
     "text": [
      "10.0\n"
     ]
    },
    {
     "name": "stdout",
     "output_type": "stream",
     "text": [
      "20.0\n"
     ]
    },
    {
     "name": "stdout",
     "output_type": "stream",
     "text": [
      "30.0\n"
     ]
    },
    {
     "name": "stdout",
     "output_type": "stream",
     "text": [
      "40.0\n"
     ]
    },
    {
     "name": "stdout",
     "output_type": "stream",
     "text": [
      "50.0\n"
     ]
    },
    {
     "name": "stdout",
     "output_type": "stream",
     "text": [
      "60.0\n"
     ]
    },
    {
     "name": "stdout",
     "output_type": "stream",
     "text": [
      "70.0\n"
     ]
    },
    {
     "name": "stdout",
     "output_type": "stream",
     "text": [
      "10.0\n"
     ]
    },
    {
     "name": "stdout",
     "output_type": "stream",
     "text": [
      "10.0\n"
     ]
    },
    {
     "name": "stdout",
     "output_type": "stream",
     "text": [
      "                                 name  best_loss_test  best_acc_test\n",
      "0                     high.educ_group        0.043125       0.926230\n",
      "1                             married        0.080874       0.860656\n",
      "2                              female        0.089146       0.483607\n",
      "3                        income_group        0.247186       0.245902\n",
      "4                      race.ethnicity        0.086895       0.795082\n",
      "5    nihtbx_cardsort_uncorrected_norm        0.738855       0.635066\n",
      "6       nihtbx_cryst_uncorrected_norm        0.995625       0.612806\n",
      "7     nihtbx_flanker_uncorrected_norm        0.780794       0.642449\n",
      "8   nihtbx_fluidcomp_uncorrected_norm        0.828637       0.621529\n",
      "9        nihtbx_list_uncorrected_norm        0.804919       0.637369\n",
      "10    nihtbx_pattern_uncorrected_norm        0.715504       0.643924\n",
      "11    nihtbx_picture_uncorrected_norm        0.754831       0.692466\n",
      "12   nihtbx_picvocab_uncorrected_norm        1.104372       0.713611\n",
      "13    nihtbx_reading_uncorrected_norm        0.793564       0.583200\n",
      "14  nihtbx_totalcomp_uncorrected_norm        0.857278       0.530525\n",
      "                                 name  best_loss_val  best_acc_val\n",
      "0                     high.educ_group       0.048048      0.836066\n",
      "1                             married       0.068791      0.819672\n",
      "2                              female       0.083769      0.508197\n",
      "3                        income_group       0.215296      0.360656\n",
      "4                      race.ethnicity       0.060365      0.786885\n",
      "5    nihtbx_cardsort_uncorrected_norm       0.794669      0.683039\n",
      "6       nihtbx_cryst_uncorrected_norm       0.940235      0.578714\n",
      "7     nihtbx_flanker_uncorrected_norm       0.929080      0.764461\n",
      "8   nihtbx_fluidcomp_uncorrected_norm       0.880329      0.660301\n",
      "9        nihtbx_list_uncorrected_norm       0.723271      0.572716\n",
      "10    nihtbx_pattern_uncorrected_norm       0.834944      0.751415\n",
      "11    nihtbx_picture_uncorrected_norm       1.014618      0.930789\n",
      "12   nihtbx_picvocab_uncorrected_norm       0.986564      0.637487\n",
      "13    nihtbx_reading_uncorrected_norm       0.803396      0.590426\n",
      "14  nihtbx_totalcomp_uncorrected_norm       0.792509      0.490442\n",
      "Epoch 12, Loss: 45.352, Accuracy: 51.273, Val Loss: 15.442, Val Accuracy: 14.752, Time Model: 196.927, Time Data: 1.314\n",
      "Epochs: 13\n"
     ]
    },
    {
     "name": "stdout",
     "output_type": "stream",
     "text": [
      "10.0\n"
     ]
    },
    {
     "name": "stdout",
     "output_type": "stream",
     "text": [
      "20.0\n"
     ]
    },
    {
     "name": "stdout",
     "output_type": "stream",
     "text": [
      "30.0\n"
     ]
    },
    {
     "name": "stdout",
     "output_type": "stream",
     "text": [
      "40.0\n"
     ]
    },
    {
     "name": "stdout",
     "output_type": "stream",
     "text": [
      "50.0\n"
     ]
    },
    {
     "name": "stdout",
     "output_type": "stream",
     "text": [
      "60.0\n"
     ]
    },
    {
     "name": "stdout",
     "output_type": "stream",
     "text": [
      "70.0\n"
     ]
    },
    {
     "name": "stdout",
     "output_type": "stream",
     "text": [
      "10.0\n"
     ]
    },
    {
     "name": "stdout",
     "output_type": "stream",
     "text": [
      "10.0\n"
     ]
    },
    {
     "name": "stdout",
     "output_type": "stream",
     "text": [
      "                                 name  best_loss_test  best_acc_test\n",
      "0                     high.educ_group        0.043125       0.926230\n",
      "1                             married        0.080874       0.860656\n",
      "2                              female        0.089146       0.598361\n",
      "3                        income_group        0.247186       0.245902\n",
      "4                      race.ethnicity        0.086895       0.778689\n",
      "5    nihtbx_cardsort_uncorrected_norm        0.738855       0.635066\n",
      "6       nihtbx_cryst_uncorrected_norm        0.995625       0.612806\n",
      "7     nihtbx_flanker_uncorrected_norm        0.780794       0.642449\n",
      "8   nihtbx_fluidcomp_uncorrected_norm        0.828637       0.621529\n",
      "9        nihtbx_list_uncorrected_norm        0.813863       0.644451\n",
      "10    nihtbx_pattern_uncorrected_norm        0.715504       0.643924\n",
      "11    nihtbx_picture_uncorrected_norm        0.754831       0.692466\n",
      "12   nihtbx_picvocab_uncorrected_norm        1.104372       0.713611\n",
      "13    nihtbx_reading_uncorrected_norm        0.793564       0.583200\n",
      "14  nihtbx_totalcomp_uncorrected_norm        0.857278       0.530525\n",
      "                                 name  best_loss_val  best_acc_val\n",
      "0                     high.educ_group       0.048048      0.836066\n",
      "1                             married       0.068791      0.819672\n",
      "2                              female       0.083769      0.565574\n",
      "3                        income_group       0.215296      0.360656\n",
      "4                      race.ethnicity       0.060365      0.786885\n",
      "5    nihtbx_cardsort_uncorrected_norm       0.794669      0.683039\n",
      "6       nihtbx_cryst_uncorrected_norm       0.940235      0.578714\n",
      "7     nihtbx_flanker_uncorrected_norm       0.929080      0.764461\n",
      "8   nihtbx_fluidcomp_uncorrected_norm       0.880329      0.660301\n",
      "9        nihtbx_list_uncorrected_norm       0.722937      0.572452\n",
      "10    nihtbx_pattern_uncorrected_norm       0.834944      0.751415\n",
      "11    nihtbx_picture_uncorrected_norm       1.014618      0.930789\n",
      "12   nihtbx_picvocab_uncorrected_norm       0.986564      0.637487\n",
      "13    nihtbx_reading_uncorrected_norm       0.803396      0.590426\n",
      "14  nihtbx_totalcomp_uncorrected_norm       0.792509      0.490442\n",
      "Epoch 13, Loss: 45.069, Accuracy: 51.169, Val Loss: 18.655, Val Accuracy: 17.185, Time Model: 197.046, Time Data: 1.312\n",
      "Epochs: 14\n"
     ]
    },
    {
     "name": "stdout",
     "output_type": "stream",
     "text": [
      "10.0\n"
     ]
    },
    {
     "name": "stdout",
     "output_type": "stream",
     "text": [
      "20.0\n"
     ]
    },
    {
     "name": "stdout",
     "output_type": "stream",
     "text": [
      "30.0\n"
     ]
    },
    {
     "name": "stdout",
     "output_type": "stream",
     "text": [
      "40.0\n"
     ]
    },
    {
     "name": "stdout",
     "output_type": "stream",
     "text": [
      "50.0\n"
     ]
    },
    {
     "name": "stdout",
     "output_type": "stream",
     "text": [
      "60.0\n"
     ]
    },
    {
     "name": "stdout",
     "output_type": "stream",
     "text": [
      "70.0\n"
     ]
    },
    {
     "name": "stdout",
     "output_type": "stream",
     "text": [
      "10.0\n"
     ]
    },
    {
     "name": "stdout",
     "output_type": "stream",
     "text": [
      "10.0\n"
     ]
    },
    {
     "name": "stdout",
     "output_type": "stream",
     "text": [
      "                                 name  best_loss_test  best_acc_test\n",
      "0                     high.educ_group        0.043125       0.926230\n",
      "1                             married        0.080874       0.860656\n",
      "2                              female        0.067448       0.713115\n",
      "3                        income_group        0.247186       0.245902\n",
      "4                      race.ethnicity        0.086895       0.778689\n",
      "5    nihtbx_cardsort_uncorrected_norm        0.738855       0.635066\n",
      "6       nihtbx_cryst_uncorrected_norm        0.995625       0.612806\n",
      "7     nihtbx_flanker_uncorrected_norm        0.780794       0.642449\n",
      "8   nihtbx_fluidcomp_uncorrected_norm        0.828637       0.621529\n",
      "9        nihtbx_list_uncorrected_norm        0.813863       0.644451\n",
      "10    nihtbx_pattern_uncorrected_norm        0.715504       0.643924\n",
      "11    nihtbx_picture_uncorrected_norm        0.754831       0.692466\n",
      "12   nihtbx_picvocab_uncorrected_norm        1.104372       0.713611\n",
      "13    nihtbx_reading_uncorrected_norm        0.793564       0.583200\n",
      "14  nihtbx_totalcomp_uncorrected_norm        0.857278       0.530525\n",
      "                                 name  best_loss_val  best_acc_val\n",
      "0                     high.educ_group       0.048048      0.836066\n",
      "1                             married       0.068791      0.819672\n",
      "2                              female       0.064537      0.688525\n",
      "3                        income_group       0.215296      0.360656\n",
      "4                      race.ethnicity       0.060365      0.786885\n",
      "5    nihtbx_cardsort_uncorrected_norm       0.794669      0.683039\n",
      "6       nihtbx_cryst_uncorrected_norm       0.940235      0.578714\n",
      "7     nihtbx_flanker_uncorrected_norm       0.929080      0.764461\n",
      "8   nihtbx_fluidcomp_uncorrected_norm       0.880329      0.660301\n",
      "9        nihtbx_list_uncorrected_norm       0.722937      0.572452\n",
      "10    nihtbx_pattern_uncorrected_norm       0.834944      0.751415\n",
      "11    nihtbx_picture_uncorrected_norm       1.014618      0.930789\n",
      "12   nihtbx_picvocab_uncorrected_norm       0.986564      0.637487\n",
      "13    nihtbx_reading_uncorrected_norm       0.803396      0.590426\n",
      "14  nihtbx_totalcomp_uncorrected_norm       0.792509      0.490442\n",
      "Epoch 14, Loss: 44.911, Accuracy: 51.019, Val Loss: 19.842, Val Accuracy: 16.012, Time Model: 196.988, Time Data: 1.329\n",
      "Epochs: 15\n"
     ]
    },
    {
     "name": "stdout",
     "output_type": "stream",
     "text": [
      "10.0\n"
     ]
    },
    {
     "name": "stdout",
     "output_type": "stream",
     "text": [
      "20.0\n"
     ]
    },
    {
     "name": "stdout",
     "output_type": "stream",
     "text": [
      "30.0\n"
     ]
    },
    {
     "name": "stdout",
     "output_type": "stream",
     "text": [
      "40.0\n"
     ]
    },
    {
     "name": "stdout",
     "output_type": "stream",
     "text": [
      "50.0\n"
     ]
    },
    {
     "name": "stdout",
     "output_type": "stream",
     "text": [
      "60.0\n"
     ]
    },
    {
     "name": "stdout",
     "output_type": "stream",
     "text": [
      "70.0\n"
     ]
    },
    {
     "name": "stdout",
     "output_type": "stream",
     "text": [
      "10.0\n"
     ]
    },
    {
     "name": "stdout",
     "output_type": "stream",
     "text": [
      "10.0\n"
     ]
    },
    {
     "name": "stdout",
     "output_type": "stream",
     "text": [
      "                                 name  best_loss_test  best_acc_test\n",
      "0                     high.educ_group        0.043125       0.926230\n",
      "1                             married        0.080874       0.860656\n",
      "2                              female        0.061380       0.795082\n",
      "3                        income_group        0.247186       0.245902\n",
      "4                      race.ethnicity        0.086895       0.778689\n",
      "5    nihtbx_cardsort_uncorrected_norm        0.738855       0.635066\n",
      "6       nihtbx_cryst_uncorrected_norm        0.995625       0.612806\n",
      "7     nihtbx_flanker_uncorrected_norm        0.780794       0.642449\n",
      "8   nihtbx_fluidcomp_uncorrected_norm        0.828637       0.621529\n",
      "9        nihtbx_list_uncorrected_norm        0.813863       0.644451\n",
      "10    nihtbx_pattern_uncorrected_norm        0.715504       0.643924\n",
      "11    nihtbx_picture_uncorrected_norm        0.754831       0.692466\n",
      "12   nihtbx_picvocab_uncorrected_norm        1.104372       0.713611\n",
      "13    nihtbx_reading_uncorrected_norm        0.793564       0.583200\n",
      "14  nihtbx_totalcomp_uncorrected_norm        0.857278       0.530525\n",
      "                                 name  best_loss_val  best_acc_val\n",
      "0                     high.educ_group       0.048048      0.836066\n",
      "1                             married       0.068791      0.819672\n",
      "2                              female       0.061204      0.729508\n",
      "3                        income_group       0.215296      0.360656\n",
      "4                      race.ethnicity       0.060365      0.786885\n",
      "5    nihtbx_cardsort_uncorrected_norm       0.794669      0.683039\n",
      "6       nihtbx_cryst_uncorrected_norm       0.940235      0.578714\n",
      "7     nihtbx_flanker_uncorrected_norm       0.929080      0.764461\n",
      "8   nihtbx_fluidcomp_uncorrected_norm       0.880329      0.660301\n",
      "9        nihtbx_list_uncorrected_norm       0.722937      0.572452\n",
      "10    nihtbx_pattern_uncorrected_norm       0.834944      0.751415\n",
      "11    nihtbx_picture_uncorrected_norm       1.014618      0.930789\n",
      "12   nihtbx_picvocab_uncorrected_norm       0.986564      0.637487\n",
      "13    nihtbx_reading_uncorrected_norm       0.803396      0.590426\n",
      "14  nihtbx_totalcomp_uncorrected_norm       0.792509      0.490442\n",
      "Epoch 15, Loss: 44.554, Accuracy: 50.841, Val Loss: 32.267, Val Accuracy: 26.681, Time Model: 196.917, Time Data: 1.296\n",
      "Learning rate: <tf.Variable 'Adam/learning_rate:0' shape=() dtype=float32, numpy=0.00011111112>\n",
      "Epochs: 16\n"
     ]
    },
    {
     "name": "stdout",
     "output_type": "stream",
     "text": [
      "10.0\n"
     ]
    },
    {
     "name": "stdout",
     "output_type": "stream",
     "text": [
      "20.0\n"
     ]
    },
    {
     "name": "stdout",
     "output_type": "stream",
     "text": [
      "30.0\n"
     ]
    },
    {
     "name": "stdout",
     "output_type": "stream",
     "text": [
      "40.0\n"
     ]
    },
    {
     "name": "stdout",
     "output_type": "stream",
     "text": [
      "50.0\n"
     ]
    },
    {
     "name": "stdout",
     "output_type": "stream",
     "text": [
      "60.0\n"
     ]
    },
    {
     "name": "stdout",
     "output_type": "stream",
     "text": [
      "70.0\n"
     ]
    },
    {
     "name": "stdout",
     "output_type": "stream",
     "text": [
      "10.0\n"
     ]
    },
    {
     "name": "stdout",
     "output_type": "stream",
     "text": [
      "10.0\n"
     ]
    },
    {
     "name": "stdout",
     "output_type": "stream",
     "text": [
      "                                 name  best_loss_test  best_acc_test\n",
      "0                     high.educ_group        0.043125       0.926230\n",
      "1                             married        0.080874       0.860656\n",
      "2                              female        0.061380       0.795082\n",
      "3                        income_group        0.247186       0.245902\n",
      "4                      race.ethnicity        0.086895       0.778689\n",
      "5    nihtbx_cardsort_uncorrected_norm        0.738855       0.635066\n",
      "6       nihtbx_cryst_uncorrected_norm        0.995625       0.612806\n",
      "7     nihtbx_flanker_uncorrected_norm        0.780794       0.642449\n",
      "8   nihtbx_fluidcomp_uncorrected_norm        0.828637       0.621529\n",
      "9        nihtbx_list_uncorrected_norm        0.813863       0.644451\n",
      "10    nihtbx_pattern_uncorrected_norm        0.715504       0.643924\n",
      "11    nihtbx_picture_uncorrected_norm        0.754831       0.692466\n",
      "12   nihtbx_picvocab_uncorrected_norm        1.104372       0.713611\n",
      "13    nihtbx_reading_uncorrected_norm        0.793564       0.583200\n",
      "14  nihtbx_totalcomp_uncorrected_norm        0.857278       0.530525\n",
      "                                 name  best_loss_val  best_acc_val\n",
      "0                     high.educ_group       0.048048      0.836066\n",
      "1                             married       0.068791      0.819672\n",
      "2                              female       0.061204      0.729508\n",
      "3                        income_group       0.215296      0.360656\n",
      "4                      race.ethnicity       0.060365      0.786885\n",
      "5    nihtbx_cardsort_uncorrected_norm       0.794669      0.683039\n",
      "6       nihtbx_cryst_uncorrected_norm       0.940235      0.578714\n",
      "7     nihtbx_flanker_uncorrected_norm       0.929080      0.764461\n",
      "8   nihtbx_fluidcomp_uncorrected_norm       0.880329      0.660301\n",
      "9        nihtbx_list_uncorrected_norm       0.722937      0.572452\n",
      "10    nihtbx_pattern_uncorrected_norm       0.834944      0.751415\n",
      "11    nihtbx_picture_uncorrected_norm       1.014618      0.930789\n",
      "12   nihtbx_picvocab_uncorrected_norm       0.986564      0.637487\n",
      "13    nihtbx_reading_uncorrected_norm       0.803396      0.590426\n",
      "14  nihtbx_totalcomp_uncorrected_norm       0.792509      0.490442\n",
      "Epoch 16, Loss: 43.485, Accuracy: 50.228, Val Loss: 11.837, Val Accuracy: 10.658, Time Model: 196.857, Time Data: 1.343\n",
      "Epochs: 17\n"
     ]
    },
    {
     "name": "stdout",
     "output_type": "stream",
     "text": [
      "10.0\n"
     ]
    },
    {
     "name": "stdout",
     "output_type": "stream",
     "text": [
      "20.0\n"
     ]
    },
    {
     "name": "stdout",
     "output_type": "stream",
     "text": [
      "30.0\n"
     ]
    },
    {
     "name": "stdout",
     "output_type": "stream",
     "text": [
      "40.0\n"
     ]
    },
    {
     "name": "stdout",
     "output_type": "stream",
     "text": [
      "50.0\n"
     ]
    },
    {
     "name": "stdout",
     "output_type": "stream",
     "text": [
      "60.0\n"
     ]
    },
    {
     "name": "stdout",
     "output_type": "stream",
     "text": [
      "70.0\n"
     ]
    },
    {
     "name": "stdout",
     "output_type": "stream",
     "text": [
      "10.0\n"
     ]
    },
    {
     "name": "stdout",
     "output_type": "stream",
     "text": [
      "10.0\n"
     ]
    },
    {
     "name": "stdout",
     "output_type": "stream",
     "text": [
      "                                 name  best_loss_test  best_acc_test\n",
      "0                     high.educ_group        0.043125       0.926230\n",
      "1                             married        0.080874       0.860656\n",
      "2                              female        0.061380       0.795082\n",
      "3                        income_group        0.247186       0.245902\n",
      "4                      race.ethnicity        0.086895       0.778689\n",
      "5    nihtbx_cardsort_uncorrected_norm        0.738855       0.635066\n",
      "6       nihtbx_cryst_uncorrected_norm        0.995625       0.612806\n",
      "7     nihtbx_flanker_uncorrected_norm        0.780794       0.642449\n",
      "8   nihtbx_fluidcomp_uncorrected_norm        0.828637       0.621529\n",
      "9        nihtbx_list_uncorrected_norm        0.813863       0.644451\n",
      "10    nihtbx_pattern_uncorrected_norm        0.715504       0.643924\n",
      "11    nihtbx_picture_uncorrected_norm        0.754831       0.692466\n",
      "12   nihtbx_picvocab_uncorrected_norm        1.104372       0.713611\n",
      "13    nihtbx_reading_uncorrected_norm        0.793564       0.583200\n",
      "14  nihtbx_totalcomp_uncorrected_norm        0.857278       0.530525\n",
      "                                 name  best_loss_val  best_acc_val\n",
      "0                     high.educ_group       0.048048      0.836066\n",
      "1                             married       0.068791      0.819672\n",
      "2                              female       0.061204      0.729508\n",
      "3                        income_group       0.215296      0.360656\n",
      "4                      race.ethnicity       0.060365      0.786885\n",
      "5    nihtbx_cardsort_uncorrected_norm       0.794669      0.683039\n",
      "6       nihtbx_cryst_uncorrected_norm       0.940235      0.578714\n",
      "7     nihtbx_flanker_uncorrected_norm       0.929080      0.764461\n",
      "8   nihtbx_fluidcomp_uncorrected_norm       0.880329      0.660301\n",
      "9        nihtbx_list_uncorrected_norm       0.722937      0.572452\n",
      "10    nihtbx_pattern_uncorrected_norm       0.834944      0.751415\n",
      "11    nihtbx_picture_uncorrected_norm       1.014618      0.930789\n",
      "12   nihtbx_picvocab_uncorrected_norm       0.986564      0.637487\n",
      "13    nihtbx_reading_uncorrected_norm       0.803396      0.590426\n",
      "14  nihtbx_totalcomp_uncorrected_norm       0.792509      0.490442\n",
      "Epoch 17, Loss: 42.883, Accuracy: 49.852, Val Loss: 14.207, Val Accuracy: 12.985, Time Model: 196.797, Time Data: 1.283\n",
      "Epochs: 18\n"
     ]
    },
    {
     "name": "stdout",
     "output_type": "stream",
     "text": [
      "10.0\n"
     ]
    },
    {
     "name": "stdout",
     "output_type": "stream",
     "text": [
      "20.0\n"
     ]
    },
    {
     "name": "stdout",
     "output_type": "stream",
     "text": [
      "30.0\n"
     ]
    },
    {
     "name": "stdout",
     "output_type": "stream",
     "text": [
      "40.0\n"
     ]
    },
    {
     "name": "stdout",
     "output_type": "stream",
     "text": [
      "50.0\n"
     ]
    },
    {
     "name": "stdout",
     "output_type": "stream",
     "text": [
      "60.0\n"
     ]
    },
    {
     "name": "stdout",
     "output_type": "stream",
     "text": [
      "70.0\n"
     ]
    },
    {
     "name": "stdout",
     "output_type": "stream",
     "text": [
      "10.0\n"
     ]
    },
    {
     "name": "stdout",
     "output_type": "stream",
     "text": [
      "10.0\n"
     ]
    },
    {
     "name": "stdout",
     "output_type": "stream",
     "text": [
      "                                 name  best_loss_test  best_acc_test\n",
      "0                     high.educ_group        0.053989       0.926230\n",
      "1                             married        0.080874       0.860656\n",
      "2                              female        0.061380       0.795082\n",
      "3                        income_group        0.247186       0.237705\n",
      "4                      race.ethnicity        0.086895       0.778689\n",
      "5    nihtbx_cardsort_uncorrected_norm        0.738855       0.635066\n",
      "6       nihtbx_cryst_uncorrected_norm        0.995625       0.612806\n",
      "7     nihtbx_flanker_uncorrected_norm        0.780794       0.642449\n",
      "8   nihtbx_fluidcomp_uncorrected_norm        0.828637       0.621529\n",
      "9        nihtbx_list_uncorrected_norm        0.813863       0.644451\n",
      "10    nihtbx_pattern_uncorrected_norm        0.715504       0.643924\n",
      "11    nihtbx_picture_uncorrected_norm        0.754831       0.692466\n",
      "12   nihtbx_picvocab_uncorrected_norm        1.104372       0.713611\n",
      "13    nihtbx_reading_uncorrected_norm        0.793564       0.583200\n",
      "14  nihtbx_totalcomp_uncorrected_norm        0.857278       0.530525\n",
      "                                 name  best_loss_val  best_acc_val\n",
      "0                     high.educ_group       0.045157      0.836066\n",
      "1                             married       0.068791      0.819672\n",
      "2                              female       0.061204      0.729508\n",
      "3                        income_group       0.215296      0.360656\n",
      "4                      race.ethnicity       0.060365      0.786885\n",
      "5    nihtbx_cardsort_uncorrected_norm       0.794669      0.683039\n",
      "6       nihtbx_cryst_uncorrected_norm       0.940235      0.578714\n",
      "7     nihtbx_flanker_uncorrected_norm       0.929080      0.764461\n",
      "8   nihtbx_fluidcomp_uncorrected_norm       0.880329      0.660301\n",
      "9        nihtbx_list_uncorrected_norm       0.722937      0.572452\n",
      "10    nihtbx_pattern_uncorrected_norm       0.834944      0.751415\n",
      "11    nihtbx_picture_uncorrected_norm       1.014618      0.930789\n",
      "12   nihtbx_picvocab_uncorrected_norm       0.986564      0.637487\n",
      "13    nihtbx_reading_uncorrected_norm       0.803396      0.590426\n",
      "14  nihtbx_totalcomp_uncorrected_norm       0.792509      0.490442\n",
      "Epoch 18, Loss: 42.326, Accuracy: 49.425, Val Loss: 13.042, Val Accuracy: 12.732, Time Model: 196.691, Time Data: 1.260\n",
      "Epochs: 19\n"
     ]
    },
    {
     "name": "stdout",
     "output_type": "stream",
     "text": [
      "10.0\n"
     ]
    },
    {
     "name": "stdout",
     "output_type": "stream",
     "text": [
      "20.0\n"
     ]
    },
    {
     "name": "stdout",
     "output_type": "stream",
     "text": [
      "30.0\n"
     ]
    },
    {
     "name": "stdout",
     "output_type": "stream",
     "text": [
      "40.0\n"
     ]
    },
    {
     "name": "stdout",
     "output_type": "stream",
     "text": [
      "50.0\n"
     ]
    },
    {
     "name": "stdout",
     "output_type": "stream",
     "text": [
      "60.0\n"
     ]
    },
    {
     "name": "stdout",
     "output_type": "stream",
     "text": [
      "70.0\n"
     ]
    },
    {
     "name": "stdout",
     "output_type": "stream",
     "text": [
      "10.0\n"
     ]
    },
    {
     "name": "stdout",
     "output_type": "stream",
     "text": [
      "10.0\n"
     ]
    },
    {
     "name": "stdout",
     "output_type": "stream",
     "text": [
      "                                 name  best_loss_test  best_acc_test\n",
      "0                     high.educ_group        0.051599       0.926230\n",
      "1                             married        0.080874       0.860656\n",
      "2                              female        0.061390       0.786885\n",
      "3                        income_group        0.247186       0.229508\n",
      "4                      race.ethnicity        0.086895       0.778689\n",
      "5    nihtbx_cardsort_uncorrected_norm        0.738855       0.635066\n",
      "6       nihtbx_cryst_uncorrected_norm        0.995625       0.612806\n",
      "7     nihtbx_flanker_uncorrected_norm        0.780794       0.642449\n",
      "8   nihtbx_fluidcomp_uncorrected_norm        0.828637       0.621529\n",
      "9        nihtbx_list_uncorrected_norm        0.813863       0.644451\n",
      "10    nihtbx_pattern_uncorrected_norm        0.715504       0.643924\n",
      "11    nihtbx_picture_uncorrected_norm        0.754831       0.692466\n",
      "12   nihtbx_picvocab_uncorrected_norm        1.104372       0.713611\n",
      "13    nihtbx_reading_uncorrected_norm        0.793564       0.583200\n",
      "14  nihtbx_totalcomp_uncorrected_norm        0.857278       0.530525\n",
      "                                 name  best_loss_val  best_acc_val\n",
      "0                     high.educ_group       0.044347      0.836066\n",
      "1                             married       0.068791      0.819672\n",
      "2                              female       0.059202      0.762295\n",
      "3                        income_group       0.215296      0.360656\n",
      "4                      race.ethnicity       0.060365      0.786885\n",
      "5    nihtbx_cardsort_uncorrected_norm       0.794669      0.683039\n",
      "6       nihtbx_cryst_uncorrected_norm       0.940235      0.578714\n",
      "7     nihtbx_flanker_uncorrected_norm       0.929080      0.764461\n",
      "8   nihtbx_fluidcomp_uncorrected_norm       0.880329      0.660301\n",
      "9        nihtbx_list_uncorrected_norm       0.722937      0.572452\n",
      "10    nihtbx_pattern_uncorrected_norm       0.834944      0.751415\n",
      "11    nihtbx_picture_uncorrected_norm       1.014618      0.930789\n",
      "12   nihtbx_picvocab_uncorrected_norm       0.986564      0.637487\n",
      "13    nihtbx_reading_uncorrected_norm       0.803396      0.590426\n",
      "14  nihtbx_totalcomp_uncorrected_norm       0.792509      0.490442\n",
      "Epoch 19, Loss: 41.700, Accuracy: 48.987, Val Loss: 13.223, Val Accuracy: 13.226, Time Model: 196.972, Time Data: 1.348\n"
     ]
    }
   ],
   "source": [
    "decoder = np.vectorize(lambda x: x.decode('UTF-8'))\n",
    "template = 'Epoch {0}, Loss: {1:.3f}, Accuracy: {2:.3f}, Val Loss: {3:.3f}, Val Accuracy: {4:.3f}, Time Model: {5:.3f}, Time Data: {6:.3f}'\n",
    "for col in [0]:\n",
    "  log_textfile(path_output + modelname + 'multitask_test' + '.log', cat_cols),\n",
    "  log_textfile(path_output + modelname + 'multitask_test' + '.log', num_cols)\n",
    "  loss_object = tf.keras.losses.SparseCategoricalCrossentropy()\n",
    "  optimizer = tf.keras.optimizers.Adam(lr = 0.001)\n",
    "  model = Model(cat_cols, num_cols)\n",
    "  df_best = None\n",
    "  for e in range(20):\n",
    "    log_textfile(path_output + modelname + 'multitask_test' + '.log', 'Epochs: ' + str(e))\n",
    "    loss = tf.Variable(0.)\n",
    "    acc = tf.Variable(0.) \n",
    "    val_loss = tf.Variable(0.)\n",
    "    val_acc = tf.Variable(0.)\n",
    "    test_loss = tf.Variable(0.)\n",
    "    test_acc = tf.Variable(0.)\n",
    "    tf.keras.backend.set_learning_phase(True)\n",
    "    train_out_loss, train_out_acc, n, time_model, time_data = epoch(train_iter, train_df, model, optimizer, cat_cols, num_cols, norm_dict)\n",
    "    tf.keras.backend.set_learning_phase(False)\n",
    "    val_out_loss, val_out_acc, n, _, _ = epoch(val_iter, val_df, model, None, cat_cols, num_cols, norm_dict)\n",
    "    test_out_loss, test_out_acc, n, _, _ = epoch(test_iter, test_df, model, None, cat_cols, num_cols, norm_dict)\n",
    "    loss, acc, _ = format_output(train_out_loss, train_out_acc, n, list(cat_cols.keys())+num_cols)\n",
    "    val_loss, val_acc, df_val = format_output(val_out_loss, val_out_acc, n, list(cat_cols.keys())+num_cols, print_bl=False)\n",
    "    test_loss, test_acc, df_test = format_output(test_out_loss, test_out_acc, n, list(cat_cols.keys())+num_cols, print_bl=False)\n",
    "    df_val.columns = ['name', 'cur_loss_val', 'cur_acc_val']\n",
    "    df_test.columns = ['name', 'cur_loss_test', 'cur_acc_test']\n",
    "    if e == 0:\n",
    "      df_best = pd.merge(df_test, df_val, how='left', left_on='name', right_on='name')\n",
    "      df_best.columns = ['name', 'best_loss_test', 'best_acc_test', 'best_loss_val', 'best_acc_val']\n",
    "    df_best = best_val(df_best, df_val, df_test)\n",
    "    print(df_best[['name', 'best_loss_test', 'best_acc_test']])\n",
    "    print(df_best[['name', 'best_loss_val', 'best_acc_val']])\n",
    "    log_textfile(path_output +  modelname + 'multitask_test' + '.log', template.format(e, loss, acc, val_loss, val_acc, time_model, time_data))\n",
    "    if e in [10, 15]:\n",
    "      optimizer.lr = optimizer.lr/3\n",
    "      log_textfile(path_output +  modelname + 'multitask_test' + '.log', 'Learning rate: ' + str(optimizer.lr))\n",
    "    df_best.to_csv(path_output +  modelname + 'multitask_test' + '.csv')"
   ]
  },
  {
   "cell_type": "code",
   "execution_count": 13,
   "metadata": {
    "papermill": {
     "duration": 0.365325,
     "end_time": "2019-11-15T13:25:16.259946",
     "exception": true,
     "start_time": "2019-11-15T13:25:15.894621",
     "status": "failed"
    },
    "tags": []
   },
   "outputs": [
    {
     "ename": "NameError",
     "evalue": "name 'error' is not defined",
     "output_type": "error",
     "traceback": [
      "\u001b[0;31m---------------------------------------------------------------------------\u001b[0m",
      "\u001b[0;31mNameError\u001b[0m                                 Traceback (most recent call last)",
      "\u001b[0;32m<ipython-input-13-ded28046d863>\u001b[0m in \u001b[0;36m<module>\u001b[0;34m\u001b[0m\n\u001b[0;32m----> 1\u001b[0;31m \u001b[0merror\u001b[0m\u001b[0;34m\u001b[0m\u001b[0m\n\u001b[0m",
      "\u001b[0;31mNameError\u001b[0m: name 'error' is not defined"
     ]
    }
   ],
   "source": [
    "error"
   ]
  },
  {
   "cell_type": "code",
   "execution_count": null,
   "metadata": {
    "papermill": {
     "duration": null,
     "end_time": null,
     "exception": null,
     "start_time": null,
     "status": "pending"
    },
    "tags": []
   },
   "outputs": [],
   "source": [
    "batch = next(iter(train_iter))"
   ]
  },
  {
   "cell_type": "code",
   "execution_count": null,
   "metadata": {
    "papermill": {
     "duration": null,
     "end_time": null,
     "exception": null,
     "start_time": null,
     "status": "pending"
    },
    "tags": []
   },
   "outputs": [],
   "source": [
    "t1 = (tf.cast(batch['t1'], tf.float32)-t1_mean)/t1_std\n",
    "t2 = (batch['t2']-t2_mean)/t2_std\n",
    "ad = batch['ad']\n",
    "ad = tf.where(tf.math.is_nan(ad), tf.zeros_like(ad), ad)\n",
    "ad = (ad-ad_mean)/ad_std\n",
    "fa = batch['fa']\n",
    "fa = tf.where(tf.math.is_nan(fa), tf.zeros_like(fa), fa)\n",
    "fa = (fa-fa_mean)/fa_std\n",
    "md = batch['md']\n",
    "md = tf.where(tf.math.is_nan(md), tf.zeros_like(md), md)\n",
    "md = (md-md_mean)/md_std\n",
    "rd = batch['rd']\n",
    "rd = tf.where(tf.math.is_nan(rd), tf.zeros_like(rd), rd)\n",
    "rd = (rd-rd_mean)/rd_std\n",
    "#subjectid = decoder(batch['subjectid'])\n",
    "#y = get_labels(df, subjectid, list(cat_cols.keys())+num_cols)\n",
    "#X = tf.concat([t1, t2, ad, fa, md, rd], axis=4)\n",
    "X = tf.concat([t1, t2], axis=4)    "
   ]
  },
  {
   "cell_type": "code",
   "execution_count": null,
   "metadata": {
    "papermill": {
     "duration": null,
     "end_time": null,
     "exception": null,
     "start_time": null,
     "status": "pending"
    },
    "tags": []
   },
   "outputs": [],
   "source": [
    "tf.keras.backend.set_learning_phase(True)\n",
    "model(X)['female']"
   ]
  },
  {
   "cell_type": "code",
   "execution_count": null,
   "metadata": {
    "papermill": {
     "duration": null,
     "end_time": null,
     "exception": null,
     "start_time": null,
     "status": "pending"
    },
    "tags": []
   },
   "outputs": [],
   "source": [
    "tf.keras.backend.set_learning_phase(False)\n",
    "model(X)['female']"
   ]
  },
  {
   "cell_type": "code",
   "execution_count": null,
   "metadata": {
    "papermill": {
     "duration": null,
     "end_time": null,
     "exception": null,
     "start_time": null,
     "status": "pending"
    },
    "tags": []
   },
   "outputs": [],
   "source": [
    "mean_std = [x.name for x in model.non_trainable_variables if ('batch_norm') in x.name and ('mean' in x.name or 'variance' in x.name)]"
   ]
  },
  {
   "cell_type": "code",
   "execution_count": null,
   "metadata": {
    "papermill": {
     "duration": null,
     "end_time": null,
     "exception": null,
     "start_time": null,
     "status": "pending"
    },
    "tags": []
   },
   "outputs": [],
   "source": [
    "model = Model(cat_cols, num_cols)"
   ]
  },
  {
   "cell_type": "code",
   "execution_count": null,
   "metadata": {
    "papermill": {
     "duration": null,
     "end_time": null,
     "exception": null,
     "start_time": null,
     "status": "pending"
    },
    "tags": []
   },
   "outputs": [],
   "source": [
    "model.non_trainable_variables "
   ]
  },
  {
   "cell_type": "code",
   "execution_count": null,
   "metadata": {
    "papermill": {
     "duration": null,
     "end_time": null,
     "exception": null,
     "start_time": null,
     "status": "pending"
    },
    "tags": []
   },
   "outputs": [],
   "source": []
  }
 ],
 "metadata": {
  "accelerator": "GPU",
  "colab": {
   "collapsed_sections": [],
   "machine_shape": "hm",
   "name": "06_SimpleDL_MultiTask_Valid.ipynb",
   "provenance": []
  },
  "kernelspec": {
   "display_name": "Python 3",
   "language": "python",
   "name": "python3"
  },
  "language_info": {
   "codemirror_mode": {
    "name": "ipython",
    "version": 3
   },
   "file_extension": ".py",
   "mimetype": "text/x-python",
   "name": "python",
   "nbconvert_exporter": "python",
   "pygments_lexer": "ipython3",
   "version": "3.5.3"
  },
  "papermill": {
   "duration": 4419.647938,
   "end_time": "2019-11-15T13:25:19.370262",
   "environment_variables": {},
   "exception": true,
   "input_path": "RunModels_bck_densenet_t1t2_out_site16_.ipynb",
   "output_path": "RunModels_bck_densenet_t1t2_out_site16_out.ipynb",
   "parameters": {},
   "start_time": "2019-11-15T12:11:39.722324",
   "version": "1.2.1"
  }
 },
 "nbformat": 4,
 "nbformat_minor": 1
}