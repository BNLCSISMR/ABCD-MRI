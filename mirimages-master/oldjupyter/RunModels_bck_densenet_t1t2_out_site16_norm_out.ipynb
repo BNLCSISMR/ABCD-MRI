{
 "cells": [
  {
   "cell_type": "code",
   "execution_count": null,
   "metadata": {
    "hide_input": true,
    "inputHidden": true
   },
   "outputs": [
    {
     "data": {
      "text/html": [
       "<span style=\"color:red; font-family:Helvetica Neue, Helvetica, Arial, sans-serif; font-size:2em;\">An Exception was encountered at 'In [13]'.</span>"
      ]
     },
     "metadata": {},
     "output_type": "display_data"
    }
   ],
   "source": [
    "%%html\n",
    "<span style=\"color:red; font-family:Helvetica Neue, Helvetica, Arial, sans-serif; font-size:2em;\">An Exception was encountered at 'In [13]'.</span>"
   ]
  },
  {
   "cell_type": "code",
   "execution_count": 1,
   "metadata": {
    "papermill": {
     "duration": 0.03619,
     "end_time": "2019-11-15T10:57:46.970290",
     "exception": false,
     "start_time": "2019-11-15T10:57:46.934100",
     "status": "completed"
    },
    "tags": []
   },
   "outputs": [],
   "source": [
    "%load_ext autoreload\n",
    "%autoreload 2"
   ]
  },
  {
   "cell_type": "code",
   "execution_count": 2,
   "metadata": {
    "colab": {
     "base_uri": "https://localhost:8080/",
     "height": 34
    },
    "colab_type": "code",
    "executionInfo": {
     "elapsed": 48054,
     "status": "ok",
     "timestamp": 1573636583219,
     "user": {
      "displayName": "Benedikt Dietmar Schifferer",
      "photoUrl": "https://lh3.googleusercontent.com/a-/AAuE7mDViwxKXBjVKZfXMWGuXrQ48D62bye6HNutAOX0=s64",
      "userId": "06737229821528734971"
     },
     "user_tz": -60
    },
    "id": "2mU_ZLUH5jz4",
    "outputId": "c4cbc445-56dd-49df-de87-c34e18da5f6c",
    "papermill": {
     "duration": 2.481826,
     "end_time": "2019-11-15T10:57:49.466085",
     "exception": false,
     "start_time": "2019-11-15T10:57:46.984259",
     "status": "completed"
    },
    "tags": []
   },
   "outputs": [
    {
     "data": {
      "text/plain": [
       "'2.0.0'"
      ]
     },
     "execution_count": 2,
     "metadata": {},
     "output_type": "execute_result"
    }
   ],
   "source": [
    "import glob\n",
    "import nibabel as nib\n",
    "import os\n",
    "import time\n",
    "\n",
    "import pandas as pd\n",
    "import numpy as np\n",
    "\n",
    "from mricode.utils import log_textfile\n",
    "from mricode.utils import copy_colab\n",
    "from mricode.utils import return_iter\n",
    "from mricode.utils import return_csv\n",
    "\n",
    "from mricode.models.SimpleCNN import SimpleCNN\n",
    "from mricode.models.DenseNet import MyDenseNet\n",
    "\n",
    "import tensorflow as tf\n",
    "from tensorflow.keras.layers import Conv3D\n",
    "from tensorflow import nn\n",
    "from tensorflow.python.ops import nn_ops\n",
    "from tensorflow.python.framework import tensor_shape\n",
    "from tensorflow.python.keras.engine.base_layer import InputSpec\n",
    "from tensorflow.python.keras.utils import conv_utils\n",
    "\n",
    "tf.__version__"
   ]
  },
  {
   "cell_type": "code",
   "execution_count": 3,
   "metadata": {
    "papermill": {
     "duration": 2.62873,
     "end_time": "2019-11-15T10:57:52.108521",
     "exception": false,
     "start_time": "2019-11-15T10:57:49.479791",
     "status": "completed"
    },
    "tags": []
   },
   "outputs": [
    {
     "data": {
      "text/plain": [
       "True"
      ]
     },
     "execution_count": 3,
     "metadata": {},
     "output_type": "execute_result"
    }
   ],
   "source": [
    "tf.test.is_gpu_available()"
   ]
  },
  {
   "cell_type": "code",
   "execution_count": 4,
   "metadata": {
    "colab": {},
    "colab_type": "code",
    "id": "nH4XzW8C5yhH",
    "papermill": {
     "duration": 0.057428,
     "end_time": "2019-11-15T10:57:52.179888",
     "exception": false,
     "start_time": "2019-11-15T10:57:52.122460",
     "status": "completed"
    },
    "tags": []
   },
   "outputs": [],
   "source": [
    "path_output = './output/'\n",
    "path_tfrecords = '/data2/res64/down/'\n",
    "path_csv = '/data2/csv/'\n",
    "filename_res = {'train': 'intell_residual_train.csv', 'val': 'intell_residual_valid.csv', 'test': 'intell_residual_test.csv'}\n",
    "filename_final = filename_res\n",
    "sample_size = 'site16_allimages'\n",
    "batch_size = 8\n",
    "onlyt1 = False\n",
    "modelname = 'runAllImages64_DenseNet_T1T2_site16_norm_20e'\n",
    "Model = SimpleCNN\n",
    "Model = MyDenseNet\n",
    "t1_mean=1.3779395849814497\n",
    "t1_std=3.4895845243139503\n",
    "t2_mean=2.22435586968901\n",
    "t2_std=5.07708743178319\n",
    "ad_mean=1.3008901218593748e-05\n",
    "ad_std=0.009966655860940228\n",
    "fa_mean=0.0037552628409334037\n",
    "fa_std=0.012922319568740915\n",
    "md_mean=9.827903909139596e-06\n",
    "md_std=0.009956973204022659\n",
    "rd_mean=8.237404999587111e-06\n",
    "rd_std=0.009954672598675338"
   ]
  },
  {
   "cell_type": "code",
   "execution_count": 5,
   "metadata": {
    "colab": {
     "base_uri": "https://localhost:8080/",
     "height": 71
    },
    "colab_type": "code",
    "executionInfo": {
     "elapsed": 4520,
     "status": "ok",
     "timestamp": 1573636640714,
     "user": {
      "displayName": "Benedikt Dietmar Schifferer",
      "photoUrl": "https://lh3.googleusercontent.com/a-/AAuE7mDViwxKXBjVKZfXMWGuXrQ48D62bye6HNutAOX0=s64",
      "userId": "06737229821528734971"
     },
     "user_tz": -60
    },
    "id": "B-rSS9vT6TuF",
    "outputId": "f5b43cbc-7d59-4c7c-b6d6-78882b1ef3e1",
    "papermill": {
     "duration": 0.283765,
     "end_time": "2019-11-15T10:57:52.478069",
     "exception": false,
     "start_time": "2019-11-15T10:57:52.194304",
     "status": "completed"
    },
    "tags": []
   },
   "outputs": [
    {
     "name": "stdout",
     "output_type": "stream",
     "text": [
      "WARNING:tensorflow:Entity <function return_iter.<locals>._parse_ at 0x7fe1a40a42f0> could not be transformed and will be executed as-is. Please report this to the AutoGraph team. When filing the bug, set the verbosity to 10 (on Linux, `export AUTOGRAPH_VERBOSITY=10`) and attach the full output. Cause: \n"
     ]
    },
    {
     "name": "stdout",
     "output_type": "stream",
     "text": [
      "WARNING: Entity <function return_iter.<locals>._parse_ at 0x7fe1a40a42f0> could not be transformed and will be executed as-is. Please report this to the AutoGraph team. When filing the bug, set the verbosity to 10 (on Linux, `export AUTOGRAPH_VERBOSITY=10`) and attach the full output. Cause: \n"
     ]
    }
   ],
   "source": [
    "train_iter, val_iter, test_iter = return_iter(path_tfrecords, sample_size, batch_size, onlyt1=onlyt1)"
   ]
  },
  {
   "cell_type": "code",
   "execution_count": 6,
   "metadata": {
    "colab": {},
    "colab_type": "code",
    "id": "lJ0VnyEzBAes",
    "papermill": {
     "duration": 0.060032,
     "end_time": "2019-11-15T10:57:52.552822",
     "exception": false,
     "start_time": "2019-11-15T10:57:52.492790",
     "status": "completed"
    },
    "tags": []
   },
   "outputs": [],
   "source": [
    "if False:\n",
    "  t1_mean = 0.\n",
    "  t1_std = 0.\n",
    "  t2_mean = 0.\n",
    "  t2_std = 0.\n",
    "  ad_mean = 0.\n",
    "  ad_std = 0.\n",
    "  fa_mean = 0.\n",
    "  fa_std = 0.\n",
    "  md_mean = 0.\n",
    "  md_std = 0.\n",
    "  rd_mean = 0.\n",
    "  rd_std = 0.\n",
    "  n = 0.\n",
    "  for b in train_iter:\n",
    "      t1_mean += np.mean(b['t1'])\n",
    "      t1_std += np.std(b['t1'])\n",
    "      t2_mean += np.mean(b['t2'])\n",
    "      t2_std += np.std(b['t2'])\n",
    "      a = np.asarray(b['ad'])\n",
    "      a = a.copy()\n",
    "      a[np.isnan(a)] = 0\n",
    "      ad_mean += np.mean(a)\n",
    "      ad_std += np.std(a)\n",
    "      a = np.asarray(b['fa'])\n",
    "      a = a.copy()\n",
    "      a[np.isnan(a)] = 0\n",
    "      fa_mean += np.mean(a)\n",
    "      fa_std += np.std(a)\n",
    "      a = np.asarray(b['md'])\n",
    "      a = a.copy()\n",
    "      a[np.isnan(a)] = 0\n",
    "      md_mean += np.mean(a)\n",
    "      md_std += np.std(a)\n",
    "      a = np.asarray(b['rd'])\n",
    "      a = a.copy()\n",
    "      a[np.isnan(a)] = 0\n",
    "      rd_mean += np.mean(a)\n",
    "      rd_std += np.std(a)\n",
    "      n += np.asarray(b['t1']).shape[0]\n",
    "\n",
    "  t1_mean /= n\n",
    "  t1_std /= n\n",
    "  t2_mean /= n\n",
    "  t2_std /= n\n",
    "  ad_mean /= n\n",
    "  ad_std /= n\n",
    "  fa_mean /= n\n",
    "  fa_std /= n\n",
    "  md_mean /= n\n",
    "  md_std /= n\n",
    "  rd_mean /= n\n",
    "  rd_std /= n"
   ]
  },
  {
   "cell_type": "code",
   "execution_count": 7,
   "metadata": {
    "colab": {
     "base_uri": "https://localhost:8080/",
     "height": 85
    },
    "colab_type": "code",
    "executionInfo": {
     "elapsed": 2924,
     "status": "ok",
     "timestamp": 1573636640716,
     "user": {
      "displayName": "Benedikt Dietmar Schifferer",
      "photoUrl": "https://lh3.googleusercontent.com/a-/AAuE7mDViwxKXBjVKZfXMWGuXrQ48D62bye6HNutAOX0=s64",
      "userId": "06737229821528734971"
     },
     "user_tz": -60
    },
    "id": "mSwhEqDPM_r8",
    "outputId": "14a4ac0b-9587-4776-fc64-1e008f0c5c31",
    "papermill": {
     "duration": 0.054256,
     "end_time": "2019-11-15T10:57:52.621282",
     "exception": false,
     "start_time": "2019-11-15T10:57:52.567026",
     "status": "completed"
    },
    "tags": []
   },
   "outputs": [
    {
     "data": {
      "text/plain": [
       "(1.3779395849814497,\n",
       " 3.4895845243139503,\n",
       " 2.22435586968901,\n",
       " 5.07708743178319,\n",
       " 1.3008901218593748e-05,\n",
       " 0.009966655860940228,\n",
       " 0.0037552628409334037,\n",
       " 0.012922319568740915,\n",
       " 9.827903909139596e-06,\n",
       " 0.009956973204022659,\n",
       " 8.237404999587111e-06,\n",
       " 0.009954672598675338)"
      ]
     },
     "execution_count": 7,
     "metadata": {},
     "output_type": "execute_result"
    }
   ],
   "source": [
    "t1_mean, t1_std, t2_mean, t2_std, ad_mean, ad_std, fa_mean, fa_std, md_mean, md_std, rd_mean, rd_std"
   ]
  },
  {
   "cell_type": "code",
   "execution_count": 8,
   "metadata": {
    "colab": {},
    "colab_type": "code",
    "id": "PAyV5ktlA6K1",
    "papermill": {
     "duration": 0.324982,
     "end_time": "2019-11-15T10:57:52.961736",
     "exception": false,
     "start_time": "2019-11-15T10:57:52.636754",
     "status": "completed"
    },
    "tags": []
   },
   "outputs": [],
   "source": [
    "train_df, val_df, test_df, norm_dict = return_csv(path_csv, filename_final, False)"
   ]
  },
  {
   "cell_type": "code",
   "execution_count": 9,
   "metadata": {
    "colab": {
     "base_uri": "https://localhost:8080/",
     "height": 442
    },
    "colab_type": "code",
    "executionInfo": {
     "elapsed": 3147,
     "status": "ok",
     "timestamp": 1573636641787,
     "user": {
      "displayName": "Benedikt Dietmar Schifferer",
      "photoUrl": "https://lh3.googleusercontent.com/a-/AAuE7mDViwxKXBjVKZfXMWGuXrQ48D62bye6HNutAOX0=s64",
      "userId": "06737229821528734971"
     },
     "user_tz": -60
    },
    "id": "0xYy4XUyVBeC",
    "outputId": "a6a19d59-31ff-4064-f1dc-952befcce4b3",
    "papermill": {
     "duration": 0.058244,
     "end_time": "2019-11-15T10:57:53.035335",
     "exception": false,
     "start_time": "2019-11-15T10:57:52.977091",
     "status": "completed"
    },
    "tags": []
   },
   "outputs": [
    {
     "data": {
      "text/plain": [
       "{'BMI': {'mean': 18.681548127052135, 'std': 4.193043131845343},\n",
       " 'age': {'mean': 119.00325844623563, 'std': 7.479129774017182},\n",
       " 'height': {'mean': 55.25173666322929, 'std': 3.152756181679028},\n",
       " 'nihtbx_cardsort_uncorrected': {'mean': 0.01902727147573316,\n",
       "  'std': 0.92710655806542},\n",
       " 'nihtbx_cryst_uncorrected': {'mean': 0.007018628014748754,\n",
       "  'std': 0.7845373584638602},\n",
       " 'nihtbx_flanker_uncorrected': {'mean': 0.02188780794049048,\n",
       "  'std': 0.9070917080607726},\n",
       " 'nihtbx_fluidcomp_uncorrected': {'mean': 0.020178243913565427,\n",
       "  'std': 0.86606123778624},\n",
       " 'nihtbx_list_uncorrected': {'mean': 0.00625176016120734,\n",
       "  'std': 0.8898550695735616},\n",
       " 'nihtbx_pattern_uncorrected': {'mean': 0.020721412569885096,\n",
       "  'std': 0.9486618556882954},\n",
       " 'nihtbx_picture_uncorrected': {'mean': 0.0005782175223803825,\n",
       "  'std': 0.9577989703304521},\n",
       " 'nihtbx_picvocab_uncorrected': {'mean': 0.0068509109986280275,\n",
       "  'std': 0.8038465951211212},\n",
       " 'nihtbx_reading_uncorrected': {'mean': 0.0027847502208883574,\n",
       "  'std': 0.8572703419965433},\n",
       " 'nihtbx_totalcomp_uncorrected': {'mean': 0.016971206631452577,\n",
       "  'std': 0.7866686549175077},\n",
       " 'vol': {'mean': 0.013939557398902416, 'std': 1.001699783217792},\n",
       " 'weight': {'mean': 81.91536668875837, 'std': 23.321845390211728}}"
      ]
     },
     "execution_count": 9,
     "metadata": {},
     "output_type": "execute_result"
    }
   ],
   "source": [
    "norm_dict"
   ]
  },
  {
   "cell_type": "code",
   "execution_count": 10,
   "metadata": {
    "colab": {},
    "colab_type": "code",
    "id": "eTk95ptFV5oN",
    "papermill": {
     "duration": 0.052246,
     "end_time": "2019-11-15T10:57:53.102205",
     "exception": false,
     "start_time": "2019-11-15T10:57:53.049959",
     "status": "completed"
    },
    "tags": []
   },
   "outputs": [],
   "source": [
    "cat_cols = {'female': 2, 'race.ethnicity': 5, 'high.educ_group': 4, 'income_group': 8, 'married': 6}\n",
    "num_cols = [x for x in list(val_df.columns) if '_norm' in x]"
   ]
  },
  {
   "cell_type": "code",
   "execution_count": 11,
   "metadata": {
    "colab": {},
    "colab_type": "code",
    "id": "hROMApYiDagm",
    "papermill": {
     "duration": 0.086212,
     "end_time": "2019-11-15T10:57:53.202628",
     "exception": false,
     "start_time": "2019-11-15T10:57:53.116416",
     "status": "completed"
    },
    "tags": []
   },
   "outputs": [],
   "source": [
    "def calc_loss_acc(out_loss, out_acc, y_true, y_pred, cat_cols, num_cols, norm_dict):\n",
    "  for col in num_cols:\n",
    "    tmp_col = col\n",
    "    tmp_std = norm_dict[tmp_col.replace('_norm','')]['std']\n",
    "    tmp_y_true = tf.cast(y_true[col], tf.float32).numpy()\n",
    "    tmp_y_pred = np.squeeze(y_pred[col].numpy())\n",
    "    if not(tmp_col in out_loss):\n",
    "      out_loss[tmp_col] = np.sum(np.square(tmp_y_true-tmp_y_pred))\n",
    "    else:\n",
    "      out_loss[tmp_col] += np.sum(np.square(tmp_y_true-tmp_y_pred))\n",
    "    if not(tmp_col in out_acc):\n",
    "      out_acc[tmp_col] = np.sum(np.square((tmp_y_true-tmp_y_pred)*tmp_std))\n",
    "    else:\n",
    "      out_acc[tmp_col] += np.sum(np.square((tmp_y_true-tmp_y_pred)*tmp_std))\n",
    "  for col in list(cat_cols.keys()):\n",
    "    tmp_col = col\n",
    "    if not(tmp_col in out_loss):\n",
    "      out_loss[tmp_col] = tf.keras.losses.SparseCategoricalCrossentropy()(tf.squeeze(y_true[col]), tf.squeeze(y_pred[col])).numpy()\n",
    "    else:\n",
    "      out_loss[tmp_col] += tf.keras.losses.SparseCategoricalCrossentropy()(tf.squeeze(y_true[col]), tf.squeeze(y_pred[col])).numpy()\n",
    "    if not(tmp_col in out_acc):\n",
    "      out_acc[tmp_col] = tf.reduce_sum(tf.dtypes.cast((y_true[col] == tf.argmax(y_pred[col], axis=-1)), tf.float32)).numpy()\n",
    "    else:\n",
    "      out_acc[tmp_col] += tf.reduce_sum(tf.dtypes.cast((y_true[col] == tf.argmax(y_pred[col], axis=-1)), tf.float32)).numpy()    \n",
    "  return(out_loss, out_acc)\n",
    "\n",
    "def format_output(out_loss, out_acc, n, cols, print_bl=False):\n",
    "  loss = 0\n",
    "  acc = 0\n",
    "  output = []\n",
    "  for col in cols:\n",
    "    output.append([col, out_loss[col]/n, out_acc[col]/n])\n",
    "    loss += out_loss[col]/n\n",
    "    acc += out_acc[col]/n\n",
    "  df = pd.DataFrame(output)\n",
    "  df.columns = ['name', 'loss', 'acc']\n",
    "  if print_bl:\n",
    "    print(df)\n",
    "  return(loss, acc, df)\n",
    "\n",
    "@tf.function\n",
    "def train_step(X, y, model, optimizer, cat_cols, num_cols):\n",
    "  with tf.GradientTape() as tape:\n",
    "    predictions = model(X)\n",
    "    i = 0\n",
    "    loss = tf.keras.losses.MSE(tf.cast(y[num_cols[i]], tf.float32), tf.squeeze(predictions[num_cols[i]]))\n",
    "    for i in range(1,len(num_cols)):\n",
    "      loss += tf.keras.losses.MSE(tf.cast(y[num_cols[i]], tf.float32), tf.squeeze(predictions[num_cols[i]]))\n",
    "    for col in list(cat_cols.keys()):\n",
    "      loss += tf.keras.losses.SparseCategoricalCrossentropy()(tf.squeeze(y[col]), tf.squeeze(predictions[col]))\n",
    "  gradients = tape.gradient(loss, model.trainable_variables)\n",
    "  mean_std = [x.name for x in model.non_trainable_variables if ('batch_norm') in x.name and ('mean' in x.name or 'variance' in x.name)]\n",
    "  with tf.control_dependencies(mean_std):\n",
    "    optimizer.apply_gradients(zip(gradients, model.trainable_variables))\n",
    "  return(y, predictions, loss)\n",
    "\n",
    "@tf.function\n",
    "def test_step(X, y, model):\n",
    "  predictions = model(X)\n",
    "  return(y, predictions)\n",
    "\n",
    "def epoch(data_iter, df, model, optimizer, cat_cols, num_cols, norm_dict):\n",
    "  out_loss = {}\n",
    "  out_acc = {}\n",
    "  n = 0.\n",
    "  n_batch = 0.\n",
    "  total_time_dataload = 0.\n",
    "  total_time_model = 0.\n",
    "  start_time = time.time()\n",
    "  for batch in data_iter:\n",
    "    total_time_dataload += time.time() - start_time\n",
    "    start_time = time.time()\n",
    "    t1 = (tf.cast(batch['t1'], tf.float32)-t1_mean)/t1_std\n",
    "    t2 = (batch['t2']-t2_mean)/t2_std\n",
    "    ad = batch['ad']\n",
    "    ad = tf.where(tf.math.is_nan(ad), tf.zeros_like(ad), ad)\n",
    "    ad = (ad-ad_mean)/ad_std\n",
    "    fa = batch['fa']\n",
    "    fa = tf.where(tf.math.is_nan(fa), tf.zeros_like(fa), fa)\n",
    "    fa = (fa-fa_mean)/fa_std\n",
    "    md = batch['md']\n",
    "    md = tf.where(tf.math.is_nan(md), tf.zeros_like(md), md)\n",
    "    md = (md-md_mean)/md_std\n",
    "    rd = batch['rd']\n",
    "    rd = tf.where(tf.math.is_nan(rd), tf.zeros_like(rd), rd)\n",
    "    rd = (rd-rd_mean)/rd_std\n",
    "    subjectid = decoder(batch['subjectid'])\n",
    "    y = get_labels(df, subjectid, list(cat_cols.keys())+num_cols)\n",
    "    X = tf.concat([t1, t2], axis=4)\n",
    "    #X = tf.concat([t1, t2], axis=4)\n",
    "    if optimizer != None:\n",
    "      y_true, y_pred, loss = train_step(X, y, model, optimizer, cat_cols, num_cols)\n",
    "    else:\n",
    "      y_true, y_pred = test_step(X, y, model)\n",
    "    out_loss, out_acc = calc_loss_acc(out_loss, out_acc, y_true, y_pred, cat_cols, num_cols, norm_dict)\n",
    "    n += X.shape[0]\n",
    "    n_batch += 1\n",
    "    if (n_batch % 10) == 0:\n",
    "      print(n_batch)\n",
    "    total_time_model += time.time() - start_time\n",
    "    start_time = time.time()\n",
    "  return (out_loss, out_acc, n, total_time_model, total_time_dataload)\n",
    "\n",
    "def get_labels(df, subjectid, cols = ['nihtbx_fluidcomp_uncorrected_norm']):\n",
    "  subjects_df = pd.DataFrame(subjectid)\n",
    "  result_df = pd.merge(subjects_df, df, left_on=0, right_on='subjectkey', how='left')\n",
    "  output = {}\n",
    "  for col in cols:\n",
    "    output[col] = np.asarray(result_df[col].values)\n",
    "  return output\n",
    "\n",
    "def best_val(df_best, df_val, df_test):\n",
    "  df_best = pd.merge(df_best, df_val, how='left', left_on='name', right_on='name')\n",
    "  df_best = pd.merge(df_best, df_test, how='left', left_on='name', right_on='name')\n",
    "  df_best.loc[df_best['best_loss_val']>=df_best['cur_loss_val'], 'best_loss_test'] = df_best.loc[df_best['best_loss_val']>=df_best['cur_loss_val'], 'cur_loss_test']\n",
    "  df_best.loc[df_best['best_loss_val']>=df_best['cur_loss_val'], 'best_loss_val'] = df_best.loc[df_best['best_loss_val']>=df_best['cur_loss_val'], 'cur_loss_val']\n",
    "  df_best.loc[(df_best['best_acc_val']<=df_best['cur_acc_val'])&(df_best['name'].isin(['female', 'race.ethnicity', 'high.educ_group', 'income_group', 'married'])), 'best_acc_test'] = df_best.loc[(df_best['best_acc_val']<=df_best['cur_acc_val'])&(df_best['name'].isin(['female', 'race.ethnicity', 'high.educ_group', 'income_group', 'married'])), 'cur_acc_test']\n",
    "  df_best.loc[(df_best['best_acc_val']<=df_best['cur_acc_val'])&(df_best['name'].isin(['female', 'race.ethnicity', 'high.educ_group', 'income_group', 'married'])), 'best_acc_val'] = df_best.loc[(df_best['best_acc_val']<=df_best['cur_acc_val'])&(df_best['name'].isin(['female', 'race.ethnicity', 'high.educ_group', 'income_group', 'married'])), 'cur_acc_val']\n",
    "  df_best.loc[(df_best['best_acc_val']>=df_best['cur_acc_val'])&(~df_best['name'].isin(['female', 'race.ethnicity', 'high.educ_group', 'income_group', 'married'])), 'best_acc_test'] = df_best.loc[(df_best['best_acc_val']>=df_best['cur_acc_val'])&(~df_best['name'].isin(['female', 'race.ethnicity', 'high.educ_group', 'income_group', 'married'])), 'cur_acc_test']\n",
    "  df_best.loc[(df_best['best_acc_val']>=df_best['cur_acc_val'])&(~df_best['name'].isin(['female', 'race.ethnicity', 'high.educ_group', 'income_group', 'married'])), 'best_acc_val'] = df_best.loc[(df_best['best_acc_val']>=df_best['cur_acc_val'])&(~df_best['name'].isin(['female', 'race.ethnicity', 'high.educ_group', 'income_group', 'married'])), 'cur_acc_val']\n",
    "  df_best = df_best.drop(['cur_loss_val', 'cur_acc_val', 'cur_loss_test', 'cur_acc_test'], axis=1)\n",
    "  return(df_best)"
   ]
  },
  {
   "cell_type": "code",
   "execution_count": 12,
   "metadata": {
    "colab": {
     "base_uri": "https://localhost:8080/",
     "height": 1000
    },
    "colab_type": "code",
    "executionInfo": {
     "elapsed": 46355,
     "status": "ok",
     "timestamp": 1573636701683,
     "user": {
      "displayName": "Benedikt Dietmar Schifferer",
      "photoUrl": "https://lh3.googleusercontent.com/a-/AAuE7mDViwxKXBjVKZfXMWGuXrQ48D62bye6HNutAOX0=s64",
      "userId": "06737229821528734971"
     },
     "user_tz": -60
    },
    "id": "RV24LE3k-00n",
    "outputId": "067125be-6ce2-40c9-998e-62f800ccb2f1",
    "papermill": {
     "duration": 4420.945851,
     "end_time": "2019-11-15T12:11:34.163679",
     "exception": false,
     "start_time": "2019-11-15T10:57:53.217828",
     "status": "completed"
    },
    "tags": []
   },
   "outputs": [
    {
     "name": "stdout",
     "output_type": "stream",
     "text": [
      "{'race.ethnicity': 5, 'high.educ_group': 4, 'married': 6, 'income_group': 8, 'female': 2}\n",
      "['BMI_norm', 'age_norm', 'vol_norm', 'weight_norm', 'height_norm', 'nihtbx_fluidcomp_uncorrected_norm', 'nihtbx_cryst_uncorrected_norm', 'nihtbx_pattern_uncorrected_norm', 'nihtbx_picture_uncorrected_norm', 'nihtbx_list_uncorrected_norm', 'nihtbx_flanker_uncorrected_norm', 'nihtbx_picvocab_uncorrected_norm', 'nihtbx_cardsort_uncorrected_norm', 'nihtbx_totalcomp_uncorrected_norm', 'nihtbx_reading_uncorrected_norm']\n"
     ]
    },
    {
     "name": "stdout",
     "output_type": "stream",
     "text": [
      "Epochs: 0\n"
     ]
    },
    {
     "name": "stdout",
     "output_type": "stream",
     "text": [
      "10.0\n"
     ]
    },
    {
     "name": "stdout",
     "output_type": "stream",
     "text": [
      "20.0\n"
     ]
    },
    {
     "name": "stdout",
     "output_type": "stream",
     "text": [
      "30.0\n"
     ]
    },
    {
     "name": "stdout",
     "output_type": "stream",
     "text": [
      "40.0\n"
     ]
    },
    {
     "name": "stdout",
     "output_type": "stream",
     "text": [
      "50.0\n"
     ]
    },
    {
     "name": "stdout",
     "output_type": "stream",
     "text": [
      "60.0\n"
     ]
    },
    {
     "name": "stdout",
     "output_type": "stream",
     "text": [
      "70.0\n"
     ]
    },
    {
     "name": "stdout",
     "output_type": "stream",
     "text": [
      "10.0\n"
     ]
    },
    {
     "name": "stdout",
     "output_type": "stream",
     "text": [
      "10.0\n"
     ]
    },
    {
     "name": "stdout",
     "output_type": "stream",
     "text": [
      "                                 name  best_loss_test  best_acc_test\n",
      "0                     high.educ_group        0.051189       0.926230\n",
      "1                             married        0.080055       0.860656\n",
      "2                      race.ethnicity        0.101448       0.778689\n",
      "3                        income_group        0.246933       0.245902\n",
      "4                              female        0.090939       0.540984\n",
      "5                            BMI_norm        1.016744      17.876003\n",
      "6                            age_norm        1.108494      62.006232\n",
      "7                            vol_norm        0.650259       0.652471\n",
      "8                         weight_norm        1.151223     626.159964\n",
      "9                         height_norm        0.838286       8.332453\n",
      "10  nihtbx_fluidcomp_uncorrected_norm        0.764463       0.573395\n",
      "11      nihtbx_cryst_uncorrected_norm        1.041729       0.641183\n",
      "12    nihtbx_pattern_uncorrected_norm        0.733536       0.660152\n",
      "13    nihtbx_picture_uncorrected_norm        0.758731       0.696044\n",
      "14       nihtbx_list_uncorrected_norm        0.797876       0.631792\n",
      "15    nihtbx_flanker_uncorrected_norm        0.789271       0.649424\n",
      "16   nihtbx_picvocab_uncorrected_norm        1.109681       0.717042\n",
      "17   nihtbx_cardsort_uncorrected_norm        0.733095       0.630114\n",
      "18  nihtbx_totalcomp_uncorrected_norm        0.843703       0.522123\n",
      "19    nihtbx_reading_uncorrected_norm        0.806045       0.592373\n",
      "                                 name  best_loss_val  best_acc_val\n",
      "0                     high.educ_group       0.059051      0.836066\n",
      "1                             married       0.071130      0.819672\n",
      "2                      race.ethnicity       0.080277      0.786885\n",
      "3                        income_group       0.215974      0.360656\n",
      "4                              female       0.086419      0.491803\n",
      "5                            BMI_norm       0.746401     13.122930\n",
      "6                            age_norm       1.233863     69.019075\n",
      "7                            vol_norm       0.740515      0.743034\n",
      "8                         weight_norm       0.816275    443.979124\n",
      "9                         height_norm       0.806674      8.018240\n",
      "10  nihtbx_fluidcomp_uncorrected_norm       0.897770      0.673384\n",
      "11      nihtbx_cryst_uncorrected_norm       0.957906      0.589590\n",
      "12    nihtbx_pattern_uncorrected_norm       0.878189      0.790334\n",
      "13    nihtbx_picture_uncorrected_norm       1.014533      0.930711\n",
      "14       nihtbx_list_uncorrected_norm       0.740830      0.586620\n",
      "15    nihtbx_flanker_uncorrected_norm       0.951250      0.782703\n",
      "16   nihtbx_picvocab_uncorrected_norm       0.988920      0.639010\n",
      "17   nihtbx_cardsort_uncorrected_norm       0.824234      0.708451\n",
      "18  nihtbx_totalcomp_uncorrected_norm       0.789101      0.488333\n",
      "19    nihtbx_reading_uncorrected_norm       0.819603      0.602337\n",
      "Epoch 0, Loss: 62.069, Accuracy: 1170.069, Val Loss: 13.719, Val Accuracy: 544.969, Time Model: 238.026, Time Data: 1.399\n",
      "Epochs: 1\n"
     ]
    },
    {
     "name": "stdout",
     "output_type": "stream",
     "text": [
      "10.0\n"
     ]
    },
    {
     "name": "stdout",
     "output_type": "stream",
     "text": [
      "20.0\n"
     ]
    },
    {
     "name": "stdout",
     "output_type": "stream",
     "text": [
      "30.0\n"
     ]
    },
    {
     "name": "stdout",
     "output_type": "stream",
     "text": [
      "40.0\n"
     ]
    },
    {
     "name": "stdout",
     "output_type": "stream",
     "text": [
      "50.0\n"
     ]
    },
    {
     "name": "stdout",
     "output_type": "stream",
     "text": [
      "60.0\n"
     ]
    },
    {
     "name": "stdout",
     "output_type": "stream",
     "text": [
      "70.0\n"
     ]
    },
    {
     "name": "stdout",
     "output_type": "stream",
     "text": [
      "10.0\n"
     ]
    },
    {
     "name": "stdout",
     "output_type": "stream",
     "text": [
      "10.0\n"
     ]
    },
    {
     "name": "stdout",
     "output_type": "stream",
     "text": [
      "                                 name  best_loss_test  best_acc_test\n",
      "0                     high.educ_group        0.048138       0.926230\n",
      "1                             married        0.080065       0.860656\n",
      "2                      race.ethnicity        0.104059       0.778689\n",
      "3                        income_group        0.246933       0.245902\n",
      "4                              female        0.090939       0.540984\n",
      "5                            BMI_norm        1.016744      17.876003\n",
      "6                            age_norm        1.098935      61.471532\n",
      "7                            vol_norm        0.616528       0.618625\n",
      "8                         weight_norm        1.151223     626.159964\n",
      "9                         height_norm        0.824590       8.196319\n",
      "10  nihtbx_fluidcomp_uncorrected_norm        0.764200       0.573198\n",
      "11      nihtbx_cryst_uncorrected_norm        1.041729       0.641183\n",
      "12    nihtbx_pattern_uncorrected_norm        0.720235       0.648182\n",
      "13    nihtbx_picture_uncorrected_norm        0.757683       0.695083\n",
      "14       nihtbx_list_uncorrected_norm        0.794449       0.629078\n",
      "15    nihtbx_flanker_uncorrected_norm        0.780051       0.641838\n",
      "16   nihtbx_picvocab_uncorrected_norm        1.109681       0.717042\n",
      "17   nihtbx_cardsort_uncorrected_norm        0.733095       0.630114\n",
      "18  nihtbx_totalcomp_uncorrected_norm        0.843703       0.522123\n",
      "19    nihtbx_reading_uncorrected_norm        0.806045       0.592373\n",
      "                                 name  best_loss_val  best_acc_val\n",
      "0                     high.educ_group       0.058353      0.836066\n",
      "1                             married       0.068816      0.819672\n",
      "2                      race.ethnicity       0.080219      0.786885\n",
      "3                        income_group       0.215974      0.360656\n",
      "4                              female       0.086419      0.491803\n",
      "5                            BMI_norm       0.746401     13.122930\n",
      "6                            age_norm       1.223452     68.436692\n",
      "7                            vol_norm       0.699827      0.702208\n",
      "8                         weight_norm       0.816275    443.979124\n",
      "9                         height_norm       0.786983      7.822515\n",
      "10  nihtbx_fluidcomp_uncorrected_norm       0.893372      0.670084\n",
      "11      nihtbx_cryst_uncorrected_norm       0.957906      0.589590\n",
      "12    nihtbx_pattern_uncorrected_norm       0.854786      0.769273\n",
      "13    nihtbx_picture_uncorrected_norm       1.011544      0.927969\n",
      "14       nihtbx_list_uncorrected_norm       0.734439      0.581560\n",
      "15    nihtbx_flanker_uncorrected_norm       0.936767      0.770787\n",
      "16   nihtbx_picvocab_uncorrected_norm       0.988920      0.639010\n",
      "17   nihtbx_cardsort_uncorrected_norm       0.824234      0.708451\n",
      "18  nihtbx_totalcomp_uncorrected_norm       0.789101      0.488333\n",
      "19    nihtbx_reading_uncorrected_norm       0.819603      0.602337\n",
      "Epoch 1, Loss: 58.832, Accuracy: 965.867, Val Loss: 13.732, Val Accuracy: 562.642, Time Model: 197.076, Time Data: 1.318\n",
      "Epochs: 2\n"
     ]
    },
    {
     "name": "stdout",
     "output_type": "stream",
     "text": [
      "10.0\n"
     ]
    },
    {
     "name": "stdout",
     "output_type": "stream",
     "text": [
      "20.0\n"
     ]
    },
    {
     "name": "stdout",
     "output_type": "stream",
     "text": [
      "30.0\n"
     ]
    },
    {
     "name": "stdout",
     "output_type": "stream",
     "text": [
      "40.0\n"
     ]
    },
    {
     "name": "stdout",
     "output_type": "stream",
     "text": [
      "50.0\n"
     ]
    },
    {
     "name": "stdout",
     "output_type": "stream",
     "text": [
      "60.0\n"
     ]
    },
    {
     "name": "stdout",
     "output_type": "stream",
     "text": [
      "70.0\n"
     ]
    },
    {
     "name": "stdout",
     "output_type": "stream",
     "text": [
      "10.0\n"
     ]
    },
    {
     "name": "stdout",
     "output_type": "stream",
     "text": [
      "10.0\n"
     ]
    },
    {
     "name": "stdout",
     "output_type": "stream",
     "text": [
      "                                 name  best_loss_test  best_acc_test\n",
      "0                     high.educ_group        0.045038       0.926230\n",
      "1                             married        0.080679       0.860656\n",
      "2                      race.ethnicity        0.094885       0.778689\n",
      "3                        income_group        0.246933       0.245902\n",
      "4                              female        0.088066       0.540984\n",
      "5                            BMI_norm        0.933752      16.416861\n",
      "6                            age_norm        1.098935      61.471532\n",
      "7                            vol_norm        0.539698       0.541534\n",
      "8                         weight_norm        1.105551     601.318519\n",
      "9                         height_norm        0.823956       8.190022\n",
      "10  nihtbx_fluidcomp_uncorrected_norm        0.764688       0.573563\n",
      "11      nihtbx_cryst_uncorrected_norm        1.007741       0.620264\n",
      "12    nihtbx_pattern_uncorrected_norm        0.718154       0.646309\n",
      "13    nihtbx_picture_uncorrected_norm        0.757683       0.695083\n",
      "14       nihtbx_list_uncorrected_norm        0.798841       0.632555\n",
      "15    nihtbx_flanker_uncorrected_norm        0.782358       0.643736\n",
      "16   nihtbx_picvocab_uncorrected_norm        1.096493       0.708520\n",
      "17   nihtbx_cardsort_uncorrected_norm        0.734082       0.630963\n",
      "18  nihtbx_totalcomp_uncorrected_norm        0.843703       0.522123\n",
      "19    nihtbx_reading_uncorrected_norm        0.806045       0.592373\n",
      "                                 name  best_loss_val  best_acc_val\n",
      "0                     high.educ_group       0.054298      0.836066\n",
      "1                             married       0.068737      0.819672\n",
      "2                      race.ethnicity       0.073667      0.786885\n",
      "3                        income_group       0.215974      0.360656\n",
      "4                              female       0.082522      0.508197\n",
      "5                            BMI_norm       0.681183     11.976288\n",
      "6                            age_norm       1.223452     68.436692\n",
      "7                            vol_norm       0.680978      0.683295\n",
      "8                         weight_norm       0.759776    413.248911\n",
      "9                         height_norm       0.768307      7.636874\n",
      "10  nihtbx_fluidcomp_uncorrected_norm       0.892144      0.669164\n",
      "11      nihtbx_cryst_uncorrected_norm       0.943128      0.580494\n",
      "12    nihtbx_pattern_uncorrected_norm       0.849156      0.764206\n",
      "13    nihtbx_picture_uncorrected_norm       1.011544      0.927969\n",
      "14       nihtbx_list_uncorrected_norm       0.733257      0.580623\n",
      "15    nihtbx_flanker_uncorrected_norm       0.928961      0.764364\n",
      "16   nihtbx_picvocab_uncorrected_norm       0.985579      0.636851\n",
      "17   nihtbx_cardsort_uncorrected_norm       0.816902      0.702149\n",
      "18  nihtbx_totalcomp_uncorrected_norm       0.789101      0.488333\n",
      "19    nihtbx_reading_uncorrected_norm       0.819603      0.602337\n",
      "Epoch 2, Loss: 58.225, Accuracy: 912.964, Val Loss: 13.416, Val Accuracy: 512.333, Time Model: 197.006, Time Data: 1.408\n",
      "Epochs: 3\n"
     ]
    },
    {
     "name": "stdout",
     "output_type": "stream",
     "text": [
      "10.0\n"
     ]
    },
    {
     "name": "stdout",
     "output_type": "stream",
     "text": [
      "20.0\n"
     ]
    },
    {
     "name": "stdout",
     "output_type": "stream",
     "text": [
      "30.0\n"
     ]
    },
    {
     "name": "stdout",
     "output_type": "stream",
     "text": [
      "40.0\n"
     ]
    },
    {
     "name": "stdout",
     "output_type": "stream",
     "text": [
      "50.0\n"
     ]
    },
    {
     "name": "stdout",
     "output_type": "stream",
     "text": [
      "60.0\n"
     ]
    },
    {
     "name": "stdout",
     "output_type": "stream",
     "text": [
      "70.0\n"
     ]
    },
    {
     "name": "stdout",
     "output_type": "stream",
     "text": [
      "10.0\n"
     ]
    },
    {
     "name": "stdout",
     "output_type": "stream",
     "text": [
      "10.0\n"
     ]
    },
    {
     "name": "stdout",
     "output_type": "stream",
     "text": [
      "                                 name  best_loss_test  best_acc_test\n",
      "0                     high.educ_group        0.044454       0.926230\n",
      "1                             married        0.080679       0.860656\n",
      "2                      race.ethnicity        0.092551       0.778689\n",
      "3                        income_group        0.246933       0.245902\n",
      "4                              female        0.086309       0.581967\n",
      "5                            BMI_norm        0.933752      16.416861\n",
      "6                            age_norm        1.107975      61.977235\n",
      "7                            vol_norm        0.466060       0.467646\n",
      "8                         weight_norm        0.881260     479.324667\n",
      "9                         height_norm        0.781153       7.764556\n",
      "10  nihtbx_fluidcomp_uncorrected_norm        0.770410       0.577855\n",
      "11      nihtbx_cryst_uncorrected_norm        1.007741       0.620264\n",
      "12    nihtbx_pattern_uncorrected_norm        0.716071       0.644435\n",
      "13    nihtbx_picture_uncorrected_norm        0.757683       0.695083\n",
      "14       nihtbx_list_uncorrected_norm        0.798841       0.632555\n",
      "15    nihtbx_flanker_uncorrected_norm        0.782358       0.643736\n",
      "16   nihtbx_picvocab_uncorrected_norm        1.096493       0.708520\n",
      "17   nihtbx_cardsort_uncorrected_norm        0.739454       0.635580\n",
      "18  nihtbx_totalcomp_uncorrected_norm        0.843703       0.522123\n",
      "19    nihtbx_reading_uncorrected_norm        0.787229       0.578545\n",
      "                                 name  best_loss_val  best_acc_val\n",
      "0                     high.educ_group       0.053631      0.836066\n",
      "1                             married       0.068737      0.819672\n",
      "2                      race.ethnicity       0.072091      0.786885\n",
      "3                        income_group       0.215974      0.360656\n",
      "4                              female       0.080973      0.540984\n",
      "5                            BMI_norm       0.681183     11.976288\n",
      "6                            age_norm       1.219899     68.237985\n",
      "7                            vol_norm       0.573477      0.575428\n",
      "8                         weight_norm       0.740985    403.027824\n",
      "9                         height_norm       0.758866      7.543028\n",
      "10  nihtbx_fluidcomp_uncorrected_norm       0.875326      0.656549\n",
      "11      nihtbx_cryst_uncorrected_norm       0.943128      0.580494\n",
      "12    nihtbx_pattern_uncorrected_norm       0.832422      0.749146\n",
      "13    nihtbx_picture_uncorrected_norm       1.011544      0.927969\n",
      "14       nihtbx_list_uncorrected_norm       0.733257      0.580623\n",
      "15    nihtbx_flanker_uncorrected_norm       0.928961      0.764364\n",
      "16   nihtbx_picvocab_uncorrected_norm       0.985579      0.636851\n",
      "17   nihtbx_cardsort_uncorrected_norm       0.805598      0.692432\n",
      "18  nihtbx_totalcomp_uncorrected_norm       0.789101      0.488333\n",
      "19    nihtbx_reading_uncorrected_norm       0.808686      0.594314\n",
      "Epoch 3, Loss: 57.936, Accuracy: 889.999, Val Loss: 13.331, Val Accuracy: 502.379, Time Model: 197.111, Time Data: 1.386\n",
      "Epochs: 4\n"
     ]
    },
    {
     "name": "stdout",
     "output_type": "stream",
     "text": [
      "10.0\n"
     ]
    },
    {
     "name": "stdout",
     "output_type": "stream",
     "text": [
      "20.0\n"
     ]
    },
    {
     "name": "stdout",
     "output_type": "stream",
     "text": [
      "30.0\n"
     ]
    },
    {
     "name": "stdout",
     "output_type": "stream",
     "text": [
      "40.0\n"
     ]
    },
    {
     "name": "stdout",
     "output_type": "stream",
     "text": [
      "50.0\n"
     ]
    },
    {
     "name": "stdout",
     "output_type": "stream",
     "text": [
      "60.0\n"
     ]
    },
    {
     "name": "stdout",
     "output_type": "stream",
     "text": [
      "70.0\n"
     ]
    },
    {
     "name": "stdout",
     "output_type": "stream",
     "text": [
      "10.0\n"
     ]
    },
    {
     "name": "stdout",
     "output_type": "stream",
     "text": [
      "10.0\n"
     ]
    },
    {
     "name": "stdout",
     "output_type": "stream",
     "text": [
      "                                 name  best_loss_test  best_acc_test\n",
      "0                     high.educ_group        0.044454       0.926230\n",
      "1                             married        0.080679       0.860656\n",
      "2                      race.ethnicity        0.092551       0.778689\n",
      "3                        income_group        0.246933       0.245902\n",
      "4                              female        0.086309       0.581967\n",
      "5                            BMI_norm        0.898370      15.794787\n",
      "6                            age_norm        1.084323      60.654177\n",
      "7                            vol_norm        0.466060       0.467646\n",
      "8                         weight_norm        1.040377     565.869877\n",
      "9                         height_norm        0.866092       8.608843\n",
      "10  nihtbx_fluidcomp_uncorrected_norm        0.810083       0.607612\n",
      "11      nihtbx_cryst_uncorrected_norm        0.988441       0.608385\n",
      "12    nihtbx_pattern_uncorrected_norm        0.725920       0.653299\n",
      "13    nihtbx_picture_uncorrected_norm        0.757683       0.695083\n",
      "14       nihtbx_list_uncorrected_norm        0.790724       0.626129\n",
      "15    nihtbx_flanker_uncorrected_norm        0.782358       0.643736\n",
      "16   nihtbx_picvocab_uncorrected_norm        1.096493       0.708520\n",
      "17   nihtbx_cardsort_uncorrected_norm        0.736863       0.633353\n",
      "18  nihtbx_totalcomp_uncorrected_norm        0.858943       0.531554\n",
      "19    nihtbx_reading_uncorrected_norm        0.787229       0.578545\n",
      "                                 name  best_loss_val  best_acc_val\n",
      "0                     high.educ_group       0.053631      0.836066\n",
      "1                             married       0.068737      0.819672\n",
      "2                      race.ethnicity       0.072091      0.786885\n",
      "3                        income_group       0.215974      0.360656\n",
      "4                              female       0.080973      0.540984\n",
      "5                            BMI_norm       0.658507     11.577621\n",
      "6                            age_norm       1.201250     67.194792\n",
      "7                            vol_norm       0.573477      0.575428\n",
      "8                         weight_norm       0.707394    384.757492\n",
      "9                         height_norm       0.757145      7.525926\n",
      "10  nihtbx_fluidcomp_uncorrected_norm       0.870066      0.652604\n",
      "11      nihtbx_cryst_uncorrected_norm       0.942331      0.580004\n",
      "12    nihtbx_pattern_uncorrected_norm       0.830277      0.747216\n",
      "13    nihtbx_picture_uncorrected_norm       1.011544      0.927969\n",
      "14       nihtbx_list_uncorrected_norm       0.732713      0.580193\n",
      "15    nihtbx_flanker_uncorrected_norm       0.928961      0.764364\n",
      "16   nihtbx_picvocab_uncorrected_norm       0.985579      0.636851\n",
      "17   nihtbx_cardsort_uncorrected_norm       0.793838      0.682325\n",
      "18  nihtbx_totalcomp_uncorrected_norm       0.784892      0.485728\n",
      "19    nihtbx_reading_uncorrected_norm       0.808686      0.594314\n",
      "Epoch 4, Loss: 57.596, Accuracy: 868.633, Val Loss: 13.924, Val Accuracy: 482.363, Time Model: 197.130, Time Data: 1.332\n",
      "Epochs: 5\n"
     ]
    },
    {
     "name": "stdout",
     "output_type": "stream",
     "text": [
      "10.0\n"
     ]
    },
    {
     "name": "stdout",
     "output_type": "stream",
     "text": [
      "20.0\n"
     ]
    },
    {
     "name": "stdout",
     "output_type": "stream",
     "text": [
      "30.0\n"
     ]
    },
    {
     "name": "stdout",
     "output_type": "stream",
     "text": [
      "40.0\n"
     ]
    },
    {
     "name": "stdout",
     "output_type": "stream",
     "text": [
      "50.0\n"
     ]
    },
    {
     "name": "stdout",
     "output_type": "stream",
     "text": [
      "60.0\n"
     ]
    },
    {
     "name": "stdout",
     "output_type": "stream",
     "text": [
      "70.0\n"
     ]
    },
    {
     "name": "stdout",
     "output_type": "stream",
     "text": [
      "10.0\n"
     ]
    },
    {
     "name": "stdout",
     "output_type": "stream",
     "text": [
      "10.0\n"
     ]
    },
    {
     "name": "stdout",
     "output_type": "stream",
     "text": [
      "                                 name  best_loss_test  best_acc_test\n",
      "0                     high.educ_group        0.044454       0.926230\n",
      "1                             married        0.080679       0.860656\n",
      "2                      race.ethnicity        0.092551       0.778689\n",
      "3                        income_group        0.246933       0.245902\n",
      "4                              female        0.086309       0.581967\n",
      "5                            BMI_norm        0.601916      10.582650\n",
      "6                            age_norm        1.078555      60.331539\n",
      "7                            vol_norm        0.466060       0.467646\n",
      "8                         weight_norm        1.040377     565.869877\n",
      "9                         height_norm        0.866092       8.608843\n",
      "10  nihtbx_fluidcomp_uncorrected_norm        0.810083       0.607612\n",
      "11      nihtbx_cryst_uncorrected_norm        0.988441       0.608385\n",
      "12    nihtbx_pattern_uncorrected_norm        0.723690       0.651291\n",
      "13    nihtbx_picture_uncorrected_norm        0.756469       0.693969\n",
      "14       nihtbx_list_uncorrected_norm        0.790724       0.626129\n",
      "15    nihtbx_flanker_uncorrected_norm        0.782358       0.643736\n",
      "16   nihtbx_picvocab_uncorrected_norm        1.096493       0.708520\n",
      "17   nihtbx_cardsort_uncorrected_norm        0.736863       0.633353\n",
      "18  nihtbx_totalcomp_uncorrected_norm        0.858943       0.531554\n",
      "19    nihtbx_reading_uncorrected_norm        0.787229       0.578545\n",
      "                                 name  best_loss_val  best_acc_val\n",
      "0                     high.educ_group       0.053631      0.836066\n",
      "1                             married       0.068737      0.819672\n",
      "2                      race.ethnicity       0.072091      0.786885\n",
      "3                        income_group       0.215974      0.360656\n",
      "4                              female       0.080973      0.540984\n",
      "5                            BMI_norm       0.533449      9.378895\n",
      "6                            age_norm       1.187598     66.431116\n",
      "7                            vol_norm       0.573477      0.575428\n",
      "8                         weight_norm       0.707394    384.757492\n",
      "9                         height_norm       0.757145      7.525926\n",
      "10  nihtbx_fluidcomp_uncorrected_norm       0.870066      0.652604\n",
      "11      nihtbx_cryst_uncorrected_norm       0.942331      0.580004\n",
      "12    nihtbx_pattern_uncorrected_norm       0.829517      0.746532\n",
      "13    nihtbx_picture_uncorrected_norm       1.001333      0.918601\n",
      "14       nihtbx_list_uncorrected_norm       0.732713      0.580193\n",
      "15    nihtbx_flanker_uncorrected_norm       0.928961      0.764364\n",
      "16   nihtbx_picvocab_uncorrected_norm       0.985579      0.636851\n",
      "17   nihtbx_cardsort_uncorrected_norm       0.793838      0.682325\n",
      "18  nihtbx_totalcomp_uncorrected_norm       0.784892      0.485728\n",
      "19    nihtbx_reading_uncorrected_norm       0.808686      0.594314\n",
      "Epoch 5, Loss: 57.471, Accuracy: 863.560, Val Loss: 15.413, Val Accuracy: 691.787, Time Model: 197.131, Time Data: 1.302\n",
      "Epochs: 6\n"
     ]
    },
    {
     "name": "stdout",
     "output_type": "stream",
     "text": [
      "10.0\n"
     ]
    },
    {
     "name": "stdout",
     "output_type": "stream",
     "text": [
      "20.0\n"
     ]
    },
    {
     "name": "stdout",
     "output_type": "stream",
     "text": [
      "30.0\n"
     ]
    },
    {
     "name": "stdout",
     "output_type": "stream",
     "text": [
      "40.0\n"
     ]
    },
    {
     "name": "stdout",
     "output_type": "stream",
     "text": [
      "50.0\n"
     ]
    },
    {
     "name": "stdout",
     "output_type": "stream",
     "text": [
      "60.0\n"
     ]
    },
    {
     "name": "stdout",
     "output_type": "stream",
     "text": [
      "70.0\n"
     ]
    },
    {
     "name": "stdout",
     "output_type": "stream",
     "text": [
      "10.0\n"
     ]
    },
    {
     "name": "stdout",
     "output_type": "stream",
     "text": [
      "10.0\n"
     ]
    },
    {
     "name": "stdout",
     "output_type": "stream",
     "text": [
      "                                 name  best_loss_test  best_acc_test\n",
      "0                     high.educ_group        0.042803       0.926230\n",
      "1                             married        0.080679       0.860656\n",
      "2                      race.ethnicity        0.092551       0.795082\n",
      "3                        income_group        0.246933       0.245902\n",
      "4                              female        0.086309       0.581967\n",
      "5                            BMI_norm        0.601916      10.582650\n",
      "6                            age_norm        1.078555      60.331539\n",
      "7                            vol_norm        0.466060       0.467646\n",
      "8                         weight_norm        1.040377     565.869877\n",
      "9                         height_norm        0.810430       8.055567\n",
      "10  nihtbx_fluidcomp_uncorrected_norm        0.810083       0.607612\n",
      "11      nihtbx_cryst_uncorrected_norm        0.988441       0.608385\n",
      "12    nihtbx_pattern_uncorrected_norm        0.723690       0.651291\n",
      "13    nihtbx_picture_uncorrected_norm        0.756469       0.693969\n",
      "14       nihtbx_list_uncorrected_norm        0.790724       0.626129\n",
      "15    nihtbx_flanker_uncorrected_norm        0.782358       0.643736\n",
      "16   nihtbx_picvocab_uncorrected_norm        1.096493       0.708520\n",
      "17   nihtbx_cardsort_uncorrected_norm        0.808157       0.694633\n",
      "18  nihtbx_totalcomp_uncorrected_norm        0.858943       0.531554\n",
      "19    nihtbx_reading_uncorrected_norm        0.787229       0.578545\n",
      "                                 name  best_loss_val  best_acc_val\n",
      "0                     high.educ_group       0.048879      0.836066\n",
      "1                             married       0.068737      0.819672\n",
      "2                      race.ethnicity       0.072091      0.795082\n",
      "3                        income_group       0.215974      0.360656\n",
      "4                              female       0.080973      0.540984\n",
      "5                            BMI_norm       0.533449      9.378895\n",
      "6                            age_norm       1.187598     66.431116\n",
      "7                            vol_norm       0.573477      0.575428\n",
      "8                         weight_norm       0.707394    384.757492\n",
      "9                         height_norm       0.688073      6.839358\n",
      "10  nihtbx_fluidcomp_uncorrected_norm       0.870066      0.652604\n",
      "11      nihtbx_cryst_uncorrected_norm       0.942331      0.580004\n",
      "12    nihtbx_pattern_uncorrected_norm       0.829517      0.746532\n",
      "13    nihtbx_picture_uncorrected_norm       1.001333      0.918601\n",
      "14       nihtbx_list_uncorrected_norm       0.732713      0.580193\n",
      "15    nihtbx_flanker_uncorrected_norm       0.928961      0.764364\n",
      "16   nihtbx_picvocab_uncorrected_norm       0.985579      0.636851\n",
      "17   nihtbx_cardsort_uncorrected_norm       0.792182      0.680902\n",
      "18  nihtbx_totalcomp_uncorrected_norm       0.784892      0.485728\n",
      "19    nihtbx_reading_uncorrected_norm       0.808686      0.594314\n",
      "Epoch 6, Loss: 57.273, Accuracy: 861.800, Val Loss: 19.522, Val Accuracy: 1272.737, Time Model: 197.069, Time Data: 1.377\n",
      "Epochs: 7\n"
     ]
    },
    {
     "name": "stdout",
     "output_type": "stream",
     "text": [
      "10.0\n"
     ]
    },
    {
     "name": "stdout",
     "output_type": "stream",
     "text": [
      "20.0\n"
     ]
    },
    {
     "name": "stdout",
     "output_type": "stream",
     "text": [
      "30.0\n"
     ]
    },
    {
     "name": "stdout",
     "output_type": "stream",
     "text": [
      "40.0\n"
     ]
    },
    {
     "name": "stdout",
     "output_type": "stream",
     "text": [
      "50.0\n"
     ]
    },
    {
     "name": "stdout",
     "output_type": "stream",
     "text": [
      "60.0\n"
     ]
    },
    {
     "name": "stdout",
     "output_type": "stream",
     "text": [
      "70.0\n"
     ]
    },
    {
     "name": "stdout",
     "output_type": "stream",
     "text": [
      "10.0\n"
     ]
    },
    {
     "name": "stdout",
     "output_type": "stream",
     "text": [
      "10.0\n"
     ]
    },
    {
     "name": "stdout",
     "output_type": "stream",
     "text": [
      "                                 name  best_loss_test  best_acc_test\n",
      "0                     high.educ_group        0.042803       0.926230\n",
      "1                             married        0.080679       0.860656\n",
      "2                      race.ethnicity        0.092551       0.795082\n",
      "3                        income_group        0.246933       0.245902\n",
      "4                              female        0.086309       0.581967\n",
      "5                            BMI_norm        0.601916      10.582650\n",
      "6                            age_norm        1.078555      60.331539\n",
      "7                            vol_norm        0.466060       0.467646\n",
      "8                         weight_norm        1.040377     565.869877\n",
      "9                         height_norm        0.810430       8.055567\n",
      "10  nihtbx_fluidcomp_uncorrected_norm        0.810083       0.607612\n",
      "11      nihtbx_cryst_uncorrected_norm        0.988441       0.608385\n",
      "12    nihtbx_pattern_uncorrected_norm        0.723690       0.651291\n",
      "13    nihtbx_picture_uncorrected_norm        0.756469       0.693969\n",
      "14       nihtbx_list_uncorrected_norm        0.789235       0.624950\n",
      "15    nihtbx_flanker_uncorrected_norm        0.782358       0.643736\n",
      "16   nihtbx_picvocab_uncorrected_norm        1.096493       0.708520\n",
      "17   nihtbx_cardsort_uncorrected_norm        0.766628       0.658937\n",
      "18  nihtbx_totalcomp_uncorrected_norm        0.858943       0.531554\n",
      "19    nihtbx_reading_uncorrected_norm        0.787229       0.578545\n",
      "                                 name  best_loss_val  best_acc_val\n",
      "0                     high.educ_group       0.048879      0.836066\n",
      "1                             married       0.068737      0.819672\n",
      "2                      race.ethnicity       0.072091      0.795082\n",
      "3                        income_group       0.215974      0.360656\n",
      "4                              female       0.080973      0.540984\n",
      "5                            BMI_norm       0.533449      9.378895\n",
      "6                            age_norm       1.187598     66.431116\n",
      "7                            vol_norm       0.573477      0.575428\n",
      "8                         weight_norm       0.707394    384.757492\n",
      "9                         height_norm       0.688073      6.839358\n",
      "10  nihtbx_fluidcomp_uncorrected_norm       0.870066      0.652604\n",
      "11      nihtbx_cryst_uncorrected_norm       0.942331      0.580004\n",
      "12    nihtbx_pattern_uncorrected_norm       0.829517      0.746532\n",
      "13    nihtbx_picture_uncorrected_norm       1.001333      0.918601\n",
      "14       nihtbx_list_uncorrected_norm       0.726643      0.575386\n",
      "15    nihtbx_flanker_uncorrected_norm       0.928961      0.764364\n",
      "16   nihtbx_picvocab_uncorrected_norm       0.985579      0.636851\n",
      "17   nihtbx_cardsort_uncorrected_norm       0.773566      0.664900\n",
      "18  nihtbx_totalcomp_uncorrected_norm       0.784892      0.485728\n",
      "19    nihtbx_reading_uncorrected_norm       0.808686      0.594314\n",
      "Epoch 7, Loss: 57.143, Accuracy: 840.366, Val Loss: 128.422, Val Accuracy: 1872.996, Time Model: 197.072, Time Data: 1.354\n",
      "Epochs: 8\n"
     ]
    },
    {
     "name": "stdout",
     "output_type": "stream",
     "text": [
      "10.0\n"
     ]
    },
    {
     "name": "stdout",
     "output_type": "stream",
     "text": [
      "20.0\n"
     ]
    },
    {
     "name": "stdout",
     "output_type": "stream",
     "text": [
      "30.0\n"
     ]
    },
    {
     "name": "stdout",
     "output_type": "stream",
     "text": [
      "40.0\n"
     ]
    },
    {
     "name": "stdout",
     "output_type": "stream",
     "text": [
      "50.0\n"
     ]
    },
    {
     "name": "stdout",
     "output_type": "stream",
     "text": [
      "60.0\n"
     ]
    },
    {
     "name": "stdout",
     "output_type": "stream",
     "text": [
      "70.0\n"
     ]
    },
    {
     "name": "stdout",
     "output_type": "stream",
     "text": [
      "10.0\n"
     ]
    },
    {
     "name": "stdout",
     "output_type": "stream",
     "text": [
      "10.0\n"
     ]
    },
    {
     "name": "stdout",
     "output_type": "stream",
     "text": [
      "                                 name  best_loss_test  best_acc_test\n",
      "0                     high.educ_group        0.042803       0.926230\n",
      "1                             married        0.080679       0.844262\n",
      "2                      race.ethnicity        0.092551       0.795082\n",
      "3                        income_group        0.246933       0.245902\n",
      "4                              female        0.086309       0.581967\n",
      "5                            BMI_norm        0.522921       9.193801\n",
      "6                            age_norm        1.078555      60.331539\n",
      "7                            vol_norm        0.466060       0.467646\n",
      "8                         weight_norm        1.040377     565.869877\n",
      "9                         height_norm        0.810430       8.055567\n",
      "10  nihtbx_fluidcomp_uncorrected_norm        0.810083       0.607612\n",
      "11      nihtbx_cryst_uncorrected_norm        0.988441       0.608385\n",
      "12    nihtbx_pattern_uncorrected_norm        0.723690       0.651291\n",
      "13    nihtbx_picture_uncorrected_norm        0.756469       0.693969\n",
      "14       nihtbx_list_uncorrected_norm        0.789235       0.624950\n",
      "15    nihtbx_flanker_uncorrected_norm        0.782358       0.643736\n",
      "16   nihtbx_picvocab_uncorrected_norm        1.096493       0.708520\n",
      "17   nihtbx_cardsort_uncorrected_norm        0.766628       0.658937\n",
      "18  nihtbx_totalcomp_uncorrected_norm        0.858943       0.531554\n",
      "19    nihtbx_reading_uncorrected_norm        0.787229       0.578545\n",
      "                                 name  best_loss_val  best_acc_val\n",
      "0                     high.educ_group       0.048879      0.836066\n",
      "1                             married       0.068737      0.819672\n",
      "2                      race.ethnicity       0.072091      0.795082\n",
      "3                        income_group       0.215974      0.360656\n",
      "4                              female       0.080973      0.540984\n",
      "5                            BMI_norm       0.497846      8.752935\n",
      "6                            age_norm       1.187598     66.431116\n",
      "7                            vol_norm       0.573477      0.575428\n",
      "8                         weight_norm       0.707394    384.757492\n",
      "9                         height_norm       0.688073      6.839358\n",
      "10  nihtbx_fluidcomp_uncorrected_norm       0.870066      0.652604\n",
      "11      nihtbx_cryst_uncorrected_norm       0.942331      0.580004\n",
      "12    nihtbx_pattern_uncorrected_norm       0.829517      0.746532\n",
      "13    nihtbx_picture_uncorrected_norm       1.001333      0.918601\n",
      "14       nihtbx_list_uncorrected_norm       0.726643      0.575386\n",
      "15    nihtbx_flanker_uncorrected_norm       0.928961      0.764364\n",
      "16   nihtbx_picvocab_uncorrected_norm       0.985579      0.636851\n",
      "17   nihtbx_cardsort_uncorrected_norm       0.773566      0.664900\n",
      "18  nihtbx_totalcomp_uncorrected_norm       0.784892      0.485728\n",
      "19    nihtbx_reading_uncorrected_norm       0.808686      0.594314\n",
      "Epoch 8, Loss: 56.974, Accuracy: 858.349, Val Loss: 42.571, Val Accuracy: 1931.698, Time Model: 197.117, Time Data: 1.315\n",
      "Epochs: 9\n"
     ]
    },
    {
     "name": "stdout",
     "output_type": "stream",
     "text": [
      "10.0\n"
     ]
    },
    {
     "name": "stdout",
     "output_type": "stream",
     "text": [
      "20.0\n"
     ]
    },
    {
     "name": "stdout",
     "output_type": "stream",
     "text": [
      "30.0\n"
     ]
    },
    {
     "name": "stdout",
     "output_type": "stream",
     "text": [
      "40.0\n"
     ]
    },
    {
     "name": "stdout",
     "output_type": "stream",
     "text": [
      "50.0\n"
     ]
    },
    {
     "name": "stdout",
     "output_type": "stream",
     "text": [
      "60.0\n"
     ]
    },
    {
     "name": "stdout",
     "output_type": "stream",
     "text": [
      "70.0\n"
     ]
    },
    {
     "name": "stdout",
     "output_type": "stream",
     "text": [
      "10.0\n"
     ]
    },
    {
     "name": "stdout",
     "output_type": "stream",
     "text": [
      "10.0\n"
     ]
    },
    {
     "name": "stdout",
     "output_type": "stream",
     "text": [
      "                                 name  best_loss_test  best_acc_test\n",
      "0                     high.educ_group        0.042803       0.926230\n",
      "1                             married        0.080679       0.860656\n",
      "2                      race.ethnicity        0.092551       0.795082\n",
      "3                        income_group        0.246933       0.245902\n",
      "4                              female        0.086309       0.581967\n",
      "5                            BMI_norm        0.522921       9.193801\n",
      "6                            age_norm        1.039998      58.174765\n",
      "7                            vol_norm        0.466060       0.467646\n",
      "8                         weight_norm        1.040377     565.869877\n",
      "9                         height_norm        0.810430       8.055567\n",
      "10  nihtbx_fluidcomp_uncorrected_norm        0.810083       0.607612\n",
      "11      nihtbx_cryst_uncorrected_norm        0.988441       0.608385\n",
      "12    nihtbx_pattern_uncorrected_norm        0.723690       0.651291\n",
      "13    nihtbx_picture_uncorrected_norm        0.756469       0.693969\n",
      "14       nihtbx_list_uncorrected_norm        0.789235       0.624950\n",
      "15    nihtbx_flanker_uncorrected_norm        0.782358       0.643736\n",
      "16   nihtbx_picvocab_uncorrected_norm        1.096493       0.708520\n",
      "17   nihtbx_cardsort_uncorrected_norm        0.766628       0.658937\n",
      "18  nihtbx_totalcomp_uncorrected_norm        0.858943       0.531554\n",
      "19    nihtbx_reading_uncorrected_norm        0.787229       0.578545\n",
      "                                 name  best_loss_val  best_acc_val\n",
      "0                     high.educ_group       0.048879      0.836066\n",
      "1                             married       0.068737      0.819672\n",
      "2                      race.ethnicity       0.072091      0.795082\n",
      "3                        income_group       0.215974      0.360656\n",
      "4                              female       0.080973      0.540984\n",
      "5                            BMI_norm       0.497846      8.752935\n",
      "6                            age_norm       1.091769     61.070737\n",
      "7                            vol_norm       0.573477      0.575428\n",
      "8                         weight_norm       0.707394    384.757492\n",
      "9                         height_norm       0.688073      6.839358\n",
      "10  nihtbx_fluidcomp_uncorrected_norm       0.870066      0.652604\n",
      "11      nihtbx_cryst_uncorrected_norm       0.942331      0.580004\n",
      "12    nihtbx_pattern_uncorrected_norm       0.829517      0.746532\n",
      "13    nihtbx_picture_uncorrected_norm       1.001333      0.918601\n",
      "14       nihtbx_list_uncorrected_norm       0.726643      0.575386\n",
      "15    nihtbx_flanker_uncorrected_norm       0.928961      0.764364\n",
      "16   nihtbx_picvocab_uncorrected_norm       0.985579      0.636851\n",
      "17   nihtbx_cardsort_uncorrected_norm       0.773566      0.664900\n",
      "18  nihtbx_totalcomp_uncorrected_norm       0.784892      0.485728\n",
      "19    nihtbx_reading_uncorrected_norm       0.808686      0.594314\n",
      "Epoch 9, Loss: 56.578, Accuracy: 824.704, Val Loss: 20.530, Val Accuracy: 2022.513, Time Model: 197.144, Time Data: 1.342\n",
      "Epochs: 10\n"
     ]
    },
    {
     "name": "stdout",
     "output_type": "stream",
     "text": [
      "10.0\n"
     ]
    },
    {
     "name": "stdout",
     "output_type": "stream",
     "text": [
      "20.0\n"
     ]
    },
    {
     "name": "stdout",
     "output_type": "stream",
     "text": [
      "30.0\n"
     ]
    },
    {
     "name": "stdout",
     "output_type": "stream",
     "text": [
      "40.0\n"
     ]
    },
    {
     "name": "stdout",
     "output_type": "stream",
     "text": [
      "50.0\n"
     ]
    },
    {
     "name": "stdout",
     "output_type": "stream",
     "text": [
      "60.0\n"
     ]
    },
    {
     "name": "stdout",
     "output_type": "stream",
     "text": [
      "70.0\n"
     ]
    },
    {
     "name": "stdout",
     "output_type": "stream",
     "text": [
      "10.0\n"
     ]
    },
    {
     "name": "stdout",
     "output_type": "stream",
     "text": [
      "10.0\n"
     ]
    },
    {
     "name": "stdout",
     "output_type": "stream",
     "text": [
      "                                 name  best_loss_test  best_acc_test\n",
      "0                     high.educ_group        0.042803       0.926230\n",
      "1                             married        0.080679       0.860656\n",
      "2                      race.ethnicity        0.092551       0.795082\n",
      "3                        income_group        0.246933       0.245902\n",
      "4                              female        0.086309       0.581967\n",
      "5                            BMI_norm        0.374172       6.578547\n",
      "6                            age_norm        1.039998      58.174765\n",
      "7                            vol_norm        0.466060       0.467646\n",
      "8                         weight_norm        0.503494     273.854700\n",
      "9                         height_norm        0.810430       8.055567\n",
      "10  nihtbx_fluidcomp_uncorrected_norm        0.810083       0.607612\n",
      "11      nihtbx_cryst_uncorrected_norm        0.988441       0.608385\n",
      "12    nihtbx_pattern_uncorrected_norm        0.723690       0.651291\n",
      "13    nihtbx_picture_uncorrected_norm        0.756469       0.693969\n",
      "14       nihtbx_list_uncorrected_norm        0.789235       0.624950\n",
      "15    nihtbx_flanker_uncorrected_norm        0.782358       0.643736\n",
      "16   nihtbx_picvocab_uncorrected_norm        1.096493       0.708520\n",
      "17   nihtbx_cardsort_uncorrected_norm        0.766628       0.658937\n",
      "18  nihtbx_totalcomp_uncorrected_norm        0.858943       0.531554\n",
      "19    nihtbx_reading_uncorrected_norm        0.787229       0.578545\n",
      "                                 name  best_loss_val  best_acc_val\n",
      "0                     high.educ_group       0.048879      0.836066\n",
      "1                             married       0.068737      0.819672\n",
      "2                      race.ethnicity       0.072091      0.795082\n",
      "3                        income_group       0.215974      0.360656\n",
      "4                              female       0.080973      0.540984\n",
      "5                            BMI_norm       0.265565      4.669064\n",
      "6                            age_norm       1.091769     61.070737\n",
      "7                            vol_norm       0.573477      0.575428\n",
      "8                         weight_norm       0.484620    263.588691\n",
      "9                         height_norm       0.688073      6.839358\n",
      "10  nihtbx_fluidcomp_uncorrected_norm       0.870066      0.652604\n",
      "11      nihtbx_cryst_uncorrected_norm       0.942331      0.580004\n",
      "12    nihtbx_pattern_uncorrected_norm       0.829517      0.746532\n",
      "13    nihtbx_picture_uncorrected_norm       1.001333      0.918601\n",
      "14       nihtbx_list_uncorrected_norm       0.726643      0.575386\n",
      "15    nihtbx_flanker_uncorrected_norm       0.928961      0.764364\n",
      "16   nihtbx_picvocab_uncorrected_norm       0.985579      0.636851\n",
      "17   nihtbx_cardsort_uncorrected_norm       0.773566      0.664900\n",
      "18  nihtbx_totalcomp_uncorrected_norm       0.784892      0.485728\n",
      "19    nihtbx_reading_uncorrected_norm       0.808686      0.594314\n",
      "Epoch 10, Loss: 56.280, Accuracy: 822.964, Val Loss: 23.552, Val Accuracy: 370.654, Time Model: 197.147, Time Data: 1.337\n",
      "Learning rate: <tf.Variable 'Adam/learning_rate:0' shape=() dtype=float32, numpy=0.00033333336>\n",
      "Epochs: 11\n"
     ]
    },
    {
     "name": "stdout",
     "output_type": "stream",
     "text": [
      "10.0\n"
     ]
    },
    {
     "name": "stdout",
     "output_type": "stream",
     "text": [
      "20.0\n"
     ]
    },
    {
     "name": "stdout",
     "output_type": "stream",
     "text": [
      "30.0\n"
     ]
    },
    {
     "name": "stdout",
     "output_type": "stream",
     "text": [
      "40.0\n"
     ]
    },
    {
     "name": "stdout",
     "output_type": "stream",
     "text": [
      "50.0\n"
     ]
    },
    {
     "name": "stdout",
     "output_type": "stream",
     "text": [
      "60.0\n"
     ]
    },
    {
     "name": "stdout",
     "output_type": "stream",
     "text": [
      "70.0\n"
     ]
    },
    {
     "name": "stdout",
     "output_type": "stream",
     "text": [
      "10.0\n"
     ]
    },
    {
     "name": "stdout",
     "output_type": "stream",
     "text": [
      "10.0\n"
     ]
    },
    {
     "name": "stdout",
     "output_type": "stream",
     "text": [
      "                                 name  best_loss_test  best_acc_test\n",
      "0                     high.educ_group        0.042803       0.926230\n",
      "1                             married        0.080679       0.860656\n",
      "2                      race.ethnicity        0.092551       0.795082\n",
      "3                        income_group        0.246933       0.245902\n",
      "4                              female        0.086309       0.581967\n",
      "5                            BMI_norm        0.374172       6.578547\n",
      "6                            age_norm        1.039998      58.174765\n",
      "7                            vol_norm        0.466060       0.467646\n",
      "8                         weight_norm        0.503494     273.854700\n",
      "9                         height_norm        0.810430       8.055567\n",
      "10  nihtbx_fluidcomp_uncorrected_norm        0.810083       0.607612\n",
      "11      nihtbx_cryst_uncorrected_norm        0.988441       0.608385\n",
      "12    nihtbx_pattern_uncorrected_norm        0.723690       0.651291\n",
      "13    nihtbx_picture_uncorrected_norm        0.756469       0.693969\n",
      "14       nihtbx_list_uncorrected_norm        0.789235       0.624950\n",
      "15    nihtbx_flanker_uncorrected_norm        0.782358       0.643736\n",
      "16   nihtbx_picvocab_uncorrected_norm        1.096493       0.708520\n",
      "17   nihtbx_cardsort_uncorrected_norm        0.766628       0.658937\n",
      "18  nihtbx_totalcomp_uncorrected_norm        0.858943       0.531554\n",
      "19    nihtbx_reading_uncorrected_norm        0.787229       0.578545\n",
      "                                 name  best_loss_val  best_acc_val\n",
      "0                     high.educ_group       0.048879      0.836066\n",
      "1                             married       0.068737      0.819672\n",
      "2                      race.ethnicity       0.072091      0.795082\n",
      "3                        income_group       0.215974      0.360656\n",
      "4                              female       0.080973      0.540984\n",
      "5                            BMI_norm       0.265565      4.669064\n",
      "6                            age_norm       1.091769     61.070737\n",
      "7                            vol_norm       0.573477      0.575428\n",
      "8                         weight_norm       0.484620    263.588691\n",
      "9                         height_norm       0.688073      6.839358\n",
      "10  nihtbx_fluidcomp_uncorrected_norm       0.870066      0.652604\n",
      "11      nihtbx_cryst_uncorrected_norm       0.942331      0.580004\n",
      "12    nihtbx_pattern_uncorrected_norm       0.829517      0.746532\n",
      "13    nihtbx_picture_uncorrected_norm       1.001333      0.918601\n",
      "14       nihtbx_list_uncorrected_norm       0.726643      0.575386\n",
      "15    nihtbx_flanker_uncorrected_norm       0.928961      0.764364\n",
      "16   nihtbx_picvocab_uncorrected_norm       0.985579      0.636851\n",
      "17   nihtbx_cardsort_uncorrected_norm       0.773566      0.664900\n",
      "18  nihtbx_totalcomp_uncorrected_norm       0.784892      0.485728\n",
      "19    nihtbx_reading_uncorrected_norm       0.808686      0.594314\n",
      "Epoch 11, Loss: 55.073, Accuracy: 769.629, Val Loss: 31.318, Val Accuracy: 497.271, Time Model: 197.160, Time Data: 1.362\n",
      "Epochs: 12\n"
     ]
    },
    {
     "name": "stdout",
     "output_type": "stream",
     "text": [
      "10.0\n"
     ]
    },
    {
     "name": "stdout",
     "output_type": "stream",
     "text": [
      "20.0\n"
     ]
    },
    {
     "name": "stdout",
     "output_type": "stream",
     "text": [
      "30.0\n"
     ]
    },
    {
     "name": "stdout",
     "output_type": "stream",
     "text": [
      "40.0\n"
     ]
    },
    {
     "name": "stdout",
     "output_type": "stream",
     "text": [
      "50.0\n"
     ]
    },
    {
     "name": "stdout",
     "output_type": "stream",
     "text": [
      "60.0\n"
     ]
    },
    {
     "name": "stdout",
     "output_type": "stream",
     "text": [
      "70.0\n"
     ]
    },
    {
     "name": "stdout",
     "output_type": "stream",
     "text": [
      "10.0\n"
     ]
    },
    {
     "name": "stdout",
     "output_type": "stream",
     "text": [
      "10.0\n"
     ]
    },
    {
     "name": "stdout",
     "output_type": "stream",
     "text": [
      "                                 name  best_loss_test  best_acc_test\n",
      "0                     high.educ_group        0.042803       0.926230\n",
      "1                             married        0.080679       0.860656\n",
      "2                      race.ethnicity        0.092551       0.795082\n",
      "3                        income_group        0.246933       0.245902\n",
      "4                              female        0.086309       0.581967\n",
      "5                            BMI_norm        0.124641       2.191392\n",
      "6                            age_norm        1.039998      58.174765\n",
      "7                            vol_norm        0.466060       0.467646\n",
      "8                         weight_norm        0.152669      83.038238\n",
      "9                         height_norm        0.434174       4.315630\n",
      "10  nihtbx_fluidcomp_uncorrected_norm        0.810083       0.607612\n",
      "11      nihtbx_cryst_uncorrected_norm        0.988441       0.608385\n",
      "12    nihtbx_pattern_uncorrected_norm        0.723690       0.651291\n",
      "13    nihtbx_picture_uncorrected_norm        0.756469       0.693969\n",
      "14       nihtbx_list_uncorrected_norm        0.789235       0.624950\n",
      "15    nihtbx_flanker_uncorrected_norm        0.782358       0.643736\n",
      "16   nihtbx_picvocab_uncorrected_norm        1.096493       0.708520\n",
      "17   nihtbx_cardsort_uncorrected_norm        0.766628       0.658937\n",
      "18  nihtbx_totalcomp_uncorrected_norm        0.858943       0.531554\n",
      "19    nihtbx_reading_uncorrected_norm        0.787229       0.578545\n",
      "                                 name  best_loss_val  best_acc_val\n",
      "0                     high.educ_group       0.048879      0.836066\n",
      "1                             married       0.068737      0.819672\n",
      "2                      race.ethnicity       0.072091      0.795082\n",
      "3                        income_group       0.215974      0.360656\n",
      "4                              female       0.080973      0.540984\n",
      "5                            BMI_norm       0.101373      1.782302\n",
      "6                            age_norm       1.091769     61.070737\n",
      "7                            vol_norm       0.573477      0.575428\n",
      "8                         weight_norm       0.106100     57.708452\n",
      "9                         height_norm       0.411788      4.093124\n",
      "10  nihtbx_fluidcomp_uncorrected_norm       0.870066      0.652604\n",
      "11      nihtbx_cryst_uncorrected_norm       0.942331      0.580004\n",
      "12    nihtbx_pattern_uncorrected_norm       0.829517      0.746532\n",
      "13    nihtbx_picture_uncorrected_norm       1.001333      0.918601\n",
      "14       nihtbx_list_uncorrected_norm       0.726643      0.575386\n",
      "15    nihtbx_flanker_uncorrected_norm       0.928961      0.764364\n",
      "16   nihtbx_picvocab_uncorrected_norm       0.985579      0.636851\n",
      "17   nihtbx_cardsort_uncorrected_norm       0.773566      0.664900\n",
      "18  nihtbx_totalcomp_uncorrected_norm       0.784892      0.485728\n",
      "19    nihtbx_reading_uncorrected_norm       0.808686      0.594314\n",
      "Epoch 12, Loss: 54.510, Accuracy: 757.144, Val Loss: 23.834, Val Accuracy: 162.240, Time Model: 197.168, Time Data: 1.370\n",
      "Epochs: 13\n"
     ]
    },
    {
     "name": "stdout",
     "output_type": "stream",
     "text": [
      "10.0\n"
     ]
    },
    {
     "name": "stdout",
     "output_type": "stream",
     "text": [
      "20.0\n"
     ]
    },
    {
     "name": "stdout",
     "output_type": "stream",
     "text": [
      "30.0\n"
     ]
    },
    {
     "name": "stdout",
     "output_type": "stream",
     "text": [
      "40.0\n"
     ]
    },
    {
     "name": "stdout",
     "output_type": "stream",
     "text": [
      "50.0\n"
     ]
    },
    {
     "name": "stdout",
     "output_type": "stream",
     "text": [
      "60.0\n"
     ]
    },
    {
     "name": "stdout",
     "output_type": "stream",
     "text": [
      "70.0\n"
     ]
    },
    {
     "name": "stdout",
     "output_type": "stream",
     "text": [
      "10.0\n"
     ]
    },
    {
     "name": "stdout",
     "output_type": "stream",
     "text": [
      "10.0\n"
     ]
    },
    {
     "name": "stdout",
     "output_type": "stream",
     "text": [
      "                                 name  best_loss_test  best_acc_test\n",
      "0                     high.educ_group        0.042803       0.926230\n",
      "1                             married        0.080679       0.860656\n",
      "2                      race.ethnicity        0.092551       0.795082\n",
      "3                        income_group        0.246933       0.245902\n",
      "4                              female        0.086309       0.581967\n",
      "5                            BMI_norm        0.124641       2.191392\n",
      "6                            age_norm        1.039998      58.174765\n",
      "7                            vol_norm        0.466060       0.467646\n",
      "8                         weight_norm        0.152669      83.038238\n",
      "9                         height_norm        0.434174       4.315630\n",
      "10  nihtbx_fluidcomp_uncorrected_norm        0.810083       0.607612\n",
      "11      nihtbx_cryst_uncorrected_norm        0.988441       0.608385\n",
      "12    nihtbx_pattern_uncorrected_norm        0.723690       0.651291\n",
      "13    nihtbx_picture_uncorrected_norm        0.756469       0.693969\n",
      "14       nihtbx_list_uncorrected_norm        0.789235       0.624950\n",
      "15    nihtbx_flanker_uncorrected_norm        0.782358       0.643736\n",
      "16   nihtbx_picvocab_uncorrected_norm        1.096493       0.708520\n",
      "17   nihtbx_cardsort_uncorrected_norm        0.766628       0.658937\n",
      "18  nihtbx_totalcomp_uncorrected_norm        0.858943       0.531554\n",
      "19    nihtbx_reading_uncorrected_norm        0.787229       0.578545\n",
      "                                 name  best_loss_val  best_acc_val\n",
      "0                     high.educ_group       0.048879      0.836066\n",
      "1                             married       0.068737      0.819672\n",
      "2                      race.ethnicity       0.072091      0.795082\n",
      "3                        income_group       0.215974      0.360656\n",
      "4                              female       0.080973      0.540984\n",
      "5                            BMI_norm       0.101373      1.782302\n",
      "6                            age_norm       1.091769     61.070737\n",
      "7                            vol_norm       0.573477      0.575428\n",
      "8                         weight_norm       0.106100     57.708452\n",
      "9                         height_norm       0.411788      4.093124\n",
      "10  nihtbx_fluidcomp_uncorrected_norm       0.870066      0.652604\n",
      "11      nihtbx_cryst_uncorrected_norm       0.942331      0.580004\n",
      "12    nihtbx_pattern_uncorrected_norm       0.829517      0.746532\n",
      "13    nihtbx_picture_uncorrected_norm       1.001333      0.918601\n",
      "14       nihtbx_list_uncorrected_norm       0.726643      0.575386\n",
      "15    nihtbx_flanker_uncorrected_norm       0.928961      0.764364\n",
      "16   nihtbx_picvocab_uncorrected_norm       0.985579      0.636851\n",
      "17   nihtbx_cardsort_uncorrected_norm       0.773566      0.664900\n",
      "18  nihtbx_totalcomp_uncorrected_norm       0.784892      0.485728\n",
      "19    nihtbx_reading_uncorrected_norm       0.808686      0.594314\n",
      "Epoch 13, Loss: 54.005, Accuracy: 734.913, Val Loss: 40.222, Val Accuracy: 1075.863, Time Model: 197.181, Time Data: 1.362\n",
      "Epochs: 14\n"
     ]
    },
    {
     "name": "stdout",
     "output_type": "stream",
     "text": [
      "10.0\n"
     ]
    },
    {
     "name": "stdout",
     "output_type": "stream",
     "text": [
      "20.0\n"
     ]
    },
    {
     "name": "stdout",
     "output_type": "stream",
     "text": [
      "30.0\n"
     ]
    },
    {
     "name": "stdout",
     "output_type": "stream",
     "text": [
      "40.0\n"
     ]
    },
    {
     "name": "stdout",
     "output_type": "stream",
     "text": [
      "50.0\n"
     ]
    },
    {
     "name": "stdout",
     "output_type": "stream",
     "text": [
      "60.0\n"
     ]
    },
    {
     "name": "stdout",
     "output_type": "stream",
     "text": [
      "70.0\n"
     ]
    },
    {
     "name": "stdout",
     "output_type": "stream",
     "text": [
      "10.0\n"
     ]
    },
    {
     "name": "stdout",
     "output_type": "stream",
     "text": [
      "10.0\n"
     ]
    },
    {
     "name": "stdout",
     "output_type": "stream",
     "text": [
      "                                 name  best_loss_test  best_acc_test\n",
      "0                     high.educ_group        0.042803       0.877049\n",
      "1                             married        0.080679       0.860656\n",
      "2                      race.ethnicity        0.092551       0.795082\n",
      "3                        income_group        0.246933       0.245902\n",
      "4                              female        0.086309       0.581967\n",
      "5                            BMI_norm        0.124641       2.191392\n",
      "6                            age_norm        1.135511      63.517502\n",
      "7                            vol_norm        0.466060       0.467646\n",
      "8                         weight_norm        0.152669      83.038238\n",
      "9                         height_norm        0.434174       4.315630\n",
      "10  nihtbx_fluidcomp_uncorrected_norm        0.810083       0.607612\n",
      "11      nihtbx_cryst_uncorrected_norm        0.988441       0.608385\n",
      "12    nihtbx_pattern_uncorrected_norm        0.723690       0.651291\n",
      "13    nihtbx_picture_uncorrected_norm        0.756469       0.693969\n",
      "14       nihtbx_list_uncorrected_norm        0.789235       0.624950\n",
      "15    nihtbx_flanker_uncorrected_norm        0.819641       0.674413\n",
      "16   nihtbx_picvocab_uncorrected_norm        1.096493       0.708520\n",
      "17   nihtbx_cardsort_uncorrected_norm        0.766628       0.658937\n",
      "18  nihtbx_totalcomp_uncorrected_norm        0.858943       0.531554\n",
      "19    nihtbx_reading_uncorrected_norm        0.787229       0.578545\n",
      "                                 name  best_loss_val  best_acc_val\n",
      "0                     high.educ_group       0.048879      0.836066\n",
      "1                             married       0.068737      0.819672\n",
      "2                      race.ethnicity       0.072091      0.795082\n",
      "3                        income_group       0.215974      0.360656\n",
      "4                              female       0.080973      0.540984\n",
      "5                            BMI_norm       0.101373      1.782302\n",
      "6                            age_norm       1.087536     60.833892\n",
      "7                            vol_norm       0.573477      0.575428\n",
      "8                         weight_norm       0.106100     57.708452\n",
      "9                         height_norm       0.411788      4.093124\n",
      "10  nihtbx_fluidcomp_uncorrected_norm       0.870066      0.652604\n",
      "11      nihtbx_cryst_uncorrected_norm       0.942331      0.580004\n",
      "12    nihtbx_pattern_uncorrected_norm       0.829517      0.746532\n",
      "13    nihtbx_picture_uncorrected_norm       1.001333      0.918601\n",
      "14       nihtbx_list_uncorrected_norm       0.726643      0.575386\n",
      "15    nihtbx_flanker_uncorrected_norm       0.924648      0.760815\n",
      "16   nihtbx_picvocab_uncorrected_norm       0.985579      0.636851\n",
      "17   nihtbx_cardsort_uncorrected_norm       0.773566      0.664900\n",
      "18  nihtbx_totalcomp_uncorrected_norm       0.784892      0.485728\n",
      "19    nihtbx_reading_uncorrected_norm       0.808686      0.594314\n",
      "Epoch 14, Loss: 53.662, Accuracy: 730.824, Val Loss: 31.310, Val Accuracy: 1772.583, Time Model: 197.135, Time Data: 1.335\n",
      "Epochs: 15\n"
     ]
    },
    {
     "name": "stdout",
     "output_type": "stream",
     "text": [
      "10.0\n"
     ]
    },
    {
     "name": "stdout",
     "output_type": "stream",
     "text": [
      "20.0\n"
     ]
    },
    {
     "name": "stdout",
     "output_type": "stream",
     "text": [
      "30.0\n"
     ]
    },
    {
     "name": "stdout",
     "output_type": "stream",
     "text": [
      "40.0\n"
     ]
    },
    {
     "name": "stdout",
     "output_type": "stream",
     "text": [
      "50.0\n"
     ]
    },
    {
     "name": "stdout",
     "output_type": "stream",
     "text": [
      "60.0\n"
     ]
    },
    {
     "name": "stdout",
     "output_type": "stream",
     "text": [
      "70.0\n"
     ]
    },
    {
     "name": "stdout",
     "output_type": "stream",
     "text": [
      "10.0\n"
     ]
    },
    {
     "name": "stdout",
     "output_type": "stream",
     "text": [
      "10.0\n"
     ]
    },
    {
     "name": "stdout",
     "output_type": "stream",
     "text": [
      "                                 name  best_loss_test  best_acc_test\n",
      "0                     high.educ_group        0.042803       0.926230\n",
      "1                             married        0.080679       0.844262\n",
      "2                      race.ethnicity        0.092551       0.795082\n",
      "3                        income_group        0.246933       0.245902\n",
      "4                              female        0.086309       0.581967\n",
      "5                            BMI_norm        0.124641       2.191392\n",
      "6                            age_norm        1.135511      63.517502\n",
      "7                            vol_norm        0.466060       0.467646\n",
      "8                         weight_norm        0.152669      83.038238\n",
      "9                         height_norm        0.434174       4.315630\n",
      "10  nihtbx_fluidcomp_uncorrected_norm        0.810083       0.607612\n",
      "11      nihtbx_cryst_uncorrected_norm        0.988441       0.608385\n",
      "12    nihtbx_pattern_uncorrected_norm        0.723690       0.651291\n",
      "13    nihtbx_picture_uncorrected_norm        0.756469       0.693969\n",
      "14       nihtbx_list_uncorrected_norm        0.789235       0.624950\n",
      "15    nihtbx_flanker_uncorrected_norm        0.819641       0.674413\n",
      "16   nihtbx_picvocab_uncorrected_norm        1.096493       0.708520\n",
      "17   nihtbx_cardsort_uncorrected_norm        0.766628       0.658937\n",
      "18  nihtbx_totalcomp_uncorrected_norm        0.858943       0.531554\n",
      "19    nihtbx_reading_uncorrected_norm        0.787229       0.578545\n",
      "                                 name  best_loss_val  best_acc_val\n",
      "0                     high.educ_group       0.048879      0.836066\n",
      "1                             married       0.068737      0.819672\n",
      "2                      race.ethnicity       0.072091      0.795082\n",
      "3                        income_group       0.215974      0.360656\n",
      "4                              female       0.080973      0.540984\n",
      "5                            BMI_norm       0.101373      1.782302\n",
      "6                            age_norm       1.087536     60.833892\n",
      "7                            vol_norm       0.573477      0.575428\n",
      "8                         weight_norm       0.106100     57.708452\n",
      "9                         height_norm       0.411788      4.093124\n",
      "10  nihtbx_fluidcomp_uncorrected_norm       0.870066      0.652604\n",
      "11      nihtbx_cryst_uncorrected_norm       0.942331      0.580004\n",
      "12    nihtbx_pattern_uncorrected_norm       0.829517      0.746532\n",
      "13    nihtbx_picture_uncorrected_norm       1.001333      0.918601\n",
      "14       nihtbx_list_uncorrected_norm       0.726643      0.575386\n",
      "15    nihtbx_flanker_uncorrected_norm       0.924648      0.760815\n",
      "16   nihtbx_picvocab_uncorrected_norm       0.985579      0.636851\n",
      "17   nihtbx_cardsort_uncorrected_norm       0.773566      0.664900\n",
      "18  nihtbx_totalcomp_uncorrected_norm       0.784892      0.485728\n",
      "19    nihtbx_reading_uncorrected_norm       0.808686      0.594314\n",
      "Epoch 15, Loss: 53.197, Accuracy: 718.824, Val Loss: 18.654, Val Accuracy: 376.927, Time Model: 197.024, Time Data: 1.409\n",
      "Learning rate: <tf.Variable 'Adam/learning_rate:0' shape=() dtype=float32, numpy=0.00011111112>\n",
      "Epochs: 16\n"
     ]
    },
    {
     "name": "stdout",
     "output_type": "stream",
     "text": [
      "10.0\n"
     ]
    },
    {
     "name": "stdout",
     "output_type": "stream",
     "text": [
      "20.0\n"
     ]
    },
    {
     "name": "stdout",
     "output_type": "stream",
     "text": [
      "30.0\n"
     ]
    },
    {
     "name": "stdout",
     "output_type": "stream",
     "text": [
      "40.0\n"
     ]
    },
    {
     "name": "stdout",
     "output_type": "stream",
     "text": [
      "50.0\n"
     ]
    },
    {
     "name": "stdout",
     "output_type": "stream",
     "text": [
      "60.0\n"
     ]
    },
    {
     "name": "stdout",
     "output_type": "stream",
     "text": [
      "70.0\n"
     ]
    },
    {
     "name": "stdout",
     "output_type": "stream",
     "text": [
      "10.0\n"
     ]
    },
    {
     "name": "stdout",
     "output_type": "stream",
     "text": [
      "10.0\n"
     ]
    },
    {
     "name": "stdout",
     "output_type": "stream",
     "text": [
      "                                 name  best_loss_test  best_acc_test\n",
      "0                     high.educ_group        0.042803       0.926230\n",
      "1                             married        0.080679       0.844262\n",
      "2                      race.ethnicity        0.086838       0.795082\n",
      "3                        income_group        0.246933       0.245902\n",
      "4                              female        0.086309       0.581967\n",
      "5                            BMI_norm        0.124641       2.191392\n",
      "6                            age_norm        1.135511      63.517502\n",
      "7                            vol_norm        0.466060       0.467646\n",
      "8                         weight_norm        0.152669      83.038238\n",
      "9                         height_norm        0.434174       4.315630\n",
      "10  nihtbx_fluidcomp_uncorrected_norm        0.810083       0.607612\n",
      "11      nihtbx_cryst_uncorrected_norm        0.988441       0.608385\n",
      "12    nihtbx_pattern_uncorrected_norm        0.723690       0.651291\n",
      "13    nihtbx_picture_uncorrected_norm        0.756469       0.693969\n",
      "14       nihtbx_list_uncorrected_norm        0.789235       0.624950\n",
      "15    nihtbx_flanker_uncorrected_norm        0.819641       0.674413\n",
      "16   nihtbx_picvocab_uncorrected_norm        1.096493       0.708520\n",
      "17   nihtbx_cardsort_uncorrected_norm        0.766628       0.658937\n",
      "18  nihtbx_totalcomp_uncorrected_norm        0.858943       0.531554\n",
      "19    nihtbx_reading_uncorrected_norm        0.787229       0.578545\n",
      "                                 name  best_loss_val  best_acc_val\n",
      "0                     high.educ_group       0.048879      0.836066\n",
      "1                             married       0.068737      0.819672\n",
      "2                      race.ethnicity       0.059069      0.795082\n",
      "3                        income_group       0.215974      0.360656\n",
      "4                              female       0.080973      0.540984\n",
      "5                            BMI_norm       0.101373      1.782302\n",
      "6                            age_norm       1.087536     60.833892\n",
      "7                            vol_norm       0.573477      0.575428\n",
      "8                         weight_norm       0.106100     57.708452\n",
      "9                         height_norm       0.411788      4.093124\n",
      "10  nihtbx_fluidcomp_uncorrected_norm       0.870066      0.652604\n",
      "11      nihtbx_cryst_uncorrected_norm       0.942331      0.580004\n",
      "12    nihtbx_pattern_uncorrected_norm       0.829517      0.746532\n",
      "13    nihtbx_picture_uncorrected_norm       1.001333      0.918601\n",
      "14       nihtbx_list_uncorrected_norm       0.726643      0.575386\n",
      "15    nihtbx_flanker_uncorrected_norm       0.924648      0.760815\n",
      "16   nihtbx_picvocab_uncorrected_norm       0.985579      0.636851\n",
      "17   nihtbx_cardsort_uncorrected_norm       0.773566      0.664900\n",
      "18  nihtbx_totalcomp_uncorrected_norm       0.784892      0.485728\n",
      "19    nihtbx_reading_uncorrected_norm       0.808686      0.594314\n",
      "Epoch 16, Loss: 51.803, Accuracy: 689.332, Val Loss: 24.042, Val Accuracy: 772.311, Time Model: 197.016, Time Data: 1.352\n",
      "Epochs: 17\n"
     ]
    },
    {
     "name": "stdout",
     "output_type": "stream",
     "text": [
      "10.0\n"
     ]
    },
    {
     "name": "stdout",
     "output_type": "stream",
     "text": [
      "20.0\n"
     ]
    },
    {
     "name": "stdout",
     "output_type": "stream",
     "text": [
      "30.0\n"
     ]
    },
    {
     "name": "stdout",
     "output_type": "stream",
     "text": [
      "40.0\n"
     ]
    },
    {
     "name": "stdout",
     "output_type": "stream",
     "text": [
      "50.0\n"
     ]
    },
    {
     "name": "stdout",
     "output_type": "stream",
     "text": [
      "60.0\n"
     ]
    },
    {
     "name": "stdout",
     "output_type": "stream",
     "text": [
      "70.0\n"
     ]
    },
    {
     "name": "stdout",
     "output_type": "stream",
     "text": [
      "10.0\n"
     ]
    },
    {
     "name": "stdout",
     "output_type": "stream",
     "text": [
      "10.0\n"
     ]
    },
    {
     "name": "stdout",
     "output_type": "stream",
     "text": [
      "                                 name  best_loss_test  best_acc_test\n",
      "0                     high.educ_group        0.042803       0.926230\n",
      "1                             married        0.080679       0.844262\n",
      "2                      race.ethnicity        0.086838       0.795082\n",
      "3                        income_group        0.246933       0.245902\n",
      "4                              female        0.059879       0.827869\n",
      "5                            BMI_norm        0.124641       2.191392\n",
      "6                            age_norm        1.135511      63.517502\n",
      "7                            vol_norm        0.466060       0.467646\n",
      "8                         weight_norm        0.152669      83.038238\n",
      "9                         height_norm        0.434174       4.315630\n",
      "10  nihtbx_fluidcomp_uncorrected_norm        0.810083       0.607612\n",
      "11      nihtbx_cryst_uncorrected_norm        0.988441       0.608385\n",
      "12    nihtbx_pattern_uncorrected_norm        0.723690       0.651291\n",
      "13    nihtbx_picture_uncorrected_norm        0.756469       0.693969\n",
      "14       nihtbx_list_uncorrected_norm        0.789235       0.624950\n",
      "15    nihtbx_flanker_uncorrected_norm        0.819641       0.674413\n",
      "16   nihtbx_picvocab_uncorrected_norm        1.096493       0.708520\n",
      "17   nihtbx_cardsort_uncorrected_norm        0.766628       0.658937\n",
      "18  nihtbx_totalcomp_uncorrected_norm        0.858943       0.531554\n",
      "19    nihtbx_reading_uncorrected_norm        0.787229       0.578545\n",
      "                                 name  best_loss_val  best_acc_val\n",
      "0                     high.educ_group       0.048879      0.836066\n",
      "1                             married       0.068737      0.819672\n",
      "2                      race.ethnicity       0.059069      0.795082\n",
      "3                        income_group       0.215974      0.360656\n",
      "4                              female       0.053086      0.745902\n",
      "5                            BMI_norm       0.101373      1.782302\n",
      "6                            age_norm       1.087536     60.833892\n",
      "7                            vol_norm       0.573477      0.575428\n",
      "8                         weight_norm       0.106100     57.708452\n",
      "9                         height_norm       0.411788      4.093124\n",
      "10  nihtbx_fluidcomp_uncorrected_norm       0.870066      0.652604\n",
      "11      nihtbx_cryst_uncorrected_norm       0.942331      0.580004\n",
      "12    nihtbx_pattern_uncorrected_norm       0.829517      0.746532\n",
      "13    nihtbx_picture_uncorrected_norm       1.001333      0.918601\n",
      "14       nihtbx_list_uncorrected_norm       0.726643      0.575386\n",
      "15    nihtbx_flanker_uncorrected_norm       0.924648      0.760815\n",
      "16   nihtbx_picvocab_uncorrected_norm       0.985579      0.636851\n",
      "17   nihtbx_cardsort_uncorrected_norm       0.773566      0.664900\n",
      "18  nihtbx_totalcomp_uncorrected_norm       0.784892      0.485728\n",
      "19    nihtbx_reading_uncorrected_norm       0.808686      0.594314\n",
      "Epoch 17, Loss: 51.152, Accuracy: 678.284, Val Loss: 23.046, Val Accuracy: 597.556, Time Model: 197.165, Time Data: 1.326\n",
      "Epochs: 18\n"
     ]
    },
    {
     "name": "stdout",
     "output_type": "stream",
     "text": [
      "10.0\n"
     ]
    },
    {
     "name": "stdout",
     "output_type": "stream",
     "text": [
      "20.0\n"
     ]
    },
    {
     "name": "stdout",
     "output_type": "stream",
     "text": [
      "30.0\n"
     ]
    },
    {
     "name": "stdout",
     "output_type": "stream",
     "text": [
      "40.0\n"
     ]
    },
    {
     "name": "stdout",
     "output_type": "stream",
     "text": [
      "50.0\n"
     ]
    },
    {
     "name": "stdout",
     "output_type": "stream",
     "text": [
      "60.0\n"
     ]
    },
    {
     "name": "stdout",
     "output_type": "stream",
     "text": [
      "70.0\n"
     ]
    },
    {
     "name": "stdout",
     "output_type": "stream",
     "text": [
      "10.0\n"
     ]
    },
    {
     "name": "stdout",
     "output_type": "stream",
     "text": [
      "10.0\n"
     ]
    },
    {
     "name": "stdout",
     "output_type": "stream",
     "text": [
      "                                 name  best_loss_test  best_acc_test\n",
      "0                     high.educ_group        0.042803       0.926230\n",
      "1                             married        0.080679       0.844262\n",
      "2                      race.ethnicity        0.086838       0.795082\n",
      "3                        income_group        0.246933       0.245902\n",
      "4                              female        0.056324       0.819672\n",
      "5                            BMI_norm        0.124641       2.191392\n",
      "6                            age_norm        1.135511      63.517502\n",
      "7                            vol_norm        0.466060       0.467646\n",
      "8                         weight_norm        0.152669      83.038238\n",
      "9                         height_norm        0.434174       4.315630\n",
      "10  nihtbx_fluidcomp_uncorrected_norm        0.810083       0.607612\n",
      "11      nihtbx_cryst_uncorrected_norm        0.988441       0.608385\n",
      "12    nihtbx_pattern_uncorrected_norm        0.723690       0.651291\n",
      "13    nihtbx_picture_uncorrected_norm        0.756469       0.693969\n",
      "14       nihtbx_list_uncorrected_norm        0.789235       0.624950\n",
      "15    nihtbx_flanker_uncorrected_norm        0.819641       0.674413\n",
      "16   nihtbx_picvocab_uncorrected_norm        1.096493       0.708520\n",
      "17   nihtbx_cardsort_uncorrected_norm        0.766628       0.658937\n",
      "18  nihtbx_totalcomp_uncorrected_norm        0.858943       0.531554\n",
      "19    nihtbx_reading_uncorrected_norm        0.787229       0.578545\n",
      "                                 name  best_loss_val  best_acc_val\n",
      "0                     high.educ_group       0.048879      0.836066\n",
      "1                             married       0.068737      0.819672\n",
      "2                      race.ethnicity       0.059069      0.795082\n",
      "3                        income_group       0.215974      0.360656\n",
      "4                              female       0.050714      0.762295\n",
      "5                            BMI_norm       0.101373      1.782302\n",
      "6                            age_norm       1.087536     60.833892\n",
      "7                            vol_norm       0.573477      0.575428\n",
      "8                         weight_norm       0.106100     57.708452\n",
      "9                         height_norm       0.411788      4.093124\n",
      "10  nihtbx_fluidcomp_uncorrected_norm       0.870066      0.652604\n",
      "11      nihtbx_cryst_uncorrected_norm       0.942331      0.580004\n",
      "12    nihtbx_pattern_uncorrected_norm       0.829517      0.746532\n",
      "13    nihtbx_picture_uncorrected_norm       1.001333      0.918601\n",
      "14       nihtbx_list_uncorrected_norm       0.726643      0.575386\n",
      "15    nihtbx_flanker_uncorrected_norm       0.924648      0.760815\n",
      "16   nihtbx_picvocab_uncorrected_norm       0.985579      0.636851\n",
      "17   nihtbx_cardsort_uncorrected_norm       0.773566      0.664900\n",
      "18  nihtbx_totalcomp_uncorrected_norm       0.784892      0.485728\n",
      "19    nihtbx_reading_uncorrected_norm       0.808686      0.594314\n",
      "Epoch 18, Loss: 50.662, Accuracy: 671.106, Val Loss: 20.969, Val Accuracy: 591.242, Time Model: 196.975, Time Data: 1.325\n",
      "Epochs: 19\n"
     ]
    },
    {
     "name": "stdout",
     "output_type": "stream",
     "text": [
      "10.0\n"
     ]
    },
    {
     "name": "stdout",
     "output_type": "stream",
     "text": [
      "20.0\n"
     ]
    },
    {
     "name": "stdout",
     "output_type": "stream",
     "text": [
      "30.0\n"
     ]
    },
    {
     "name": "stdout",
     "output_type": "stream",
     "text": [
      "40.0\n"
     ]
    },
    {
     "name": "stdout",
     "output_type": "stream",
     "text": [
      "50.0\n"
     ]
    },
    {
     "name": "stdout",
     "output_type": "stream",
     "text": [
      "60.0\n"
     ]
    },
    {
     "name": "stdout",
     "output_type": "stream",
     "text": [
      "70.0\n"
     ]
    },
    {
     "name": "stdout",
     "output_type": "stream",
     "text": [
      "10.0\n"
     ]
    },
    {
     "name": "stdout",
     "output_type": "stream",
     "text": [
      "10.0\n"
     ]
    },
    {
     "name": "stdout",
     "output_type": "stream",
     "text": [
      "                                 name  best_loss_test  best_acc_test\n",
      "0                     high.educ_group        0.042803       0.926230\n",
      "1                             married        0.080679       0.844262\n",
      "2                      race.ethnicity        0.086838       0.795082\n",
      "3                        income_group        0.246933       0.245902\n",
      "4                              female        0.056324       0.819672\n",
      "5                            BMI_norm        0.124641       2.191392\n",
      "6                            age_norm        1.135511      63.517502\n",
      "7                            vol_norm        0.466060       0.467646\n",
      "8                         weight_norm        0.152669      83.038238\n",
      "9                         height_norm        0.434174       4.315630\n",
      "10  nihtbx_fluidcomp_uncorrected_norm        0.810083       0.607612\n",
      "11      nihtbx_cryst_uncorrected_norm        0.988441       0.608385\n",
      "12    nihtbx_pattern_uncorrected_norm        0.723690       0.651291\n",
      "13    nihtbx_picture_uncorrected_norm        0.756469       0.693969\n",
      "14       nihtbx_list_uncorrected_norm        0.789235       0.624950\n",
      "15    nihtbx_flanker_uncorrected_norm        0.819641       0.674413\n",
      "16   nihtbx_picvocab_uncorrected_norm        1.096493       0.708520\n",
      "17   nihtbx_cardsort_uncorrected_norm        0.766628       0.658937\n",
      "18  nihtbx_totalcomp_uncorrected_norm        0.858943       0.531554\n",
      "19    nihtbx_reading_uncorrected_norm        0.787229       0.578545\n",
      "                                 name  best_loss_val  best_acc_val\n",
      "0                     high.educ_group       0.048879      0.836066\n",
      "1                             married       0.068737      0.819672\n",
      "2                      race.ethnicity       0.059069      0.795082\n",
      "3                        income_group       0.215974      0.360656\n",
      "4                              female       0.050714      0.762295\n",
      "5                            BMI_norm       0.101373      1.782302\n",
      "6                            age_norm       1.087536     60.833892\n",
      "7                            vol_norm       0.573477      0.575428\n",
      "8                         weight_norm       0.106100     57.708452\n",
      "9                         height_norm       0.411788      4.093124\n",
      "10  nihtbx_fluidcomp_uncorrected_norm       0.870066      0.652604\n",
      "11      nihtbx_cryst_uncorrected_norm       0.942331      0.580004\n",
      "12    nihtbx_pattern_uncorrected_norm       0.829517      0.746532\n",
      "13    nihtbx_picture_uncorrected_norm       1.001333      0.918601\n",
      "14       nihtbx_list_uncorrected_norm       0.726643      0.575386\n",
      "15    nihtbx_flanker_uncorrected_norm       0.924648      0.760815\n",
      "16   nihtbx_picvocab_uncorrected_norm       0.985579      0.636851\n",
      "17   nihtbx_cardsort_uncorrected_norm       0.773566      0.664900\n",
      "18  nihtbx_totalcomp_uncorrected_norm       0.784892      0.485728\n",
      "19    nihtbx_reading_uncorrected_norm       0.808686      0.594314\n",
      "Epoch 19, Loss: 50.119, Accuracy: 662.064, Val Loss: 23.813, Val Accuracy: 497.949, Time Model: 197.089, Time Data: 1.344\n"
     ]
    }
   ],
   "source": [
    "decoder = np.vectorize(lambda x: x.decode('UTF-8'))\n",
    "template = 'Epoch {0}, Loss: {1:.3f}, Accuracy: {2:.3f}, Val Loss: {3:.3f}, Val Accuracy: {4:.3f}, Time Model: {5:.3f}, Time Data: {6:.3f}'\n",
    "for col in [0]:\n",
    "  log_textfile(path_output + modelname + 'multitask_test' + '.log', cat_cols),\n",
    "  log_textfile(path_output + modelname + 'multitask_test' + '.log', num_cols)\n",
    "  loss_object = tf.keras.losses.SparseCategoricalCrossentropy()\n",
    "  optimizer = tf.keras.optimizers.Adam(lr = 0.001)\n",
    "  model = Model(cat_cols, num_cols)\n",
    "  df_best = None\n",
    "  for e in range(20):\n",
    "    log_textfile(path_output + modelname + 'multitask_test' + '.log', 'Epochs: ' + str(e))\n",
    "    loss = tf.Variable(0.)\n",
    "    acc = tf.Variable(0.) \n",
    "    val_loss = tf.Variable(0.)\n",
    "    val_acc = tf.Variable(0.)\n",
    "    test_loss = tf.Variable(0.)\n",
    "    test_acc = tf.Variable(0.)\n",
    "    tf.keras.backend.set_learning_phase(True)\n",
    "    train_out_loss, train_out_acc, n, time_model, time_data = epoch(train_iter, train_df, model, optimizer, cat_cols, num_cols, norm_dict)\n",
    "    tf.keras.backend.set_learning_phase(False)\n",
    "    val_out_loss, val_out_acc, n, _, _ = epoch(val_iter, val_df, model, None, cat_cols, num_cols, norm_dict)\n",
    "    test_out_loss, test_out_acc, n, _, _ = epoch(test_iter, test_df, model, None, cat_cols, num_cols, norm_dict)\n",
    "    loss, acc, _ = format_output(train_out_loss, train_out_acc, n, list(cat_cols.keys())+num_cols)\n",
    "    val_loss, val_acc, df_val = format_output(val_out_loss, val_out_acc, n, list(cat_cols.keys())+num_cols, print_bl=False)\n",
    "    test_loss, test_acc, df_test = format_output(test_out_loss, test_out_acc, n, list(cat_cols.keys())+num_cols, print_bl=False)\n",
    "    df_val.columns = ['name', 'cur_loss_val', 'cur_acc_val']\n",
    "    df_test.columns = ['name', 'cur_loss_test', 'cur_acc_test']\n",
    "    if e == 0:\n",
    "      df_best = pd.merge(df_test, df_val, how='left', left_on='name', right_on='name')\n",
    "      df_best.columns = ['name', 'best_loss_test', 'best_acc_test', 'best_loss_val', 'best_acc_val']\n",
    "    df_best = best_val(df_best, df_val, df_test)\n",
    "    print(df_best[['name', 'best_loss_test', 'best_acc_test']])\n",
    "    print(df_best[['name', 'best_loss_val', 'best_acc_val']])\n",
    "    log_textfile(path_output +  modelname + 'multitask_test' + '.log', template.format(e, loss, acc, val_loss, val_acc, time_model, time_data))\n",
    "    if e in [10, 15]:\n",
    "      optimizer.lr = optimizer.lr/3\n",
    "      log_textfile(path_output +  modelname + 'multitask_test' + '.log', 'Learning rate: ' + str(optimizer.lr))\n",
    "    df_best.to_csv(path_output +  modelname + 'multitask_test' + '.csv')"
   ]
  },
  {
   "cell_type": "code",
   "execution_count": 13,
   "metadata": {
    "papermill": {
     "duration": 0.335963,
     "end_time": "2019-11-15T12:11:34.566557",
     "exception": true,
     "start_time": "2019-11-15T12:11:34.230594",
     "status": "failed"
    },
    "tags": []
   },
   "outputs": [
    {
     "ename": "NameError",
     "evalue": "name 'error' is not defined",
     "output_type": "error",
     "traceback": [
      "\u001b[0;31m---------------------------------------------------------------------------\u001b[0m",
      "\u001b[0;31mNameError\u001b[0m                                 Traceback (most recent call last)",
      "\u001b[0;32m<ipython-input-13-ded28046d863>\u001b[0m in \u001b[0;36m<module>\u001b[0;34m\u001b[0m\n\u001b[0;32m----> 1\u001b[0;31m \u001b[0merror\u001b[0m\u001b[0;34m\u001b[0m\u001b[0m\n\u001b[0m",
      "\u001b[0;31mNameError\u001b[0m: name 'error' is not defined"
     ]
    }
   ],
   "source": [
    "error"
   ]
  },
  {
   "cell_type": "code",
   "execution_count": null,
   "metadata": {
    "papermill": {
     "duration": null,
     "end_time": null,
     "exception": null,
     "start_time": null,
     "status": "pending"
    },
    "tags": []
   },
   "outputs": [],
   "source": [
    "batch = next(iter(train_iter))"
   ]
  },
  {
   "cell_type": "code",
   "execution_count": null,
   "metadata": {
    "papermill": {
     "duration": null,
     "end_time": null,
     "exception": null,
     "start_time": null,
     "status": "pending"
    },
    "tags": []
   },
   "outputs": [],
   "source": [
    "t1 = (tf.cast(batch['t1'], tf.float32)-t1_mean)/t1_std\n",
    "t2 = (batch['t2']-t2_mean)/t2_std\n",
    "ad = batch['ad']\n",
    "ad = tf.where(tf.math.is_nan(ad), tf.zeros_like(ad), ad)\n",
    "ad = (ad-ad_mean)/ad_std\n",
    "fa = batch['fa']\n",
    "fa = tf.where(tf.math.is_nan(fa), tf.zeros_like(fa), fa)\n",
    "fa = (fa-fa_mean)/fa_std\n",
    "md = batch['md']\n",
    "md = tf.where(tf.math.is_nan(md), tf.zeros_like(md), md)\n",
    "md = (md-md_mean)/md_std\n",
    "rd = batch['rd']\n",
    "rd = tf.where(tf.math.is_nan(rd), tf.zeros_like(rd), rd)\n",
    "rd = (rd-rd_mean)/rd_std\n",
    "#subjectid = decoder(batch['subjectid'])\n",
    "#y = get_labels(df, subjectid, list(cat_cols.keys())+num_cols)\n",
    "#X = tf.concat([t1, t2, ad, fa, md, rd], axis=4)\n",
    "X = tf.concat([t1, t2], axis=4)    "
   ]
  },
  {
   "cell_type": "code",
   "execution_count": null,
   "metadata": {
    "papermill": {
     "duration": null,
     "end_time": null,
     "exception": null,
     "start_time": null,
     "status": "pending"
    },
    "tags": []
   },
   "outputs": [],
   "source": [
    "tf.keras.backend.set_learning_phase(True)\n",
    "model(X)['female']"
   ]
  },
  {
   "cell_type": "code",
   "execution_count": null,
   "metadata": {
    "papermill": {
     "duration": null,
     "end_time": null,
     "exception": null,
     "start_time": null,
     "status": "pending"
    },
    "tags": []
   },
   "outputs": [],
   "source": [
    "tf.keras.backend.set_learning_phase(False)\n",
    "model(X)['female']"
   ]
  },
  {
   "cell_type": "code",
   "execution_count": null,
   "metadata": {
    "papermill": {
     "duration": null,
     "end_time": null,
     "exception": null,
     "start_time": null,
     "status": "pending"
    },
    "tags": []
   },
   "outputs": [],
   "source": [
    "mean_std = [x.name for x in model.non_trainable_variables if ('batch_norm') in x.name and ('mean' in x.name or 'variance' in x.name)]"
   ]
  },
  {
   "cell_type": "code",
   "execution_count": null,
   "metadata": {
    "papermill": {
     "duration": null,
     "end_time": null,
     "exception": null,
     "start_time": null,
     "status": "pending"
    },
    "tags": []
   },
   "outputs": [],
   "source": [
    "model = Model(cat_cols, num_cols)"
   ]
  },
  {
   "cell_type": "code",
   "execution_count": null,
   "metadata": {
    "papermill": {
     "duration": null,
     "end_time": null,
     "exception": null,
     "start_time": null,
     "status": "pending"
    },
    "tags": []
   },
   "outputs": [],
   "source": [
    "model.non_trainable_variables "
   ]
  },
  {
   "cell_type": "code",
   "execution_count": null,
   "metadata": {
    "papermill": {
     "duration": null,
     "end_time": null,
     "exception": null,
     "start_time": null,
     "status": "pending"
    },
    "tags": []
   },
   "outputs": [],
   "source": []
  }
 ],
 "metadata": {
  "accelerator": "GPU",
  "colab": {
   "collapsed_sections": [],
   "machine_shape": "hm",
   "name": "06_SimpleDL_MultiTask_Valid.ipynb",
   "provenance": []
  },
  "kernelspec": {
   "display_name": "Python 3",
   "language": "python",
   "name": "python3"
  },
  "language_info": {
   "codemirror_mode": {
    "name": "ipython",
    "version": 3
   },
   "file_extension": ".py",
   "mimetype": "text/x-python",
   "name": "python",
   "nbconvert_exporter": "python",
   "pygments_lexer": "ipython3",
   "version": "3.5.3"
  },
  "papermill": {
   "duration": 4432.329939,
   "end_time": "2019-11-15T12:11:38.477222",
   "environment_variables": {},
   "exception": true,
   "input_path": "RunModels_bck_densenet_t1t2_out_site16_norm.ipynb",
   "output_path": "RunModels_bck_densenet_t1t2_out_site16_norm_out.ipynb",
   "parameters": {},
   "start_time": "2019-11-15T10:57:46.147283",
   "version": "1.2.1"
  }
 },
 "nbformat": 4,
 "nbformat_minor": 1
}